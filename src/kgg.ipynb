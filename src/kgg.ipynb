{
 "cells": [
  {
   "cell_type": "markdown",
   "id": "95894b68",
   "metadata": {},
   "source": [
    "# KG Generator Tool"
   ]
  },
  {
   "cell_type": "markdown",
   "id": "e6cd5418",
   "metadata": {},
   "source": [
    "## Let's get started by importing relevant libraries"
   ]
  },
  {
   "cell_type": "code",
   "execution_count": 2,
   "id": "b41fb83b",
   "metadata": {},
   "outputs": [],
   "source": [
    "from utils import *\n",
    "from kg_gen_4 import *"
   ]
  },
  {
   "cell_type": "markdown",
   "id": "7556a3fb",
   "metadata": {},
   "source": [
    "## Please execute following cells"
   ]
  },
  {
   "cell_type": "code",
   "execution_count": 3,
   "id": "65dd794b",
   "metadata": {
    "scrolled": false
   },
   "outputs": [
    {
     "data": {
      "image/png": "[encoded data removed]",
      "text/plain": [
       "<Figure size 300x300 with 1 Axes>"
      ]
     },
     "metadata": {},
     "output_type": "display_data"
    },
    {
     "data": {
      "text/markdown": [
       "<span style='color:blue'>**Welcome to the KG Generator tool. In the following steps, we will need some inputs from your side.**</span>"
      ],
      "text/plain": [
       "<IPython.core.display.Markdown object>"
      ]
     },
     "metadata": {},
     "output_type": "display_data"
    },
    {
     "name": "stdout",
     "output_type": "stream",
     "text": [
      "Please enter the disease you are interested in and we will try to find the best matches for you.\n",
      "\n",
      "Input: als\n"
     ]
    },
    {
     "data": {
      "text/html": [
       "<table border=\"1\" class=\"dataframe\">\n",
       "  <thead>\n",
       "    <tr style=\"text-align: center;\">\n",
       "      <th>index</th>\n",
       "      <th>id</th>\n",
       "      <th>name</th>\n",
       "    </tr>\n",
       "  </thead>\n",
       "  <tbody>\n",
       "    <tr>\n",
       "      <td>0</td>\n",
       "      <td>MONDO_0004976</td>\n",
       "      <td>amyotrophic lateral sclerosis</td>\n",
       "    </tr>\n",
       "    <tr>\n",
       "      <td>1</td>\n",
       "      <td>MONDO_0100227</td>\n",
       "      <td>ALS2-related motor neuron disease</td>\n",
       "    </tr>\n",
       "    <tr>\n",
       "      <td>2</td>\n",
       "      <td>MONDO_0008763</td>\n",
       "      <td>Alstrom syndrome</td>\n",
       "    </tr>\n",
       "    <tr>\n",
       "      <td>3</td>\n",
       "      <td>MONDO_0008780</td>\n",
       "      <td>amyotrophic lateral sclerosis type 2, juvenile</td>\n",
       "    </tr>\n",
       "    <tr>\n",
       "      <td>4</td>\n",
       "      <td>MONDO_0017161</td>\n",
       "      <td>frontotemporal dementia with motor neuron disease</td>\n",
       "    </tr>\n",
       "    <tr>\n",
       "      <td>5</td>\n",
       "      <td>MONDO_0011223</td>\n",
       "      <td>amyotrophic lateral sclerosis type 4</td>\n",
       "    </tr>\n",
       "    <tr>\n",
       "      <td>6</td>\n",
       "      <td>MONDO_0012945</td>\n",
       "      <td>amyotrophic lateral sclerosis type 11</td>\n",
       "    </tr>\n",
       "    <tr>\n",
       "      <td>7</td>\n",
       "      <td>MONDO_0013891</td>\n",
       "      <td>amyotrophic lateral sclerosis type 18</td>\n",
       "    </tr>\n",
       "    <tr>\n",
       "      <td>8</td>\n",
       "      <td>MONDO_0011196</td>\n",
       "      <td>amyotrophic lateral sclerosis type 5</td>\n",
       "    </tr>\n",
       "    <tr>\n",
       "      <td>9</td>\n",
       "      <td>MONDO_0030885</td>\n",
       "      <td>amyotrophic lateral sclerosis 26 with or without frontotemporal dementia</td>\n",
       "    </tr>\n",
       "    <tr>\n",
       "      <td>10</td>\n",
       "      <td>MONDO_0012077</td>\n",
       "      <td>amyotrophic lateral sclerosis type 8</td>\n",
       "    </tr>\n",
       "    <tr>\n",
       "      <td>11</td>\n",
       "      <td>MONDO_0007105</td>\n",
       "      <td>frontotemporal dementia and/or amyotrophic lateral sclerosis 1</td>\n",
       "    </tr>\n",
       "    <tr>\n",
       "      <td>12</td>\n",
       "      <td>Orphanet_93957</td>\n",
       "      <td>Limb dystonia</td>\n",
       "    </tr>\n",
       "    <tr>\n",
       "      <td>13</td>\n",
       "      <td>EFO_0004627</td>\n",
       "      <td>IGF-1 measurement</td>\n",
       "    </tr>\n",
       "    <tr>\n",
       "      <td>14</td>\n",
       "      <td>MONDO_0018770</td>\n",
       "      <td>Jeune syndrome</td>\n",
       "    </tr>\n",
       "    <tr>\n",
       "      <td>15</td>\n",
       "      <td>MONDO_0010459</td>\n",
       "      <td>amyotrophic lateral sclerosis type 15</td>\n",
       "    </tr>\n",
       "    <tr>\n",
       "      <td>16</td>\n",
       "      <td>MONDO_0007104</td>\n",
       "      <td>amyotrophic lateral sclerosis-parkinsonism-dementia complex</td>\n",
       "    </tr>\n",
       "    <tr>\n",
       "      <td>17</td>\n",
       "      <td>EFO_1001972</td>\n",
       "      <td>undifferentiated pleomorphic sarcoma</td>\n",
       "    </tr>\n",
       "    <tr>\n",
       "      <td>18</td>\n",
       "      <td>MONDO_0024257</td>\n",
       "      <td>hereditary motor neuron disease</td>\n",
       "    </tr>\n",
       "    <tr>\n",
       "      <td>19</td>\n",
       "      <td>MONDO_0003182</td>\n",
       "      <td>anterior horn disorder</td>\n",
       "    </tr>\n",
       "  </tbody>\n",
       "</table>"
      ],
      "text/plain": [
       "<IPython.core.display.HTML object>"
      ]
     },
     "metadata": {},
     "output_type": "display_data"
    },
    {
     "data": {
      "text/markdown": [
       "<span style='color:None'>**Here you go! Hopefully your disease of interest is in the list. If so, let's get started.**</span>"
      ],
      "text/plain": [
       "<IPython.core.display.Markdown object>"
      ]
     },
     "metadata": {},
     "output_type": "display_data"
    },
    {
     "name": "stdout",
     "output_type": "stream",
     "text": [
      "Please enter the index value(s) of your disease(s) of interest. For multiple, separate by a space. Input: 0\n",
      "\n",
      "\n",
      "Please enter the clinical trial phase of chemicals which should be identified by the workflow. Use a number between 1 (early phase) and 4 (FDA approved). For example, if you use 3, the KG will fetch chemicals that are in phase 3. Also, remember that lower the input value, higher will be the number of identified chemicals and therefore the running time of workflow also increases.\n",
      "\n",
      "\n",
      "Your desired clinical trial phase: 4\n",
      "\n",
      "\n",
      "Please provide a name for you KG. Input: als_1001\n",
      "\n",
      "\n",
      "Now fetching real-time data from databases. Be patient!\n",
      "\n",
      "\n",
      "\u001b[K Fetching Disease-specific Drugs \n",
      "\u001b[K Fetching Disease-specific Proteins \n",
      "\u001b[K Fetching SNPs. Can take a while!\n",
      "We have identified 1161 proteins (Swiss-Prot) associated with the disease. Please note that the proteins identified may not be unique if you combined two or more diseases. Following is a histogram that shows distribution of proteins based on scores provided by OpenTargets. The scores are influenced by various factors such as genetic associations, expression, mutations, known pathways, targeting drugs and so on.\n",
      "\n",
      "A total of 1160 unique proteins have been identified.\n",
      "\n",
      "\n",
      "Displaying top 20 genes\n"
     ]
    },
    {
     "data": {
      "text/html": [
       "<table border=\"1\" class=\"dataframe\">\n",
       "  <thead>\n",
       "    <tr style=\"text-align: center;\">\n",
       "      <th>Protein</th>\n",
       "      <th>ENSG</th>\n",
       "      <th>UniProt</th>\n",
       "      <th>Source</th>\n",
       "      <th>Score</th>\n",
       "      <th>disease_id</th>\n",
       "    </tr>\n",
       "  </thead>\n",
       "  <tbody>\n",
       "    <tr>\n",
       "      <td>SOD1</td>\n",
       "      <td>ENSG00000142168</td>\n",
       "      <td>P00441</td>\n",
       "      <td>uniprot_swissprot</td>\n",
       "      <td>0.876</td>\n",
       "      <td>MONDO_0004976</td>\n",
       "    </tr>\n",
       "    <tr>\n",
       "      <td>TARDBP</td>\n",
       "      <td>ENSG00000120948</td>\n",
       "      <td>Q13148</td>\n",
       "      <td>uniprot_swissprot</td>\n",
       "      <td>0.851</td>\n",
       "      <td>MONDO_0004976</td>\n",
       "    </tr>\n",
       "    <tr>\n",
       "      <td>FUS</td>\n",
       "      <td>ENSG00000089280</td>\n",
       "      <td>P35637</td>\n",
       "      <td>uniprot_swissprot</td>\n",
       "      <td>0.842</td>\n",
       "      <td>MONDO_0004976</td>\n",
       "    </tr>\n",
       "    <tr>\n",
       "      <td>UBQLN2</td>\n",
       "      <td>ENSG00000188021</td>\n",
       "      <td>Q9UHD9</td>\n",
       "      <td>uniprot_swissprot</td>\n",
       "      <td>0.839</td>\n",
       "      <td>MONDO_0004976</td>\n",
       "    </tr>\n",
       "    <tr>\n",
       "      <td>VCP</td>\n",
       "      <td>ENSG00000165280</td>\n",
       "      <td>P55072</td>\n",
       "      <td>uniprot_swissprot</td>\n",
       "      <td>0.812</td>\n",
       "      <td>MONDO_0004976</td>\n",
       "    </tr>\n",
       "    <tr>\n",
       "      <td>TBK1</td>\n",
       "      <td>ENSG00000183735</td>\n",
       "      <td>Q9UHD2</td>\n",
       "      <td>uniprot_swissprot</td>\n",
       "      <td>0.807</td>\n",
       "      <td>MONDO_0004976</td>\n",
       "    </tr>\n",
       "    <tr>\n",
       "      <td>DCTN1</td>\n",
       "      <td>ENSG00000204843</td>\n",
       "      <td>Q14203</td>\n",
       "      <td>uniprot_swissprot</td>\n",
       "      <td>0.806</td>\n",
       "      <td>MONDO_0004976</td>\n",
       "    </tr>\n",
       "    <tr>\n",
       "      <td>SETX</td>\n",
       "      <td>ENSG00000107290</td>\n",
       "      <td>Q7Z333</td>\n",
       "      <td>uniprot_swissprot</td>\n",
       "      <td>0.794</td>\n",
       "      <td>MONDO_0004976</td>\n",
       "    </tr>\n",
       "    <tr>\n",
       "      <td>OPTN</td>\n",
       "      <td>ENSG00000123240</td>\n",
       "      <td>Q96CV9</td>\n",
       "      <td>uniprot_swissprot</td>\n",
       "      <td>0.791</td>\n",
       "      <td>MONDO_0004976</td>\n",
       "    </tr>\n",
       "    <tr>\n",
       "      <td>PFN1</td>\n",
       "      <td>ENSG00000108518</td>\n",
       "      <td>P07737</td>\n",
       "      <td>uniprot_swissprot</td>\n",
       "      <td>0.785</td>\n",
       "      <td>MONDO_0004976</td>\n",
       "    </tr>\n",
       "    <tr>\n",
       "      <td>ALS2</td>\n",
       "      <td>ENSG00000003393</td>\n",
       "      <td>Q96Q42</td>\n",
       "      <td>uniprot_swissprot</td>\n",
       "      <td>0.784</td>\n",
       "      <td>MONDO_0004976</td>\n",
       "    </tr>\n",
       "    <tr>\n",
       "      <td>FIG4</td>\n",
       "      <td>ENSG00000112367</td>\n",
       "      <td>Q92562</td>\n",
       "      <td>uniprot_swissprot</td>\n",
       "      <td>0.772</td>\n",
       "      <td>MONDO_0004976</td>\n",
       "    </tr>\n",
       "    <tr>\n",
       "      <td>SPG11</td>\n",
       "      <td>ENSG00000104133</td>\n",
       "      <td>Q96JI7</td>\n",
       "      <td>uniprot_swissprot</td>\n",
       "      <td>0.768</td>\n",
       "      <td>MONDO_0004976</td>\n",
       "    </tr>\n",
       "    <tr>\n",
       "      <td>VAPB</td>\n",
       "      <td>ENSG00000124164</td>\n",
       "      <td>O95292</td>\n",
       "      <td>uniprot_swissprot</td>\n",
       "      <td>0.730</td>\n",
       "      <td>MONDO_0004976</td>\n",
       "    </tr>\n",
       "    <tr>\n",
       "      <td>SQSTM1</td>\n",
       "      <td>ENSG00000161011</td>\n",
       "      <td>Q13501</td>\n",
       "      <td>uniprot_swissprot</td>\n",
       "      <td>0.722</td>\n",
       "      <td>MONDO_0004976</td>\n",
       "    </tr>\n",
       "    <tr>\n",
       "      <td>SIGMAR1</td>\n",
       "      <td>ENSG00000147955</td>\n",
       "      <td>Q99720</td>\n",
       "      <td>uniprot_swissprot</td>\n",
       "      <td>0.721</td>\n",
       "      <td>MONDO_0004976</td>\n",
       "    </tr>\n",
       "    <tr>\n",
       "      <td>ERBB4</td>\n",
       "      <td>ENSG00000178568</td>\n",
       "      <td>Q15303</td>\n",
       "      <td>uniprot_swissprot</td>\n",
       "      <td>0.717</td>\n",
       "      <td>MONDO_0004976</td>\n",
       "    </tr>\n",
       "    <tr>\n",
       "      <td>CHMP2B</td>\n",
       "      <td>ENSG00000083937</td>\n",
       "      <td>Q9UQN3</td>\n",
       "      <td>uniprot_swissprot</td>\n",
       "      <td>0.715</td>\n",
       "      <td>MONDO_0004976</td>\n",
       "    </tr>\n",
       "    <tr>\n",
       "      <td>PRPH</td>\n",
       "      <td>ENSG00000135406</td>\n",
       "      <td>P41219</td>\n",
       "      <td>uniprot_swissprot</td>\n",
       "      <td>0.687</td>\n",
       "      <td>MONDO_0004976</td>\n",
       "    </tr>\n",
       "    <tr>\n",
       "      <td>ATXN2</td>\n",
       "      <td>ENSG00000204842</td>\n",
       "      <td>Q99700</td>\n",
       "      <td>uniprot_swissprot</td>\n",
       "      <td>0.676</td>\n",
       "      <td>MONDO_0004976</td>\n",
       "    </tr>\n",
       "  </tbody>\n",
       "</table>"
      ],
      "text/plain": [
       "<IPython.core.display.HTML object>"
      ]
     },
     "metadata": {},
     "output_type": "display_data"
    },
    {
     "data": {
      "image/png": "[encoded data removed]",
      "text/plain": [
       "<Figure size 640x480 with 1 Axes>"
      ]
     },
     "metadata": {},
     "output_type": "display_data"
    },
    {
     "name": "stdout",
     "output_type": "stream",
     "text": [
      "\n",
      "\n",
      "We recommend taking a threshold above 0.3 to exclude loosely associated proteins. \n",
      "Please enter your desired threshold: 0.85\n",
      "\n",
      "\n",
      "Alright, we are good to go now. Your KG is now being generated! Sit back and relax!!\n",
      "\n",
      " Total no. of proteins:  2\n",
      "\n",
      "   Protein       ENSG       UniProt       Source        Score   disease_id  \n",
      "0    SOD1  ENSG00000142168  P00441  uniprot_swissprot  0.876  MONDO_0004976\n",
      "1  TARDBP  ENSG00000120948  Q13148  uniprot_swissprot  0.851  MONDO_0004976\n"
     ]
    },
    {
     "data": {
      "application/vnd.jupyter.widget-view+json": {
       "model_id": "80a939f48e2e407e96e3b7a9d262e86a",
       "version_major": 2,
       "version_minor": 0
      },
      "text/plain": [
       "Fetching Protein-related info:   0%|          | 0/2 [00:00<?, ?it/s]"
      ]
     },
     "metadata": {},
     "output_type": "display_data"
    },
    {
     "name": "stdout",
     "output_type": "stream",
     "text": [
      "A total of 3 drugs have been identified. Now fetching relevant data\n"
     ]
    },
    {
     "data": {
      "application/vnd.jupyter.widget-view+json": {
       "model_id": "7d900a2d69d1431581fe1fbc19456471",
       "version_major": 2,
       "version_minor": 0
      },
      "text/plain": [
       "Retrieving mechanisms from ChEMBL:   0%|          | 0/3 [00:00<?, ?it/s]"
      ]
     },
     "metadata": {},
     "output_type": "display_data"
    },
    {
     "data": {
      "application/vnd.jupyter.widget-view+json": {
       "model_id": "734827f3b9e44fa4bfaa0922551023b9",
       "version_major": 2,
       "version_minor": 0
      },
      "text/plain": [
       "Retrieving bioassays from ChEMBL:   0%|          | 0/3 [00:00<?, ?it/s]"
      ]
     },
     "metadata": {},
     "output_type": "display_data"
    },
    {
     "data": {
      "application/vnd.jupyter.widget-view+json": {
       "model_id": "b9683d0ff3c140e28d849b7ae5947841",
       "version_major": 2,
       "version_minor": 0
      },
      "text/plain": [
       "Filtering UniProt proteins from ChEMBL:   0%|          | 0/2 [00:00<?, ?it/s]"
      ]
     },
     "metadata": {},
     "output_type": "display_data"
    },
    {
     "data": {
      "application/vnd.jupyter.widget-view+json": {
       "model_id": "def15fa60fa54a02a2ca562cc6170239",
       "version_major": 2,
       "version_minor": 0
      },
      "text/plain": [
       "Filtering human proteins from ChEMBL:   0%|          | 0/2 [00:00<?, ?it/s]"
      ]
     },
     "metadata": {},
     "output_type": "display_data"
    },
    {
     "data": {
      "application/vnd.jupyter.widget-view+json": {
       "model_id": "780aed3b042846d5bc2f15a664ce96e5",
       "version_major": 2,
       "version_minor": 0
      },
      "text/plain": [
       "Populating ChEMBL data for human proteins:   0%|          | 0/1 [00:00<?, ?it/s]"
      ]
     },
     "metadata": {},
     "output_type": "display_data"
    },
    {
     "data": {
      "application/vnd.jupyter.widget-view+json": {
       "model_id": "4401ecdff0ea4675a571d8cb1c22a84a",
       "version_major": 2,
       "version_minor": 0
      },
      "text/plain": [
       "Populating Chemical-MoA edges:   0%|          | 0/2 [00:00<?, ?it/s]"
      ]
     },
     "metadata": {},
     "output_type": "display_data"
    },
    {
     "data": {
      "application/vnd.jupyter.widget-view+json": {
       "model_id": "2962c4337fb945ac99b413fe8a5f34be",
       "version_major": 2,
       "version_minor": 0
      },
      "text/plain": [
       "Adding bioassay edges to BEL: 0it [00:00, ?it/s]"
      ]
     },
     "metadata": {},
     "output_type": "display_data"
    },
    {
     "data": {
      "application/vnd.jupyter.widget-view+json": {
       "model_id": "99ea6ef2dabe4f869902f558a83c06b9",
       "version_major": 2,
       "version_minor": 0
      },
      "text/plain": [
       "Retrieving Adverse Effects for each drug:   0%|          | 0/3 [00:00<?, ?it/s]"
      ]
     },
     "metadata": {},
     "output_type": "display_data"
    },
    {
     "data": {
      "application/vnd.jupyter.widget-view+json": {
       "model_id": "a312957e04734c1db21da681a819eab3",
       "version_major": 2,
       "version_minor": 0
      },
      "text/plain": [
       "Populating Uniprot edges:   0%|          | 0/2 [00:00<?, ?it/s]"
      ]
     },
     "metadata": {},
     "output_type": "display_data"
    },
    {
     "data": {
      "application/vnd.jupyter.widget-view+json": {
       "model_id": "595f2a6e545441a2b9056158b3874bd9",
       "version_major": 2,
       "version_minor": 0
      },
      "text/plain": [
       "Filtering Proteins/Genes:   0%|          | 0/324 [00:00<?, ?it/s]"
      ]
     },
     "metadata": {},
     "output_type": "display_data"
    },
    {
     "name": "stdout",
     "output_type": "stream",
     "text": [
      "A total of 2 SNPs have been identified from GWAS Central. Now adding relevant data\n",
      "\n",
      "\n"
     ]
    },
    {
     "data": {
      "application/vnd.jupyter.widget-view+json": {
       "model_id": "b889129b0e5c455d8d8f036f159a228d",
       "version_major": 2,
       "version_minor": 0
      },
      "text/plain": [
       "Adding disease associated SNPs:   0%|          | 0/2 [00:00<?, ?it/s]"
      ]
     },
     "metadata": {},
     "output_type": "display_data"
    },
    {
     "name": "stdout",
     "output_type": "stream",
     "text": [
      "Your KG is now generated! \n",
      "\n",
      "Now let's save all the files that were created in the process. \n",
      "\n",
      "Please enter the location where KG files should be stored. A folder will be created automatically. \n",
      "\n",
      "For local folders, use this example: C:\\Users\\rkarki\\Documents\\kg\\ \n",
      "\n",
      "For servers like mybinder or EGI notebook, use this: /home/jovyan/data/kgs/test/ \n",
      "\n"
     ]
    },
    {
     "ename": "KeyboardInterrupt",
     "evalue": "Interrupted by user",
     "output_type": "error",
     "traceback": [
      "\u001b[1;31m---------------------------------------------------------------------------\u001b[0m",
      "\u001b[1;31mKeyboardInterrupt\u001b[0m                         Traceback (most recent call last)",
      "Cell \u001b[1;32mIn[3], line 4\u001b[0m\n\u001b[0;32m      1\u001b[0m \u001b[38;5;66;03m#please note that google chrome might have some issues visualizing graphs\u001b[39;00m\n\u001b[0;32m      2\u001b[0m \u001b[38;5;66;03m#The deployment ran as expected in firefox and edge\u001b[39;00m\n\u001b[1;32m----> 4\u001b[0m kg \u001b[38;5;241m=\u001b[39m \u001b[43mcreateKG\u001b[49m\u001b[43m(\u001b[49m\u001b[43m)\u001b[49m\n",
      "File \u001b[1;32m~\\Documents\\GitHub\\kgg\\src\\kg_gen_4.py:969\u001b[0m, in \u001b[0;36mcreateKG\u001b[1;34m()\u001b[0m\n\u001b[0;32m    965\u001b[0m     kg \u001b[38;5;241m=\u001b[39m snp2gene_rel(dis2snp_df,kg)\n\u001b[0;32m    967\u001b[0m \u001b[38;5;28mprint\u001b[39m(\u001b[38;5;124m'\u001b[39m\u001b[38;5;124mYour KG is now generated!\u001b[39m\u001b[38;5;124m'\u001b[39m,\u001b[38;5;124m'\u001b[39m\u001b[38;5;130;01m\\n\u001b[39;00m\u001b[38;5;124m'\u001b[39m)\n\u001b[1;32m--> 969\u001b[0m \u001b[43msaveFiles\u001b[49m\u001b[43m(\u001b[49m\u001b[43mkg_name\u001b[49m\u001b[43m,\u001b[49m\u001b[43m \u001b[49m\u001b[43muprot_df\u001b[49m\u001b[43m,\u001b[49m\u001b[43m \u001b[49m\u001b[43madv_effect\u001b[49m\u001b[43m,\u001b[49m\u001b[43m \u001b[49m\u001b[43mkg\u001b[49m\u001b[43m,\u001b[49m\u001b[43m \u001b[49m\u001b[43mdrugs_df\u001b[49m\u001b[43m,\u001b[49m\u001b[43m \u001b[49m\u001b[43mdis2snp_df\u001b[49m\u001b[43m,\u001b[49m\u001b[43muprot_ext\u001b[49m\u001b[43m)\u001b[49m\n\u001b[0;32m    971\u001b[0m \u001b[38;5;28;01mreturn\u001b[39;00m(kg)\n",
      "File \u001b[1;32m~\\Documents\\GitHub\\kgg\\src\\kg_gen_4.py:755\u001b[0m, in \u001b[0;36msaveFiles\u001b[1;34m(kgName, disease2protein, drugAdvEffect, final_kg, drug_df, snp_df, uprot_dict)\u001b[0m\n\u001b[0;32m    751\u001b[0m \u001b[38;5;28mprint\u001b[39m(\u001b[38;5;124m'\u001b[39m\u001b[38;5;124mFor servers like mybinder or EGI notebook, use this: /home/jovyan/data/kgs/test/\u001b[39m\u001b[38;5;124m'\u001b[39m,\u001b[38;5;124m'\u001b[39m\u001b[38;5;130;01m\\n\u001b[39;00m\u001b[38;5;124m'\u001b[39m)\n\u001b[0;32m    753\u001b[0m time\u001b[38;5;241m.\u001b[39msleep(\u001b[38;5;241m0.2\u001b[39m)\n\u001b[1;32m--> 755\u001b[0m path \u001b[38;5;241m=\u001b[39m \u001b[38;5;28;43minput\u001b[39;49m\u001b[43m(\u001b[49m\u001b[38;5;124;43m'\u001b[39;49m\u001b[38;5;124;43mInput: \u001b[39;49m\u001b[38;5;124;43m'\u001b[39;49m\u001b[43m)\u001b[49m\n\u001b[0;32m    757\u001b[0m path \u001b[38;5;241m=\u001b[39m path\u001b[38;5;241m+\u001b[39mkgName\n\u001b[0;32m    759\u001b[0m \u001b[38;5;66;03m#original_path = sys.path[0]\u001b[39;00m\n",
      "File \u001b[1;32m~\\Anaconda3\\envs\\kgs\\lib\\site-packages\\ipykernel\\kernelbase.py:1262\u001b[0m, in \u001b[0;36mKernel.raw_input\u001b[1;34m(self, prompt)\u001b[0m\n\u001b[0;32m   1260\u001b[0m     msg \u001b[38;5;241m=\u001b[39m \u001b[38;5;124m\"\u001b[39m\u001b[38;5;124mraw_input was called, but this frontend does not support input requests.\u001b[39m\u001b[38;5;124m\"\u001b[39m\n\u001b[0;32m   1261\u001b[0m     \u001b[38;5;28;01mraise\u001b[39;00m StdinNotImplementedError(msg)\n\u001b[1;32m-> 1262\u001b[0m \u001b[38;5;28;01mreturn\u001b[39;00m \u001b[38;5;28;43mself\u001b[39;49m\u001b[38;5;241;43m.\u001b[39;49m\u001b[43m_input_request\u001b[49m\u001b[43m(\u001b[49m\n\u001b[0;32m   1263\u001b[0m \u001b[43m    \u001b[49m\u001b[38;5;28;43mstr\u001b[39;49m\u001b[43m(\u001b[49m\u001b[43mprompt\u001b[49m\u001b[43m)\u001b[49m\u001b[43m,\u001b[49m\n\u001b[0;32m   1264\u001b[0m \u001b[43m    \u001b[49m\u001b[38;5;28;43mself\u001b[39;49m\u001b[38;5;241;43m.\u001b[39;49m\u001b[43m_parent_ident\u001b[49m\u001b[43m[\u001b[49m\u001b[38;5;124;43m\"\u001b[39;49m\u001b[38;5;124;43mshell\u001b[39;49m\u001b[38;5;124;43m\"\u001b[39;49m\u001b[43m]\u001b[49m\u001b[43m,\u001b[49m\n\u001b[0;32m   1265\u001b[0m \u001b[43m    \u001b[49m\u001b[38;5;28;43mself\u001b[39;49m\u001b[38;5;241;43m.\u001b[39;49m\u001b[43mget_parent\u001b[49m\u001b[43m(\u001b[49m\u001b[38;5;124;43m\"\u001b[39;49m\u001b[38;5;124;43mshell\u001b[39;49m\u001b[38;5;124;43m\"\u001b[39;49m\u001b[43m)\u001b[49m\u001b[43m,\u001b[49m\n\u001b[0;32m   1266\u001b[0m \u001b[43m    \u001b[49m\u001b[43mpassword\u001b[49m\u001b[38;5;241;43m=\u001b[39;49m\u001b[38;5;28;43;01mFalse\u001b[39;49;00m\u001b[43m,\u001b[49m\n\u001b[0;32m   1267\u001b[0m \u001b[43m\u001b[49m\u001b[43m)\u001b[49m\n",
      "File \u001b[1;32m~\\Anaconda3\\envs\\kgs\\lib\\site-packages\\ipykernel\\kernelbase.py:1305\u001b[0m, in \u001b[0;36mKernel._input_request\u001b[1;34m(self, prompt, ident, parent, password)\u001b[0m\n\u001b[0;32m   1302\u001b[0m \u001b[38;5;28;01mexcept\u001b[39;00m \u001b[38;5;167;01mKeyboardInterrupt\u001b[39;00m:\n\u001b[0;32m   1303\u001b[0m     \u001b[38;5;66;03m# re-raise KeyboardInterrupt, to truncate traceback\u001b[39;00m\n\u001b[0;32m   1304\u001b[0m     msg \u001b[38;5;241m=\u001b[39m \u001b[38;5;124m\"\u001b[39m\u001b[38;5;124mInterrupted by user\u001b[39m\u001b[38;5;124m\"\u001b[39m\n\u001b[1;32m-> 1305\u001b[0m     \u001b[38;5;28;01mraise\u001b[39;00m \u001b[38;5;167;01mKeyboardInterrupt\u001b[39;00m(msg) \u001b[38;5;28;01mfrom\u001b[39;00m \u001b[38;5;28;01mNone\u001b[39;00m\n\u001b[0;32m   1306\u001b[0m \u001b[38;5;28;01mexcept\u001b[39;00m \u001b[38;5;167;01mException\u001b[39;00m:\n\u001b[0;32m   1307\u001b[0m     \u001b[38;5;28mself\u001b[39m\u001b[38;5;241m.\u001b[39mlog\u001b[38;5;241m.\u001b[39mwarning(\u001b[38;5;124m\"\u001b[39m\u001b[38;5;124mInvalid Message:\u001b[39m\u001b[38;5;124m\"\u001b[39m, exc_info\u001b[38;5;241m=\u001b[39m\u001b[38;5;28;01mTrue\u001b[39;00m)\n",
      "\u001b[1;31mKeyboardInterrupt\u001b[0m: Interrupted by user"
     ]
    }
   ],
   "source": [
    "#please note that google chrome might have some issues visualizing graphs\n",
    "#The deployment ran as expected in firefox and edge\n",
    "\n",
    "kg = createKG()"
   ]
  },
  {
   "cell_type": "code",
   "execution_count": 4,
   "id": "e3d48e87",
   "metadata": {},
   "outputs": [
    {
     "ename": "NameError",
     "evalue": "name 'kg' is not defined",
     "output_type": "error",
     "traceback": [
      "\u001b[1;31m---------------------------------------------------------------------------\u001b[0m",
      "\u001b[1;31mNameError\u001b[0m                                 Traceback (most recent call last)",
      "Cell \u001b[1;32mIn[4], line 2\u001b[0m\n\u001b[0;32m      1\u001b[0m \u001b[38;5;66;03m#Get summary of created KG\u001b[39;00m\n\u001b[1;32m----> 2\u001b[0m \u001b[43mkg\u001b[49m\u001b[38;5;241m.\u001b[39msummarize\n",
      "\u001b[1;31mNameError\u001b[0m: name 'kg' is not defined"
     ]
    }
   ],
   "source": [
    "#Get summary of created KG\n",
    "kg.summarize"
   ]
  },
  {
   "cell_type": "code",
   "execution_count": null,
   "id": "5394892b",
   "metadata": {},
   "outputs": [],
   "source": [
    "#visualize a random network of 250 edges\n",
    "#Warning: If you are getting this error -> Javascript Error: require is not defined\n",
    "#Click Help tabs on top of the page -> Click Launch Jupyter Notebook File Browser or Classic Notebook \n",
    "\n",
    "to_jupyter(pybel.struct.mutation.induction.get_random_subgraph(kg))"
   ]
  },
  {
   "cell_type": "code",
   "execution_count": null,
   "id": "46db65d4",
   "metadata": {},
   "outputs": [],
   "source": []
  }
 ],
 "metadata": {
  "kernelspec": {
   "display_name": "Python 3 (ipykernel)",
   "language": "python",
   "name": "python3"
  },
  "language_info": {
   "codemirror_mode": {
    "name": "ipython",
    "version": 3
   },
   "file_extension": ".py",
   "mimetype": "text/x-python",
   "name": "python",
   "nbconvert_exporter": "python",
   "pygments_lexer": "ipython3",
   "version": "3.9.18"
  }
 },
 "nbformat": 4,
 "nbformat_minor": 5
}
