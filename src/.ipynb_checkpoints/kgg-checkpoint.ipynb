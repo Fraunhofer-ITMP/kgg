{
 "cells": [
  {
   "cell_type": "markdown",
   "id": "95894b68",
   "metadata": {},
   "source": [
    "# KG Generator Tool"
   ]
  },
  {
   "cell_type": "markdown",
   "id": "e6cd5418",
   "metadata": {},
   "source": [
    "## Let's get started by importing relevant libraries"
   ]
  },
  {
   "cell_type": "code",
   "execution_count": 1,
   "id": "b41fb83b",
   "metadata": {},
   "outputs": [],
   "source": [
    "from utils import *\n",
    "from kg_gen_4 import *"
   ]
  },
  {
   "cell_type": "markdown",
   "id": "7556a3fb",
   "metadata": {},
   "source": [
    "## Please execute following cells"
   ]
  },
  {
   "cell_type": "code",
   "execution_count": null,
   "id": "65dd794b",
   "metadata": {
    "scrolled": false
   },
   "outputs": [
    {
     "data": {
      "image/png": "[encoded data removed]",
      "text/plain": [
       "<Figure size 300x300 with 1 Axes>"
      ]
     },
     "metadata": {},
     "output_type": "display_data"
    },
    {
     "data": {
      "text/markdown": [
       "<span style='color:blue'>**Welcome to the KG Generator tool. In the following steps, we will need some inputs from your side.**</span>"
      ],
      "text/plain": [
       "<IPython.core.display.Markdown object>"
      ]
     },
     "metadata": {},
     "output_type": "display_data"
    },
    {
     "name": "stdout",
     "output_type": "stream",
     "text": [
      "Please enter the disease you are interested in and we will try to find the best matches for you.\n",
      "\n",
      "Input: als\n"
     ]
    },
    {
     "data": {
      "text/html": [
       "<table border=\"1\" class=\"dataframe\">\n",
       "  <thead>\n",
       "    <tr style=\"text-align: center;\">\n",
       "      <th>index</th>\n",
       "      <th>id</th>\n",
       "      <th>name</th>\n",
       "    </tr>\n",
       "  </thead>\n",
       "  <tbody>\n",
       "    <tr>\n",
       "      <td>0</td>\n",
       "      <td>MONDO_0004976</td>\n",
       "      <td>amyotrophic lateral sclerosis</td>\n",
       "    </tr>\n",
       "    <tr>\n",
       "      <td>1</td>\n",
       "      <td>MONDO_0100227</td>\n",
       "      <td>ALS2-related motor neuron disease</td>\n",
       "    </tr>\n",
       "    <tr>\n",
       "      <td>2</td>\n",
       "      <td>MONDO_0008763</td>\n",
       "      <td>Alstrom syndrome</td>\n",
       "    </tr>\n",
       "    <tr>\n",
       "      <td>3</td>\n",
       "      <td>MONDO_0008780</td>\n",
       "      <td>amyotrophic lateral sclerosis type 2, juvenile</td>\n",
       "    </tr>\n",
       "    <tr>\n",
       "      <td>4</td>\n",
       "      <td>MONDO_0017161</td>\n",
       "      <td>frontotemporal dementia with motor neuron disease</td>\n",
       "    </tr>\n",
       "    <tr>\n",
       "      <td>5</td>\n",
       "      <td>MONDO_0011223</td>\n",
       "      <td>amyotrophic lateral sclerosis type 4</td>\n",
       "    </tr>\n",
       "    <tr>\n",
       "      <td>6</td>\n",
       "      <td>MONDO_0012945</td>\n",
       "      <td>amyotrophic lateral sclerosis type 11</td>\n",
       "    </tr>\n",
       "    <tr>\n",
       "      <td>7</td>\n",
       "      <td>MONDO_0013891</td>\n",
       "      <td>amyotrophic lateral sclerosis type 18</td>\n",
       "    </tr>\n",
       "    <tr>\n",
       "      <td>8</td>\n",
       "      <td>MONDO_0011196</td>\n",
       "      <td>amyotrophic lateral sclerosis type 5</td>\n",
       "    </tr>\n",
       "    <tr>\n",
       "      <td>9</td>\n",
       "      <td>MONDO_0030885</td>\n",
       "      <td>amyotrophic lateral sclerosis 26 with or without frontotemporal dementia</td>\n",
       "    </tr>\n",
       "    <tr>\n",
       "      <td>10</td>\n",
       "      <td>MONDO_0012077</td>\n",
       "      <td>amyotrophic lateral sclerosis type 8</td>\n",
       "    </tr>\n",
       "    <tr>\n",
       "      <td>11</td>\n",
       "      <td>MONDO_0007105</td>\n",
       "      <td>frontotemporal dementia and/or amyotrophic lateral sclerosis 1</td>\n",
       "    </tr>\n",
       "    <tr>\n",
       "      <td>12</td>\n",
       "      <td>Orphanet_93957</td>\n",
       "      <td>Limb dystonia</td>\n",
       "    </tr>\n",
       "    <tr>\n",
       "      <td>13</td>\n",
       "      <td>EFO_0004627</td>\n",
       "      <td>IGF-1 measurement</td>\n",
       "    </tr>\n",
       "    <tr>\n",
       "      <td>14</td>\n",
       "      <td>MONDO_0018770</td>\n",
       "      <td>Jeune syndrome</td>\n",
       "    </tr>\n",
       "    <tr>\n",
       "      <td>15</td>\n",
       "      <td>MONDO_0010459</td>\n",
       "      <td>amyotrophic lateral sclerosis type 15</td>\n",
       "    </tr>\n",
       "    <tr>\n",
       "      <td>16</td>\n",
       "      <td>MONDO_0007104</td>\n",
       "      <td>amyotrophic lateral sclerosis-parkinsonism-dementia complex</td>\n",
       "    </tr>\n",
       "    <tr>\n",
       "      <td>17</td>\n",
       "      <td>EFO_1001972</td>\n",
       "      <td>undifferentiated pleomorphic sarcoma</td>\n",
       "    </tr>\n",
       "    <tr>\n",
       "      <td>18</td>\n",
       "      <td>MONDO_0024257</td>\n",
       "      <td>hereditary motor neuron disease</td>\n",
       "    </tr>\n",
       "    <tr>\n",
       "      <td>19</td>\n",
       "      <td>MONDO_0003182</td>\n",
       "      <td>anterior horn disorder</td>\n",
       "    </tr>\n",
       "  </tbody>\n",
       "</table>"
      ],
      "text/plain": [
       "<IPython.core.display.HTML object>"
      ]
     },
     "metadata": {},
     "output_type": "display_data"
    },
    {
     "data": {
      "text/markdown": [
       "<span style='color:None'>**Here you go! Hopefully your disease of interest is in the list. If so, let's get started.**</span>"
      ],
      "text/plain": [
       "<IPython.core.display.Markdown object>"
      ]
     },
     "metadata": {},
     "output_type": "display_data"
    },
    {
     "name": "stdout",
     "output_type": "stream",
     "text": [
      "Please enter the index value(s) of your disease(s) of interest. For multiple, separate by a space. Input: 0\n",
      "\n",
      "\n",
      "Please enter the clinical trial phase of chemicals which should be identified by the workflow. Use a number between 1 (early phase) and 4 (FDA approved). For example, if you use 3, the KG will fetch chemicals that are in phase 3. Also, remember that lower the input value, higher will be the number of identified chemicals and therefore the running time of workflow also increases.\n",
      "\n",
      "\n",
      "Your desired clinical trial phase: 4\n",
      "\n",
      "\n",
      "Please provide a name for you KG. Input: als_Test_onelast\n",
      "\n",
      "\n",
      "Now fetching real-time data from databases. Be patient!\n",
      "\n",
      "\n",
      "\u001b[K Fetching Disease-specific Drugs \n",
      "\u001b[K Fetching Disease-specific Proteins \n",
      "\u001b[K Fetching SNPs. Can take a while!\n",
      "We have identified 1161 proteins (Swiss-Prot) associated with the disease. Please note that the proteins identified may not be unique if you combined two or more diseases. Following is a histogram that shows distribution of proteins based on scores provided by OpenTargets. The scores are influenced by various factors such as genetic associations, expression, mutations, known pathways, targeting drugs and so on.\n",
      "\n",
      "A total of 1160 unique proteins have been identified.\n",
      "\n",
      "\n",
      "Displaying top 20 genes\n"
     ]
    },
    {
     "data": {
      "text/html": [
       "<table border=\"1\" class=\"dataframe\">\n",
       "  <thead>\n",
       "    <tr style=\"text-align: center;\">\n",
       "      <th>Protein</th>\n",
       "      <th>ENSG</th>\n",
       "      <th>UniProt</th>\n",
       "      <th>Source</th>\n",
       "      <th>Score</th>\n",
       "      <th>disease_id</th>\n",
       "    </tr>\n",
       "  </thead>\n",
       "  <tbody>\n",
       "    <tr>\n",
       "      <td>SOD1</td>\n",
       "      <td>ENSG00000142168</td>\n",
       "      <td>P00441</td>\n",
       "      <td>uniprot_swissprot</td>\n",
       "      <td>0.876</td>\n",
       "      <td>MONDO_0004976</td>\n",
       "    </tr>\n",
       "    <tr>\n",
       "      <td>TARDBP</td>\n",
       "      <td>ENSG00000120948</td>\n",
       "      <td>Q13148</td>\n",
       "      <td>uniprot_swissprot</td>\n",
       "      <td>0.851</td>\n",
       "      <td>MONDO_0004976</td>\n",
       "    </tr>\n",
       "    <tr>\n",
       "      <td>FUS</td>\n",
       "      <td>ENSG00000089280</td>\n",
       "      <td>P35637</td>\n",
       "      <td>uniprot_swissprot</td>\n",
       "      <td>0.842</td>\n",
       "      <td>MONDO_0004976</td>\n",
       "    </tr>\n",
       "    <tr>\n",
       "      <td>UBQLN2</td>\n",
       "      <td>ENSG00000188021</td>\n",
       "      <td>Q9UHD9</td>\n",
       "      <td>uniprot_swissprot</td>\n",
       "      <td>0.839</td>\n",
       "      <td>MONDO_0004976</td>\n",
       "    </tr>\n",
       "    <tr>\n",
       "      <td>VCP</td>\n",
       "      <td>ENSG00000165280</td>\n",
       "      <td>P55072</td>\n",
       "      <td>uniprot_swissprot</td>\n",
       "      <td>0.812</td>\n",
       "      <td>MONDO_0004976</td>\n",
       "    </tr>\n",
       "    <tr>\n",
       "      <td>TBK1</td>\n",
       "      <td>ENSG00000183735</td>\n",
       "      <td>Q9UHD2</td>\n",
       "      <td>uniprot_swissprot</td>\n",
       "      <td>0.807</td>\n",
       "      <td>MONDO_0004976</td>\n",
       "    </tr>\n",
       "    <tr>\n",
       "      <td>DCTN1</td>\n",
       "      <td>ENSG00000204843</td>\n",
       "      <td>Q14203</td>\n",
       "      <td>uniprot_swissprot</td>\n",
       "      <td>0.806</td>\n",
       "      <td>MONDO_0004976</td>\n",
       "    </tr>\n",
       "    <tr>\n",
       "      <td>SETX</td>\n",
       "      <td>ENSG00000107290</td>\n",
       "      <td>Q7Z333</td>\n",
       "      <td>uniprot_swissprot</td>\n",
       "      <td>0.794</td>\n",
       "      <td>MONDO_0004976</td>\n",
       "    </tr>\n",
       "    <tr>\n",
       "      <td>OPTN</td>\n",
       "      <td>ENSG00000123240</td>\n",
       "      <td>Q96CV9</td>\n",
       "      <td>uniprot_swissprot</td>\n",
       "      <td>0.791</td>\n",
       "      <td>MONDO_0004976</td>\n",
       "    </tr>\n",
       "    <tr>\n",
       "      <td>PFN1</td>\n",
       "      <td>ENSG00000108518</td>\n",
       "      <td>P07737</td>\n",
       "      <td>uniprot_swissprot</td>\n",
       "      <td>0.785</td>\n",
       "      <td>MONDO_0004976</td>\n",
       "    </tr>\n",
       "    <tr>\n",
       "      <td>ALS2</td>\n",
       "      <td>ENSG00000003393</td>\n",
       "      <td>Q96Q42</td>\n",
       "      <td>uniprot_swissprot</td>\n",
       "      <td>0.784</td>\n",
       "      <td>MONDO_0004976</td>\n",
       "    </tr>\n",
       "    <tr>\n",
       "      <td>FIG4</td>\n",
       "      <td>ENSG00000112367</td>\n",
       "      <td>Q92562</td>\n",
       "      <td>uniprot_swissprot</td>\n",
       "      <td>0.772</td>\n",
       "      <td>MONDO_0004976</td>\n",
       "    </tr>\n",
       "    <tr>\n",
       "      <td>SPG11</td>\n",
       "      <td>ENSG00000104133</td>\n",
       "      <td>Q96JI7</td>\n",
       "      <td>uniprot_swissprot</td>\n",
       "      <td>0.768</td>\n",
       "      <td>MONDO_0004976</td>\n",
       "    </tr>\n",
       "    <tr>\n",
       "      <td>VAPB</td>\n",
       "      <td>ENSG00000124164</td>\n",
       "      <td>O95292</td>\n",
       "      <td>uniprot_swissprot</td>\n",
       "      <td>0.730</td>\n",
       "      <td>MONDO_0004976</td>\n",
       "    </tr>\n",
       "    <tr>\n",
       "      <td>SQSTM1</td>\n",
       "      <td>ENSG00000161011</td>\n",
       "      <td>Q13501</td>\n",
       "      <td>uniprot_swissprot</td>\n",
       "      <td>0.722</td>\n",
       "      <td>MONDO_0004976</td>\n",
       "    </tr>\n",
       "    <tr>\n",
       "      <td>SIGMAR1</td>\n",
       "      <td>ENSG00000147955</td>\n",
       "      <td>Q99720</td>\n",
       "      <td>uniprot_swissprot</td>\n",
       "      <td>0.721</td>\n",
       "      <td>MONDO_0004976</td>\n",
       "    </tr>\n",
       "    <tr>\n",
       "      <td>ERBB4</td>\n",
       "      <td>ENSG00000178568</td>\n",
       "      <td>Q15303</td>\n",
       "      <td>uniprot_swissprot</td>\n",
       "      <td>0.717</td>\n",
       "      <td>MONDO_0004976</td>\n",
       "    </tr>\n",
       "    <tr>\n",
       "      <td>CHMP2B</td>\n",
       "      <td>ENSG00000083937</td>\n",
       "      <td>Q9UQN3</td>\n",
       "      <td>uniprot_swissprot</td>\n",
       "      <td>0.715</td>\n",
       "      <td>MONDO_0004976</td>\n",
       "    </tr>\n",
       "    <tr>\n",
       "      <td>PRPH</td>\n",
       "      <td>ENSG00000135406</td>\n",
       "      <td>P41219</td>\n",
       "      <td>uniprot_swissprot</td>\n",
       "      <td>0.687</td>\n",
       "      <td>MONDO_0004976</td>\n",
       "    </tr>\n",
       "    <tr>\n",
       "      <td>ATXN2</td>\n",
       "      <td>ENSG00000204842</td>\n",
       "      <td>Q99700</td>\n",
       "      <td>uniprot_swissprot</td>\n",
       "      <td>0.676</td>\n",
       "      <td>MONDO_0004976</td>\n",
       "    </tr>\n",
       "  </tbody>\n",
       "</table>"
      ],
      "text/plain": [
       "<IPython.core.display.HTML object>"
      ]
     },
     "metadata": {},
     "output_type": "display_data"
    },
    {
     "data": {
      "image/png": "[encoded data removed]",
      "text/plain": [
       "<Figure size 640x480 with 1 Axes>"
      ]
     },
     "metadata": {},
     "output_type": "display_data"
    },
    {
     "name": "stdout",
     "output_type": "stream",
     "text": [
      "\n",
      "\n",
      "We recommend taking a threshold above 0.3 to exclude loosely associated proteins. \n",
      "Please enter your desired threshold: 0.8\n",
      "\n",
      "\n",
      "Alright, we are good to go now. Your KG is now being generated! Sit back and relax!!\n",
      "\n",
      " Total no. of proteins:  7\n",
      "\n",
      "   Protein       ENSG       UniProt       Source        Score   disease_id  \n",
      "0    SOD1  ENSG00000142168  P00441  uniprot_swissprot  0.876  MONDO_0004976\n",
      "1  TARDBP  ENSG00000120948  Q13148  uniprot_swissprot  0.851  MONDO_0004976\n",
      "2     FUS  ENSG00000089280  P35637  uniprot_swissprot  0.842  MONDO_0004976\n",
      "3  UBQLN2  ENSG00000188021  Q9UHD9  uniprot_swissprot  0.839  MONDO_0004976\n",
      "4     VCP  ENSG00000165280  P55072  uniprot_swissprot  0.812  MONDO_0004976\n",
      "5    TBK1  ENSG00000183735  Q9UHD2  uniprot_swissprot  0.807  MONDO_0004976\n",
      "6   DCTN1  ENSG00000204843  Q14203  uniprot_swissprot  0.806  MONDO_0004976\n"
     ]
    },
    {
     "data": {
      "application/vnd.jupyter.widget-view+json": {
       "model_id": "e1bb82cf87fc411f8dc2b5123aa86980",
       "version_major": 2,
       "version_minor": 0
      },
      "text/plain": [
       "Fetching Protein-related info:   0%|          | 0/7 [00:00<?, ?it/s]"
      ]
     },
     "metadata": {},
     "output_type": "display_data"
    },
    {
     "name": "stdout",
     "output_type": "stream",
     "text": [
      "A total of 3 drugs have been identified. Now fetching relevant data\n"
     ]
    },
    {
     "data": {
      "application/vnd.jupyter.widget-view+json": {
       "model_id": "b9695cb07cb747a0a55abe3973cd6282",
       "version_major": 2,
       "version_minor": 0
      },
      "text/plain": [
       "Retrieving mechanisms from ChEMBL:   0%|          | 0/3 [00:00<?, ?it/s]"
      ]
     },
     "metadata": {},
     "output_type": "display_data"
    },
    {
     "data": {
      "application/vnd.jupyter.widget-view+json": {
       "model_id": "cbccf5c5b09e4070a086c9a15324fe2d",
       "version_major": 2,
       "version_minor": 0
      },
      "text/plain": [
       "Retrieving bioassays from ChEMBL:   0%|          | 0/3 [00:00<?, ?it/s]"
      ]
     },
     "metadata": {},
     "output_type": "display_data"
    },
    {
     "data": {
      "application/vnd.jupyter.widget-view+json": {
       "model_id": "4bc9a85da01f46bd9436cfaf005977e2",
       "version_major": 2,
       "version_minor": 0
      },
      "text/plain": [
       "Filtering UniProt proteins from ChEMBL:   0%|          | 0/2 [00:00<?, ?it/s]"
      ]
     },
     "metadata": {},
     "output_type": "display_data"
    },
    {
     "data": {
      "application/vnd.jupyter.widget-view+json": {
       "model_id": "3494160f1f1343bcbaaa40ffc3dd03f3",
       "version_major": 2,
       "version_minor": 0
      },
      "text/plain": [
       "Filtering human proteins from ChEMBL:   0%|          | 0/2 [00:00<?, ?it/s]"
      ]
     },
     "metadata": {},
     "output_type": "display_data"
    },
    {
     "data": {
      "application/vnd.jupyter.widget-view+json": {
       "model_id": "7933556d2781464da7084bd5a85e243c",
       "version_major": 2,
       "version_minor": 0
      },
      "text/plain": [
       "Populating ChEMBL data for human proteins:   0%|          | 0/1 [00:00<?, ?it/s]"
      ]
     },
     "metadata": {},
     "output_type": "display_data"
    },
    {
     "data": {
      "application/vnd.jupyter.widget-view+json": {
       "model_id": "711871b345bc4ff3b157e51ffcdcfeee",
       "version_major": 2,
       "version_minor": 0
      },
      "text/plain": [
       "Populating Chemical-MoA edges:   0%|          | 0/2 [00:00<?, ?it/s]"
      ]
     },
     "metadata": {},
     "output_type": "display_data"
    },
    {
     "data": {
      "application/vnd.jupyter.widget-view+json": {
       "model_id": "dffccffe247348cf81761b9b6e6ceaff",
       "version_major": 2,
       "version_minor": 0
      },
      "text/plain": [
       "Adding bioassay edges to BEL: 0it [00:00, ?it/s]"
      ]
     },
     "metadata": {},
     "output_type": "display_data"
    },
    {
     "data": {
      "application/vnd.jupyter.widget-view+json": {
       "model_id": "513030a0537c4f6da1f2013fab5507b9",
       "version_major": 2,
       "version_minor": 0
      },
      "text/plain": [
       "Retrieving Adverse Effects for each drug:   0%|          | 0/3 [00:00<?, ?it/s]"
      ]
     },
     "metadata": {},
     "output_type": "display_data"
    },
    {
     "data": {
      "application/vnd.jupyter.widget-view+json": {
       "model_id": "605574d64fa54d89b05f264c0663e055",
       "version_major": 2,
       "version_minor": 0
      },
      "text/plain": [
       "Populating Uniprot edges:   0%|          | 0/7 [00:00<?, ?it/s]"
      ]
     },
     "metadata": {},
     "output_type": "display_data"
    },
    {
     "data": {
      "application/vnd.jupyter.widget-view+json": {
       "model_id": "fbc7e7457fee41c4998d6a519034cd82",
       "version_major": 2,
       "version_minor": 0
      },
      "text/plain": [
       "Filtering Proteins/Genes:   0%|          | 0/646 [00:00<?, ?it/s]"
      ]
     },
     "metadata": {},
     "output_type": "display_data"
    },
    {
     "name": "stdout",
     "output_type": "stream",
     "text": [
      "A total of 10 SNPs have been identified from GWAS Central. Now adding relevant data\n",
      "\n",
      "\n"
     ]
    },
    {
     "data": {
      "application/vnd.jupyter.widget-view+json": {
       "model_id": "c1db87edb8d348ecb1c7082ee95258e3",
       "version_major": 2,
       "version_minor": 0
      },
      "text/plain": [
       "Adding disease associated SNPs:   0%|          | 0/10 [00:00<?, ?it/s]"
      ]
     },
     "metadata": {},
     "output_type": "display_data"
    },
    {
     "name": "stdout",
     "output_type": "stream",
     "text": [
      "Your KG is now generated! \n",
      "\n",
      "Now let's save all the files that were created in the process. \n",
      "\n",
      "Please enter the location (e.g. 'C:\\Users\\rkarki\\Documents\\kg\\' ) where KG files should be stored. A folder will be created automatically. \n",
      "\n"
     ]
    }
   ],
   "source": [
    "kg = createKG()"
   ]
  },
  {
   "cell_type": "code",
   "execution_count": 3,
   "id": "e3d48e87",
   "metadata": {},
   "outputs": [
    {
     "name": "stderr",
     "output_type": "stream",
     "text": [
      "C:\\Users\\reagon.karki\\Anaconda3\\envs\\kgs\\lib\\site-packages\\pydantic\\_internal\\_config.py:322: UserWarning:\n",
      "\n",
      "Valid config keys have changed in V2:\n",
      "* 'underscore_attrs_are_private' has been removed\n",
      "\n"
     ]
    },
    {
     "data": {
      "text/html": [
       "            <h2>Metadata</h2>\n",
       "            <table>\n",
       "<tbody>\n",
       "<tr><td>Name   </td><td>als_test_final</td></tr>\n",
       "<tr><td>Version</td><td>0.0.1         </td></tr>\n",
       "</tbody>\n",
       "</table>\n",
       "            <h2>Statistics</h2>\n",
       "            <table>\n",
       "<tbody>\n",
       "<tr><td>Nodes          </td><td style=\"text-align: right;\">167     </td></tr>\n",
       "<tr><td>Namespaces     </td><td style=\"text-align: right;\">  7     </td></tr>\n",
       "<tr><td>Edges          </td><td style=\"text-align: right;\">326     </td></tr>\n",
       "<tr><td>Annotations    </td><td style=\"text-align: right;\">  0     </td></tr>\n",
       "<tr><td>Citations      </td><td style=\"text-align: right;\">  4     </td></tr>\n",
       "<tr><td>Authors        </td><td style=\"text-align: right;\">  0     </td></tr>\n",
       "<tr><td>Components     </td><td style=\"text-align: right;\">  4     </td></tr>\n",
       "<tr><td>Warnings       </td><td style=\"text-align: right;\">  0     </td></tr>\n",
       "<tr><td>Network Density</td><td style=\"text-align: right;\">  0.0118</td></tr>\n",
       "</tbody>\n",
       "</table>\n",
       "            <h2>Nodes</h2>\n",
       "            <table>\n",
       "<thead>\n",
       "<tr><th>Type             </th><th style=\"text-align: right;\">  Count</th><th>Example                                       </th></tr>\n",
       "</thead>\n",
       "<tbody>\n",
       "<tr><td>BiologicalProcess</td><td style=\"text-align: right;\">     89</td><td>bp(GOMF:&quot;zinc ion binding&quot;)                   </td></tr>\n",
       "<tr><td>Pathology        </td><td style=\"text-align: right;\">     72</td><td>path(SideEffect:&quot;inhibitory drug interaction&quot;)</td></tr>\n",
       "<tr><td>Abundance        </td><td style=\"text-align: right;\">      3</td><td>a(ChEMBL:CHEMBL558)                           </td></tr>\n",
       "<tr><td>Protein          </td><td style=\"text-align: right;\">      2</td><td>p(HGNC:SOD1)                                  </td></tr>\n",
       "<tr><td>Gene             </td><td style=\"text-align: right;\">      1</td><td>g(dbSNP:rs80265967)                           </td></tr>\n",
       "</tbody>\n",
       "</table>\n",
       "            <h2>Namespaces</h2>\n",
       "            <table>\n",
       "<thead>\n",
       "<tr><th>Prefix    </th><th>Name                            </th><th style=\"text-align: right;\">  Count</th><th>Example                                     </th></tr>\n",
       "</thead>\n",
       "<tbody>\n",
       "<tr><td>SideEffect</td><td>                                </td><td style=\"text-align: right;\">     72</td><td>path(SideEffect:&quot;portal vein thrombosis&quot;)   </td></tr>\n",
       "<tr><td>GOBP      </td><td>Gene Ontology                   </td><td style=\"text-align: right;\">     71</td><td>bp(GOBP:&quot;transmission of nerve impulse&quot;)    </td></tr>\n",
       "<tr><td>GOMF      </td><td>Gene Ontology                   </td><td style=\"text-align: right;\">     16</td><td>bp(GOMF:&quot;protein-folding chaperone binding&quot;)</td></tr>\n",
       "<tr><td>ChEMBL    </td><td>ChEMBL                          </td><td style=\"text-align: right;\">      3</td><td>a(ChEMBL:CHEMBL558)                         </td></tr>\n",
       "<tr><td>MOA       </td><td>                                </td><td style=\"text-align: right;\">      2</td><td>bp(MOA:&quot;SOD1 mRNA inhibitor&quot;)               </td></tr>\n",
       "<tr><td>HGNC      </td><td>HUGO Gene Nomenclature Committee</td><td style=\"text-align: right;\">      2</td><td>p(HGNC:TARDBP)                              </td></tr>\n",
       "<tr><td>dbSNP     </td><td>dbSNP Reference SNP number      </td><td style=\"text-align: right;\">      1</td><td>g(dbSNP:rs80265967)                         </td></tr>\n",
       "</tbody>\n",
       "</table>\n",
       "            <h2>Edges</h2>\n",
       "            <table>\n",
       "<thead>\n",
       "<tr><th>Edge Type                              </th><th style=\"text-align: right;\">  Count</th><th>Example                                                                       </th></tr>\n",
       "</thead>\n",
       "<tbody>\n",
       "<tr><td>Protein association BiologicalProcess  </td><td style=\"text-align: right;\">     88</td><td>p(HGNC:SOD1) association bp(GOBP:&quot;apoptotic process&quot;)                         </td></tr>\n",
       "<tr><td>Pathology association Abundance        </td><td style=\"text-align: right;\">     72</td><td>path(SideEffect:&quot;impaired quality of life&quot;) association a(ChEMBL:CHEMBL558)   </td></tr>\n",
       "<tr><td>BiologicalProcess association Abundance</td><td style=\"text-align: right;\">      2</td><td>bp(MOA:&quot;Sodium channel alpha subunit blocker&quot;) association a(ChEMBL:CHEMBL744)</td></tr>\n",
       "<tr><td>Protein association Gene               </td><td style=\"text-align: right;\">      1</td><td>p(HGNC:SOD1) association g(dbSNP:rs80265967)                                  </td></tr>\n",
       "</tbody>\n",
       "</table>\n"
      ],
      "text/plain": [
       "<pybel.struct.graph.SummarizeDispatch at 0x1e5a82f7f70>"
      ]
     },
     "execution_count": 3,
     "metadata": {},
     "output_type": "execute_result"
    }
   ],
   "source": [
    "#Get summary of created KG\n",
    "kg.summarize"
   ]
  },
  {
   "cell_type": "code",
   "execution_count": 4,
   "id": "5394892b",
   "metadata": {},
   "outputs": [
    {
     "data": {
      "application/javascript": [
       "function init_d3_force(d3, graph, chart, width, height, function_colors) {\n",
       "    var focus_node = null;\n",
       "    var highlight_node = null;\n",
       "\n",
       "    // Highlight color variables\n",
       "\n",
       "    // Highlight color of the node boundering\n",
       "    const highlight_node_boundering = \"#4EB2D4\";\n",
       "\n",
       "    // Highlight color of the edge\n",
       "    const highlighted_link_color = \"#4EB2D4\";\n",
       "\n",
       "    // Text highlight color\n",
       "    const highlight_text = \"#4EB2D4\";\n",
       "\n",
       "    // Size when zooming scale\n",
       "    var size = d3.scalePow().exponent(1)\n",
       "        .domain([1, 100])\n",
       "        .range([8, 24]);\n",
       "\n",
       "    // Simulation parameters\n",
       "    const linkDistance = 100;\n",
       "    const fCharge = -1000;\n",
       "    const linkStrength = 0.7;\n",
       "    const collideStrength = 1;\n",
       "\n",
       "    // Simulation defined with variables\n",
       "    var simulation = d3.forceSimulation()\n",
       "        .force(\"link\", d3.forceLink()\n",
       "            .distance(linkDistance)\n",
       "            .strength(linkStrength)\n",
       "        )\n",
       "        .force(\"collide\", d3.forceCollide()\n",
       "            .radius(function (d) {\n",
       "                return d.r + 10\n",
       "            })\n",
       "            .strength(collideStrength)\n",
       "        )\n",
       "        .force(\"charge\", d3.forceManyBody()\n",
       "            .strength(fCharge)\n",
       "        )\n",
       "        .force(\"center\", d3.forceCenter(width / 2, height / 2))\n",
       "        .force(\"y\", d3.forceY(0))\n",
       "        .force(\"x\", d3.forceX(0));\n",
       "\n",
       "    // Pin down functionality\n",
       "    var node_drag = d3.drag()\n",
       "        .on(\"start\", dragstarted)\n",
       "        .on(\"drag\", dragged)\n",
       "        .on(\"end\", dragended);\n",
       "\n",
       "    function dragstarted(d) {\n",
       "        if (!d3.event.active) simulation.alphaTarget(0.3).restart();\n",
       "        d.fx = d.x;\n",
       "        d.fy = d.y;\n",
       "    }\n",
       "\n",
       "    function dragged(d) {\n",
       "        d.fx = d3.event.x;\n",
       "        d.fy = d3.event.y;\n",
       "    }\n",
       "\n",
       "    function dragended(d) {\n",
       "        if (!d3.event.active) simulation.alphaTarget(0);\n",
       "    }\n",
       "\n",
       "    function releasenode(d) {\n",
       "        d.fx = null;\n",
       "        d.fy = null;\n",
       "    }\n",
       "\n",
       "    //END Pin down functionality\n",
       "\n",
       "\n",
       "    /**\n",
       "     * Gets the best name for a node object\n",
       "     * @param {object} d object\n",
       "     * @returns {str} canonical name of the node\n",
       "     */\n",
       "    function getCanonicalName(d) {\n",
       "        if (d.concept && d.concept.name && !(d.variants || d.reactants || d.products || d.members)) {\n",
       "            return d.concept.name\n",
       "        } else if (d.bel) {\n",
       "            return d.bel\n",
       "        } else {\n",
       "            console.log('Undefined node: ' + d);\n",
       "            return 'UNDEFINED'\n",
       "        }\n",
       "    }\n",
       "\n",
       "    const color_circunferencia = \"black\";\n",
       "    const default_link_color = \"#AAAAAA\";\n",
       "    const nominal_base_node_size = 8;\n",
       "\n",
       "    // Normal and highlighted stroke of the links (double the width of the link when highlighted)\n",
       "    const nominal_stroke = 1.5;\n",
       "\n",
       "    // Zoom variables\n",
       "    const min_zoom = 0.1;\n",
       "    const max_zoom = 10;\n",
       "\n",
       "    var svg = d3.select(chart).append(\"svg\")\n",
       "        .attr(\"width\", width)\n",
       "        .attr(\"height\", height);\n",
       "\n",
       "    // // Create definition for arrowhead.\n",
       "    svg.append(\"defs\").append(\"marker\")\n",
       "        .attr(\"id\", \"arrowhead\")\n",
       "        .attr(\"viewBox\", \"0 -5 10 10\")\n",
       "        .attr(\"refX\", 20)\n",
       "        .attr(\"refY\", 0)\n",
       "        .attr(\"markerUnits\", \"strokeWidth\")\n",
       "        .attr(\"markerWidth\", 6)\n",
       "        .attr(\"markerHeight\", 6)\n",
       "        .attr(\"orient\", \"auto\")\n",
       "        .append(\"path\")\n",
       "        .attr(\"d\", \"M0,-5L10,0L0,5\");\n",
       "\n",
       "    // // Create definition for stub.\n",
       "    svg.append(\"defs\").append(\"marker\")\n",
       "        .attr(\"id\", \"stub\")\n",
       "        .attr(\"viewBox\", \"-1 -5 2 10\")\n",
       "        .attr(\"refX\", 15)\n",
       "        .attr(\"refY\", 0)\n",
       "        .attr(\"markerUnits\", \"strokeWidth\")\n",
       "        .attr(\"markerWidth\", 6)\n",
       "        .attr(\"markerHeight\", 6)\n",
       "        .attr(\"orient\", \"auto\")\n",
       "        .append(\"path\")\n",
       "        .attr(\"d\", \"M 0,0 m -1,-5 L 1,-5 L 1,5 L -1,5 Z\");\n",
       "\n",
       "    // Background\n",
       "    svg.append(\"rect\")\n",
       "        .attr(\"width\", \"100%\")\n",
       "        .attr(\"height\", \"100%\")\n",
       "        .attr(\"fill\", \"#ffffff\")\n",
       "        .style(\"pointer-events\", \"all\")\n",
       "        // Zoom + panning functionality\n",
       "        .call(d3.zoom()\n",
       "            .scaleExtent([min_zoom, max_zoom])\n",
       "            .on(\"zoom\", zoomed))\n",
       "        .on(\"dblclick.zoom\", null);\n",
       "\n",
       "\n",
       "    function zoomed() {\n",
       "        g.attr(\"transform\", d3.event.transform);\n",
       "    }\n",
       "\n",
       "    // g = svg object where the graph will be appended\n",
       "    var g = svg.append(\"g\");\n",
       "\n",
       "    var linkedByIndex = {};\n",
       "    graph.links.forEach(function (d) {\n",
       "        linkedByIndex[d.source + \",\" + d.target] = true;\n",
       "    });\n",
       "\n",
       "    function isConnected(a, b) {\n",
       "        return linkedByIndex[a.index + \",\" + b.index] || linkedByIndex[b.index + \",\" + a.index] || a.index == b.index;\n",
       "    }\n",
       "\n",
       "    function ticked() {\n",
       "        link.attr(\"x1\", function (d) {\n",
       "            return d.source.x;\n",
       "        })\n",
       "            .attr(\"y1\", function (d) {\n",
       "                return d.source.y;\n",
       "            })\n",
       "            .attr(\"x2\", function (d) {\n",
       "                return d.target.x;\n",
       "            })\n",
       "            .attr(\"y2\", function (d) {\n",
       "                return d.target.y;\n",
       "            });\n",
       "\n",
       "        node\n",
       "            .attr(\"transform\", function (d) {\n",
       "                return \"translate(\" + d.x + \", \" + d.y + \")\";\n",
       "            });\n",
       "    }\n",
       "\n",
       "\n",
       "    simulation\n",
       "        .nodes(graph.nodes)\n",
       "        .on(\"tick\", ticked);\n",
       "\n",
       "    simulation.force(\"link\")\n",
       "        .links(graph.links);\n",
       "\n",
       "    // Definition of links nodes text...\n",
       "\n",
       "    var link = g.selectAll(\".link\")\n",
       "        .data(graph.links)\n",
       "        .enter().append(\"line\")\n",
       "        .style(\"stroke-width\", nominal_stroke)\n",
       "        .style(\"stroke\", default_link_color)\n",
       "        .style(\"stroke-dasharray\", function (d) {\n",
       "            if (['decreases', 'directlyDecreases', 'increases', 'directlyIncreases', 'negativeCorrelation',\n",
       "                'positiveCorrelation'].indexOf(d.relation) >= 0) {\n",
       "                return \"none\"\n",
       "            } else {\n",
       "                return \"4, 4\"\n",
       "            }\n",
       "        })\n",
       "        .attr(\"marker-start\", function (d) {\n",
       "            if ('positiveCorrelation' == d.relation) {\n",
       "                return \"url(#arrowhead)\"\n",
       "            }\n",
       "            else if ('negativeCorrelation' == d.relation) {\n",
       "                return \"url(#stub)\"\n",
       "            }\n",
       "            else {\n",
       "                return \"\"\n",
       "            }\n",
       "        })\n",
       "        .attr(\"marker-end\", function (d) {\n",
       "            if (['increases', 'directlyIncreases', 'positiveCorrelation', 'isA', 'partOf'].indexOf(d.relation) >= 0) {\n",
       "                return \"url(#arrowhead)\"\n",
       "            } else if (['decreases', 'directlyDecreases', 'negativeCorrelation'].indexOf(d.relation) >= 0) {\n",
       "                return \"url(#stub)\"\n",
       "            } else {\n",
       "                return \"\"\n",
       "            }\n",
       "        });\n",
       "\n",
       "    var node = g.selectAll(\".nodes\")\n",
       "        .data(graph.nodes)\n",
       "        .enter().append(\"g\")\n",
       "        .attr(\"class\", \"node\")\n",
       "        // Next two lines -> Pin down functionality\n",
       "        .on('dblclick', releasenode)\n",
       "        .call(node_drag);\n",
       "\n",
       "    var circle = node.append(\"path\")\n",
       "        .attr(\"d\", d3.symbol()\n",
       "            .size(function (d) {\n",
       "                return Math.PI * Math.pow(size(d.size) || nominal_base_node_size, 2);\n",
       "            })\n",
       "        )\n",
       "        .attr(\"class\", function (d) {\n",
       "            return d.function\n",
       "        })\n",
       "        .style('fill', function (d) {\n",
       "            return function_colors[d.function]\n",
       "        })\n",
       "        .style(\"stroke-width\", nominal_stroke)\n",
       "        .style(\"stroke\", color_circunferencia);\n",
       "\n",
       "    var text = node.append(\"text\")\n",
       "        .attr(\"class\", \"node-name\")\n",
       "        // .attr(\"id\", nodehashes[d])\n",
       "        .attr(\"fill\", \"black\")\n",
       "        .attr(\"dx\", 12)\n",
       "        .attr(\"dy\", \".35em\")\n",
       "        .text(function (d) {\n",
       "            return getCanonicalName(d)\n",
       "        });\n",
       "\n",
       "    // Highlight on mouseenter and back to normal on mouseout\n",
       "    node.on(\"mouseenter\", function (d) {\n",
       "        set_highlight(d);\n",
       "    })\n",
       "        .on(\"mousedown\", function () {\n",
       "            d3.event.stopPropagation();\n",
       "        }).on(\"mouseout\", function () {\n",
       "        exit_highlight();\n",
       "    });\n",
       "\n",
       "    function exit_highlight() {\n",
       "        highlight_node = null;\n",
       "        if (focus_node === null) {\n",
       "            if (highlight_node_boundering != color_circunferencia) {\n",
       "                circle.style(\"stroke\", color_circunferencia);\n",
       "                text.style(\"fill\", \"black\");\n",
       "                link.style(\"stroke\", default_link_color);\n",
       "            }\n",
       "        }\n",
       "    }\n",
       "\n",
       "    function set_highlight(d) {\n",
       "        if (focus_node !== null) d = focus_node;\n",
       "        highlight_node = d;\n",
       "\n",
       "        if (highlight_node_boundering != color_circunferencia) {\n",
       "            circle.style(\"stroke\", function (o) {\n",
       "                return isConnected(d, o) ? highlight_node_boundering : color_circunferencia;\n",
       "            });\n",
       "            text.style(\"fill\", function (o) {\n",
       "                return isConnected(d, o) ? highlight_text : \"black\";\n",
       "            });\n",
       "            link.style(\"stroke\", function (o) {\n",
       "                return o.source.index == d.index || o.target.index == d.index ? highlighted_link_color : default_link_color;\n",
       "            });\n",
       "        }\n",
       "    }\n",
       "\n",
       "\n",
       "    // Freeze the graph when space is pressed\n",
       "    function freezeGraph() {\n",
       "        // Space button Triggers STOP\n",
       "        if (d3.event.keyCode == 32) {\n",
       "            simulation.stop();\n",
       "        }\n",
       "    }\n",
       "\n",
       "    // Call freezeGraph when a key is pressed, freezeGraph checks whether this key is \"Space\" that triggers the freeze\n",
       "    d3.select(window).on(\"keydown\", freezeGraph);\n",
       "}\n",
       "\n",
       "require.config({\n",
       "    paths: {\n",
       "        d3: '//cdnjs.cloudflare.com/ajax/libs/d3/4.5.0/d3.min'\n",
       "    }\n",
       "});\n",
       "\n",
       "var elementInnerHTML = \"<div id='bgzmtqeuhfkoqcvs'></div>\";\n",
       "\n",
       "element.append(elementInnerHTML);\n",
       "\n",
       "require(['d3'], function (d3) {\n",
       "    return init_d3_force(d3, {\"directed\": true, \"multigraph\": true, \"graph\": {\"pybel_version\": \"0.15.5\", \"document_metadata\": {}, \"namespace_url\": {}, \"namespace_pattern\": {}, \"annotation_url\": {}, \"annotation_pattern\": {}, \"annotation_list\": {}, \"annotation_curie\": [], \"annotation_miriam\": []}, \"nodes\": [{\"function\": \"Abundance\", \"concept\": {\"namespace\": \"ChEMBL\", \"name\": \"CHEMBL558\"}, \"id\": \"e4776a8d1fdf98744bc35cc635a35309\", \"bel\": \"a(ChEMBL:CHEMBL558)\"}, {\"function\": \"Abundance\", \"concept\": {\"namespace\": \"ChEMBL\", \"name\": \"CHEMBL744\"}, \"id\": \"23de52202c27f4ed629acb679f5b8b19\", \"bel\": \"a(ChEMBL:CHEMBL744)\"}, {\"function\": \"BiologicalProcess\", \"concept\": {\"namespace\": \"GOBP\", \"name\": \"3'-UTR-mediated mRNA destabilization\"}, \"id\": \"01dbc459cc58d74dc7eaa8c0936380c4\", \"bel\": \"bp(GOBP:\\\"3'-UTR-mediated mRNA destabilization\\\")\"}, {\"function\": \"BiologicalProcess\", \"concept\": {\"namespace\": \"GOBP\", \"name\": \"3'-UTR-mediated mRNA stabilization\"}, \"id\": \"45bac945f8f0b2c1d848503a524c1e31\", \"bel\": \"bp(GOBP:\\\"3'-UTR-mediated mRNA stabilization\\\")\"}, {\"function\": \"BiologicalProcess\", \"concept\": {\"namespace\": \"GOBP\", \"name\": \"RNA splicing\"}, \"id\": \"d2925ea6e7017f75dc8277d22f932b5e\", \"bel\": \"bp(GOBP:\\\"RNA splicing\\\")\"}, {\"function\": \"BiologicalProcess\", \"concept\": {\"namespace\": \"GOBP\", \"name\": \"action potential initiation\"}, \"id\": \"5df63bb1b6e15aead13641c640ca622d\", \"bel\": \"bp(GOBP:\\\"action potential initiation\\\")\"}, {\"function\": \"BiologicalProcess\", \"concept\": {\"namespace\": \"GOBP\", \"name\": \"amyloid fibril formation\"}, \"id\": \"0e6afc4dfbc97ad4126e698bc6faae15\", \"bel\": \"bp(GOBP:\\\"amyloid fibril formation\\\")\"}, {\"function\": \"BiologicalProcess\", \"concept\": {\"namespace\": \"GOBP\", \"name\": \"anterograde axonal transport\"}, \"id\": \"d39999104fd1d8ebd01239d4c9e6305c\", \"bel\": \"bp(GOBP:\\\"anterograde axonal transport\\\")\"}, {\"function\": \"BiologicalProcess\", \"concept\": {\"namespace\": \"GOBP\", \"name\": \"apoptotic process\"}, \"id\": \"0f56ef6bc19f1df7621887c9c67adda6\", \"bel\": \"bp(GOBP:\\\"apoptotic process\\\")\"}, {\"function\": \"BiologicalProcess\", \"concept\": {\"namespace\": \"GOBP\", \"name\": \"determination of adult lifespan\"}, \"id\": \"c3894bb5e7e5872851608442ac5cb301\", \"bel\": \"bp(GOBP:\\\"determination of adult lifespan\\\")\"}, {\"function\": \"BiologicalProcess\", \"concept\": {\"namespace\": \"GOBP\", \"name\": \"embryo implantation\"}, \"id\": \"718c9f8161efdbe7089ed2a834da1095\", \"bel\": \"bp(GOBP:\\\"embryo implantation\\\")\"}, {\"function\": \"BiologicalProcess\", \"concept\": {\"namespace\": \"GOBP\", \"name\": \"heart contraction\"}, \"id\": \"6879af871f3ef7121b12a975092ce204\", \"bel\": \"bp(GOBP:\\\"heart contraction\\\")\"}, {\"function\": \"BiologicalProcess\", \"concept\": {\"namespace\": \"GOBP\", \"name\": \"hydrogen peroxide biosynthetic process\"}, \"id\": \"573aebf9b8ea7bdfd06b01ee9542c801\", \"bel\": \"bp(GOBP:\\\"hydrogen peroxide biosynthetic process\\\")\"}, {\"function\": \"BiologicalProcess\", \"concept\": {\"namespace\": \"GOBP\", \"name\": \"intracellular iron ion homeostasis\"}, \"id\": \"89ff0673adff99c192cc9dd2b97f38a2\", \"bel\": \"bp(GOBP:\\\"intracellular iron ion homeostasis\\\")\"}, {\"function\": \"BiologicalProcess\", \"concept\": {\"namespace\": \"GOBP\", \"name\": \"locomotory behavior\"}, \"id\": \"b39fe2781f403b4c1c92bb7a2fbef198\", \"bel\": \"bp(GOBP:\\\"locomotory behavior\\\")\"}, {\"function\": \"BiologicalProcess\", \"concept\": {\"namespace\": \"GOBP\", \"name\": \"mRNA processing\"}, \"id\": \"375a52991dd01d6c0914e779024a2698\", \"bel\": \"bp(GOBP:\\\"mRNA processing\\\")\"}, {\"function\": \"BiologicalProcess\", \"concept\": {\"namespace\": \"GOBP\", \"name\": \"muscle cell cellular homeostasis\"}, \"id\": \"7341219304795bf489a0f929147f6712\", \"bel\": \"bp(GOBP:\\\"muscle cell cellular homeostasis\\\")\"}, {\"function\": \"BiologicalProcess\", \"concept\": {\"namespace\": \"GOBP\", \"name\": \"negative regulation by host of viral transcription\"}, \"id\": \"10795b86c51d335bea9eb3eb23ec2ad1\", \"bel\": \"bp(GOBP:\\\"negative regulation by host of viral transcription\\\")\"}, {\"function\": \"BiologicalProcess\", \"concept\": {\"namespace\": \"GOBP\", \"name\": \"negative regulation of gene expression\"}, \"id\": \"4341ffb32a63e79ca356aedefc17c03e\", \"bel\": \"bp(GOBP:\\\"negative regulation of gene expression\\\")\"}, {\"function\": \"BiologicalProcess\", \"concept\": {\"namespace\": \"GOBP\", \"name\": \"negative regulation of inflammatory response\"}, \"id\": \"9dac5c05e1685190ae54c50ff2e08973\", \"bel\": \"bp(GOBP:\\\"negative regulation of inflammatory response\\\")\"}, {\"function\": \"BiologicalProcess\", \"concept\": {\"namespace\": \"GOBP\", \"name\": \"negative regulation of neuron apoptotic process\"}, \"id\": \"ca4838733b09ce8ddb37c6efb1b9febf\", \"bel\": \"bp(GOBP:\\\"negative regulation of neuron apoptotic process\\\")\"}, {\"function\": \"BiologicalProcess\", \"concept\": {\"namespace\": \"GOBP\", \"name\": \"negative regulation of protein phosphorylation\"}, \"id\": \"bb0e51f9e0515649ba380ec82b6b2bd2\", \"bel\": \"bp(GOBP:\\\"negative regulation of protein phosphorylation\\\")\"}, {\"function\": \"BiologicalProcess\", \"concept\": {\"namespace\": \"GOBP\", \"name\": \"negative regulation of reproductive process\"}, \"id\": \"1ecc4ae4ba6d3e56273893e482ff7586\", \"bel\": \"bp(GOBP:\\\"negative regulation of reproductive process\\\")\"}, {\"function\": \"BiologicalProcess\", \"concept\": {\"namespace\": \"GOBP\", \"name\": \"neuronal action potential\"}, \"id\": \"06e43424c630e668eb5f7dc0cd33c1af\", \"bel\": \"bp(GOBP:\\\"neuronal action potential\\\")\"}, {\"function\": \"BiologicalProcess\", \"concept\": {\"namespace\": \"GOBP\", \"name\": \"nuclear inner membrane organization\"}, \"id\": \"0fec83328b9e6443e380b38302a04a74\", \"bel\": \"bp(GOBP:\\\"nuclear inner membrane organization\\\")\"}, {\"function\": \"BiologicalProcess\", \"concept\": {\"namespace\": \"GOBP\", \"name\": \"peripheral nervous system myelin maintenance\"}, \"id\": \"a046b88b3486b5dccb14915a98055d07\", \"bel\": \"bp(GOBP:\\\"peripheral nervous system myelin maintenance\\\")\"}, {\"function\": \"BiologicalProcess\", \"concept\": {\"namespace\": \"GOBP\", \"name\": \"positive regulation of MAPK cascade\"}, \"id\": \"e14fc092c0e016af6c256dc5fa91fa7f\", \"bel\": \"bp(GOBP:\\\"positive regulation of MAPK cascade\\\")\"}, {\"function\": \"BiologicalProcess\", \"concept\": {\"namespace\": \"GOBP\", \"name\": \"positive regulation of apoptotic process\"}, \"id\": \"38023fbad9affcfef45a45216c542a40\", \"bel\": \"bp(GOBP:\\\"positive regulation of apoptotic process\\\")\"}, {\"function\": \"BiologicalProcess\", \"concept\": {\"namespace\": \"GOBP\", \"name\": \"positive regulation of cytokine production\"}, \"id\": \"7c4a45e9a635f613f5d9ee9fe7ed9536\", \"bel\": \"bp(GOBP:\\\"positive regulation of cytokine production\\\")\"}, {\"function\": \"BiologicalProcess\", \"concept\": {\"namespace\": \"GOBP\", \"name\": \"positive regulation of insulin secretion\"}, \"id\": \"4beefd457cdc43512f27ee0494c96b49\", \"bel\": \"bp(GOBP:\\\"positive regulation of insulin secretion\\\")\"}, {\"function\": \"BiologicalProcess\", \"concept\": {\"namespace\": \"GOBP\", \"name\": \"positive regulation of oxidative stress-induced intrinsic apoptotic signaling pathway\"}, \"id\": \"4f4918b6b7cb8ee714579a23ccff0ca1\", \"bel\": \"bp(GOBP:\\\"positive regulation of oxidative stress-induced intrinsic apoptotic signaling pathway\\\")\"}, {\"function\": \"BiologicalProcess\", \"concept\": {\"namespace\": \"GOBP\", \"name\": \"positive regulation of phagocytosis\"}, \"id\": \"d04679cf039ae2a6d1f22fad9ec162bc\", \"bel\": \"bp(GOBP:\\\"positive regulation of phagocytosis\\\")\"}, {\"function\": \"BiologicalProcess\", \"concept\": {\"namespace\": \"GOBP\", \"name\": \"positive regulation of protein import into nucleus\"}, \"id\": \"9bd8d9c15d811ace5906c81268067d90\", \"bel\": \"bp(GOBP:\\\"positive regulation of protein import into nucleus\\\")\"}, {\"function\": \"BiologicalProcess\", \"concept\": {\"namespace\": \"GOBP\", \"name\": \"regulation of GTPase activity\"}, \"id\": \"72fd6cdf5bce132adde0040bb22a2027\", \"bel\": \"bp(GOBP:\\\"regulation of GTPase activity\\\")\"}, {\"function\": \"BiologicalProcess\", \"concept\": {\"namespace\": \"GOBP\", \"name\": \"regulation of T cell differentiation in thymus\"}, \"id\": \"77c5c2a5ce86bea5c2cb27b268b9007b\", \"bel\": \"bp(GOBP:\\\"regulation of T cell differentiation in thymus\\\")\"}, {\"function\": \"BiologicalProcess\", \"concept\": {\"namespace\": \"GOBP\", \"name\": \"regulation of apoptotic process\"}, \"id\": \"051052257b87b745e74653509ac33586\", \"bel\": \"bp(GOBP:\\\"regulation of apoptotic process\\\")\"}, {\"function\": \"BiologicalProcess\", \"concept\": {\"namespace\": \"GOBP\", \"name\": \"regulation of blood pressure\"}, \"id\": \"352d9f3219cb50a6faa1f13be1fc0872\", \"bel\": \"bp(GOBP:\\\"regulation of blood pressure\\\")\"}, {\"function\": \"BiologicalProcess\", \"concept\": {\"namespace\": \"GOBP\", \"name\": \"regulation of cell cycle\"}, \"id\": \"25b9c241c82a8882f666aa31aa4d02a9\", \"bel\": \"bp(GOBP:\\\"regulation of cell cycle\\\")\"}, {\"function\": \"BiologicalProcess\", \"concept\": {\"namespace\": \"GOBP\", \"name\": \"regulation of circadian rhythm\"}, \"id\": \"f2e3a4d7ec8deddb90d98d812bbee9f2\", \"bel\": \"bp(GOBP:\\\"regulation of circadian rhythm\\\")\"}, {\"function\": \"BiologicalProcess\", \"concept\": {\"namespace\": \"GOBP\", \"name\": \"regulation of gene expression\"}, \"id\": \"7a8ca24146990d9a5148f84f5bd83500\", \"bel\": \"bp(GOBP:\\\"regulation of gene expression\\\")\"}, {\"function\": \"BiologicalProcess\", \"concept\": {\"namespace\": \"GOBP\", \"name\": \"regulation of mitochondrial membrane potential\"}, \"id\": \"f56ef6a22e0c6799b186efc2303e5b48\", \"bel\": \"bp(GOBP:\\\"regulation of mitochondrial membrane potential\\\")\"}, {\"function\": \"BiologicalProcess\", \"concept\": {\"namespace\": \"GOBP\", \"name\": \"regulation of organ growth\"}, \"id\": \"809d330af06b822fa301658e44d5579c\", \"bel\": \"bp(GOBP:\\\"regulation of organ growth\\\")\"}, {\"function\": \"BiologicalProcess\", \"concept\": {\"namespace\": \"GOBP\", \"name\": \"regulation of protein stability\"}, \"id\": \"cafff6e99e005c16e36e6b5a2b518123\", \"bel\": \"bp(GOBP:\\\"regulation of protein stability\\\")\"}, {\"function\": \"BiologicalProcess\", \"concept\": {\"namespace\": \"GOBP\", \"name\": \"removal of superoxide radicals\"}, \"id\": \"44c05829e11eb7230d79c47f7d9a0772\", \"bel\": \"bp(GOBP:\\\"removal of superoxide radicals\\\")\"}, {\"function\": \"BiologicalProcess\", \"concept\": {\"namespace\": \"GOBP\", \"name\": \"response to axon injury\"}, \"id\": \"70530628b59bd926b8c980ed7d6436e3\", \"bel\": \"bp(GOBP:\\\"response to axon injury\\\")\"}, {\"function\": \"BiologicalProcess\", \"concept\": {\"namespace\": \"GOBP\", \"name\": \"response to endoplasmic reticulum stress\"}, \"id\": \"fca37a64b2a17e5107b101a38a9257a5\", \"bel\": \"bp(GOBP:\\\"response to endoplasmic reticulum stress\\\")\"}, {\"function\": \"BiologicalProcess\", \"concept\": {\"namespace\": \"GOBP\", \"name\": \"response to ethanol\"}, \"id\": \"69a146fdf44b7052bcb0b83d8c5b807a\", \"bel\": \"bp(GOBP:\\\"response to ethanol\\\")\"}, {\"function\": \"BiologicalProcess\", \"concept\": {\"namespace\": \"GOBP\", \"name\": \"response to hydrogen peroxide\"}, \"id\": \"a82b08cc5063e32ec61709bc28b8ef1b\", \"bel\": \"bp(GOBP:\\\"response to hydrogen peroxide\\\")\"}, {\"function\": \"BiologicalProcess\", \"concept\": {\"namespace\": \"GOBP\", \"name\": \"response to xenobiotic stimulus\"}, \"id\": \"1aa04402844d3d56629bf300bbbab12e\", \"bel\": \"bp(GOBP:\\\"response to xenobiotic stimulus\\\")\"}, {\"function\": \"BiologicalProcess\", \"concept\": {\"namespace\": \"GOBP\", \"name\": \"retina homeostasis\"}, \"id\": \"9cf06e88d30fa7c4cf4e36c589401e92\", \"bel\": \"bp(GOBP:\\\"retina homeostasis\\\")\"}, {\"function\": \"BiologicalProcess\", \"concept\": {\"namespace\": \"GOBP\", \"name\": \"retrograde axonal transport\"}, \"id\": \"57d77319566123d80fe7a04d94fffe33\", \"bel\": \"bp(GOBP:\\\"retrograde axonal transport\\\")\"}, {\"function\": \"BiologicalProcess\", \"concept\": {\"namespace\": \"GOBP\", \"name\": \"rhythmic process\"}, \"id\": \"b920ff9bb245203308c845c83e72250d\", \"bel\": \"bp(GOBP:\\\"rhythmic process\\\")\"}, {\"function\": \"BiologicalProcess\", \"concept\": {\"namespace\": \"GOBP\", \"name\": \"sensory perception of sound\"}, \"id\": \"5b5ad55cc848089dbcec5c062475c5fe\", \"bel\": \"bp(GOBP:\\\"sensory perception of sound\\\")\"}, {\"function\": \"BiologicalProcess\", \"concept\": {\"namespace\": \"GOMF\", \"name\": \"DNA binding\"}, \"id\": \"ac6b8a4c7f785a1807f346124a66b278\", \"bel\": \"bp(GOMF:\\\"DNA binding\\\")\"}, {\"function\": \"BiologicalProcess\", \"concept\": {\"namespace\": \"GOMF\", \"name\": \"RNA binding\"}, \"id\": \"dcd39b8fd45b642952a210af4b841bfd\", \"bel\": \"bp(GOMF:\\\"RNA binding\\\")\"}, {\"function\": \"BiologicalProcess\", \"concept\": {\"namespace\": \"GOMF\", \"name\": \"RNA polymerase II cis-regulatory region sequence-specific DNA binding\"}, \"id\": \"2abcfbce06f9b3def0738bd122bbbb25\", \"bel\": \"bp(GOMF:\\\"RNA polymerase II cis-regulatory region sequence-specific DNA binding\\\")\"}, {\"function\": \"BiologicalProcess\", \"concept\": {\"namespace\": \"GOMF\", \"name\": \"double-stranded DNA binding\"}, \"id\": \"622393f9dd900bdd8bdccf0f0f8a675b\", \"bel\": \"bp(GOMF:\\\"double-stranded DNA binding\\\")\"}, {\"function\": \"BiologicalProcess\", \"concept\": {\"namespace\": \"GOMF\", \"name\": \"identical protein binding\"}, \"id\": \"4f2045a40dd6f8f8036ef30eb4717cdf\", \"bel\": \"bp(GOMF:\\\"identical protein binding\\\")\"}, {\"function\": \"BiologicalProcess\", \"concept\": {\"namespace\": \"GOMF\", \"name\": \"lipid binding\"}, \"id\": \"5033474c64c453f26e13b0f1b310a11f\", \"bel\": \"bp(GOMF:\\\"lipid binding\\\")\"}, {\"function\": \"BiologicalProcess\", \"concept\": {\"namespace\": \"GOMF\", \"name\": \"mRNA 3'-UTR binding\"}, \"id\": \"5dd2f9628a29376537204a8ea83ba1f4\", \"bel\": \"bp(GOMF:\\\"mRNA 3'-UTR binding\\\")\"}, {\"function\": \"BiologicalProcess\", \"concept\": {\"namespace\": \"GOMF\", \"name\": \"molecular condensate scaffold activity\"}, \"id\": \"b7dd5ba4b05d92b0f4912dd37aba9781\", \"bel\": \"bp(GOMF:\\\"molecular condensate scaffold activity\\\")\"}, {\"function\": \"BiologicalProcess\", \"concept\": {\"namespace\": \"GOMF\", \"name\": \"pre-mRNA intronic binding\"}, \"id\": \"5fd3e36984061467058d15dd2c0adabf\", \"bel\": \"bp(GOMF:\\\"pre-mRNA intronic binding\\\")\"}, {\"function\": \"BiologicalProcess\", \"concept\": {\"namespace\": \"GOMF\", \"name\": \"protein homodimerization activity\"}, \"id\": \"dfe18221569debc38b3312026ab8980d\", \"bel\": \"bp(GOMF:\\\"protein homodimerization activity\\\")\"}, {\"function\": \"BiologicalProcess\", \"concept\": {\"namespace\": \"GOMF\", \"name\": \"protein-folding chaperone binding\"}, \"id\": \"55df54dbe0bde8187c7d281483cc1f17\", \"bel\": \"bp(GOMF:\\\"protein-folding chaperone binding\\\")\"}, {\"function\": \"BiologicalProcess\", \"concept\": {\"namespace\": \"GOMF\", \"name\": \"superoxide dismutase activity\"}, \"id\": \"f36b747bba8b2db96beb3b48fccf9560\", \"bel\": \"bp(GOMF:\\\"superoxide dismutase activity\\\")\"}, {\"function\": \"BiologicalProcess\", \"concept\": {\"namespace\": \"GOMF\", \"name\": \"zinc ion binding\"}, \"id\": \"142823510850c57713b4c1321be822cb\", \"bel\": \"bp(GOMF:\\\"zinc ion binding\\\")\"}, {\"function\": \"BiologicalProcess\", \"concept\": {\"namespace\": \"MOA\", \"name\": \"Sodium channel alpha subunit blocker\"}, \"id\": \"082d6cb3c6a4cc413dcfff8e87cb11fe\", \"bel\": \"bp(MOA:\\\"Sodium channel alpha subunit blocker\\\")\"}, {\"function\": \"Gene\", \"concept\": {\"namespace\": \"dbSNP\", \"name\": \"rs80265967\"}, \"id\": \"805cd2b06b64a7fff9c59d33cd213801\", \"bel\": \"g(dbSNP:rs80265967)\"}, {\"function\": \"Protein\", \"concept\": {\"namespace\": \"HGNC\", \"name\": \"SOD1\"}, \"id\": \"706116ed914ade77428db2dcc85fff62\", \"bel\": \"p(HGNC:SOD1)\"}, {\"function\": \"Protein\", \"concept\": {\"namespace\": \"HGNC\", \"name\": \"TARDBP\"}, \"id\": \"d75da741c62ed3bc66c055d9cf679b6e\", \"bel\": \"p(HGNC:TARDBP)\"}, {\"function\": \"Pathology\", \"concept\": {\"namespace\": \"SideEffect\", \"name\": \"alanine aminotransferase increased\"}, \"id\": \"268904b5feced05843a9e1e04ae91b7f\", \"bel\": \"path(SideEffect:\\\"alanine aminotransferase increased\\\")\"}, {\"function\": \"Pathology\", \"concept\": {\"namespace\": \"SideEffect\", \"name\": \"amyotrophic lateral sclerosis\"}, \"id\": \"f493e3350d0fcf08ca6b0d659ff2a8a0\", \"bel\": \"path(SideEffect:\\\"amyotrophic lateral sclerosis\\\")\"}, {\"function\": \"Pathology\", \"concept\": {\"namespace\": \"SideEffect\", \"name\": \"arrhythmic storm\"}, \"id\": \"4aca480fafa58cb0cc67a140e4ffc358\", \"bel\": \"path(SideEffect:\\\"arrhythmic storm\\\")\"}, {\"function\": \"Pathology\", \"concept\": {\"namespace\": \"SideEffect\", \"name\": \"aspartate aminotransferase increased\"}, \"id\": \"57773c17aa589edefcdde621cc2bde8e\", \"bel\": \"path(SideEffect:\\\"aspartate aminotransferase increased\\\")\"}, {\"function\": \"Pathology\", \"concept\": {\"namespace\": \"SideEffect\", \"name\": \"autoimmune thyroiditis\"}, \"id\": \"aaf091ea3bc7fdd4883c93ff5df48124\", \"bel\": \"path(SideEffect:\\\"autoimmune thyroiditis\\\")\"}, {\"function\": \"Pathology\", \"concept\": {\"namespace\": \"SideEffect\", \"name\": \"blood lactate dehydrogenase increased\"}, \"id\": \"3b1f540cdc23921c022fa16b94cb8274\", \"bel\": \"path(SideEffect:\\\"blood lactate dehydrogenase increased\\\")\"}, {\"function\": \"Pathology\", \"concept\": {\"namespace\": \"SideEffect\", \"name\": \"bone density decreased\"}, \"id\": \"837feea7bad769664c7a8cb5635cd68a\", \"bel\": \"path(SideEffect:\\\"bone density decreased\\\")\"}, {\"function\": \"Pathology\", \"concept\": {\"namespace\": \"SideEffect\", \"name\": \"cardiogenic shock\"}, \"id\": \"fbb1b8c7f2d88dc00506de189ab7d505\", \"bel\": \"path(SideEffect:\\\"cardiogenic shock\\\")\"}, {\"function\": \"Pathology\", \"concept\": {\"namespace\": \"SideEffect\", \"name\": \"cervical spinal cord paralysis\"}, \"id\": \"8a7ce6ddc10f924526ceac1682c9b3fb\", \"bel\": \"path(SideEffect:\\\"cervical spinal cord paralysis\\\")\"}, {\"function\": \"Pathology\", \"concept\": {\"namespace\": \"SideEffect\", \"name\": \"circulatory failure neonatal\"}, \"id\": \"fa1f99c6b7d56b262cdea1228bc72d34\", \"bel\": \"path(SideEffect:\\\"circulatory failure neonatal\\\")\"}, {\"function\": \"Pathology\", \"concept\": {\"namespace\": \"SideEffect\", \"name\": \"device effect incomplete\"}, \"id\": \"5124559c96d77b8271c0f28f3279f768\", \"bel\": \"path(SideEffect:\\\"device effect incomplete\\\")\"}, {\"function\": \"Pathology\", \"concept\": {\"namespace\": \"SideEffect\", \"name\": \"disease progression\"}, \"id\": \"328c6a29d2e728d1ca2bd3905c1b5a1b\", \"bel\": \"path(SideEffect:\\\"disease progression\\\")\"}, {\"function\": \"Pathology\", \"concept\": {\"namespace\": \"SideEffect\", \"name\": \"drug reaction with eosinophilia and systemic symptoms\"}, \"id\": \"5a932e1fc42cd8154f7716fbde587999\", \"bel\": \"path(SideEffect:\\\"drug reaction with eosinophilia and systemic symptoms\\\")\"}, {\"function\": \"Pathology\", \"concept\": {\"namespace\": \"SideEffect\", \"name\": \"electrocardiogram qt prolonged\"}, \"id\": \"06957f5a5897d69a6f5448d1f76df637\", \"bel\": \"path(SideEffect:\\\"electrocardiogram qt prolonged\\\")\"}, {\"function\": \"Pathology\", \"concept\": {\"namespace\": \"SideEffect\", \"name\": \"electrocardiogram t wave alternans\"}, \"id\": \"5ae04d85d457375c0fb1b4c57a2dc386\", \"bel\": \"path(SideEffect:\\\"electrocardiogram t wave alternans\\\")\"}, {\"function\": \"Pathology\", \"concept\": {\"namespace\": \"SideEffect\", \"name\": \"excessive granulation tissue\"}, \"id\": \"14fa25143c756e087d87c620ab34daa8\", \"bel\": \"path(SideEffect:\\\"excessive granulation tissue\\\")\"}, {\"function\": \"Pathology\", \"concept\": {\"namespace\": \"SideEffect\", \"name\": \"hepatic enzyme increased\"}, \"id\": \"e22223b6108245ca3338ae330e4f0a78\", \"bel\": \"path(SideEffect:\\\"hepatic enzyme increased\\\")\"}, {\"function\": \"Pathology\", \"concept\": {\"namespace\": \"SideEffect\", \"name\": \"herpes zoster\"}, \"id\": \"124c43164914172a143ccd527d97c2e0\", \"bel\": \"path(SideEffect:\\\"herpes zoster\\\")\"}, {\"function\": \"Pathology\", \"concept\": {\"namespace\": \"SideEffect\", \"name\": \"human herpesvirus 6 infection\"}, \"id\": \"847bc58e6989cd8be552f5ce55ec39db\", \"bel\": \"path(SideEffect:\\\"human herpesvirus 6 infection\\\")\"}, {\"function\": \"Pathology\", \"concept\": {\"namespace\": \"SideEffect\", \"name\": \"immune thrombocytopenia\"}, \"id\": \"bb02136b0bb75dc9e2bab50915afbcc0\", \"bel\": \"path(SideEffect:\\\"immune thrombocytopenia\\\")\"}, {\"function\": \"Pathology\", \"concept\": {\"namespace\": \"SideEffect\", \"name\": \"impaired quality of life\"}, \"id\": \"234738cc5d88b3b8fb84fbc4291b44b3\", \"bel\": \"path(SideEffect:\\\"impaired quality of life\\\")\"}, {\"function\": \"Pathology\", \"concept\": {\"namespace\": \"SideEffect\", \"name\": \"impaired work ability\"}, \"id\": \"321b06762638a2535c5174b9b0996395\", \"bel\": \"path(SideEffect:\\\"impaired work ability\\\")\"}, {\"function\": \"Pathology\", \"concept\": {\"namespace\": \"SideEffect\", \"name\": \"inhibitory drug interaction\"}, \"id\": \"a74363f147e6f8857a6b552cf6b0190d\", \"bel\": \"path(SideEffect:\\\"inhibitory drug interaction\\\")\"}, {\"function\": \"Pathology\", \"concept\": {\"namespace\": \"SideEffect\", \"name\": \"interstitial lung disease\"}, \"id\": \"48866de3c7f7947b2c9307645a75581c\", \"bel\": \"path(SideEffect:\\\"interstitial lung disease\\\")\"}, {\"function\": \"Pathology\", \"concept\": {\"namespace\": \"SideEffect\", \"name\": \"ischaemic hepatitis\"}, \"id\": \"01793299d31e1aedef3f7d9e413e3e70\", \"bel\": \"path(SideEffect:\\\"ischaemic hepatitis\\\")\"}, {\"function\": \"Pathology\", \"concept\": {\"namespace\": \"SideEffect\", \"name\": \"long qt syndrome\"}, \"id\": \"6b48f17ad251abedd314091d1bb1e4b6\", \"bel\": \"path(SideEffect:\\\"long qt syndrome\\\")\"}, {\"function\": \"Pathology\", \"concept\": {\"namespace\": \"SideEffect\", \"name\": \"low birth weight baby\"}, \"id\": \"7e61b95341c403cf48e504b3b56a508b\", \"bel\": \"path(SideEffect:\\\"low birth weight baby\\\")\"}, {\"function\": \"Pathology\", \"concept\": {\"namespace\": \"SideEffect\", \"name\": \"lung consolidation\"}, \"id\": \"563b92c0d9abe33768e6a741bc60cee4\", \"bel\": \"path(SideEffect:\\\"lung consolidation\\\")\"}, {\"function\": \"Pathology\", \"concept\": {\"namespace\": \"SideEffect\", \"name\": \"lymphocyte stimulation test positive\"}, \"id\": \"6f67a1fd826ec92f2a8eb47b3feb1b6b\", \"bel\": \"path(SideEffect:\\\"lymphocyte stimulation test positive\\\")\"}, {\"function\": \"Pathology\", \"concept\": {\"namespace\": \"SideEffect\", \"name\": \"motor neurone disease\"}, \"id\": \"833dd75bc3952c23dcbe3cc06ff9c69b\", \"bel\": \"path(SideEffect:\\\"motor neurone disease\\\")\"}, {\"function\": \"Pathology\", \"concept\": {\"namespace\": \"SideEffect\", \"name\": \"nodal rhythm\"}, \"id\": \"72b9d8f7da5fd455daf3b97006bdb86f\", \"bel\": \"path(SideEffect:\\\"nodal rhythm\\\")\"}, {\"function\": \"Pathology\", \"concept\": {\"namespace\": \"SideEffect\", \"name\": \"oral herpes\"}, \"id\": \"25f822fd828331964a2c6ae15aef287a\", \"bel\": \"path(SideEffect:\\\"oral herpes\\\")\"}, {\"function\": \"Pathology\", \"concept\": {\"namespace\": \"SideEffect\", \"name\": \"pancreatitis acute\"}, \"id\": \"1a49d8dbae7e36a22c1a56638cce0adb\", \"bel\": \"path(SideEffect:\\\"pancreatitis acute\\\")\"}, {\"function\": \"Pathology\", \"concept\": {\"namespace\": \"SideEffect\", \"name\": \"pancreatitis relapsing\"}, \"id\": \"0ef0e02637307e05f7182841cd494ac8\", \"bel\": \"path(SideEffect:\\\"pancreatitis relapsing\\\")\"}, {\"function\": \"Pathology\", \"concept\": {\"namespace\": \"SideEffect\", \"name\": \"poor quality sleep\"}, \"id\": \"c75a07c9c84fda573b710ace7569ed2c\", \"bel\": \"path(SideEffect:\\\"poor quality sleep\\\")\"}, {\"function\": \"Pathology\", \"concept\": {\"namespace\": \"SideEffect\", \"name\": \"portal vein thrombosis\"}, \"id\": \"b97fe5c27829403de4c80afe52e5c7ba\", \"bel\": \"path(SideEffect:\\\"portal vein thrombosis\\\")\"}, {\"function\": \"Pathology\", \"concept\": {\"namespace\": \"SideEffect\", \"name\": \"premature labour\"}, \"id\": \"d2c96b350c21a65f5d0acf6b0bbfcf2c\", \"bel\": \"path(SideEffect:\\\"premature labour\\\")\"}, {\"function\": \"Pathology\", \"concept\": {\"namespace\": \"SideEffect\", \"name\": \"progressive bulbar palsy\"}, \"id\": \"fbce68218f2e42d47ac83b86dc8c3813\", \"bel\": \"path(SideEffect:\\\"progressive bulbar palsy\\\")\"}, {\"function\": \"Pathology\", \"concept\": {\"namespace\": \"SideEffect\", \"name\": \"pulmonary toxicity\"}, \"id\": \"334c82b18d04bd434e09f84bf9ba6c5b\", \"bel\": \"path(SideEffect:\\\"pulmonary toxicity\\\")\"}, {\"function\": \"Pathology\", \"concept\": {\"namespace\": \"SideEffect\", \"name\": \"rash morbilliform\"}, \"id\": \"afeb71a1a265e22d9c2ae3a8405f5aea\", \"bel\": \"path(SideEffect:\\\"rash morbilliform\\\")\"}, {\"function\": \"Pathology\", \"concept\": {\"namespace\": \"SideEffect\", \"name\": \"sinus bradycardia\"}, \"id\": \"9292f6c3375c0fa8626ae6b60f38c848\", \"bel\": \"path(SideEffect:\\\"sinus bradycardia\\\")\"}, {\"function\": \"Pathology\", \"concept\": {\"namespace\": \"SideEffect\", \"name\": \"skin disorder\"}, \"id\": \"ade6f54df93e33c2e63bf81e46aa602a\", \"bel\": \"path(SideEffect:\\\"skin disorder\\\")\"}, {\"function\": \"Pathology\", \"concept\": {\"namespace\": \"SideEffect\", \"name\": \"sulphaemoglobin increased\"}, \"id\": \"df9d77de451e467026b74044dcdb0073\", \"bel\": \"path(SideEffect:\\\"sulphaemoglobin increased\\\")\"}, {\"function\": \"Pathology\", \"concept\": {\"namespace\": \"SideEffect\", \"name\": \"symptom masked\"}, \"id\": \"3ecfd9042c72a7c743fb05b70e35c2a5\", \"bel\": \"path(SideEffect:\\\"symptom masked\\\")\"}, {\"function\": \"Pathology\", \"concept\": {\"namespace\": \"SideEffect\", \"name\": \"traumatic lung injury\"}, \"id\": \"2f0b1ae76783bf3fd2a86eebacec23d1\", \"bel\": \"path(SideEffect:\\\"traumatic lung injury\\\")\"}, {\"function\": \"Pathology\", \"concept\": {\"namespace\": \"SideEffect\", \"name\": \"treatment failure\"}, \"id\": \"33b67cbaa84b37542d6f3af808cd5132\", \"bel\": \"path(SideEffect:\\\"treatment failure\\\")\"}, {\"function\": \"Pathology\", \"concept\": {\"namespace\": \"SideEffect\", \"name\": \"ventricular arrhythmia\"}, \"id\": \"a6ce18e47240e875452dc6b774bf66ed\", \"bel\": \"path(SideEffect:\\\"ventricular arrhythmia\\\")\"}, {\"function\": \"Pathology\", \"concept\": {\"namespace\": \"SideEffect\", \"name\": \"ventricular tachycardia\"}, \"id\": \"f72eb92ed817f65e8fa0234233b96885\", \"bel\": \"path(SideEffect:\\\"ventricular tachycardia\\\")\"}, {\"function\": \"Pathology\", \"concept\": {\"namespace\": \"SideEffect\", \"name\": \"weight increased\"}, \"id\": \"330a4ce473901bcd00ef5a76833d0001\", \"bel\": \"path(SideEffect:\\\"weight increased\\\")\"}, {\"function\": \"Pathology\", \"concept\": {\"namespace\": \"SideEffect\", \"name\": \"arrhythmia\"}, \"id\": \"962cd5b4794205ead8161b30ccda6ef1\", \"bel\": \"path(SideEffect:arrhythmia)\"}, {\"function\": \"Pathology\", \"concept\": {\"namespace\": \"SideEffect\", \"name\": \"atelectasis\"}, \"id\": \"dab06fd6edcf39c0c7d6b27f7e839c79\", \"bel\": \"path(SideEffect:atelectasis)\"}, {\"function\": \"Pathology\", \"concept\": {\"namespace\": \"SideEffect\", \"name\": \"cataract\"}, \"id\": \"69bfc918df0705fb79f6d18a65429789\", \"bel\": \"path(SideEffect:cataract)\"}, {\"function\": \"Pathology\", \"concept\": {\"namespace\": \"SideEffect\", \"name\": \"cellulitis\"}, \"id\": \"430593d602e44bc1a92b6ee3af99a5a4\", \"bel\": \"path(SideEffect:cellulitis)\"}, {\"function\": \"Pathology\", \"concept\": {\"namespace\": \"SideEffect\", \"name\": \"contusion\"}, \"id\": \"2cf132b383b5c3994b3e45db3f941f63\", \"bel\": \"path(SideEffect:contusion)\"}, {\"function\": \"Pathology\", \"concept\": {\"namespace\": \"SideEffect\", \"name\": \"emphysema\"}, \"id\": \"a5b77c8f9235674ec900eb944202ba8a\", \"bel\": \"path(SideEffect:emphysema)\"}, {\"function\": \"Pathology\", \"concept\": {\"namespace\": \"SideEffect\", \"name\": \"eosinophilia\"}, \"id\": \"eac8152dc47473d4503795ff30610f20\", \"bel\": \"path(SideEffect:eosinophilia)\"}, {\"function\": \"Pathology\", \"concept\": {\"namespace\": \"SideEffect\", \"name\": \"lymphadenopathy\"}, \"id\": \"6ede4048d8867752dcf0449acde0406a\", \"bel\": \"path(SideEffect:lymphadenopathy)\"}, {\"function\": \"Pathology\", \"concept\": {\"namespace\": \"SideEffect\", \"name\": \"myoclonus\"}, \"id\": \"c58800bac9c87a916d7dbfa2dfcfa260\", \"bel\": \"path(SideEffect:myoclonus)\"}, {\"function\": \"Pathology\", \"concept\": {\"namespace\": \"SideEffect\", \"name\": \"neurotoxicity\"}, \"id\": \"52da8257a3ddba6b98b41f35b9f7586c\", \"bel\": \"path(SideEffect:neurotoxicity)\"}], \"links\": [{\"relation\": \"association\", \"evidence\": \"UniProt query\", \"citation\": {\"namespace\": \"pubmed\", \"identifier\": \"UniProt database\"}, \"source\": 68, \"target\": 20, \"key\": \"3e538d7d23464558f287b5a1e2cb46a4\"}, {\"relation\": \"association\", \"evidence\": \"UniProt query\", \"citation\": {\"namespace\": \"pubmed\", \"identifier\": \"UniProt database\"}, \"source\": 68, \"target\": 5, \"key\": \"00fab41b556e613afecf7811e34cdf9c\"}, {\"relation\": \"association\", \"evidence\": \"UniProt query\", \"citation\": {\"namespace\": \"pubmed\", \"identifier\": \"UniProt database\"}, \"source\": 68, \"target\": 7, \"key\": \"6d64e1c0ee5bb9ebfd48c208eb1dd1af\"}, {\"relation\": \"association\", \"evidence\": \"UniProt query\", \"citation\": {\"namespace\": \"pubmed\", \"identifier\": \"UniProt database\"}, \"source\": 68, \"target\": 62, \"key\": \"b3642b7b94ff808f4c7b2232ea029008\"}, {\"relation\": \"association\", \"evidence\": \"UniProt query\", \"citation\": {\"namespace\": \"pubmed\", \"identifier\": \"UniProt database\"}, \"source\": 68, \"target\": 63, \"key\": \"305b25ed332fbe3db0db3b402cba2171\"}, {\"relation\": \"association\", \"evidence\": \"UniProt query\", \"citation\": {\"namespace\": \"pubmed\", \"identifier\": \"UniProt database\"}, \"source\": 68, \"target\": 36, \"key\": \"6c29c22b6251e7271c7c234cd6a03925\"}, {\"relation\": \"association\", \"evidence\": \"UniProt query\", \"citation\": {\"namespace\": \"pubmed\", \"identifier\": \"UniProt database\"}, \"source\": 68, \"target\": 22, \"key\": \"c9c83307768b7f4b7979bc509f165f9d\"}, {\"relation\": \"association\", \"evidence\": \"UniProt query\", \"citation\": {\"namespace\": \"pubmed\", \"identifier\": \"UniProt database\"}, \"source\": 68, \"target\": 27, \"key\": \"67410be560e636dad7ff4c0b788d7bd8\"}, {\"relation\": \"association\", \"evidence\": \"UniProt query\", \"citation\": {\"namespace\": \"pubmed\", \"identifier\": \"UniProt database\"}, \"source\": 68, \"target\": 34, \"key\": \"a9392ae2211c804c63fa5dd9f815ad33\"}, {\"relation\": \"association\", \"evidence\": \"UniProt query\", \"citation\": {\"namespace\": \"pubmed\", \"identifier\": \"UniProt database\"}, \"source\": 68, \"target\": 49, \"key\": \"16c8e4e9c73a98243ffa278e9b3055f8\"}, {\"relation\": \"association\", \"evidence\": \"UniProt query\", \"citation\": {\"namespace\": \"pubmed\", \"identifier\": \"UniProt database\"}, \"source\": 68, \"target\": 13, \"key\": \"79760e0714d4cbb831fea04eb8b4f804\"}, {\"relation\": \"association\", \"evidence\": \"UniProt query\", \"citation\": {\"namespace\": \"pubmed\", \"identifier\": \"UniProt database\"}, \"source\": 68, \"target\": 40, \"key\": \"bb8a6df32c66b1f80af86fba3b00788e\"}, {\"relation\": \"association\", \"evidence\": \"UniProt query\", \"citation\": {\"namespace\": \"pubmed\", \"identifier\": \"UniProt database\"}, \"source\": 68, \"target\": 28, \"key\": \"414c49e6ebcd71ec59b19102f7abd71d\"}, {\"relation\": \"association\", \"evidence\": \"UniProt query\", \"citation\": {\"namespace\": \"pubmed\", \"identifier\": \"UniProt database\"}, \"source\": 68, \"target\": 16, \"key\": \"97679a85193d1faf8054b6208611f7b2\"}, {\"relation\": \"association\", \"evidence\": \"UniProt query\", \"citation\": {\"namespace\": \"pubmed\", \"identifier\": \"UniProt database\"}, \"source\": 68, \"target\": 30, \"key\": \"508a7a50a45003d3528b569dfe9e41b6\"}, {\"relation\": \"association\", \"evidence\": \"UniProt query\", \"citation\": {\"namespace\": \"pubmed\", \"identifier\": \"UniProt database\"}, \"source\": 68, \"target\": 57, \"key\": \"17fc96f16479019a643a0770ea75091b\"}, {\"relation\": \"association\", \"evidence\": \"UniProt query\", \"citation\": {\"namespace\": \"pubmed\", \"identifier\": \"UniProt database\"}, \"source\": 68, \"target\": 43, \"key\": \"680f440190403115927c91251e0e4cd2\"}, {\"relation\": \"association\", \"evidence\": \"UniProt query\", \"citation\": {\"namespace\": \"pubmed\", \"identifier\": \"UniProt database\"}, \"source\": 68, \"target\": 31, \"key\": \"9785f6182bfc9e5148ce3a18eb9b5048\"}, {\"relation\": \"association\", \"evidence\": \"UniProt query\", \"citation\": {\"namespace\": \"pubmed\", \"identifier\": \"UniProt database\"}, \"source\": 68, \"target\": 8, \"key\": \"43f4cd953881caa12f7e8677ab52ba87\"}, {\"relation\": \"association\", \"evidence\": \"UniProt query\", \"citation\": {\"namespace\": \"pubmed\", \"identifier\": \"UniProt database\"}, \"source\": 68, \"target\": 47, \"key\": \"9da0b5f6f19f907a39b80aac04b1dccf\"}, {\"relation\": \"association\", \"evidence\": \"UniProt query\", \"citation\": {\"namespace\": \"pubmed\", \"identifier\": \"UniProt database\"}, \"source\": 68, \"target\": 10, \"key\": \"87c0f976da14a613e38ce7c7d564a498\"}, {\"relation\": \"association\", \"evidence\": \"UniProt query\", \"citation\": {\"namespace\": \"pubmed\", \"identifier\": \"UniProt database\"}, \"source\": 68, \"target\": 14, \"key\": \"92d6d6c4c196c878847ade5bee8c2c00\"}, {\"relation\": \"association\", \"evidence\": \"UniProt query\", \"citation\": {\"namespace\": \"pubmed\", \"identifier\": \"UniProt database\"}, \"source\": 68, \"target\": 9, \"key\": \"02dec36fa5611fd3ce92e090c3ebc11d\"}, {\"relation\": \"association\", \"evidence\": \"UniProt query\", \"citation\": {\"namespace\": \"pubmed\", \"identifier\": \"UniProt database\"}, \"source\": 68, \"target\": 12, \"key\": \"af181bbf4d90849ecce3b8639e493e7d\"}, {\"relation\": \"association\", \"evidence\": \"UniProt query\", \"citation\": {\"namespace\": \"pubmed\", \"identifier\": \"UniProt database\"}, \"source\": 68, \"target\": 33, \"key\": \"96513f2e89953da473690c747403e545\"}, {\"relation\": \"association\", \"evidence\": \"UniProt query\", \"citation\": {\"namespace\": \"pubmed\", \"identifier\": \"UniProt database\"}, \"source\": 68, \"target\": 65, \"key\": \"9bd8e650743ec9ba99621bbe63536064\"}, {\"relation\": \"association\", \"evidence\": \"UniProt query\", \"citation\": {\"namespace\": \"pubmed\", \"identifier\": \"UniProt database\"}, \"source\": 68, \"target\": 26, \"key\": \"481438a69d4b99c90a0ab6977eed03b6\"}, {\"relation\": \"association\", \"evidence\": \"UniProt query\", \"citation\": {\"namespace\": \"pubmed\", \"identifier\": \"UniProt database\"}, \"source\": 68, \"target\": 46, \"key\": \"2d119388401f7d0d0694a9950ab6c671\"}, {\"relation\": \"association\", \"evidence\": \"UniProt query\", \"citation\": {\"namespace\": \"pubmed\", \"identifier\": \"UniProt database\"}, \"source\": 68, \"target\": 19, \"key\": \"9150be266c625dcca5b5d2399f345131\"}, {\"relation\": \"association\", \"evidence\": \"UniProt query\", \"citation\": {\"namespace\": \"pubmed\", \"identifier\": \"UniProt database\"}, \"source\": 68, \"target\": 11, \"key\": \"4da4213f92c687510ddaf9b98ca4a57e\"}, {\"relation\": \"association\", \"evidence\": \"UniProt query\", \"citation\": {\"namespace\": \"pubmed\", \"identifier\": \"UniProt database\"}, \"source\": 68, \"target\": 44, \"key\": \"4da4484c6fd4b9f49c5963d9ed0e2c9a\"}, {\"relation\": \"association\", \"evidence\": \"UniProt query\", \"citation\": {\"namespace\": \"pubmed\", \"identifier\": \"UniProt database\"}, \"source\": 68, \"target\": 48, \"key\": \"a966b8f04d390075e8cc9a81390546ea\"}, {\"relation\": \"association\", \"evidence\": \"UniProt query\", \"citation\": {\"namespace\": \"pubmed\", \"identifier\": \"UniProt database\"}, \"source\": 68, \"target\": 50, \"key\": \"253dc35d8a98d13ae48eebac5fef5525\"}, {\"relation\": \"association\", \"evidence\": \"UniProt query\", \"citation\": {\"namespace\": \"pubmed\", \"identifier\": \"UniProt database\"}, \"source\": 68, \"target\": 41, \"key\": \"2855ceb66b98b0880eab2cf396874c0e\"}, {\"relation\": \"association\", \"evidence\": \"UniProt query\", \"citation\": {\"namespace\": \"pubmed\", \"identifier\": \"UniProt database\"}, \"source\": 68, \"target\": 25, \"key\": \"3e89305a1fd374ae108b184de422102e\"}, {\"relation\": \"association\", \"evidence\": \"UniProt query\", \"citation\": {\"namespace\": \"pubmed\", \"identifier\": \"UniProt database\"}, \"source\": 68, \"target\": 64, \"key\": \"c0c668b575775b12169b0d4898b34865\"}, {\"relation\": \"association\", \"evidence\": \"UniProt query\", \"citation\": {\"namespace\": \"pubmed\", \"identifier\": \"UniProt database\"}, \"source\": 68, \"target\": 23, \"key\": \"fb1a0445738bcbe75a1b7556738a50a8\"}, {\"relation\": \"association\", \"evidence\": \"UniProt query\", \"citation\": {\"namespace\": \"pubmed\", \"identifier\": \"UniProt database\"}, \"source\": 68, \"target\": 52, \"key\": \"0049e0877ea574a9cfd4ba0a715c02f4\"}, {\"relation\": \"association\", \"evidence\": \"SNPs for queried disease\", \"citation\": {\"namespace\": \"pubmed\", \"identifier\": \"GWAS Central\"}, \"source\": 68, \"target\": 67, \"key\": \"25affddc16c8687efbdc77aef0381e6e\"}, {\"relation\": \"association\", \"evidence\": \"UniProt query\", \"citation\": {\"namespace\": \"pubmed\", \"identifier\": \"UniProt database\"}, \"source\": 20, \"target\": 68, \"key\": \"6533f0d34af66d8c78b0238d5f5a9f33\"}, {\"relation\": \"association\", \"evidence\": \"DrugReactions\", \"citation\": {\"namespace\": \"pubmed\", \"identifier\": \"OpenTargets Platform\"}, \"source\": 117, \"target\": 0, \"key\": \"a91f93345c5784c32b301843d330dff8\"}, {\"relation\": \"association\", \"evidence\": \"DrugReactions\", \"citation\": {\"namespace\": \"pubmed\", \"identifier\": \"OpenTargets Platform\"}, \"source\": 0, \"target\": 87, \"key\": \"0a0370f228de9068bc6db772d53d618c\"}, {\"relation\": \"association\", \"evidence\": \"DrugReactions\", \"citation\": {\"namespace\": \"pubmed\", \"identifier\": \"OpenTargets Platform\"}, \"source\": 0, \"target\": 100, \"key\": \"e4208b2f53a3cf3c69d8c69e305e3508\"}, {\"relation\": \"association\", \"evidence\": \"DrugReactions\", \"citation\": {\"namespace\": \"pubmed\", \"identifier\": \"OpenTargets Platform\"}, \"source\": 0, \"target\": 90, \"key\": \"e3198f49248eacf8319a6a8f9323e8dd\"}, {\"relation\": \"association\", \"evidence\": \"DrugReactions\", \"citation\": {\"namespace\": \"pubmed\", \"identifier\": \"OpenTargets Platform\"}, \"source\": 0, \"target\": 115, \"key\": \"9ecdd5ac3220186f91ac05c21b89a0af\"}, {\"relation\": \"association\", \"evidence\": \"DrugReactions\", \"citation\": {\"namespace\": \"pubmed\", \"identifier\": \"OpenTargets Platform\"}, \"source\": 0, \"target\": 104, \"key\": \"238b459ea8727af70899eca65d067783\"}, {\"relation\": \"association\", \"evidence\": \"DrugReactions\", \"citation\": {\"namespace\": \"pubmed\", \"identifier\": \"OpenTargets Platform\"}, \"source\": 0, \"target\": 119, \"key\": \"641dbf81d65003b249104b18edd5c3a8\"}, {\"relation\": \"association\", \"evidence\": \"DrugReactions\", \"citation\": {\"namespace\": \"pubmed\", \"identifier\": \"OpenTargets Platform\"}, \"source\": 0, \"target\": 83, \"key\": \"826d85b0aa8ac04bbeb7d648aea2b347\"}, {\"relation\": \"association\", \"evidence\": \"DrugReactions\", \"citation\": {\"namespace\": \"pubmed\", \"identifier\": \"OpenTargets Platform\"}, \"source\": 0, \"target\": 106, \"key\": \"7c296474781fdd2b841433c455ab5f69\"}, {\"relation\": \"association\", \"evidence\": \"DrugReactions\", \"citation\": {\"namespace\": \"pubmed\", \"identifier\": \"OpenTargets Platform\"}, \"source\": 0, \"target\": 122, \"key\": \"37b2ec6ced9c32e736a60fefc29910be\"}, {\"relation\": \"association\", \"evidence\": \"DrugReactions\", \"citation\": {\"namespace\": \"pubmed\", \"identifier\": \"OpenTargets Platform\"}, \"source\": 0, \"target\": 82, \"key\": \"5e53f714211c285a95cff4a4edecd64f\"}, {\"relation\": \"association\", \"evidence\": \"DrugReactions\", \"citation\": {\"namespace\": \"pubmed\", \"identifier\": \"OpenTargets Platform\"}, \"source\": 0, \"target\": 72, \"key\": \"f3e754cee37d3390d50b2911aa5e33fc\"}, {\"relation\": \"association\", \"evidence\": \"DrugReactions\", \"citation\": {\"namespace\": \"pubmed\", \"identifier\": \"OpenTargets Platform\"}, \"source\": 0, \"target\": 77, \"key\": \"a6f934dff53f9622d81a94ede8167ab8\"}, {\"relation\": \"association\", \"evidence\": \"DrugReactions\", \"citation\": {\"namespace\": \"pubmed\", \"identifier\": \"OpenTargets Platform\"}, \"source\": 0, \"target\": 110, \"key\": \"bab281736ce103779a4009ace1c83806\"}, {\"relation\": \"association\", \"evidence\": \"DrugReactions\", \"citation\": {\"namespace\": \"pubmed\", \"identifier\": \"OpenTargets Platform\"}, \"source\": 0, \"target\": 121, \"key\": \"4866c65b43af0bff9717edf30ae122bf\"}, {\"relation\": \"association\", \"evidence\": \"DrugReactions\", \"citation\": {\"namespace\": \"pubmed\", \"identifier\": \"OpenTargets Platform\"}, \"source\": 0, \"target\": 79, \"key\": \"6cd4f99d5b4b80e703c25bf5ac904683\"}, {\"relation\": \"association\", \"evidence\": \"DrugReactions\", \"citation\": {\"namespace\": \"pubmed\", \"identifier\": \"OpenTargets Platform\"}, \"source\": 0, \"target\": 127, \"key\": \"7f618c00aacf67c24b368f3d2e3fb642\"}, {\"relation\": \"association\", \"evidence\": \"DrugReactions\", \"citation\": {\"namespace\": \"pubmed\", \"identifier\": \"OpenTargets Platform\"}, \"source\": 0, \"target\": 113, \"key\": \"9b5d6072e2bf8679431b51c6ed9768bf\"}, {\"relation\": \"association\", \"evidence\": \"DrugReactions\", \"citation\": {\"namespace\": \"pubmed\", \"identifier\": \"OpenTargets Platform\"}, \"source\": 0, \"target\": 91, \"key\": \"4ab3b841cac4215497ad474e51de8857\"}, {\"relation\": \"association\", \"evidence\": \"DrugReactions\", \"citation\": {\"namespace\": \"pubmed\", \"identifier\": \"OpenTargets Platform\"}, \"source\": 0, \"target\": 116, \"key\": \"fa71a0ac9c00ec75f1e3af2fac478046\"}, {\"relation\": \"association\", \"evidence\": \"DrugReactions\", \"citation\": {\"namespace\": \"pubmed\", \"identifier\": \"OpenTargets Platform\"}, \"source\": 0, \"target\": 125, \"key\": \"0abc9aa8ef9f225a7708d7b46fe5a3b9\"}, {\"relation\": \"association\", \"evidence\": \"DrugReactions\", \"citation\": {\"namespace\": \"pubmed\", \"identifier\": \"OpenTargets Platform\"}, \"source\": 0, \"target\": 126, \"key\": \"e138d76f2bf5518969291653f56c776f\"}, {\"relation\": \"association\", \"evidence\": \"DrugReactions\", \"citation\": {\"namespace\": \"pubmed\", \"identifier\": \"OpenTargets Platform\"}, \"source\": 0, \"target\": 74, \"key\": \"542a6e67016c7e8b65f097824d0ede75\"}, {\"relation\": \"association\", \"evidence\": \"DrugReactions\", \"citation\": {\"namespace\": \"pubmed\", \"identifier\": \"OpenTargets Platform\"}, \"source\": 0, \"target\": 92, \"key\": \"acf59553706fb8c5d389bf28dd383dd2\"}, {\"relation\": \"association\", \"evidence\": \"DrugReactions\", \"citation\": {\"namespace\": \"pubmed\", \"identifier\": \"OpenTargets Platform\"}, \"source\": 0, \"target\": 84, \"key\": \"740bb534a1ea5e071f378bc2d64f8d64\"}, {\"relation\": \"association\", \"evidence\": \"DrugReactions\", \"citation\": {\"namespace\": \"pubmed\", \"identifier\": \"OpenTargets Platform\"}, \"source\": 0, \"target\": 128, \"key\": \"26e12778e8b0c026ede564ee6bfb0451\"}, {\"relation\": \"association\", \"evidence\": \"DrugReactions\", \"citation\": {\"namespace\": \"pubmed\", \"identifier\": \"OpenTargets Platform\"}, \"source\": 0, \"target\": 95, \"key\": \"62e0d096da3fd8dde9539caaf44000bd\"}, {\"relation\": \"association\", \"evidence\": \"DrugReactions\", \"citation\": {\"namespace\": \"pubmed\", \"identifier\": \"OpenTargets Platform\"}, \"source\": 0, \"target\": 111, \"key\": \"06c914eee979ed7a3c19fab7c8d9dbc6\"}, {\"relation\": \"association\", \"evidence\": \"DrugReactions\", \"citation\": {\"namespace\": \"pubmed\", \"identifier\": \"OpenTargets Platform\"}, \"source\": 0, \"target\": 118, \"key\": \"79e22e4c35d6170b6a81fd19f0e6131e\"}, {\"relation\": \"association\", \"evidence\": \"DrugReactions\", \"citation\": {\"namespace\": \"pubmed\", \"identifier\": \"OpenTargets Platform\"}, \"source\": 0, \"target\": 123, \"key\": \"16ff4b752c0a045a0087135d8f6c5cdd\"}, {\"relation\": \"association\", \"evidence\": \"DrugReactions\", \"citation\": {\"namespace\": \"pubmed\", \"identifier\": \"OpenTargets Platform\"}, \"source\": 0, \"target\": 101, \"key\": \"e9d26b43b1d3abf1fa2f46b08bde7982\"}, {\"relation\": \"association\", \"evidence\": \"DrugReactions\", \"citation\": {\"namespace\": \"pubmed\", \"identifier\": \"OpenTargets Platform\"}, \"source\": 0, \"target\": 96, \"key\": \"f66b12ba827b10d44e1c9400d577a9b6\"}, {\"relation\": \"association\", \"evidence\": \"DrugReactions\", \"citation\": {\"namespace\": \"pubmed\", \"identifier\": \"OpenTargets Platform\"}, \"source\": 0, \"target\": 76, \"key\": \"905c0d3f4b35432388e175fcf4df8e00\"}, {\"relation\": \"association\", \"evidence\": \"DrugReactions\", \"citation\": {\"namespace\": \"pubmed\", \"identifier\": \"OpenTargets Platform\"}, \"source\": 0, \"target\": 80, \"key\": \"d9aed403a2c55db50e469827c553db7d\"}, {\"relation\": \"association\", \"evidence\": \"DrugReactions\", \"citation\": {\"namespace\": \"pubmed\", \"identifier\": \"OpenTargets Platform\"}, \"source\": 0, \"target\": 89, \"key\": \"92d1fc3deeb310dc5c0fc83e8cbb34fa\"}, {\"relation\": \"association\", \"evidence\": \"DrugReactions\", \"citation\": {\"namespace\": \"pubmed\", \"identifier\": \"OpenTargets Platform\"}, \"source\": 0, \"target\": 94, \"key\": \"3ca6a708bf3cd18acc9a35d10a98b9b9\"}, {\"relation\": \"association\", \"evidence\": \"DrugReactions\", \"citation\": {\"namespace\": \"pubmed\", \"identifier\": \"OpenTargets Platform\"}, \"source\": 0, \"target\": 88, \"key\": \"ec3d8c3c948f724c0d73de3df1d2d757\"}, {\"relation\": \"association\", \"evidence\": \"DrugReactions\", \"citation\": {\"namespace\": \"pubmed\", \"identifier\": \"OpenTargets Platform\"}, \"source\": 99, \"target\": 1, \"key\": \"fc74345bc43ada41e7a9e50628fc4a56\"}, {\"relation\": \"association\", \"evidence\": \"DrugReactions\", \"citation\": {\"namespace\": \"pubmed\", \"identifier\": \"OpenTargets Platform\"}, \"source\": 1, \"target\": 81, \"key\": \"88e749f5009b8a61409500d67855ba73\"}, {\"relation\": \"association\", \"evidence\": \"DrugReactions\", \"citation\": {\"namespace\": \"pubmed\", \"identifier\": \"OpenTargets Platform\"}, \"source\": 1, \"target\": 73, \"key\": \"bb203c22cd3cf5fa10cb5a99791303d8\"}, {\"relation\": \"association\", \"evidence\": \"DrugReactions\", \"citation\": {\"namespace\": \"pubmed\", \"identifier\": \"OpenTargets Platform\"}, \"source\": 1, \"target\": 124, \"key\": \"48f8d0761bd9f187b41929aa8244b820\"}, {\"relation\": \"association\", \"evidence\": \"DrugReactions\", \"citation\": {\"namespace\": \"pubmed\", \"identifier\": \"OpenTargets Platform\"}, \"source\": 1, \"target\": 98, \"key\": \"9c2fbda0d0c297b0f93738fa6d7d1fc1\"}, {\"relation\": \"association\", \"evidence\": \"DrugReactions\", \"citation\": {\"namespace\": \"pubmed\", \"identifier\": \"OpenTargets Platform\"}, \"source\": 1, \"target\": 85, \"key\": \"41f3f46873dbc03f90dfebfcaec9c843\"}, {\"relation\": \"association\", \"evidence\": \"DrugReactions\", \"citation\": {\"namespace\": \"pubmed\", \"identifier\": \"OpenTargets Platform\"}, \"source\": 1, \"target\": 103, \"key\": \"b2c7d2b584bcdc6da9e096947bcbfac9\"}, {\"relation\": \"association\", \"evidence\": \"ChEMBL query\", \"citation\": {\"namespace\": \"pubmed\", \"identifier\": \"ChEMBL database\"}, \"source\": 1, \"target\": 66, \"key\": \"14c3812024c51abe5678d5ce68f711f8\"}, {\"relation\": \"association\", \"evidence\": \"DrugReactions\", \"citation\": {\"namespace\": \"pubmed\", \"identifier\": \"OpenTargets Platform\"}, \"source\": 1, \"target\": 108, \"key\": \"206e2bc2bd0abe3a06e866d565e04d37\"}, {\"relation\": \"association\", \"evidence\": \"DrugReactions\", \"citation\": {\"namespace\": \"pubmed\", \"identifier\": \"OpenTargets Platform\"}, \"source\": 1, \"target\": 102, \"key\": \"7afacf5077e5192fe50e6e6fb44318a6\"}, {\"relation\": \"association\", \"evidence\": \"DrugReactions\", \"citation\": {\"namespace\": \"pubmed\", \"identifier\": \"OpenTargets Platform\"}, \"source\": 1, \"target\": 109, \"key\": \"79e49ad20771f0c98d196bc5b4ea4431\"}, {\"relation\": \"association\", \"evidence\": \"DrugReactions\", \"citation\": {\"namespace\": \"pubmed\", \"identifier\": \"OpenTargets Platform\"}, \"source\": 1, \"target\": 70, \"key\": \"eb3e3ff92b400f30576cb280e9ff2b8d\"}, {\"relation\": \"association\", \"evidence\": \"DrugReactions\", \"citation\": {\"namespace\": \"pubmed\", \"identifier\": \"OpenTargets Platform\"}, \"source\": 1, \"target\": 86, \"key\": \"53ef9d34ff6ed7da73f3c492ea9b2be2\"}, {\"relation\": \"association\", \"evidence\": \"DrugReactions\", \"citation\": {\"namespace\": \"pubmed\", \"identifier\": \"OpenTargets Platform\"}, \"source\": 1, \"target\": 78, \"key\": \"56f99085d9a18b0230bbbf644ebdaa0d\"}, {\"relation\": \"association\", \"evidence\": \"DrugReactions\", \"citation\": {\"namespace\": \"pubmed\", \"identifier\": \"OpenTargets Platform\"}, \"source\": 1, \"target\": 120, \"key\": \"83eeada209e3e27d68cd5e1f6f582a20\"}, {\"relation\": \"association\", \"evidence\": \"DrugReactions\", \"citation\": {\"namespace\": \"pubmed\", \"identifier\": \"OpenTargets Platform\"}, \"source\": 1, \"target\": 93, \"key\": \"91a3428911fc59ce64a9eb329cff918f\"}, {\"relation\": \"association\", \"evidence\": \"DrugReactions\", \"citation\": {\"namespace\": \"pubmed\", \"identifier\": \"OpenTargets Platform\"}, \"source\": 1, \"target\": 112, \"key\": \"9d0fcc4069881fc401629f75d9908417\"}, {\"relation\": \"association\", \"evidence\": \"DrugReactions\", \"citation\": {\"namespace\": \"pubmed\", \"identifier\": \"OpenTargets Platform\"}, \"source\": 1, \"target\": 107, \"key\": \"9039c2b30ff097cc7fe48130df0c1427\"}, {\"relation\": \"association\", \"evidence\": \"DrugReactions\", \"citation\": {\"namespace\": \"pubmed\", \"identifier\": \"OpenTargets Platform\"}, \"source\": 1, \"target\": 105, \"key\": \"34e43c3f828990b36c815a6efb60cf19\"}, {\"relation\": \"association\", \"evidence\": \"DrugReactions\", \"citation\": {\"namespace\": \"pubmed\", \"identifier\": \"OpenTargets Platform\"}, \"source\": 1, \"target\": 75, \"key\": \"e272c202a58a4d72c7410a0ad0ddca67\"}, {\"relation\": \"association\", \"evidence\": \"DrugReactions\", \"citation\": {\"namespace\": \"pubmed\", \"identifier\": \"OpenTargets Platform\"}, \"source\": 1, \"target\": 99, \"key\": \"5c833c913515f4990bcf8dd4bcd88e9e\"}, {\"relation\": \"association\", \"evidence\": \"DrugReactions\", \"citation\": {\"namespace\": \"pubmed\", \"identifier\": \"OpenTargets Platform\"}, \"source\": 1, \"target\": 71, \"key\": \"d0b89b6f1dba029086ec350d20350c2b\"}, {\"relation\": \"association\", \"evidence\": \"DrugReactions\", \"citation\": {\"namespace\": \"pubmed\", \"identifier\": \"OpenTargets Platform\"}, \"source\": 1, \"target\": 114, \"key\": \"d8eb4c7e7f6bfc8baeaf38e4d7afc20c\"}, {\"relation\": \"association\", \"evidence\": \"DrugReactions\", \"citation\": {\"namespace\": \"pubmed\", \"identifier\": \"OpenTargets Platform\"}, \"source\": 1, \"target\": 97, \"key\": \"96261c150ab07800c5f194292d58402e\"}, {\"relation\": \"association\", \"evidence\": \"UniProt query\", \"citation\": {\"namespace\": \"pubmed\", \"identifier\": \"UniProt database\"}, \"source\": 43, \"target\": 68, \"key\": \"413e57502597911195bf9c4de912c166\"}, {\"relation\": \"association\", \"evidence\": \"DrugReactions\", \"citation\": {\"namespace\": \"pubmed\", \"identifier\": \"OpenTargets Platform\"}, \"source\": 79, \"target\": 0, \"key\": \"b811b8cb2e549689843cd0ce3f1c444a\"}, {\"relation\": \"association\", \"evidence\": \"DrugReactions\", \"citation\": {\"namespace\": \"pubmed\", \"identifier\": \"OpenTargets Platform\"}, \"source\": 87, \"target\": 0, \"key\": \"150b079aa64812c3a6b318282c7f2f12\"}, {\"relation\": \"association\", \"evidence\": \"DrugReactions\", \"citation\": {\"namespace\": \"pubmed\", \"identifier\": \"OpenTargets Platform\"}, \"source\": 100, \"target\": 0, \"key\": \"f3a7af92a5e24b8f291c6963417eca79\"}, {\"relation\": \"association\", \"evidence\": \"UniProt query\", \"citation\": {\"namespace\": \"pubmed\", \"identifier\": \"UniProt database\"}, \"source\": 5, \"target\": 68, \"key\": \"2c00a03b29aa25588ba843ad09f721e5\"}, {\"relation\": \"association\", \"evidence\": \"DrugReactions\", \"citation\": {\"namespace\": \"pubmed\", \"identifier\": \"OpenTargets Platform\"}, \"source\": 81, \"target\": 1, \"key\": \"9db3d72cace270c9fff6502f6bf96c7f\"}, {\"relation\": \"association\", \"evidence\": \"UniProt query\", \"citation\": {\"namespace\": \"pubmed\", \"identifier\": \"UniProt database\"}, \"source\": 7, \"target\": 68, \"key\": \"4e32a9733388256aaea5f4b4946c36cd\"}, {\"relation\": \"association\", \"evidence\": \"DrugReactions\", \"citation\": {\"namespace\": \"pubmed\", \"identifier\": \"OpenTargets Platform\"}, \"source\": 73, \"target\": 1, \"key\": \"72df3e508f24558b62402b5618bcacaf\"}, {\"relation\": \"association\", \"evidence\": \"UniProt query\", \"citation\": {\"namespace\": \"pubmed\", \"identifier\": \"UniProt database\"}, \"source\": 62, \"target\": 68, \"key\": \"83cb9ae63b82387e99f5a12a42c01905\"}, {\"relation\": \"association\", \"evidence\": \"DrugReactions\", \"citation\": {\"namespace\": \"pubmed\", \"identifier\": \"OpenTargets Platform\"}, \"source\": 124, \"target\": 1, \"key\": \"1fa141d4f2651484ba8b069f34bcc25e\"}, {\"relation\": \"association\", \"evidence\": \"DrugReactions\", \"citation\": {\"namespace\": \"pubmed\", \"identifier\": \"OpenTargets Platform\"}, \"source\": 90, \"target\": 0, \"key\": \"33db5291c41c07ad46ba089f9d040a0d\"}, {\"relation\": \"association\", \"evidence\": \"DrugReactions\", \"citation\": {\"namespace\": \"pubmed\", \"identifier\": \"OpenTargets Platform\"}, \"source\": 98, \"target\": 1, \"key\": \"25feea513b504ba42f9064c9e621b2ae\"}, {\"relation\": \"association\", \"evidence\": \"DrugReactions\", \"citation\": {\"namespace\": \"pubmed\", \"identifier\": \"OpenTargets Platform\"}, \"source\": 85, \"target\": 1, \"key\": \"1d2a8c9cc138ba8d3defc77a68b58db6\"}, {\"relation\": \"association\", \"evidence\": \"DrugReactions\", \"citation\": {\"namespace\": \"pubmed\", \"identifier\": \"OpenTargets Platform\"}, \"source\": 103, \"target\": 1, \"key\": \"7807471447e40e71430073346eaaa45a\"}, {\"relation\": \"association\", \"evidence\": \"UniProt query\", \"citation\": {\"namespace\": \"pubmed\", \"identifier\": \"UniProt database\"}, \"source\": 63, \"target\": 68, \"key\": \"2644bbc32e889367921b4a8a41498343\"}, {\"relation\": \"association\", \"evidence\": \"UniProt query\", \"citation\": {\"namespace\": \"pubmed\", \"identifier\": \"UniProt database\"}, \"source\": 36, \"target\": 68, \"key\": \"ae012635c4fb469f199f17dfb6bff8f4\"}, {\"relation\": \"association\", \"evidence\": \"ChEMBL query\", \"citation\": {\"namespace\": \"pubmed\", \"identifier\": \"ChEMBL database\"}, \"source\": 66, \"target\": 1, \"key\": \"e4b08580589784f87de023dace3927bd\"}, {\"relation\": \"association\", \"evidence\": \"DrugReactions\", \"citation\": {\"namespace\": \"pubmed\", \"identifier\": \"OpenTargets Platform\"}, \"source\": 108, \"target\": 1, \"key\": \"d45e29f6e2a1d3863557b83a5294c4a6\"}, {\"relation\": \"association\", \"evidence\": \"UniProt query\", \"citation\": {\"namespace\": \"pubmed\", \"identifier\": \"UniProt database\"}, \"source\": 22, \"target\": 68, \"key\": \"170f1df7b9aca25814ab373bd2175824\"}, {\"relation\": \"association\", \"evidence\": \"DrugReactions\", \"citation\": {\"namespace\": \"pubmed\", \"identifier\": \"OpenTargets Platform\"}, \"source\": 115, \"target\": 0, \"key\": \"0188af7f40faa8ce7d5cd82028172b79\"}, {\"relation\": \"association\", \"evidence\": \"DrugReactions\", \"citation\": {\"namespace\": \"pubmed\", \"identifier\": \"OpenTargets Platform\"}, \"source\": 104, \"target\": 0, \"key\": \"a3b56e7ed58de2ef285007c23ac6af8f\"}, {\"relation\": \"association\", \"evidence\": \"UniProt query\", \"citation\": {\"namespace\": \"pubmed\", \"identifier\": \"UniProt database\"}, \"source\": 27, \"target\": 68, \"key\": \"fbfe1e4631fb84eac41a755b2c3b7b80\"}, {\"relation\": \"association\", \"evidence\": \"DrugReactions\", \"citation\": {\"namespace\": \"pubmed\", \"identifier\": \"OpenTargets Platform\"}, \"source\": 102, \"target\": 1, \"key\": \"22dfbe8c485ebefb759da27a50bc15c6\"}, {\"relation\": \"association\", \"evidence\": \"DrugReactions\", \"citation\": {\"namespace\": \"pubmed\", \"identifier\": \"OpenTargets Platform\"}, \"source\": 109, \"target\": 1, \"key\": \"c6ac5395ac15e8542ee3a7cc888c5924\"}, {\"relation\": \"association\", \"evidence\": \"DrugReactions\", \"citation\": {\"namespace\": \"pubmed\", \"identifier\": \"OpenTargets Platform\"}, \"source\": 119, \"target\": 0, \"key\": \"130ee0ab33636e014e384356186f6b76\"}, {\"relation\": \"association\", \"evidence\": \"DrugReactions\", \"citation\": {\"namespace\": \"pubmed\", \"identifier\": \"OpenTargets Platform\"}, \"source\": 70, \"target\": 1, \"key\": \"8842d305cffa5a3d719634743a1f3f81\"}, {\"relation\": \"association\", \"evidence\": \"DrugReactions\", \"citation\": {\"namespace\": \"pubmed\", \"identifier\": \"OpenTargets Platform\"}, \"source\": 86, \"target\": 1, \"key\": \"f43752b92e5ebe020009c520c436ea56\"}, {\"relation\": \"association\", \"evidence\": \"DrugReactions\", \"citation\": {\"namespace\": \"pubmed\", \"identifier\": \"OpenTargets Platform\"}, \"source\": 78, \"target\": 1, \"key\": \"07ba44eef135ce2d252e1cc7b83af1b7\"}, {\"relation\": \"association\", \"evidence\": \"DrugReactions\", \"citation\": {\"namespace\": \"pubmed\", \"identifier\": \"OpenTargets Platform\"}, \"source\": 83, \"target\": 0, \"key\": \"f3420999ea00ae9c95aa0e9714e4c1da\"}, {\"relation\": \"association\", \"evidence\": \"UniProt query\", \"citation\": {\"namespace\": \"pubmed\", \"identifier\": \"UniProt database\"}, \"source\": 34, \"target\": 68, \"key\": \"a9211c21d244f43575217d02f3d749b2\"}, {\"relation\": \"association\", \"evidence\": \"DrugReactions\", \"citation\": {\"namespace\": \"pubmed\", \"identifier\": \"OpenTargets Platform\"}, \"source\": 106, \"target\": 0, \"key\": \"86d71ef0e83145008e91cad5c2df3a69\"}, {\"relation\": \"association\", \"evidence\": \"UniProt query\", \"citation\": {\"namespace\": \"pubmed\", \"identifier\": \"UniProt database\"}, \"source\": 49, \"target\": 68, \"key\": \"406d16f21b1f2c1d284c6c20934ca08b\"}, {\"relation\": \"association\", \"evidence\": \"DrugReactions\", \"citation\": {\"namespace\": \"pubmed\", \"identifier\": \"OpenTargets Platform\"}, \"source\": 122, \"target\": 0, \"key\": \"19c4d56332d91b86a66c3badea0d3a69\"}, {\"relation\": \"association\", \"evidence\": \"DrugReactions\", \"citation\": {\"namespace\": \"pubmed\", \"identifier\": \"OpenTargets Platform\"}, \"source\": 120, \"target\": 1, \"key\": \"b2e1cbd33db4d58ad8abfa1f6ee70414\"}, {\"relation\": \"association\", \"evidence\": \"DrugReactions\", \"citation\": {\"namespace\": \"pubmed\", \"identifier\": \"OpenTargets Platform\"}, \"source\": 93, \"target\": 1, \"key\": \"7a52b40fdeb781b18eccb40ce9a68cfc\"}, {\"relation\": \"association\", \"evidence\": \"DrugReactions\", \"citation\": {\"namespace\": \"pubmed\", \"identifier\": \"OpenTargets Platform\"}, \"source\": 82, \"target\": 0, \"key\": \"fcd5652c531be9f99d734a5d16e951e5\"}, {\"relation\": \"association\", \"evidence\": \"DrugReactions\", \"citation\": {\"namespace\": \"pubmed\", \"identifier\": \"OpenTargets Platform\"}, \"source\": 72, \"target\": 0, \"key\": \"a9b0f71c57eeaf8202236699ce59b209\"}, {\"relation\": \"association\", \"evidence\": \"UniProt query\", \"citation\": {\"namespace\": \"pubmed\", \"identifier\": \"UniProt database\"}, \"source\": 13, \"target\": 68, \"key\": \"0bb15be8cc342c69bb89233960bdb3fa\"}, {\"relation\": \"association\", \"evidence\": \"DrugReactions\", \"citation\": {\"namespace\": \"pubmed\", \"identifier\": \"OpenTargets Platform\"}, \"source\": 77, \"target\": 0, \"key\": \"306f5beb8edd619b009de26470ff7062\"}, {\"relation\": \"association\", \"evidence\": \"DrugReactions\", \"citation\": {\"namespace\": \"pubmed\", \"identifier\": \"OpenTargets Platform\"}, \"source\": 110, \"target\": 0, \"key\": \"ba7b08ae584b8fb17ed5b9b96756b356\"}, {\"relation\": \"association\", \"evidence\": \"UniProt query\", \"citation\": {\"namespace\": \"pubmed\", \"identifier\": \"UniProt database\"}, \"source\": 40, \"target\": 68, \"key\": \"600983d62fe4fc18132e340aea68eeea\"}, {\"relation\": \"association\", \"evidence\": \"DrugReactions\", \"citation\": {\"namespace\": \"pubmed\", \"identifier\": \"OpenTargets Platform\"}, \"source\": 121, \"target\": 0, \"key\": \"976f4d6e57351e0956f566ada652f911\"}, {\"relation\": \"association\", \"evidence\": \"UniProt query\", \"citation\": {\"namespace\": \"pubmed\", \"identifier\": \"UniProt database\"}, \"source\": 28, \"target\": 68, \"key\": \"12f35d732aa9f1d072ce801537b9009d\"}, {\"relation\": \"association\", \"evidence\": \"DrugReactions\", \"citation\": {\"namespace\": \"pubmed\", \"identifier\": \"OpenTargets Platform\"}, \"source\": 112, \"target\": 1, \"key\": \"8c175335a3a0f2475ccd6d52e71b53c0\"}, {\"relation\": \"association\", \"evidence\": \"DrugReactions\", \"citation\": {\"namespace\": \"pubmed\", \"identifier\": \"OpenTargets Platform\"}, \"source\": 127, \"target\": 0, \"key\": \"c926ea336647eee1571c3ae68c7991ce\"}, {\"relation\": \"association\", \"evidence\": \"UniProt query\", \"citation\": {\"namespace\": \"pubmed\", \"identifier\": \"UniProt database\"}, \"source\": 16, \"target\": 68, \"key\": \"7c537905e6da5c3839ec01b8507fdd6b\"}, {\"relation\": \"association\", \"evidence\": \"DrugReactions\", \"citation\": {\"namespace\": \"pubmed\", \"identifier\": \"OpenTargets Platform\"}, \"source\": 107, \"target\": 1, \"key\": \"a41793ab22d0cb1ce6ddd6d06f135071\"}, {\"relation\": \"association\", \"evidence\": \"DrugReactions\", \"citation\": {\"namespace\": \"pubmed\", \"identifier\": \"OpenTargets Platform\"}, \"source\": 105, \"target\": 1, \"key\": \"354265c22b331d43aa5b0e2a052b4ac8\"}, {\"relation\": \"association\", \"evidence\": \"DrugReactions\", \"citation\": {\"namespace\": \"pubmed\", \"identifier\": \"OpenTargets Platform\"}, \"source\": 113, \"target\": 0, \"key\": \"674a5c1b2929fea2631e27b035edede9\"}, {\"relation\": \"association\", \"evidence\": \"DrugReactions\", \"citation\": {\"namespace\": \"pubmed\", \"identifier\": \"OpenTargets Platform\"}, \"source\": 75, \"target\": 1, \"key\": \"4ecc82a6c206779c13b8e32014ab25d8\"}, {\"relation\": \"association\", \"evidence\": \"DrugReactions\", \"citation\": {\"namespace\": \"pubmed\", \"identifier\": \"OpenTargets Platform\"}, \"source\": 71, \"target\": 1, \"key\": \"a1c1ebb9b5b5fa9dd7ca46efc2027ab1\"}, {\"relation\": \"association\", \"evidence\": \"DrugReactions\", \"citation\": {\"namespace\": \"pubmed\", \"identifier\": \"OpenTargets Platform\"}, \"source\": 91, \"target\": 0, \"key\": \"442be83e06e50727fdf58a9de665b67b\"}, {\"relation\": \"association\", \"evidence\": \"UniProt query\", \"citation\": {\"namespace\": \"pubmed\", \"identifier\": \"UniProt database\"}, \"source\": 30, \"target\": 68, \"key\": \"3608e7705d0f20f6e6866b78bfb7153f\"}, {\"relation\": \"association\", \"evidence\": \"DrugReactions\", \"citation\": {\"namespace\": \"pubmed\", \"identifier\": \"OpenTargets Platform\"}, \"source\": 114, \"target\": 1, \"key\": \"ef113bca4651a9cc707832de46d1ac64\"}, {\"relation\": \"association\", \"evidence\": \"DrugReactions\", \"citation\": {\"namespace\": \"pubmed\", \"identifier\": \"OpenTargets Platform\"}, \"source\": 97, \"target\": 1, \"key\": \"777e439b079b3dda409c84f677a339bf\"}, {\"relation\": \"association\", \"evidence\": \"UniProt query\", \"citation\": {\"namespace\": \"pubmed\", \"identifier\": \"UniProt database\"}, \"source\": 57, \"target\": 69, \"key\": \"b746980af7cbdec861174f43c5470bcd\"}, {\"relation\": \"association\", \"evidence\": \"UniProt query\", \"citation\": {\"namespace\": \"pubmed\", \"identifier\": \"UniProt database\"}, \"source\": 57, \"target\": 68, \"key\": \"35f524f18b57398bc022f531500a1ae2\"}, {\"relation\": \"association\", \"evidence\": \"UniProt query\", \"citation\": {\"namespace\": \"pubmed\", \"identifier\": \"UniProt database\"}, \"source\": 69, \"target\": 38, \"key\": \"c9a5d9897084bc9e100571c2e4143a95\"}, {\"relation\": \"association\", \"evidence\": \"UniProt query\", \"citation\": {\"namespace\": \"pubmed\", \"identifier\": \"UniProt database\"}, \"source\": 69, \"target\": 61, \"key\": \"455a8280631c10e0e6a2be874a302fdb\"}, {\"relation\": \"association\", \"evidence\": \"UniProt query\", \"citation\": {\"namespace\": \"pubmed\", \"identifier\": \"UniProt database\"}, \"source\": 69, \"target\": 45, \"key\": \"48f7e0630e5e455aeb081903801ab8c0\"}, {\"relation\": \"association\", \"evidence\": \"UniProt query\", \"citation\": {\"namespace\": \"pubmed\", \"identifier\": \"UniProt database\"}, \"source\": 69, \"target\": 39, \"key\": \"8c3cf1f735ac4f6299b636d390519e86\"}, {\"relation\": \"association\", \"evidence\": \"UniProt query\", \"citation\": {\"namespace\": \"pubmed\", \"identifier\": \"UniProt database\"}, \"source\": 69, \"target\": 18, \"key\": \"b331f510090d116b7000d5aa5ba9a9d4\"}, {\"relation\": \"association\", \"evidence\": \"UniProt query\", \"citation\": {\"namespace\": \"pubmed\", \"identifier\": \"UniProt database\"}, \"source\": 69, \"target\": 6, \"key\": \"d83373ee7a95418bebaf5935e7e3a9e5\"}, {\"relation\": \"association\", \"evidence\": \"UniProt query\", \"citation\": {\"namespace\": \"pubmed\", \"identifier\": \"UniProt database\"}, \"source\": 69, \"target\": 24, \"key\": \"14f61cd41867db29efd3c31861ad8295\"}, {\"relation\": \"association\", \"evidence\": \"UniProt query\", \"citation\": {\"namespace\": \"pubmed\", \"identifier\": \"UniProt database\"}, \"source\": 69, \"target\": 55, \"key\": \"a4fef871d6c8ade02aca1e59ad3b3229\"}, {\"relation\": \"association\", \"evidence\": \"UniProt query\", \"citation\": {\"namespace\": \"pubmed\", \"identifier\": \"UniProt database\"}, \"source\": 69, \"target\": 29, \"key\": \"6690ab423bba13691b88d84838b7dc7f\"}, {\"relation\": \"association\", \"evidence\": \"UniProt query\", \"citation\": {\"namespace\": \"pubmed\", \"identifier\": \"UniProt database\"}, \"source\": 69, \"target\": 57, \"key\": \"8249f7eef9ea5d0f3df127e9a1d46681\"}, {\"relation\": \"association\", \"evidence\": \"UniProt query\", \"citation\": {\"namespace\": \"pubmed\", \"identifier\": \"UniProt database\"}, \"source\": 69, \"target\": 42, \"key\": \"a1a95a963b1d5ff990789d5eb62a6e2b\"}, {\"relation\": \"association\", \"evidence\": \"UniProt query\", \"citation\": {\"namespace\": \"pubmed\", \"identifier\": \"UniProt database\"}, \"source\": 69, \"target\": 17, \"key\": \"38dd5265c9e06c69d78e2c148386416a\"}, {\"relation\": \"association\", \"evidence\": \"UniProt query\", \"citation\": {\"namespace\": \"pubmed\", \"identifier\": \"UniProt database\"}, \"source\": 69, \"target\": 51, \"key\": \"a4f9389a3bc8c97b66ea044fab8552a1\"}, {\"relation\": \"association\", \"evidence\": \"UniProt query\", \"citation\": {\"namespace\": \"pubmed\", \"identifier\": \"UniProt database\"}, \"source\": 69, \"target\": 21, \"key\": \"737d8bd3fc3683cc2829c7d42df6b6a3\"}, {\"relation\": \"association\", \"evidence\": \"UniProt query\", \"citation\": {\"namespace\": \"pubmed\", \"identifier\": \"UniProt database\"}, \"source\": 69, \"target\": 58, \"key\": \"9cbb30231c50c29a3612a43e8d72d6ef\"}, {\"relation\": \"association\", \"evidence\": \"UniProt query\", \"citation\": {\"namespace\": \"pubmed\", \"identifier\": \"UniProt database\"}, \"source\": 69, \"target\": 15, \"key\": \"ae0694f10761f978b09b5074275dcd2c\"}, {\"relation\": \"association\", \"evidence\": \"UniProt query\", \"citation\": {\"namespace\": \"pubmed\", \"identifier\": \"UniProt database\"}, \"source\": 69, \"target\": 3, \"key\": \"5cf099dbc9cefb0204bffe06ae16988b\"}, {\"relation\": \"association\", \"evidence\": \"UniProt query\", \"citation\": {\"namespace\": \"pubmed\", \"identifier\": \"UniProt database\"}, \"source\": 69, \"target\": 56, \"key\": \"c0eae13c803ca1e4599772671f0c44cd\"}, {\"relation\": \"association\", \"evidence\": \"UniProt query\", \"citation\": {\"namespace\": \"pubmed\", \"identifier\": \"UniProt database\"}, \"source\": 69, \"target\": 2, \"key\": \"c3cf037f26f3984a5d832c0d155ac5ba\"}, {\"relation\": \"association\", \"evidence\": \"UniProt query\", \"citation\": {\"namespace\": \"pubmed\", \"identifier\": \"UniProt database\"}, \"source\": 69, \"target\": 59, \"key\": \"cfd61abbe7fa7029564ba0698d025650\"}, {\"relation\": \"association\", \"evidence\": \"UniProt query\", \"citation\": {\"namespace\": \"pubmed\", \"identifier\": \"UniProt database\"}, \"source\": 69, \"target\": 60, \"key\": \"d97c6a9fefe4a6806e82f5aeb0e2d895\"}, {\"relation\": \"association\", \"evidence\": \"UniProt query\", \"citation\": {\"namespace\": \"pubmed\", \"identifier\": \"UniProt database\"}, \"source\": 69, \"target\": 32, \"key\": \"f913da166f668fda353694baf58bf647\"}, {\"relation\": \"association\", \"evidence\": \"UniProt query\", \"citation\": {\"namespace\": \"pubmed\", \"identifier\": \"UniProt database\"}, \"source\": 69, \"target\": 35, \"key\": \"62361b62fdb9fdfd78e2e049a4523472\"}, {\"relation\": \"association\", \"evidence\": \"UniProt query\", \"citation\": {\"namespace\": \"pubmed\", \"identifier\": \"UniProt database\"}, \"source\": 69, \"target\": 54, \"key\": \"5ec88214d8432804afe93c11b0f00e76\"}, {\"relation\": \"association\", \"evidence\": \"UniProt query\", \"citation\": {\"namespace\": \"pubmed\", \"identifier\": \"UniProt database\"}, \"source\": 69, \"target\": 37, \"key\": \"d14af9c320888c77dffceb08e0ea4f5b\"}, {\"relation\": \"association\", \"evidence\": \"UniProt query\", \"citation\": {\"namespace\": \"pubmed\", \"identifier\": \"UniProt database\"}, \"source\": 69, \"target\": 4, \"key\": \"49b6a448b0fc594ddc7acc5c80ba1448\"}, {\"relation\": \"association\", \"evidence\": \"UniProt query\", \"citation\": {\"namespace\": \"pubmed\", \"identifier\": \"UniProt database\"}, \"source\": 69, \"target\": 53, \"key\": \"18c889b68640f138b8c6ac7131728a0e\"}, {\"relation\": \"association\", \"evidence\": \"UniProt query\", \"citation\": {\"namespace\": \"pubmed\", \"identifier\": \"UniProt database\"}, \"source\": 38, \"target\": 69, \"key\": \"bd84096321f16a825427dbdf3e56f125\"}, {\"relation\": \"association\", \"evidence\": \"UniProt query\", \"citation\": {\"namespace\": \"pubmed\", \"identifier\": \"UniProt database\"}, \"source\": 61, \"target\": 69, \"key\": \"3294651b14928b201ae75daad0cf8487\"}, {\"relation\": \"association\", \"evidence\": \"UniProt query\", \"citation\": {\"namespace\": \"pubmed\", \"identifier\": \"UniProt database\"}, \"source\": 45, \"target\": 69, \"key\": \"f0ccd7ce33428e6d5dbf93ca0c8bb218\"}, {\"relation\": \"association\", \"evidence\": \"UniProt query\", \"citation\": {\"namespace\": \"pubmed\", \"identifier\": \"UniProt database\"}, \"source\": 39, \"target\": 69, \"key\": \"324c2616a6c87b20ffd3018bd7edb423\"}, {\"relation\": \"association\", \"evidence\": \"DrugReactions\", \"citation\": {\"namespace\": \"pubmed\", \"identifier\": \"OpenTargets Platform\"}, \"source\": 116, \"target\": 0, \"key\": \"430b55aa6c3d5cf71baea0f90463797e\"}, {\"relation\": \"association\", \"evidence\": \"UniProt query\", \"citation\": {\"namespace\": \"pubmed\", \"identifier\": \"UniProt database\"}, \"source\": 18, \"target\": 69, \"key\": \"31a568635ba0009fd8017b82a2a5c051\"}, {\"relation\": \"association\", \"evidence\": \"UniProt query\", \"citation\": {\"namespace\": \"pubmed\", \"identifier\": \"UniProt database\"}, \"source\": 6, \"target\": 69, \"key\": \"579bf40dc2ed6d212d48ede68375a803\"}, {\"relation\": \"association\", \"evidence\": \"DrugReactions\", \"citation\": {\"namespace\": \"pubmed\", \"identifier\": \"OpenTargets Platform\"}, \"source\": 125, \"target\": 0, \"key\": \"7cb3a515172b67a7aef62ed8a83a124a\"}, {\"relation\": \"association\", \"evidence\": \"UniProt query\", \"citation\": {\"namespace\": \"pubmed\", \"identifier\": \"UniProt database\"}, \"source\": 24, \"target\": 69, \"key\": \"1b378ea67101c825a63d75adf069d647\"}, {\"relation\": \"association\", \"evidence\": \"UniProt query\", \"citation\": {\"namespace\": \"pubmed\", \"identifier\": \"UniProt database\"}, \"source\": 55, \"target\": 69, \"key\": \"1faf519d2ac5d2919fe7582c65653b97\"}, {\"relation\": \"association\", \"evidence\": \"UniProt query\", \"citation\": {\"namespace\": \"pubmed\", \"identifier\": \"UniProt database\"}, \"source\": 29, \"target\": 69, \"key\": \"fac571260733c5626c3fb479a29f0fc3\"}, {\"relation\": \"association\", \"evidence\": \"DrugReactions\", \"citation\": {\"namespace\": \"pubmed\", \"identifier\": \"OpenTargets Platform\"}, \"source\": 126, \"target\": 0, \"key\": \"48e754cc4ffeafd5c1e5fd26ba6fa73d\"}, {\"relation\": \"association\", \"evidence\": \"UniProt query\", \"citation\": {\"namespace\": \"pubmed\", \"identifier\": \"UniProt database\"}, \"source\": 42, \"target\": 69, \"key\": \"1de493daf896ddd13248c0e045cc1138\"}, {\"relation\": \"association\", \"evidence\": \"UniProt query\", \"citation\": {\"namespace\": \"pubmed\", \"identifier\": \"UniProt database\"}, \"source\": 17, \"target\": 69, \"key\": \"0652a312668e0a9c96fdb5999c0c1229\"}, {\"relation\": \"association\", \"evidence\": \"UniProt query\", \"citation\": {\"namespace\": \"pubmed\", \"identifier\": \"UniProt database\"}, \"source\": 51, \"target\": 69, \"key\": \"37dd7c0615227e6ae3c84ac5eb45a4bd\"}, {\"relation\": \"association\", \"evidence\": \"UniProt query\", \"citation\": {\"namespace\": \"pubmed\", \"identifier\": \"UniProt database\"}, \"source\": 21, \"target\": 69, \"key\": \"5ed35e5eb3aa8ff3bf0b322970b99391\"}, {\"relation\": \"association\", \"evidence\": \"UniProt query\", \"citation\": {\"namespace\": \"pubmed\", \"identifier\": \"UniProt database\"}, \"source\": 58, \"target\": 69, \"key\": \"7bbf76c14fd784cb7ad97aed985963fe\"}, {\"relation\": \"association\", \"evidence\": \"DrugReactions\", \"citation\": {\"namespace\": \"pubmed\", \"identifier\": \"OpenTargets Platform\"}, \"source\": 74, \"target\": 0, \"key\": \"27d67be6fba6bed06732c74f12f79210\"}, {\"relation\": \"association\", \"evidence\": \"UniProt query\", \"citation\": {\"namespace\": \"pubmed\", \"identifier\": \"UniProt database\"}, \"source\": 31, \"target\": 68, \"key\": \"2534c14b63b9400e1d91d4b78b76aad7\"}, {\"relation\": \"association\", \"evidence\": \"UniProt query\", \"citation\": {\"namespace\": \"pubmed\", \"identifier\": \"UniProt database\"}, \"source\": 8, \"target\": 68, \"key\": \"5c5b8993ab6532447ec34febaeba52e9\"}, {\"relation\": \"association\", \"evidence\": \"UniProt query\", \"citation\": {\"namespace\": \"pubmed\", \"identifier\": \"UniProt database\"}, \"source\": 47, \"target\": 68, \"key\": \"8e1d5a9af544b653e1237ae45ef2bc97\"}, {\"relation\": \"association\", \"evidence\": \"UniProt query\", \"citation\": {\"namespace\": \"pubmed\", \"identifier\": \"UniProt database\"}, \"source\": 15, \"target\": 69, \"key\": \"ac442ec869ea0e9d447391981865206b\"}, {\"relation\": \"association\", \"evidence\": \"UniProt query\", \"citation\": {\"namespace\": \"pubmed\", \"identifier\": \"UniProt database\"}, \"source\": 10, \"target\": 68, \"key\": \"c964ea853ecc2026f63758ee87153404\"}, {\"relation\": \"association\", \"evidence\": \"UniProt query\", \"citation\": {\"namespace\": \"pubmed\", \"identifier\": \"UniProt database\"}, \"source\": 3, \"target\": 69, \"key\": \"385587559270607cef583c5c482c5c88\"}, {\"relation\": \"association\", \"evidence\": \"DrugReactions\", \"citation\": {\"namespace\": \"pubmed\", \"identifier\": \"OpenTargets Platform\"}, \"source\": 92, \"target\": 0, \"key\": \"bca025c828a0657340fd935da222c4c8\"}, {\"relation\": \"association\", \"evidence\": \"UniProt query\", \"citation\": {\"namespace\": \"pubmed\", \"identifier\": \"UniProt database\"}, \"source\": 14, \"target\": 68, \"key\": \"303f1351325bd5d9a6107da7dc18571e\"}, {\"relation\": \"association\", \"evidence\": \"UniProt query\", \"citation\": {\"namespace\": \"pubmed\", \"identifier\": \"UniProt database\"}, \"source\": 9, \"target\": 68, \"key\": \"46c5879b60f2aca125ad09ce81224c48\"}, {\"relation\": \"association\", \"evidence\": \"DrugReactions\", \"citation\": {\"namespace\": \"pubmed\", \"identifier\": \"OpenTargets Platform\"}, \"source\": 84, \"target\": 0, \"key\": \"fe88a2b90c2015369a5e8a887c0d014e\"}, {\"relation\": \"association\", \"evidence\": \"DrugReactions\", \"citation\": {\"namespace\": \"pubmed\", \"identifier\": \"OpenTargets Platform\"}, \"source\": 128, \"target\": 0, \"key\": \"af397f57ef179aa5011cbbdc0a0f6c02\"}, {\"relation\": \"association\", \"evidence\": \"DrugReactions\", \"citation\": {\"namespace\": \"pubmed\", \"identifier\": \"OpenTargets Platform\"}, \"source\": 95, \"target\": 0, \"key\": \"b5076993103a08d1da1af534751d8ba3\"}, {\"relation\": \"association\", \"evidence\": \"UniProt query\", \"citation\": {\"namespace\": \"pubmed\", \"identifier\": \"UniProt database\"}, \"source\": 56, \"target\": 69, \"key\": \"d5ba32085bb30a7a9d9076d4c2419850\"}, {\"relation\": \"association\", \"evidence\": \"UniProt query\", \"citation\": {\"namespace\": \"pubmed\", \"identifier\": \"UniProt database\"}, \"source\": 12, \"target\": 68, \"key\": \"18dd892ce2c135514a1cf3924af7d69d\"}, {\"relation\": \"association\", \"evidence\": \"UniProt query\", \"citation\": {\"namespace\": \"pubmed\", \"identifier\": \"UniProt database\"}, \"source\": 33, \"target\": 68, \"key\": \"0f815ce524b1b73d6925a34fb56e7f52\"}, {\"relation\": \"association\", \"evidence\": \"UniProt query\", \"citation\": {\"namespace\": \"pubmed\", \"identifier\": \"UniProt database\"}, \"source\": 2, \"target\": 69, \"key\": \"8c2092e4aeded1955f6bcb145ca5eb62\"}, {\"relation\": \"association\", \"evidence\": \"UniProt query\", \"citation\": {\"namespace\": \"pubmed\", \"identifier\": \"UniProt database\"}, \"source\": 59, \"target\": 69, \"key\": \"0ed17797cd308c45454ab0c52e321d95\"}, {\"relation\": \"association\", \"evidence\": \"DrugReactions\", \"citation\": {\"namespace\": \"pubmed\", \"identifier\": \"OpenTargets Platform\"}, \"source\": 111, \"target\": 0, \"key\": \"d5e2758c291229fabf032be06d496995\"}, {\"relation\": \"association\", \"evidence\": \"UniProt query\", \"citation\": {\"namespace\": \"pubmed\", \"identifier\": \"UniProt database\"}, \"source\": 60, \"target\": 69, \"key\": \"946c2ad76e873bfa3ceac335f5410ef5\"}, {\"relation\": \"association\", \"evidence\": \"UniProt query\", \"citation\": {\"namespace\": \"pubmed\", \"identifier\": \"UniProt database\"}, \"source\": 65, \"target\": 68, \"key\": \"71e84d38bb5b7bc985860f38b6746b95\"}, {\"relation\": \"association\", \"evidence\": \"UniProt query\", \"citation\": {\"namespace\": \"pubmed\", \"identifier\": \"UniProt database\"}, \"source\": 32, \"target\": 69, \"key\": \"2fa98aefd563d4df8439652a8ba7c3a2\"}, {\"relation\": \"association\", \"evidence\": \"DrugReactions\", \"citation\": {\"namespace\": \"pubmed\", \"identifier\": \"OpenTargets Platform\"}, \"source\": 118, \"target\": 0, \"key\": \"f17c7796ad2b5e26edd1d0a5fd82db36\"}, {\"relation\": \"association\", \"evidence\": \"UniProt query\", \"citation\": {\"namespace\": \"pubmed\", \"identifier\": \"UniProt database\"}, \"source\": 26, \"target\": 68, \"key\": \"872281835afb44d2e773da9ee635ff04\"}, {\"relation\": \"association\", \"evidence\": \"UniProt query\", \"citation\": {\"namespace\": \"pubmed\", \"identifier\": \"UniProt database\"}, \"source\": 35, \"target\": 69, \"key\": \"227ff7a469a132d200ef44766c42d4d9\"}, {\"relation\": \"association\", \"evidence\": \"UniProt query\", \"citation\": {\"namespace\": \"pubmed\", \"identifier\": \"UniProt database\"}, \"source\": 46, \"target\": 68, \"key\": \"5312dbabcd4e13f0bcd984bfb7bd6544\"}, {\"relation\": \"association\", \"evidence\": \"UniProt query\", \"citation\": {\"namespace\": \"pubmed\", \"identifier\": \"UniProt database\"}, \"source\": 54, \"target\": 69, \"key\": \"5269b779adb6b7db7a523469a432fe06\"}, {\"relation\": \"association\", \"evidence\": \"DrugReactions\", \"citation\": {\"namespace\": \"pubmed\", \"identifier\": \"OpenTargets Platform\"}, \"source\": 123, \"target\": 0, \"key\": \"1131f567837b04fcabe16bb7fb6a9d25\"}, {\"relation\": \"association\", \"evidence\": \"UniProt query\", \"citation\": {\"namespace\": \"pubmed\", \"identifier\": \"UniProt database\"}, \"source\": 19, \"target\": 68, \"key\": \"158c21903a83434d54789caadeaa9097\"}, {\"relation\": \"association\", \"evidence\": \"UniProt query\", \"citation\": {\"namespace\": \"pubmed\", \"identifier\": \"UniProt database\"}, \"source\": 37, \"target\": 69, \"key\": \"0fef945c1535a89f99ab0e98a2665ebf\"}, {\"relation\": \"association\", \"evidence\": \"UniProt query\", \"citation\": {\"namespace\": \"pubmed\", \"identifier\": \"UniProt database\"}, \"source\": 11, \"target\": 68, \"key\": \"fa08ab014fa5ca239fbcf43fbb1dbe03\"}, {\"relation\": \"association\", \"evidence\": \"UniProt query\", \"citation\": {\"namespace\": \"pubmed\", \"identifier\": \"UniProt database\"}, \"source\": 4, \"target\": 69, \"key\": \"e337b53cbdbf1beb2709351dbf9e618e\"}, {\"relation\": \"association\", \"evidence\": \"UniProt query\", \"citation\": {\"namespace\": \"pubmed\", \"identifier\": \"UniProt database\"}, \"source\": 53, \"target\": 69, \"key\": \"d147bfb60247a832c3631f592036d059\"}, {\"relation\": \"association\", \"evidence\": \"UniProt query\", \"citation\": {\"namespace\": \"pubmed\", \"identifier\": \"UniProt database\"}, \"source\": 44, \"target\": 68, \"key\": \"4f1ec3b74aecbc89a7181071040e88c8\"}, {\"relation\": \"association\", \"evidence\": \"DrugReactions\", \"citation\": {\"namespace\": \"pubmed\", \"identifier\": \"OpenTargets Platform\"}, \"source\": 101, \"target\": 0, \"key\": \"09cc4afa2f9bf55e7284998b16d6b98b\"}, {\"relation\": \"association\", \"evidence\": \"UniProt query\", \"citation\": {\"namespace\": \"pubmed\", \"identifier\": \"UniProt database\"}, \"source\": 48, \"target\": 68, \"key\": \"f39c9c5618ee31b349d29a5146d3378d\"}, {\"relation\": \"association\", \"evidence\": \"DrugReactions\", \"citation\": {\"namespace\": \"pubmed\", \"identifier\": \"OpenTargets Platform\"}, \"source\": 96, \"target\": 0, \"key\": \"acf654e042dbbc4ebb3f683ddd1c51b7\"}, {\"relation\": \"association\", \"evidence\": \"UniProt query\", \"citation\": {\"namespace\": \"pubmed\", \"identifier\": \"UniProt database\"}, \"source\": 50, \"target\": 68, \"key\": \"62c0a3420baefa83f4d7b514a09ae791\"}, {\"relation\": \"association\", \"evidence\": \"UniProt query\", \"citation\": {\"namespace\": \"pubmed\", \"identifier\": \"UniProt database\"}, \"source\": 41, \"target\": 68, \"key\": \"d123bd7e768402b0186ae37ce498e0fb\"}, {\"relation\": \"association\", \"evidence\": \"UniProt query\", \"citation\": {\"namespace\": \"pubmed\", \"identifier\": \"UniProt database\"}, \"source\": 25, \"target\": 68, \"key\": \"2ae41a4fcfd181c2cf33a588ec00b939\"}, {\"relation\": \"association\", \"evidence\": \"UniProt query\", \"citation\": {\"namespace\": \"pubmed\", \"identifier\": \"UniProt database\"}, \"source\": 64, \"target\": 68, \"key\": \"2e5b515a5e3647bb585c993f3327a59d\"}, {\"relation\": \"association\", \"evidence\": \"DrugReactions\", \"citation\": {\"namespace\": \"pubmed\", \"identifier\": \"OpenTargets Platform\"}, \"source\": 76, \"target\": 0, \"key\": \"d3d705fd64ef2ef6c49420d3ac91e449\"}, {\"relation\": \"association\", \"evidence\": \"DrugReactions\", \"citation\": {\"namespace\": \"pubmed\", \"identifier\": \"OpenTargets Platform\"}, \"source\": 80, \"target\": 0, \"key\": \"b0596cc911974c4172d34f19adc690c0\"}, {\"relation\": \"association\", \"evidence\": \"DrugReactions\", \"citation\": {\"namespace\": \"pubmed\", \"identifier\": \"OpenTargets Platform\"}, \"source\": 89, \"target\": 0, \"key\": \"bd23f016efff53c33a814969b26502fd\"}, {\"relation\": \"association\", \"evidence\": \"DrugReactions\", \"citation\": {\"namespace\": \"pubmed\", \"identifier\": \"OpenTargets Platform\"}, \"source\": 94, \"target\": 0, \"key\": \"5353ecb592fd9c859ef5dd3029c36b0d\"}, {\"relation\": \"association\", \"evidence\": \"UniProt query\", \"citation\": {\"namespace\": \"pubmed\", \"identifier\": \"UniProt database\"}, \"source\": 23, \"target\": 68, \"key\": \"0da7b6915c9a8952645c859acc0d12c5\"}, {\"relation\": \"association\", \"evidence\": \"UniProt query\", \"citation\": {\"namespace\": \"pubmed\", \"identifier\": \"UniProt database\"}, \"source\": 52, \"target\": 68, \"key\": \"e4a76f08ef53ffe59197e161617169ab\"}, {\"relation\": \"association\", \"evidence\": \"DrugReactions\", \"citation\": {\"namespace\": \"pubmed\", \"identifier\": \"OpenTargets Platform\"}, \"source\": 88, \"target\": 0, \"key\": \"e576b51fafedaa52bf90207582a5a362\"}]}, \"#bgzmtqeuhfkoqcvs\", 1000, 650, {'Protein': '#1F77B4', 'Pathology': '#FF7F0E', 'BiologicalProcess': '#2CA02C', 'miRNA': '#D62728', 'Complex': '#98DF8A', 'Composite': '#9467BD', 'Reaction': '#000000', 'Gene': '#FFBB78', 'Abundance': '#AEC7E8', 'RNA': '#FF9896'});\n",
       "});"
      ],
      "text/plain": [
       "<IPython.core.display.Javascript object>"
      ]
     },
     "execution_count": 4,
     "metadata": {},
     "output_type": "execute_result"
    }
   ],
   "source": [
    "#a random network of 250 edges\n",
    "to_jupyter(pybel.struct.mutation.induction.get_random_subgraph(kg))"
   ]
  },
  {
   "cell_type": "code",
   "execution_count": null,
   "id": "28ecfdd8",
   "metadata": {},
   "outputs": [],
   "source": []
  }
 ],
 "metadata": {
  "kernelspec": {
   "display_name": "Python 3 (ipykernel)",
   "language": "python",
   "name": "python3"
  },
  "language_info": {
   "codemirror_mode": {
    "name": "ipython",
    "version": 3
   },
   "file_extension": ".py",
   "mimetype": "text/x-python",
   "name": "python",
   "nbconvert_exporter": "python",
   "pygments_lexer": "ipython3",
   "version": "3.9.18"
  }
 },
 "nbformat": 4,
 "nbformat_minor": 5
}
