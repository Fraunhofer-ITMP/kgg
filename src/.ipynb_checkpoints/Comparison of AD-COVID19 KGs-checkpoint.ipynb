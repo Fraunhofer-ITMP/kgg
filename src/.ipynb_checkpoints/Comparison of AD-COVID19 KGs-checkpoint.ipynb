{
 "cells": [
  {
   "cell_type": "code",
   "execution_count": 1,
   "id": "881fc880",
   "metadata": {},
   "outputs": [],
   "source": [
    "import pubchempy as pcp\n",
    "import pandas as pd\n",
    "import re\n",
    "from tqdm import tqdm\n",
    "from utils import *\n",
    "from kg_gen_4 import *\n",
    "import xlsxwriter\n",
    "from matplotlib_venn import venn2,venn2_circles, venn2_unweighted"
   ]
  },
  {
   "cell_type": "markdown",
   "id": "f5508ec8",
   "metadata": {},
   "source": [
    "# Import previously created KGs"
   ]
  },
  {
   "cell_type": "code",
   "execution_count": 2,
   "id": "b89f70b1",
   "metadata": {},
   "outputs": [],
   "source": [
    "ad = pickle.load(open( \"../data/kgs/ndd/ad/ad_aug_2024.pkl\", \"rb\" ))\n",
    "cvd = pickle.load(open( \"../data/kgs/viral_diseases/covid19/covid_aug_2024.pkl\", \"rb\" ))"
   ]
  },
  {
   "cell_type": "code",
   "execution_count": 4,
   "id": "9c5374e5",
   "metadata": {},
   "outputs": [],
   "source": [
    "def getEntityFromKG(mainGraph,namespaceType):\n",
    "    \n",
    "    entity_list = []\n",
    "    \n",
    "    for node in tqdm(mainGraph,desc='Filtering ' + namespaceType):\n",
    "        \n",
    "        if node.namespace == namespaceType:\n",
    "            if node.name not in entity_list:\n",
    "                entity_list.append(node.name)\n",
    "                \n",
    "    return(entity_list)"
   ]
  },
  {
   "cell_type": "code",
   "execution_count": 5,
   "id": "575d6d3e",
   "metadata": {},
   "outputs": [],
   "source": [
    "def getSharedEntities(kg1,kg2):\n",
    "    \n",
    "    kg1_prot = getEntityFromKG(kg1,'HGNC')\n",
    "    kg2_prot = getEntityFromKG(kg2,'HGNC')\n",
    "    shared_prot = [x for x in kg1_prot if x in kg2_prot]\n",
    "    shared_prot = pd.DataFrame(shared_prot,columns=['Shared_Proteins'])\n",
    "    \n",
    "    kg1_chem = getEntityFromKG(kg1,'ChEMBL')\n",
    "    kg2_chem = getEntityFromKG(kg2,'ChEMBL')\n",
    "    shared_chem = [x for x in kg1_chem if x in kg2_chem]\n",
    "    shared_chem = pd.DataFrame(shared_chem,columns=['Shared_Drugs'])\n",
    "\n",
    "#     kg1_snp = getEntityFromKG(kg1,'dbSNP')\n",
    "#     kg2_snp = getEntityFromKG(kg2,'dbSNP')\n",
    "#     shared_snp = [x for x in kg1_snp if x in kg2_snp]\n",
    "#     shared_snp = pd.DataFrame(shared_snp,columns=['Shared_SNPs'])\n",
    "    \n",
    "    kg1_path = getEntityFromKG(kg1,'Reactome')\n",
    "    kg2_path = getEntityFromKG(kg2,'Reactome')\n",
    "    shared_path = [x for x in kg1_path if x in kg2_path]\n",
    "    shared_path = pd.DataFrame(shared_path,columns=['Shared_Pathways'])\n",
    "\n",
    "    \n",
    "    print('Shared Protein:',len(shared_prot))\n",
    "    print('Shared Drugs:',len(shared_chem))\n",
    "    #print('Shared SNP:',len(shared_snp))\n",
    "    print('Shared Pathways:',len(shared_path))\n",
    "    \n",
    "    return(shared_prot,shared_chem,shared_path)\n"
   ]
  },
  {
   "cell_type": "code",
   "execution_count": 6,
   "id": "641b9454",
   "metadata": {},
   "outputs": [
    {
     "data": {
      "application/vnd.jupyter.widget-view+json": {
       "model_id": "4e9c91f611a94cc69f2255190d91c608",
       "version_major": 2,
       "version_minor": 0
      },
      "text/plain": [
       "Filtering HGNC:   0%|          | 0/25701 [00:00<?, ?it/s]"
      ]
     },
     "metadata": {},
     "output_type": "display_data"
    },
    {
     "data": {
      "application/vnd.jupyter.widget-view+json": {
       "model_id": "d7f2fe3aab6c47a5984a8aacb2b5c8df",
       "version_major": 2,
       "version_minor": 0
      },
      "text/plain": [
       "Filtering HGNC:   0%|          | 0/21880 [00:00<?, ?it/s]"
      ]
     },
     "metadata": {},
     "output_type": "display_data"
    },
    {
     "data": {
      "application/vnd.jupyter.widget-view+json": {
       "model_id": "39cb9cfd1d1b4b159bc8d6ee737d2b6a",
       "version_major": 2,
       "version_minor": 0
      },
      "text/plain": [
       "Filtering ChEMBL:   0%|          | 0/25701 [00:00<?, ?it/s]"
      ]
     },
     "metadata": {},
     "output_type": "display_data"
    },
    {
     "data": {
      "application/vnd.jupyter.widget-view+json": {
       "model_id": "237d462812474613b6b28c87e238ecab",
       "version_major": 2,
       "version_minor": 0
      },
      "text/plain": [
       "Filtering ChEMBL:   0%|          | 0/21880 [00:00<?, ?it/s]"
      ]
     },
     "metadata": {},
     "output_type": "display_data"
    },
    {
     "data": {
      "application/vnd.jupyter.widget-view+json": {
       "model_id": "38efd8046a33440c94ca3b5b1221045d",
       "version_major": 2,
       "version_minor": 0
      },
      "text/plain": [
       "Filtering Reactome:   0%|          | 0/25701 [00:00<?, ?it/s]"
      ]
     },
     "metadata": {},
     "output_type": "display_data"
    },
    {
     "data": {
      "application/vnd.jupyter.widget-view+json": {
       "model_id": "766e3fa6fb45455aa8fc208a8bbc0379",
       "version_major": 2,
       "version_minor": 0
      },
      "text/plain": [
       "Filtering Reactome:   0%|          | 0/21880 [00:00<?, ?it/s]"
      ]
     },
     "metadata": {},
     "output_type": "display_data"
    },
    {
     "name": "stdout",
     "output_type": "stream",
     "text": [
      "Shared Protein: 1746\n",
      "Shared Drugs: 33\n",
      "Shared Pathways: 674\n"
     ]
    }
   ],
   "source": [
    "shared_ad_cvd = getSharedEntities(cvd,ad)"
   ]
  },
  {
   "cell_type": "code",
   "execution_count": 69,
   "id": "0498bb8c",
   "metadata": {},
   "outputs": [],
   "source": [
    "writer = pd.ExcelWriter('../data/kgs/ndd/ad/shared_entities.xlsx', engine='xlsxwriter')\n",
    "\n",
    "names = [\"Proteins\", \"Drugs\",\"Pathways\"]\n",
    "dataframes = [shared_ad_cvd[0],shared_ad_cvd[1],shared_ad_cvd[2]]\n",
    "for i, frame in enumerate(dataframes):\n",
    "    frame.to_excel(writer, sheet_name = names[i], index=False)\n",
    "    \n",
    "writer.close()"
   ]
  },
  {
   "cell_type": "code",
   "execution_count": 8,
   "id": "0c655975",
   "metadata": {},
   "outputs": [
    {
     "data": {
      "application/vnd.jupyter.widget-view+json": {
       "model_id": "2b384a1611904912b497b85b41765c3d",
       "version_major": 2,
       "version_minor": 0
      },
      "text/plain": [
       "Filtering ChEMBL:   0%|          | 0/25701 [00:00<?, ?it/s]"
      ]
     },
     "metadata": {},
     "output_type": "display_data"
    },
    {
     "data": {
      "application/vnd.jupyter.widget-view+json": {
       "model_id": "aa1fb3cdf59a4a74ab193bc0bcad4bcd",
       "version_major": 2,
       "version_minor": 0
      },
      "text/plain": [
       "Filtering ChEMBL:   0%|          | 0/21880 [00:00<?, ?it/s]"
      ]
     },
     "metadata": {},
     "output_type": "display_data"
    },
    {
     "data": {
      "image/png": "[encoded data removed]",
      "text/plain": [
       "<Figure size 640x480 with 1 Axes>"
      ]
     },
     "metadata": {},
     "output_type": "display_data"
    }
   ],
   "source": [
    "set1= set(getEntityFromKG(cvd,'ChEMBL'))\n",
    "set2= set(getEntityFromKG(ad,'ChEMBL'))\n",
    "\n",
    "venn2_unweighted([set1,set2], set_colors=('teal', 'navy'), set_labels = ('COVID-19','AD'))\n",
    "plt.title(\"Shared no. of drugs\")\n",
    "plt.savefig('../data/kgs/ndd/ad/shared_drugs.png',dpi = 500)\n",
    "plt.show()"
   ]
  },
  {
   "cell_type": "code",
   "execution_count": 21,
   "id": "ac8e277f",
   "metadata": {},
   "outputs": [
    {
     "data": {
      "application/vnd.jupyter.widget-view+json": {
       "model_id": "9df0b2b5e0934a16b07450cd03d22e70",
       "version_major": 2,
       "version_minor": 0
      },
      "text/plain": [
       "Filtering HGNC:   0%|          | 0/206787 [00:00<?, ?it/s]"
      ]
     },
     "metadata": {},
     "output_type": "display_data"
    },
    {
     "data": {
      "application/vnd.jupyter.widget-view+json": {
       "model_id": "14a0bf83398344f98de8e10a1911a6b1",
       "version_major": 2,
       "version_minor": 0
      },
      "text/plain": [
       "Filtering HGNC:   0%|          | 0/149515 [00:00<?, ?it/s]"
      ]
     },
     "metadata": {},
     "output_type": "display_data"
    },
    {
     "data": {
      "image/png": "[encoded data removed]",
      "text/plain": [
       "<Figure size 640x480 with 1 Axes>"
      ]
     },
     "metadata": {},
     "output_type": "display_data"
    }
   ],
   "source": [
    "set1= set(getEntityFromKG(cvd,'HGNC'))\n",
    "set2= set(getEntityFromKG(ad,'HGNC'))\n",
    "\n",
    "venn2_unweighted([set1,set2], set_colors=('teal', 'navy'), set_labels= ('COVID-19','AD'))\n",
    "\n",
    "plt.title(\"Shared no. of proteins\")\n",
    "plt.savefig('../data/kgs/ndd/ad/shared_prots.png',dpi = 500)\n",
    "plt.show()"
   ]
  },
  {
   "cell_type": "code",
   "execution_count": 23,
   "id": "ca4382aa",
   "metadata": {},
   "outputs": [
    {
     "data": {
      "application/vnd.jupyter.widget-view+json": {
       "model_id": "536407e4009146d0a695231e05ba3892",
       "version_major": 2,
       "version_minor": 0
      },
      "text/plain": [
       "Filtering Reactome:   0%|          | 0/206787 [00:00<?, ?it/s]"
      ]
     },
     "metadata": {},
     "output_type": "display_data"
    },
    {
     "data": {
      "application/vnd.jupyter.widget-view+json": {
       "model_id": "33f1691397b343f688dd1c71118e7d32",
       "version_major": 2,
       "version_minor": 0
      },
      "text/plain": [
       "Filtering Reactome:   0%|          | 0/149515 [00:00<?, ?it/s]"
      ]
     },
     "metadata": {},
     "output_type": "display_data"
    },
    {
     "data": {
      "image/png": "[encoded data removed]",
      "text/plain": [
       "<Figure size 640x480 with 1 Axes>"
      ]
     },
     "metadata": {},
     "output_type": "display_data"
    }
   ],
   "source": [
    "set1= set(getEntityFromKG(cvd,'Reactome'))\n",
    "set2= set(getEntityFromKG(ad,'Reactome'))\n",
    "\n",
    "venn2_unweighted([set1,set2], set_colors=('teal', 'navy'), set_labels= ('COVID-19','AD'))\n",
    "\n",
    "plt.title(\"Shared no. of pathways\")\n",
    "plt.savefig('../data/kgs/ndd/ad/shared_pathways.png',dpi = 500)\n",
    "plt.show()"
   ]
  },
  {
   "cell_type": "code",
   "execution_count": 12,
   "id": "949aa0e5",
   "metadata": {},
   "outputs": [],
   "source": [
    "merge_kg = nx.compose(cvd,ad)"
   ]
  },
  {
   "cell_type": "code",
   "execution_count": 109,
   "id": "757658d0",
   "metadata": {},
   "outputs": [
    {
     "data": {
      "text/html": [
       "            <h2>Metadata</h2>\n",
       "            <table>\n",
       "<tbody>\n",
       "<tr><td>Name   </td><td>ad_aug_2024</td></tr>\n",
       "<tr><td>Version</td><td>0.0.1      </td></tr>\n",
       "</tbody>\n",
       "</table>\n",
       "            <h2>Statistics</h2>\n",
       "            <table>\n",
       "<tbody>\n",
       "<tr><td>Nodes          </td><td style=\"text-align: right;\"> 33052       </td></tr>\n",
       "<tr><td>Namespaces     </td><td style=\"text-align: right;\">    10       </td></tr>\n",
       "<tr><td>Edges          </td><td style=\"text-align: right;\">274925       </td></tr>\n",
       "<tr><td>Annotations    </td><td style=\"text-align: right;\">     0       </td></tr>\n",
       "<tr><td>Citations      </td><td style=\"text-align: right;\">     4       </td></tr>\n",
       "<tr><td>Authors        </td><td style=\"text-align: right;\">     0       </td></tr>\n",
       "<tr><td>Components     </td><td style=\"text-align: right;\">    20       </td></tr>\n",
       "<tr><td>Warnings       </td><td style=\"text-align: right;\">     0       </td></tr>\n",
       "<tr><td>Network Density</td><td style=\"text-align: right;\">     0.000252</td></tr>\n",
       "</tbody>\n",
       "</table>\n",
       "            <h2>Nodes</h2>\n",
       "            <table>\n",
       "<thead>\n",
       "<tr><th>Type             </th><th style=\"text-align: right;\">  Count</th><th>Example                                                   </th></tr>\n",
       "</thead>\n",
       "<tbody>\n",
       "<tr><td>BiologicalProcess</td><td style=\"text-align: right;\">  15762</td><td>bp(GOMF:&quot;gonadotropin hormone-releasing hormone activity&quot;)</td></tr>\n",
       "<tr><td>Protein          </td><td style=\"text-align: right;\">   7732</td><td>p(HGNC:PRSS3)                                             </td></tr>\n",
       "<tr><td>Abundance        </td><td style=\"text-align: right;\">   4961</td><td>a(ChEMBLAssay:CHEMBL1227597)                              </td></tr>\n",
       "<tr><td>Pathology        </td><td style=\"text-align: right;\">   3300</td><td>path(SideEffect:&quot;rotator cuff syndrome&quot;)                  </td></tr>\n",
       "<tr><td>Gene             </td><td style=\"text-align: right;\">   1297</td><td>g(dbSNP:rs262224)                                         </td></tr>\n",
       "</tbody>\n",
       "</table>\n",
       "            <h2>Namespaces</h2>\n",
       "            <table>\n",
       "<thead>\n",
       "<tr><th>Prefix     </th><th>Name                            </th><th style=\"text-align: right;\">  Count</th><th>Example                                                                  </th></tr>\n",
       "</thead>\n",
       "<tbody>\n",
       "<tr><td>GOBP       </td><td>Gene Ontology                   </td><td style=\"text-align: right;\">  10547</td><td>bp(GOBP:&quot;positive regulation of protein localization to plasma membrane&quot;)</td></tr>\n",
       "<tr><td>HGNC       </td><td>HUGO Gene Nomenclature Committee</td><td style=\"text-align: right;\">   7719</td><td>p(HGNC:KALRN)                                                            </td></tr>\n",
       "<tr><td>ChEMBLAssay</td><td>                                </td><td style=\"text-align: right;\">   4509</td><td>a(ChEMBLAssay:CHEMBL2330178)                                             </td></tr>\n",
       "<tr><td>GOMF       </td><td>Gene Ontology                   </td><td style=\"text-align: right;\">   3695</td><td>bp(GOMF:&quot;receptor antagonist activity&quot;)                                  </td></tr>\n",
       "<tr><td>SideEffect </td><td>                                </td><td style=\"text-align: right;\">   3300</td><td>path(SideEffect:&quot;foetal alcohol syndrome&quot;)                               </td></tr>\n",
       "<tr><td>dbSNP      </td><td>dbSNP Reference SNP number      </td><td style=\"text-align: right;\">   1297</td><td>g(dbSNP:rs4240406)                                                       </td></tr>\n",
       "<tr><td>Reactome   </td><td>Reactome                        </td><td style=\"text-align: right;\">   1216</td><td>bp(Reactome:&quot;Nuclear events mediated by NFE2L2.&quot;)                        </td></tr>\n",
       "<tr><td>ChEMBL     </td><td>ChEMBL                          </td><td style=\"text-align: right;\">    452</td><td>a(ChEMBL:CHEMBL118)                                                      </td></tr>\n",
       "<tr><td>MOA        </td><td>                                </td><td style=\"text-align: right;\">    304</td><td>bp(MOA:&quot;Tyrosine-protein kinase SRC inhibitor&quot;)                          </td></tr>\n",
       "<tr><td>VP         </td><td>                                </td><td style=\"text-align: right;\">     13</td><td>p(VP:P0DTC1)                                                             </td></tr>\n",
       "</tbody>\n",
       "</table>\n",
       "            <h2>Edges</h2>\n",
       "            <table>\n",
       "<thead>\n",
       "<tr><th>Edge Type                              </th><th style=\"text-align: right;\">  Count</th><th>Example                                                                                   </th></tr>\n",
       "</thead>\n",
       "<tbody>\n",
       "<tr><td>Protein association BiologicalProcess  </td><td style=\"text-align: right;\"> 113217</td><td>p(HGNC:TRIM5) association bp(GOMF:&quot;pattern recognition receptor activity&quot;)                </td></tr>\n",
       "<tr><td>Pathology association Abundance        </td><td style=\"text-align: right;\">  12324</td><td>path(SideEffect:&quot;alanine aminotransferase increased&quot;) association a(ChEMBL:CHEMBL902)     </td></tr>\n",
       "<tr><td>Protein association Abundance          </td><td style=\"text-align: right;\">   4532</td><td>p(HGNC:PPARG) association a(ChEMBLAssay:CHEMBL833484)                                     </td></tr>\n",
       "<tr><td>Protein association Gene               </td><td style=\"text-align: right;\">   1308</td><td>p(HGNC:CDC37) association g(dbSNP:rs142770866)                                            </td></tr>\n",
       "<tr><td>BiologicalProcess association Abundance</td><td style=\"text-align: right;\">    473</td><td>bp(MOA:&quot;Microtubule-associated protein tau inhibitor&quot;) association a(ChEMBL:CHEMBL4297860)</td></tr>\n",
       "<tr><td>Abundance decreases Protein            </td><td style=\"text-align: right;\">    312</td><td>a(ChEMBL:CHEMBL433) decreases p(HGNC:ALDH5A1)                                             </td></tr>\n",
       "<tr><td>Abundance increases Protein            </td><td style=\"text-align: right;\">    109</td><td>a(ChEMBL:CHEMBL655) increases p(HGNC:GABRA1)                                              </td></tr>\n",
       "</tbody>\n",
       "</table>\n"
      ],
      "text/plain": [
       "<pybel.struct.graph.SummarizeDispatch at 0x1992cc08be0>"
      ]
     },
     "execution_count": 109,
     "metadata": {},
     "output_type": "execute_result"
    }
   ],
   "source": [
    "merge_kg.summarize"
   ]
  },
  {
   "cell_type": "code",
   "execution_count": 3,
   "id": "0422f798",
   "metadata": {},
   "outputs": [],
   "source": [
    "cvd_snp = pd.read_csv('../data/kgs/viral_diseases/covid19/diseaseAssociatedSNPs.csv',index_col=0)\n",
    "cvd_snp = list(cvd_snp['rsId'])"
   ]
  },
  {
   "cell_type": "code",
   "execution_count": 4,
   "id": "cef47ba1",
   "metadata": {},
   "outputs": [
    {
     "name": "stderr",
     "output_type": "stream",
     "text": [
      "C:\\Users\\reagon.karki\\AppData\\Local\\Temp\\ipykernel_12124\\2970200436.py:1: DtypeWarning: Columns (11) have mixed types. Specify dtype option on import or set low_memory=False.\n",
      "  ad_snp = pd.read_csv('data/kgs/ndd/ad_aug_2024/diseaseAssociatedSNPs.csv',index_col=0)\n"
     ]
    }
   ],
   "source": [
    "ad_snp = pd.read_csv('../data/kgs/ndd/ad/diseaseAssociatedSNPs.csv',index_col=0)\n",
    "ad_snp = list(ad_snp['rsId'])"
   ]
  },
  {
   "cell_type": "code",
   "execution_count": 7,
   "id": "e7176b2c",
   "metadata": {},
   "outputs": [],
   "source": [
    "shared_snp = [x for x in cvd_snp if x in ad_snp]"
   ]
  },
  {
   "cell_type": "code",
   "execution_count": 8,
   "id": "5faea1e3",
   "metadata": {},
   "outputs": [
    {
     "data": {
      "text/plain": [
       "121"
      ]
     },
     "execution_count": 8,
     "metadata": {},
     "output_type": "execute_result"
    }
   ],
   "source": [
    "len(shared_snp)"
   ]
  },
  {
   "cell_type": "code",
   "execution_count": 9,
   "id": "c50d7c04",
   "metadata": {},
   "outputs": [
    {
     "data": {
      "text/plain": [
       "{'rs11065822', 'rs429358'}"
      ]
     },
     "execution_count": 9,
     "metadata": {},
     "output_type": "execute_result"
    }
   ],
   "source": [
    "set(shared_snp)"
   ]
  },
  {
   "cell_type": "code",
   "execution_count": 26,
   "id": "69fb0ed9",
   "metadata": {},
   "outputs": [],
   "source": [
    "g = filter_graph(merge_kg,['rs11065822','CUX2'])"
   ]
  },
  {
   "cell_type": "code",
   "execution_count": 27,
   "id": "5bcad980",
   "metadata": {},
   "outputs": [
    {
     "data": {
      "application/javascript": [
       "function init_d3_force(d3, graph, chart, width, height, function_colors) {\n",
       "    var focus_node = null;\n",
       "    var highlight_node = null;\n",
       "\n",
       "    // Highlight color variables\n",
       "\n",
       "    // Highlight color of the node boundering\n",
       "    const highlight_node_boundering = \"#4EB2D4\";\n",
       "\n",
       "    // Highlight color of the edge\n",
       "    const highlighted_link_color = \"#4EB2D4\";\n",
       "\n",
       "    // Text highlight color\n",
       "    const highlight_text = \"#4EB2D4\";\n",
       "\n",
       "    // Size when zooming scale\n",
       "    var size = d3.scalePow().exponent(1)\n",
       "        .domain([1, 100])\n",
       "        .range([8, 24]);\n",
       "\n",
       "    // Simulation parameters\n",
       "    const linkDistance = 100;\n",
       "    const fCharge = -1000;\n",
       "    const linkStrength = 0.7;\n",
       "    const collideStrength = 1;\n",
       "\n",
       "    // Simulation defined with variables\n",
       "    var simulation = d3.forceSimulation()\n",
       "        .force(\"link\", d3.forceLink()\n",
       "            .distance(linkDistance)\n",
       "            .strength(linkStrength)\n",
       "        )\n",
       "        .force(\"collide\", d3.forceCollide()\n",
       "            .radius(function (d) {\n",
       "                return d.r + 10\n",
       "            })\n",
       "            .strength(collideStrength)\n",
       "        )\n",
       "        .force(\"charge\", d3.forceManyBody()\n",
       "            .strength(fCharge)\n",
       "        )\n",
       "        .force(\"center\", d3.forceCenter(width / 2, height / 2))\n",
       "        .force(\"y\", d3.forceY(0))\n",
       "        .force(\"x\", d3.forceX(0));\n",
       "\n",
       "    // Pin down functionality\n",
       "    var node_drag = d3.drag()\n",
       "        .on(\"start\", dragstarted)\n",
       "        .on(\"drag\", dragged)\n",
       "        .on(\"end\", dragended);\n",
       "\n",
       "    function dragstarted(d) {\n",
       "        if (!d3.event.active) simulation.alphaTarget(0.3).restart();\n",
       "        d.fx = d.x;\n",
       "        d.fy = d.y;\n",
       "    }\n",
       "\n",
       "    function dragged(d) {\n",
       "        d.fx = d3.event.x;\n",
       "        d.fy = d3.event.y;\n",
       "    }\n",
       "\n",
       "    function dragended(d) {\n",
       "        if (!d3.event.active) simulation.alphaTarget(0);\n",
       "    }\n",
       "\n",
       "    function releasenode(d) {\n",
       "        d.fx = null;\n",
       "        d.fy = null;\n",
       "    }\n",
       "\n",
       "    //END Pin down functionality\n",
       "\n",
       "\n",
       "    /**\n",
       "     * Gets the best name for a node object\n",
       "     * @param {object} d object\n",
       "     * @returns {str} canonical name of the node\n",
       "     */\n",
       "    function getCanonicalName(d) {\n",
       "        if (d.concept && d.concept.name && !(d.variants || d.reactants || d.products || d.members)) {\n",
       "            return d.concept.name\n",
       "        } else if (d.bel) {\n",
       "            return d.bel\n",
       "        } else {\n",
       "            console.log('Undefined node: ' + d);\n",
       "            return 'UNDEFINED'\n",
       "        }\n",
       "    }\n",
       "\n",
       "    const color_circunferencia = \"black\";\n",
       "    const default_link_color = \"#AAAAAA\";\n",
       "    const nominal_base_node_size = 8;\n",
       "\n",
       "    // Normal and highlighted stroke of the links (double the width of the link when highlighted)\n",
       "    const nominal_stroke = 1.5;\n",
       "\n",
       "    // Zoom variables\n",
       "    const min_zoom = 0.1;\n",
       "    const max_zoom = 10;\n",
       "\n",
       "    var svg = d3.select(chart).append(\"svg\")\n",
       "        .attr(\"width\", width)\n",
       "        .attr(\"height\", height);\n",
       "\n",
       "    // // Create definition for arrowhead.\n",
       "    svg.append(\"defs\").append(\"marker\")\n",
       "        .attr(\"id\", \"arrowhead\")\n",
       "        .attr(\"viewBox\", \"0 -5 10 10\")\n",
       "        .attr(\"refX\", 20)\n",
       "        .attr(\"refY\", 0)\n",
       "        .attr(\"markerUnits\", \"strokeWidth\")\n",
       "        .attr(\"markerWidth\", 6)\n",
       "        .attr(\"markerHeight\", 6)\n",
       "        .attr(\"orient\", \"auto\")\n",
       "        .append(\"path\")\n",
       "        .attr(\"d\", \"M0,-5L10,0L0,5\");\n",
       "\n",
       "    // // Create definition for stub.\n",
       "    svg.append(\"defs\").append(\"marker\")\n",
       "        .attr(\"id\", \"stub\")\n",
       "        .attr(\"viewBox\", \"-1 -5 2 10\")\n",
       "        .attr(\"refX\", 15)\n",
       "        .attr(\"refY\", 0)\n",
       "        .attr(\"markerUnits\", \"strokeWidth\")\n",
       "        .attr(\"markerWidth\", 6)\n",
       "        .attr(\"markerHeight\", 6)\n",
       "        .attr(\"orient\", \"auto\")\n",
       "        .append(\"path\")\n",
       "        .attr(\"d\", \"M 0,0 m -1,-5 L 1,-5 L 1,5 L -1,5 Z\");\n",
       "\n",
       "    // Background\n",
       "    svg.append(\"rect\")\n",
       "        .attr(\"width\", \"100%\")\n",
       "        .attr(\"height\", \"100%\")\n",
       "        .attr(\"fill\", \"#ffffff\")\n",
       "        .style(\"pointer-events\", \"all\")\n",
       "        // Zoom + panning functionality\n",
       "        .call(d3.zoom()\n",
       "            .scaleExtent([min_zoom, max_zoom])\n",
       "            .on(\"zoom\", zoomed))\n",
       "        .on(\"dblclick.zoom\", null);\n",
       "\n",
       "\n",
       "    function zoomed() {\n",
       "        g.attr(\"transform\", d3.event.transform);\n",
       "    }\n",
       "\n",
       "    // g = svg object where the graph will be appended\n",
       "    var g = svg.append(\"g\");\n",
       "\n",
       "    var linkedByIndex = {};\n",
       "    graph.links.forEach(function (d) {\n",
       "        linkedByIndex[d.source + \",\" + d.target] = true;\n",
       "    });\n",
       "\n",
       "    function isConnected(a, b) {\n",
       "        return linkedByIndex[a.index + \",\" + b.index] || linkedByIndex[b.index + \",\" + a.index] || a.index == b.index;\n",
       "    }\n",
       "\n",
       "    function ticked() {\n",
       "        link.attr(\"x1\", function (d) {\n",
       "            return d.source.x;\n",
       "        })\n",
       "            .attr(\"y1\", function (d) {\n",
       "                return d.source.y;\n",
       "            })\n",
       "            .attr(\"x2\", function (d) {\n",
       "                return d.target.x;\n",
       "            })\n",
       "            .attr(\"y2\", function (d) {\n",
       "                return d.target.y;\n",
       "            });\n",
       "\n",
       "        node\n",
       "            .attr(\"transform\", function (d) {\n",
       "                return \"translate(\" + d.x + \", \" + d.y + \")\";\n",
       "            });\n",
       "    }\n",
       "\n",
       "\n",
       "    simulation\n",
       "        .nodes(graph.nodes)\n",
       "        .on(\"tick\", ticked);\n",
       "\n",
       "    simulation.force(\"link\")\n",
       "        .links(graph.links);\n",
       "\n",
       "    // Definition of links nodes text...\n",
       "\n",
       "    var link = g.selectAll(\".link\")\n",
       "        .data(graph.links)\n",
       "        .enter().append(\"line\")\n",
       "        .style(\"stroke-width\", nominal_stroke)\n",
       "        .style(\"stroke\", default_link_color)\n",
       "        .style(\"stroke-dasharray\", function (d) {\n",
       "            if (['decreases', 'directlyDecreases', 'increases', 'directlyIncreases', 'negativeCorrelation',\n",
       "                'positiveCorrelation'].indexOf(d.relation) >= 0) {\n",
       "                return \"none\"\n",
       "            } else {\n",
       "                return \"4, 4\"\n",
       "            }\n",
       "        })\n",
       "        .attr(\"marker-start\", function (d) {\n",
       "            if ('positiveCorrelation' == d.relation) {\n",
       "                return \"url(#arrowhead)\"\n",
       "            }\n",
       "            else if ('negativeCorrelation' == d.relation) {\n",
       "                return \"url(#stub)\"\n",
       "            }\n",
       "            else {\n",
       "                return \"\"\n",
       "            }\n",
       "        })\n",
       "        .attr(\"marker-end\", function (d) {\n",
       "            if (['increases', 'directlyIncreases', 'positiveCorrelation', 'isA', 'partOf'].indexOf(d.relation) >= 0) {\n",
       "                return \"url(#arrowhead)\"\n",
       "            } else if (['decreases', 'directlyDecreases', 'negativeCorrelation'].indexOf(d.relation) >= 0) {\n",
       "                return \"url(#stub)\"\n",
       "            } else {\n",
       "                return \"\"\n",
       "            }\n",
       "        });\n",
       "\n",
       "    var node = g.selectAll(\".nodes\")\n",
       "        .data(graph.nodes)\n",
       "        .enter().append(\"g\")\n",
       "        .attr(\"class\", \"node\")\n",
       "        // Next two lines -> Pin down functionality\n",
       "        .on('dblclick', releasenode)\n",
       "        .call(node_drag);\n",
       "\n",
       "    var circle = node.append(\"path\")\n",
       "        .attr(\"d\", d3.symbol()\n",
       "            .size(function (d) {\n",
       "                return Math.PI * Math.pow(size(d.size) || nominal_base_node_size, 2);\n",
       "            })\n",
       "        )\n",
       "        .attr(\"class\", function (d) {\n",
       "            return d.function\n",
       "        })\n",
       "        .style('fill', function (d) {\n",
       "            return function_colors[d.function]\n",
       "        })\n",
       "        .style(\"stroke-width\", nominal_stroke)\n",
       "        .style(\"stroke\", color_circunferencia);\n",
       "\n",
       "    var text = node.append(\"text\")\n",
       "        .attr(\"class\", \"node-name\")\n",
       "        // .attr(\"id\", nodehashes[d])\n",
       "        .attr(\"fill\", \"black\")\n",
       "        .attr(\"dx\", 12)\n",
       "        .attr(\"dy\", \".35em\")\n",
       "        .text(function (d) {\n",
       "            return getCanonicalName(d)\n",
       "        });\n",
       "\n",
       "    // Highlight on mouseenter and back to normal on mouseout\n",
       "    node.on(\"mouseenter\", function (d) {\n",
       "        set_highlight(d);\n",
       "    })\n",
       "        .on(\"mousedown\", function () {\n",
       "            d3.event.stopPropagation();\n",
       "        }).on(\"mouseout\", function () {\n",
       "        exit_highlight();\n",
       "    });\n",
       "\n",
       "    function exit_highlight() {\n",
       "        highlight_node = null;\n",
       "        if (focus_node === null) {\n",
       "            if (highlight_node_boundering != color_circunferencia) {\n",
       "                circle.style(\"stroke\", color_circunferencia);\n",
       "                text.style(\"fill\", \"black\");\n",
       "                link.style(\"stroke\", default_link_color);\n",
       "            }\n",
       "        }\n",
       "    }\n",
       "\n",
       "    function set_highlight(d) {\n",
       "        if (focus_node !== null) d = focus_node;\n",
       "        highlight_node = d;\n",
       "\n",
       "        if (highlight_node_boundering != color_circunferencia) {\n",
       "            circle.style(\"stroke\", function (o) {\n",
       "                return isConnected(d, o) ? highlight_node_boundering : color_circunferencia;\n",
       "            });\n",
       "            text.style(\"fill\", function (o) {\n",
       "                return isConnected(d, o) ? highlight_text : \"black\";\n",
       "            });\n",
       "            link.style(\"stroke\", function (o) {\n",
       "                return o.source.index == d.index || o.target.index == d.index ? highlighted_link_color : default_link_color;\n",
       "            });\n",
       "        }\n",
       "    }\n",
       "\n",
       "\n",
       "    // Freeze the graph when space is pressed\n",
       "    function freezeGraph() {\n",
       "        // Space button Triggers STOP\n",
       "        if (d3.event.keyCode == 32) {\n",
       "            simulation.stop();\n",
       "        }\n",
       "    }\n",
       "\n",
       "    // Call freezeGraph when a key is pressed, freezeGraph checks whether this key is \"Space\" that triggers the freeze\n",
       "    d3.select(window).on(\"keydown\", freezeGraph);\n",
       "}\n",
       "\n",
       "require.config({\n",
       "    paths: {\n",
       "        d3: '//cdnjs.cloudflare.com/ajax/libs/d3/4.5.0/d3.min'\n",
       "    }\n",
       "});\n",
       "\n",
       "var elementInnerHTML = \"<div id='bgzoakfetmhucsvj'></div>\";\n",
       "\n",
       "element.append(elementInnerHTML);\n",
       "\n",
       "require(['d3'], function (d3) {\n",
       "    return init_d3_force(d3, {\"directed\": true, \"multigraph\": true, \"graph\": {\"pybel_version\": \"0.15.5\", \"document_metadata\": {\"name\": \"ad_aug_2024\", \"version\": \"0.0.1\"}, \"namespace_url\": {}, \"namespace_pattern\": {}, \"annotation_url\": {}, \"annotation_pattern\": {}, \"annotation_list\": {}, \"annotation_curie\": [], \"annotation_miriam\": []}, \"nodes\": [{\"function\": \"BiologicalProcess\", \"concept\": {\"namespace\": \"GOBP\", \"name\": \"cellular response to organic substance\"}, \"id\": \"a3847ad429038173600435b7c27cd3c1\", \"bel\": \"bp(GOBP:\\\"cellular response to organic substance\\\")\"}, {\"function\": \"BiologicalProcess\", \"concept\": {\"namespace\": \"GOBP\", \"name\": \"negative regulation of transcription by RNA polymerase II\"}, \"id\": \"d13d67d38f4a5d76e4503bf8daf08f84\", \"bel\": \"bp(GOBP:\\\"negative regulation of transcription by RNA polymerase II\\\")\"}, {\"function\": \"BiologicalProcess\", \"concept\": {\"namespace\": \"GOBP\", \"name\": \"positive regulation of dendrite morphogenesis\"}, \"id\": \"4c9a11f1661b4e994e2d9f3ee876e0cf\", \"bel\": \"bp(GOBP:\\\"positive regulation of dendrite morphogenesis\\\")\"}, {\"function\": \"BiologicalProcess\", \"concept\": {\"namespace\": \"GOBP\", \"name\": \"positive regulation of dendritic spine morphogenesis\"}, \"id\": \"97661360d3f20ade57b3dd2b07986e9a\", \"bel\": \"bp(GOBP:\\\"positive regulation of dendritic spine morphogenesis\\\")\"}, {\"function\": \"BiologicalProcess\", \"concept\": {\"namespace\": \"GOBP\", \"name\": \"positive regulation of excitatory postsynaptic potential\"}, \"id\": \"8955edfdda69209bf3a8e0934301b905\", \"bel\": \"bp(GOBP:\\\"positive regulation of excitatory postsynaptic potential\\\")\"}, {\"function\": \"BiologicalProcess\", \"concept\": {\"namespace\": \"GOBP\", \"name\": \"positive regulation of gene expression\"}, \"id\": \"96222a03282bc4a0032f7fec52b3b2d8\", \"bel\": \"bp(GOBP:\\\"positive regulation of gene expression\\\")\"}, {\"function\": \"BiologicalProcess\", \"concept\": {\"namespace\": \"GOBP\", \"name\": \"positive regulation of synapse assembly\"}, \"id\": \"3ca56091a6fea6c8fa79815029efb479\", \"bel\": \"bp(GOBP:\\\"positive regulation of synapse assembly\\\")\"}, {\"function\": \"BiologicalProcess\", \"concept\": {\"namespace\": \"GOBP\", \"name\": \"regulation of transcription by RNA polymerase II\"}, \"id\": \"0dfd2a4fd0555e7572266b0b1a102b0e\", \"bel\": \"bp(GOBP:\\\"regulation of transcription by RNA polymerase II\\\")\"}, {\"function\": \"BiologicalProcess\", \"concept\": {\"namespace\": \"GOBP\", \"name\": \"short-term memory\"}, \"id\": \"431daf9346faba087a58480bd710512c\", \"bel\": \"bp(GOBP:\\\"short-term memory\\\")\"}, {\"function\": \"BiologicalProcess\", \"concept\": {\"namespace\": \"GOBP\", \"name\": \"cognition\"}, \"id\": \"d28afae8e2fe13b306eebb7824a9bf4d\", \"bel\": \"bp(GOBP:cognition)\"}, {\"function\": \"BiologicalProcess\", \"concept\": {\"namespace\": \"GOMF\", \"name\": \"DNA-binding transcription factor activity, RNA polymerase II-specific\"}, \"id\": \"ae84a82436096e319664bf6517c877e3\", \"bel\": \"bp(GOMF:\\\"DNA-binding transcription factor activity, RNA polymerase II-specific\\\")\"}, {\"function\": \"BiologicalProcess\", \"concept\": {\"namespace\": \"GOMF\", \"name\": \"DNA-binding transcription repressor activity, RNA polymerase II-specific\"}, \"id\": \"d215924045a71e1af6a6584600eb1c52\", \"bel\": \"bp(GOMF:\\\"DNA-binding transcription repressor activity, RNA polymerase II-specific\\\")\"}, {\"function\": \"BiologicalProcess\", \"concept\": {\"namespace\": \"GOMF\", \"name\": \"RNA polymerase II cis-regulatory region sequence-specific DNA binding\"}, \"id\": \"2abcfbce06f9b3def0738bd122bbbb25\", \"bel\": \"bp(GOMF:\\\"RNA polymerase II cis-regulatory region sequence-specific DNA binding\\\")\"}, {\"function\": \"BiologicalProcess\", \"concept\": {\"namespace\": \"GOMF\", \"name\": \"RNA polymerase II transcription regulatory region sequence-specific DNA binding\"}, \"id\": \"703b7ce6eae7c293271c511cd8846ae4\", \"bel\": \"bp(GOMF:\\\"RNA polymerase II transcription regulatory region sequence-specific DNA binding\\\")\"}, {\"function\": \"BiologicalProcess\", \"concept\": {\"namespace\": \"GOMF\", \"name\": \"sequence-specific DNA binding\"}, \"id\": \"4f6340e93837fc4942863ae2916bcdc4\", \"bel\": \"bp(GOMF:\\\"sequence-specific DNA binding\\\")\"}, {\"function\": \"BiologicalProcess\", \"concept\": {\"namespace\": \"GOMF\", \"name\": \"sequence-specific double-stranded DNA binding\"}, \"id\": \"9899db94ffb677f581a7ef84f05b2eb0\", \"bel\": \"bp(GOMF:\\\"sequence-specific double-stranded DNA binding\\\")\"}, {\"function\": \"Gene\", \"concept\": {\"namespace\": \"dbSNP\", \"name\": \"rs11065822\"}, \"id\": \"f0ed7b69fa6f0fbf7164dac5834842c0\", \"bel\": \"g(dbSNP:rs11065822)\"}, {\"function\": \"Gene\", \"concept\": {\"namespace\": \"dbSNP\", \"name\": \"rs149024127\"}, \"id\": \"f61bd72cb863ca68faa5d4903d50fee4\", \"bel\": \"g(dbSNP:rs149024127)\"}, {\"function\": \"Protein\", \"concept\": {\"namespace\": \"HGNC\", \"name\": \"CUX2\"}, \"id\": \"52d343cdfbe238c19a09c1ef2cf32a28\", \"bel\": \"p(HGNC:CUX2)\"}], \"links\": [{\"relation\": \"association\", \"evidence\": \"UniProt query\", \"citation\": {\"namespace\": \"pubmed\", \"identifier\": \"UniProt database\"}, \"source\": 10, \"target\": 18, \"key\": \"1dbbb2dea4907fbc413a8a2389a8e04f\"}, {\"relation\": \"association\", \"evidence\": \"UniProt query\", \"citation\": {\"namespace\": \"pubmed\", \"identifier\": \"UniProt database\"}, \"source\": 7, \"target\": 18, \"key\": \"5cbcfedf13957c86a66938f13dba2116\"}, {\"relation\": \"association\", \"evidence\": \"UniProt query\", \"citation\": {\"namespace\": \"pubmed\", \"identifier\": \"UniProt database\"}, \"source\": 9, \"target\": 18, \"key\": \"2d8530cf09098e49760549512d776212\"}, {\"relation\": \"association\", \"evidence\": \"UniProt query\", \"citation\": {\"namespace\": \"pubmed\", \"identifier\": \"UniProt database\"}, \"source\": 3, \"target\": 18, \"key\": \"0847ff61a914b693d12ae999bca60d71\"}, {\"relation\": \"association\", \"evidence\": \"UniProt query\", \"citation\": {\"namespace\": \"pubmed\", \"identifier\": \"UniProt database\"}, \"source\": 13, \"target\": 18, \"key\": \"b1654ca4d5ed77e5d43d26ae654e9bda\"}, {\"relation\": \"association\", \"evidence\": \"UniProt query\", \"citation\": {\"namespace\": \"pubmed\", \"identifier\": \"UniProt database\"}, \"source\": 18, \"target\": 10, \"key\": \"512dfd4e52e0492a3bf54ca516ddf72c\"}, {\"relation\": \"association\", \"evidence\": \"UniProt query\", \"citation\": {\"namespace\": \"pubmed\", \"identifier\": \"UniProt database\"}, \"source\": 18, \"target\": 11, \"key\": \"fdb04abdd012af9a0e6e046027025e9d\"}, {\"relation\": \"association\", \"evidence\": \"UniProt query\", \"citation\": {\"namespace\": \"pubmed\", \"identifier\": \"UniProt database\"}, \"source\": 18, \"target\": 12, \"key\": \"5efca712f355019c638a44b5f33174dd\"}, {\"relation\": \"association\", \"evidence\": \"UniProt query\", \"citation\": {\"namespace\": \"pubmed\", \"identifier\": \"UniProt database\"}, \"source\": 18, \"target\": 13, \"key\": \"2602ea22e4ee7f7f8fd0b566c00b1298\"}, {\"relation\": \"association\", \"evidence\": \"UniProt query\", \"citation\": {\"namespace\": \"pubmed\", \"identifier\": \"UniProt database\"}, \"source\": 18, \"target\": 14, \"key\": \"68e3317c1192ea498f7107c13a8ea3f3\"}, {\"relation\": \"association\", \"evidence\": \"UniProt query\", \"citation\": {\"namespace\": \"pubmed\", \"identifier\": \"UniProt database\"}, \"source\": 18, \"target\": 15, \"key\": \"06f26c9b6294f5d2feef2eed652e827b\"}, {\"relation\": \"association\", \"evidence\": \"UniProt query\", \"citation\": {\"namespace\": \"pubmed\", \"identifier\": \"UniProt database\"}, \"source\": 18, \"target\": 0, \"key\": \"9b939d4c00693cb2dff3d8304d462953\"}, {\"relation\": \"association\", \"evidence\": \"UniProt query\", \"citation\": {\"namespace\": \"pubmed\", \"identifier\": \"UniProt database\"}, \"source\": 18, \"target\": 9, \"key\": \"b053b032516e131808ede4af993aab57\"}, {\"relation\": \"association\", \"evidence\": \"UniProt query\", \"citation\": {\"namespace\": \"pubmed\", \"identifier\": \"UniProt database\"}, \"source\": 18, \"target\": 1, \"key\": \"6d60cf6775eb8e1ff303108b121c26cf\"}, {\"relation\": \"association\", \"evidence\": \"UniProt query\", \"citation\": {\"namespace\": \"pubmed\", \"identifier\": \"UniProt database\"}, \"source\": 18, \"target\": 2, \"key\": \"cd58a0ff0f455283c9825addfe6b12c1\"}, {\"relation\": \"association\", \"evidence\": \"UniProt query\", \"citation\": {\"namespace\": \"pubmed\", \"identifier\": \"UniProt database\"}, \"source\": 18, \"target\": 3, \"key\": \"5ed9c757c93cdd74deca55b9e49ce1bb\"}, {\"relation\": \"association\", \"evidence\": \"UniProt query\", \"citation\": {\"namespace\": \"pubmed\", \"identifier\": \"UniProt database\"}, \"source\": 18, \"target\": 4, \"key\": \"53b847409e35664c0292391d7d5782c4\"}, {\"relation\": \"association\", \"evidence\": \"UniProt query\", \"citation\": {\"namespace\": \"pubmed\", \"identifier\": \"UniProt database\"}, \"source\": 18, \"target\": 5, \"key\": \"61acb26637f079df586f7e5f76408eb3\"}, {\"relation\": \"association\", \"evidence\": \"UniProt query\", \"citation\": {\"namespace\": \"pubmed\", \"identifier\": \"UniProt database\"}, \"source\": 18, \"target\": 6, \"key\": \"d0b0db637c589975f05a595ee0bbb6dc\"}, {\"relation\": \"association\", \"evidence\": \"UniProt query\", \"citation\": {\"namespace\": \"pubmed\", \"identifier\": \"UniProt database\"}, \"source\": 18, \"target\": 7, \"key\": \"60ee2f84ac249231d6808ed21d2d2358\"}, {\"relation\": \"association\", \"evidence\": \"UniProt query\", \"citation\": {\"namespace\": \"pubmed\", \"identifier\": \"UniProt database\"}, \"source\": 18, \"target\": 8, \"key\": \"fc77c7da242bd996eed7c011fda0432d\"}, {\"relation\": \"association\", \"evidence\": \"SNPs for queried disease\", \"citation\": {\"namespace\": \"pubmed\", \"identifier\": \"GWAS Central\"}, \"source\": 18, \"target\": 17, \"key\": \"4f43649edb544374334c70e13a47226c\"}, {\"relation\": \"association\", \"evidence\": \"SNPs for queried disease\", \"citation\": {\"namespace\": \"pubmed\", \"identifier\": \"GWAS Central\"}, \"source\": 18, \"target\": 16, \"key\": \"f1fcf2e18de40ed5110e5a2c79b5bef5\"}, {\"relation\": \"association\", \"evidence\": \"UniProt query\", \"citation\": {\"namespace\": \"pubmed\", \"identifier\": \"UniProt database\"}, \"source\": 0, \"target\": 18, \"key\": \"89034ee0d284448259b0bff1f47ca2af\"}, {\"relation\": \"association\", \"evidence\": \"UniProt query\", \"citation\": {\"namespace\": \"pubmed\", \"identifier\": \"UniProt database\"}, \"source\": 5, \"target\": 18, \"key\": \"1fa225da746b49f985079c71157ccce9\"}, {\"relation\": \"association\", \"evidence\": \"SNPs for queried disease\", \"citation\": {\"namespace\": \"pubmed\", \"identifier\": \"GWAS Central\"}, \"source\": 17, \"target\": 18, \"key\": \"fc4a5aca263528222218ea1ca54778e9\"}, {\"relation\": \"association\", \"evidence\": \"UniProt query\", \"citation\": {\"namespace\": \"pubmed\", \"identifier\": \"UniProt database\"}, \"source\": 1, \"target\": 18, \"key\": \"c2c2e0b72ab76343fee895e37bab89e1\"}, {\"relation\": \"association\", \"evidence\": \"UniProt query\", \"citation\": {\"namespace\": \"pubmed\", \"identifier\": \"UniProt database\"}, \"source\": 15, \"target\": 18, \"key\": \"aedae7965093230e1d19721276f00df2\"}, {\"relation\": \"association\", \"evidence\": \"UniProt query\", \"citation\": {\"namespace\": \"pubmed\", \"identifier\": \"UniProt database\"}, \"source\": 14, \"target\": 18, \"key\": \"d463099b23bc01c82a453b8b6b3efc94\"}, {\"relation\": \"association\", \"evidence\": \"UniProt query\", \"citation\": {\"namespace\": \"pubmed\", \"identifier\": \"UniProt database\"}, \"source\": 4, \"target\": 18, \"key\": \"888077ad6ccd1941ba35def3b80c4441\"}, {\"relation\": \"association\", \"evidence\": \"UniProt query\", \"citation\": {\"namespace\": \"pubmed\", \"identifier\": \"UniProt database\"}, \"source\": 2, \"target\": 18, \"key\": \"9ecbe05b579274572445fbba2ca0f9e5\"}, {\"relation\": \"association\", \"evidence\": \"UniProt query\", \"citation\": {\"namespace\": \"pubmed\", \"identifier\": \"UniProt database\"}, \"source\": 8, \"target\": 18, \"key\": \"c6f272a3bb78a699fa78df9013cbb925\"}, {\"relation\": \"association\", \"evidence\": \"UniProt query\", \"citation\": {\"namespace\": \"pubmed\", \"identifier\": \"UniProt database\"}, \"source\": 12, \"target\": 18, \"key\": \"98581d9ef3f59256003665ddb2484af7\"}, {\"relation\": \"association\", \"evidence\": \"UniProt query\", \"citation\": {\"namespace\": \"pubmed\", \"identifier\": \"UniProt database\"}, \"source\": 6, \"target\": 18, \"key\": \"97576885581475732bc2618a05379d0a\"}, {\"relation\": \"association\", \"evidence\": \"SNPs for queried disease\", \"citation\": {\"namespace\": \"pubmed\", \"identifier\": \"GWAS Central\"}, \"source\": 16, \"target\": 18, \"key\": \"deaee1eae742f877f528688f219d671d\"}, {\"relation\": \"association\", \"evidence\": \"UniProt query\", \"citation\": {\"namespace\": \"pubmed\", \"identifier\": \"UniProt database\"}, \"source\": 11, \"target\": 18, \"key\": \"50da965eca759a0ba2deee9d66eece06\"}]}, \"#bgzoakfetmhucsvj\", 1000, 650, {'Protein': '#1F77B4', 'Pathology': '#FF7F0E', 'BiologicalProcess': '#2CA02C', 'miRNA': '#D62728', 'Complex': '#98DF8A', 'Composite': '#9467BD', 'Reaction': '#000000', 'Gene': '#FFBB78', 'Abundance': '#AEC7E8', 'RNA': '#FF9896'});\n",
       "});"
      ],
      "text/plain": [
       "<IPython.core.display.Javascript object>"
      ]
     },
     "execution_count": 27,
     "metadata": {},
     "output_type": "execute_result"
    }
   ],
   "source": [
    "to_jupyter(g)"
   ]
  },
  {
   "cell_type": "code",
   "execution_count": 24,
   "id": "6672d0c9",
   "metadata": {},
   "outputs": [
    {
     "data": {
      "application/javascript": [
       "function init_d3_force(d3, graph, chart, width, height, function_colors) {\n",
       "    var focus_node = null;\n",
       "    var highlight_node = null;\n",
       "\n",
       "    // Highlight color variables\n",
       "\n",
       "    // Highlight color of the node boundering\n",
       "    const highlight_node_boundering = \"#4EB2D4\";\n",
       "\n",
       "    // Highlight color of the edge\n",
       "    const highlighted_link_color = \"#4EB2D4\";\n",
       "\n",
       "    // Text highlight color\n",
       "    const highlight_text = \"#4EB2D4\";\n",
       "\n",
       "    // Size when zooming scale\n",
       "    var size = d3.scalePow().exponent(1)\n",
       "        .domain([1, 100])\n",
       "        .range([8, 24]);\n",
       "\n",
       "    // Simulation parameters\n",
       "    const linkDistance = 100;\n",
       "    const fCharge = -1000;\n",
       "    const linkStrength = 0.7;\n",
       "    const collideStrength = 1;\n",
       "\n",
       "    // Simulation defined with variables\n",
       "    var simulation = d3.forceSimulation()\n",
       "        .force(\"link\", d3.forceLink()\n",
       "            .distance(linkDistance)\n",
       "            .strength(linkStrength)\n",
       "        )\n",
       "        .force(\"collide\", d3.forceCollide()\n",
       "            .radius(function (d) {\n",
       "                return d.r + 10\n",
       "            })\n",
       "            .strength(collideStrength)\n",
       "        )\n",
       "        .force(\"charge\", d3.forceManyBody()\n",
       "            .strength(fCharge)\n",
       "        )\n",
       "        .force(\"center\", d3.forceCenter(width / 2, height / 2))\n",
       "        .force(\"y\", d3.forceY(0))\n",
       "        .force(\"x\", d3.forceX(0));\n",
       "\n",
       "    // Pin down functionality\n",
       "    var node_drag = d3.drag()\n",
       "        .on(\"start\", dragstarted)\n",
       "        .on(\"drag\", dragged)\n",
       "        .on(\"end\", dragended);\n",
       "\n",
       "    function dragstarted(d) {\n",
       "        if (!d3.event.active) simulation.alphaTarget(0.3).restart();\n",
       "        d.fx = d.x;\n",
       "        d.fy = d.y;\n",
       "    }\n",
       "\n",
       "    function dragged(d) {\n",
       "        d.fx = d3.event.x;\n",
       "        d.fy = d3.event.y;\n",
       "    }\n",
       "\n",
       "    function dragended(d) {\n",
       "        if (!d3.event.active) simulation.alphaTarget(0);\n",
       "    }\n",
       "\n",
       "    function releasenode(d) {\n",
       "        d.fx = null;\n",
       "        d.fy = null;\n",
       "    }\n",
       "\n",
       "    //END Pin down functionality\n",
       "\n",
       "\n",
       "    /**\n",
       "     * Gets the best name for a node object\n",
       "     * @param {object} d object\n",
       "     * @returns {str} canonical name of the node\n",
       "     */\n",
       "    function getCanonicalName(d) {\n",
       "        if (d.concept && d.concept.name && !(d.variants || d.reactants || d.products || d.members)) {\n",
       "            return d.concept.name\n",
       "        } else if (d.bel) {\n",
       "            return d.bel\n",
       "        } else {\n",
       "            console.log('Undefined node: ' + d);\n",
       "            return 'UNDEFINED'\n",
       "        }\n",
       "    }\n",
       "\n",
       "    const color_circunferencia = \"black\";\n",
       "    const default_link_color = \"#AAAAAA\";\n",
       "    const nominal_base_node_size = 8;\n",
       "\n",
       "    // Normal and highlighted stroke of the links (double the width of the link when highlighted)\n",
       "    const nominal_stroke = 1.5;\n",
       "\n",
       "    // Zoom variables\n",
       "    const min_zoom = 0.1;\n",
       "    const max_zoom = 10;\n",
       "\n",
       "    var svg = d3.select(chart).append(\"svg\")\n",
       "        .attr(\"width\", width)\n",
       "        .attr(\"height\", height);\n",
       "\n",
       "    // // Create definition for arrowhead.\n",
       "    svg.append(\"defs\").append(\"marker\")\n",
       "        .attr(\"id\", \"arrowhead\")\n",
       "        .attr(\"viewBox\", \"0 -5 10 10\")\n",
       "        .attr(\"refX\", 20)\n",
       "        .attr(\"refY\", 0)\n",
       "        .attr(\"markerUnits\", \"strokeWidth\")\n",
       "        .attr(\"markerWidth\", 6)\n",
       "        .attr(\"markerHeight\", 6)\n",
       "        .attr(\"orient\", \"auto\")\n",
       "        .append(\"path\")\n",
       "        .attr(\"d\", \"M0,-5L10,0L0,5\");\n",
       "\n",
       "    // // Create definition for stub.\n",
       "    svg.append(\"defs\").append(\"marker\")\n",
       "        .attr(\"id\", \"stub\")\n",
       "        .attr(\"viewBox\", \"-1 -5 2 10\")\n",
       "        .attr(\"refX\", 15)\n",
       "        .attr(\"refY\", 0)\n",
       "        .attr(\"markerUnits\", \"strokeWidth\")\n",
       "        .attr(\"markerWidth\", 6)\n",
       "        .attr(\"markerHeight\", 6)\n",
       "        .attr(\"orient\", \"auto\")\n",
       "        .append(\"path\")\n",
       "        .attr(\"d\", \"M 0,0 m -1,-5 L 1,-5 L 1,5 L -1,5 Z\");\n",
       "\n",
       "    // Background\n",
       "    svg.append(\"rect\")\n",
       "        .attr(\"width\", \"100%\")\n",
       "        .attr(\"height\", \"100%\")\n",
       "        .attr(\"fill\", \"#ffffff\")\n",
       "        .style(\"pointer-events\", \"all\")\n",
       "        // Zoom + panning functionality\n",
       "        .call(d3.zoom()\n",
       "            .scaleExtent([min_zoom, max_zoom])\n",
       "            .on(\"zoom\", zoomed))\n",
       "        .on(\"dblclick.zoom\", null);\n",
       "\n",
       "\n",
       "    function zoomed() {\n",
       "        g.attr(\"transform\", d3.event.transform);\n",
       "    }\n",
       "\n",
       "    // g = svg object where the graph will be appended\n",
       "    var g = svg.append(\"g\");\n",
       "\n",
       "    var linkedByIndex = {};\n",
       "    graph.links.forEach(function (d) {\n",
       "        linkedByIndex[d.source + \",\" + d.target] = true;\n",
       "    });\n",
       "\n",
       "    function isConnected(a, b) {\n",
       "        return linkedByIndex[a.index + \",\" + b.index] || linkedByIndex[b.index + \",\" + a.index] || a.index == b.index;\n",
       "    }\n",
       "\n",
       "    function ticked() {\n",
       "        link.attr(\"x1\", function (d) {\n",
       "            return d.source.x;\n",
       "        })\n",
       "            .attr(\"y1\", function (d) {\n",
       "                return d.source.y;\n",
       "            })\n",
       "            .attr(\"x2\", function (d) {\n",
       "                return d.target.x;\n",
       "            })\n",
       "            .attr(\"y2\", function (d) {\n",
       "                return d.target.y;\n",
       "            });\n",
       "\n",
       "        node\n",
       "            .attr(\"transform\", function (d) {\n",
       "                return \"translate(\" + d.x + \", \" + d.y + \")\";\n",
       "            });\n",
       "    }\n",
       "\n",
       "\n",
       "    simulation\n",
       "        .nodes(graph.nodes)\n",
       "        .on(\"tick\", ticked);\n",
       "\n",
       "    simulation.force(\"link\")\n",
       "        .links(graph.links);\n",
       "\n",
       "    // Definition of links nodes text...\n",
       "\n",
       "    var link = g.selectAll(\".link\")\n",
       "        .data(graph.links)\n",
       "        .enter().append(\"line\")\n",
       "        .style(\"stroke-width\", nominal_stroke)\n",
       "        .style(\"stroke\", default_link_color)\n",
       "        .style(\"stroke-dasharray\", function (d) {\n",
       "            if (['decreases', 'directlyDecreases', 'increases', 'directlyIncreases', 'negativeCorrelation',\n",
       "                'positiveCorrelation'].indexOf(d.relation) >= 0) {\n",
       "                return \"none\"\n",
       "            } else {\n",
       "                return \"4, 4\"\n",
       "            }\n",
       "        })\n",
       "        .attr(\"marker-start\", function (d) {\n",
       "            if ('positiveCorrelation' == d.relation) {\n",
       "                return \"url(#arrowhead)\"\n",
       "            }\n",
       "            else if ('negativeCorrelation' == d.relation) {\n",
       "                return \"url(#stub)\"\n",
       "            }\n",
       "            else {\n",
       "                return \"\"\n",
       "            }\n",
       "        })\n",
       "        .attr(\"marker-end\", function (d) {\n",
       "            if (['increases', 'directlyIncreases', 'positiveCorrelation', 'isA', 'partOf'].indexOf(d.relation) >= 0) {\n",
       "                return \"url(#arrowhead)\"\n",
       "            } else if (['decreases', 'directlyDecreases', 'negativeCorrelation'].indexOf(d.relation) >= 0) {\n",
       "                return \"url(#stub)\"\n",
       "            } else {\n",
       "                return \"\"\n",
       "            }\n",
       "        });\n",
       "\n",
       "    var node = g.selectAll(\".nodes\")\n",
       "        .data(graph.nodes)\n",
       "        .enter().append(\"g\")\n",
       "        .attr(\"class\", \"node\")\n",
       "        // Next two lines -> Pin down functionality\n",
       "        .on('dblclick', releasenode)\n",
       "        .call(node_drag);\n",
       "\n",
       "    var circle = node.append(\"path\")\n",
       "        .attr(\"d\", d3.symbol()\n",
       "            .size(function (d) {\n",
       "                return Math.PI * Math.pow(size(d.size) || nominal_base_node_size, 2);\n",
       "            })\n",
       "        )\n",
       "        .attr(\"class\", function (d) {\n",
       "            return d.function\n",
       "        })\n",
       "        .style('fill', function (d) {\n",
       "            return function_colors[d.function]\n",
       "        })\n",
       "        .style(\"stroke-width\", nominal_stroke)\n",
       "        .style(\"stroke\", color_circunferencia);\n",
       "\n",
       "    var text = node.append(\"text\")\n",
       "        .attr(\"class\", \"node-name\")\n",
       "        // .attr(\"id\", nodehashes[d])\n",
       "        .attr(\"fill\", \"black\")\n",
       "        .attr(\"dx\", 12)\n",
       "        .attr(\"dy\", \".35em\")\n",
       "        .text(function (d) {\n",
       "            return getCanonicalName(d)\n",
       "        });\n",
       "\n",
       "    // Highlight on mouseenter and back to normal on mouseout\n",
       "    node.on(\"mouseenter\", function (d) {\n",
       "        set_highlight(d);\n",
       "    })\n",
       "        .on(\"mousedown\", function () {\n",
       "            d3.event.stopPropagation();\n",
       "        }).on(\"mouseout\", function () {\n",
       "        exit_highlight();\n",
       "    });\n",
       "\n",
       "    function exit_highlight() {\n",
       "        highlight_node = null;\n",
       "        if (focus_node === null) {\n",
       "            if (highlight_node_boundering != color_circunferencia) {\n",
       "                circle.style(\"stroke\", color_circunferencia);\n",
       "                text.style(\"fill\", \"black\");\n",
       "                link.style(\"stroke\", default_link_color);\n",
       "            }\n",
       "        }\n",
       "    }\n",
       "\n",
       "    function set_highlight(d) {\n",
       "        if (focus_node !== null) d = focus_node;\n",
       "        highlight_node = d;\n",
       "\n",
       "        if (highlight_node_boundering != color_circunferencia) {\n",
       "            circle.style(\"stroke\", function (o) {\n",
       "                return isConnected(d, o) ? highlight_node_boundering : color_circunferencia;\n",
       "            });\n",
       "            text.style(\"fill\", function (o) {\n",
       "                return isConnected(d, o) ? highlight_text : \"black\";\n",
       "            });\n",
       "            link.style(\"stroke\", function (o) {\n",
       "                return o.source.index == d.index || o.target.index == d.index ? highlighted_link_color : default_link_color;\n",
       "            });\n",
       "        }\n",
       "    }\n",
       "\n",
       "\n",
       "    // Freeze the graph when space is pressed\n",
       "    function freezeGraph() {\n",
       "        // Space button Triggers STOP\n",
       "        if (d3.event.keyCode == 32) {\n",
       "            simulation.stop();\n",
       "        }\n",
       "    }\n",
       "\n",
       "    // Call freezeGraph when a key is pressed, freezeGraph checks whether this key is \"Space\" that triggers the freeze\n",
       "    d3.select(window).on(\"keydown\", freezeGraph);\n",
       "}\n",
       "\n",
       "require.config({\n",
       "    paths: {\n",
       "        d3: '//cdnjs.cloudflare.com/ajax/libs/d3/4.5.0/d3.min'\n",
       "    }\n",
       "});\n",
       "\n",
       "var elementInnerHTML = \"<div id='jerxsahytpokmugv'></div>\";\n",
       "\n",
       "element.append(elementInnerHTML);\n",
       "\n",
       "require(['d3'], function (d3) {\n",
       "    return init_d3_force(d3, {\"directed\": true, \"multigraph\": true, \"graph\": {\"pybel_version\": \"0.15.5\", \"document_metadata\": {}, \"namespace_url\": {}, \"namespace_pattern\": {}, \"annotation_url\": {}, \"annotation_pattern\": {}, \"annotation_list\": {}, \"annotation_curie\": [], \"annotation_miriam\": []}, \"nodes\": [{\"function\": \"Abundance\", \"concept\": {\"namespace\": \"ChEMBL\", \"name\": \"CHEMBL502\"}, \"id\": \"d2f05ba7660b95e0961571b691abddf2\", \"bel\": \"a(ChEMBL:CHEMBL502)\"}, {\"function\": \"Abundance\", \"concept\": {\"namespace\": \"ChEMBLAssay\", \"name\": \"CHEMBL1249049\"}, \"id\": \"a993d7f7c23cc1f63f063dc972ac7c80\", \"bel\": \"a(ChEMBLAssay:CHEMBL1249049)\"}, {\"function\": \"Abundance\", \"concept\": {\"namespace\": \"ChEMBLAssay\", \"name\": \"CHEMBL4048085\"}, \"id\": \"0d3a2cabfd416acbdcbf1715bd6cf118\", \"bel\": \"a(ChEMBLAssay:CHEMBL4048085)\"}, {\"function\": \"Abundance\", \"concept\": {\"namespace\": \"ChEMBLAssay\", \"name\": \"CHEMBL5107917\"}, \"id\": \"56c8ace989db0353dacfb4a6bc8a53ac\", \"bel\": \"a(ChEMBLAssay:CHEMBL5107917)\"}, {\"function\": \"Abundance\", \"concept\": {\"namespace\": \"ChEMBLAssay\", \"name\": \"CHEMBL895407\"}, \"id\": \"32503df121ccca7089a7a2b3d1d904d7\", \"bel\": \"a(ChEMBLAssay:CHEMBL895407)\"}, {\"function\": \"BiologicalProcess\", \"concept\": {\"namespace\": \"GOBP\", \"name\": \"ATP metabolic process\"}, \"id\": \"fd0e176b2b40f66a323895797a83dc09\", \"bel\": \"bp(GOBP:\\\"ATP metabolic process\\\")\"}, {\"function\": \"BiologicalProcess\", \"concept\": {\"namespace\": \"GOBP\", \"name\": \"Notch signaling pathway\"}, \"id\": \"42dfbc927ee9e491aca8701481c67d4b\", \"bel\": \"bp(GOBP:\\\"Notch signaling pathway\\\")\"}, {\"function\": \"BiologicalProcess\", \"concept\": {\"namespace\": \"GOBP\", \"name\": \"cadmium ion transmembrane transport\"}, \"id\": \"8c6a23af269d2c9c705c4e4309b329b2\", \"bel\": \"bp(GOBP:\\\"cadmium ion transmembrane transport\\\")\"}, {\"function\": \"BiologicalProcess\", \"concept\": {\"namespace\": \"GOBP\", \"name\": \"calcium ion import\"}, \"id\": \"bb52b2828b973b0c85d834f184e7cd7a\", \"bel\": \"bp(GOBP:\\\"calcium ion import\\\")\"}, {\"function\": \"BiologicalProcess\", \"concept\": {\"namespace\": \"GOBP\", \"name\": \"cell proliferation in forebrain\"}, \"id\": \"1475e06a7375ac4e79677797b98a9d22\", \"bel\": \"bp(GOBP:\\\"cell proliferation in forebrain\\\")\"}, {\"function\": \"BiologicalProcess\", \"concept\": {\"namespace\": \"GOBP\", \"name\": \"cell surface receptor signaling pathway via JAK-STAT\"}, \"id\": \"c6f66b805bff3b5f7165d83063503ffc\", \"bel\": \"bp(GOBP:\\\"cell surface receptor signaling pathway via JAK-STAT\\\")\"}, {\"function\": \"BiologicalProcess\", \"concept\": {\"namespace\": \"GOBP\", \"name\": \"cellular response to UV-A\"}, \"id\": \"eb6bc2689c88aa87af900b05ecb68ead\", \"bel\": \"bp(GOBP:\\\"cellular response to UV-A\\\")\"}, {\"function\": \"BiologicalProcess\", \"concept\": {\"namespace\": \"GOBP\", \"name\": \"cellular response to amino acid stimulus\"}, \"id\": \"de734edc9234dbbe4092a66b3ffec91f\", \"bel\": \"bp(GOBP:\\\"cellular response to amino acid stimulus\\\")\"}, {\"function\": \"BiologicalProcess\", \"concept\": {\"namespace\": \"GOBP\", \"name\": \"cellular response to calcium ion\"}, \"id\": \"bd726c62468f7f12a6c3eadbe5447c42\", \"bel\": \"bp(GOBP:\\\"cellular response to calcium ion\\\")\"}, {\"function\": \"BiologicalProcess\", \"concept\": {\"namespace\": \"GOBP\", \"name\": \"cellular response to xenobiotic stimulus\"}, \"id\": \"4a647368f2f0a5798c01262d1e9b58a7\", \"bel\": \"bp(GOBP:\\\"cellular response to xenobiotic stimulus\\\")\"}, {\"function\": \"BiologicalProcess\", \"concept\": {\"namespace\": \"GOBP\", \"name\": \"chromatin organization\"}, \"id\": \"80ab77173573b84432684bf8da7fd522\", \"bel\": \"bp(GOBP:\\\"chromatin organization\\\")\"}, {\"function\": \"BiologicalProcess\", \"concept\": {\"namespace\": \"GOBP\", \"name\": \"clathrin-dependent endocytosis\"}, \"id\": \"2b7d7d02a79f096747044c4c9aedb4eb\", \"bel\": \"bp(GOBP:\\\"clathrin-dependent endocytosis\\\")\"}, {\"function\": \"BiologicalProcess\", \"concept\": {\"namespace\": \"GOBP\", \"name\": \"defense response to virus\"}, \"id\": \"ed25d0f899926244095a85da99a3105a\", \"bel\": \"bp(GOBP:\\\"defense response to virus\\\")\"}, {\"function\": \"BiologicalProcess\", \"concept\": {\"namespace\": \"GOBP\", \"name\": \"double-strand break repair via homologous recombination\"}, \"id\": \"6cce9f7357b543e82c7845a8fdd7d899\", \"bel\": \"bp(GOBP:\\\"double-strand break repair via homologous recombination\\\")\"}, {\"function\": \"BiologicalProcess\", \"concept\": {\"namespace\": \"GOBP\", \"name\": \"endosomal transport\"}, \"id\": \"6f54aad13671a3dcc811f5bb9b10b922\", \"bel\": \"bp(GOBP:\\\"endosomal transport\\\")\"}, {\"function\": \"BiologicalProcess\", \"concept\": {\"namespace\": \"GOBP\", \"name\": \"epithelial cell fate commitment\"}, \"id\": \"b9fadda0fa58edae8505cc9a99690a63\", \"bel\": \"bp(GOBP:\\\"epithelial cell fate commitment\\\")\"}, {\"function\": \"BiologicalProcess\", \"concept\": {\"namespace\": \"GOBP\", \"name\": \"epithelial fluid transport\"}, \"id\": \"f29e270fe0dfbe499e9af883403481d7\", \"bel\": \"bp(GOBP:\\\"epithelial fluid transport\\\")\"}, {\"function\": \"BiologicalProcess\", \"concept\": {\"namespace\": \"GOBP\", \"name\": \"heterochromatin formation\"}, \"id\": \"edf1ae0c6737fae56eae8ee0d6b0555b\", \"bel\": \"bp(GOBP:\\\"heterochromatin formation\\\")\"}, {\"function\": \"BiologicalProcess\", \"concept\": {\"namespace\": \"GOBP\", \"name\": \"in utero embryonic development\"}, \"id\": \"70d2cc7d759e877bae19f154a2a85e0e\", \"bel\": \"bp(GOBP:\\\"in utero embryonic development\\\")\"}, {\"function\": \"BiologicalProcess\", \"concept\": {\"namespace\": \"GOBP\", \"name\": \"inflammatory response\"}, \"id\": \"231ce9f9130365dfdf6765587f4e8343\", \"bel\": \"bp(GOBP:\\\"inflammatory response\\\")\"}, {\"function\": \"BiologicalProcess\", \"concept\": {\"namespace\": \"GOBP\", \"name\": \"integrin-mediated signaling pathway\"}, \"id\": \"474b1cd1a30868707391acea7579583d\", \"bel\": \"bp(GOBP:\\\"integrin-mediated signaling pathway\\\")\"}, {\"function\": \"BiologicalProcess\", \"concept\": {\"namespace\": \"GOBP\", \"name\": \"mitochondrial ATP transmembrane transport\"}, \"id\": \"3d3965f23cb3d0faed50a57f401052d8\", \"bel\": \"bp(GOBP:\\\"mitochondrial ATP transmembrane transport\\\")\"}, {\"function\": \"BiologicalProcess\", \"concept\": {\"namespace\": \"GOBP\", \"name\": \"negative regulation of DNA-templated transcription\"}, \"id\": \"cf7a959c47c11c071fb5cd085a955980\", \"bel\": \"bp(GOBP:\\\"negative regulation of DNA-templated transcription\\\")\"}, {\"function\": \"BiologicalProcess\", \"concept\": {\"namespace\": \"GOBP\", \"name\": \"negative regulation of monocyte activation\"}, \"id\": \"1c97aeb6c651e120fa34d8248b6f39dd\", \"bel\": \"bp(GOBP:\\\"negative regulation of monocyte activation\\\")\"}, {\"function\": \"BiologicalProcess\", \"concept\": {\"namespace\": \"GOBP\", \"name\": \"negative regulation of myeloid cell differentiation\"}, \"id\": \"d419042bce33e73f13a4d961233ee966\", \"bel\": \"bp(GOBP:\\\"negative regulation of myeloid cell differentiation\\\")\"}, {\"function\": \"BiologicalProcess\", \"concept\": {\"namespace\": \"GOBP\", \"name\": \"negative regulation of transcription by RNA polymerase II\"}, \"id\": \"d13d67d38f4a5d76e4503bf8daf08f84\", \"bel\": \"bp(GOBP:\\\"negative regulation of transcription by RNA polymerase II\\\")\"}, {\"function\": \"BiologicalProcess\", \"concept\": {\"namespace\": \"GOBP\", \"name\": \"negative regulation of type I interferon-mediated signaling pathway\"}, \"id\": \"1179a36afdccc59d980ae086a51e6efc\", \"bel\": \"bp(GOBP:\\\"negative regulation of type I interferon-mediated signaling pathway\\\")\"}, {\"function\": \"BiologicalProcess\", \"concept\": {\"namespace\": \"GOBP\", \"name\": \"neuron fate specification\"}, \"id\": \"d4ed2a2d52d2b620dd783b30ca22c300\", \"bel\": \"bp(GOBP:\\\"neuron fate specification\\\")\"}, {\"function\": \"BiologicalProcess\", \"concept\": {\"namespace\": \"GOBP\", \"name\": \"neuropeptide catabolic process\"}, \"id\": \"856366a68fd15d673132197634b3cb6e\", \"bel\": \"bp(GOBP:\\\"neuropeptide catabolic process\\\")\"}, {\"function\": \"BiologicalProcess\", \"concept\": {\"namespace\": \"GOBP\", \"name\": \"nucleosome assembly\"}, \"id\": \"a4ff36e13cf2f18274041741227dc6ea\", \"bel\": \"bp(GOBP:\\\"nucleosome assembly\\\")\"}, {\"function\": \"BiologicalProcess\", \"concept\": {\"namespace\": \"GOBP\", \"name\": \"outflow tract morphogenesis\"}, \"id\": \"3b5c5414a39fde567455b9ba7ab882cb\", \"bel\": \"bp(GOBP:\\\"outflow tract morphogenesis\\\")\"}, {\"function\": \"BiologicalProcess\", \"concept\": {\"namespace\": \"GOBP\", \"name\": \"positive regulation of ERK1 and ERK2 cascade\"}, \"id\": \"73bdf36d5164b745a72b744ace7966df\", \"bel\": \"bp(GOBP:\\\"positive regulation of ERK1 and ERK2 cascade\\\")\"}, {\"function\": \"BiologicalProcess\", \"concept\": {\"namespace\": \"GOBP\", \"name\": \"positive regulation of Notch signaling pathway\"}, \"id\": \"82c12f0405d0cd429533144bd7a31459\", \"bel\": \"bp(GOBP:\\\"positive regulation of Notch signaling pathway\\\")\"}, {\"function\": \"BiologicalProcess\", \"concept\": {\"namespace\": \"GOBP\", \"name\": \"positive regulation of calcium ion transmembrane transport\"}, \"id\": \"29ee3c9fd0623e1bf46b374fc2c55292\", \"bel\": \"bp(GOBP:\\\"positive regulation of calcium ion transmembrane transport\\\")\"}, {\"function\": \"BiologicalProcess\", \"concept\": {\"namespace\": \"GOBP\", \"name\": \"positive regulation of cell migration\"}, \"id\": \"48f6f7f21d3aa6d69e939ac6202a6058\", \"bel\": \"bp(GOBP:\\\"positive regulation of cell migration\\\")\"}, {\"function\": \"BiologicalProcess\", \"concept\": {\"namespace\": \"GOBP\", \"name\": \"positive regulation of endoribonuclease activity\"}, \"id\": \"272d0a01193c9000b11e52fa99ea6937\", \"bel\": \"bp(GOBP:\\\"positive regulation of endoribonuclease activity\\\")\"}, {\"function\": \"BiologicalProcess\", \"concept\": {\"namespace\": \"GOBP\", \"name\": \"positive regulation of gene expression\"}, \"id\": \"96222a03282bc4a0032f7fec52b3b2d8\", \"bel\": \"bp(GOBP:\\\"positive regulation of gene expression\\\")\"}, {\"function\": \"BiologicalProcess\", \"concept\": {\"namespace\": \"GOBP\", \"name\": \"positive regulation of interferon-alpha production\"}, \"id\": \"1d06c3fdbf498af08dc39c1d13027e3b\", \"bel\": \"bp(GOBP:\\\"positive regulation of interferon-alpha production\\\")\"}, {\"function\": \"BiologicalProcess\", \"concept\": {\"namespace\": \"GOBP\", \"name\": \"positive regulation of mitophagy\"}, \"id\": \"13e837c17a59ff52f907e93dfe5b93a2\", \"bel\": \"bp(GOBP:\\\"positive regulation of mitophagy\\\")\"}, {\"function\": \"BiologicalProcess\", \"concept\": {\"namespace\": \"GOBP\", \"name\": \"positive regulation of muscle contraction\"}, \"id\": \"0b6464b66a22d2c1adc2515b062d4a4a\", \"bel\": \"bp(GOBP:\\\"positive regulation of muscle contraction\\\")\"}, {\"function\": \"BiologicalProcess\", \"concept\": {\"namespace\": \"GOBP\", \"name\": \"positive regulation of myelination\"}, \"id\": \"ab1b7f6d3bbe2bd61f8539d4a8f5c13c\", \"bel\": \"bp(GOBP:\\\"positive regulation of myelination\\\")\"}, {\"function\": \"BiologicalProcess\", \"concept\": {\"namespace\": \"GOBP\", \"name\": \"positive regulation of phosphatidylinositol 3-kinase/protein kinase B signal transduction\"}, \"id\": \"1a0e11f8dc2e3304fda496820a65e54a\", \"bel\": \"bp(GOBP:\\\"positive regulation of phosphatidylinositol 3-kinase/protein kinase B signal transduction\\\")\"}, {\"function\": \"BiologicalProcess\", \"concept\": {\"namespace\": \"GOBP\", \"name\": \"positive regulation of tolerance induction to self antigen\"}, \"id\": \"d2c9d5ab17e6a915b6fda07a65eea1cb\", \"bel\": \"bp(GOBP:\\\"positive regulation of tolerance induction to self antigen\\\")\"}, {\"function\": \"BiologicalProcess\", \"concept\": {\"namespace\": \"GOBP\", \"name\": \"proteasome-mediated ubiquitin-dependent protein catabolic process\"}, \"id\": \"27895c01decea052388c9b2f1ad67a25\", \"bel\": \"bp(GOBP:\\\"proteasome-mediated ubiquitin-dependent protein catabolic process\\\")\"}, {\"function\": \"BiologicalProcess\", \"concept\": {\"namespace\": \"GOBP\", \"name\": \"protein ubiquitination\"}, \"id\": \"64570ba15dfcae74f9090b1f203d4232\", \"bel\": \"bp(GOBP:\\\"protein ubiquitination\\\")\"}, {\"function\": \"BiologicalProcess\", \"concept\": {\"namespace\": \"GOBP\", \"name\": \"proteolysis involved in protein catabolic process\"}, \"id\": \"c00ad5c737099bf7570c6e2b40296aff\", \"bel\": \"bp(GOBP:\\\"proteolysis involved in protein catabolic process\\\")\"}, {\"function\": \"BiologicalProcess\", \"concept\": {\"namespace\": \"GOBP\", \"name\": \"regulation of cell population proliferation\"}, \"id\": \"8e7abd86104db121bbac51ead71910f4\", \"bel\": \"bp(GOBP:\\\"regulation of cell population proliferation\\\")\"}, {\"function\": \"BiologicalProcess\", \"concept\": {\"namespace\": \"GOBP\", \"name\": \"regulation of epithelial cell differentiation\"}, \"id\": \"95e661648181f1bf873a3d0f1bf83701\", \"bel\": \"bp(GOBP:\\\"regulation of epithelial cell differentiation\\\")\"}, {\"function\": \"BiologicalProcess\", \"concept\": {\"namespace\": \"GOBP\", \"name\": \"regulation of epithelial cell proliferation\"}, \"id\": \"013636c5ff67fcf4145e84cf21a02635\", \"bel\": \"bp(GOBP:\\\"regulation of epithelial cell proliferation\\\")\"}, {\"function\": \"BiologicalProcess\", \"concept\": {\"namespace\": \"GOBP\", \"name\": \"regulation of erythrocyte differentiation\"}, \"id\": \"0f805295222e0c3d8416f5877db3e19f\", \"bel\": \"bp(GOBP:\\\"regulation of erythrocyte differentiation\\\")\"}, {\"function\": \"BiologicalProcess\", \"concept\": {\"namespace\": \"GOBP\", \"name\": \"regulation of glucocorticoid biosynthetic process\"}, \"id\": \"51e0f4d44d0d8ed21182a0d5ceac438f\", \"bel\": \"bp(GOBP:\\\"regulation of glucocorticoid biosynthetic process\\\")\"}, {\"function\": \"BiologicalProcess\", \"concept\": {\"namespace\": \"GOBP\", \"name\": \"regulation of mitochondrial DNA metabolic process\"}, \"id\": \"5692e1b1a12e2de3588c36e573eb56a4\", \"bel\": \"bp(GOBP:\\\"regulation of mitochondrial DNA metabolic process\\\")\"}, {\"function\": \"BiologicalProcess\", \"concept\": {\"namespace\": \"GOBP\", \"name\": \"regulation of monoatomic anion transport\"}, \"id\": \"2e8e97a75bb7a89e87c410a43f8a1e62\", \"bel\": \"bp(GOBP:\\\"regulation of monoatomic anion transport\\\")\"}, {\"function\": \"BiologicalProcess\", \"concept\": {\"namespace\": \"GOBP\", \"name\": \"regulation of postsynaptic membrane neurotransmitter receptor levels\"}, \"id\": \"a17bc290720522d5dd21d50ba6df743a\", \"bel\": \"bp(GOBP:\\\"regulation of postsynaptic membrane neurotransmitter receptor levels\\\")\"}, {\"function\": \"BiologicalProcess\", \"concept\": {\"namespace\": \"GOBP\", \"name\": \"regulation of protein phosphorylation\"}, \"id\": \"1806a442d7aeb04d5b3f6c84101bfe11\", \"bel\": \"bp(GOBP:\\\"regulation of protein phosphorylation\\\")\"}, {\"function\": \"BiologicalProcess\", \"concept\": {\"namespace\": \"GOBP\", \"name\": \"regulation of response to oxidative stress\"}, \"id\": \"ce2631501e43d3f6cc93344aacf38d72\", \"bel\": \"bp(GOBP:\\\"regulation of response to oxidative stress\\\")\"}, {\"function\": \"BiologicalProcess\", \"concept\": {\"namespace\": \"GOBP\", \"name\": \"regulation of transcription by RNA polymerase II\"}, \"id\": \"0dfd2a4fd0555e7572266b0b1a102b0e\", \"bel\": \"bp(GOBP:\\\"regulation of transcription by RNA polymerase II\\\")\"}, {\"function\": \"BiologicalProcess\", \"concept\": {\"namespace\": \"GOBP\", \"name\": \"regulation of vascular endothelial growth factor production\"}, \"id\": \"96d7a80e8ba77ec02b2c42af9beb9bc3\", \"bel\": \"bp(GOBP:\\\"regulation of vascular endothelial growth factor production\\\")\"}, {\"function\": \"BiologicalProcess\", \"concept\": {\"namespace\": \"GOBP\", \"name\": \"response to chlorate\"}, \"id\": \"8e108dab429b6257ad15466fdd1ee518\", \"bel\": \"bp(GOBP:\\\"response to chlorate\\\")\"}, {\"function\": \"BiologicalProcess\", \"concept\": {\"namespace\": \"GOBP\", \"name\": \"response to epidermal growth factor\"}, \"id\": \"eb722e88c9bdf1a81eed3e632444ba4e\", \"bel\": \"bp(GOBP:\\\"response to epidermal growth factor\\\")\"}, {\"function\": \"BiologicalProcess\", \"concept\": {\"namespace\": \"GOBP\", \"name\": \"response to muramyl dipeptide\"}, \"id\": \"362ea033628624ad437da26954b9a8a8\", \"bel\": \"bp(GOBP:\\\"response to muramyl dipeptide\\\")\"}, {\"function\": \"BiologicalProcess\", \"concept\": {\"namespace\": \"GOBP\", \"name\": \"response to virus\"}, \"id\": \"c76fefc2b6b1eb0f1f1e5d1f5228a78f\", \"bel\": \"bp(GOBP:\\\"response to virus\\\")\"}, {\"function\": \"BiologicalProcess\", \"concept\": {\"namespace\": \"GOBP\", \"name\": \"signal transduction\"}, \"id\": \"def169ee096191c8092aeb0a09c3332d\", \"bel\": \"bp(GOBP:\\\"signal transduction\\\")\"}, {\"function\": \"BiologicalProcess\", \"concept\": {\"namespace\": \"GOBP\", \"name\": \"synaptonemal complex disassembly\"}, \"id\": \"43e3d830ef31ec47f3b8e57a7d0dcead\", \"bel\": \"bp(GOBP:\\\"synaptonemal complex disassembly\\\")\"}, {\"function\": \"BiologicalProcess\", \"concept\": {\"namespace\": \"GOBP\", \"name\": \"wound healing\"}, \"id\": \"a747fec78af6b35274293c9472db58bf\", \"bel\": \"bp(GOBP:\\\"wound healing\\\")\"}, {\"function\": \"BiologicalProcess\", \"concept\": {\"namespace\": \"GOBP\", \"name\": \"vasodilation\"}, \"id\": \"4c274ba01159848762ae982d8ac93905\", \"bel\": \"bp(GOBP:vasodilation)\"}, {\"function\": \"BiologicalProcess\", \"concept\": {\"namespace\": \"GOMF\", \"name\": \"5'-deoxynucleotidase activity\"}, \"id\": \"9a1d6c3c2b15a2dbc2c7e0f65c7b5d0c\", \"bel\": \"bp(GOMF:\\\"5'-deoxynucleotidase activity\\\")\"}, {\"function\": \"BiologicalProcess\", \"concept\": {\"namespace\": \"GOMF\", \"name\": \"ATP binding\"}, \"id\": \"48bcf224ae3b589899712dad88eb369b\", \"bel\": \"bp(GOMF:\\\"ATP binding\\\")\"}, {\"function\": \"BiologicalProcess\", \"concept\": {\"namespace\": \"GOMF\", \"name\": \"ATPase binding\"}, \"id\": \"6a26dbd79e4cff48f09b575b14433bb2\", \"bel\": \"bp(GOMF:\\\"ATPase binding\\\")\"}, {\"function\": \"BiologicalProcess\", \"concept\": {\"namespace\": \"GOMF\", \"name\": \"DNA polymerase binding\"}, \"id\": \"f7d8b0fc8da5833704b7eaac6fdda51f\", \"bel\": \"bp(GOMF:\\\"DNA polymerase binding\\\")\"}, {\"function\": \"BiologicalProcess\", \"concept\": {\"namespace\": \"GOMF\", \"name\": \"DNA-binding transcription factor activity\"}, \"id\": \"da5a9470234dd8d705934c84514d37d5\", \"bel\": \"bp(GOMF:\\\"DNA-binding transcription factor activity\\\")\"}, {\"function\": \"BiologicalProcess\", \"concept\": {\"namespace\": \"GOMF\", \"name\": \"DNA-binding transcription factor activity, RNA polymerase II-specific\"}, \"id\": \"ae84a82436096e319664bf6517c877e3\", \"bel\": \"bp(GOMF:\\\"DNA-binding transcription factor activity, RNA polymerase II-specific\\\")\"}, {\"function\": \"BiologicalProcess\", \"concept\": {\"namespace\": \"GOMF\", \"name\": \"ErbB-2 class receptor binding\"}, \"id\": \"71046eca4de8e523c5dd5e847c216856\", \"bel\": \"bp(GOMF:\\\"ErbB-2 class receptor binding\\\")\"}, {\"function\": \"BiologicalProcess\", \"concept\": {\"namespace\": \"GOMF\", \"name\": \"RNA binding\"}, \"id\": \"dcd39b8fd45b642952a210af4b841bfd\", \"bel\": \"bp(GOMF:\\\"RNA binding\\\")\"}, {\"function\": \"BiologicalProcess\", \"concept\": {\"namespace\": \"GOMF\", \"name\": \"RNA polymerase II transcription regulatory region sequence-specific DNA binding\"}, \"id\": \"703b7ce6eae7c293271c511cd8846ae4\", \"bel\": \"bp(GOMF:\\\"RNA polymerase II transcription regulatory region sequence-specific DNA binding\\\")\"}, {\"function\": \"BiologicalProcess\", \"concept\": {\"namespace\": \"GOMF\", \"name\": \"aminoacylase activity\"}, \"id\": \"1c6894d694ce9a44696a81f843359718\", \"bel\": \"bp(GOMF:\\\"aminoacylase activity\\\")\"}, {\"function\": \"BiologicalProcess\", \"concept\": {\"namespace\": \"GOMF\", \"name\": \"chromatin binding\"}, \"id\": \"f2a4efa67df5780a9e566215207e5d2b\", \"bel\": \"bp(GOMF:\\\"chromatin binding\\\")\"}, {\"function\": \"BiologicalProcess\", \"concept\": {\"namespace\": \"GOMF\", \"name\": \"chromatin-protein adaptor activity\"}, \"id\": \"86acad74bed7bde5d9df51aabc2edc9e\", \"bel\": \"bp(GOMF:\\\"chromatin-protein adaptor activity\\\")\"}, {\"function\": \"BiologicalProcess\", \"concept\": {\"namespace\": \"GOMF\", \"name\": \"cobalamin binding\"}, \"id\": \"9c43da51634014aa317c1e3a0880764f\", \"bel\": \"bp(GOMF:\\\"cobalamin binding\\\")\"}, {\"function\": \"BiologicalProcess\", \"concept\": {\"namespace\": \"GOMF\", \"name\": \"histone methyltransferase activity\"}, \"id\": \"a496f789ab02ed09c850e695e6a792f9\", \"bel\": \"bp(GOMF:\\\"histone methyltransferase activity\\\")\"}, {\"function\": \"BiologicalProcess\", \"concept\": {\"namespace\": \"GOMF\", \"name\": \"identical protein binding\"}, \"id\": \"4f2045a40dd6f8f8036ef30eb4717cdf\", \"bel\": \"bp(GOMF:\\\"identical protein binding\\\")\"}, {\"function\": \"BiologicalProcess\", \"concept\": {\"namespace\": \"GOMF\", \"name\": \"insulin receptor binding\"}, \"id\": \"d7bc2eb3460777383cf7b5e68b62faf5\", \"bel\": \"bp(GOMF:\\\"insulin receptor binding\\\")\"}, {\"function\": \"BiologicalProcess\", \"concept\": {\"namespace\": \"GOMF\", \"name\": \"metal ion binding\"}, \"id\": \"a431f33022a122a187a59c981c74059e\", \"bel\": \"bp(GOMF:\\\"metal ion binding\\\")\"}, {\"function\": \"BiologicalProcess\", \"concept\": {\"namespace\": \"GOMF\", \"name\": \"molecular adaptor activity\"}, \"id\": \"cc32a0f0eabeb7b7afec7e4dc1704806\", \"bel\": \"bp(GOMF:\\\"molecular adaptor activity\\\")\"}, {\"function\": \"BiologicalProcess\", \"concept\": {\"namespace\": \"GOMF\", \"name\": \"protease binding\"}, \"id\": \"37b224e0af1c27f6ad0acae327e36b17\", \"bel\": \"bp(GOMF:\\\"protease binding\\\")\"}, {\"function\": \"BiologicalProcess\", \"concept\": {\"namespace\": \"GOMF\", \"name\": \"protein kinase activity\"}, \"id\": \"35d9d84f264d9b384e85f4a82487b71d\", \"bel\": \"bp(GOMF:\\\"protein kinase activity\\\")\"}, {\"function\": \"BiologicalProcess\", \"concept\": {\"namespace\": \"GOMF\", \"name\": \"protein serine/threonine kinase activity\"}, \"id\": \"ad1298d515f4273bc957f072fb6ccacd\", \"bel\": \"bp(GOMF:\\\"protein serine/threonine kinase activity\\\")\"}, {\"function\": \"BiologicalProcess\", \"concept\": {\"namespace\": \"GOMF\", \"name\": \"receptor ligand activity\"}, \"id\": \"7c952cdeb78765e5e03866d063bed240\", \"bel\": \"bp(GOMF:\\\"receptor ligand activity\\\")\"}, {\"function\": \"BiologicalProcess\", \"concept\": {\"namespace\": \"GOMF\", \"name\": \"serine-type endopeptidase activity\"}, \"id\": \"d342dccc522b77ab9092d383a4bb7250\", \"bel\": \"bp(GOMF:\\\"serine-type endopeptidase activity\\\")\"}, {\"function\": \"BiologicalProcess\", \"concept\": {\"namespace\": \"GOMF\", \"name\": \"sodium channel regulator activity\"}, \"id\": \"cac469af0e2ca08458d21615c3576d14\", \"bel\": \"bp(GOMF:\\\"sodium channel regulator activity\\\")\"}, {\"function\": \"BiologicalProcess\", \"concept\": {\"namespace\": \"GOMF\", \"name\": \"transcription coactivator binding\"}, \"id\": \"80bb9bb5a383c1186c6365eb60cfe6c4\", \"bel\": \"bp(GOMF:\\\"transcription coactivator binding\\\")\"}, {\"function\": \"BiologicalProcess\", \"concept\": {\"namespace\": \"GOMF\", \"name\": \"triphosphoric monoester hydrolase activity\"}, \"id\": \"b7df856c0f8e3572ad70b727b097fe06\", \"bel\": \"bp(GOMF:\\\"triphosphoric monoester hydrolase activity\\\")\"}, {\"function\": \"BiologicalProcess\", \"concept\": {\"namespace\": \"GOMF\", \"name\": \"ubiquitin protein ligase activity\"}, \"id\": \"20d27217ec4458bd863baa0b86170eec\", \"bel\": \"bp(GOMF:\\\"ubiquitin protein ligase activity\\\")\"}, {\"function\": \"BiologicalProcess\", \"concept\": {\"namespace\": \"GOMF\", \"name\": \"ubiquitin protein ligase binding\"}, \"id\": \"f56735cbd7e49a2739e0c60a41cb7b18\", \"bel\": \"bp(GOMF:\\\"ubiquitin protein ligase binding\\\")\"}, {\"function\": \"BiologicalProcess\", \"concept\": {\"namespace\": \"GOMF\", \"name\": \"zinc ion binding\"}, \"id\": \"142823510850c57713b4c1321be822cb\", \"bel\": \"bp(GOMF:\\\"zinc ion binding\\\")\"}, {\"function\": \"BiologicalProcess\", \"concept\": {\"namespace\": \"Reactome\", \"name\": \"Signaling by ERBB2 TMD/JMD mutants. [P21860-1]\"}, \"id\": \"7c37ec3709fbf36c435c30c11cbfd49a\", \"bel\": \"bp(Reactome:\\\"Signaling by ERBB2 TMD/JMD mutants. [P21860-1]\\\")\"}, {\"function\": \"Gene\", \"concept\": {\"namespace\": \"dbSNP\", \"name\": \"rs12592898\"}, \"id\": \"cb5b07481e70a88b0d480c2b62071769\", \"bel\": \"g(dbSNP:rs12592898)\"}, {\"function\": \"Protein\", \"concept\": {\"namespace\": \"HGNC\", \"name\": \"ACHE\"}, \"id\": \"d4b209d60c245bf738c274ea16eaac1b\", \"bel\": \"p(HGNC:ACHE)\"}, {\"function\": \"Protein\", \"concept\": {\"namespace\": \"HGNC\", \"name\": \"ACY3\"}, \"id\": \"497cd3bdd9d06e07382d38171a3b51d9\", \"bel\": \"p(HGNC:ACY3)\"}, {\"function\": \"Protein\", \"concept\": {\"namespace\": \"HGNC\", \"name\": \"AHCYL1\"}, \"id\": \"591404a5cc5c8548ed48b66150f294d6\", \"bel\": \"p(HGNC:AHCYL1)\"}, {\"function\": \"Protein\", \"concept\": {\"namespace\": \"HGNC\", \"name\": \"ARX\"}, \"id\": \"04fcc8657c9d77e914a82432c1961e79\", \"bel\": \"p(HGNC:ARX)\"}, {\"function\": \"Protein\", \"concept\": {\"namespace\": \"HGNC\", \"name\": \"ASCL1\"}, \"id\": \"0293381e43625fb9e2164932d64926a6\", \"bel\": \"p(HGNC:ASCL1)\"}, {\"function\": \"Protein\", \"concept\": {\"namespace\": \"HGNC\", \"name\": \"ATP6V1B2\"}, \"id\": \"73d76e34b3f71c0ead512882a3d9b2ee\", \"bel\": \"p(HGNC:ATP6V1B2)\"}, {\"function\": \"Protein\", \"concept\": {\"namespace\": \"HGNC\", \"name\": \"AURKA\"}, \"id\": \"3589629c2ef1810803770d1388018c77\", \"bel\": \"p(HGNC:AURKA)\"}, {\"function\": \"Protein\", \"concept\": {\"namespace\": \"HGNC\", \"name\": \"BLTP1\"}, \"id\": \"359b2c6c72a35b7ed98cd4bb10b56f47\", \"bel\": \"p(HGNC:BLTP1)\"}, {\"function\": \"Protein\", \"concept\": {\"namespace\": \"HGNC\", \"name\": \"CACNB2\"}, \"id\": \"17e12ddd4381f407eef0cc9bc8cb19cb\", \"bel\": \"p(HGNC:CACNB2)\"}, {\"function\": \"Protein\", \"concept\": {\"namespace\": \"HGNC\", \"name\": \"CASS4\"}, \"id\": \"a05c8b937423e4c658bf5e9d2d39f56c\", \"bel\": \"p(HGNC:CASS4)\"}, {\"function\": \"Protein\", \"concept\": {\"namespace\": \"HGNC\", \"name\": \"CCDC88A\"}, \"id\": \"9f58f6742d37b33cc08d9e29ada7c6fe\", \"bel\": \"p(HGNC:CCDC88A)\"}, {\"function\": \"Protein\", \"concept\": {\"namespace\": \"HGNC\", \"name\": \"CD274\"}, \"id\": \"2d479218c08cc424351910ab785051d1\", \"bel\": \"p(HGNC:CD274)\"}, {\"function\": \"Protein\", \"concept\": {\"namespace\": \"HGNC\", \"name\": \"CD320\"}, \"id\": \"a1e943632cea5febff9f883d9b9ea47e\", \"bel\": \"p(HGNC:CD320)\"}, {\"function\": \"Protein\", \"concept\": {\"namespace\": \"HGNC\", \"name\": \"CD44\"}, \"id\": \"6793aaed058e6c5acb5beefb87b95daa\", \"bel\": \"p(HGNC:CD44)\"}, {\"function\": \"Protein\", \"concept\": {\"namespace\": \"HGNC\", \"name\": \"CDK5\"}, \"id\": \"cb1e1b28f1d3fe30db837d601f26fe1b\", \"bel\": \"p(HGNC:CDK5)\"}, {\"function\": \"Protein\", \"concept\": {\"namespace\": \"HGNC\", \"name\": \"CDK6\"}, \"id\": \"cf5d4fc2073347cd5720926b45b2705f\", \"bel\": \"p(HGNC:CDK6)\"}, {\"function\": \"Protein\", \"concept\": {\"namespace\": \"HGNC\", \"name\": \"CDK8\"}, \"id\": \"3204967b0718858a46070c2561cefd61\", \"bel\": \"p(HGNC:CDK8)\"}, {\"function\": \"Protein\", \"concept\": {\"namespace\": \"HGNC\", \"name\": \"CDKN1B\"}, \"id\": \"6f4266e862549985ed5e681ce2e95639\", \"bel\": \"p(HGNC:CDKN1B)\"}, {\"function\": \"Protein\", \"concept\": {\"namespace\": \"HGNC\", \"name\": \"CERS1\"}, \"id\": \"7c9741fe9c6dbbf44fca83ca66ca3f89\", \"bel\": \"p(HGNC:CERS1)\"}, {\"function\": \"Protein\", \"concept\": {\"namespace\": \"HGNC\", \"name\": \"CTR9\"}, \"id\": \"e84686863e5c770b105d4fef4f995263\", \"bel\": \"p(HGNC:CTR9)\"}, {\"function\": \"Protein\", \"concept\": {\"namespace\": \"HGNC\", \"name\": \"CTSH\"}, \"id\": \"8f087ba2e78859b5c499845a3c75daf4\", \"bel\": \"p(HGNC:CTSH)\"}, {\"function\": \"Protein\", \"concept\": {\"namespace\": \"HGNC\", \"name\": \"CUX2\"}, \"id\": \"52d343cdfbe238c19a09c1ef2cf32a28\", \"bel\": \"p(HGNC:CUX2)\"}, {\"function\": \"Protein\", \"concept\": {\"namespace\": \"HGNC\", \"name\": \"DYNC1LI1\"}, \"id\": \"a7ca98ad0e52708ba3ee8693866419cc\", \"bel\": \"p(HGNC:DYNC1LI1)\"}, {\"function\": \"Protein\", \"concept\": {\"namespace\": \"HGNC\", \"name\": \"EED\"}, \"id\": \"a01036d72a09e50a01b25b39ca962b41\", \"bel\": \"p(HGNC:EED)\"}, {\"function\": \"Protein\", \"concept\": {\"namespace\": \"HGNC\", \"name\": \"EPAS1\"}, \"id\": \"c893df7970e4949903fca743a866a885\", \"bel\": \"p(HGNC:EPAS1)\"}, {\"function\": \"Protein\", \"concept\": {\"namespace\": \"HGNC\", \"name\": \"ERBB3\"}, \"id\": \"05fd940c5e27f5080faa821a51ef2f60\", \"bel\": \"p(HGNC:ERBB3)\"}, {\"function\": \"Protein\", \"concept\": {\"namespace\": \"HGNC\", \"name\": \"ERBIN\"}, \"id\": \"55b475a6947e5dc39d0ff59fbbffd6e5\", \"bel\": \"p(HGNC:ERBIN)\"}, {\"function\": \"Protein\", \"concept\": {\"namespace\": \"HGNC\", \"name\": \"FBXO7\"}, \"id\": \"379985c677dfbe446db7929b5bfb4b1e\", \"bel\": \"p(HGNC:FBXO7)\"}, {\"function\": \"Protein\", \"concept\": {\"namespace\": \"HGNC\", \"name\": \"FGFR3\"}, \"id\": \"6db178884d7b5d5c1ea949dfdb3783bd\", \"bel\": \"p(HGNC:FGFR3)\"}, {\"function\": \"Protein\", \"concept\": {\"namespace\": \"HGNC\", \"name\": \"FN1\"}, \"id\": \"f9e337d497d5b07f01b422fa2f1d6543\", \"bel\": \"p(HGNC:FN1)\"}, {\"function\": \"Protein\", \"concept\": {\"namespace\": \"HGNC\", \"name\": \"FOXO1\"}, \"id\": \"2033f8081edbb34b1001aa0b729bc5fe\", \"bel\": \"p(HGNC:FOXO1)\"}, {\"function\": \"Protein\", \"concept\": {\"namespace\": \"HGNC\", \"name\": \"GFI1B\"}, \"id\": \"f243eb44cf784bc1d535213644113dc2\", \"bel\": \"p(HGNC:GFI1B)\"}, {\"function\": \"Protein\", \"concept\": {\"namespace\": \"HGNC\", \"name\": \"GPER1\"}, \"id\": \"aeef3703ba9a38b0df71584e033c9a56\", \"bel\": \"p(HGNC:GPER1)\"}, {\"function\": \"Protein\", \"concept\": {\"namespace\": \"HGNC\", \"name\": \"GZMA\"}, \"id\": \"59bfb4798a3dfef7aa8c3080abebf445\", \"bel\": \"p(HGNC:GZMA)\"}, {\"function\": \"Protein\", \"concept\": {\"namespace\": \"HGNC\", \"name\": \"H2AX\"}, \"id\": \"9393085b44debd2fe83879e4da5a61cc\", \"bel\": \"p(HGNC:H2AX)\"}, {\"function\": \"Protein\", \"concept\": {\"namespace\": \"HGNC\", \"name\": \"HDDC2\"}, \"id\": \"4c1887d07c3a19af1f12a0d69490c218\", \"bel\": \"p(HGNC:HDDC2)\"}, {\"function\": \"Protein\", \"concept\": {\"namespace\": \"HGNC\", \"name\": \"HIF1A\"}, \"id\": \"589a3a55500d0b280fdfeb11b3a4c4b3\", \"bel\": \"p(HGNC:HIF1A)\"}, {\"function\": \"Protein\", \"concept\": {\"namespace\": \"HGNC\", \"name\": \"HSP90AB1\"}, \"id\": \"940bd27f7b25d1632e8a9c77c0417160\", \"bel\": \"p(HGNC:HSP90AB1)\"}, {\"function\": \"Protein\", \"concept\": {\"namespace\": \"HGNC\", \"name\": \"HSPA1A\"}, \"id\": \"966fe209577a96fd2393e8ca0c76bf49\", \"bel\": \"p(HGNC:HSPA1A)\"}, {\"function\": \"Protein\", \"concept\": {\"namespace\": \"HGNC\", \"name\": \"HSPA2\"}, \"id\": \"47bf031f4d6ee91497373746e2bcfa4a\", \"bel\": \"p(HGNC:HSPA2)\"}, {\"function\": \"Protein\", \"concept\": {\"namespace\": \"HGNC\", \"name\": \"IL6\"}, \"id\": \"8a1d3c4828c5416eba867c395cc65caa\", \"bel\": \"p(HGNC:IL6)\"}, {\"function\": \"Protein\", \"concept\": {\"namespace\": \"HGNC\", \"name\": \"IRF5\"}, \"id\": \"faeb70ae2df17e1cc85d66018a77d226\", \"bel\": \"p(HGNC:IRF5)\"}, {\"function\": \"Protein\", \"concept\": {\"namespace\": \"HGNC\", \"name\": \"ITGAX\"}, \"id\": \"bf5f9128283f2f83be5422c418a4964f\", \"bel\": \"p(HGNC:ITGAX)\"}, {\"function\": \"Protein\", \"concept\": {\"namespace\": \"HGNC\", \"name\": \"JAG1\"}, \"id\": \"d05e52ff4552706dde9ec17ab0e60d02\", \"bel\": \"p(HGNC:JAG1)\"}, {\"function\": \"Protein\", \"concept\": {\"namespace\": \"HGNC\", \"name\": \"KAT5\"}, \"id\": \"31068de5277e0abc0b88d32d7ddd5509\", \"bel\": \"p(HGNC:KAT5)\"}, {\"function\": \"Protein\", \"concept\": {\"namespace\": \"HGNC\", \"name\": \"LMBRD1\"}, \"id\": \"cd1b302794c4751366f90d8f02047954\", \"bel\": \"p(HGNC:LMBRD1)\"}, {\"function\": \"Protein\", \"concept\": {\"namespace\": \"HGNC\", \"name\": \"LONP1\"}, \"id\": \"2fe1c035a9ad25b553c45fa470670671\", \"bel\": \"p(HGNC:LONP1)\"}, {\"function\": \"Protein\", \"concept\": {\"namespace\": \"HGNC\", \"name\": \"LYN\"}, \"id\": \"bb579f446d62f01d73b824a80a1276db\", \"bel\": \"p(HGNC:LYN)\"}, {\"function\": \"Protein\", \"concept\": {\"namespace\": \"HGNC\", \"name\": \"MAPK9\"}, \"id\": \"b6a850a2ae2442a003af2f8196e5773c\", \"bel\": \"p(HGNC:MAPK9)\"}, {\"function\": \"Protein\", \"concept\": {\"namespace\": \"HGNC\", \"name\": \"MAVS\"}, \"id\": \"057d75ee2f4b94b1ce2309b0965b0f2a\", \"bel\": \"p(HGNC:MAVS)\"}, {\"function\": \"Protein\", \"concept\": {\"namespace\": \"HGNC\", \"name\": \"MED21\"}, \"id\": \"7e88ed446c74d32c2edcf08a093de18e\", \"bel\": \"p(HGNC:MED21)\"}, {\"function\": \"Protein\", \"concept\": {\"namespace\": \"HGNC\", \"name\": \"MED6\"}, \"id\": \"5c350c038933b7f17ef40033f8f95833\", \"bel\": \"p(HGNC:MED6)\"}, {\"function\": \"Protein\", \"concept\": {\"namespace\": \"HGNC\", \"name\": \"MEF2C\"}, \"id\": \"87f9fbb5ba7321a54a9f724e67febcb6\", \"bel\": \"p(HGNC:MEF2C)\"}, {\"function\": \"Protein\", \"concept\": {\"namespace\": \"HGNC\", \"name\": \"MEIS2\"}, \"id\": \"9daa969fe7741e732fc2f0fa849c8aaf\", \"bel\": \"p(HGNC:MEIS2)\"}, {\"function\": \"Protein\", \"concept\": {\"namespace\": \"HGNC\", \"name\": \"MIB2\"}, \"id\": \"f4a38685cef708d1c66d88339a915919\", \"bel\": \"p(HGNC:MIB2)\"}, {\"function\": \"Protein\", \"concept\": {\"namespace\": \"HGNC\", \"name\": \"MMP3\"}, \"id\": \"e3408dd2587dc1d684573dd9d31a489e\", \"bel\": \"p(HGNC:MMP3)\"}, {\"function\": \"Protein\", \"concept\": {\"namespace\": \"HGNC\", \"name\": \"MYT1L\"}, \"id\": \"e9ed28f9c997c412fec331ce04e78be3\", \"bel\": \"p(HGNC:MYT1L)\"}, {\"function\": \"Protein\", \"concept\": {\"namespace\": \"HGNC\", \"name\": \"NFIA\"}, \"id\": \"7a23361f4f7fe5eff77c876aa24a56f1\", \"bel\": \"p(HGNC:NFIA)\"}, {\"function\": \"Protein\", \"concept\": {\"namespace\": \"HGNC\", \"name\": \"NHLRC1\"}, \"id\": \"bcb4ef25f73e87e36642ca1858e3ca1b\", \"bel\": \"p(HGNC:NHLRC1)\"}, {\"function\": \"Protein\", \"concept\": {\"namespace\": \"HGNC\", \"name\": \"NLRC5\"}, \"id\": \"14b1daeb638a5bb75ada7b380710e542\", \"bel\": \"p(HGNC:NLRC5)\"}, {\"function\": \"Protein\", \"concept\": {\"namespace\": \"HGNC\", \"name\": \"NOTCH1\"}, \"id\": \"27f2f587c4ffaeb8ec45fb9b21c7b8c5\", \"bel\": \"p(HGNC:NOTCH1)\"}, {\"function\": \"Protein\", \"concept\": {\"namespace\": \"HGNC\", \"name\": \"NR3C1\"}, \"id\": \"06820afe2bb1d23782b55583f42e2218\", \"bel\": \"p(HGNC:NR3C1)\"}, {\"function\": \"Protein\", \"concept\": {\"namespace\": \"HGNC\", \"name\": \"NT5E\"}, \"id\": \"6baf69233a54b5ad16b1080bd158cc24\", \"bel\": \"p(HGNC:NT5E)\"}, {\"function\": \"Protein\", \"concept\": {\"namespace\": \"HGNC\", \"name\": \"NTRK2\"}, \"id\": \"5873dc57711d54aff73ef2aa04a42017\", \"bel\": \"p(HGNC:NTRK2)\"}, {\"function\": \"Protein\", \"concept\": {\"namespace\": \"HGNC\", \"name\": \"PCSK1\"}, \"id\": \"2d6ec7d6e5de1fae1f23f478d4d1eb11\", \"bel\": \"p(HGNC:PCSK1)\"}, {\"function\": \"Protein\", \"concept\": {\"namespace\": \"HGNC\", \"name\": \"PKN1\"}, \"id\": \"ac86cc6080e74324c4eca58bbbb9aaf8\", \"bel\": \"p(HGNC:PKN1)\"}, {\"function\": \"Protein\", \"concept\": {\"namespace\": \"HGNC\", \"name\": \"PLK1\"}, \"id\": \"cb622f941691ccc2bf17f17711032323\", \"bel\": \"p(HGNC:PLK1)\"}, {\"function\": \"Protein\", \"concept\": {\"namespace\": \"HGNC\", \"name\": \"PLP1\"}, \"id\": \"7bde4871b1a4698e6ec1d4ec30385494\", \"bel\": \"p(HGNC:PLP1)\"}, {\"function\": \"Protein\", \"concept\": {\"namespace\": \"HGNC\", \"name\": \"POU3F3\"}, \"id\": \"a929ead9676c1527df67142660498f98\", \"bel\": \"p(HGNC:POU3F3)\"}, {\"function\": \"Protein\", \"concept\": {\"namespace\": \"HGNC\", \"name\": \"PPARG\"}, \"id\": \"3c576f271f63bfbdadb98704c5b62fff\", \"bel\": \"p(HGNC:PPARG)\"}, {\"function\": \"Protein\", \"concept\": {\"namespace\": \"HGNC\", \"name\": \"PRKN\"}, \"id\": \"e7cd420967c3dcd4f3a90b2e2a848002\", \"bel\": \"p(HGNC:PRKN)\"}, {\"function\": \"Protein\", \"concept\": {\"namespace\": \"HGNC\", \"name\": \"PTCH1\"}, \"id\": \"8155c28d5a38486e43492ab3a0f7bfb0\", \"bel\": \"p(HGNC:PTCH1)\"}, {\"function\": \"Protein\", \"concept\": {\"namespace\": \"HGNC\", \"name\": \"PTN\"}, \"id\": \"2d74fd716f01ba91dd056d94b8061263\", \"bel\": \"p(HGNC:PTN)\"}, {\"function\": \"Protein\", \"concept\": {\"namespace\": \"HGNC\", \"name\": \"RELA\"}, \"id\": \"64cb49613db164980ff43274b6c270cf\", \"bel\": \"p(HGNC:RELA)\"}, {\"function\": \"Protein\", \"concept\": {\"namespace\": \"HGNC\", \"name\": \"REST\"}, \"id\": \"b09c62c8ffdc08057cbe4ab6520b00c3\", \"bel\": \"p(HGNC:REST)\"}, {\"function\": \"Protein\", \"concept\": {\"namespace\": \"HGNC\", \"name\": \"RPA1\"}, \"id\": \"4b2d3aa85d2027113f6734032b8fb580\", \"bel\": \"p(HGNC:RPA1)\"}, {\"function\": \"Protein\", \"concept\": {\"namespace\": \"HGNC\", \"name\": \"SAMHD1\"}, \"id\": \"b58bd852e1790ae51a7b39eeb800e884\", \"bel\": \"p(HGNC:SAMHD1)\"}, {\"function\": \"Protein\", \"concept\": {\"namespace\": \"HGNC\", \"name\": \"SGK3\"}, \"id\": \"fab77f492b4d53706341d43dac669619\", \"bel\": \"p(HGNC:SGK3)\"}, {\"function\": \"Protein\", \"concept\": {\"namespace\": \"HGNC\", \"name\": \"SKP2\"}, \"id\": \"6f5e5ea9918bdc1357f3cb54bd10bc2f\", \"bel\": \"p(HGNC:SKP2)\"}, {\"function\": \"Protein\", \"concept\": {\"namespace\": \"HGNC\", \"name\": \"SLC25A23\"}, \"id\": \"5d252b5c89c3e0783ec97903e6cda395\", \"bel\": \"p(HGNC:SLC25A23)\"}, {\"function\": \"Protein\", \"concept\": {\"namespace\": \"HGNC\", \"name\": \"SLC25A5\"}, \"id\": \"6c5d07c871f5e006b3300219e73a4e40\", \"bel\": \"p(HGNC:SLC25A5)\"}, {\"function\": \"Protein\", \"concept\": {\"namespace\": \"HGNC\", \"name\": \"SLC25A6\"}, \"id\": \"098c15dcdb2094eda2a484b99a175c8a\", \"bel\": \"p(HGNC:SLC25A6)\"}, {\"function\": \"Protein\", \"concept\": {\"namespace\": \"HGNC\", \"name\": \"SLC30A1\"}, \"id\": \"08d49cede9e4442bb9ee0283c86dd92f\", \"bel\": \"p(HGNC:SLC30A1)\"}, {\"function\": \"Protein\", \"concept\": {\"namespace\": \"HGNC\", \"name\": \"SMARCD3\"}, \"id\": \"675d90bcb0efca03d7261d9d15ae7203\", \"bel\": \"p(HGNC:SMARCD3)\"}, {\"function\": \"Protein\", \"concept\": {\"namespace\": \"HGNC\", \"name\": \"SNX27\"}, \"id\": \"6edb3b5cceea946c0f92e3af6480b886\", \"bel\": \"p(HGNC:SNX27)\"}, {\"function\": \"Protein\", \"concept\": {\"namespace\": \"HGNC\", \"name\": \"STAT1\"}, \"id\": \"4406636e0faeaf0a1fb400403144d48b\", \"bel\": \"p(HGNC:STAT1)\"}, {\"function\": \"Protein\", \"concept\": {\"namespace\": \"HGNC\", \"name\": \"STAT2\"}, \"id\": \"01039887a7f25092eeb8fd5c81dfc626\", \"bel\": \"p(HGNC:STAT2)\"}, {\"function\": \"Protein\", \"concept\": {\"namespace\": \"HGNC\", \"name\": \"STON2\"}, \"id\": \"c17efcd674611c2d5e84bd017d4854f1\", \"bel\": \"p(HGNC:STON2)\"}, {\"function\": \"Protein\", \"concept\": {\"namespace\": \"HGNC\", \"name\": \"STOX1\"}, \"id\": \"8d3ae0b7464278fd1bed1b2d5080e6d7\", \"bel\": \"p(HGNC:STOX1)\"}, {\"function\": \"Protein\", \"concept\": {\"namespace\": \"HGNC\", \"name\": \"TBX2\"}, \"id\": \"bc5771bb9e05d7d3d2196262fa6650f1\", \"bel\": \"p(HGNC:TBX2)\"}, {\"function\": \"Protein\", \"concept\": {\"namespace\": \"HGNC\", \"name\": \"TBX22\"}, \"id\": \"d10ec3573063f9be708ea75e05bdbde3\", \"bel\": \"p(HGNC:TBX22)\"}, {\"function\": \"Protein\", \"concept\": {\"namespace\": \"HGNC\", \"name\": \"TGFBR1\"}, \"id\": \"54347535ff7c9720f25fada9dbfb5f85\", \"bel\": \"p(HGNC:TGFBR1)\"}, {\"function\": \"Protein\", \"concept\": {\"namespace\": \"HGNC\", \"name\": \"TGFBR2\"}, \"id\": \"ecd80a47667baacbf3c5ab47563af97c\", \"bel\": \"p(HGNC:TGFBR2)\"}, {\"function\": \"Protein\", \"concept\": {\"namespace\": \"HGNC\", \"name\": \"TNF\"}, \"id\": \"fdc1c1f5a73c3c992b6eb71ce9b6908e\", \"bel\": \"p(HGNC:TNF)\"}, {\"function\": \"Protein\", \"concept\": {\"namespace\": \"HGNC\", \"name\": \"TRAF4\"}, \"id\": \"e8b194d2c1219057cc3397d8257b5e46\", \"bel\": \"p(HGNC:TRAF4)\"}, {\"function\": \"Protein\", \"concept\": {\"namespace\": \"HGNC\", \"name\": \"TRAP1\"}, \"id\": \"05246ced8f97f85c2ae03a5ed2c31caa\", \"bel\": \"p(HGNC:TRAP1)\"}, {\"function\": \"Protein\", \"concept\": {\"namespace\": \"HGNC\", \"name\": \"VCP\"}, \"id\": \"7ccb44c75290e10bc2f3def8ba9b3577\", \"bel\": \"p(HGNC:VCP)\"}, {\"function\": \"Protein\", \"concept\": {\"namespace\": \"HGNC\", \"name\": \"VCPKMT\"}, \"id\": \"725cf2ff1024964eea2d2c3f9c8d5e25\", \"bel\": \"p(HGNC:VCPKMT)\"}, {\"function\": \"Protein\", \"concept\": {\"namespace\": \"HGNC\", \"name\": \"WDFY1\"}, \"id\": \"554f31de2f1e3e255e24b9f4d8a9a038\", \"bel\": \"p(HGNC:WDFY1)\"}, {\"function\": \"Protein\", \"concept\": {\"namespace\": \"HGNC\", \"name\": \"ZC3HAV1\"}, \"id\": \"b5dbf64b3fda380b3226db88eaa16ca4\", \"bel\": \"p(HGNC:ZC3HAV1)\"}, {\"function\": \"Protein\", \"concept\": {\"namespace\": \"HGNC\", \"name\": \"ZNF573\"}, \"id\": \"4942b9d5d4e4e82f1950f00e8e2d5736\", \"bel\": \"p(HGNC:ZNF573)\"}], \"links\": [{\"relation\": \"association\", \"evidence\": \"UniProt query\", \"citation\": {\"namespace\": \"pubmed\", \"identifier\": \"UniProt database\"}, \"source\": 143, \"target\": 61, \"key\": \"c5fedf580dbe46ee1a58e9a050e7eae4\"}, {\"relation\": \"association\", \"evidence\": \"UniProt query\", \"citation\": {\"namespace\": \"pubmed\", \"identifier\": \"UniProt database\"}, \"source\": 143, \"target\": 85, \"key\": \"641d564cd0057178b77095f1aca0835d\"}, {\"relation\": \"association\", \"evidence\": \"UniProt query\", \"citation\": {\"namespace\": \"pubmed\", \"identifier\": \"UniProt database\"}, \"source\": 143, \"target\": 65, \"key\": \"c666cca116986fbe7a271ddac3562b61\"}, {\"relation\": \"association\", \"evidence\": \"UniProt query\", \"citation\": {\"namespace\": \"pubmed\", \"identifier\": \"UniProt database\"}, \"source\": 143, \"target\": 42, \"key\": \"0211a8697b4e2c75b93952c1ead6f0f0\"}, {\"relation\": \"association\", \"evidence\": \"UniProt query\", \"citation\": {\"namespace\": \"pubmed\", \"identifier\": \"UniProt database\"}, \"source\": 143, \"target\": 76, \"key\": \"ab7b9d513cbb0bc523bef4cd78338b54\"}, {\"relation\": \"association\", \"evidence\": \"UniProt query\", \"citation\": {\"namespace\": \"pubmed\", \"identifier\": \"UniProt database\"}, \"source\": 61, \"target\": 152, \"key\": \"b0f40c83eabb14cd06f67b125b75c617\"}, {\"relation\": \"association\", \"evidence\": \"UniProt query\", \"citation\": {\"namespace\": \"pubmed\", \"identifier\": \"UniProt database\"}, \"source\": 61, \"target\": 133, \"key\": \"19e5d61f3cb622029725e7cb41f08e0c\"}, {\"relation\": \"association\", \"evidence\": \"UniProt query\", \"citation\": {\"namespace\": \"pubmed\", \"identifier\": \"UniProt database\"}, \"source\": 61, \"target\": 190, \"key\": \"fb01acea97b1ac105e62298c670c4573\"}, {\"relation\": \"association\", \"evidence\": \"UniProt query\", \"citation\": {\"namespace\": \"pubmed\", \"identifier\": \"UniProt database\"}, \"source\": 61, \"target\": 153, \"key\": \"95e4cd8520f199ca55ea96eb9b227114\"}, {\"relation\": \"association\", \"evidence\": \"ChEMBL query\", \"citation\": {\"namespace\": \"pubmed\", \"identifier\": \"ChEMBL database\"}, \"source\": 4, \"target\": 102, \"key\": \"ea30445697faa49d706c3e35e858353b\"}, {\"annotation\": {\"assayType\": \"B\", \"pChEMBL\": \"7.64\"}, \"relation\": \"association\", \"evidence\": \"ChEMBL query\", \"citation\": {\"namespace\": \"pubmed\", \"identifier\": \"ChEMBL database\"}, \"source\": 4, \"target\": 0, \"key\": \"e84f0b6e36ddbabec8224f8dc5da2a54\"}, {\"relation\": \"association\", \"evidence\": \"ChEMBL query\", \"citation\": {\"namespace\": \"pubmed\", \"identifier\": \"ChEMBL database\"}, \"source\": 102, \"target\": 3, \"key\": \"3295411b4f1b04b8cf3c08c94b5f9b62\"}, {\"relation\": \"association\", \"evidence\": \"UniProt query\", \"citation\": {\"namespace\": \"pubmed\", \"identifier\": \"UniProt database\"}, \"source\": 111, \"target\": 46, \"key\": \"ba2e8dacbadc2ffa5a2deb0029af64d7\"}, {\"relation\": \"association\", \"evidence\": \"UniProt query\", \"citation\": {\"namespace\": \"pubmed\", \"identifier\": \"UniProt database\"}, \"source\": 111, \"target\": 39, \"key\": \"c9e4a022caae8b3dc4067bfdacc565e9\"}, {\"relation\": \"association\", \"evidence\": \"UniProt query\", \"citation\": {\"namespace\": \"pubmed\", \"identifier\": \"UniProt database\"}, \"source\": 46, \"target\": 131, \"key\": \"49e54ca2544fc166828f9661bab583cb\"}, {\"relation\": \"association\", \"evidence\": \"UniProt query\", \"citation\": {\"namespace\": \"pubmed\", \"identifier\": \"UniProt database\"}, \"source\": 46, \"target\": 130, \"key\": \"3b258937efe7b2a976210881ca83cd12\"}, {\"relation\": \"association\", \"evidence\": \"UniProt query\", \"citation\": {\"namespace\": \"pubmed\", \"identifier\": \"UniProt database\"}, \"source\": 158, \"target\": 30, \"key\": \"ca9b876ae1038aab609892654cc30a1a\"}, {\"relation\": \"association\", \"evidence\": \"UniProt query\", \"citation\": {\"namespace\": \"pubmed\", \"identifier\": \"UniProt database\"}, \"source\": 158, \"target\": 32, \"key\": \"d541377b6ae0795bbc71f27afcad65cf\"}, {\"relation\": \"association\", \"evidence\": \"UniProt query\", \"citation\": {\"namespace\": \"pubmed\", \"identifier\": \"UniProt database\"}, \"source\": 30, \"target\": 154, \"key\": \"d6afec0c1be827acec931c863bbd8d9e\"}, {\"relation\": \"association\", \"evidence\": \"UniProt query\", \"citation\": {\"namespace\": \"pubmed\", \"identifier\": \"UniProt database\"}, \"source\": 30, \"target\": 140, \"key\": \"b3f65a970433512448e082c64986d1a2\"}, {\"relation\": \"association\", \"evidence\": \"UniProt query\", \"citation\": {\"namespace\": \"pubmed\", \"identifier\": \"UniProt database\"}, \"source\": 30, \"target\": 192, \"key\": \"9d873442f7ed41448772b7ca2af66c67\"}, {\"relation\": \"association\", \"evidence\": \"UniProt query\", \"citation\": {\"namespace\": \"pubmed\", \"identifier\": \"UniProt database\"}, \"source\": 51, \"target\": 194, \"key\": \"688cbbe5b24b2bf5b9c903314e7e1176\"}, {\"relation\": \"association\", \"evidence\": \"UniProt query\", \"citation\": {\"namespace\": \"pubmed\", \"identifier\": \"UniProt database\"}, \"source\": 51, \"target\": 127, \"key\": \"d8b2b0b9472d64f613bc7e34a49db07d\"}, {\"relation\": \"association\", \"evidence\": \"UniProt query\", \"citation\": {\"namespace\": \"pubmed\", \"identifier\": \"UniProt database\"}, \"source\": 51, \"target\": 179, \"key\": \"ad42d517b352fea410e362023e9d7dc3\"}, {\"relation\": \"association\", \"evidence\": \"UniProt query\", \"citation\": {\"namespace\": \"pubmed\", \"identifier\": \"UniProt database\"}, \"source\": 51, \"target\": 112, \"key\": \"ac35f3b3bcc0434d0facca52f8872214\"}, {\"relation\": \"association\", \"evidence\": \"UniProt query\", \"citation\": {\"namespace\": \"pubmed\", \"identifier\": \"UniProt database\"}, \"source\": 194, \"target\": 23, \"key\": \"f85461cb3ee728c0018762f9857c079b\"}, {\"relation\": \"association\", \"evidence\": \"UniProt query\", \"citation\": {\"namespace\": \"pubmed\", \"identifier\": \"UniProt database\"}, \"source\": 194, \"target\": 47, \"key\": \"9dff497eec40d526dee67458f878c684\"}, {\"annotation\": {\"assayType\": \"B\", \"pChEMBL\": \"7.06\"}, \"relation\": \"association\", \"evidence\": \"ChEMBL query\", \"citation\": {\"namespace\": \"pubmed\", \"identifier\": \"ChEMBL database\"}, \"source\": 3, \"target\": 0, \"key\": \"d527d21fd6fb36ea9252bb8b2f540894\"}, {\"relation\": \"association\", \"evidence\": \"ChEMBL query\", \"citation\": {\"namespace\": \"pubmed\", \"identifier\": \"ChEMBL database\"}, \"source\": 3, \"target\": 102, \"key\": \"d5db7bb86fd7106ecde6b29f126c4a98\"}, {\"annotation\": {\"assayType\": \"B\", \"pChEMBL\": \"7.05\"}, \"relation\": \"association\", \"evidence\": \"ChEMBL query\", \"citation\": {\"namespace\": \"pubmed\", \"identifier\": \"ChEMBL database\"}, \"source\": 0, \"target\": 1, \"key\": \"cdc6811e515488fe2005ea0f00e02954\"}, {\"annotation\": {\"assayType\": \"B\", \"pChEMBL\": \"7.72\"}, \"relation\": \"association\", \"evidence\": \"ChEMBL query\", \"citation\": {\"namespace\": \"pubmed\", \"identifier\": \"ChEMBL database\"}, \"source\": 0, \"target\": 2, \"key\": \"5b796c97094200f0561cd73edf35043e\"}, {\"relation\": \"association\", \"evidence\": \"UniProt query\", \"citation\": {\"namespace\": \"pubmed\", \"identifier\": \"UniProt database\"}, \"source\": 154, \"target\": 14, \"key\": \"7e2a2bc353f78266665db28ea29cb76f\"}, {\"relation\": \"association\", \"evidence\": \"UniProt query\", \"citation\": {\"namespace\": \"pubmed\", \"identifier\": \"UniProt database\"}, \"source\": 154, \"target\": 41, \"key\": \"6ee3c75ffdb1966b140ef995b2aaca9d\"}, {\"relation\": \"association\", \"evidence\": \"UniProt query\", \"citation\": {\"namespace\": \"pubmed\", \"identifier\": \"UniProt database\"}, \"source\": 154, \"target\": 35, \"key\": \"1a3b8f18d8b4a1247d3856ac6f188601\"}, {\"relation\": \"association\", \"evidence\": \"UniProt query\", \"citation\": {\"namespace\": \"pubmed\", \"identifier\": \"UniProt database\"}, \"source\": 39, \"target\": 134, \"key\": \"f87d3e99ed230c0710de06516378565b\"}, {\"relation\": \"association\", \"evidence\": \"UniProt query\", \"citation\": {\"namespace\": \"pubmed\", \"identifier\": \"UniProt database\"}, \"source\": 39, \"target\": 122, \"key\": \"1bf6ccda8e8786d57a3b74a807c1216b\"}, {\"relation\": \"association\", \"evidence\": \"UniProt query\", \"citation\": {\"namespace\": \"pubmed\", \"identifier\": \"UniProt database\"}, \"source\": 140, \"target\": 5, \"key\": \"c58545928788cb43659759413c718667\"}, {\"relation\": \"association\", \"evidence\": \"UniProt query\", \"citation\": {\"namespace\": \"pubmed\", \"identifier\": \"UniProt database\"}, \"source\": 140, \"target\": 92, \"key\": \"170614503d25eed3e22ee921cae40331\"}, {\"relation\": \"association\", \"evidence\": \"UniProt query\", \"citation\": {\"namespace\": \"pubmed\", \"identifier\": \"UniProt database\"}, \"source\": 140, \"target\": 40, \"key\": \"3f4d2400876047dd37d89085bb428ebe\"}, {\"annotation\": {\"Reactome\": \"https://reactome.org/content/detail/R-HSA-9665686\"}, \"relation\": \"association\", \"evidence\": \"ChEMBL query\", \"citation\": {\"namespace\": \"pubmed\", \"identifier\": \"ChEMBL database\"}, \"source\": 127, \"target\": 100, \"key\": \"8f130ee6861a48bdf6bd68da8358480f\"}, {\"relation\": \"association\", \"evidence\": \"UniProt query\", \"citation\": {\"namespace\": \"pubmed\", \"identifier\": \"UniProt database\"}, \"source\": 127, \"target\": 51, \"key\": \"1350542aceabd3fb47446160224a4edc\"}, {\"relation\": \"association\", \"evidence\": \"UniProt query\", \"citation\": {\"namespace\": \"pubmed\", \"identifier\": \"UniProt database\"}, \"source\": 23, \"target\": 184, \"key\": \"5f2534980b62a196b46898973b978331\"}, {\"relation\": \"association\", \"evidence\": \"UniProt query\", \"citation\": {\"namespace\": \"pubmed\", \"identifier\": \"UniProt database\"}, \"source\": 23, \"target\": 173, \"key\": \"0e89698ba621b81f0d9f2f352ff86604\"}, {\"relation\": \"association\", \"evidence\": \"UniProt query\", \"citation\": {\"namespace\": \"pubmed\", \"identifier\": \"UniProt database\"}, \"source\": 23, \"target\": 162, \"key\": \"adfa65251723bacdc43fae46bf958bf9\"}, {\"relation\": \"association\", \"evidence\": \"UniProt query\", \"citation\": {\"namespace\": \"pubmed\", \"identifier\": \"UniProt database\"}, \"source\": 14, \"target\": 120, \"key\": \"0f4323f9ffe4a0d388ec85e988699223\"}, {\"relation\": \"association\", \"evidence\": \"UniProt query\", \"citation\": {\"namespace\": \"pubmed\", \"identifier\": \"UniProt database\"}, \"source\": 14, \"target\": 176, \"key\": \"9270d1aae792fefe36c3bc9ea0554737\"}, {\"annotation\": {\"Reactome\": \"https://reactome.org/content/detail/R-HSA-9665686\"}, \"relation\": \"association\", \"evidence\": \"ChEMBL query\", \"citation\": {\"namespace\": \"pubmed\", \"identifier\": \"ChEMBL database\"}, \"source\": 100, \"target\": 127, \"key\": \"a64174ad89b158c98f4ac9ed49274f36\"}, {\"relation\": \"association\", \"evidence\": \"UniProt query\", \"citation\": {\"namespace\": \"pubmed\", \"identifier\": \"UniProt database\"}, \"source\": 85, \"target\": 104, \"key\": \"1b69493df0f93d50855e67ea85393c3e\"}, {\"relation\": \"association\", \"evidence\": \"UniProt query\", \"citation\": {\"namespace\": \"pubmed\", \"identifier\": \"UniProt database\"}, \"source\": 85, \"target\": 139, \"key\": \"4822d1d8bd707f9481a7f478aade21aa\"}, {\"relation\": \"association\", \"evidence\": \"UniProt query\", \"citation\": {\"namespace\": \"pubmed\", \"identifier\": \"UniProt database\"}, \"source\": 152, \"target\": 49, \"key\": \"f903b50968148782254c0f31b6bf0ae9\"}, {\"relation\": \"association\", \"evidence\": \"UniProt query\", \"citation\": {\"namespace\": \"pubmed\", \"identifier\": \"UniProt database\"}, \"source\": 49, \"target\": 129, \"key\": \"9951e2a9c530b1409247f56d3ced5b7e\"}, {\"relation\": \"association\", \"evidence\": \"UniProt query\", \"citation\": {\"namespace\": \"pubmed\", \"identifier\": \"UniProt database\"}, \"source\": 49, \"target\": 156, \"key\": \"528a16eab6ba7c52198f90c82a524e0a\"}, {\"relation\": \"association\", \"evidence\": \"UniProt query\", \"citation\": {\"namespace\": \"pubmed\", \"identifier\": \"UniProt database\"}, \"source\": 104, \"target\": 21, \"key\": \"1aee045fcb8eab6d79b7a3d2a2d6981e\"}, {\"relation\": \"association\", \"evidence\": \"UniProt query\", \"citation\": {\"namespace\": \"pubmed\", \"identifier\": \"UniProt database\"}, \"source\": 104, \"target\": 57, \"key\": \"c1fba71a481e1297821db3014f884df5\"}, {\"relation\": \"association\", \"evidence\": \"UniProt query\", \"citation\": {\"namespace\": \"pubmed\", \"identifier\": \"UniProt database\"}, \"source\": 133, \"target\": 15, \"key\": \"3a2e50928789cb45ee12923fc7156a3b\"}, {\"relation\": \"association\", \"evidence\": \"UniProt query\", \"citation\": {\"namespace\": \"pubmed\", \"identifier\": \"UniProt database\"}, \"source\": 133, \"target\": 76, \"key\": \"9827c72d34f3555d47fe3ee466ec9e5d\"}, {\"relation\": \"association\", \"evidence\": \"UniProt query\", \"citation\": {\"namespace\": \"pubmed\", \"identifier\": \"UniProt database\"}, \"source\": 65, \"target\": 128, \"key\": \"7652344e20ea0c706e64e613936511c3\"}, {\"relation\": \"association\", \"evidence\": \"UniProt query\", \"citation\": {\"namespace\": \"pubmed\", \"identifier\": \"UniProt database\"}, \"source\": 65, \"target\": 175, \"key\": \"c28df61f243ef53f06ac961e4d246af0\"}, {\"relation\": \"association\", \"evidence\": \"UniProt query\", \"citation\": {\"namespace\": \"pubmed\", \"identifier\": \"UniProt database\"}, \"source\": 65, \"target\": 162, \"key\": \"3721848aa808819a7320e7d6a0a25f6b\"}, {\"relation\": \"association\", \"evidence\": \"UniProt query\", \"citation\": {\"namespace\": \"pubmed\", \"identifier\": \"UniProt database\"}, \"source\": 65, \"target\": 145, \"key\": \"a3d33774171eb05e307799f9b293452b\"}, {\"relation\": \"association\", \"evidence\": \"UniProt query\", \"citation\": {\"namespace\": \"pubmed\", \"identifier\": \"UniProt database\"}, \"source\": 131, \"target\": 89, \"key\": \"47a2b0c06f4ed2add57934264863dfa9\"}, {\"relation\": \"association\", \"evidence\": \"UniProt query\", \"citation\": {\"namespace\": \"pubmed\", \"identifier\": \"UniProt database\"}, \"source\": 131, \"target\": 69, \"key\": \"3cd41a771b40e64fe1dfcc412adbbd3f\"}, {\"relation\": \"association\", \"evidence\": \"UniProt query\", \"citation\": {\"namespace\": \"pubmed\", \"identifier\": \"UniProt database\"}, \"source\": 131, \"target\": 28, \"key\": \"7325e0921217a74b5b367622efac6d8d\"}, {\"relation\": \"association\", \"evidence\": \"UniProt query\", \"citation\": {\"namespace\": \"pubmed\", \"identifier\": \"UniProt database\"}, \"source\": 89, \"target\": 165, \"key\": \"e34c2b8b00c01128e19d90dd4892a20d\"}, {\"relation\": \"association\", \"evidence\": \"UniProt query\", \"citation\": {\"namespace\": \"pubmed\", \"identifier\": \"UniProt database\"}, \"source\": 179, \"target\": 91, \"key\": \"d66eb2d51faeee3ee99fead047e71c30\"}, {\"relation\": \"association\", \"evidence\": \"UniProt query\", \"citation\": {\"namespace\": \"pubmed\", \"identifier\": \"UniProt database\"}, \"source\": 179, \"target\": 90, \"key\": \"4a716be45e5f9dcf951e0c33827b171e\"}, {\"relation\": \"association\", \"evidence\": \"UniProt query\", \"citation\": {\"namespace\": \"pubmed\", \"identifier\": \"UniProt database\"}, \"source\": 179, \"target\": 94, \"key\": \"98440b675880ae6e1a01392a49359d7c\"}, {\"relation\": \"association\", \"evidence\": \"UniProt query\", \"citation\": {\"namespace\": \"pubmed\", \"identifier\": \"UniProt database\"}, \"source\": 91, \"target\": 108, \"key\": \"6c1b8a2b008bacd04f02c70c3ae02380\"}, {\"relation\": \"association\", \"evidence\": \"UniProt query\", \"citation\": {\"namespace\": \"pubmed\", \"identifier\": \"UniProt database\"}, \"source\": 91, \"target\": 118, \"key\": \"c6953c30d4b692d0e16a34805b2e3c22\"}, {\"relation\": \"association\", \"evidence\": \"UniProt query\", \"citation\": {\"namespace\": \"pubmed\", \"identifier\": \"UniProt database\"}, \"source\": 21, \"target\": 104, \"key\": \"1efa11a1807aaa3245909905248d029e\"}, {\"relation\": \"association\", \"evidence\": \"UniProt query\", \"citation\": {\"namespace\": \"pubmed\", \"identifier\": \"UniProt database\"}, \"source\": 42, \"target\": 151, \"key\": \"89dbd1ce572714491a016b1603f20c12\"}, {\"relation\": \"association\", \"evidence\": \"UniProt query\", \"citation\": {\"namespace\": \"pubmed\", \"identifier\": \"UniProt database\"}, \"source\": 42, \"target\": 201, \"key\": \"54ab86afe706a94afa0a4fe0d2251ea5\"}, {\"relation\": \"association\", \"evidence\": \"UniProt query\", \"citation\": {\"namespace\": \"pubmed\", \"identifier\": \"UniProt database\"}, \"source\": 120, \"target\": 43, \"key\": \"e7b4b5d58a4b158d97fbe8878309da56\"}, {\"relation\": \"association\", \"evidence\": \"UniProt query\", \"citation\": {\"namespace\": \"pubmed\", \"identifier\": \"UniProt database\"}, \"source\": 120, \"target\": 14, \"key\": \"173168f4dd62b52ce6782ee6243a822a\"}, {\"relation\": \"association\", \"evidence\": \"UniProt query\", \"citation\": {\"namespace\": \"pubmed\", \"identifier\": \"UniProt database\"}, \"source\": 120, \"target\": 11, \"key\": \"9654caa0c8144e0d1d757585912d36bf\"}, {\"relation\": \"association\", \"evidence\": \"UniProt query\", \"citation\": {\"namespace\": \"pubmed\", \"identifier\": \"UniProt database\"}, \"source\": 32, \"target\": 106, \"key\": \"414a7c4d423aa30737ab802a8100d6a9\"}, {\"relation\": \"association\", \"evidence\": \"UniProt query\", \"citation\": {\"namespace\": \"pubmed\", \"identifier\": \"UniProt database\"}, \"source\": 32, \"target\": 159, \"key\": \"17f83b694d44451ad6144123107fec1c\"}, {\"relation\": \"association\", \"evidence\": \"UniProt query\", \"citation\": {\"namespace\": \"pubmed\", \"identifier\": \"UniProt database\"}, \"source\": 165, \"target\": 72, \"key\": \"19a820303ee42a6d4f85150aa1f0d93f\"}, {\"relation\": \"association\", \"evidence\": \"UniProt query\", \"citation\": {\"namespace\": \"pubmed\", \"identifier\": \"UniProt database\"}, \"source\": 41, \"target\": 105, \"key\": \"b34abb4962c65d0984bf192b12f8e714\"}, {\"relation\": \"association\", \"evidence\": \"UniProt query\", \"citation\": {\"namespace\": \"pubmed\", \"identifier\": \"UniProt database\"}, \"source\": 41, \"target\": 123, \"key\": \"1fa225da746b49f985079c71157ccce9\"}, {\"relation\": \"association\", \"evidence\": \"UniProt query\", \"citation\": {\"namespace\": \"pubmed\", \"identifier\": \"UniProt database\"}, \"source\": 41, \"target\": 169, \"key\": \"c3b43bc07289f9958fcc7ccc30b13172\"}, {\"relation\": \"association\", \"evidence\": \"UniProt query\", \"citation\": {\"namespace\": \"pubmed\", \"identifier\": \"UniProt database\"}, \"source\": 41, \"target\": 150, \"key\": \"50aaf884d52d7a388f8d4c5c913c8776\"}, {\"relation\": \"association\", \"evidence\": \"UniProt query\", \"citation\": {\"namespace\": \"pubmed\", \"identifier\": \"UniProt database\"}, \"source\": 43, \"target\": 182, \"key\": \"6c4619aec9ec6c34be407ca46d7d9e66\"}, {\"relation\": \"association\", \"evidence\": \"UniProt query\", \"citation\": {\"namespace\": \"pubmed\", \"identifier\": \"UniProt database\"}, \"source\": 43, \"target\": 172, \"key\": \"4e34fd3954009bbbdba1e70b6f838a2b\"}, {\"relation\": \"association\", \"evidence\": \"UniProt query\", \"citation\": {\"namespace\": \"pubmed\", \"identifier\": \"UniProt database\"}, \"source\": 43, \"target\": 129, \"key\": \"91a490af9c83e2a0b202e83230309505\"}, {\"relation\": \"association\", \"evidence\": \"UniProt query\", \"citation\": {\"namespace\": \"pubmed\", \"identifier\": \"UniProt database\"}, \"source\": 108, \"target\": 48, \"key\": \"a3a65249646874a7e5933bc9a32b1d48\"}, {\"relation\": \"association\", \"evidence\": \"UniProt query\", \"citation\": {\"namespace\": \"pubmed\", \"identifier\": \"UniProt database\"}, \"source\": 106, \"target\": 52, \"key\": \"e9515f4ffa77cabde21296bd4b77b7f3\"}, {\"relation\": \"association\", \"evidence\": \"UniProt query\", \"citation\": {\"namespace\": \"pubmed\", \"identifier\": \"UniProt database\"}, \"source\": 106, \"target\": 64, \"key\": \"4070d097a50b97e1af44d86c1eeb2e59\"}, {\"relation\": \"association\", \"evidence\": \"UniProt query\", \"citation\": {\"namespace\": \"pubmed\", \"identifier\": \"UniProt database\"}, \"source\": 106, \"target\": 37, \"key\": \"dde676a429ad2b76f1fec11944efa681\"}, {\"relation\": \"association\", \"evidence\": \"UniProt query\", \"citation\": {\"namespace\": \"pubmed\", \"identifier\": \"UniProt database\"}, \"source\": 128, \"target\": 77, \"key\": \"440899306a7710947d73a546ba51f218\"}, {\"relation\": \"association\", \"evidence\": \"UniProt query\", \"citation\": {\"namespace\": \"pubmed\", \"identifier\": \"UniProt database\"}, \"source\": 128, \"target\": 58, \"key\": \"67145dc0d2ae71503a2905243d10b1e0\"}, {\"relation\": \"association\", \"evidence\": \"UniProt query\", \"citation\": {\"namespace\": \"pubmed\", \"identifier\": \"UniProt database\"}, \"source\": 128, \"target\": 25, \"key\": \"e26566ffdc5738e935c738082e613ed8\"}, {\"relation\": \"association\", \"evidence\": \"UniProt query\", \"citation\": {\"namespace\": \"pubmed\", \"identifier\": \"UniProt database\"}, \"source\": 76, \"target\": 170, \"key\": \"bcd33b8c0206cbca7285e83eea33cff6\"}, {\"relation\": \"association\", \"evidence\": \"UniProt query\", \"citation\": {\"namespace\": \"pubmed\", \"identifier\": \"UniProt database\"}, \"source\": 76, \"target\": 155, \"key\": \"9d3641d2c3aea052c81bdf167248b4b4\"}, {\"relation\": \"association\", \"evidence\": \"UniProt query\", \"citation\": {\"namespace\": \"pubmed\", \"identifier\": \"UniProt database\"}, \"source\": 76, \"target\": 202, \"key\": \"43a76f6d75a5fd8b8824a5ed63717ad4\"}, {\"relation\": \"association\", \"evidence\": \"UniProt query\", \"citation\": {\"namespace\": \"pubmed\", \"identifier\": \"UniProt database\"}, \"source\": 190, \"target\": 56, \"key\": \"b9d094028b76593b2cf7f72e414993f3\"}, {\"relation\": \"association\", \"evidence\": \"UniProt query\", \"citation\": {\"namespace\": \"pubmed\", \"identifier\": \"UniProt database\"}, \"source\": 190, \"target\": 60, \"key\": \"f9230988fa28df54aa74908179881f95\"}, {\"relation\": \"association\", \"evidence\": \"UniProt query\", \"citation\": {\"namespace\": \"pubmed\", \"identifier\": \"UniProt database\"}, \"source\": 184, \"target\": 87, \"key\": \"b7c2f35ee8959ec6112d829a7c2f7a5b\"}, {\"relation\": \"association\", \"evidence\": \"UniProt query\", \"citation\": {\"namespace\": \"pubmed\", \"identifier\": \"UniProt database\"}, \"source\": 184, \"target\": 7, \"key\": \"1ef90518feac144de401b230292314ae\"}, {\"relation\": \"association\", \"evidence\": \"UniProt query\", \"citation\": {\"namespace\": \"pubmed\", \"identifier\": \"UniProt database\"}, \"source\": 184, \"target\": 8, \"key\": \"6a74def778aff7e257fd25a2763b9a25\"}, {\"relation\": \"association\", \"evidence\": \"UniProt query\", \"citation\": {\"namespace\": \"pubmed\", \"identifier\": \"UniProt database\"}, \"source\": 153, \"target\": 61, \"key\": \"51528ede686ed6b1d4b50e52f5dd9457\"}, {\"relation\": \"association\", \"evidence\": \"UniProt query\", \"citation\": {\"namespace\": \"pubmed\", \"identifier\": \"UniProt database\"}, \"source\": 175, \"target\": 95, \"key\": \"2bf2b02b840c0d9f7ce7047abb97903e\"}, {\"relation\": \"association\", \"evidence\": \"UniProt query\", \"citation\": {\"namespace\": \"pubmed\", \"identifier\": \"UniProt database\"}, \"source\": 175, \"target\": 81, \"key\": \"39125b0f0a8f49db0cf4873c5f258ec6\"}, {\"relation\": \"association\", \"evidence\": \"UniProt query\", \"citation\": {\"namespace\": \"pubmed\", \"identifier\": \"UniProt database\"}, \"source\": 151, \"target\": 31, \"key\": \"114ee432c282481707538655c9faac0d\"}, {\"relation\": \"association\", \"evidence\": \"UniProt query\", \"citation\": {\"namespace\": \"pubmed\", \"identifier\": \"UniProt database\"}, \"source\": 151, \"target\": 88, \"key\": \"d9c345b7b3d4134af1705eaf3658f437\"}, {\"relation\": \"association\", \"evidence\": \"UniProt query\", \"citation\": {\"namespace\": \"pubmed\", \"identifier\": \"UniProt database\"}, \"source\": 15, \"target\": 163, \"key\": \"8b13243328b48d08c30df98a27e6bf20\"}, {\"relation\": \"association\", \"evidence\": \"UniProt query\", \"citation\": {\"namespace\": \"pubmed\", \"identifier\": \"UniProt database\"}, \"source\": 31, \"target\": 188, \"key\": \"c3c09767a455f6dfb62809e03bc07fc4\"}, {\"relation\": \"association\", \"evidence\": \"UniProt query\", \"citation\": {\"namespace\": \"pubmed\", \"identifier\": \"UniProt database\"}, \"source\": 31, \"target\": 178, \"key\": \"176ca4314dd5c5a36790cc73b03c6b0c\"}, {\"relation\": \"association\", \"evidence\": \"UniProt query\", \"citation\": {\"namespace\": \"pubmed\", \"identifier\": \"UniProt database\"}, \"source\": 31, \"target\": 161, \"key\": \"ad1254d7b0e8ac95c8ee1aedde6aa880\"}, {\"relation\": \"association\", \"evidence\": \"UniProt query\", \"citation\": {\"namespace\": \"pubmed\", \"identifier\": \"UniProt database\"}, \"source\": 5, \"target\": 164, \"key\": \"98637aeeb17ce000c8aeb8ae382d4566\"}, {\"relation\": \"association\", \"evidence\": \"UniProt query\", \"citation\": {\"namespace\": \"pubmed\", \"identifier\": \"UniProt database\"}, \"source\": 5, \"target\": 107, \"key\": \"0d1ebef8c649feebdf2d51cf62f5811b\"}, {\"relation\": \"association\", \"evidence\": \"UniProt query\", \"citation\": {\"namespace\": \"pubmed\", \"identifier\": \"UniProt database\"}, \"source\": 188, \"target\": 59, \"key\": \"e6b5d5fb93acb92dc61a4a2673afc1ff\"}, {\"relation\": \"association\", \"evidence\": \"UniProt query\", \"citation\": {\"namespace\": \"pubmed\", \"identifier\": \"UniProt database\"}, \"source\": 188, \"target\": 10, \"key\": \"e8e23f7a98b1bc27cca070d026299edf\"}, {\"relation\": \"association\", \"evidence\": \"UniProt query\", \"citation\": {\"namespace\": \"pubmed\", \"identifier\": \"UniProt database\"}, \"source\": 95, \"target\": 175, \"key\": \"101d8a1beaf378da70f5fe6b63736840\"}, {\"relation\": \"association\", \"evidence\": \"UniProt query\", \"citation\": {\"namespace\": \"pubmed\", \"identifier\": \"UniProt database\"}, \"source\": 95, \"target\": 187, \"key\": \"468dca9379ed4281b9efd2053ba6fa02\"}, {\"relation\": \"association\", \"evidence\": \"UniProt query\", \"citation\": {\"namespace\": \"pubmed\", \"identifier\": \"UniProt database\"}, \"source\": 192, \"target\": 27, \"key\": \"5257a5e9658904499fe12e7fbe2af0cf\"}, {\"relation\": \"association\", \"evidence\": \"UniProt query\", \"citation\": {\"namespace\": \"pubmed\", \"identifier\": \"UniProt database\"}, \"source\": 192, \"target\": 79, \"key\": \"8d32a00371b59f9a3ed0aa5d5a6c530f\"}, {\"relation\": \"association\", \"evidence\": \"UniProt query\", \"citation\": {\"namespace\": \"pubmed\", \"identifier\": \"UniProt database\"}, \"source\": 192, \"target\": 30, \"key\": \"1e50d5ac9f9efc6c0b88c8aefcbff5b6\"}, {\"relation\": \"association\", \"evidence\": \"UniProt query\", \"citation\": {\"namespace\": \"pubmed\", \"identifier\": \"UniProt database\"}, \"source\": 170, \"target\": 27, \"key\": \"f55923f0c69baa59704be1d5ea129898\"}, {\"relation\": \"association\", \"evidence\": \"UniProt query\", \"citation\": {\"namespace\": \"pubmed\", \"identifier\": \"UniProt database\"}, \"source\": 57, \"target\": 104, \"key\": \"0d33bae8748dbf01d22aa2c62bc33533\"}, {\"relation\": \"association\", \"evidence\": \"UniProt query\", \"citation\": {\"namespace\": \"pubmed\", \"identifier\": \"UniProt database\"}, \"source\": 77, \"target\": 116, \"key\": \"95d4be354445f26c53253d201ba0cae2\"}, {\"relation\": \"association\", \"evidence\": \"UniProt query\", \"citation\": {\"namespace\": \"pubmed\", \"identifier\": \"UniProt database\"}, \"source\": 52, \"target\": 109, \"key\": \"63249978c60f038c3d493bcd28a219f9\"}, {\"relation\": \"association\", \"evidence\": \"UniProt query\", \"citation\": {\"namespace\": \"pubmed\", \"identifier\": \"UniProt database\"}, \"source\": 52, \"target\": 106, \"key\": \"fcbb2e22ac419c8e71a3e6f98191cc49\"}, {\"relation\": \"association\", \"evidence\": \"UniProt query\", \"citation\": {\"namespace\": \"pubmed\", \"identifier\": \"UniProt database\"}, \"source\": 58, \"target\": 128, \"key\": \"8ac8c0d7a43e260de2eac2d69b70799f\"}, {\"relation\": \"association\", \"evidence\": \"UniProt query\", \"citation\": {\"namespace\": \"pubmed\", \"identifier\": \"UniProt database\"}, \"source\": 58, \"target\": 186, \"key\": \"2a578128944b2b516f9275b59843255f\"}, {\"relation\": \"association\", \"evidence\": \"UniProt query\", \"citation\": {\"namespace\": \"pubmed\", \"identifier\": \"UniProt database\"}, \"source\": 105, \"target\": 9, \"key\": \"442bedcd6d2518f6cbf0ab0ba002a93d\"}, {\"relation\": \"association\", \"evidence\": \"UniProt query\", \"citation\": {\"namespace\": \"pubmed\", \"identifier\": \"UniProt database\"}, \"source\": 105, \"target\": 20, \"key\": \"d2fe573b95a307b7deeabde04afe39e9\"}, {\"relation\": \"association\", \"evidence\": \"UniProt query\", \"citation\": {\"namespace\": \"pubmed\", \"identifier\": \"UniProt database\"}, \"source\": 105, \"target\": 53, \"key\": \"1ef0a9c8d889f8b9662099c68c243673\"}, {\"relation\": \"association\", \"evidence\": \"UniProt query\", \"citation\": {\"namespace\": \"pubmed\", \"identifier\": \"UniProt database\"}, \"source\": 182, \"target\": 26, \"key\": \"ac0a7b41e4efa1ea2ec4c11bfe851cc0\"}, {\"relation\": \"association\", \"evidence\": \"UniProt query\", \"citation\": {\"namespace\": \"pubmed\", \"identifier\": \"UniProt database\"}, \"source\": 182, \"target\": 43, \"key\": \"203964611a638008cd2dcac30f7d6371\"}, {\"relation\": \"association\", \"evidence\": \"UniProt query\", \"citation\": {\"namespace\": \"pubmed\", \"identifier\": \"UniProt database\"}, \"source\": 134, \"target\": 36, \"key\": \"387081e6abca14c19bdc8ef3413e44cc\"}, {\"relation\": \"association\", \"evidence\": \"UniProt query\", \"citation\": {\"namespace\": \"pubmed\", \"identifier\": \"UniProt database\"}, \"source\": 134, \"target\": 70, \"key\": \"c3d1235e54f508ea843d67ec5db79b31\"}, {\"relation\": \"association\", \"evidence\": \"UniProt query\", \"citation\": {\"namespace\": \"pubmed\", \"identifier\": \"UniProt database\"}, \"source\": 134, \"target\": 41, \"key\": \"45400930f7e3919d180fe9d616a8eced\"}, {\"relation\": \"association\", \"evidence\": \"UniProt query\", \"citation\": {\"namespace\": \"pubmed\", \"identifier\": \"UniProt database\"}, \"source\": 123, \"target\": 79, \"key\": \"2602ea22e4ee7f7f8fd0b566c00b1298\"}, {\"relation\": \"association\", \"evidence\": \"UniProt query\", \"citation\": {\"namespace\": \"pubmed\", \"identifier\": \"UniProt database\"}, \"source\": 123, \"target\": 76, \"key\": \"512dfd4e52e0492a3bf54ca516ddf72c\"}, {\"relation\": \"association\", \"evidence\": \"UniProt query\", \"citation\": {\"namespace\": \"pubmed\", \"identifier\": \"UniProt database\"}, \"source\": 109, \"target\": 19, \"key\": \"aa0a738d81e6b34729fa6c805f525018\"}, {\"relation\": \"association\", \"evidence\": \"UniProt query\", \"citation\": {\"namespace\": \"pubmed\", \"identifier\": \"UniProt database\"}, \"source\": 163, \"target\": 55, \"key\": \"1f1f4d820921337e6cda9530599e90cc\"}, {\"relation\": \"association\", \"evidence\": \"UniProt query\", \"citation\": {\"namespace\": \"pubmed\", \"identifier\": \"UniProt database\"}, \"source\": 155, \"target\": 29, \"key\": \"16864e4f96773765042f501f35bc5fb1\"}, {\"relation\": \"association\", \"evidence\": \"UniProt query\", \"citation\": {\"namespace\": \"pubmed\", \"identifier\": \"UniProt database\"}, \"source\": 81, \"target\": 185, \"key\": \"7557053bf1a7ce7d7ad7278a96f28beb\"}, {\"relation\": \"association\", \"evidence\": \"UniProt query\", \"citation\": {\"namespace\": \"pubmed\", \"identifier\": \"UniProt database\"}, \"source\": 81, \"target\": 132, \"key\": \"2dff1d1ff4d8dc10f83b7d56b24b5aa6\"}, {\"relation\": \"association\", \"evidence\": \"UniProt query\", \"citation\": {\"namespace\": \"pubmed\", \"identifier\": \"UniProt database\"}, \"source\": 164, \"target\": 71, \"key\": \"a7751222ffd9030960f5da3f8a61c18b\"}, {\"relation\": \"association\", \"evidence\": \"UniProt query\", \"citation\": {\"namespace\": \"pubmed\", \"identifier\": \"UniProt database\"}, \"source\": 178, \"target\": 96, \"key\": \"0135b2a3040e2c5360bfd52cbda2308d\"}, {\"relation\": \"association\", \"evidence\": \"UniProt query\", \"citation\": {\"namespace\": \"pubmed\", \"identifier\": \"UniProt database\"}, \"source\": 178, \"target\": 18, \"key\": \"d3477c146b5eb05f48acaf6f9ebc3e34\"}, {\"relation\": \"association\", \"evidence\": \"UniProt query\", \"citation\": {\"namespace\": \"pubmed\", \"identifier\": \"UniProt database\"}, \"source\": 64, \"target\": 106, \"key\": \"73eba1462918ad5e3c46b47d5d45a9bf\"}, {\"relation\": \"association\", \"evidence\": \"UniProt query\", \"citation\": {\"namespace\": \"pubmed\", \"identifier\": \"UniProt database\"}, \"source\": 118, \"target\": 91, \"key\": \"36d51c47374de0588ebc24b0c8442bbb\"}, {\"relation\": \"association\", \"evidence\": \"UniProt query\", \"citation\": {\"namespace\": \"pubmed\", \"identifier\": \"UniProt database\"}, \"source\": 169, \"target\": 38, \"key\": \"0efc6721433ae657fb334806d3035946\"}, {\"relation\": \"association\", \"evidence\": \"UniProt query\", \"citation\": {\"namespace\": \"pubmed\", \"identifier\": \"UniProt database\"}, \"source\": 169, \"target\": 24, \"key\": \"f222c57717bc128a0dfa115b907ab63b\"}, {\"relation\": \"association\", \"evidence\": \"UniProt query\", \"citation\": {\"namespace\": \"pubmed\", \"identifier\": \"UniProt database\"}, \"source\": 169, \"target\": 85, \"key\": \"fe6c1413687738d309f60d286aa47b04\"}, {\"relation\": \"association\", \"evidence\": \"UniProt query\", \"citation\": {\"namespace\": \"pubmed\", \"identifier\": \"UniProt database\"}, \"source\": 59, \"target\": 160, \"key\": \"7542a137c8c4f53e486a9a9f4b1c497e\"}, {\"relation\": \"association\", \"evidence\": \"UniProt query\", \"citation\": {\"namespace\": \"pubmed\", \"identifier\": \"UniProt database\"}, \"source\": 59, \"target\": 149, \"key\": \"abbcc76ea4c86203c9f0cae2827d1dbc\"}, {\"relation\": \"association\", \"evidence\": \"UniProt query\", \"citation\": {\"namespace\": \"pubmed\", \"identifier\": \"UniProt database\"}, \"source\": 90, \"target\": 167, \"key\": \"8d279c969b4aac58e21c833933a62ba5\"}, {\"relation\": \"association\", \"evidence\": \"UniProt query\", \"citation\": {\"namespace\": \"pubmed\", \"identifier\": \"UniProt database\"}, \"source\": 90, \"target\": 168, \"key\": \"c287029aaa879353cd6983b0513c4f0c\"}, {\"relation\": \"association\", \"evidence\": \"UniProt query\", \"citation\": {\"namespace\": \"pubmed\", \"identifier\": \"UniProt database\"}, \"source\": 29, \"target\": 117, \"key\": \"2ea4b64e40a9df3933721736182fe5c7\"}, {\"relation\": \"association\", \"evidence\": \"UniProt query\", \"citation\": {\"namespace\": \"pubmed\", \"identifier\": \"UniProt database\"}, \"source\": 87, \"target\": 103, \"key\": \"8dfef056044cdb60efcdaca48b2e744d\"}, {\"relation\": \"association\", \"evidence\": \"UniProt query\", \"citation\": {\"namespace\": \"pubmed\", \"identifier\": \"UniProt database\"}, \"source\": 27, \"target\": 146, \"key\": \"73554c84462c0348c0dee270a1850d65\"}, {\"relation\": \"association\", \"evidence\": \"UniProt query\", \"citation\": {\"namespace\": \"pubmed\", \"identifier\": \"UniProt database\"}, \"source\": 92, \"target\": 113, \"key\": \"da3b73c80b6c7442709985ad9d4add3a\"}, {\"relation\": \"association\", \"evidence\": \"UniProt query\", \"citation\": {\"namespace\": \"pubmed\", \"identifier\": \"UniProt database\"}, \"source\": 129, \"target\": 98, \"key\": \"09ca41e3e6b516fe4da4a53701244a2a\"}, {\"relation\": \"association\", \"evidence\": \"UniProt query\", \"citation\": {\"namespace\": \"pubmed\", \"identifier\": \"UniProt database\"}, \"source\": 26, \"target\": 182, \"key\": \"ab745b5ddab2ee4621643ec7d2ef606d\"}, {\"relation\": \"association\", \"evidence\": \"UniProt query\", \"citation\": {\"namespace\": \"pubmed\", \"identifier\": \"UniProt database\"}, \"source\": 26, \"target\": 181, \"key\": \"a5c1966f3c02d998860388828a7e581b\"}, {\"relation\": \"association\", \"evidence\": \"UniProt query\", \"citation\": {\"namespace\": \"pubmed\", \"identifier\": \"UniProt database\"}, \"source\": 26, \"target\": 183, \"key\": \"40c2c25d75c84582358073da670e7f2c\"}, {\"relation\": \"association\", \"evidence\": \"UniProt query\", \"citation\": {\"namespace\": \"pubmed\", \"identifier\": \"UniProt database\"}, \"source\": 79, \"target\": 138, \"key\": \"58fd12c062368fed66b89b9e24fa70e6\"}, {\"relation\": \"association\", \"evidence\": \"UniProt query\", \"citation\": {\"namespace\": \"pubmed\", \"identifier\": \"UniProt database\"}, \"source\": 79, \"target\": 126, \"key\": \"34e75d3695154b56b6f28e7bd4a3b29e\"}, {\"relation\": \"association\", \"evidence\": \"UniProt query\", \"citation\": {\"namespace\": \"pubmed\", \"identifier\": \"UniProt database\"}, \"source\": 96, \"target\": 178, \"key\": \"087dd5d20227c3192aa10c76d5b4285c\"}, {\"relation\": \"association\", \"evidence\": \"UniProt query\", \"citation\": {\"namespace\": \"pubmed\", \"identifier\": \"UniProt database\"}, \"source\": 40, \"target\": 140, \"key\": \"a212f7e03edf7da966d3f796c43acfb7\"}, {\"relation\": \"association\", \"evidence\": \"UniProt query\", \"citation\": {\"namespace\": \"pubmed\", \"identifier\": \"UniProt database\"}, \"source\": 7, \"target\": 184, \"key\": \"1bae54e4d3989e406e5c8d91e6b1fdd4\"}, {\"relation\": \"association\", \"evidence\": \"UniProt query\", \"citation\": {\"namespace\": \"pubmed\", \"identifier\": \"UniProt database\"}, \"source\": 71, \"target\": 137, \"key\": \"6b4ce8dca8b790de3c24d1902aba4223\"}, {\"relation\": \"association\", \"evidence\": \"UniProt query\", \"citation\": {\"namespace\": \"pubmed\", \"identifier\": \"UniProt database\"}, \"source\": 71, \"target\": 164, \"key\": \"cb240346f56f1e2d3bd5bd1c0acf4b2f\"}, {\"relation\": \"association\", \"evidence\": \"UniProt query\", \"citation\": {\"namespace\": \"pubmed\", \"identifier\": \"UniProt database\"}, \"source\": 19, \"target\": 109, \"key\": \"12bb17993089b90935dd0e4b149f5f2d\"}, {\"relation\": \"association\", \"evidence\": \"UniProt query\", \"citation\": {\"namespace\": \"pubmed\", \"identifier\": \"UniProt database\"}, \"source\": 69, \"target\": 193, \"key\": \"ec1998bdb5e832ba718037901ccd302c\"}, {\"relation\": \"association\", \"evidence\": \"UniProt query\", \"citation\": {\"namespace\": \"pubmed\", \"identifier\": \"UniProt database\"}, \"source\": 112, \"target\": 86, \"key\": \"f7fa46e2a4b4da64c5ac758a59536835\"}, {\"relation\": \"association\", \"evidence\": \"UniProt query\", \"citation\": {\"namespace\": \"pubmed\", \"identifier\": \"UniProt database\"}, \"source\": 18, \"target\": 136, \"key\": \"449518ad32b8e9111f5965c781c5905d\"}, {\"relation\": \"association\", \"evidence\": \"UniProt query\", \"citation\": {\"namespace\": \"pubmed\", \"identifier\": \"UniProt database\"}, \"source\": 18, \"target\": 177, \"key\": \"d84047d33146092123c370ccb409785a\"}, {\"relation\": \"association\", \"evidence\": \"UniProt query\", \"citation\": {\"namespace\": \"pubmed\", \"identifier\": \"UniProt database\"}, \"source\": 156, \"target\": 99, \"key\": \"5b18369d1fd1ecae3288dbb5bc42748e\"}, {\"relation\": \"association\", \"evidence\": \"UniProt query\", \"citation\": {\"namespace\": \"pubmed\", \"identifier\": \"UniProt database\"}, \"source\": 156, \"target\": 6, \"key\": \"af803c70d00ac7f586064c5af71d4afa\"}, {\"relation\": \"association\", \"evidence\": \"UniProt query\", \"citation\": {\"namespace\": \"pubmed\", \"identifier\": \"UniProt database\"}, \"source\": 38, \"target\": 169, \"key\": \"45beb4b0b2529072491e957d46432118\"}, {\"relation\": \"association\", \"evidence\": \"UniProt query\", \"citation\": {\"namespace\": \"pubmed\", \"identifier\": \"UniProt database\"}, \"source\": 86, \"target\": 147, \"key\": \"6f8fc0837800d922be7d96be5a49f734\"}, {\"relation\": \"association\", \"evidence\": \"UniProt query\", \"citation\": {\"namespace\": \"pubmed\", \"identifier\": \"UniProt database\"}, \"source\": 24, \"target\": 142, \"key\": \"b89d25b8bc3ed20947a666448e05fd58\"}, {\"relation\": \"association\", \"evidence\": \"UniProt query\", \"citation\": {\"namespace\": \"pubmed\", \"identifier\": \"UniProt database\"}, \"source\": 147, \"target\": 16, \"key\": \"70addfa75af3bea6f92ba4c47ff78519\"}, {\"relation\": \"association\", \"evidence\": \"UniProt query\", \"citation\": {\"namespace\": \"pubmed\", \"identifier\": \"UniProt database\"}, \"source\": 147, \"target\": 83, \"key\": \"4f6ed964ec6026cd5c3d474fe35c00ca\"}, {\"relation\": \"association\", \"evidence\": \"UniProt query\", \"citation\": {\"namespace\": \"pubmed\", \"identifier\": \"UniProt database\"}, \"source\": 130, \"target\": 72, \"key\": \"f5be6324f1ce7d78662a7fe94e5697e4\"}, {\"relation\": \"association\", \"evidence\": \"UniProt query\", \"citation\": {\"namespace\": \"pubmed\", \"identifier\": \"UniProt database\"}, \"source\": 136, \"target\": 34, \"key\": \"1e15154961246d808dd79e85fcbe296e\"}, {\"relation\": \"association\", \"evidence\": \"UniProt query\", \"citation\": {\"namespace\": \"pubmed\", \"identifier\": \"UniProt database\"}, \"source\": 136, \"target\": 22, \"key\": \"ad5ff66e24800c3cf93f0f7eddbdd985\"}, {\"relation\": \"association\", \"evidence\": \"UniProt query\", \"citation\": {\"namespace\": \"pubmed\", \"identifier\": \"UniProt database\"}, \"source\": 88, \"target\": 124, \"key\": \"4e92b4b86e5614d40fb29ba4cfc40152\"}, {\"relation\": \"association\", \"evidence\": \"UniProt query\", \"citation\": {\"namespace\": \"pubmed\", \"identifier\": \"UniProt database\"}, \"source\": 99, \"target\": 200, \"key\": \"2f81acb6c80e400ec5b286f9c749a803\"}, {\"relation\": \"association\", \"evidence\": \"UniProt query\", \"citation\": {\"namespace\": \"pubmed\", \"identifier\": \"UniProt database\"}, \"source\": 113, \"target\": 39, \"key\": \"e52ee10ba3d7a82c2b02de189a966738\"}, {\"relation\": \"association\", \"evidence\": \"UniProt query\", \"citation\": {\"namespace\": \"pubmed\", \"identifier\": \"UniProt database\"}, \"source\": 177, \"target\": 82, \"key\": \"71d50d56bd1ee8d04dae8b18a7a1cd48\"}, {\"relation\": \"association\", \"evidence\": \"ChEMBL query\", \"citation\": {\"namespace\": \"pubmed\", \"identifier\": \"ChEMBL database\"}, \"source\": 1, \"target\": 102, \"key\": \"9b5adcdddc5dfb35f55302a1b11a5460\"}, {\"relation\": \"association\", \"evidence\": \"UniProt query\", \"citation\": {\"namespace\": \"pubmed\", \"identifier\": \"UniProt database\"}, \"source\": 98, \"target\": 196, \"key\": \"555fa88007cf5d7d79a324bb647d53e0\"}, {\"relation\": \"association\", \"evidence\": \"UniProt query\", \"citation\": {\"namespace\": \"pubmed\", \"identifier\": \"UniProt database\"}, \"source\": 6, \"target\": 119, \"key\": \"5e135b47aa71537acb194394007925fe\"}, {\"relation\": \"association\", \"evidence\": \"UniProt query\", \"citation\": {\"namespace\": \"pubmed\", \"identifier\": \"UniProt database\"}, \"source\": 6, \"target\": 191, \"key\": \"39b845d069d2661692a51c51fac19ade\"}, {\"relation\": \"association\", \"evidence\": \"UniProt query\", \"citation\": {\"namespace\": \"pubmed\", \"identifier\": \"UniProt database\"}, \"source\": 8, \"target\": 110, \"key\": \"7fa7314815d2a28a7fac25ba282b0d12\"}, {\"relation\": \"association\", \"evidence\": \"UniProt query\", \"citation\": {\"namespace\": \"pubmed\", \"identifier\": \"UniProt database\"}, \"source\": 16, \"target\": 189, \"key\": \"4ee18a626275a2397d215dacbedc82a8\"}, {\"relation\": \"association\", \"evidence\": \"UniProt query\", \"citation\": {\"namespace\": \"pubmed\", \"identifier\": \"UniProt database\"}, \"source\": 55, \"target\": 163, \"key\": \"7887da77847f1003aa82e2008a7ea704\"}, {\"relation\": \"association\", \"evidence\": \"UniProt query\", \"citation\": {\"namespace\": \"pubmed\", \"identifier\": \"UniProt database\"}, \"source\": 11, \"target\": 157, \"key\": \"4ad6a999ab9416b224732e4f026891e1\"}, {\"relation\": \"association\", \"evidence\": \"UniProt query\", \"citation\": {\"namespace\": \"pubmed\", \"identifier\": \"UniProt database\"}, \"source\": 56, \"target\": 190, \"key\": \"db7ee4c188ec9267cf488ead8e5ab779\"}, {\"relation\": \"association\", \"evidence\": \"UniProt query\", \"citation\": {\"namespace\": \"pubmed\", \"identifier\": \"UniProt database\"}, \"source\": 110, \"target\": 44, \"key\": \"7179c46d4be592508da76816f001553d\"}, {\"relation\": \"association\", \"evidence\": \"UniProt query\", \"citation\": {\"namespace\": \"pubmed\", \"identifier\": \"UniProt database\"}, \"source\": 173, \"target\": 63, \"key\": \"2c250dd305d8505d96019abf0817d673\"}, {\"relation\": \"association\", \"evidence\": \"UniProt query\", \"citation\": {\"namespace\": \"pubmed\", \"identifier\": \"UniProt database\"}, \"source\": 60, \"target\": 190, \"key\": \"e56a2d95d305e307eacf74d9aacf3e30\"}, {\"relation\": \"association\", \"evidence\": \"UniProt query\", \"citation\": {\"namespace\": \"pubmed\", \"identifier\": \"UniProt database\"}, \"source\": 187, \"target\": 17, \"key\": \"c67ab86f4907d42ddb1af76da4d67c4c\"}, {\"relation\": \"association\", \"evidence\": \"SNPs for queried disease\", \"citation\": {\"namespace\": \"pubmed\", \"identifier\": \"GWAS Central\"}, \"source\": 122, \"target\": 101, \"key\": \"202bba3ddad420cdf18e8ebd30d89518\"}, {\"relation\": \"association\", \"evidence\": \"UniProt query\", \"citation\": {\"namespace\": \"pubmed\", \"identifier\": \"UniProt database\"}, \"source\": 122, \"target\": 33, \"key\": \"9d63a99425d264702f9124a4378d7165\"}, {\"relation\": \"association\", \"evidence\": \"UniProt query\", \"citation\": {\"namespace\": \"pubmed\", \"identifier\": \"UniProt database\"}, \"source\": 103, \"target\": 87, \"key\": \"218af79ea61a9836a69640b401c157cf\"}, {\"relation\": \"association\", \"evidence\": \"UniProt query\", \"citation\": {\"namespace\": \"pubmed\", \"identifier\": \"UniProt database\"}, \"source\": 103, \"target\": 80, \"key\": \"e9bdac559de4177d68154b6378e1227d\"}, {\"relation\": \"association\", \"evidence\": \"UniProt query\", \"citation\": {\"namespace\": \"pubmed\", \"identifier\": \"UniProt database\"}, \"source\": 124, \"target\": 72, \"key\": \"b14457e613b3b18257ad95f6d5737c61\"}, {\"relation\": \"association\", \"evidence\": \"SNPs for queried disease\", \"citation\": {\"namespace\": \"pubmed\", \"identifier\": \"GWAS Central\"}, \"source\": 101, \"target\": 122, \"key\": \"a451d8b06aec827434d60213f4e6f94f\"}, {\"relation\": \"association\", \"evidence\": \"UniProt query\", \"citation\": {\"namespace\": \"pubmed\", \"identifier\": \"UniProt database\"}, \"source\": 117, \"target\": 54, \"key\": \"2ba91096c6893b8a23f81bb8b0c0b104\"}, {\"relation\": \"association\", \"evidence\": \"UniProt query\", \"citation\": {\"namespace\": \"pubmed\", \"identifier\": \"UniProt database\"}, \"source\": 117, \"target\": 66, \"key\": \"b8e539001d9f2b5115cc15a44709587a\"}, {\"relation\": \"association\", \"evidence\": \"UniProt query\", \"citation\": {\"namespace\": \"pubmed\", \"identifier\": \"UniProt database\"}, \"source\": 142, \"target\": 62, \"key\": \"01bf0a4215636ce04b3573fedb724591\"}, {\"relation\": \"association\", \"evidence\": \"UniProt query\", \"citation\": {\"namespace\": \"pubmed\", \"identifier\": \"UniProt database\"}, \"source\": 48, \"target\": 198, \"key\": \"d51ccf547a8842df2554359696dfc0ed\"}, {\"relation\": \"association\", \"evidence\": \"UniProt query\", \"citation\": {\"namespace\": \"pubmed\", \"identifier\": \"UniProt database\"}, \"source\": 48, \"target\": 180, \"key\": \"bc56a81398e3ed097ad53040d3ded2e2\"}, {\"relation\": \"association\", \"evidence\": \"UniProt query\", \"citation\": {\"namespace\": \"pubmed\", \"identifier\": \"UniProt database\"}, \"source\": 63, \"target\": 166, \"key\": \"01e8201b80d950e60029e4fbbc7d8280\"}, {\"relation\": \"association\", \"evidence\": \"UniProt query\", \"citation\": {\"namespace\": \"pubmed\", \"identifier\": \"UniProt database\"}, \"source\": 63, \"target\": 173, \"key\": \"9fc089e0824849095d23730efb2e4927\"}, {\"relation\": \"association\", \"evidence\": \"UniProt query\", \"citation\": {\"namespace\": \"pubmed\", \"identifier\": \"UniProt database\"}, \"source\": 25, \"target\": 174, \"key\": \"0931c9ad9aab8406c18557a412f02371\"}, {\"relation\": \"association\", \"evidence\": \"UniProt query\", \"citation\": {\"namespace\": \"pubmed\", \"identifier\": \"UniProt database\"}, \"source\": 198, \"target\": 78, \"key\": \"68450151b225bd87bd37e69d38d70eb6\"}, {\"relation\": \"association\", \"evidence\": \"UniProt query\", \"citation\": {\"namespace\": \"pubmed\", \"identifier\": \"UniProt database\"}, \"source\": 160, \"target\": 97, \"key\": \"87ec5ede7e28d33397a1f7daa5c14857\"}, {\"relation\": \"association\", \"evidence\": \"UniProt query\", \"citation\": {\"namespace\": \"pubmed\", \"identifier\": \"UniProt database\"}, \"source\": 36, \"target\": 115, \"key\": \"9c22b9739ea6225d4d3267ade4765cfd\"}, {\"relation\": \"association\", \"evidence\": \"UniProt query\", \"citation\": {\"namespace\": \"pubmed\", \"identifier\": \"UniProt database\"}, \"source\": 17, \"target\": 144, \"key\": \"327a89f518b548b3cadbecca2638039d\"}, {\"relation\": \"association\", \"evidence\": \"UniProt query\", \"citation\": {\"namespace\": \"pubmed\", \"identifier\": \"UniProt database\"}, \"source\": 17, \"target\": 161, \"key\": \"2667e9cf2b783b19ccbacc14283fdc3a\"}, {\"relation\": \"association\", \"evidence\": \"UniProt query\", \"citation\": {\"namespace\": \"pubmed\", \"identifier\": \"UniProt database\"}, \"source\": 167, \"target\": 72, \"key\": \"08cd1bc8514add1868f010ec2a5db734\"}, {\"relation\": \"association\", \"evidence\": \"UniProt query\", \"citation\": {\"namespace\": \"pubmed\", \"identifier\": \"UniProt database\"}, \"source\": 167, \"target\": 67, \"key\": \"1eb3708327fa22b35d4e62d53ce91d07\"}, {\"relation\": \"association\", \"evidence\": \"UniProt query\", \"citation\": {\"namespace\": \"pubmed\", \"identifier\": \"UniProt database\"}, \"source\": 137, \"target\": 71, \"key\": \"c9d3e73414eb5f5cf4ccd2e21f5c6a3d\"}, {\"relation\": \"association\", \"evidence\": \"UniProt query\", \"citation\": {\"namespace\": \"pubmed\", \"identifier\": \"UniProt database\"}, \"source\": 157, \"target\": 93, \"key\": \"2d97bd4c7b488d11f47751c60332eee1\"}, {\"relation\": \"association\", \"evidence\": \"UniProt query\", \"citation\": {\"namespace\": \"pubmed\", \"identifier\": \"UniProt database\"}, \"source\": 157, \"target\": 12, \"key\": \"5b69b6ee21a6b121d0cb684c505889b6\"}, {\"relation\": \"association\", \"evidence\": \"ChEMBL query\", \"citation\": {\"namespace\": \"pubmed\", \"identifier\": \"ChEMBL database\"}, \"source\": 2, \"target\": 102, \"key\": \"556b98ccbdcad44726b6956048f556de\"}, {\"relation\": \"association\", \"evidence\": \"UniProt query\", \"citation\": {\"namespace\": \"pubmed\", \"identifier\": \"UniProt database\"}, \"source\": 93, \"target\": 135, \"key\": \"085e082d31a211adb0e36636929a52c1\"}, {\"relation\": \"association\", \"evidence\": \"UniProt query\", \"citation\": {\"namespace\": \"pubmed\", \"identifier\": \"UniProt database\"}, \"source\": 62, \"target\": 142, \"key\": \"a8446d56ec2dc81b67903dd6763321a9\"}, {\"relation\": \"association\", \"evidence\": \"UniProt query\", \"citation\": {\"namespace\": \"pubmed\", \"identifier\": \"UniProt database\"}, \"source\": 144, \"target\": 45, \"key\": \"88c954c0ec658c0490e373ecb45269e7\"}, {\"relation\": \"association\", \"evidence\": \"UniProt query\", \"citation\": {\"namespace\": \"pubmed\", \"identifier\": \"UniProt database\"}, \"source\": 12, \"target\": 195, \"key\": \"7da6ef1fd4d1c7ccb7457183c68f6e5c\"}, {\"relation\": \"association\", \"evidence\": \"UniProt query\", \"citation\": {\"namespace\": \"pubmed\", \"identifier\": \"UniProt database\"}, \"source\": 78, \"target\": 197, \"key\": \"22e1e9201b0327b25252d434d53986d4\"}, {\"relation\": \"association\", \"evidence\": \"UniProt query\", \"citation\": {\"namespace\": \"pubmed\", \"identifier\": \"UniProt database\"}, \"source\": 135, \"target\": 50, \"key\": \"d5141bd1b7e98fe56b31e16d4738ebd6\"}, {\"relation\": \"association\", \"evidence\": \"UniProt query\", \"citation\": {\"namespace\": \"pubmed\", \"identifier\": \"UniProt database\"}, \"source\": 83, \"target\": 114, \"key\": \"aac2c580c740d9d2eae5369e0163eac0\"}, {\"relation\": \"association\", \"evidence\": \"UniProt query\", \"citation\": {\"namespace\": \"pubmed\", \"identifier\": \"UniProt database\"}, \"source\": 83, \"target\": 147, \"key\": \"a5645c34aaeb969163fa71a53422cf12\"}, {\"relation\": \"association\", \"evidence\": \"UniProt query\", \"citation\": {\"namespace\": \"pubmed\", \"identifier\": \"UniProt database\"}, \"source\": 181, \"target\": 13, \"key\": \"819144a777771d370f024d2d49c67c50\"}, {\"relation\": \"association\", \"evidence\": \"UniProt query\", \"citation\": {\"namespace\": \"pubmed\", \"identifier\": \"UniProt database\"}, \"source\": 10, \"target\": 121, \"key\": \"5d937c909b40d8080548dd7a61034cfe\"}, {\"relation\": \"association\", \"evidence\": \"UniProt query\", \"citation\": {\"namespace\": \"pubmed\", \"identifier\": \"UniProt database\"}, \"source\": 20, \"target\": 105, \"key\": \"aba8dd5299d2c601e869912d580343b7\"}, {\"relation\": \"association\", \"evidence\": \"UniProt query\", \"citation\": {\"namespace\": \"pubmed\", \"identifier\": \"UniProt database\"}, \"source\": 139, \"target\": 74, \"key\": \"0be5d43d2c687d72ee0b20bfaa7224ea\"}, {\"relation\": \"association\", \"evidence\": \"UniProt query\", \"citation\": {\"namespace\": \"pubmed\", \"identifier\": \"UniProt database\"}, \"source\": 159, \"target\": 75, \"key\": \"b5f22d117a708c8018a844c1a38ef5b6\"}, {\"relation\": \"association\", \"evidence\": \"UniProt query\", \"citation\": {\"namespace\": \"pubmed\", \"identifier\": \"UniProt database\"}, \"source\": 75, \"target\": 171, \"key\": \"93e614e5edc534d527a2b44c1803cfbf\"}, {\"relation\": \"association\", \"evidence\": \"UniProt query\", \"citation\": {\"namespace\": \"pubmed\", \"identifier\": \"UniProt database\"}, \"source\": 22, \"target\": 125, \"key\": \"47ff0d299c2f2b8e7e5ad994ee6852a1\"}, {\"relation\": \"association\", \"evidence\": \"UniProt query\", \"citation\": {\"namespace\": \"pubmed\", \"identifier\": \"UniProt database\"}, \"source\": 74, \"target\": 148, \"key\": \"211e81b78e12b00e76e488166dd9bfc5\"}, {\"relation\": \"association\", \"evidence\": \"UniProt query\", \"citation\": {\"namespace\": \"pubmed\", \"identifier\": \"UniProt database\"}, \"source\": 183, \"target\": 26, \"key\": \"f83423c30b0f4a530ba50e6c0b395887\"}, {\"relation\": \"association\", \"evidence\": \"UniProt query\", \"citation\": {\"namespace\": \"pubmed\", \"identifier\": \"UniProt database\"}, \"source\": 125, \"target\": 84, \"key\": \"b0818c93165349652747a870349364f9\"}, {\"relation\": \"association\", \"evidence\": \"UniProt query\", \"citation\": {\"namespace\": \"pubmed\", \"identifier\": \"UniProt database\"}, \"source\": 125, \"target\": 22, \"key\": \"846e9cbf24bd3a9a6ca2b90bc237b7b9\"}, {\"relation\": \"association\", \"evidence\": \"UniProt query\", \"citation\": {\"namespace\": \"pubmed\", \"identifier\": \"UniProt database\"}, \"source\": 44, \"target\": 110, \"key\": \"776ffc90afce6d432018ab293d833dff\"}, {\"relation\": \"association\", \"evidence\": \"UniProt query\", \"citation\": {\"namespace\": \"pubmed\", \"identifier\": \"UniProt database\"}, \"source\": 168, \"target\": 68, \"key\": \"872eea0be045f564d8f4c91bf446da36\"}, {\"relation\": \"association\", \"evidence\": \"UniProt query\", \"citation\": {\"namespace\": \"pubmed\", \"identifier\": \"UniProt database\"}, \"source\": 68, \"target\": 141, \"key\": \"d6345e07b7245fef61330cf6dcf68da4\"}, {\"relation\": \"association\", \"evidence\": \"UniProt query\", \"citation\": {\"namespace\": \"pubmed\", \"identifier\": \"UniProt database\"}, \"source\": 68, \"target\": 168, \"key\": \"30fe6a9d621404325c699251b70fa5ba\"}, {\"relation\": \"association\", \"evidence\": \"UniProt query\", \"citation\": {\"namespace\": \"pubmed\", \"identifier\": \"UniProt database\"}, \"source\": 28, \"target\": 131, \"key\": \"49d9eff59e32ac16f9132e7a3bbc31fa\"}, {\"relation\": \"association\", \"evidence\": \"UniProt query\", \"citation\": {\"namespace\": \"pubmed\", \"identifier\": \"UniProt database\"}, \"source\": 84, \"target\": 199, \"key\": \"c97492f57798e12954e2a275e08c1d91\"}, {\"relation\": \"association\", \"evidence\": \"UniProt query\", \"citation\": {\"namespace\": \"pubmed\", \"identifier\": \"UniProt database\"}, \"source\": 199, \"target\": 73, \"key\": \"97a0d7d264cc064da7ce522efa1129cc\"}]}, \"#jerxsahytpokmugv\", 1000, 650, {'Protein': '#1F77B4', 'Pathology': '#FF7F0E', 'BiologicalProcess': '#2CA02C', 'miRNA': '#D62728', 'Complex': '#98DF8A', 'Composite': '#9467BD', 'Reaction': '#000000', 'Gene': '#FFBB78', 'Abundance': '#AEC7E8', 'RNA': '#FF9896'});\n",
       "});"
      ],
      "text/plain": [
       "<IPython.core.display.Javascript object>"
      ]
     },
     "execution_count": 24,
     "metadata": {},
     "output_type": "execute_result"
    }
   ],
   "source": [
    "#a random network of 250 edges\n",
    "to_jupyter(pybel.struct.mutation.induction.get_random_subgraph(ad))"
   ]
  },
  {
   "cell_type": "code",
   "execution_count": null,
   "id": "5b92e104",
   "metadata": {},
   "outputs": [],
   "source": []
  }
 ],
 "metadata": {
  "kernelspec": {
   "display_name": "Python 3 (ipykernel)",
   "language": "python",
   "name": "python3"
  },
  "language_info": {
   "codemirror_mode": {
    "name": "ipython",
    "version": 3
   },
   "file_extension": ".py",
   "mimetype": "text/x-python",
   "name": "python",
   "nbconvert_exporter": "python",
   "pygments_lexer": "ipython3",
   "version": "3.9.18"
  }
 },
 "nbformat": 4,
 "nbformat_minor": 5
}
