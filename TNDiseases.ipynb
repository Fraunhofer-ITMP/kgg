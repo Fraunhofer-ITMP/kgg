{
 "cells": [
  {
   "cell_type": "code",
   "execution_count": 40,
   "id": "46d1fc87",
   "metadata": {},
   "outputs": [],
   "source": [
    "from utils import *\n",
    "#from kg_gen_4_onlyProts import *\n",
    "\n",
    "from kg_gen_3 import *\n",
    "\n",
    "from IPython.display import Markdown, display"
   ]
  },
  {
   "cell_type": "code",
   "execution_count": 41,
   "id": "853b7d66",
   "metadata": {},
   "outputs": [],
   "source": [
    "data = pd.read_excel('data/kgs/test/NTDs list 2.xlsx',sheet_name='Molecules list')"
   ]
  },
  {
   "cell_type": "code",
   "execution_count": 42,
   "id": "0890c00a",
   "metadata": {},
   "outputs": [
    {
     "data": {
      "text/html": [
       "<div>\n",
       "<style scoped>\n",
       "    .dataframe tbody tr th:only-of-type {\n",
       "        vertical-align: middle;\n",
       "    }\n",
       "\n",
       "    .dataframe tbody tr th {\n",
       "        vertical-align: top;\n",
       "    }\n",
       "\n",
       "    .dataframe thead th {\n",
       "        text-align: right;\n",
       "    }\n",
       "</style>\n",
       "<table border=\"1\" class=\"dataframe\">\n",
       "  <thead>\n",
       "    <tr style=\"text-align: right;\">\n",
       "      <th></th>\n",
       "      <th>drug\\n</th>\n",
       "      <th>MW</th>\n",
       "      <th>Target ID</th>\n",
       "      <th>Target</th>\n",
       "      <th>ID</th>\n",
       "      <th>Off-target prediction 90%</th>\n",
       "      <th>ALogP</th>\n",
       "      <th>#Rotatable Bonds:</th>\n",
       "      <th>Polar Surface Area (A*2):</th>\n",
       "      <th>HBA (Lipinski):</th>\n",
       "      <th>HBD (Lipinski):</th>\n",
       "      <th>Heavy Atoms</th>\n",
       "      <th>WARNING TOX</th>\n",
       "    </tr>\n",
       "  </thead>\n",
       "  <tbody>\n",
       "    <tr>\n",
       "      <th>0</th>\n",
       "      <td>Streptomicyn</td>\n",
       "      <td>581.58</td>\n",
       "      <td>CHEMBL2363135</td>\n",
       "      <td>Bacterial 70S ribosome inhibitor</td>\n",
       "      <td>CHEMBL1907604</td>\n",
       "      <td>Glutamate NMDA receptor; GRIN1/GRIN2A</td>\n",
       "      <td>-8.16</td>\n",
       "      <td>9.0</td>\n",
       "      <td>336.43</td>\n",
       "      <td>19.0</td>\n",
       "      <td>16.0</td>\n",
       "      <td>40.0</td>\n",
       "      <td>NaN</td>\n",
       "    </tr>\n",
       "    <tr>\n",
       "      <th>1</th>\n",
       "      <td>CHEMBL372795\\n\\n</td>\n",
       "      <td>NaN</td>\n",
       "      <td>NaN</td>\n",
       "      <td>NaN</td>\n",
       "      <td>CHEMBL5163</td>\n",
       "      <td>Sodium channel protein type III alpha subunit</td>\n",
       "      <td>NaN</td>\n",
       "      <td>NaN</td>\n",
       "      <td>NaN</td>\n",
       "      <td>NaN</td>\n",
       "      <td>NaN</td>\n",
       "      <td>NaN</td>\n",
       "      <td>NaN</td>\n",
       "    </tr>\n",
       "    <tr>\n",
       "      <th>2</th>\n",
       "      <td>NaN</td>\n",
       "      <td>NaN</td>\n",
       "      <td>NaN</td>\n",
       "      <td>NaN</td>\n",
       "      <td>CHEMBL4462</td>\n",
       "      <td>NAD-dependent deacetylase sirtuin 2</td>\n",
       "      <td>NaN</td>\n",
       "      <td>NaN</td>\n",
       "      <td>NaN</td>\n",
       "      <td>NaN</td>\n",
       "      <td>NaN</td>\n",
       "      <td>NaN</td>\n",
       "      <td>NaN</td>\n",
       "    </tr>\n",
       "    <tr>\n",
       "      <th>3</th>\n",
       "      <td>NaN</td>\n",
       "      <td>NaN</td>\n",
       "      <td>NaN</td>\n",
       "      <td>NaN</td>\n",
       "      <td>CHEMBL3632452</td>\n",
       "      <td>Mucosa-associated lymphoid tissue lymphoma tra...</td>\n",
       "      <td>NaN</td>\n",
       "      <td>NaN</td>\n",
       "      <td>NaN</td>\n",
       "      <td>NaN</td>\n",
       "      <td>NaN</td>\n",
       "      <td>NaN</td>\n",
       "      <td>NaN</td>\n",
       "    </tr>\n",
       "    <tr>\n",
       "      <th>4</th>\n",
       "      <td>NaN</td>\n",
       "      <td>NaN</td>\n",
       "      <td>NaN</td>\n",
       "      <td>NaN</td>\n",
       "      <td>CHEMBL3922</td>\n",
       "      <td>Methionine aminopeptidase 2</td>\n",
       "      <td>NaN</td>\n",
       "      <td>NaN</td>\n",
       "      <td>NaN</td>\n",
       "      <td>NaN</td>\n",
       "      <td>NaN</td>\n",
       "      <td>NaN</td>\n",
       "      <td>NaN</td>\n",
       "    </tr>\n",
       "  </tbody>\n",
       "</table>\n",
       "</div>"
      ],
      "text/plain": [
       "             drug\\n      MW      Target ID                            Target  \\\n",
       "0      Streptomicyn  581.58  CHEMBL2363135  Bacterial 70S ribosome inhibitor   \n",
       "1  CHEMBL372795\\n\\n     NaN            NaN                               NaN   \n",
       "2               NaN     NaN            NaN                               NaN   \n",
       "3               NaN     NaN            NaN                               NaN   \n",
       "4               NaN     NaN            NaN                               NaN   \n",
       "\n",
       "              ID                          Off-target prediction 90%  ALogP  \\\n",
       "0  CHEMBL1907604              Glutamate NMDA receptor; GRIN1/GRIN2A  -8.16   \n",
       "1     CHEMBL5163      Sodium channel protein type III alpha subunit    NaN   \n",
       "2     CHEMBL4462                NAD-dependent deacetylase sirtuin 2    NaN   \n",
       "3  CHEMBL3632452  Mucosa-associated lymphoid tissue lymphoma tra...    NaN   \n",
       "4     CHEMBL3922                        Methionine aminopeptidase 2    NaN   \n",
       "\n",
       "   #Rotatable Bonds:  Polar Surface Area (A*2):  HBA (Lipinski):  \\\n",
       "0                9.0                     336.43             19.0   \n",
       "1                NaN                        NaN              NaN   \n",
       "2                NaN                        NaN              NaN   \n",
       "3                NaN                        NaN              NaN   \n",
       "4                NaN                        NaN              NaN   \n",
       "\n",
       "   HBD (Lipinski):  Heavy Atoms WARNING TOX  \n",
       "0             16.0         40.0         NaN  \n",
       "1              NaN          NaN         NaN  \n",
       "2              NaN          NaN         NaN  \n",
       "3              NaN          NaN         NaN  \n",
       "4              NaN          NaN         NaN  "
      ]
     },
     "execution_count": 42,
     "metadata": {},
     "output_type": "execute_result"
    }
   ],
   "source": [
    "data.head(5)"
   ]
  },
  {
   "cell_type": "code",
   "execution_count": 43,
   "id": "20756e56",
   "metadata": {},
   "outputs": [
    {
     "data": {
      "text/plain": [
       "Index(['drug\\n', 'MW', 'Target ID', 'Target', 'ID',\n",
       "       'Off-target prediction 90%', 'ALogP', '#Rotatable Bonds:',\n",
       "       'Polar Surface Area (A*2):', 'HBA (Lipinski):', 'HBD (Lipinski):',\n",
       "       'Heavy Atoms', 'WARNING TOX'],\n",
       "      dtype='object')"
      ]
     },
     "execution_count": 43,
     "metadata": {},
     "output_type": "execute_result"
    }
   ],
   "source": [
    "data.columns"
   ]
  },
  {
   "cell_type": "markdown",
   "id": "5b87c5e1",
   "metadata": {},
   "source": [
    "# Part 1: Working with drugs"
   ]
  },
  {
   "cell_type": "code",
   "execution_count": 44,
   "id": "306e3de9",
   "metadata": {},
   "outputs": [],
   "source": [
    "#get drugs from file, 1st col\n",
    "chembl = list(data['drug\\n'])\n",
    "chembl = [x for x in chembl if 'CHEMBL' in str(x)]\n",
    "chembl = list(map(lambda s: s.strip(), chembl))"
   ]
  },
  {
   "cell_type": "code",
   "execution_count": 45,
   "id": "d1eb0d30",
   "metadata": {},
   "outputs": [
    {
     "data": {
      "application/vnd.jupyter.widget-view+json": {
       "model_id": "e8a38f567b634d0eae1ec7dc9502494a",
       "version_major": 2,
       "version_minor": 0
      },
      "text/plain": [
       "Retrieving bioassays from ChEMBL:   0%|          | 0/29 [00:00<?, ?it/s]"
      ]
     },
     "metadata": {},
     "output_type": "display_data"
    }
   ],
   "source": [
    "#Retrieve active assays (B|F) and target proteins\n",
    "chem2act = RetAct(chembl)"
   ]
  },
  {
   "cell_type": "code",
   "execution_count": 46,
   "id": "68adafaf",
   "metadata": {},
   "outputs": [
    {
     "data": {
      "application/vnd.jupyter.widget-view+json": {
       "model_id": "a33113e1893b49a381efa9d980fbd605",
       "version_major": 2,
       "version_minor": 0
      },
      "text/plain": [
       "Retrieving mechanisms from ChEMBL:   0%|          | 0/29 [00:00<?, ?it/s]"
      ]
     },
     "metadata": {},
     "output_type": "display_data"
    }
   ],
   "source": [
    "#Retrieve mech of actions\n",
    "chem2mech = RetMech(chembl)"
   ]
  },
  {
   "cell_type": "code",
   "execution_count": 48,
   "id": "0a06050c",
   "metadata": {},
   "outputs": [
    {
     "data": {
      "application/vnd.jupyter.widget-view+json": {
       "model_id": "933ca778b7164c4bac78b4e90ae7b515",
       "version_major": 2,
       "version_minor": 0
      },
      "text/plain": [
       "Retrieving diseases from ChEMBL:   0%|          | 0/29 [00:00<?, ?it/s]"
      ]
     },
     "metadata": {},
     "output_type": "display_data"
    }
   ],
   "source": [
    "#Retrieve disease indications\n",
    "chembl2dis = RetDrugInd(chembl)"
   ]
  },
  {
   "cell_type": "code",
   "execution_count": 49,
   "id": "b23086cb",
   "metadata": {},
   "outputs": [],
   "source": [
    "# #not needed\n",
    "# #get proteins from file, cols 'Target ID' & 'ID'\n",
    "\n",
    "# prot = list(data['ID'])\n",
    "# prot = [x for x in prot if str(x) != 'nan']\n",
    "# prot = list(set(prot))\n",
    "\n",
    "# prot2 = list(data['Target ID'])\n",
    "# prot2 = [x for x in prot2 if str(x) != 'nan']\n",
    "# prot2 = [x for x in prot2 if 'CHEMBL' in x]\n",
    "# prot2 = list(set(prot2))\n",
    "\n",
    "# prot = prot + prot2\n",
    "# prot = list(set(prot))"
   ]
  },
  {
   "cell_type": "code",
   "execution_count": 50,
   "id": "cb0bb294",
   "metadata": {},
   "outputs": [
    {
     "data": {
      "text/plain": [
       "25"
      ]
     },
     "execution_count": 50,
     "metadata": {},
     "output_type": "execute_result"
    }
   ],
   "source": [
    "#get proteins from chem2act and chem2mech from above. They have their own set of target proteins\n",
    "\n",
    "prtn_as_chembl = Ret_chembl_protein(chem2act) + Ret_chembl_protein(chem2mech)\n",
    "prtn_as_chembl = list(set(prtn_as_chembl))\n",
    "len(prtn_as_chembl)"
   ]
  },
  {
   "cell_type": "code",
   "execution_count": null,
   "id": "b017fbbb",
   "metadata": {},
   "outputs": [],
   "source": [
    "# #put the prots together\n",
    "# prot = prot + prtn_as_chembl\n",
    "# prot = list(set(prot))\n",
    "# len(prot)"
   ]
  },
  {
   "cell_type": "code",
   "execution_count": 51,
   "id": "0f4d8196",
   "metadata": {},
   "outputs": [
    {
     "data": {
      "application/vnd.jupyter.widget-view+json": {
       "model_id": "b3e547f1feb7448eb371649d0e2b70ca",
       "version_major": 2,
       "version_minor": 0
      },
      "text/plain": [
       "Filtering UniProt proteins from ChEMBL:   0%|          | 0/25 [00:00<?, ?it/s]"
      ]
     },
     "metadata": {},
     "output_type": "display_data"
    },
    {
     "data": {
      "application/vnd.jupyter.widget-view+json": {
       "model_id": "59f77c8b06734beab01075ee7a132646",
       "version_major": 2,
       "version_minor": 0
      },
      "text/plain": [
       "Filtering human proteins from ChEMBL:   0%|          | 0/21 [00:00<?, ?it/s]"
      ]
     },
     "metadata": {},
     "output_type": "display_data"
    },
    {
     "data": {
      "application/vnd.jupyter.widget-view+json": {
       "model_id": "2fe48b7368d64dec944412071d6090a8",
       "version_major": 2,
       "version_minor": 0
      },
      "text/plain": [
       "Populating ChEMBL data for human proteins:   0%|          | 0/16 [00:00<?, ?it/s]"
      ]
     },
     "metadata": {},
     "output_type": "display_data"
    }
   ],
   "source": [
    "#fetch gene symbols for proteins with chembl ids and extend to known pathways they are involved in\n",
    "\n",
    "chembl2uprot = chembl2uniprot(prtn_as_chembl)"
   ]
  },
  {
   "cell_type": "code",
   "execution_count": 52,
   "id": "13b2d4f5",
   "metadata": {},
   "outputs": [],
   "source": [
    "#update chembl protein with gene symbols\n",
    "chembl2act = chembl2gene2path(chembl2uprot, chem2act)\n",
    "chembl2mech = chembl2gene2path(chembl2uprot, chem2mech)"
   ]
  },
  {
   "cell_type": "code",
   "execution_count": 53,
   "id": "9e89ee61",
   "metadata": {},
   "outputs": [
    {
     "data": {
      "application/vnd.jupyter.widget-view+json": {
       "model_id": "0e90f703e1004b3f957fed145ae8cb36",
       "version_major": 2,
       "version_minor": 0
      },
      "text/plain": [
       "Retrieving Adverse Effects for each drug:   0%|          | 0/29 [00:00<?, ?it/s]"
      ]
     },
     "metadata": {},
     "output_type": "display_data"
    }
   ],
   "source": [
    "#Adv effect for drugs\n",
    "advEff = GetAdverseEvents(chembl)"
   ]
  },
  {
   "cell_type": "code",
   "execution_count": 54,
   "id": "2b295a2d",
   "metadata": {},
   "outputs": [
    {
     "data": {
      "application/vnd.jupyter.widget-view+json": {
       "model_id": "e2cb73be5ce54d559f9c51982d77f6d6",
       "version_major": 2,
       "version_minor": 0
      },
      "text/plain": [
       "Retrieving drug warnings for each drug:   0%|          | 0/29 [00:00<?, ?it/s]"
      ]
     },
     "metadata": {},
     "output_type": "display_data"
    }
   ],
   "source": [
    "#Drug warnings for drugs\n",
    "drugWarn = GetDrugWarnings(chembl)"
   ]
  },
  {
   "cell_type": "markdown",
   "id": "5801e763",
   "metadata": {},
   "source": [
    "# Part 2: Working with Proteins"
   ]
  },
  {
   "cell_type": "markdown",
   "id": "6ba338fe",
   "metadata": {},
   "source": [
    "# Using API from https://jcheminf.biomedcentral.com/articles/10.1186/s13321-018-0325-4 integraged in ChEMBL to fetch targeted predictions"
   ]
  },
  {
   "cell_type": "code",
   "execution_count": 55,
   "id": "68c1b95b",
   "metadata": {},
   "outputs": [
    {
     "data": {
      "application/vnd.jupyter.widget-view+json": {
       "model_id": "7ede39a50e06454081d2d82306755daa",
       "version_major": 2,
       "version_minor": 0
      },
      "text/plain": [
       "  0%|          | 0/29 [00:00<?, ?it/s]"
      ]
     },
     "metadata": {},
     "output_type": "display_data"
    }
   ],
   "source": [
    "chem_df = GetSmiles(pd.DataFrame(chembl,columns=['drugId']))"
   ]
  },
  {
   "cell_type": "code",
   "execution_count": 56,
   "id": "db33ae5a",
   "metadata": {},
   "outputs": [
    {
     "data": {
      "application/vnd.jupyter.widget-view+json": {
       "model_id": "3186e59ea33c4b55ba9a23dd4beaf83c",
       "version_major": 2,
       "version_minor": 0
      },
      "text/plain": [
       "  0%|          | 0/29 [00:00<?, ?it/s]"
      ]
     },
     "metadata": {},
     "output_type": "display_data"
    }
   ],
   "source": [
    "#Fetch targeted predictions for drugs from chembl, Threshold: 90%, usecase: NTD\n",
    "\n",
    "final_df = pd.DataFrame()\n",
    "\n",
    "#for smiles in tqdm(chem_df['smiles']):\n",
    "for i in tqdm(range(len(chem_df))):\n",
    "    \n",
    "    headers = {\n",
    "    'Content-Type': 'application/json',\n",
    "    }\n",
    "\n",
    "    json_data = {\n",
    "        'smiles': chem_df['smiles'][i],\n",
    "    }\n",
    "\n",
    "    response = requests.post('https://www.ebi.ac.uk/chembl/target-predictions', headers=headers, json=json_data)\n",
    "    response = response.json()\n",
    "    response = pd.DataFrame(response)\n",
    "    #print(type(response))\n",
    "    #print(response)\n",
    "    \n",
    "    #if not response.emtpy:\n",
    "    response = response[(response['organism']=='Homo sapiens') & (response['90%']=='active')]\n",
    "    response['drugid'] = chem_df['drugId'][i]\n",
    "        \n",
    "    #if not response.emtpy:\n",
    "    final_df = pd.concat([final_df,response])\n",
    "    \n",
    "    "
   ]
  },
  {
   "cell_type": "code",
   "execution_count": 57,
   "id": "ac92042b",
   "metadata": {},
   "outputs": [],
   "source": [
    "final_df.reset_index(drop=True, inplace=True)"
   ]
  },
  {
   "cell_type": "code",
   "execution_count": 58,
   "id": "0bc047ee",
   "metadata": {},
   "outputs": [
    {
     "data": {
      "text/html": [
       "<div>\n",
       "<style scoped>\n",
       "    .dataframe tbody tr th:only-of-type {\n",
       "        vertical-align: middle;\n",
       "    }\n",
       "\n",
       "    .dataframe tbody tr th {\n",
       "        vertical-align: top;\n",
       "    }\n",
       "\n",
       "    .dataframe thead th {\n",
       "        text-align: right;\n",
       "    }\n",
       "</style>\n",
       "<table border=\"1\" class=\"dataframe\">\n",
       "  <thead>\n",
       "    <tr style=\"text-align: right;\">\n",
       "      <th></th>\n",
       "      <th>target_chemblid</th>\n",
       "      <th>organism</th>\n",
       "      <th>pref_name</th>\n",
       "      <th>70%</th>\n",
       "      <th>80%</th>\n",
       "      <th>90%</th>\n",
       "      <th>threshold</th>\n",
       "      <th>drugid</th>\n",
       "    </tr>\n",
       "  </thead>\n",
       "  <tbody>\n",
       "    <tr>\n",
       "      <th>0</th>\n",
       "      <td>CHEMBL5880</td>\n",
       "      <td>Homo sapiens</td>\n",
       "      <td>Interleukin-2</td>\n",
       "      <td>empty</td>\n",
       "      <td>active</td>\n",
       "      <td>active</td>\n",
       "      <td>6.0</td>\n",
       "      <td>CHEMBL847</td>\n",
       "    </tr>\n",
       "    <tr>\n",
       "      <th>1</th>\n",
       "      <td>CHEMBL1825</td>\n",
       "      <td>Homo sapiens</td>\n",
       "      <td>TNF-alpha</td>\n",
       "      <td>active</td>\n",
       "      <td>active</td>\n",
       "      <td>active</td>\n",
       "      <td>6.0</td>\n",
       "      <td>CHEMBL847</td>\n",
       "    </tr>\n",
       "    <tr>\n",
       "      <th>2</th>\n",
       "      <td>CHEMBL3429</td>\n",
       "      <td>Homo sapiens</td>\n",
       "      <td>Estrogen-related receptor alpha</td>\n",
       "      <td>active</td>\n",
       "      <td>active</td>\n",
       "      <td>active</td>\n",
       "      <td>7.0</td>\n",
       "      <td>CHEMBL847</td>\n",
       "    </tr>\n",
       "    <tr>\n",
       "      <th>3</th>\n",
       "      <td>CHEMBL278</td>\n",
       "      <td>Homo sapiens</td>\n",
       "      <td>Integrin alpha-4</td>\n",
       "      <td>empty</td>\n",
       "      <td>empty</td>\n",
       "      <td>active</td>\n",
       "      <td>6.5</td>\n",
       "      <td>CHEMBL847</td>\n",
       "    </tr>\n",
       "    <tr>\n",
       "      <th>4</th>\n",
       "      <td>CHEMBL3922</td>\n",
       "      <td>Homo sapiens</td>\n",
       "      <td>Methionine aminopeptidase 2</td>\n",
       "      <td>active</td>\n",
       "      <td>active</td>\n",
       "      <td>active</td>\n",
       "      <td>6.0</td>\n",
       "      <td>CHEMBL847</td>\n",
       "    </tr>\n",
       "  </tbody>\n",
       "</table>\n",
       "</div>"
      ],
      "text/plain": [
       "  target_chemblid      organism                        pref_name     70%  \\\n",
       "0      CHEMBL5880  Homo sapiens                    Interleukin-2   empty   \n",
       "1      CHEMBL1825  Homo sapiens                        TNF-alpha  active   \n",
       "2      CHEMBL3429  Homo sapiens  Estrogen-related receptor alpha  active   \n",
       "3       CHEMBL278  Homo sapiens                 Integrin alpha-4   empty   \n",
       "4      CHEMBL3922  Homo sapiens      Methionine aminopeptidase 2  active   \n",
       "\n",
       "      80%     90%  threshold     drugid  \n",
       "0  active  active        6.0  CHEMBL847  \n",
       "1  active  active        6.0  CHEMBL847  \n",
       "2  active  active        7.0  CHEMBL847  \n",
       "3   empty  active        6.5  CHEMBL847  \n",
       "4  active  active        6.0  CHEMBL847  "
      ]
     },
     "execution_count": 58,
     "metadata": {},
     "output_type": "execute_result"
    }
   ],
   "source": [
    "final_df.head(5)"
   ]
  },
  {
   "cell_type": "code",
   "execution_count": 59,
   "id": "a0d2afe9",
   "metadata": {},
   "outputs": [
    {
     "data": {
      "application/vnd.jupyter.widget-view+json": {
       "model_id": "c44c39ce4780403ab491e1769b637ad2",
       "version_major": 2,
       "version_minor": 0
      },
      "text/plain": [
       "Filtering UniProt proteins from ChEMBL:   0%|          | 0/115 [00:00<?, ?it/s]"
      ]
     },
     "metadata": {},
     "output_type": "display_data"
    },
    {
     "data": {
      "application/vnd.jupyter.widget-view+json": {
       "model_id": "b1f5b54844014039804ba184b79f4db9",
       "version_major": 2,
       "version_minor": 0
      },
      "text/plain": [
       "Filtering human proteins from ChEMBL:   0%|          | 0/115 [00:00<?, ?it/s]"
      ]
     },
     "metadata": {},
     "output_type": "display_data"
    },
    {
     "data": {
      "application/vnd.jupyter.widget-view+json": {
       "model_id": "c192807bda0e48a38ea1a2c076c0c6f6",
       "version_major": 2,
       "version_minor": 0
      },
      "text/plain": [
       "Populating ChEMBL data for human proteins:   0%|          | 0/115 [00:00<?, ?it/s]"
      ]
     },
     "metadata": {},
     "output_type": "display_data"
    }
   ],
   "source": [
    "#Retrieve proteins and convert to uniprot \n",
    "chem2uni = chembl2uniprot(list(set(final_df['target_chemblid'])))"
   ]
  },
  {
   "cell_type": "code",
   "execution_count": 60,
   "id": "6a9a4686",
   "metadata": {},
   "outputs": [],
   "source": [
    "#temp_df=pd.DataFrame(columns=['target_chemblid','uniprot','symbol'])\n",
    "temp_list = []\n",
    "#temp = []\n",
    "for key in chem2uni:\n",
    "    temp = []\n",
    "\n",
    "    temp.append(key)\n",
    "    temp.append(chem2uni[key][-2]['accession'])\n",
    "    temp.append(chem2uni[key][-1]['component_synonym'])\n",
    "\n",
    "    temp_list.append(temp)\n"
   ]
  },
  {
   "cell_type": "code",
   "execution_count": 61,
   "id": "57701fd6",
   "metadata": {},
   "outputs": [],
   "source": [
    "temp_df = pd.DataFrame(temp_list,columns=['target_chemblid','uniprot','symbol'])"
   ]
  },
  {
   "cell_type": "code",
   "execution_count": 62,
   "id": "70e1c0ee",
   "metadata": {},
   "outputs": [],
   "source": [
    "merge_df = final_df.merge(temp_df[[\"target_chemblid\", \"uniprot\", \"symbol\"]])"
   ]
  },
  {
   "cell_type": "code",
   "execution_count": 63,
   "id": "f62025a0",
   "metadata": {},
   "outputs": [
    {
     "data": {
      "text/plain": [
       "513"
      ]
     },
     "execution_count": 63,
     "metadata": {},
     "output_type": "execute_result"
    }
   ],
   "source": [
    "len(merge_df)"
   ]
  },
  {
   "cell_type": "code",
   "execution_count": 173,
   "id": "6e4d621c",
   "metadata": {},
   "outputs": [
    {
     "data": {
      "text/html": [
       "<div>\n",
       "<style scoped>\n",
       "    .dataframe tbody tr th:only-of-type {\n",
       "        vertical-align: middle;\n",
       "    }\n",
       "\n",
       "    .dataframe tbody tr th {\n",
       "        vertical-align: top;\n",
       "    }\n",
       "\n",
       "    .dataframe thead th {\n",
       "        text-align: right;\n",
       "    }\n",
       "</style>\n",
       "<table border=\"1\" class=\"dataframe\">\n",
       "  <thead>\n",
       "    <tr style=\"text-align: right;\">\n",
       "      <th></th>\n",
       "      <th>target_chemblid</th>\n",
       "      <th>organism</th>\n",
       "      <th>pref_name</th>\n",
       "      <th>70%</th>\n",
       "      <th>80%</th>\n",
       "      <th>90%</th>\n",
       "      <th>threshold</th>\n",
       "      <th>drugid</th>\n",
       "      <th>uniprot</th>\n",
       "      <th>symbol</th>\n",
       "    </tr>\n",
       "  </thead>\n",
       "  <tbody>\n",
       "    <tr>\n",
       "      <th>0</th>\n",
       "      <td>CHEMBL5880</td>\n",
       "      <td>Homo sapiens</td>\n",
       "      <td>Interleukin-2</td>\n",
       "      <td>empty</td>\n",
       "      <td>active</td>\n",
       "      <td>active</td>\n",
       "      <td>6.0</td>\n",
       "      <td>CHEMBL847</td>\n",
       "      <td>P60568</td>\n",
       "      <td>IL2</td>\n",
       "    </tr>\n",
       "    <tr>\n",
       "      <th>1</th>\n",
       "      <td>CHEMBL5880</td>\n",
       "      <td>Homo sapiens</td>\n",
       "      <td>Interleukin-2</td>\n",
       "      <td>active</td>\n",
       "      <td>active</td>\n",
       "      <td>active</td>\n",
       "      <td>6.0</td>\n",
       "      <td>CHEMBL1086440</td>\n",
       "      <td>P60568</td>\n",
       "      <td>IL2</td>\n",
       "    </tr>\n",
       "    <tr>\n",
       "      <th>2</th>\n",
       "      <td>CHEMBL5880</td>\n",
       "      <td>Homo sapiens</td>\n",
       "      <td>Interleukin-2</td>\n",
       "      <td>active</td>\n",
       "      <td>active</td>\n",
       "      <td>active</td>\n",
       "      <td>6.0</td>\n",
       "      <td>CHEMBL372795</td>\n",
       "      <td>P60568</td>\n",
       "      <td>IL2</td>\n",
       "    </tr>\n",
       "    <tr>\n",
       "      <th>3</th>\n",
       "      <td>CHEMBL5880</td>\n",
       "      <td>Homo sapiens</td>\n",
       "      <td>Interleukin-2</td>\n",
       "      <td>active</td>\n",
       "      <td>active</td>\n",
       "      <td>active</td>\n",
       "      <td>6.0</td>\n",
       "      <td>CHEMBL1433</td>\n",
       "      <td>P60568</td>\n",
       "      <td>IL2</td>\n",
       "    </tr>\n",
       "    <tr>\n",
       "      <th>4</th>\n",
       "      <td>CHEMBL5880</td>\n",
       "      <td>Homo sapiens</td>\n",
       "      <td>Interleukin-2</td>\n",
       "      <td>active</td>\n",
       "      <td>active</td>\n",
       "      <td>active</td>\n",
       "      <td>6.0</td>\n",
       "      <td>CHEMBL263291</td>\n",
       "      <td>P60568</td>\n",
       "      <td>IL2</td>\n",
       "    </tr>\n",
       "    <tr>\n",
       "      <th>5</th>\n",
       "      <td>CHEMBL5880</td>\n",
       "      <td>Homo sapiens</td>\n",
       "      <td>Interleukin-2</td>\n",
       "      <td>active</td>\n",
       "      <td>active</td>\n",
       "      <td>active</td>\n",
       "      <td>6.0</td>\n",
       "      <td>CHEMBL370143</td>\n",
       "      <td>P60568</td>\n",
       "      <td>IL2</td>\n",
       "    </tr>\n",
       "    <tr>\n",
       "      <th>6</th>\n",
       "      <td>CHEMBL5880</td>\n",
       "      <td>Homo sapiens</td>\n",
       "      <td>Interleukin-2</td>\n",
       "      <td>empty</td>\n",
       "      <td>active</td>\n",
       "      <td>active</td>\n",
       "      <td>6.0</td>\n",
       "      <td>CHEMBL125</td>\n",
       "      <td>P60568</td>\n",
       "      <td>IL2</td>\n",
       "    </tr>\n",
       "    <tr>\n",
       "      <th>7</th>\n",
       "      <td>CHEMBL5880</td>\n",
       "      <td>Homo sapiens</td>\n",
       "      <td>Interleukin-2</td>\n",
       "      <td>empty</td>\n",
       "      <td>active</td>\n",
       "      <td>active</td>\n",
       "      <td>6.0</td>\n",
       "      <td>CHEMBL1483</td>\n",
       "      <td>P60568</td>\n",
       "      <td>IL2</td>\n",
       "    </tr>\n",
       "    <tr>\n",
       "      <th>8</th>\n",
       "      <td>CHEMBL5880</td>\n",
       "      <td>Homo sapiens</td>\n",
       "      <td>Interleukin-2</td>\n",
       "      <td>active</td>\n",
       "      <td>active</td>\n",
       "      <td>active</td>\n",
       "      <td>6.0</td>\n",
       "      <td>CHEMBL267345</td>\n",
       "      <td>P60568</td>\n",
       "      <td>IL2</td>\n",
       "    </tr>\n",
       "    <tr>\n",
       "      <th>9</th>\n",
       "      <td>CHEMBL5880</td>\n",
       "      <td>Homo sapiens</td>\n",
       "      <td>Interleukin-2</td>\n",
       "      <td>active</td>\n",
       "      <td>active</td>\n",
       "      <td>active</td>\n",
       "      <td>6.0</td>\n",
       "      <td>CHEMBL529</td>\n",
       "      <td>P60568</td>\n",
       "      <td>IL2</td>\n",
       "    </tr>\n",
       "    <tr>\n",
       "      <th>10</th>\n",
       "      <td>CHEMBL5880</td>\n",
       "      <td>Homo sapiens</td>\n",
       "      <td>Interleukin-2</td>\n",
       "      <td>active</td>\n",
       "      <td>active</td>\n",
       "      <td>active</td>\n",
       "      <td>6.0</td>\n",
       "      <td>CHEMBL374478</td>\n",
       "      <td>P60568</td>\n",
       "      <td>IL2</td>\n",
       "    </tr>\n",
       "    <tr>\n",
       "      <th>11</th>\n",
       "      <td>CHEMBL5880</td>\n",
       "      <td>Homo sapiens</td>\n",
       "      <td>Interleukin-2</td>\n",
       "      <td>active</td>\n",
       "      <td>active</td>\n",
       "      <td>active</td>\n",
       "      <td>6.0</td>\n",
       "      <td>CHEMBL532</td>\n",
       "      <td>P60568</td>\n",
       "      <td>IL2</td>\n",
       "    </tr>\n",
       "    <tr>\n",
       "      <th>12</th>\n",
       "      <td>CHEMBL5880</td>\n",
       "      <td>Homo sapiens</td>\n",
       "      <td>Interleukin-2</td>\n",
       "      <td>active</td>\n",
       "      <td>active</td>\n",
       "      <td>active</td>\n",
       "      <td>6.0</td>\n",
       "      <td>CHEMBL1292</td>\n",
       "      <td>P60568</td>\n",
       "      <td>IL2</td>\n",
       "    </tr>\n",
       "    <tr>\n",
       "      <th>13</th>\n",
       "      <td>CHEMBL5880</td>\n",
       "      <td>Homo sapiens</td>\n",
       "      <td>Interleukin-2</td>\n",
       "      <td>active</td>\n",
       "      <td>active</td>\n",
       "      <td>active</td>\n",
       "      <td>6.0</td>\n",
       "      <td>CHEMBL1200651</td>\n",
       "      <td>P60568</td>\n",
       "      <td>IL2</td>\n",
       "    </tr>\n",
       "    <tr>\n",
       "      <th>14</th>\n",
       "      <td>CHEMBL5880</td>\n",
       "      <td>Homo sapiens</td>\n",
       "      <td>Interleukin-2</td>\n",
       "      <td>active</td>\n",
       "      <td>active</td>\n",
       "      <td>active</td>\n",
       "      <td>6.0</td>\n",
       "      <td>CHEMBL1741</td>\n",
       "      <td>P60568</td>\n",
       "      <td>IL2</td>\n",
       "    </tr>\n",
       "    <tr>\n",
       "      <th>15</th>\n",
       "      <td>CHEMBL5880</td>\n",
       "      <td>Homo sapiens</td>\n",
       "      <td>Interleukin-2</td>\n",
       "      <td>active</td>\n",
       "      <td>active</td>\n",
       "      <td>active</td>\n",
       "      <td>6.0</td>\n",
       "      <td>CHEMBL2104415</td>\n",
       "      <td>P60568</td>\n",
       "      <td>IL2</td>\n",
       "    </tr>\n",
       "    <tr>\n",
       "      <th>16</th>\n",
       "      <td>CHEMBL1825</td>\n",
       "      <td>Homo sapiens</td>\n",
       "      <td>TNF-alpha</td>\n",
       "      <td>active</td>\n",
       "      <td>active</td>\n",
       "      <td>active</td>\n",
       "      <td>6.0</td>\n",
       "      <td>CHEMBL847</td>\n",
       "      <td>P01375</td>\n",
       "      <td>TNF</td>\n",
       "    </tr>\n",
       "    <tr>\n",
       "      <th>17</th>\n",
       "      <td>CHEMBL1825</td>\n",
       "      <td>Homo sapiens</td>\n",
       "      <td>TNF-alpha</td>\n",
       "      <td>empty</td>\n",
       "      <td>empty</td>\n",
       "      <td>active</td>\n",
       "      <td>6.0</td>\n",
       "      <td>CHEMBL55</td>\n",
       "      <td>P01375</td>\n",
       "      <td>TNF</td>\n",
       "    </tr>\n",
       "    <tr>\n",
       "      <th>18</th>\n",
       "      <td>CHEMBL1825</td>\n",
       "      <td>Homo sapiens</td>\n",
       "      <td>TNF-alpha</td>\n",
       "      <td>empty</td>\n",
       "      <td>empty</td>\n",
       "      <td>active</td>\n",
       "      <td>6.0</td>\n",
       "      <td>CHEMBL1631694</td>\n",
       "      <td>P01375</td>\n",
       "      <td>TNF</td>\n",
       "    </tr>\n",
       "    <tr>\n",
       "      <th>19</th>\n",
       "      <td>CHEMBL1825</td>\n",
       "      <td>Homo sapiens</td>\n",
       "      <td>TNF-alpha</td>\n",
       "      <td>empty</td>\n",
       "      <td>active</td>\n",
       "      <td>active</td>\n",
       "      <td>6.0</td>\n",
       "      <td>CHEMBL1086440</td>\n",
       "      <td>P01375</td>\n",
       "      <td>TNF</td>\n",
       "    </tr>\n",
       "  </tbody>\n",
       "</table>\n",
       "</div>"
      ],
      "text/plain": [
       "   target_chemblid      organism      pref_name     70%     80%     90%  \\\n",
       "0       CHEMBL5880  Homo sapiens  Interleukin-2   empty  active  active   \n",
       "1       CHEMBL5880  Homo sapiens  Interleukin-2  active  active  active   \n",
       "2       CHEMBL5880  Homo sapiens  Interleukin-2  active  active  active   \n",
       "3       CHEMBL5880  Homo sapiens  Interleukin-2  active  active  active   \n",
       "4       CHEMBL5880  Homo sapiens  Interleukin-2  active  active  active   \n",
       "5       CHEMBL5880  Homo sapiens  Interleukin-2  active  active  active   \n",
       "6       CHEMBL5880  Homo sapiens  Interleukin-2   empty  active  active   \n",
       "7       CHEMBL5880  Homo sapiens  Interleukin-2   empty  active  active   \n",
       "8       CHEMBL5880  Homo sapiens  Interleukin-2  active  active  active   \n",
       "9       CHEMBL5880  Homo sapiens  Interleukin-2  active  active  active   \n",
       "10      CHEMBL5880  Homo sapiens  Interleukin-2  active  active  active   \n",
       "11      CHEMBL5880  Homo sapiens  Interleukin-2  active  active  active   \n",
       "12      CHEMBL5880  Homo sapiens  Interleukin-2  active  active  active   \n",
       "13      CHEMBL5880  Homo sapiens  Interleukin-2  active  active  active   \n",
       "14      CHEMBL5880  Homo sapiens  Interleukin-2  active  active  active   \n",
       "15      CHEMBL5880  Homo sapiens  Interleukin-2  active  active  active   \n",
       "16      CHEMBL1825  Homo sapiens      TNF-alpha  active  active  active   \n",
       "17      CHEMBL1825  Homo sapiens      TNF-alpha   empty   empty  active   \n",
       "18      CHEMBL1825  Homo sapiens      TNF-alpha   empty   empty  active   \n",
       "19      CHEMBL1825  Homo sapiens      TNF-alpha   empty  active  active   \n",
       "\n",
       "    threshold         drugid uniprot symbol  \n",
       "0         6.0      CHEMBL847  P60568    IL2  \n",
       "1         6.0  CHEMBL1086440  P60568    IL2  \n",
       "2         6.0   CHEMBL372795  P60568    IL2  \n",
       "3         6.0     CHEMBL1433  P60568    IL2  \n",
       "4         6.0   CHEMBL263291  P60568    IL2  \n",
       "5         6.0   CHEMBL370143  P60568    IL2  \n",
       "6         6.0      CHEMBL125  P60568    IL2  \n",
       "7         6.0     CHEMBL1483  P60568    IL2  \n",
       "8         6.0   CHEMBL267345  P60568    IL2  \n",
       "9         6.0      CHEMBL529  P60568    IL2  \n",
       "10        6.0   CHEMBL374478  P60568    IL2  \n",
       "11        6.0      CHEMBL532  P60568    IL2  \n",
       "12        6.0     CHEMBL1292  P60568    IL2  \n",
       "13        6.0  CHEMBL1200651  P60568    IL2  \n",
       "14        6.0     CHEMBL1741  P60568    IL2  \n",
       "15        6.0  CHEMBL2104415  P60568    IL2  \n",
       "16        6.0      CHEMBL847  P01375    TNF  \n",
       "17        6.0       CHEMBL55  P01375    TNF  \n",
       "18        6.0  CHEMBL1631694  P01375    TNF  \n",
       "19        6.0  CHEMBL1086440  P01375    TNF  "
      ]
     },
     "execution_count": 173,
     "metadata": {},
     "output_type": "execute_result"
    }
   ],
   "source": [
    "merge_df.head(20)"
   ]
  },
  {
   "cell_type": "code",
   "execution_count": 174,
   "id": "69c6aa10",
   "metadata": {},
   "outputs": [],
   "source": [
    "merge_df.to_csv('data/kgs/test/ntd_drug_predictedtarget.csv')"
   ]
  },
  {
   "cell_type": "code",
   "execution_count": 161,
   "id": "37e86555",
   "metadata": {},
   "outputs": [],
   "source": [
    "def chem2prot_rel(df,graph):\n",
    "    \n",
    "    for i in range(len(df)):\n",
    "\n",
    "        graph.add_association(\n",
    "            Abundance(namespace='ChEMBL', name= str(df['drugid'][i])),\n",
    "            Protein(namespace='HGNC', name= str(df['symbol'][i])),  \n",
    "            citation=\"ChEMBL\",\n",
    "            evidence='Targetted predictions'\n",
    "        )\n",
    "        \n",
    "        nx.set_node_attributes(graph,{Protein(namespace='HGNC', name=str(df['symbol'][i])):'Predicted'},'Type')\n",
    "\n",
    "    return graph"
   ]
  },
  {
   "cell_type": "code",
   "execution_count": 162,
   "id": "c66eac40",
   "metadata": {},
   "outputs": [],
   "source": [
    "tnd = pybel.BELGraph(name='Tropical Neglected Diseases', version=\"0.0.1\")"
   ]
  },
  {
   "cell_type": "code",
   "execution_count": 163,
   "id": "17bca5cb",
   "metadata": {},
   "outputs": [],
   "source": [
    "tnd = chem2prot_rel(merge_df,tnd)"
   ]
  },
  {
   "cell_type": "code",
   "execution_count": 144,
   "id": "2e5c5278",
   "metadata": {},
   "outputs": [
    {
     "name": "stdout",
     "output_type": "stream",
     "text": [
      "p(HGNC:IL2)\n",
      "p(HGNC:TNF)\n",
      "p(HGNC:ESRRA)\n",
      "p(HGNC:ITGA4)\n",
      "p(HGNC:METAP2)\n",
      "p(HGNC:PARP2)\n",
      "p(HGNC:SLC9A1)\n",
      "p(HGNC:S1PR2)\n",
      "p(HGNC:KDM1A)\n",
      "p(HGNC:SLC5A1)\n",
      "p(HGNC:GRIN1)\n",
      "p(HGNC:SLC6A5)\n",
      "p(HGNC:HTR3A)\n",
      "p(HGNC:PTPN2)\n",
      "p(HGNC:TMIGD3)\n",
      "p(HGNC:PIN1)\n",
      "p(HGNC:CA9)\n",
      "p(HGNC:CA7)\n",
      "p(HGNC:SCN3A)\n",
      "p(HGNC:DPP8)\n",
      "p(HGNC:XDH)\n",
      "p(HGNC:P2RX4)\n",
      "p(HGNC:DPP9)\n",
      "p(HGNC:CHRNB4)\n",
      "p(HGNC:DRD5)\n",
      "p(HGNC:HSP90AA1)\n",
      "p(HGNC:NLRP3)\n",
      "p(HGNC:BCHE)\n",
      "p(HGNC:ROS1)\n",
      "p(HGNC:SLC6A3)\n",
      "p(HGNC:CYP1A2)\n",
      "p(HGNC:ADORA2B)\n",
      "p(HGNC:CA13)\n",
      "p(HGNC:KDM5C)\n",
      "p(HGNC:PLAU)\n",
      "p(HGNC:HMGCR)\n",
      "p(HGNC:KAT6A)\n",
      "p(HGNC:THRB)\n",
      "p(HGNC:USP7)\n",
      "p(HGNC:LTA4H)\n",
      "p(HGNC:PIK3R1)\n",
      "p(HGNC:CASP8)\n",
      "p(HGNC:ABCC1)\n",
      "p(HGNC:GLO1)\n",
      "p(HGNC:IDO1)\n",
      "p(HGNC:CHIA)\n",
      "p(HGNC:CECR2)\n",
      "p(HGNC:F7)\n",
      "p(HGNC:PIM2)\n",
      "p(HGNC:CTSK)\n",
      "p(HGNC:QPCT)\n",
      "p(HGNC:GPR84)\n",
      "p(HGNC:MALT1)\n",
      "p(HGNC:SIRT2)\n",
      "p(HGNC:TDP2)\n",
      "p(HGNC:CTSB)\n",
      "p(HGNC:PIK3CD)\n",
      "p(HGNC:ATAD2)\n",
      "p(HGNC:YES1)\n",
      "p(HGNC:CA14)\n",
      "p(HGNC:NTSR1)\n",
      "p(HGNC:CA12)\n",
      "p(HGNC:GRM2)\n",
      "p(HGNC:LDHB)\n",
      "p(HGNC:BCL2L1)\n",
      "p(HGNC:CALCRL)\n",
      "p(HGNC:KRAS)\n",
      "p(HGNC:PTK2)\n",
      "p(HGNC:BRD4)\n",
      "p(HGNC:MC5R)\n",
      "p(HGNC:LGALS3)\n",
      "p(HGNC:F10)\n",
      "p(HGNC:CACNA1B)\n",
      "p(HGNC:MKNK1)\n",
      "p(HGNC:PTPN1)\n",
      "p(HGNC:IMPDH2)\n",
      "p(HGNC:PRKCA)\n",
      "p(HGNC:WDR5)\n",
      "p(HGNC:TPSAB1)\n",
      "p(HGNC:FNTA)\n",
      "p(HGNC:BACE1)\n",
      "p(HGNC:PRKDC)\n",
      "p(HGNC:NOX4)\n",
      "p(HGNC:KEAP1)\n",
      "p(HGNC:P2RY2)\n",
      "p(HGNC:PDE4B)\n",
      "p(HGNC:TBXAS1)\n",
      "p(HGNC:VDR)\n",
      "p(HGNC:SLC1A2)\n",
      "p(HGNC:APP)\n",
      "p(HGNC:TRPV1)\n",
      "p(HGNC:ITGAV)\n",
      "p(HGNC:GPR35)\n",
      "p(HGNC:PTK6)\n",
      "p(HGNC:PLK4)\n",
      "p(HGNC:IMPDH1)\n",
      "p(HGNC:MGLL)\n",
      "p(HGNC:CFD)\n",
      "p(HGNC:SIGMAR1)\n",
      "p(HGNC:REN)\n",
      "p(HGNC:BCL2)\n",
      "p(HGNC:MAPKAPK2)\n",
      "p(HGNC:MC3R)\n",
      "p(HGNC:AVPR1A)\n",
      "p(HGNC:KDM4B)\n",
      "p(HGNC:APLNR)\n",
      "p(HGNC:FAP)\n",
      "p(HGNC:HRH2)\n",
      "p(HGNC:SSTR5)\n",
      "p(HGNC:PDE7A)\n",
      "p(HGNC:MMP13)\n"
     ]
    }
   ],
   "source": [
    "for node in tnd.nodes():\n",
    "    if isinstance(node,pybel.dsl.Protein):\n",
    "        print(node)\n",
    "        "
   ]
  },
  {
   "cell_type": "code",
   "execution_count": 133,
   "id": "953d7f0d",
   "metadata": {},
   "outputs": [],
   "source": [
    "def getNodeList(nodeName,graph):\n",
    "    #import pybel\n",
    "    node_list = []\n",
    "    for node in graph.nodes():\n",
    "        if isinstance(node,pybel.dsl.Protein):\n",
    "            nx.set_node_attributes(graph, labels, \"Type\")\n",
    "            #if node.namespace == nodeName:\n",
    "            #node_list.append(node)\n",
    "    \n",
    "        \n",
    "            \n",
    "    return(node_list)"
   ]
  },
  {
   "cell_type": "code",
   "execution_count": 134,
   "id": "9dfb15c1",
   "metadata": {},
   "outputs": [],
   "source": [
    "xx = getNodeList('HGNC',tnd)"
   ]
  },
  {
   "cell_type": "code",
   "execution_count": 135,
   "id": "3847a0e0",
   "metadata": {},
   "outputs": [
    {
     "data": {
      "text/plain": [
       "['IL2',\n",
       " 'TNF',\n",
       " 'ESRRA',\n",
       " 'ITGA4',\n",
       " 'METAP2',\n",
       " 'PARP2',\n",
       " 'SLC9A1',\n",
       " 'S1PR2',\n",
       " 'KDM1A',\n",
       " 'SLC5A1',\n",
       " 'GRIN1',\n",
       " 'SLC6A5',\n",
       " 'HTR3A',\n",
       " 'PTPN2',\n",
       " 'TMIGD3',\n",
       " 'PIN1',\n",
       " 'CA9',\n",
       " 'CA7',\n",
       " 'SCN3A',\n",
       " 'DPP8',\n",
       " 'XDH',\n",
       " 'P2RX4',\n",
       " 'DPP9',\n",
       " 'CHRNB4',\n",
       " 'DRD5',\n",
       " 'HSP90AA1',\n",
       " 'NLRP3',\n",
       " 'BCHE',\n",
       " 'ROS1',\n",
       " 'SLC6A3',\n",
       " 'CYP1A2',\n",
       " 'ADORA2B',\n",
       " 'CA13',\n",
       " 'KDM5C',\n",
       " 'PLAU',\n",
       " 'HMGCR',\n",
       " 'KAT6A',\n",
       " 'THRB',\n",
       " 'USP7',\n",
       " 'LTA4H',\n",
       " 'PIK3R1',\n",
       " 'CASP8',\n",
       " 'ABCC1',\n",
       " 'GLO1',\n",
       " 'IDO1',\n",
       " 'CHIA',\n",
       " 'CECR2',\n",
       " 'F7',\n",
       " 'PIM2',\n",
       " 'CTSK',\n",
       " 'QPCT',\n",
       " 'GPR84',\n",
       " 'MALT1',\n",
       " 'SIRT2',\n",
       " 'TDP2',\n",
       " 'CTSB',\n",
       " 'PIK3CD',\n",
       " 'ATAD2',\n",
       " 'YES1',\n",
       " 'CA14',\n",
       " 'NTSR1',\n",
       " 'CA12',\n",
       " 'GRM2',\n",
       " 'LDHB',\n",
       " 'BCL2L1',\n",
       " 'CALCRL',\n",
       " 'KRAS',\n",
       " 'PTK2',\n",
       " 'BRD4',\n",
       " 'MC5R',\n",
       " 'LGALS3',\n",
       " 'F10',\n",
       " 'CACNA1B',\n",
       " 'MKNK1',\n",
       " 'PTPN1',\n",
       " 'IMPDH2',\n",
       " 'PRKCA',\n",
       " 'WDR5',\n",
       " 'TPSAB1',\n",
       " 'FNTA',\n",
       " 'BACE1',\n",
       " 'PRKDC',\n",
       " 'NOX4',\n",
       " 'KEAP1',\n",
       " 'P2RY2',\n",
       " 'PDE4B',\n",
       " 'TBXAS1',\n",
       " 'VDR',\n",
       " 'SLC1A2',\n",
       " 'APP',\n",
       " 'TRPV1',\n",
       " 'ITGAV',\n",
       " 'GPR35',\n",
       " 'PTK6',\n",
       " 'PLK4',\n",
       " 'IMPDH1',\n",
       " 'MGLL',\n",
       " 'CFD',\n",
       " 'SIGMAR1',\n",
       " 'REN',\n",
       " 'BCL2',\n",
       " 'MAPKAPK2',\n",
       " 'MC3R',\n",
       " 'AVPR1A',\n",
       " 'KDM4B',\n",
       " 'APLNR',\n",
       " 'FAP',\n",
       " 'HRH2',\n",
       " 'SSTR5',\n",
       " 'PDE7A',\n",
       " 'MMP13']"
      ]
     },
     "execution_count": 135,
     "metadata": {},
     "output_type": "execute_result"
    }
   ],
   "source": [
    "xx"
   ]
  },
  {
   "cell_type": "code",
   "execution_count": 150,
   "id": "4691f3df",
   "metadata": {},
   "outputs": [],
   "source": [
    "def custom_annotation(graph):\n",
    "    prots = getNodeList('HGNC',graph)\n",
    "    print(prots)\n",
    "    for item in prots:\n",
    "        nx.set_node_attributes(graph,{Protein(namespace='HGNC',\n",
    "                                               name=item):{'Type':'Predicted'}})\n",
    "    return graph"
   ]
  },
  {
   "cell_type": "code",
   "execution_count": 151,
   "id": "55d5f596",
   "metadata": {},
   "outputs": [
    {
     "name": "stdout",
     "output_type": "stream",
     "text": [
      "['IL2', 'TNF', 'ESRRA', 'ITGA4', 'METAP2', 'PARP2', 'SLC9A1', 'S1PR2', 'KDM1A', 'SLC5A1', 'GRIN1', 'SLC6A5', 'HTR3A', 'PTPN2', 'TMIGD3', 'PIN1', 'CA9', 'CA7', 'SCN3A', 'DPP8', 'XDH', 'P2RX4', 'DPP9', 'CHRNB4', 'DRD5', 'HSP90AA1', 'NLRP3', 'BCHE', 'ROS1', 'SLC6A3', 'CYP1A2', 'ADORA2B', 'CA13', 'KDM5C', 'PLAU', 'HMGCR', 'KAT6A', 'THRB', 'USP7', 'LTA4H', 'PIK3R1', 'CASP8', 'ABCC1', 'GLO1', 'IDO1', 'CHIA', 'CECR2', 'F7', 'PIM2', 'CTSK', 'QPCT', 'GPR84', 'MALT1', 'SIRT2', 'TDP2', 'CTSB', 'PIK3CD', 'ATAD2', 'YES1', 'CA14', 'NTSR1', 'CA12', 'GRM2', 'LDHB', 'BCL2L1', 'CALCRL', 'KRAS', 'PTK2', 'BRD4', 'MC5R', 'LGALS3', 'F10', 'CACNA1B', 'MKNK1', 'PTPN1', 'IMPDH2', 'PRKCA', 'WDR5', 'TPSAB1', 'FNTA', 'BACE1', 'PRKDC', 'NOX4', 'KEAP1', 'P2RY2', 'PDE4B', 'TBXAS1', 'VDR', 'SLC1A2', 'APP', 'TRPV1', 'ITGAV', 'GPR35', 'PTK6', 'PLK4', 'IMPDH1', 'MGLL', 'CFD', 'SIGMAR1', 'REN', 'BCL2', 'MAPKAPK2', 'MC3R', 'AVPR1A', 'KDM4B', 'APLNR', 'FAP', 'HRH2', 'SSTR5', 'PDE7A', 'MMP13']\n"
     ]
    }
   ],
   "source": [
    "tnd = custom_annotation(tnd)"
   ]
  },
  {
   "cell_type": "code",
   "execution_count": 160,
   "id": "e620ec07",
   "metadata": {},
   "outputs": [
    {
     "name": "stdout",
     "output_type": "stream",
     "text": [
      "IL2\n",
      "Predicted\n",
      "TNF\n",
      "Predicted\n"
     ]
    }
   ],
   "source": [
    "#list entities of interest separated by a space\n",
    "entityList = 'IL2 TNF'.split(' ')\n",
    "\n",
    "prtn_attr = nx.get_node_attributes(tnd,'Type')\n",
    "#chem_attr = nx.get_node_attributes(tnd,'ChEMBL')\n",
    "#bionote_attr = nx.get_node_attributes(tnd,'3Dbio')\n",
    "\n",
    "for node in tnd.nodes():\n",
    "    unique_node = []\n",
    "    \n",
    "    if node.name in entityList:\n",
    "        if node not in unique_node:\n",
    "            \n",
    "            unique_node.append(node)\n",
    "            print(node.name)\n",
    "       \n",
    "\n",
    "                \n",
    "            if isinstance(node,pybel.dsl.Protein):\n",
    "                print(prtn_attr[node])\n"
   ]
  },
  {
   "cell_type": "code",
   "execution_count": 76,
   "id": "ed99ad96",
   "metadata": {},
   "outputs": [
    {
     "data": {
      "application/vnd.jupyter.widget-view+json": {
       "model_id": "459f66eac2884bea8f02591aafde6d3a",
       "version_major": 2,
       "version_minor": 0
      },
      "text/plain": [
       "Fetching Protein-related info:   0%|          | 0/115 [00:00<?, ?it/s]"
      ]
     },
     "metadata": {},
     "output_type": "display_data"
    }
   ],
   "source": [
    "# Ret prot ids from uprot and extend to GOBP, GOMF and Reactome pathways\n",
    "protList = Ret_uprotid(chem2uni)\n",
    "uprots_ext = ExtractFromUniProt(protList)"
   ]
  },
  {
   "cell_type": "code",
   "execution_count": 77,
   "id": "cbd2a4c7",
   "metadata": {},
   "outputs": [
    {
     "data": {
      "application/vnd.jupyter.widget-view+json": {
       "model_id": "ed6b25ac1ed44e3390eac74a48d7f7f5",
       "version_major": 2,
       "version_minor": 0
      },
      "text/plain": [
       "Fetching Protein-related info:   0%|          | 0/16 [00:00<?, ?it/s]"
      ]
     },
     "metadata": {},
     "output_type": "display_data"
    }
   ],
   "source": [
    "#do the same for chembl2uprot from Part I\n",
    "chembl2uprot_ext = Ret_uprotid(chembl2uprot)\n",
    "uprots_ext_2 = ExtractFromUniProt(chembl2uprot_ext)"
   ]
  },
  {
   "cell_type": "code",
   "execution_count": 78,
   "id": "e4d50a26",
   "metadata": {},
   "outputs": [],
   "source": [
    "# let's create a KG now"
   ]
  },
  {
   "cell_type": "code",
   "execution_count": 164,
   "id": "8ef5d2db",
   "metadata": {},
   "outputs": [
    {
     "data": {
      "application/vnd.jupyter.widget-view+json": {
       "model_id": "51db9be97fce46a6bfb0fbe1bb2881b8",
       "version_major": 2,
       "version_minor": 0
      },
      "text/plain": [
       "Populating Chemical-MoA edges:   0%|          | 0/20 [00:00<?, ?it/s]"
      ]
     },
     "metadata": {},
     "output_type": "display_data"
    },
    {
     "data": {
      "application/vnd.jupyter.widget-view+json": {
       "model_id": "050cb013b7a34a88b7e0ea2d067fa0b9",
       "version_major": 2,
       "version_minor": 0
      },
      "text/plain": [
       "Populating Drug-Indication edges:   0%|          | 0/26 [00:00<?, ?it/s]"
      ]
     },
     "metadata": {},
     "output_type": "display_data"
    },
    {
     "data": {
      "application/vnd.jupyter.widget-view+json": {
       "model_id": "17cd131d692448ef87d7cfac912b3b90",
       "version_major": 2,
       "version_minor": 0
      },
      "text/plain": [
       "Adding bioassay edges to BEL:   0%|          | 0/6 [00:00<?, ?it/s]"
      ]
     },
     "metadata": {},
     "output_type": "display_data"
    },
    {
     "data": {
      "application/vnd.jupyter.widget-view+json": {
       "model_id": "17b2bd2bd26f4854a96da7ec488732b1",
       "version_major": 2,
       "version_minor": 0
      },
      "text/plain": [
       "Populating Uniprot edges:   0%|          | 0/111 [00:00<?, ?it/s]"
      ]
     },
     "metadata": {},
     "output_type": "display_data"
    },
    {
     "data": {
      "application/vnd.jupyter.widget-view+json": {
       "model_id": "9f3db28126bf46ddafee7bbf908b9bcb",
       "version_major": 2,
       "version_minor": 0
      },
      "text/plain": [
       "Populating Uniprot edges:   0%|          | 0/16 [00:00<?, ?it/s]"
      ]
     },
     "metadata": {},
     "output_type": "display_data"
    }
   ],
   "source": [
    "tnd = chem2moa_rel(chembl2mech, 'HGNC', tnd)\n",
    "tnd = chem2dis_rel(chembl2dis, tnd)\n",
    "tnd = chem2act_rel(chembl2act, 'HGNC', tnd)\n",
    "\n",
    "tnd = gene2path_rel(chembl2uprot, 'HGNC', tnd)\n",
    "tnd = gene2path_rel(chem2uni,'HGNC',tnd)\n",
    "\n",
    "tnd = uniprot_rel(uprots_ext,'HGNC',tnd)\n",
    "tnd = uniprot_rel(uprots_ext_2,'HGNC',tnd)\n",
    "\n",
    "tnd = chembl2adverseEffect_rel(advEff,tnd)\n",
    "tnd= chembl2drugWarnings_rel(drugWarn,tnd)"
   ]
  },
  {
   "cell_type": "code",
   "execution_count": 172,
   "id": "3aa39d67",
   "metadata": {},
   "outputs": [
    {
     "name": "stdout",
     "output_type": "stream",
     "text": [
      "---------------------  ---------------------------\n",
      "Name                   Tropical Neglected Diseases\n",
      "Version                0.0.1\n",
      "Number of Nodes        3309\n",
      "Number of Namespaces   10\n",
      "Number of Edges        10743\n",
      "Number of Annotations  0\n",
      "Number of Citations    4\n",
      "Number of Authors      0\n",
      "Number of Components   1\n",
      "Number of Warnings     0\n",
      "Network Density        9.81E-04\n",
      "---------------------  ---------------------------\n",
      "\n",
      "Type (4)             Count  Example\n",
      "-----------------  -------  -------------------------------------------------------------\n",
      "BiologicalProcess     2389  bp(GOBP:\"protein homooligomerization\")\n",
      "Pathology              752  path(SideEffect:\"acute generalised exanthematous pustulosis\")\n",
      "Protein                126  p(HGNC:PIM2)\n",
      "Abundance               42  a(ChEMBL:CHEMBL290960)\n",
      "\n",
      "Prefix (10)    Name                                Count  Example\n",
      "-------------  --------------------------------  -------  -------------------------------------------------------------------------------------------------\n",
      "GOBP           Gene Ontology                        1480  bp(GOBP:\"antiviral innate immune response\")\n",
      "SideEffect                                           493  path(SideEffect:\"confusional state\")\n",
      "Reactome       Reactome                              454  bp(Reactome:\"NR1H3 & NR1H2 regulate gene expression linked to cholesterol transport and efflux.\")\n",
      "GOMF           Gene Ontology                         442  bp(GOMF:\"1-phosphatidylinositol-3-kinase activity\")\n",
      "Disease                                              256  path(Disease:\"Lipid Metabolism Disorders\")\n",
      "HGNC           HUGO Gene Nomenclature Committee      126  p(HGNC:TMIGD3)\n",
      "ChEMBL         ChEMBL                                 29  a(ChEMBL:CHEMBL263291)\n",
      "MOA                                                   13  bp(MOA:\"Voltage-activated calcium channel beta 2 subunit blocker\")\n",
      "ChEMBLAssay                                           13  a(ChEMBLAssay:CHEMBL4311137)\n",
      "DrugWarning                                            3  path(DrugWarning:\"musculoskeletal toxicity\")\n",
      "\n",
      "Edge Type (5)                              Count  Example\n",
      "---------------------------------------  -------  -------------------------------------------------------------------------------\n",
      "Protein association BiologicalProcess       3658  p(HGNC:PTPN2) association bp(GOBP:\"insulin receptor signaling pathway\")\n",
      "Pathology association Abundance             1157  path(Disease:\"Alzheimer Disease\") association a(ChEMBL:CHEMBL374478)\n",
      "Protein association Abundance                519  p(HGNC:MGLL) association a(ChEMBL:CHEMBL532)\n",
      "BiologicalProcess association Abundance       21  bp(MOA:\"Dihydropteroate synthase 1 inhibitor\") association a(ChEMBL:CHEMBL1043)\n",
      "Abundance decreases Protein                    7  a(ChEMBL:CHEMBL1463) decreases p(HGNC:TMP1)\n",
      "\n"
     ]
    }
   ],
   "source": [
    "tnd.summarize()"
   ]
  },
  {
   "cell_type": "code",
   "execution_count": 166,
   "id": "bcffc3ee",
   "metadata": {},
   "outputs": [
    {
     "data": {
      "image/png": "[encoded data removed]",
      "text/plain": [
       "<Figure size 432x288 with 1 Axes>"
      ]
     },
     "metadata": {
      "needs_background": "light"
     },
     "output_type": "display_data"
    }
   ],
   "source": [
    "KG_namespace_plot(tnd,'tnd')"
   ]
  },
  {
   "cell_type": "code",
   "execution_count": 167,
   "id": "4822f3b3",
   "metadata": {},
   "outputs": [],
   "source": [
    "#to cytoscape compatible graphml \n",
    "pybel.to_graphml(tnd,'data/kgs/test/tnd.graphml')\n",
    "\n",
    "#to regular BEL format\n",
    "pybel.dump(tnd,'data/kgs/test/tnd.bel')\n",
    "\n",
    "#to neo4j\n",
    "pybel.to_csv(tnd,'data/kgs/test/tnd.csv')\n",
    "\n",
    "#to sif\n",
    "pybel.to_sif(tnd,'data/kgs/test/tnd.sif')\n",
    "\n",
    "#to xml\n",
    "\n",
    "#pybel.to"
   ]
  },
  {
   "cell_type": "code",
   "execution_count": 168,
   "id": "ce9be123",
   "metadata": {},
   "outputs": [],
   "source": [
    "# filename = ('data/kgs/test/tnd.pkl')\n",
    "# outfile = open(filename,'wb')\n",
    "# pickle.dump(tnd,outfile)"
   ]
  },
  {
   "cell_type": "code",
   "execution_count": 7,
   "id": "5bc8c4dc",
   "metadata": {},
   "outputs": [],
   "source": [
    "infile = open('data/kgs/test/tnd.pkl','rb')\n",
    "tnd = pickle.load(infile)\n",
    "infile.close()"
   ]
  },
  {
   "cell_type": "code",
   "execution_count": 84,
   "id": "b969a977",
   "metadata": {},
   "outputs": [],
   "source": [
    "def filter_graph(mainGraph, vprotList):\n",
    "    nsp_list = []\n",
    "    chem_list = []\n",
    "    for u, v, data in mainGraph.edges(data=True):\n",
    "        if u.name in vprotList or v.name in vprotList:\n",
    "            #print(u.name)\n",
    "            nsp_list.append(u)\n",
    "            #print(u)\n",
    "            #print(v.name)\n",
    "            nsp_list.append(v)\n",
    "\n",
    "    nsp_graph = mainGraph.subgraph(nsp_list)\n",
    "    #nsp_graph = pybel.struct.mutation.induction_expansion.get_subgraph_by_second_neighbors(mpox_graph, nsp_list, filter_pathologies=False)\n",
    "    return(nsp_graph)\n"
   ]
  },
  {
   "cell_type": "code",
   "execution_count": 85,
   "id": "dc973c0c",
   "metadata": {},
   "outputs": [],
   "source": [
    "query = 'CHEMBL125 CHEMBL529 CHEMBL1631694'.split(' ')\n",
    "#query = ['Virus Diseases','Smallpox']\n",
    "#query = 'NS5B CYP3A4 IMPDH1'.split(' ')"
   ]
  },
  {
   "cell_type": "code",
   "execution_count": 33,
   "id": "923a7df6",
   "metadata": {},
   "outputs": [
    {
     "data": {
      "text/plain": [
       "['CHEMBL125', 'CHEMBL529', 'CHEMBL1631694']"
      ]
     },
     "execution_count": 33,
     "metadata": {},
     "output_type": "execute_result"
    }
   ],
   "source": [
    "query"
   ]
  },
  {
   "cell_type": "code",
   "execution_count": 255,
   "id": "1232a565",
   "metadata": {},
   "outputs": [],
   "source": [
    "query = chembl"
   ]
  },
  {
   "cell_type": "code",
   "execution_count": 86,
   "id": "301ff809",
   "metadata": {},
   "outputs": [],
   "source": [
    "query_graph = filter_graph(tnd,query)"
   ]
  },
  {
   "cell_type": "code",
   "execution_count": 87,
   "id": "6640f5b3",
   "metadata": {},
   "outputs": [
    {
     "data": {
      "application/javascript": [
       "function init_d3_force(d3, graph, chart, width, height, function_colors) {\n",
       "    var focus_node = null;\n",
       "    var highlight_node = null;\n",
       "\n",
       "    // Highlight color variables\n",
       "\n",
       "    // Highlight color of the node boundering\n",
       "    const highlight_node_boundering = \"#4EB2D4\";\n",
       "\n",
       "    // Highlight color of the edge\n",
       "    const highlighted_link_color = \"#4EB2D4\";\n",
       "\n",
       "    // Text highlight color\n",
       "    const highlight_text = \"#4EB2D4\";\n",
       "\n",
       "    // Size when zooming scale\n",
       "    var size = d3.scalePow().exponent(1)\n",
       "        .domain([1, 100])\n",
       "        .range([8, 24]);\n",
       "\n",
       "    // Simulation parameters\n",
       "    const linkDistance = 100;\n",
       "    const fCharge = -1000;\n",
       "    const linkStrength = 0.7;\n",
       "    const collideStrength = 1;\n",
       "\n",
       "    // Simulation defined with variables\n",
       "    var simulation = d3.forceSimulation()\n",
       "        .force(\"link\", d3.forceLink()\n",
       "            .distance(linkDistance)\n",
       "            .strength(linkStrength)\n",
       "        )\n",
       "        .force(\"collide\", d3.forceCollide()\n",
       "            .radius(function (d) {\n",
       "                return d.r + 10\n",
       "            })\n",
       "            .strength(collideStrength)\n",
       "        )\n",
       "        .force(\"charge\", d3.forceManyBody()\n",
       "            .strength(fCharge)\n",
       "        )\n",
       "        .force(\"center\", d3.forceCenter(width / 2, height / 2))\n",
       "        .force(\"y\", d3.forceY(0))\n",
       "        .force(\"x\", d3.forceX(0));\n",
       "\n",
       "    // Pin down functionality\n",
       "    var node_drag = d3.drag()\n",
       "        .on(\"start\", dragstarted)\n",
       "        .on(\"drag\", dragged)\n",
       "        .on(\"end\", dragended);\n",
       "\n",
       "    function dragstarted(d) {\n",
       "        if (!d3.event.active) simulation.alphaTarget(0.3).restart();\n",
       "        d.fx = d.x;\n",
       "        d.fy = d.y;\n",
       "    }\n",
       "\n",
       "    function dragged(d) {\n",
       "        d.fx = d3.event.x;\n",
       "        d.fy = d3.event.y;\n",
       "    }\n",
       "\n",
       "    function dragended(d) {\n",
       "        if (!d3.event.active) simulation.alphaTarget(0);\n",
       "    }\n",
       "\n",
       "    function releasenode(d) {\n",
       "        d.fx = null;\n",
       "        d.fy = null;\n",
       "    }\n",
       "\n",
       "    //END Pin down functionality\n",
       "\n",
       "\n",
       "    /**\n",
       "     * Gets the best name for a node object\n",
       "     * @param {object} d object\n",
       "     * @returns {str} canonical name of the node\n",
       "     */\n",
       "    function getCanonicalName(d) {\n",
       "        if (d.concept && d.concept.name && !(d.variants || d.reactants || d.products || d.members)) {\n",
       "            return d.concept.name\n",
       "        } else if (d.bel) {\n",
       "            return d.bel\n",
       "        } else {\n",
       "            console.log('Undefined node: ' + d);\n",
       "            return 'UNDEFINED'\n",
       "        }\n",
       "    }\n",
       "\n",
       "    const color_circunferencia = \"black\";\n",
       "    const default_link_color = \"#AAAAAA\";\n",
       "    const nominal_base_node_size = 8;\n",
       "\n",
       "    // Normal and highlighted stroke of the links (double the width of the link when highlighted)\n",
       "    const nominal_stroke = 1.5;\n",
       "\n",
       "    // Zoom variables\n",
       "    const min_zoom = 0.1;\n",
       "    const max_zoom = 10;\n",
       "\n",
       "    var svg = d3.select(chart).append(\"svg\")\n",
       "        .attr(\"width\", width)\n",
       "        .attr(\"height\", height);\n",
       "\n",
       "    // // Create definition for arrowhead.\n",
       "    svg.append(\"defs\").append(\"marker\")\n",
       "        .attr(\"id\", \"arrowhead\")\n",
       "        .attr(\"viewBox\", \"0 -5 10 10\")\n",
       "        .attr(\"refX\", 20)\n",
       "        .attr(\"refY\", 0)\n",
       "        .attr(\"markerUnits\", \"strokeWidth\")\n",
       "        .attr(\"markerWidth\", 6)\n",
       "        .attr(\"markerHeight\", 6)\n",
       "        .attr(\"orient\", \"auto\")\n",
       "        .append(\"path\")\n",
       "        .attr(\"d\", \"M0,-5L10,0L0,5\");\n",
       "\n",
       "    // // Create definition for stub.\n",
       "    svg.append(\"defs\").append(\"marker\")\n",
       "        .attr(\"id\", \"stub\")\n",
       "        .attr(\"viewBox\", \"-1 -5 2 10\")\n",
       "        .attr(\"refX\", 15)\n",
       "        .attr(\"refY\", 0)\n",
       "        .attr(\"markerUnits\", \"strokeWidth\")\n",
       "        .attr(\"markerWidth\", 6)\n",
       "        .attr(\"markerHeight\", 6)\n",
       "        .attr(\"orient\", \"auto\")\n",
       "        .append(\"path\")\n",
       "        .attr(\"d\", \"M 0,0 m -1,-5 L 1,-5 L 1,5 L -1,5 Z\");\n",
       "\n",
       "    // Background\n",
       "    svg.append(\"rect\")\n",
       "        .attr(\"width\", \"100%\")\n",
       "        .attr(\"height\", \"100%\")\n",
       "        .attr(\"fill\", \"#ffffff\")\n",
       "        .style(\"pointer-events\", \"all\")\n",
       "        // Zoom + panning functionality\n",
       "        .call(d3.zoom()\n",
       "            .scaleExtent([min_zoom, max_zoom])\n",
       "            .on(\"zoom\", zoomed))\n",
       "        .on(\"dblclick.zoom\", null);\n",
       "\n",
       "\n",
       "    function zoomed() {\n",
       "        g.attr(\"transform\", d3.event.transform);\n",
       "    }\n",
       "\n",
       "    // g = svg object where the graph will be appended\n",
       "    var g = svg.append(\"g\");\n",
       "\n",
       "    var linkedByIndex = {};\n",
       "    graph.links.forEach(function (d) {\n",
       "        linkedByIndex[d.source + \",\" + d.target] = true;\n",
       "    });\n",
       "\n",
       "    function isConnected(a, b) {\n",
       "        return linkedByIndex[a.index + \",\" + b.index] || linkedByIndex[b.index + \",\" + a.index] || a.index == b.index;\n",
       "    }\n",
       "\n",
       "    function ticked() {\n",
       "        link.attr(\"x1\", function (d) {\n",
       "            return d.source.x;\n",
       "        })\n",
       "            .attr(\"y1\", function (d) {\n",
       "                return d.source.y;\n",
       "            })\n",
       "            .attr(\"x2\", function (d) {\n",
       "                return d.target.x;\n",
       "            })\n",
       "            .attr(\"y2\", function (d) {\n",
       "                return d.target.y;\n",
       "            });\n",
       "\n",
       "        node\n",
       "            .attr(\"transform\", function (d) {\n",
       "                return \"translate(\" + d.x + \", \" + d.y + \")\";\n",
       "            });\n",
       "    }\n",
       "\n",
       "\n",
       "    simulation\n",
       "        .nodes(graph.nodes)\n",
       "        .on(\"tick\", ticked);\n",
       "\n",
       "    simulation.force(\"link\")\n",
       "        .links(graph.links);\n",
       "\n",
       "    // Definition of links nodes text...\n",
       "\n",
       "    var link = g.selectAll(\".link\")\n",
       "        .data(graph.links)\n",
       "        .enter().append(\"line\")\n",
       "        .style(\"stroke-width\", nominal_stroke)\n",
       "        .style(\"stroke\", default_link_color)\n",
       "        .style(\"stroke-dasharray\", function (d) {\n",
       "            if (['decreases', 'directlyDecreases', 'increases', 'directlyIncreases', 'negativeCorrelation',\n",
       "                'positiveCorrelation'].indexOf(d.relation) >= 0) {\n",
       "                return \"none\"\n",
       "            } else {\n",
       "                return \"4, 4\"\n",
       "            }\n",
       "        })\n",
       "        .attr(\"marker-start\", function (d) {\n",
       "            if ('positiveCorrelation' == d.relation) {\n",
       "                return \"url(#arrowhead)\"\n",
       "            }\n",
       "            else if ('negativeCorrelation' == d.relation) {\n",
       "                return \"url(#stub)\"\n",
       "            }\n",
       "            else {\n",
       "                return \"\"\n",
       "            }\n",
       "        })\n",
       "        .attr(\"marker-end\", function (d) {\n",
       "            if (['increases', 'directlyIncreases', 'positiveCorrelation', 'isA', 'partOf'].indexOf(d.relation) >= 0) {\n",
       "                return \"url(#arrowhead)\"\n",
       "            } else if (['decreases', 'directlyDecreases', 'negativeCorrelation'].indexOf(d.relation) >= 0) {\n",
       "                return \"url(#stub)\"\n",
       "            } else {\n",
       "                return \"\"\n",
       "            }\n",
       "        });\n",
       "\n",
       "    var node = g.selectAll(\".nodes\")\n",
       "        .data(graph.nodes)\n",
       "        .enter().append(\"g\")\n",
       "        .attr(\"class\", \"node\")\n",
       "        // Next two lines -> Pin down functionality\n",
       "        .on('dblclick', releasenode)\n",
       "        .call(node_drag);\n",
       "\n",
       "    var circle = node.append(\"path\")\n",
       "        .attr(\"d\", d3.symbol()\n",
       "            .size(function (d) {\n",
       "                return Math.PI * Math.pow(size(d.size) || nominal_base_node_size, 2);\n",
       "            })\n",
       "        )\n",
       "        .attr(\"class\", function (d) {\n",
       "            return d.function\n",
       "        })\n",
       "        .style('fill', function (d) {\n",
       "            return function_colors[d.function]\n",
       "        })\n",
       "        .style(\"stroke-width\", nominal_stroke)\n",
       "        .style(\"stroke\", color_circunferencia);\n",
       "\n",
       "    var text = node.append(\"text\")\n",
       "        .attr(\"class\", \"node-name\")\n",
       "        // .attr(\"id\", nodehashes[d])\n",
       "        .attr(\"fill\", \"black\")\n",
       "        .attr(\"dx\", 12)\n",
       "        .attr(\"dy\", \".35em\")\n",
       "        .text(function (d) {\n",
       "            return getCanonicalName(d)\n",
       "        });\n",
       "\n",
       "    // Highlight on mouseenter and back to normal on mouseout\n",
       "    node.on(\"mouseenter\", function (d) {\n",
       "        set_highlight(d);\n",
       "    })\n",
       "        .on(\"mousedown\", function () {\n",
       "            d3.event.stopPropagation();\n",
       "        }).on(\"mouseout\", function () {\n",
       "        exit_highlight();\n",
       "    });\n",
       "\n",
       "    function exit_highlight() {\n",
       "        highlight_node = null;\n",
       "        if (focus_node === null) {\n",
       "            if (highlight_node_boundering != color_circunferencia) {\n",
       "                circle.style(\"stroke\", color_circunferencia);\n",
       "                text.style(\"fill\", \"black\");\n",
       "                link.style(\"stroke\", default_link_color);\n",
       "            }\n",
       "        }\n",
       "    }\n",
       "\n",
       "    function set_highlight(d) {\n",
       "        if (focus_node !== null) d = focus_node;\n",
       "        highlight_node = d;\n",
       "\n",
       "        if (highlight_node_boundering != color_circunferencia) {\n",
       "            circle.style(\"stroke\", function (o) {\n",
       "                return isConnected(d, o) ? highlight_node_boundering : color_circunferencia;\n",
       "            });\n",
       "            text.style(\"fill\", function (o) {\n",
       "                return isConnected(d, o) ? highlight_text : \"black\";\n",
       "            });\n",
       "            link.style(\"stroke\", function (o) {\n",
       "                return o.source.index == d.index || o.target.index == d.index ? highlighted_link_color : default_link_color;\n",
       "            });\n",
       "        }\n",
       "    }\n",
       "\n",
       "\n",
       "    // Freeze the graph when space is pressed\n",
       "    function freezeGraph() {\n",
       "        // Space button Triggers STOP\n",
       "        if (d3.event.keyCode == 32) {\n",
       "            simulation.stop();\n",
       "        }\n",
       "    }\n",
       "\n",
       "    // Call freezeGraph when a key is pressed, freezeGraph checks whether this key is \"Space\" that triggers the freeze\n",
       "    d3.select(window).on(\"keydown\", freezeGraph);\n",
       "}\n",
       "\n",
       "require.config({\n",
       "    paths: {\n",
       "        d3: '//cdnjs.cloudflare.com/ajax/libs/d3/4.5.0/d3.min'\n",
       "    }\n",
       "});\n",
       "\n",
       "var elementInnerHTML = \"<div id='ubdtzosgjxeckvqp'></div>\";\n",
       "\n",
       "element.append(elementInnerHTML);\n",
       "\n",
       "require(['d3'], function (d3) {\n",
       "    return init_d3_force(d3, {\"directed\": true, \"multigraph\": true, \"graph\": {\"pybel_version\": \"0.15.5\", \"document_metadata\": {\"name\": \"Tropical Neglected Diseases\", \"version\": \"0.0.1\"}, \"namespace_url\": {}, \"namespace_pattern\": {}, \"annotation_url\": {}, \"annotation_pattern\": {}, \"annotation_list\": {}, \"annotation_curie\": [], \"annotation_miriam\": []}, \"nodes\": [{\"function\": \"Abundance\", \"concept\": {\"namespace\": \"ChEMBL\", \"name\": \"CHEMBL125\"}, \"id\": \"3e833655be33e083789b2bb91979fe0e\", \"bel\": \"a(ChEMBL:CHEMBL125)\"}, {\"function\": \"Abundance\", \"concept\": {\"namespace\": \"ChEMBL\", \"name\": \"CHEMBL1631694\"}, \"id\": \"14e635c882c71042181f7c10263c4c23\", \"bel\": \"a(ChEMBL:CHEMBL1631694)\"}, {\"function\": \"Abundance\", \"concept\": {\"namespace\": \"ChEMBL\", \"name\": \"CHEMBL529\"}, \"id\": \"2447a3ac8eab9a0729071cace80fd389\", \"bel\": \"a(ChEMBL:CHEMBL529)\"}, {\"function\": \"BiologicalProcess\", \"concept\": {\"namespace\": \"MOA\", \"name\": \"Bacterial 70S ribosome inhibitor\"}, \"id\": \"94ceb6cf451261ae93728deed32c77e9\", \"bel\": \"bp(MOA:\\\"Bacterial 70S ribosome inhibitor\\\")\"}, {\"function\": \"BiologicalProcess\", \"concept\": {\"namespace\": \"MOA\", \"name\": \"Cytotoxic\"}, \"id\": \"2d4627f6c91bc05d49d39c87c924d5d7\", \"bel\": \"bp(MOA:Cytotoxic)\"}, {\"function\": \"BiologicalProcess\", \"concept\": {\"namespace\": \"MOA\", \"name\": \"Unknown\"}, \"id\": \"4133d5a8f89f9aead7a7a11c328c6bbe\", \"bel\": \"bp(MOA:Unknown)\"}, {\"function\": \"Protein\", \"concept\": {\"namespace\": \"HGNC\", \"name\": \"ABCC1\"}, \"id\": \"71c2a0f7d606e1ef2a9624ae207e1ec8\", \"bel\": \"p(HGNC:ABCC1)\"}, {\"function\": \"Protein\", \"concept\": {\"namespace\": \"HGNC\", \"name\": \"ATAD2\"}, \"id\": \"5e1839c5c6d74166158d28c1d3d71014\", \"bel\": \"p(HGNC:ATAD2)\"}, {\"function\": \"Protein\", \"concept\": {\"namespace\": \"HGNC\", \"name\": \"BRD4\"}, \"id\": \"9fc9e3928d8dc85229a8a09bcccc6464\", \"bel\": \"p(HGNC:BRD4)\"}, {\"function\": \"Protein\", \"concept\": {\"namespace\": \"HGNC\", \"name\": \"CA12\"}, \"id\": \"da9396862c1f4a1d530d962ad899da32\", \"bel\": \"p(HGNC:CA12)\"}, {\"function\": \"Protein\", \"concept\": {\"namespace\": \"HGNC\", \"name\": \"CA7\"}, \"id\": \"fc093fae7bed2774fdc2c322109df343\", \"bel\": \"p(HGNC:CA7)\"}, {\"function\": \"Protein\", \"concept\": {\"namespace\": \"HGNC\", \"name\": \"CECR2\"}, \"id\": \"32870e2cdb77a7f205f220ff692001d5\", \"bel\": \"p(HGNC:CECR2)\"}, {\"function\": \"Protein\", \"concept\": {\"namespace\": \"HGNC\", \"name\": \"CFD\"}, \"id\": \"1bcca957477084d0cfa0b01fc39fb603\", \"bel\": \"p(HGNC:CFD)\"}, {\"function\": \"Protein\", \"concept\": {\"namespace\": \"HGNC\", \"name\": \"CHRNB4\"}, \"id\": \"063b51f2ddde00e9de22ecd26754e1bb\", \"bel\": \"p(HGNC:CHRNB4)\"}, {\"function\": \"Protein\", \"concept\": {\"namespace\": \"HGNC\", \"name\": \"CTSK\"}, \"id\": \"727b0e87fac9df6417dec8d7d0d4bb9a\", \"bel\": \"p(HGNC:CTSK)\"}, {\"function\": \"Protein\", \"concept\": {\"namespace\": \"HGNC\", \"name\": \"F10\"}, \"id\": \"8d6c6b2ada989825d13121abc7165a14\", \"bel\": \"p(HGNC:F10)\"}, {\"function\": \"Protein\", \"concept\": {\"namespace\": \"HGNC\", \"name\": \"F7\"}, \"id\": \"7885400e68cc9fb1e1c30e60837ed836\", \"bel\": \"p(HGNC:F7)\"}, {\"function\": \"Protein\", \"concept\": {\"namespace\": \"HGNC\", \"name\": \"GLO1\"}, \"id\": \"88cd87a797423db38012fd245335d7ae\", \"bel\": \"p(HGNC:GLO1)\"}, {\"function\": \"Protein\", \"concept\": {\"namespace\": \"HGNC\", \"name\": \"GPR84\"}, \"id\": \"b50990a487bb437c434576119d406bd9\", \"bel\": \"p(HGNC:GPR84)\"}, {\"function\": \"Protein\", \"concept\": {\"namespace\": \"HGNC\", \"name\": \"GRIN1\"}, \"id\": \"c2f80e49aad05a6c6399f8300959472e\", \"bel\": \"p(HGNC:GRIN1)\"}, {\"function\": \"Protein\", \"concept\": {\"namespace\": \"HGNC\", \"name\": \"HSP90AA1\"}, \"id\": \"34386a4bda09cb3e679636bd188eb3b2\", \"bel\": \"p(HGNC:HSP90AA1)\"}, {\"function\": \"Protein\", \"concept\": {\"namespace\": \"HGNC\", \"name\": \"HTR3A\"}, \"id\": \"646edb5410cc29a60f568be83dd66946\", \"bel\": \"p(HGNC:HTR3A)\"}, {\"function\": \"Protein\", \"concept\": {\"namespace\": \"HGNC\", \"name\": \"IDO1\"}, \"id\": \"83934e8f663f2c6bee13fcbaa40be34a\", \"bel\": \"p(HGNC:IDO1)\"}, {\"function\": \"Protein\", \"concept\": {\"namespace\": \"HGNC\", \"name\": \"IL2\"}, \"id\": \"99fcd5fe54813ead0bd02d8a06f42173\", \"bel\": \"p(HGNC:IL2)\"}, {\"function\": \"Protein\", \"concept\": {\"namespace\": \"HGNC\", \"name\": \"IMPDH1\"}, \"id\": \"70a3ed3105a2991dc6245664de7f5446\", \"bel\": \"p(HGNC:IMPDH1)\"}, {\"function\": \"Protein\", \"concept\": {\"namespace\": \"HGNC\", \"name\": \"IMPDH2\"}, \"id\": \"972b8ae43c7e34b9cae3594c2a2eba7c\", \"bel\": \"p(HGNC:IMPDH2)\"}, {\"function\": \"Protein\", \"concept\": {\"namespace\": \"HGNC\", \"name\": \"KDM1A\"}, \"id\": \"d8f27b8ac5adaffef019391a37bec171\", \"bel\": \"p(HGNC:KDM1A)\"}, {\"function\": \"Protein\", \"concept\": {\"namespace\": \"HGNC\", \"name\": \"KRAS\"}, \"id\": \"17f9475cafa70f7b24a41a276c539bbd\", \"bel\": \"p(HGNC:KRAS)\"}, {\"function\": \"Protein\", \"concept\": {\"namespace\": \"HGNC\", \"name\": \"LGALS3\"}, \"id\": \"985b857790f25f73c68ed4b942a5aa07\", \"bel\": \"p(HGNC:LGALS3)\"}, {\"function\": \"Protein\", \"concept\": {\"namespace\": \"HGNC\", \"name\": \"MGLL\"}, \"id\": \"ee79fa3b70d2f739abab784d1249a8ba\", \"bel\": \"p(HGNC:MGLL)\"}, {\"function\": \"Protein\", \"concept\": {\"namespace\": \"HGNC\", \"name\": \"P2RX4\"}, \"id\": \"32a67250da537fdd8de5eef407cf6159\", \"bel\": \"p(HGNC:P2RX4)\"}, {\"function\": \"Protein\", \"concept\": {\"namespace\": \"HGNC\", \"name\": \"P2RY2\"}, \"id\": \"419acaa35d9e9c85b5a5b6c6d400a79c\", \"bel\": \"p(HGNC:P2RY2)\"}, {\"function\": \"Protein\", \"concept\": {\"namespace\": \"HGNC\", \"name\": \"PDE4B\"}, \"id\": \"9107359fff1dd5e0d499281657f7d9e3\", \"bel\": \"p(HGNC:PDE4B)\"}, {\"function\": \"Protein\", \"concept\": {\"namespace\": \"HGNC\", \"name\": \"PIK3CD\"}, \"id\": \"143a58c3733eb3d5c3bdfc91071c0ca9\", \"bel\": \"p(HGNC:PIK3CD)\"}, {\"function\": \"Protein\", \"concept\": {\"namespace\": \"HGNC\", \"name\": \"PIK3R1\"}, \"id\": \"3aee3b2c3f137d96d17459c56e459e14\", \"bel\": \"p(HGNC:PIK3R1)\"}, {\"function\": \"Protein\", \"concept\": {\"namespace\": \"HGNC\", \"name\": \"PIM2\"}, \"id\": \"215443ad9d88ea48c69345142f9cd018\", \"bel\": \"p(HGNC:PIM2)\"}, {\"function\": \"Protein\", \"concept\": {\"namespace\": \"HGNC\", \"name\": \"PIN1\"}, \"id\": \"24383f5cd8a14dfb9bb692e0fb5f9d7b\", \"bel\": \"p(HGNC:PIN1)\"}, {\"function\": \"Protein\", \"concept\": {\"namespace\": \"HGNC\", \"name\": \"PLK4\"}, \"id\": \"24eae95dbfb8d596bc52ac702412ddd9\", \"bel\": \"p(HGNC:PLK4)\"}, {\"function\": \"Protein\", \"concept\": {\"namespace\": \"HGNC\", \"name\": \"PRKDC\"}, \"id\": \"c865b59ec12b5aef602b6665c9f147a1\", \"bel\": \"p(HGNC:PRKDC)\"}, {\"function\": \"Protein\", \"concept\": {\"namespace\": \"HGNC\", \"name\": \"PTK2\"}, \"id\": \"3307f6aff82b2747dd0feefb8d67c0c4\", \"bel\": \"p(HGNC:PTK2)\"}, {\"function\": \"Protein\", \"concept\": {\"namespace\": \"HGNC\", \"name\": \"PTK6\"}, \"id\": \"864ab1dd1b098840dc09aef2013f6ef9\", \"bel\": \"p(HGNC:PTK6)\"}, {\"function\": \"Protein\", \"concept\": {\"namespace\": \"HGNC\", \"name\": \"PTPN2\"}, \"id\": \"be4d3dfb40eacf2d698f583cc430b6eb\", \"bel\": \"p(HGNC:PTPN2)\"}, {\"function\": \"Protein\", \"concept\": {\"namespace\": \"HGNC\", \"name\": \"QPCT\"}, \"id\": \"da3c0b33c7a50f44ee949c91e25e0b76\", \"bel\": \"p(HGNC:QPCT)\"}, {\"function\": \"Protein\", \"concept\": {\"namespace\": \"HGNC\", \"name\": \"S1PR2\"}, \"id\": \"5e0877e99435ee61c5a59cb97061d0d2\", \"bel\": \"p(HGNC:S1PR2)\"}, {\"function\": \"Protein\", \"concept\": {\"namespace\": \"HGNC\", \"name\": \"SLC5A1\"}, \"id\": \"4f9a49bf516c45728e7df7a640c10891\", \"bel\": \"p(HGNC:SLC5A1)\"}, {\"function\": \"Protein\", \"concept\": {\"namespace\": \"HGNC\", \"name\": \"SLC6A5\"}, \"id\": \"fb93aa5e01f6b0ffe58a20ca1faf6900\", \"bel\": \"p(HGNC:SLC6A5)\"}, {\"function\": \"Protein\", \"concept\": {\"namespace\": \"HGNC\", \"name\": \"TBXAS1\"}, \"id\": \"b8d666a5d98222aa9ea3fd8aa1693e8b\", \"bel\": \"p(HGNC:TBXAS1)\"}, {\"function\": \"Protein\", \"concept\": {\"namespace\": \"HGNC\", \"name\": \"THRB\"}, \"id\": \"71d3f56e8f6a16ea5479d9b65316493a\", \"bel\": \"p(HGNC:THRB)\"}, {\"function\": \"Protein\", \"concept\": {\"namespace\": \"HGNC\", \"name\": \"TMIGD3\"}, \"id\": \"86dbee0959d066a5efd09b7666e99b05\", \"bel\": \"p(HGNC:TMIGD3)\"}, {\"function\": \"Protein\", \"concept\": {\"namespace\": \"HGNC\", \"name\": \"TNF\"}, \"id\": \"fdc1c1f5a73c3c992b6eb71ce9b6908e\", \"bel\": \"p(HGNC:TNF)\"}, {\"function\": \"Protein\", \"concept\": {\"namespace\": \"HGNC\", \"name\": \"USP7\"}, \"id\": \"d6d6ca34a6db13894d16b2041f1070d7\", \"bel\": \"p(HGNC:USP7)\"}, {\"function\": \"Protein\", \"concept\": {\"namespace\": \"HGNC\", \"name\": \"VDR\"}, \"id\": \"2fc8bae6bce5ff9bba9e6a2b74e3e469\", \"bel\": \"p(HGNC:VDR)\"}, {\"function\": \"Protein\", \"concept\": {\"namespace\": \"HGNC\", \"name\": \"YES1\"}, \"id\": \"fa87ae86fc5516e2b12aaa268860e83c\", \"bel\": \"p(HGNC:YES1)\"}, {\"function\": \"Protein\", \"concept\": {\"namespace\": \"HGNC\", \"name\": \"rpsB\"}, \"id\": \"2a020989e8b39b758e999e8b3d3222ee\", \"bel\": \"p(HGNC:rpsB)\"}, {\"function\": \"Pathology\", \"concept\": {\"namespace\": \"Disease\", \"name\": \"Abdominal Pain\"}, \"id\": \"481c08a9667070a0bf1eba64621dc6b8\", \"bel\": \"path(Disease:\\\"Abdominal Pain\\\")\"}, {\"function\": \"Pathology\", \"concept\": {\"namespace\": \"Disease\", \"name\": \"Acne Vulgaris\"}, \"id\": \"ea6936fd2c788fa6359dc99f0de53507\", \"bel\": \"path(Disease:\\\"Acne Vulgaris\\\")\"}, {\"function\": \"Pathology\", \"concept\": {\"namespace\": \"Disease\", \"name\": \"Anemia, Sickle Cell\"}, \"id\": \"0bdd66ec435a3f66333938c07197b52b\", \"bel\": \"path(Disease:\\\"Anemia, Sickle Cell\\\")\"}, {\"function\": \"Pathology\", \"concept\": {\"namespace\": \"Disease\", \"name\": \"Arthritis, Reactive\"}, \"id\": \"0a148b50739d6d43f807989164385015\", \"bel\": \"path(Disease:\\\"Arthritis, Reactive\\\")\"}, {\"function\": \"Pathology\", \"concept\": {\"namespace\": \"Disease\", \"name\": \"Bacterial Infections\"}, \"id\": \"1fef7c09ed75e3d7eb5b0ca9349a62c4\", \"bel\": \"path(Disease:\\\"Bacterial Infections\\\")\"}, {\"function\": \"Pathology\", \"concept\": {\"namespace\": \"Disease\", \"name\": \"Bronchial Diseases\"}, \"id\": \"33927e37bba3757786a03138fba899e8\", \"bel\": \"path(Disease:\\\"Bronchial Diseases\\\")\"}, {\"function\": \"Pathology\", \"concept\": {\"namespace\": \"Disease\", \"name\": \"Bronchiolitis Obliterans\"}, \"id\": \"3277234465bf007953dd0ad08fed0421\", \"bel\": \"path(Disease:\\\"Bronchiolitis Obliterans\\\")\"}, {\"function\": \"Pathology\", \"concept\": {\"namespace\": \"Disease\", \"name\": \"Bronchitis, Chronic\"}, \"id\": \"aaa0aaea5ede7e0c147c624f537952af\", \"bel\": \"path(Disease:\\\"Bronchitis, Chronic\\\")\"}, {\"function\": \"Pathology\", \"concept\": {\"namespace\": \"Disease\", \"name\": \"Bronchopulmonary Dysplasia\"}, \"id\": \"44cc6309fd8d420476fd8562c707844b\", \"bel\": \"path(Disease:\\\"Bronchopulmonary Dysplasia\\\")\"}, {\"function\": \"Pathology\", \"concept\": {\"namespace\": \"Disease\", \"name\": \"Chagas Disease\"}, \"id\": \"61c278469bb002b9b4e89f56215a4e0f\", \"bel\": \"path(Disease:\\\"Chagas Disease\\\")\"}, {\"function\": \"Pathology\", \"concept\": {\"namespace\": \"Disease\", \"name\": \"Chlamydia Infections\"}, \"id\": \"c0318ec920742f6393b0237943055cbc\", \"bel\": \"path(Disease:\\\"Chlamydia Infections\\\")\"}, {\"function\": \"Pathology\", \"concept\": {\"namespace\": \"Disease\", \"name\": \"Conjunctivitis, Bacterial\"}, \"id\": \"81c9930ae73c6a6bfdb01514af8995ef\", \"bel\": \"path(Disease:\\\"Conjunctivitis, Bacterial\\\")\"}, {\"function\": \"Pathology\", \"concept\": {\"namespace\": \"Disease\", \"name\": \"Conjunctivitis, Inclusion\"}, \"id\": \"2012f89cf87fa6092ffaf1f7fe15c9d3\", \"bel\": \"path(Disease:\\\"Conjunctivitis, Inclusion\\\")\"}, {\"function\": \"Pathology\", \"concept\": {\"namespace\": \"Disease\", \"name\": \"Coronary Disease\"}, \"id\": \"8a23c3e28ba0c73ab031e0e13310d590\", \"bel\": \"path(Disease:\\\"Coronary Disease\\\")\"}, {\"function\": \"Pathology\", \"concept\": {\"namespace\": \"Disease\", \"name\": \"Coronavirus Infections\"}, \"id\": \"370d5fd455be90ccb664fb10914d6146\", \"bel\": \"path(Disease:\\\"Coronavirus Infections\\\")\"}, {\"function\": \"Pathology\", \"concept\": {\"namespace\": \"Disease\", \"name\": \"Crohn Disease\"}, \"id\": \"b43c6b4ec8b5f033f80ecd272072a45b\", \"bel\": \"path(Disease:\\\"Crohn Disease\\\")\"}, {\"function\": \"Pathology\", \"concept\": {\"namespace\": \"Disease\", \"name\": \"Cystic Fibrosis\"}, \"id\": \"926fc012b4a6d960b45bf1342809cd02\", \"bel\": \"path(Disease:\\\"Cystic Fibrosis\\\")\"}, {\"function\": \"Pathology\", \"concept\": {\"namespace\": \"Disease\", \"name\": \"Digestive System Diseases\"}, \"id\": \"afa40104f348a0ec676c54102a8c67b9\", \"bel\": \"path(Disease:\\\"Digestive System Diseases\\\")\"}, {\"function\": \"Pathology\", \"concept\": {\"namespace\": \"Disease\", \"name\": \"Dysentery, Bacillary\"}, \"id\": \"a95435f6e0890745d008d933d69c06e8\", \"bel\": \"path(Disease:\\\"Dysentery, Bacillary\\\")\"}, {\"function\": \"Pathology\", \"concept\": {\"namespace\": \"Disease\", \"name\": \"Eye Diseases\"}, \"id\": \"b7649dc427d9209ae0a2bcec95b14ccc\", \"bel\": \"path(Disease:\\\"Eye Diseases\\\")\"}, {\"function\": \"Pathology\", \"concept\": {\"namespace\": \"Disease\", \"name\": \"Eye Infections\"}, \"id\": \"34370bb20176fad8256311934aa9ef1d\", \"bel\": \"path(Disease:\\\"Eye Infections\\\")\"}, {\"function\": \"Pathology\", \"concept\": {\"namespace\": \"Disease\", \"name\": \"Gastrointestinal Hemorrhage\"}, \"id\": \"5dcd840f4664fea3d4308051bae80122\", \"bel\": \"path(Disease:\\\"Gastrointestinal Hemorrhage\\\")\"}, {\"function\": \"Pathology\", \"concept\": {\"namespace\": \"Disease\", \"name\": \"Graves Ophthalmopathy\"}, \"id\": \"d6964071f0b7803fb4773fc537bfd308\", \"bel\": \"path(Disease:\\\"Graves Ophthalmopathy\\\")\"}, {\"function\": \"Pathology\", \"concept\": {\"namespace\": \"Disease\", \"name\": \"HIV Infections\"}, \"id\": \"b6abff0844f08f36e00e5397e64728cc\", \"bel\": \"path(Disease:\\\"HIV Infections\\\")\"}, {\"function\": \"Pathology\", \"concept\": {\"namespace\": \"Disease\", \"name\": \"Hemorrhagic Fever, Ebola\"}, \"id\": \"bfe1e428943c35eb2b69f5ccd91c3d2e\", \"bel\": \"path(Disease:\\\"Hemorrhagic Fever, Ebola\\\")\"}, {\"function\": \"Pathology\", \"concept\": {\"namespace\": \"Disease\", \"name\": \"Immune System Diseases\"}, \"id\": \"f98fb4af1e4fc5c837b3cc9a100611b7\", \"bel\": \"path(Disease:\\\"Immune System Diseases\\\")\"}, {\"function\": \"Pathology\", \"concept\": {\"namespace\": \"Disease\", \"name\": \"Leishmaniasis, Cutaneous\"}, \"id\": \"8c763aaf5c645d103c66964fa82806e1\", \"bel\": \"path(Disease:\\\"Leishmaniasis, Cutaneous\\\")\"}, {\"function\": \"Pathology\", \"concept\": {\"namespace\": \"Disease\", \"name\": \"Leishmaniasis, Mucocutaneous\"}, \"id\": \"dba7d3fb2a8ee1280513a90d33e335be\", \"bel\": \"path(Disease:\\\"Leishmaniasis, Mucocutaneous\\\")\"}, {\"function\": \"Pathology\", \"concept\": {\"namespace\": \"Disease\", \"name\": \"Leishmaniasis, Visceral\"}, \"id\": \"824aca4c106416ed719aacbedbe829e6\", \"bel\": \"path(Disease:\\\"Leishmaniasis, Visceral\\\")\"}, {\"function\": \"Pathology\", \"concept\": {\"namespace\": \"Disease\", \"name\": \"Lung Diseases\"}, \"id\": \"ab66e31934aea2c447ac4b529d2237a7\", \"bel\": \"path(Disease:\\\"Lung Diseases\\\")\"}, {\"function\": \"Pathology\", \"concept\": {\"namespace\": \"Disease\", \"name\": \"Malaria, Falciparum\"}, \"id\": \"ae93abe55b1893d90e41edcf82471d09\", \"bel\": \"path(Disease:\\\"Malaria, Falciparum\\\")\"}, {\"function\": \"Pathology\", \"concept\": {\"namespace\": \"Disease\", \"name\": \"Maxillary Sinusitis\"}, \"id\": \"6fe7e9f6361ca062bab7e370936f4023\", \"bel\": \"path(Disease:\\\"Maxillary Sinusitis\\\")\"}, {\"function\": \"Pathology\", \"concept\": {\"namespace\": \"Disease\", \"name\": \"Multiple Sclerosis\"}, \"id\": \"42ab69f4075bf250a1ac49f3230903d6\", \"bel\": \"path(Disease:\\\"Multiple Sclerosis\\\")\"}, {\"function\": \"Pathology\", \"concept\": {\"namespace\": \"Disease\", \"name\": \"Mycobacterium Infections\"}, \"id\": \"bb2f3c1d99dc85e376726297c0838352\", \"bel\": \"path(Disease:\\\"Mycobacterium Infections\\\")\"}, {\"function\": \"Pathology\", \"concept\": {\"namespace\": \"Disease\", \"name\": \"Mycobacterium avium-intracellulare Infection\"}, \"id\": \"df6fe72eaac7311b1d1a6f4226209925\", \"bel\": \"path(Disease:\\\"Mycobacterium avium-intracellulare Infection\\\")\"}, {\"function\": \"Pathology\", \"concept\": {\"namespace\": \"Disease\", \"name\": \"Myocardial Infarction\"}, \"id\": \"40508fbe5af994cd26819ec84174e24f\", \"bel\": \"path(Disease:\\\"Myocardial Infarction\\\")\"}, {\"function\": \"Pathology\", \"concept\": {\"namespace\": \"Disease\", \"name\": \"Neonatal Sepsis\"}, \"id\": \"4660e090c115dc01a59f94004d8caf38\", \"bel\": \"path(Disease:\\\"Neonatal Sepsis\\\")\"}, {\"function\": \"Pathology\", \"concept\": {\"namespace\": \"Disease\", \"name\": \"Obsessive-Compulsive Disorder\"}, \"id\": \"50fc645a7660c50c63833c71b9e42441\", \"bel\": \"path(Disease:\\\"Obsessive-Compulsive Disorder\\\")\"}, {\"function\": \"Pathology\", \"concept\": {\"namespace\": \"Disease\", \"name\": \"Otitis Media\"}, \"id\": \"fad2d12a0a3702497c5b93ea0f98dbce\", \"bel\": \"path(Disease:\\\"Otitis Media\\\")\"}, {\"function\": \"Pathology\", \"concept\": {\"namespace\": \"Disease\", \"name\": \"Otitis Media, Suppurative\"}, \"id\": \"46c304c94323bdf13c08fb8f91639c73\", \"bel\": \"path(Disease:\\\"Otitis Media, Suppurative\\\")\"}, {\"function\": \"Pathology\", \"concept\": {\"namespace\": \"Disease\", \"name\": \"Pelvic Inflammatory Disease\"}, \"id\": \"b6a627419fc976187594d1ed5d976667\", \"bel\": \"path(Disease:\\\"Pelvic Inflammatory Disease\\\")\"}, {\"function\": \"Pathology\", \"concept\": {\"namespace\": \"Disease\", \"name\": \"Pneumonia, Viral\"}, \"id\": \"27937b2dbfb17bfe409c3abc35933e25\", \"bel\": \"path(Disease:\\\"Pneumonia, Viral\\\")\"}, {\"function\": \"Pathology\", \"concept\": {\"namespace\": \"Disease\", \"name\": \"Premature Birth\"}, \"id\": \"76faa499db7bd5e8b12a20527fd36372\", \"bel\": \"path(Disease:\\\"Premature Birth\\\")\"}, {\"function\": \"Pathology\", \"concept\": {\"namespace\": \"Disease\", \"name\": \"Pulmonary Disease, Chronic Obstructive\"}, \"id\": \"30ff8c4957aafb16363a204188611432\", \"bel\": \"path(Disease:\\\"Pulmonary Disease, Chronic Obstructive\\\")\"}, {\"function\": \"Pathology\", \"concept\": {\"namespace\": \"Disease\", \"name\": \"Respiratory Distress Syndrome\"}, \"id\": \"94f0fc4cdafcd30c1e060379cbf68820\", \"bel\": \"path(Disease:\\\"Respiratory Distress Syndrome\\\")\"}, {\"function\": \"Pathology\", \"concept\": {\"namespace\": \"Disease\", \"name\": \"Respiratory Insufficiency\"}, \"id\": \"79a6c5193e45676c1a650914584240fb\", \"bel\": \"path(Disease:\\\"Respiratory Insufficiency\\\")\"}, {\"function\": \"Pathology\", \"concept\": {\"namespace\": \"Disease\", \"name\": \"Respiratory Syncytial Virus Infections\"}, \"id\": \"209cb1e2958d580292616864d385c0e7\", \"bel\": \"path(Disease:\\\"Respiratory Syncytial Virus Infections\\\")\"}, {\"function\": \"Pathology\", \"concept\": {\"namespace\": \"Disease\", \"name\": \"Severe Acute Respiratory Syndrome\"}, \"id\": \"d446f882cf244f59fe4d5bf41c2dfb19\", \"bel\": \"path(Disease:\\\"Severe Acute Respiratory Syndrome\\\")\"}, {\"function\": \"Pathology\", \"concept\": {\"namespace\": \"Disease\", \"name\": \"Spotted Fever Group Rickettsiosis\"}, \"id\": \"20a2591e41710e8586cdc6afee2c8c6c\", \"bel\": \"path(Disease:\\\"Spotted Fever Group Rickettsiosis\\\")\"}, {\"function\": \"Pathology\", \"concept\": {\"namespace\": \"Disease\", \"name\": \"Sprains and Strains\"}, \"id\": \"e623c4da6aa1dee9a73793c53f6f6800\", \"bel\": \"path(Disease:\\\"Sprains and Strains\\\")\"}, {\"function\": \"Pathology\", \"concept\": {\"namespace\": \"Disease\", \"name\": \"Toxoplasmosis, Cerebral\"}, \"id\": \"256af27beb91a652952233b9cbbf8a88\", \"bel\": \"path(Disease:\\\"Toxoplasmosis, Cerebral\\\")\"}, {\"function\": \"Pathology\", \"concept\": {\"namespace\": \"Disease\", \"name\": \"Trypanosomiasis, African\"}, \"id\": \"39123d983f32ebad1c5e41f37ea5f06c\", \"bel\": \"path(Disease:\\\"Trypanosomiasis, African\\\")\"}, {\"function\": \"Pathology\", \"concept\": {\"namespace\": \"Disease\", \"name\": \"Uterine Cervicitis\"}, \"id\": \"c70e9c94cf5f8487f97c82b2a7b38522\", \"bel\": \"path(Disease:\\\"Uterine Cervicitis\\\")\"}, {\"function\": \"Pathology\", \"concept\": {\"namespace\": \"Disease\", \"name\": \"Whooping Cough\"}, \"id\": \"0a3fe902d14870d023eee4f06ec6f3d3\", \"bel\": \"path(Disease:\\\"Whooping Cough\\\")\"}, {\"function\": \"Pathology\", \"concept\": {\"namespace\": \"Disease\", \"name\": \"Asthma\"}, \"id\": \"284ce2208f9c793f5b972898cefd2161\", \"bel\": \"path(Disease:Asthma)\"}, {\"function\": \"Pathology\", \"concept\": {\"namespace\": \"Disease\", \"name\": \"Blepharitis\"}, \"id\": \"2432ea8484a18e073418fe0391c0ff00\", \"bel\": \"path(Disease:Blepharitis)\"}, {\"function\": \"Pathology\", \"concept\": {\"namespace\": \"Disease\", \"name\": \"Bronchiectasis\"}, \"id\": \"490d1f086e1e79046b954949f90cc579\", \"bel\": \"path(Disease:Bronchiectasis)\"}, {\"function\": \"Pathology\", \"concept\": {\"namespace\": \"Disease\", \"name\": \"Bronchiolitis\"}, \"id\": \"778e130594c1f72538411fb5dec1d79f\", \"bel\": \"path(Disease:Bronchiolitis)\"}, {\"function\": \"Pathology\", \"concept\": {\"namespace\": \"Disease\", \"name\": \"Cough\"}, \"id\": \"f0141e9fabd5d02268ebb490169e5c93\", \"bel\": \"path(Disease:Cough)\"}, {\"function\": \"Pathology\", \"concept\": {\"namespace\": \"Disease\", \"name\": \"Diarrhea\"}, \"id\": \"f19723973fd4b883a8b4041be190cf57\", \"bel\": \"path(Disease:Diarrhea)\"}, {\"function\": \"Pathology\", \"concept\": {\"namespace\": \"Disease\", \"name\": \"Fever\"}, \"id\": \"bfb3524485ec67537a258321ba3b52ba\", \"bel\": \"path(Disease:Fever)\"}, {\"function\": \"Pathology\", \"concept\": {\"namespace\": \"Disease\", \"name\": \"Fibrosis\"}, \"id\": \"3653158b75280a570d16cd53b20c1580\", \"bel\": \"path(Disease:Fibrosis)\"}, {\"function\": \"Pathology\", \"concept\": {\"namespace\": \"Disease\", \"name\": \"Gastroparesis\"}, \"id\": \"fc2588fca87ac266afeaaeb03fe75f49\", \"bel\": \"path(Disease:Gastroparesis)\"}, {\"function\": \"Pathology\", \"concept\": {\"namespace\": \"Disease\", \"name\": \"Gonorrhea\"}, \"id\": \"a31327ceee5ffcfa3e0395e4ca569f12\", \"bel\": \"path(Disease:Gonorrhea)\"}, {\"function\": \"Pathology\", \"concept\": {\"namespace\": \"Disease\", \"name\": \"Infections\"}, \"id\": \"ab51b3a3e1180f35a66230444fd4feeb\", \"bel\": \"path(Disease:Infections)\"}, {\"function\": \"Pathology\", \"concept\": {\"namespace\": \"Disease\", \"name\": \"Inflammation\"}, \"id\": \"f4b1703da238f71629b142564f101e9a\", \"bel\": \"path(Disease:Inflammation)\"}, {\"function\": \"Pathology\", \"concept\": {\"namespace\": \"Disease\", \"name\": \"Leishmaniasis\"}, \"id\": \"80f504b9f75b77239ad260d6e2341a35\", \"bel\": \"path(Disease:Leishmaniasis)\"}, {\"function\": \"Pathology\", \"concept\": {\"namespace\": \"Disease\", \"name\": \"Malaria\"}, \"id\": \"3e21b55a5f885fb53144c45c0787431e\", \"bel\": \"path(Disease:Malaria)\"}, {\"function\": \"Pathology\", \"concept\": {\"namespace\": \"Disease\", \"name\": \"Malnutrition\"}, \"id\": \"a3f20fc8d6793eba216300b3f713feaa\", \"bel\": \"path(Disease:Malnutrition)\"}, {\"function\": \"Pathology\", \"concept\": {\"namespace\": \"Disease\", \"name\": \"Mycoses\"}, \"id\": \"1be9e689834f764d787ef59b6d3fac00\", \"bel\": \"path(Disease:Mycoses)\"}, {\"function\": \"Pathology\", \"concept\": {\"namespace\": \"Disease\", \"name\": \"Neoplasms\"}, \"id\": \"4a3f4c5dd57680878bd9cec53f144657\", \"bel\": \"path(Disease:Neoplasms)\"}, {\"function\": \"Pathology\", \"concept\": {\"namespace\": \"Disease\", \"name\": \"Obesity\"}, \"id\": \"fb5379c695fded0e83c708051b710f29\", \"bel\": \"path(Disease:Obesity)\"}, {\"function\": \"Pathology\", \"concept\": {\"namespace\": \"Disease\", \"name\": \"Onchocerciasis\"}, \"id\": \"060a5283ce0a8da4b57fd2cb611a2f6e\", \"bel\": \"path(Disease:Onchocerciasis)\"}, {\"function\": \"Pathology\", \"concept\": {\"namespace\": \"Disease\", \"name\": \"Osteomyelitis\"}, \"id\": \"0abb87fb8f543b6bf47c92da3b584331\", \"bel\": \"path(Disease:Osteomyelitis)\"}, {\"function\": \"Pathology\", \"concept\": {\"namespace\": \"Disease\", \"name\": \"Periodontitis\"}, \"id\": \"a4a19f89d25ffb7f84c0de36f1ed8562\", \"bel\": \"path(Disease:Periodontitis)\"}, {\"function\": \"Pathology\", \"concept\": {\"namespace\": \"Disease\", \"name\": \"Pharyngitis\"}, \"id\": \"e2ba4f2e8bff0a751a5b55eb922b02cd\", \"bel\": \"path(Disease:Pharyngitis)\"}, {\"function\": \"Pathology\", \"concept\": {\"namespace\": \"Disease\", \"name\": \"Pneumonia\"}, \"id\": \"317a9c7e021fb6f127c98b5eadf5981a\", \"bel\": \"path(Disease:Pneumonia)\"}, {\"function\": \"Pathology\", \"concept\": {\"namespace\": \"Disease\", \"name\": \"Pregnancy\"}, \"id\": \"5b3068036db0b9fb33ef0645a3a910fa\", \"bel\": \"path(Disease:Pregnancy)\"}, {\"function\": \"Pathology\", \"concept\": {\"namespace\": \"Disease\", \"name\": \"Sarcoidosis\"}, \"id\": \"34062d54c8ab16f2a85e00630a5ac392\", \"bel\": \"path(Disease:Sarcoidosis)\"}, {\"function\": \"Pathology\", \"concept\": {\"namespace\": \"Disease\", \"name\": \"Sepsis\"}, \"id\": \"6122005f78303b94cb80a6577486a048\", \"bel\": \"path(Disease:Sepsis)\"}, {\"function\": \"Pathology\", \"concept\": {\"namespace\": \"Disease\", \"name\": \"Sinusitis\"}, \"id\": \"bb2431d1221b5faaeb187e388c66f327\", \"bel\": \"path(Disease:Sinusitis)\"}, {\"function\": \"Pathology\", \"concept\": {\"namespace\": \"Disease\", \"name\": \"Syphilis\"}, \"id\": \"da8fb5e016e7624430a229e4d0c14e7b\", \"bel\": \"path(Disease:Syphilis)\"}, {\"function\": \"Pathology\", \"concept\": {\"namespace\": \"Disease\", \"name\": \"Tonsillitis\"}, \"id\": \"826f76c3a34289dd86be008cc1de2cba\", \"bel\": \"path(Disease:Tonsillitis)\"}, {\"function\": \"Pathology\", \"concept\": {\"namespace\": \"Disease\", \"name\": \"Trypanosomiasis\"}, \"id\": \"6615c2cc0388ba44af00e9d5945bb9fa\", \"bel\": \"path(Disease:Trypanosomiasis)\"}, {\"function\": \"Pathology\", \"concept\": {\"namespace\": \"Disease\", \"name\": \"Tuberculosis\"}, \"id\": \"5dd47037b23ac8443c4adb76e71224dc\", \"bel\": \"path(Disease:Tuberculosis)\"}, {\"function\": \"Pathology\", \"concept\": {\"namespace\": \"Disease\", \"name\": \"Ulcer\"}, \"id\": \"f4e324d642ad4b6756b1b34fb7931dcf\", \"bel\": \"path(Disease:Ulcer)\"}, {\"function\": \"Pathology\", \"concept\": {\"namespace\": \"Disease\", \"name\": \"Urethritis\"}, \"id\": \"a856c8c1f0e807cda782e5693bcd7254\", \"bel\": \"path(Disease:Urethritis)\"}, {\"function\": \"Pathology\", \"concept\": {\"namespace\": \"Disease\", \"name\": \"Urticaria\"}, \"id\": \"0cc6dbffd99f11f9302411dc1add04ad\", \"bel\": \"path(Disease:Urticaria)\"}, {\"function\": \"Pathology\", \"concept\": {\"namespace\": \"Disease\", \"name\": \"Vomiting\"}, \"id\": \"2579a718d2add24316a3b994f95375ee\", \"bel\": \"path(Disease:Vomiting)\"}, {\"function\": \"Pathology\", \"concept\": {\"namespace\": \"Disease\", \"name\": \"Yaws\"}, \"id\": \"8a011e5e9f3543ed8322eabf961cfeda\", \"bel\": \"path(Disease:Yaws)\"}, {\"function\": \"Pathology\", \"concept\": {\"namespace\": \"DrugWarning\", \"name\": \"teratogenicity\"}, \"id\": \"8ae0c99074af2a7998a4e0d970a48c11\", \"bel\": \"path(DrugWarning:teratogenicity)\"}, {\"function\": \"Pathology\", \"concept\": {\"namespace\": \"SideEffect\", \"name\": \"acanthamoeba infection\"}, \"id\": \"2d0d6820f6dabd9214ff2194962f6955\", \"bel\": \"path(SideEffect:\\\"acanthamoeba infection\\\")\"}, {\"function\": \"Pathology\", \"concept\": {\"namespace\": \"SideEffect\", \"name\": \"decreased appetite\"}, \"id\": \"f0a2790340c8a8e24e608de97e4a93e8\", \"bel\": \"path(SideEffect:\\\"decreased appetite\\\")\"}, {\"function\": \"Pathology\", \"concept\": {\"namespace\": \"SideEffect\", \"name\": \"drug effective for unapproved indication\"}, \"id\": \"4a9103afc635d801babe7498dd3541a9\", \"bel\": \"path(SideEffect:\\\"drug effective for unapproved indication\\\")\"}, {\"function\": \"Pathology\", \"concept\": {\"namespace\": \"SideEffect\", \"name\": \"drug hypersensitivity\"}, \"id\": \"41d26a5e8c85c7dea5cae8543da616ad\", \"bel\": \"path(SideEffect:\\\"drug hypersensitivity\\\")\"}, {\"function\": \"Pathology\", \"concept\": {\"namespace\": \"SideEffect\", \"name\": \"drug interaction\"}, \"id\": \"cdf6a9dae35c8c22417f9196df452b9e\", \"bel\": \"path(SideEffect:\\\"drug interaction\\\")\"}, {\"function\": \"Pathology\", \"concept\": {\"namespace\": \"SideEffect\", \"name\": \"drug intolerance\"}, \"id\": \"16f184638c0ca05e094db6afbd384e58\", \"bel\": \"path(SideEffect:\\\"drug intolerance\\\")\"}, {\"function\": \"Pathology\", \"concept\": {\"namespace\": \"SideEffect\", \"name\": \"drug-induced liver injury\"}, \"id\": \"46d21adbc1a662ee9a8307d21511257a\", \"bel\": \"path(SideEffect:\\\"drug-induced liver injury\\\")\"}, {\"function\": \"Pathology\", \"concept\": {\"namespace\": \"SideEffect\", \"name\": \"electrocardiogram qt prolonged\"}, \"id\": \"06957f5a5897d69a6f5448d1f76df637\", \"bel\": \"path(SideEffect:\\\"electrocardiogram qt prolonged\\\")\"}, {\"function\": \"Pathology\", \"concept\": {\"namespace\": \"SideEffect\", \"name\": \"electrolyte imbalance\"}, \"id\": \"539d4906367d6664a4709f6522acc937\", \"bel\": \"path(SideEffect:\\\"electrolyte imbalance\\\")\"}, {\"function\": \"Pathology\", \"concept\": {\"namespace\": \"SideEffect\", \"name\": \"gastrointestinal disorder\"}, \"id\": \"8f17947d22a966f658465785cc7be4ff\", \"bel\": \"path(SideEffect:\\\"gastrointestinal disorder\\\")\"}, {\"function\": \"Pathology\", \"concept\": {\"namespace\": \"SideEffect\", \"name\": \"macular degeneration\"}, \"id\": \"d84ff041be8094e538ca8aff9696f868\", \"bel\": \"path(SideEffect:\\\"macular degeneration\\\")\"}, {\"function\": \"Pathology\", \"concept\": {\"namespace\": \"SideEffect\", \"name\": \"mucocutaneous leishmaniasis\"}, \"id\": \"7a4bee04fbff4cadef7ad4c954ac2c33\", \"bel\": \"path(SideEffect:\\\"mucocutaneous leishmaniasis\\\")\"}, {\"function\": \"Pathology\", \"concept\": {\"namespace\": \"SideEffect\", \"name\": \"normal labour\"}, \"id\": \"a7709940967ada1b6c8534a6395c026b\", \"bel\": \"path(SideEffect:\\\"normal labour\\\")\"}, {\"function\": \"Pathology\", \"concept\": {\"namespace\": \"SideEffect\", \"name\": \"stevens-johnson syndrome\"}, \"id\": \"a90620b19baca0da3cf74bd34dcb7433\", \"bel\": \"path(SideEffect:\\\"stevens-johnson syndrome\\\")\"}, {\"function\": \"Pathology\", \"concept\": {\"namespace\": \"SideEffect\", \"name\": \"transaminases increased\"}, \"id\": \"62d4a7fa4e461708959397f5cc184908\", \"bel\": \"path(SideEffect:\\\"transaminases increased\\\")\"}, {\"function\": \"Pathology\", \"concept\": {\"namespace\": \"SideEffect\", \"name\": \"vasogenic cerebral oedema\"}, \"id\": \"8529bdbf9b66bc374318c1fda4e58fdb\", \"bel\": \"path(SideEffect:\\\"vasogenic cerebral oedema\\\")\"}, {\"function\": \"Pathology\", \"concept\": {\"namespace\": \"SideEffect\", \"name\": \"visceral leishmaniasis\"}, \"id\": \"3c05724462912871ed893d53f40557b4\", \"bel\": \"path(SideEffect:\\\"visceral leishmaniasis\\\")\"}, {\"function\": \"Pathology\", \"concept\": {\"namespace\": \"SideEffect\", \"name\": \"alexia\"}, \"id\": \"458fe8539b4b78984f0ac75f6cf8188d\", \"bel\": \"path(SideEffect:alexia)\"}, {\"function\": \"Pathology\", \"concept\": {\"namespace\": \"SideEffect\", \"name\": \"anosmia\"}, \"id\": \"e4c7b6c63a111787e1acbadfffe659ef\", \"bel\": \"path(SideEffect:anosmia)\"}, {\"function\": \"Pathology\", \"concept\": {\"namespace\": \"SideEffect\", \"name\": \"deafness\"}, \"id\": \"4fe6e45570647c74938937bbf335569d\", \"bel\": \"path(SideEffect:deafness)\"}, {\"function\": \"Pathology\", \"concept\": {\"namespace\": \"SideEffect\", \"name\": \"hyperkalaemia\"}, \"id\": \"509692de2d99813942fc817f0c8c81f8\", \"bel\": \"path(SideEffect:hyperkalaemia)\"}, {\"function\": \"Pathology\", \"concept\": {\"namespace\": \"SideEffect\", \"name\": \"keratitis\"}, \"id\": \"d48a90df99a592a38fbc0f3674b9bc79\", \"bel\": \"path(SideEffect:keratitis)\"}, {\"function\": \"Pathology\", \"concept\": {\"namespace\": \"SideEffect\", \"name\": \"leishmaniasis\"}, \"id\": \"2ae940054e48fc03c68276fbd079c5e3\", \"bel\": \"path(SideEffect:leishmaniasis)\"}, {\"function\": \"Pathology\", \"concept\": {\"namespace\": \"SideEffect\", \"name\": \"nausea\"}, \"id\": \"14eac5cec5b573f44d8be52d77567198\", \"bel\": \"path(SideEffect:nausea)\"}, {\"function\": \"Pathology\", \"concept\": {\"namespace\": \"SideEffect\", \"name\": \"quadrantanopia\"}, \"id\": \"444089dabea5178b937727d73815c64f\", \"bel\": \"path(SideEffect:quadrantanopia)\"}, {\"function\": \"Pathology\", \"concept\": {\"namespace\": \"SideEffect\", \"name\": \"urticaria\"}, \"id\": \"651901fe1740e30109f7976d60d6e245\", \"bel\": \"path(SideEffect:urticaria)\"}, {\"function\": \"Pathology\", \"concept\": {\"namespace\": \"SideEffect\", \"name\": \"wheezing\"}, \"id\": \"bd0a3a9413055531775ed6e04104b4e8\", \"bel\": \"path(SideEffect:wheezing)\"}], \"links\": [{\"relation\": \"association\", \"evidence\": \"DrugReactions\", \"citation\": {\"namespace\": \"pubmed\", \"identifier\": \"OpenTargets Platform\"}, \"source\": 156, \"target\": 0, \"key\": \"db9c7a62eef4659e25c0d8045b484aa5\"}, {\"relation\": \"association\", \"evidence\": \"DrugReactions\", \"citation\": {\"namespace\": \"pubmed\", \"identifier\": \"OpenTargets Platform\"}, \"source\": 164, \"target\": 2, \"key\": \"448799769ec6cf0c13873d30f67dc33e\"}, {\"relation\": \"association\", \"evidence\": \"Targetted predictions\", \"citation\": {\"namespace\": \"pubmed\", \"identifier\": \"ChEMBL\"}, \"source\": 41, \"target\": 2, \"key\": \"7c3bd1916a777477c24b12b1b9cad056\"}, {\"relation\": \"association\", \"evidence\": \"ChEMBL query\", \"citation\": {\"namespace\": \"pubmed\", \"identifier\": \"ChEMBL database\"}, \"source\": 66, \"target\": 2, \"key\": \"fa69f11ab3e643c051ce84d8b6746251\"}, {\"relation\": \"association\", \"evidence\": \"ChEMBL query\", \"citation\": {\"namespace\": \"pubmed\", \"identifier\": \"ChEMBL database\"}, \"source\": 72, \"target\": 2, \"key\": \"9e69d203e07dd365dc9938f8a43516b0\"}, {\"relation\": \"association\", \"evidence\": \"ChEMBL query\", \"citation\": {\"namespace\": \"pubmed\", \"identifier\": \"ChEMBL database\"}, \"source\": 86, \"target\": 2, \"key\": \"97d552cd6dcb3f10eb3e70004f492e59\"}, {\"relation\": \"association\", \"evidence\": \"Targetted predictions\", \"citation\": {\"namespace\": \"pubmed\", \"identifier\": \"ChEMBL\"}, \"source\": 23, \"target\": 0, \"key\": \"b24ef7547f13a508fbbcbe1ed2344fcd\"}, {\"relation\": \"association\", \"evidence\": \"Targetted predictions\", \"citation\": {\"namespace\": \"pubmed\", \"identifier\": \"ChEMBL\"}, \"source\": 23, \"target\": 2, \"key\": \"aeaa45b2408aac8f91e1e1a95de87f2f\"}, {\"relation\": \"association\", \"evidence\": \"DrugReactions\", \"citation\": {\"namespace\": \"pubmed\", \"identifier\": \"OpenTargets Platform\"}, \"source\": 167, \"target\": 0, \"key\": \"ab409d462478ad9a9863ceffcac5785c\"}, {\"relation\": \"association\", \"evidence\": \"ChEMBL query\", \"citation\": {\"namespace\": \"pubmed\", \"identifier\": \"ChEMBL database\"}, \"source\": 69, \"target\": 2, \"key\": \"d37351571047c4b66ae54f8cbcc4e0e8\"}, {\"relation\": \"association\", \"evidence\": \"ChEMBL query\", \"citation\": {\"namespace\": \"pubmed\", \"identifier\": \"ChEMBL database\"}, \"source\": 119, \"target\": 2, \"key\": \"cd6d1efe27bb1fc56ac89becf83bd0a6\"}, {\"relation\": \"association\", \"evidence\": \"DrugReactions\", \"citation\": {\"namespace\": \"pubmed\", \"identifier\": \"OpenTargets Platform\"}, \"source\": 166, \"target\": 0, \"key\": \"566688b542292011e45bc5eced30e11a\"}, {\"relation\": \"association\", \"evidence\": \"ChEMBL query\", \"citation\": {\"namespace\": \"pubmed\", \"identifier\": \"ChEMBL database\"}, \"source\": 87, \"target\": 2, \"key\": \"f69de60e864db6fe741c2b5b55749d20\"}, {\"relation\": \"association\", \"evidence\": \"ChEMBL query\", \"citation\": {\"namespace\": \"pubmed\", \"identifier\": \"ChEMBL database\"}, \"source\": 111, \"target\": 2, \"key\": \"b81fe0db6e50d989971e514f212e09cb\"}, {\"relation\": \"association\", \"evidence\": \"ChEMBL query\", \"citation\": {\"namespace\": \"pubmed\", \"identifier\": \"ChEMBL database\"}, \"source\": 73, \"target\": 2, \"key\": \"30b0da2efa2310659180dd12c747349f\"}, {\"relation\": \"association\", \"evidence\": \"Targetted predictions\", \"citation\": {\"namespace\": \"pubmed\", \"identifier\": \"ChEMBL\"}, \"source\": 28, \"target\": 2, \"key\": \"f6b0ce4841789c00dd7960840ed88e09\"}, {\"relation\": \"association\", \"evidence\": \"Targetted predictions\", \"citation\": {\"namespace\": \"pubmed\", \"identifier\": \"ChEMBL\"}, \"source\": 18, \"target\": 2, \"key\": \"fd895e5aed200f2ec47c1f4a7337aabe\"}, {\"relation\": \"association\", \"evidence\": \"ChEMBL query\", \"citation\": {\"namespace\": \"pubmed\", \"identifier\": \"ChEMBL database\"}, \"source\": 142, \"target\": 2, \"key\": \"8a5e97551699c4b51ef338d525abe1a4\"}, {\"relation\": \"association\", \"evidence\": \"ChEMBL query\", \"citation\": {\"namespace\": \"pubmed\", \"identifier\": \"ChEMBL database\"}, \"source\": 105, \"target\": 1, \"key\": \"8c2e5bd0efe7e3216c81b3561f058deb\"}, {\"relation\": \"association\", \"evidence\": \"DrugReactions\", \"citation\": {\"namespace\": \"pubmed\", \"identifier\": \"OpenTargets Platform\"}, \"source\": 145, \"target\": 0, \"key\": \"b6b3d7d299ed313a053d257140ac21a4\"}, {\"relation\": \"association\", \"evidence\": \"ChEMBL query\", \"citation\": {\"namespace\": \"pubmed\", \"identifier\": \"ChEMBL database\"}, \"source\": 71, \"target\": 2, \"key\": \"5391f4e0640c83e10fa4c101f31a6ee9\"}, {\"relation\": \"association\", \"evidence\": \"Targetted predictions\", \"citation\": {\"namespace\": \"pubmed\", \"identifier\": \"ChEMBL\"}, \"source\": 44, \"target\": 1, \"key\": \"d4f371b9d3f62f87ea0d2a7739a8d07c\"}, {\"relation\": \"association\", \"evidence\": \"Targetted predictions\", \"citation\": {\"namespace\": \"pubmed\", \"identifier\": \"ChEMBL\"}, \"source\": 44, \"target\": 2, \"key\": \"ff201895014da0d10b0de727daf55257\"}, {\"relation\": \"association\", \"evidence\": \"ChEMBL query\", \"citation\": {\"namespace\": \"pubmed\", \"identifier\": \"ChEMBL database\"}, \"source\": 55, \"target\": 2, \"key\": \"d1c4b533a62d3e2c9d2f36d1ec26929c\"}, {\"relation\": \"association\", \"evidence\": \"DrugReactions\", \"citation\": {\"namespace\": \"pubmed\", \"identifier\": \"OpenTargets Platform\"}, \"source\": 165, \"target\": 0, \"key\": \"f3ae38fbb21077e138242c3cc6ae9c35\"}, {\"relation\": \"association\", \"evidence\": \"Targetted predictions\", \"citation\": {\"namespace\": \"pubmed\", \"identifier\": \"ChEMBL\"}, \"source\": 50, \"target\": 2, \"key\": \"40cba9e87c0321e486eb7e5e5ca072cc\"}, {\"relation\": \"association\", \"evidence\": \"ChEMBL query\", \"citation\": {\"namespace\": \"pubmed\", \"identifier\": \"ChEMBL database\"}, \"source\": 84, \"target\": 2, \"key\": \"6673d9c1faa2998ea057e84b1bf1626e\"}, {\"relation\": \"association\", \"evidence\": \"ChEMBL query\", \"citation\": {\"namespace\": \"pubmed\", \"identifier\": \"ChEMBL database\"}, \"source\": 137, \"target\": 1, \"key\": \"67c4e358e9c863719ac8045e9c665fb2\"}, {\"relation\": \"association\", \"evidence\": \"ChEMBL query\", \"citation\": {\"namespace\": \"pubmed\", \"identifier\": \"ChEMBL database\"}, \"source\": 137, \"target\": 0, \"key\": \"068830a7655d1c0cabd47c6c7bf07caf\"}, {\"relation\": \"association\", \"evidence\": \"ChEMBL query\", \"citation\": {\"namespace\": \"pubmed\", \"identifier\": \"ChEMBL database\"}, \"source\": 134, \"target\": 2, \"key\": \"d4ae99effb3f6247daef2c98699030ef\"}, {\"relation\": \"association\", \"evidence\": \"Targetted predictions\", \"citation\": {\"namespace\": \"pubmed\", \"identifier\": \"ChEMBL\"}, \"source\": 2, \"target\": 23, \"key\": \"70ae827827017843712d5354bdab84ed\"}, {\"relation\": \"association\", \"evidence\": \"Targetted predictions\", \"citation\": {\"namespace\": \"pubmed\", \"identifier\": \"ChEMBL\"}, \"source\": 2, \"target\": 43, \"key\": \"4e36e8813641cc77fc990476fd1c7b5e\"}, {\"relation\": \"association\", \"evidence\": \"Targetted predictions\", \"citation\": {\"namespace\": \"pubmed\", \"identifier\": \"ChEMBL\"}, \"source\": 2, \"target\": 44, \"key\": \"9f984e4db99eef72c05bcae3d6e56f34\"}, {\"relation\": \"association\", \"evidence\": \"Targetted predictions\", \"citation\": {\"namespace\": \"pubmed\", \"identifier\": \"ChEMBL\"}, \"source\": 2, \"target\": 19, \"key\": \"f80e3051283955fc11a7ec331f4502f8\"}, {\"relation\": \"association\", \"evidence\": \"Targetted predictions\", \"citation\": {\"namespace\": \"pubmed\", \"identifier\": \"ChEMBL\"}, \"source\": 2, \"target\": 41, \"key\": \"1527ef0f8becefbd50268f335ce3159f\"}, {\"relation\": \"association\", \"evidence\": \"Targetted predictions\", \"citation\": {\"namespace\": \"pubmed\", \"identifier\": \"ChEMBL\"}, \"source\": 2, \"target\": 48, \"key\": \"97b97c19f4f8ad0b9967487e974098fa\"}, {\"relation\": \"association\", \"evidence\": \"Targetted predictions\", \"citation\": {\"namespace\": \"pubmed\", \"identifier\": \"ChEMBL\"}, \"source\": 2, \"target\": 36, \"key\": \"c03210dcc654654b7f75e33b462c1af0\"}, {\"relation\": \"association\", \"evidence\": \"Targetted predictions\", \"citation\": {\"namespace\": \"pubmed\", \"identifier\": \"ChEMBL\"}, \"source\": 2, \"target\": 10, \"key\": \"0694d70b857e1b327957a6e0a1bc09c4\"}, {\"relation\": \"association\", \"evidence\": \"Targetted predictions\", \"citation\": {\"namespace\": \"pubmed\", \"identifier\": \"ChEMBL\"}, \"source\": 2, \"target\": 20, \"key\": \"8fb9ac09bd961a731e87630618b115f0\"}, {\"relation\": \"association\", \"evidence\": \"Targetted predictions\", \"citation\": {\"namespace\": \"pubmed\", \"identifier\": \"ChEMBL\"}, \"source\": 2, \"target\": 47, \"key\": \"b13b1d482ecc286622b5d3cd34225406\"}, {\"relation\": \"association\", \"evidence\": \"Targetted predictions\", \"citation\": {\"namespace\": \"pubmed\", \"identifier\": \"ChEMBL\"}, \"source\": 2, \"target\": 50, \"key\": \"183acfc973c5145abafdff20da938c74\"}, {\"relation\": \"association\", \"evidence\": \"Targetted predictions\", \"citation\": {\"namespace\": \"pubmed\", \"identifier\": \"ChEMBL\"}, \"source\": 2, \"target\": 34, \"key\": \"e2966953affaa5ab829271c8a385d808\"}, {\"relation\": \"association\", \"evidence\": \"Targetted predictions\", \"citation\": {\"namespace\": \"pubmed\", \"identifier\": \"ChEMBL\"}, \"source\": 2, \"target\": 6, \"key\": \"e9494b3a579812e722adb0864ea370b0\"}, {\"relation\": \"association\", \"evidence\": \"Targetted predictions\", \"citation\": {\"namespace\": \"pubmed\", \"identifier\": \"ChEMBL\"}, \"source\": 2, \"target\": 22, \"key\": \"f6c283a09f2c5a694d157b1d68eaecd8\"}, {\"relation\": \"association\", \"evidence\": \"Targetted predictions\", \"citation\": {\"namespace\": \"pubmed\", \"identifier\": \"ChEMBL\"}, \"source\": 2, \"target\": 11, \"key\": \"49f1051fa0a21c4cffae20369090d96c\"}, {\"relation\": \"association\", \"evidence\": \"Targetted predictions\", \"citation\": {\"namespace\": \"pubmed\", \"identifier\": \"ChEMBL\"}, \"source\": 2, \"target\": 16, \"key\": \"1866ea41488c58270b55aea44edcade9\"}, {\"relation\": \"association\", \"evidence\": \"Targetted predictions\", \"citation\": {\"namespace\": \"pubmed\", \"identifier\": \"ChEMBL\"}, \"source\": 2, \"target\": 35, \"key\": \"cf6c55a8940916f6e023338f92a289e2\"}, {\"relation\": \"association\", \"evidence\": \"Targetted predictions\", \"citation\": {\"namespace\": \"pubmed\", \"identifier\": \"ChEMBL\"}, \"source\": 2, \"target\": 14, \"key\": \"460305dbcb43cd9ae2cf6b1a2105486b\"}, {\"relation\": \"association\", \"evidence\": \"Targetted predictions\", \"citation\": {\"namespace\": \"pubmed\", \"identifier\": \"ChEMBL\"}, \"source\": 2, \"target\": 42, \"key\": \"651d430b094a46459372e7840437530f\"}, {\"relation\": \"association\", \"evidence\": \"Targetted predictions\", \"citation\": {\"namespace\": \"pubmed\", \"identifier\": \"ChEMBL\"}, \"source\": 2, \"target\": 18, \"key\": \"f664e47b4e5d948516adc5a4ce20002a\"}, {\"relation\": \"association\", \"evidence\": \"Targetted predictions\", \"citation\": {\"namespace\": \"pubmed\", \"identifier\": \"ChEMBL\"}, \"source\": 2, \"target\": 33, \"key\": \"f4f7017bcaf235c07f71ce334d39dcad\"}, {\"relation\": \"association\", \"evidence\": \"Targetted predictions\", \"citation\": {\"namespace\": \"pubmed\", \"identifier\": \"ChEMBL\"}, \"source\": 2, \"target\": 7, \"key\": \"61c5ac9855c2f98d8eee7450c4c0e98d\"}, {\"relation\": \"association\", \"evidence\": \"Targetted predictions\", \"citation\": {\"namespace\": \"pubmed\", \"identifier\": \"ChEMBL\"}, \"source\": 2, \"target\": 52, \"key\": \"3a5918b159c70097296d23ffe2937356\"}, {\"relation\": \"association\", \"evidence\": \"Targetted predictions\", \"citation\": {\"namespace\": \"pubmed\", \"identifier\": \"ChEMBL\"}, \"source\": 2, \"target\": 9, \"key\": \"7731611c7b90e16b71764342a1527b5d\"}, {\"relation\": \"association\", \"evidence\": \"Targetted predictions\", \"citation\": {\"namespace\": \"pubmed\", \"identifier\": \"ChEMBL\"}, \"source\": 2, \"target\": 39, \"key\": \"d5108fbccafcbf6497afba31619f860d\"}, {\"relation\": \"association\", \"evidence\": \"Targetted predictions\", \"citation\": {\"namespace\": \"pubmed\", \"identifier\": \"ChEMBL\"}, \"source\": 2, \"target\": 8, \"key\": \"8c86494d2413172321f2aee366b17461\"}, {\"relation\": \"association\", \"evidence\": \"Targetted predictions\", \"citation\": {\"namespace\": \"pubmed\", \"identifier\": \"ChEMBL\"}, \"source\": 2, \"target\": 28, \"key\": \"fc90d9d1274317c3ee81841451b3af38\"}, {\"relation\": \"association\", \"evidence\": \"Targetted predictions\", \"citation\": {\"namespace\": \"pubmed\", \"identifier\": \"ChEMBL\"}, \"source\": 2, \"target\": 15, \"key\": \"df962438db8e92853d0f6ab795a74899\"}, {\"relation\": \"association\", \"evidence\": \"Targetted predictions\", \"citation\": {\"namespace\": \"pubmed\", \"identifier\": \"ChEMBL\"}, \"source\": 2, \"target\": 25, \"key\": \"521a8847b4236d7f6928339d46b240db\"}, {\"relation\": \"association\", \"evidence\": \"Targetted predictions\", \"citation\": {\"namespace\": \"pubmed\", \"identifier\": \"ChEMBL\"}, \"source\": 2, \"target\": 38, \"key\": \"de8c168d865b1da90a71d746e88843b9\"}, {\"relation\": \"association\", \"evidence\": \"Targetted predictions\", \"citation\": {\"namespace\": \"pubmed\", \"identifier\": \"ChEMBL\"}, \"source\": 2, \"target\": 31, \"key\": \"8ab771e7b9f8cd0d65841443ff75aeb4\"}, {\"relation\": \"association\", \"evidence\": \"Targetted predictions\", \"citation\": {\"namespace\": \"pubmed\", \"identifier\": \"ChEMBL\"}, \"source\": 2, \"target\": 32, \"key\": \"9cdc789a3e4b9c43693f6c28b75042dc\"}, {\"relation\": \"association\", \"evidence\": \"Targetted predictions\", \"citation\": {\"namespace\": \"pubmed\", \"identifier\": \"ChEMBL\"}, \"source\": 2, \"target\": 40, \"key\": \"adcea52385ded76996a09abf1e49819b\"}, {\"relation\": \"association\", \"evidence\": \"Targetted predictions\", \"citation\": {\"namespace\": \"pubmed\", \"identifier\": \"ChEMBL\"}, \"source\": 2, \"target\": 37, \"key\": \"135bb80a215e24392a15195ce381823c\"}, {\"relation\": \"association\", \"evidence\": \"Targetted predictions\", \"citation\": {\"namespace\": \"pubmed\", \"identifier\": \"ChEMBL\"}, \"source\": 2, \"target\": 24, \"key\": \"d79e8bb14470cc13ff3351363a579bc1\"}, {\"relation\": \"association\", \"evidence\": \"Targetted predictions\", \"citation\": {\"namespace\": \"pubmed\", \"identifier\": \"ChEMBL\"}, \"source\": 2, \"target\": 29, \"key\": \"429e36299ebc9af3f53fdaa4f55e7ef0\"}, {\"relation\": \"association\", \"evidence\": \"Targetted predictions\", \"citation\": {\"namespace\": \"pubmed\", \"identifier\": \"ChEMBL\"}, \"source\": 2, \"target\": 12, \"key\": \"1750b38f4855c45afd1e2b3401b82423\"}, {\"relation\": \"association\", \"evidence\": \"ChEMBL query\", \"citation\": {\"namespace\": \"pubmed\", \"identifier\": \"ChEMBL database\"}, \"source\": 2, \"target\": 3, \"key\": \"ea1d2a60a1416540e333c07801afa2a9\"}, {\"relation\": \"decreases\", \"evidence\": \"ChEMBL query\", \"citation\": {\"namespace\": \"pubmed\", \"identifier\": \"ChEMBL database\"}, \"source\": 2, \"target\": 53, \"key\": \"779f98e7c8fec1b8363a4af084c41254\"}, {\"relation\": \"association\", \"evidence\": \"ChEMBL query\", \"citation\": {\"namespace\": \"pubmed\", \"identifier\": \"ChEMBL database\"}, \"source\": 2, \"target\": 140, \"key\": \"9ec34c01a3e1739d204668f4ae3f4dc7\"}, {\"relation\": \"association\", \"evidence\": \"ChEMBL query\", \"citation\": {\"namespace\": \"pubmed\", \"identifier\": \"ChEMBL database\"}, \"source\": 2, \"target\": 97, \"key\": \"d9a5b7714a2fc83f83b892faa750ba72\"}, {\"relation\": \"association\", \"evidence\": \"ChEMBL query\", \"citation\": {\"namespace\": \"pubmed\", \"identifier\": \"ChEMBL database\"}, \"source\": 2, \"target\": 118, \"key\": \"40662431b35a9b797446733aea57677e\"}, {\"relation\": \"association\", \"evidence\": \"ChEMBL query\", \"citation\": {\"namespace\": \"pubmed\", \"identifier\": \"ChEMBL database\"}, \"source\": 2, \"target\": 92, \"key\": \"c55d22c9be44c87422678f90b302526d\"}, {\"relation\": \"association\", \"evidence\": \"ChEMBL query\", \"citation\": {\"namespace\": \"pubmed\", \"identifier\": \"ChEMBL database\"}, \"source\": 2, \"target\": 55, \"key\": \"a1fb71be8d248890438e3225368a45e2\"}, {\"relation\": \"association\", \"evidence\": \"ChEMBL query\", \"citation\": {\"namespace\": \"pubmed\", \"identifier\": \"ChEMBL database\"}, \"source\": 2, \"target\": 130, \"key\": \"a9816bfbaf0bed8fd3e5803608c172ea\"}, {\"relation\": \"association\", \"evidence\": \"ChEMBL query\", \"citation\": {\"namespace\": \"pubmed\", \"identifier\": \"ChEMBL database\"}, \"source\": 2, \"target\": 73, \"key\": \"197225d1f90b3356d52aeaa9f9427b41\"}, {\"relation\": \"association\", \"evidence\": \"ChEMBL query\", \"citation\": {\"namespace\": \"pubmed\", \"identifier\": \"ChEMBL database\"}, \"source\": 2, \"target\": 91, \"key\": \"169a172c423782193e489582a9b2ea3f\"}, {\"relation\": \"association\", \"evidence\": \"ChEMBL query\", \"citation\": {\"namespace\": \"pubmed\", \"identifier\": \"ChEMBL database\"}, \"source\": 2, \"target\": 111, \"key\": \"fd2256e5f496827470c064c63aa85b12\"}, {\"relation\": \"association\", \"evidence\": \"ChEMBL query\", \"citation\": {\"namespace\": \"pubmed\", \"identifier\": \"ChEMBL database\"}, \"source\": 2, \"target\": 112, \"key\": \"7b10dbe9eb0b8eacbf43811d24de7023\"}, {\"relation\": \"association\", \"evidence\": \"ChEMBL query\", \"citation\": {\"namespace\": \"pubmed\", \"identifier\": \"ChEMBL database\"}, \"source\": 2, \"target\": 128, \"key\": \"4cd343007592ff1f1fb6ced19421e8fa\"}, {\"relation\": \"association\", \"evidence\": \"ChEMBL query\", \"citation\": {\"namespace\": \"pubmed\", \"identifier\": \"ChEMBL database\"}, \"source\": 2, \"target\": 110, \"key\": \"2690539fe2f95feb56fa1ae1806465f4\"}, {\"relation\": \"association\", \"evidence\": \"ChEMBL query\", \"citation\": {\"namespace\": \"pubmed\", \"identifier\": \"ChEMBL database\"}, \"source\": 2, \"target\": 96, \"key\": \"dc158296f780277bf3d061b743aad2d6\"}, {\"relation\": \"association\", \"evidence\": \"ChEMBL query\", \"citation\": {\"namespace\": \"pubmed\", \"identifier\": \"ChEMBL database\"}, \"source\": 2, \"target\": 79, \"key\": \"bd2f3efc34c4e5960f15f76cdccc3b0b\"}, {\"relation\": \"association\", \"evidence\": \"ChEMBL query\", \"citation\": {\"namespace\": \"pubmed\", \"identifier\": \"ChEMBL database\"}, \"source\": 2, \"target\": 61, \"key\": \"467ea47dc541c1967cac366570950103\"}, {\"relation\": \"association\", \"evidence\": \"ChEMBL query\", \"citation\": {\"namespace\": \"pubmed\", \"identifier\": \"ChEMBL database\"}, \"source\": 2, \"target\": 134, \"key\": \"097d60cb0e9544550f109e22a742bcd3\"}, {\"relation\": \"association\", \"evidence\": \"ChEMBL query\", \"citation\": {\"namespace\": \"pubmed\", \"identifier\": \"ChEMBL database\"}, \"source\": 2, \"target\": 65, \"key\": \"7c8ef8ee8f4d186b7138cdfb6daba8b8\"}, {\"relation\": \"association\", \"evidence\": \"ChEMBL query\", \"citation\": {\"namespace\": \"pubmed\", \"identifier\": \"ChEMBL database\"}, \"source\": 2, \"target\": 84, \"key\": \"83cb599a06f86abf45e07553175a91df\"}, {\"relation\": \"association\", \"evidence\": \"ChEMBL query\", \"citation\": {\"namespace\": \"pubmed\", \"identifier\": \"ChEMBL database\"}, \"source\": 2, \"target\": 60, \"key\": \"fcca95022e93eee861ff2e3a79669f74\"}, {\"relation\": \"association\", \"evidence\": \"ChEMBL query\", \"citation\": {\"namespace\": \"pubmed\", \"identifier\": \"ChEMBL database\"}, \"source\": 2, \"target\": 116, \"key\": \"ba5f9d30f7f3ece6f3d91af81277fc2c\"}, {\"relation\": \"association\", \"evidence\": \"ChEMBL query\", \"citation\": {\"namespace\": \"pubmed\", \"identifier\": \"ChEMBL database\"}, \"source\": 2, \"target\": 100, \"key\": \"f53d5054f6e3ea6c9688ada2db61ac4e\"}, {\"relation\": \"association\", \"evidence\": \"ChEMBL query\", \"citation\": {\"namespace\": \"pubmed\", \"identifier\": \"ChEMBL database\"}, \"source\": 2, \"target\": 76, \"key\": \"633620aeac39a052db11637618daaa50\"}, {\"relation\": \"association\", \"evidence\": \"ChEMBL query\", \"citation\": {\"namespace\": \"pubmed\", \"identifier\": \"ChEMBL database\"}, \"source\": 2, \"target\": 117, \"key\": \"b46ce06243a4542302cc2c0c029ae80b\"}, {\"relation\": \"association\", \"evidence\": \"ChEMBL query\", \"citation\": {\"namespace\": \"pubmed\", \"identifier\": \"ChEMBL database\"}, \"source\": 2, \"target\": 77, \"key\": \"772383d1e0a4a521a7dc3b37ee2675a9\"}, {\"relation\": \"association\", \"evidence\": \"ChEMBL query\", \"citation\": {\"namespace\": \"pubmed\", \"identifier\": \"ChEMBL database\"}, \"source\": 2, \"target\": 121, \"key\": \"e6a93129817c6e609057635d2b6f9ae8\"}, {\"relation\": \"association\", \"evidence\": \"ChEMBL query\", \"citation\": {\"namespace\": \"pubmed\", \"identifier\": \"ChEMBL database\"}, \"source\": 2, \"target\": 131, \"key\": \"b93e57d3a0495c8a4af3e5a30b0511cd\"}, {\"relation\": \"association\", \"evidence\": \"ChEMBL query\", \"citation\": {\"namespace\": \"pubmed\", \"identifier\": \"ChEMBL database\"}, \"source\": 2, \"target\": 127, \"key\": \"ee47d42f5d754e24e35c9b16621af6c8\"}, {\"relation\": \"association\", \"evidence\": \"ChEMBL query\", \"citation\": {\"namespace\": \"pubmed\", \"identifier\": \"ChEMBL database\"}, \"source\": 2, \"target\": 64, \"key\": \"d78fe279574914abdab3ce665082b271\"}, {\"relation\": \"association\", \"evidence\": \"ChEMBL query\", \"citation\": {\"namespace\": \"pubmed\", \"identifier\": \"ChEMBL database\"}, \"source\": 2, \"target\": 78, \"key\": \"564239605e748dcdd5d387adf1c4c18e\"}, {\"relation\": \"association\", \"evidence\": \"ChEMBL query\", \"citation\": {\"namespace\": \"pubmed\", \"identifier\": \"ChEMBL database\"}, \"source\": 2, \"target\": 85, \"key\": \"917cee5e371b4a41cd5786253e27dd91\"}, {\"relation\": \"association\", \"evidence\": \"ChEMBL query\", \"citation\": {\"namespace\": \"pubmed\", \"identifier\": \"ChEMBL database\"}, \"source\": 2, \"target\": 126, \"key\": \"a5217d5bf8966ee2b217410deed0a7f5\"}, {\"relation\": \"association\", \"evidence\": \"ChEMBL query\", \"citation\": {\"namespace\": \"pubmed\", \"identifier\": \"ChEMBL database\"}, \"source\": 2, \"target\": 57, \"key\": \"1ca86a2cb4dd32415c020e9f34f204f7\"}, {\"relation\": \"association\", \"evidence\": \"ChEMBL query\", \"citation\": {\"namespace\": \"pubmed\", \"identifier\": \"ChEMBL database\"}, \"source\": 2, \"target\": 93, \"key\": \"330a673c05ec4f3f2f96e99f2e18b5f7\"}, {\"relation\": \"association\", \"evidence\": \"ChEMBL query\", \"citation\": {\"namespace\": \"pubmed\", \"identifier\": \"ChEMBL database\"}, \"source\": 2, \"target\": 135, \"key\": \"965d420d68fcf5f0843ec328dbf85ee2\"}, {\"relation\": \"association\", \"evidence\": \"ChEMBL query\", \"citation\": {\"namespace\": \"pubmed\", \"identifier\": \"ChEMBL database\"}, \"source\": 2, \"target\": 143, \"key\": \"8b7be1e77cc8c3b8020ca4cc867a5a99\"}, {\"relation\": \"association\", \"evidence\": \"ChEMBL query\", \"citation\": {\"namespace\": \"pubmed\", \"identifier\": \"ChEMBL database\"}, \"source\": 2, \"target\": 94, \"key\": \"358394423a3de92c1f7156a78c3b39b6\"}, {\"relation\": \"association\", \"evidence\": \"ChEMBL query\", \"citation\": {\"namespace\": \"pubmed\", \"identifier\": \"ChEMBL database\"}, \"source\": 2, \"target\": 113, \"key\": \"c7cfeb6f2c8d24e28e8d2f8cb60e5e59\"}, {\"relation\": \"association\", \"evidence\": \"ChEMBL query\", \"citation\": {\"namespace\": \"pubmed\", \"identifier\": \"ChEMBL database\"}, \"source\": 2, \"target\": 90, \"key\": \"94869876de526361c790526c31224de2\"}, {\"relation\": \"association\", \"evidence\": \"ChEMBL query\", \"citation\": {\"namespace\": \"pubmed\", \"identifier\": \"ChEMBL database\"}, \"source\": 2, \"target\": 133, \"key\": \"3349bf94f14e76ad93ff55089db9e05b\"}, {\"relation\": \"association\", \"evidence\": \"ChEMBL query\", \"citation\": {\"namespace\": \"pubmed\", \"identifier\": \"ChEMBL database\"}, \"source\": 2, \"target\": 119, \"key\": \"1352346d2e2f93e73b92a091a569e1af\"}, {\"relation\": \"association\", \"evidence\": \"ChEMBL query\", \"citation\": {\"namespace\": \"pubmed\", \"identifier\": \"ChEMBL database\"}, \"source\": 2, \"target\": 58, \"key\": \"69cca9851eb4cc41b50ab16881f31b05\"}, {\"relation\": \"association\", \"evidence\": \"ChEMBL query\", \"citation\": {\"namespace\": \"pubmed\", \"identifier\": \"ChEMBL database\"}, \"source\": 2, \"target\": 125, \"key\": \"41f6effb0e4ffa975d8cad04febcef23\"}, {\"relation\": \"association\", \"evidence\": \"ChEMBL query\", \"citation\": {\"namespace\": \"pubmed\", \"identifier\": \"ChEMBL database\"}, \"source\": 2, \"target\": 122, \"key\": \"0ff5010825a31a5d564f0072125a2b58\"}, {\"relation\": \"association\", \"evidence\": \"ChEMBL query\", \"citation\": {\"namespace\": \"pubmed\", \"identifier\": \"ChEMBL database\"}, \"source\": 2, \"target\": 109, \"key\": \"6e2930c4ccb776bdc5dbf9fbb6c1e3c1\"}, {\"relation\": \"association\", \"evidence\": \"ChEMBL query\", \"citation\": {\"namespace\": \"pubmed\", \"identifier\": \"ChEMBL database\"}, \"source\": 2, \"target\": 75, \"key\": \"7cbc23ec2ef32e998dc7b9248226286a\"}, {\"relation\": \"association\", \"evidence\": \"ChEMBL query\", \"citation\": {\"namespace\": \"pubmed\", \"identifier\": \"ChEMBL database\"}, \"source\": 2, \"target\": 136, \"key\": \"ca1045ad5b522abc4e9b74bb5f157256\"}, {\"relation\": \"association\", \"evidence\": \"ChEMBL query\", \"citation\": {\"namespace\": \"pubmed\", \"identifier\": \"ChEMBL database\"}, \"source\": 2, \"target\": 124, \"key\": \"263378932d53f94858e6c1db944edaf2\"}, {\"relation\": \"association\", \"evidence\": \"ChEMBL query\", \"citation\": {\"namespace\": \"pubmed\", \"identifier\": \"ChEMBL database\"}, \"source\": 2, \"target\": 69, \"key\": \"2ff299f349ec111b267a4907ba8e02d6\"}, {\"relation\": \"association\", \"evidence\": \"ChEMBL query\", \"citation\": {\"namespace\": \"pubmed\", \"identifier\": \"ChEMBL database\"}, \"source\": 2, \"target\": 89, \"key\": \"94e0e96576b574a241800f2591293537\"}, {\"relation\": \"association\", \"evidence\": \"ChEMBL query\", \"citation\": {\"namespace\": \"pubmed\", \"identifier\": \"ChEMBL database\"}, \"source\": 2, \"target\": 83, \"key\": \"63b4e3498df38d07efb24819a5564d1e\"}, {\"relation\": \"association\", \"evidence\": \"ChEMBL query\", \"citation\": {\"namespace\": \"pubmed\", \"identifier\": \"ChEMBL database\"}, \"source\": 2, \"target\": 104, \"key\": \"e28d18947be7067f230b72ae24d14a7c\"}, {\"relation\": \"association\", \"evidence\": \"ChEMBL query\", \"citation\": {\"namespace\": \"pubmed\", \"identifier\": \"ChEMBL database\"}, \"source\": 2, \"target\": 68, \"key\": \"de07c2ef415c9fa7ccb9a0fa13225dbc\"}, {\"relation\": \"association\", \"evidence\": \"ChEMBL query\", \"citation\": {\"namespace\": \"pubmed\", \"identifier\": \"ChEMBL database\"}, \"source\": 2, \"target\": 88, \"key\": \"b51c96f3eac2ca3cb002763dcd87f6c8\"}, {\"relation\": \"association\", \"evidence\": \"ChEMBL query\", \"citation\": {\"namespace\": \"pubmed\", \"identifier\": \"ChEMBL database\"}, \"source\": 2, \"target\": 95, \"key\": \"c3f26f36635b9cf71f5a46d513818ff3\"}, {\"relation\": \"association\", \"evidence\": \"ChEMBL query\", \"citation\": {\"namespace\": \"pubmed\", \"identifier\": \"ChEMBL database\"}, \"source\": 2, \"target\": 99, \"key\": \"aa9b9a5c3473129f693a0bba8a7be740\"}, {\"relation\": \"association\", \"evidence\": \"ChEMBL query\", \"citation\": {\"namespace\": \"pubmed\", \"identifier\": \"ChEMBL database\"}, \"source\": 2, \"target\": 71, \"key\": \"51361a3ab574b571e8f677c19c97fe59\"}, {\"relation\": \"association\", \"evidence\": \"ChEMBL query\", \"citation\": {\"namespace\": \"pubmed\", \"identifier\": \"ChEMBL database\"}, \"source\": 2, \"target\": 74, \"key\": \"3a8b8b60b38c5eb6798989ab730905d9\"}, {\"relation\": \"association\", \"evidence\": \"ChEMBL query\", \"citation\": {\"namespace\": \"pubmed\", \"identifier\": \"ChEMBL database\"}, \"source\": 2, \"target\": 59, \"key\": \"e9c117ac48ba6ebaf0afe63566267223\"}, {\"relation\": \"association\", \"evidence\": \"ChEMBL query\", \"citation\": {\"namespace\": \"pubmed\", \"identifier\": \"ChEMBL database\"}, \"source\": 2, \"target\": 114, \"key\": \"31abf5abcfaec85de0ccb13332d85060\"}, {\"relation\": \"association\", \"evidence\": \"ChEMBL query\", \"citation\": {\"namespace\": \"pubmed\", \"identifier\": \"ChEMBL database\"}, \"source\": 2, \"target\": 142, \"key\": \"bcf41bffc6c3a82b771d4ed49c306de9\"}, {\"relation\": \"association\", \"evidence\": \"ChEMBL query\", \"citation\": {\"namespace\": \"pubmed\", \"identifier\": \"ChEMBL database\"}, \"source\": 2, \"target\": 129, \"key\": \"82987137e4249ff9a7874bb82f464f32\"}, {\"relation\": \"association\", \"evidence\": \"ChEMBL query\", \"citation\": {\"namespace\": \"pubmed\", \"identifier\": \"ChEMBL database\"}, \"source\": 2, \"target\": 101, \"key\": \"10be931cf72beb05788a91dfd56526d7\"}, {\"relation\": \"association\", \"evidence\": \"ChEMBL query\", \"citation\": {\"namespace\": \"pubmed\", \"identifier\": \"ChEMBL database\"}, \"source\": 2, \"target\": 67, \"key\": \"3d2674ff24bd8f1a8f4eb63fe577875b\"}, {\"relation\": \"association\", \"evidence\": \"ChEMBL query\", \"citation\": {\"namespace\": \"pubmed\", \"identifier\": \"ChEMBL database\"}, \"source\": 2, \"target\": 54, \"key\": \"2c043db74bdd479db2bfea11b805dabd\"}, {\"relation\": \"association\", \"evidence\": \"ChEMBL query\", \"citation\": {\"namespace\": \"pubmed\", \"identifier\": \"ChEMBL database\"}, \"source\": 2, \"target\": 66, \"key\": \"90b33fb358062159b380c7ca63772f8e\"}, {\"relation\": \"association\", \"evidence\": \"ChEMBL query\", \"citation\": {\"namespace\": \"pubmed\", \"identifier\": \"ChEMBL database\"}, \"source\": 2, \"target\": 87, \"key\": \"c5145bfdfad0b13fd74be33560d7a3a3\"}, {\"relation\": \"association\", \"evidence\": \"ChEMBL query\", \"citation\": {\"namespace\": \"pubmed\", \"identifier\": \"ChEMBL database\"}, \"source\": 2, \"target\": 98, \"key\": \"743c2d3c46c059f950d5cc636cbb1f06\"}, {\"relation\": \"association\", \"evidence\": \"ChEMBL query\", \"citation\": {\"namespace\": \"pubmed\", \"identifier\": \"ChEMBL database\"}, \"source\": 2, \"target\": 123, \"key\": \"5ba3d39b6c35030757eb14ca1fd6a5e8\"}, {\"relation\": \"association\", \"evidence\": \"ChEMBL query\", \"citation\": {\"namespace\": \"pubmed\", \"identifier\": \"ChEMBL database\"}, \"source\": 2, \"target\": 115, \"key\": \"2a2051b11c0ba36f2051cc2a6f523b8f\"}, {\"relation\": \"association\", \"evidence\": \"ChEMBL query\", \"citation\": {\"namespace\": \"pubmed\", \"identifier\": \"ChEMBL database\"}, \"source\": 2, \"target\": 103, \"key\": \"6e9c8128465f43c7f24d117696a40acc\"}, {\"relation\": \"association\", \"evidence\": \"ChEMBL query\", \"citation\": {\"namespace\": \"pubmed\", \"identifier\": \"ChEMBL database\"}, \"source\": 2, \"target\": 106, \"key\": \"8730ae9f477faeb28d12ad6962eb13d5\"}, {\"relation\": \"association\", \"evidence\": \"ChEMBL query\", \"citation\": {\"namespace\": \"pubmed\", \"identifier\": \"ChEMBL database\"}, \"source\": 2, \"target\": 139, \"key\": \"0a27b2bd120f1a30e08f997beaea0495\"}, {\"relation\": \"association\", \"evidence\": \"ChEMBL query\", \"citation\": {\"namespace\": \"pubmed\", \"identifier\": \"ChEMBL database\"}, \"source\": 2, \"target\": 107, \"key\": \"fb6bd01d70b9fed2217a9bb56788d08d\"}, {\"relation\": \"association\", \"evidence\": \"ChEMBL query\", \"citation\": {\"namespace\": \"pubmed\", \"identifier\": \"ChEMBL database\"}, \"source\": 2, \"target\": 72, \"key\": \"cfd8a7b466b569b351066635d5e6f136\"}, {\"relation\": \"association\", \"evidence\": \"ChEMBL query\", \"citation\": {\"namespace\": \"pubmed\", \"identifier\": \"ChEMBL database\"}, \"source\": 2, \"target\": 102, \"key\": \"a4fcbfa39c5c0df1a04ce23953743408\"}, {\"relation\": \"association\", \"evidence\": \"ChEMBL query\", \"citation\": {\"namespace\": \"pubmed\", \"identifier\": \"ChEMBL database\"}, \"source\": 2, \"target\": 108, \"key\": \"7b55110f00a683fb24d6b987d6fba973\"}, {\"relation\": \"association\", \"evidence\": \"ChEMBL query\", \"citation\": {\"namespace\": \"pubmed\", \"identifier\": \"ChEMBL database\"}, \"source\": 2, \"target\": 86, \"key\": \"56b2bd8ad197c9c48eeaa594ec5a7593\"}, {\"relation\": \"association\", \"evidence\": \"ChEMBL query\", \"citation\": {\"namespace\": \"pubmed\", \"identifier\": \"ChEMBL database\"}, \"source\": 2, \"target\": 70, \"key\": \"9d57bd8571c9dd5c0c485fa34becfba9\"}, {\"relation\": \"association\", \"evidence\": \"ChEMBL query\", \"citation\": {\"namespace\": \"pubmed\", \"identifier\": \"ChEMBL database\"}, \"source\": 2, \"target\": 56, \"key\": \"e108a313210a5fb2a54b119530390004\"}, {\"relation\": \"association\", \"evidence\": \"ChEMBL query\", \"citation\": {\"namespace\": \"pubmed\", \"identifier\": \"ChEMBL database\"}, \"source\": 2, \"target\": 138, \"key\": \"5ab38cb3f4c42bbe216e8e9f9d917394\"}, {\"relation\": \"association\", \"evidence\": \"ChEMBL query\", \"citation\": {\"namespace\": \"pubmed\", \"identifier\": \"ChEMBL database\"}, \"source\": 2, \"target\": 62, \"key\": \"21f8536d319b0f48f398fddddde5f62c\"}, {\"relation\": \"association\", \"evidence\": \"ChEMBL query\", \"citation\": {\"namespace\": \"pubmed\", \"identifier\": \"ChEMBL database\"}, \"source\": 2, \"target\": 132, \"key\": \"c0bd9be40f4235184a263b968a94dc39\"}, {\"relation\": \"association\", \"evidence\": \"DrugReactions\", \"citation\": {\"namespace\": \"pubmed\", \"identifier\": \"OpenTargets Platform\"}, \"source\": 2, \"target\": 148, \"key\": \"bbd7355b64eb9bc1a0e2b8bd55f64e65\"}, {\"relation\": \"association\", \"evidence\": \"DrugReactions\", \"citation\": {\"namespace\": \"pubmed\", \"identifier\": \"OpenTargets Platform\"}, \"source\": 2, \"target\": 152, \"key\": \"0ea177b0b74dd8e69721878d381627e6\"}, {\"relation\": \"association\", \"evidence\": \"DrugReactions\", \"citation\": {\"namespace\": \"pubmed\", \"identifier\": \"OpenTargets Platform\"}, \"source\": 2, \"target\": 158, \"key\": \"70a0a9c8a671f152afcbe26c3fce93fb\"}, {\"relation\": \"association\", \"evidence\": \"DrugReactions\", \"citation\": {\"namespace\": \"pubmed\", \"identifier\": \"OpenTargets Platform\"}, \"source\": 2, \"target\": 155, \"key\": \"a63a8cf6bf1cf583aa6f8e4d2198a0de\"}, {\"relation\": \"association\", \"evidence\": \"DrugReactions\", \"citation\": {\"namespace\": \"pubmed\", \"identifier\": \"OpenTargets Platform\"}, \"source\": 2, \"target\": 157, \"key\": \"a899d6b5608a5f301d7eb4ebbda65b59\"}, {\"relation\": \"association\", \"evidence\": \"DrugReactions\", \"citation\": {\"namespace\": \"pubmed\", \"identifier\": \"OpenTargets Platform\"}, \"source\": 2, \"target\": 163, \"key\": \"542ed4a31f1ef9d5f3dd38bd0e1879ec\"}, {\"relation\": \"association\", \"evidence\": \"DrugReactions\", \"citation\": {\"namespace\": \"pubmed\", \"identifier\": \"OpenTargets Platform\"}, \"source\": 2, \"target\": 170, \"key\": \"fe7365f4606a032f7fceb57718dc4748\"}, {\"relation\": \"association\", \"evidence\": \"DrugReactions\", \"citation\": {\"namespace\": \"pubmed\", \"identifier\": \"OpenTargets Platform\"}, \"source\": 2, \"target\": 171, \"key\": \"b052c3dd6f5bb0da8b474dfd1134b084\"}, {\"relation\": \"association\", \"evidence\": \"DrugReactions\", \"citation\": {\"namespace\": \"pubmed\", \"identifier\": \"OpenTargets Platform\"}, \"source\": 2, \"target\": 151, \"key\": \"131e75cb4280c7530cb9f851527fa7f8\"}, {\"relation\": \"association\", \"evidence\": \"DrugReactions\", \"citation\": {\"namespace\": \"pubmed\", \"identifier\": \"OpenTargets Platform\"}, \"source\": 2, \"target\": 164, \"key\": \"bcd32ec645179f0cd14c4d881dad8bb3\"}, {\"relation\": \"association\", \"evidence\": \"DrugReactions\", \"citation\": {\"namespace\": \"pubmed\", \"identifier\": \"OpenTargets Platform\"}, \"source\": 2, \"target\": 149, \"key\": \"22e1481e6fe13cd777ad2f107668e04b\"}, {\"relation\": \"association\", \"evidence\": \"DrugReactions\", \"citation\": {\"namespace\": \"pubmed\", \"identifier\": \"OpenTargets Platform\"}, \"source\": 161, \"target\": 0, \"key\": \"8a720664d31b21b8d25377c91ae4998b\"}, {\"relation\": \"association\", \"evidence\": \"Targetted predictions\", \"citation\": {\"namespace\": \"pubmed\", \"identifier\": \"ChEMBL\"}, \"source\": 21, \"target\": 1, \"key\": \"dccde9d7712bfa595179136e8dd198af\"}, {\"relation\": \"association\", \"evidence\": \"ChEMBL query\", \"citation\": {\"namespace\": \"pubmed\", \"identifier\": \"ChEMBL database\"}, \"source\": 60, \"target\": 2, \"key\": \"afc3f88f17b6447ff47f210509c72548\"}, {\"relation\": \"association\", \"evidence\": \"ChEMBL query\", \"citation\": {\"namespace\": \"pubmed\", \"identifier\": \"ChEMBL database\"}, \"source\": 83, \"target\": 2, \"key\": \"7e66a37e6e7259d467ecb99438c66c10\"}, {\"relation\": \"association\", \"evidence\": \"DrugReactions\", \"citation\": {\"namespace\": \"pubmed\", \"identifier\": \"OpenTargets Platform\"}, \"source\": 158, \"target\": 2, \"key\": \"f16c4dc6e1ff2f26de0743c343e2ce8f\"}, {\"relation\": \"association\", \"evidence\": \"ChEMBL query\", \"citation\": {\"namespace\": \"pubmed\", \"identifier\": \"ChEMBL database\"}, \"source\": 117, \"target\": 2, \"key\": \"f12dfaa88e60fcf2fb370972460ee7b4\"}, {\"relation\": \"association\", \"evidence\": \"Targetted predictions\", \"citation\": {\"namespace\": \"pubmed\", \"identifier\": \"ChEMBL\"}, \"source\": 47, \"target\": 2, \"key\": \"5cc35cd684cdfafd7df85887c0edd566\"}, {\"relation\": \"association\", \"evidence\": \"DrugReactions\", \"citation\": {\"namespace\": \"pubmed\", \"identifier\": \"OpenTargets Platform\"}, \"source\": 163, \"target\": 2, \"key\": \"f44cd5cf335c32e2db5d92d65ba1700c\"}, {\"relation\": \"association\", \"evidence\": \"Targetted predictions\", \"citation\": {\"namespace\": \"pubmed\", \"identifier\": \"ChEMBL\"}, \"source\": 30, \"target\": 0, \"key\": \"901af7ddbbaa9f46706a7ae372959318\"}, {\"relation\": \"association\", \"evidence\": \"Targetted predictions\", \"citation\": {\"namespace\": \"pubmed\", \"identifier\": \"ChEMBL\"}, \"source\": 36, \"target\": 0, \"key\": \"07c4b4a681ca53bf903a597f7b7f3a34\"}, {\"relation\": \"association\", \"evidence\": \"Targetted predictions\", \"citation\": {\"namespace\": \"pubmed\", \"identifier\": \"ChEMBL\"}, \"source\": 36, \"target\": 2, \"key\": \"e4d694bc24155628ee9fb46249dbfbb9\"}, {\"relation\": \"association\", \"evidence\": \"ChEMBL query\", \"citation\": {\"namespace\": \"pubmed\", \"identifier\": \"ChEMBL database\"}, \"source\": 135, \"target\": 2, \"key\": \"77afa71953d6cc646e4cb7aa7b03a747\"}, {\"relation\": \"association\", \"evidence\": \"ChEMBL query\", \"citation\": {\"namespace\": \"pubmed\", \"identifier\": \"ChEMBL database\"}, \"source\": 110, \"target\": 2, \"key\": \"5ed3d0e46f27adf9f16d9db96beed23a\"}, {\"relation\": \"association\", \"evidence\": \"ChEMBL query\", \"citation\": {\"namespace\": \"pubmed\", \"identifier\": \"ChEMBL database\"}, \"source\": 59, \"target\": 2, \"key\": \"dabbefeaf4363edb57e1412c48d56e72\"}, {\"relation\": \"association\", \"evidence\": \"ChEMBL query\", \"citation\": {\"namespace\": \"pubmed\", \"identifier\": \"ChEMBL database\"}, \"source\": 54, \"target\": 2, \"key\": \"9b258abb63425536493cf7ec61471304\"}, {\"relation\": \"association\", \"evidence\": \"ChEMBL query\", \"citation\": {\"namespace\": \"pubmed\", \"identifier\": \"ChEMBL database\"}, \"source\": 97, \"target\": 2, \"key\": \"01668f05328f50e419c71f1d03265ba3\"}, {\"relation\": \"association\", \"evidence\": \"ChEMBL query\", \"citation\": {\"namespace\": \"pubmed\", \"identifier\": \"ChEMBL database\"}, \"source\": 89, \"target\": 2, \"key\": \"609ba62c154f7357d0ba37db66f25414\"}, {\"relation\": \"association\", \"evidence\": \"Targetted predictions\", \"citation\": {\"namespace\": \"pubmed\", \"identifier\": \"ChEMBL\"}, \"source\": 16, \"target\": 2, \"key\": \"fe38309a735a9db0afcab8f058e94441\"}, {\"relation\": \"association\", \"evidence\": \"ChEMBL query\", \"citation\": {\"namespace\": \"pubmed\", \"identifier\": \"ChEMBL database\"}, \"source\": 103, \"target\": 2, \"key\": \"2d85a4aa53307357b6b5e30dd37660bf\"}, {\"relation\": \"association\", \"evidence\": \"ChEMBL query\", \"citation\": {\"namespace\": \"pubmed\", \"identifier\": \"ChEMBL database\"}, \"source\": 70, \"target\": 2, \"key\": \"e0788ebb7e2d4a847b9d6ec9616dc8a4\"}, {\"relation\": \"association\", \"evidence\": \"Targetted predictions\", \"citation\": {\"namespace\": \"pubmed\", \"identifier\": \"ChEMBL\"}, \"source\": 13, \"target\": 0, \"key\": \"f8c4c56738820edbe3418c40ee849508\"}, {\"relation\": \"association\", \"evidence\": \"Targetted predictions\", \"citation\": {\"namespace\": \"pubmed\", \"identifier\": \"ChEMBL\"}, \"source\": 0, \"target\": 23, \"key\": \"4d53c81c1b5ab8842798304790cf2ea3\"}, {\"relation\": \"association\", \"evidence\": \"Targetted predictions\", \"citation\": {\"namespace\": \"pubmed\", \"identifier\": \"ChEMBL\"}, \"source\": 0, \"target\": 49, \"key\": \"7dc6a89a5be04d20e91649016e54af98\"}, {\"relation\": \"association\", \"evidence\": \"Targetted predictions\", \"citation\": {\"namespace\": \"pubmed\", \"identifier\": \"ChEMBL\"}, \"source\": 0, \"target\": 45, \"key\": \"6eeac83891395ce8e07ab9eee53a2a9e\"}, {\"relation\": \"association\", \"evidence\": \"Targetted predictions\", \"citation\": {\"namespace\": \"pubmed\", \"identifier\": \"ChEMBL\"}, \"source\": 0, \"target\": 36, \"key\": \"a22a9d1f5108cbef413d283c85d8c6d2\"}, {\"relation\": \"association\", \"evidence\": \"Targetted predictions\", \"citation\": {\"namespace\": \"pubmed\", \"identifier\": \"ChEMBL\"}, \"source\": 0, \"target\": 30, \"key\": \"d1eead340ace35717a9933e0d7b3a859\"}, {\"relation\": \"association\", \"evidence\": \"Targetted predictions\", \"citation\": {\"namespace\": \"pubmed\", \"identifier\": \"ChEMBL\"}, \"source\": 0, \"target\": 13, \"key\": \"37256bdbd2cfc734b36bf70259f2c17b\"}, {\"relation\": \"association\", \"evidence\": \"Targetted predictions\", \"citation\": {\"namespace\": \"pubmed\", \"identifier\": \"ChEMBL\"}, \"source\": 0, \"target\": 17, \"key\": \"d98c638b23ccfa1881c74b414819d709\"}, {\"relation\": \"association\", \"evidence\": \"Targetted predictions\", \"citation\": {\"namespace\": \"pubmed\", \"identifier\": \"ChEMBL\"}, \"source\": 0, \"target\": 27, \"key\": \"ebc59135e5d0cc5e31a72df85a11c7d4\"}, {\"relation\": \"association\", \"evidence\": \"Targetted predictions\", \"citation\": {\"namespace\": \"pubmed\", \"identifier\": \"ChEMBL\"}, \"source\": 0, \"target\": 46, \"key\": \"38fbbf03cc59e8d0d2a49110ca27d7fe\"}, {\"relation\": \"association\", \"evidence\": \"Targetted predictions\", \"citation\": {\"namespace\": \"pubmed\", \"identifier\": \"ChEMBL\"}, \"source\": 0, \"target\": 26, \"key\": \"eed11ff0fb710a2384b5e5317b210467\"}, {\"relation\": \"association\", \"evidence\": \"Targetted predictions\", \"citation\": {\"namespace\": \"pubmed\", \"identifier\": \"ChEMBL\"}, \"source\": 0, \"target\": 51, \"key\": \"6a52a80c0d617f60fc248eb5a0b99030\"}, {\"relation\": \"association\", \"evidence\": \"ChEMBL query\", \"citation\": {\"namespace\": \"pubmed\", \"identifier\": \"ChEMBL database\"}, \"source\": 0, \"target\": 5, \"key\": \"189a57d96fcc4eb45734a90828dade0d\"}, {\"relation\": \"association\", \"evidence\": \"ChEMBL query\", \"citation\": {\"namespace\": \"pubmed\", \"identifier\": \"ChEMBL database\"}, \"source\": 0, \"target\": 120, \"key\": \"fc05b4d9f0c94d6ee03bebdb03209e5f\"}, {\"relation\": \"association\", \"evidence\": \"ChEMBL query\", \"citation\": {\"namespace\": \"pubmed\", \"identifier\": \"ChEMBL database\"}, \"source\": 0, \"target\": 82, \"key\": \"67b2f7660d5c9fdc83d1148ce715c846\"}, {\"relation\": \"association\", \"evidence\": \"ChEMBL query\", \"citation\": {\"namespace\": \"pubmed\", \"identifier\": \"ChEMBL database\"}, \"source\": 0, \"target\": 80, \"key\": \"2f7cd86cc6fb1e9142d2206bf82d4f66\"}, {\"relation\": \"association\", \"evidence\": \"ChEMBL query\", \"citation\": {\"namespace\": \"pubmed\", \"identifier\": \"ChEMBL database\"}, \"source\": 0, \"target\": 141, \"key\": \"aa1a46fa3ef29acb023e461e5eb1054b\"}, {\"relation\": \"association\", \"evidence\": \"ChEMBL query\", \"citation\": {\"namespace\": \"pubmed\", \"identifier\": \"ChEMBL database\"}, \"source\": 0, \"target\": 81, \"key\": \"bbf94589f18e461ae48b0a63b6728d9e\"}, {\"relation\": \"association\", \"evidence\": \"ChEMBL query\", \"citation\": {\"namespace\": \"pubmed\", \"identifier\": \"ChEMBL database\"}, \"source\": 0, \"target\": 137, \"key\": \"f22c1f34f40882925113c4f04d3fe26f\"}, {\"relation\": \"association\", \"evidence\": \"DrugReactions\", \"citation\": {\"namespace\": \"pubmed\", \"identifier\": \"OpenTargets Platform\"}, \"source\": 0, \"target\": 166, \"key\": \"8a72409a380b2b8c5bbca438870eba2a\"}, {\"relation\": \"association\", \"evidence\": \"DrugReactions\", \"citation\": {\"namespace\": \"pubmed\", \"identifier\": \"OpenTargets Platform\"}, \"source\": 0, \"target\": 146, \"key\": \"606693cf2a12711d585bdb3f6bb40e89\"}, {\"relation\": \"association\", \"evidence\": \"DrugReactions\", \"citation\": {\"namespace\": \"pubmed\", \"identifier\": \"OpenTargets Platform\"}, \"source\": 0, \"target\": 147, \"key\": \"46bf8642b5fea48f1371c2c6777a717d\"}, {\"relation\": \"association\", \"evidence\": \"DrugReactions\", \"citation\": {\"namespace\": \"pubmed\", \"identifier\": \"OpenTargets Platform\"}, \"source\": 0, \"target\": 145, \"key\": \"5e8adc12e080f5825105333c0b695857\"}, {\"relation\": \"association\", \"evidence\": \"DrugReactions\", \"citation\": {\"namespace\": \"pubmed\", \"identifier\": \"OpenTargets Platform\"}, \"source\": 0, \"target\": 168, \"key\": \"e339c130173c07ec69f3bbe913bfc23b\"}, {\"relation\": \"association\", \"evidence\": \"DrugReactions\", \"citation\": {\"namespace\": \"pubmed\", \"identifier\": \"OpenTargets Platform\"}, \"source\": 0, \"target\": 161, \"key\": \"18efa7d9bf7efa7df2e4a24fa1ade897\"}, {\"relation\": \"association\", \"evidence\": \"DrugReactions\", \"citation\": {\"namespace\": \"pubmed\", \"identifier\": \"OpenTargets Platform\"}, \"source\": 0, \"target\": 154, \"key\": \"2cdb32114f3169b3dd37932db5b560ed\"}, {\"relation\": \"association\", \"evidence\": \"DrugReactions\", \"citation\": {\"namespace\": \"pubmed\", \"identifier\": \"OpenTargets Platform\"}, \"source\": 0, \"target\": 162, \"key\": \"0d77e37e08d04440543f130c1961813e\"}, {\"relation\": \"association\", \"evidence\": \"DrugReactions\", \"citation\": {\"namespace\": \"pubmed\", \"identifier\": \"OpenTargets Platform\"}, \"source\": 0, \"target\": 156, \"key\": \"d65f06bb401f1c93a0a47a2f29434717\"}, {\"relation\": \"association\", \"evidence\": \"DrugReactions\", \"citation\": {\"namespace\": \"pubmed\", \"identifier\": \"OpenTargets Platform\"}, \"source\": 0, \"target\": 169, \"key\": \"e2baf84eb474d86d2d02b4674ec6eceb\"}, {\"relation\": \"association\", \"evidence\": \"DrugReactions\", \"citation\": {\"namespace\": \"pubmed\", \"identifier\": \"OpenTargets Platform\"}, \"source\": 0, \"target\": 153, \"key\": \"a74238df84d93a049af1d27d52eec632\"}, {\"relation\": \"association\", \"evidence\": \"DrugReactions\", \"citation\": {\"namespace\": \"pubmed\", \"identifier\": \"OpenTargets Platform\"}, \"source\": 0, \"target\": 159, \"key\": \"c580eb844d23e39175ed0862cd682842\"}, {\"relation\": \"association\", \"evidence\": \"DrugReactions\", \"citation\": {\"namespace\": \"pubmed\", \"identifier\": \"OpenTargets Platform\"}, \"source\": 0, \"target\": 150, \"key\": \"7af18d8b31f061b011eac3d3ba0ca151\"}, {\"relation\": \"association\", \"evidence\": \"DrugReactions\", \"citation\": {\"namespace\": \"pubmed\", \"identifier\": \"OpenTargets Platform\"}, \"source\": 0, \"target\": 167, \"key\": \"b665ec990f06024421c4db14143fdc89\"}, {\"relation\": \"association\", \"evidence\": \"DrugReactions\", \"citation\": {\"namespace\": \"pubmed\", \"identifier\": \"OpenTargets Platform\"}, \"source\": 0, \"target\": 165, \"key\": \"0ba7773fed1fe666017dd712a0baeb30\"}, {\"relation\": \"association\", \"evidence\": \"DrugReactions\", \"citation\": {\"namespace\": \"pubmed\", \"identifier\": \"OpenTargets Platform\"}, \"source\": 0, \"target\": 160, \"key\": \"81e0e33493aca348f35007cae509511c\"}, {\"relation\": \"association\", \"evidence\": \"DrugReactions\", \"citation\": {\"namespace\": \"pubmed\", \"identifier\": \"OpenTargets Platform\"}, \"source\": 0, \"target\": 144, \"key\": \"3d7377ea0ab1a615657739babeabf401\"}, {\"relation\": \"association\", \"evidence\": \"ChEMBL query\", \"citation\": {\"namespace\": \"pubmed\", \"identifier\": \"ChEMBL database\"}, \"source\": 93, \"target\": 2, \"key\": \"c54e8c61e253563b29fa91938d939b6e\"}, {\"relation\": \"association\", \"evidence\": \"Targetted predictions\", \"citation\": {\"namespace\": \"pubmed\", \"identifier\": \"ChEMBL\"}, \"source\": 29, \"target\": 2, \"key\": \"570fa3270d7bef8a543b146fe7f31984\"}, {\"relation\": \"association\", \"evidence\": \"DrugReactions\", \"citation\": {\"namespace\": \"pubmed\", \"identifier\": \"OpenTargets Platform\"}, \"source\": 149, \"target\": 2, \"key\": \"abae9bb54aa0a0d3cb133f85b92fa639\"}, {\"relation\": \"association\", \"evidence\": \"ChEMBL query\", \"citation\": {\"namespace\": \"pubmed\", \"identifier\": \"ChEMBL database\"}, \"source\": 131, \"target\": 2, \"key\": \"095a1a7df0e9059dfe4a54dc51b0cd11\"}, {\"relation\": \"association\", \"evidence\": \"ChEMBL query\", \"citation\": {\"namespace\": \"pubmed\", \"identifier\": \"ChEMBL database\"}, \"source\": 63, \"target\": 1, \"key\": \"11e44642855d5abb32fac10dcc3f4b46\"}, {\"relation\": \"association\", \"evidence\": \"DrugReactions\", \"citation\": {\"namespace\": \"pubmed\", \"identifier\": \"OpenTargets Platform\"}, \"source\": 168, \"target\": 0, \"key\": \"4ef97910111f2e8f272ab64f9e7086b4\"}, {\"relation\": \"association\", \"evidence\": \"Targetted predictions\", \"citation\": {\"namespace\": \"pubmed\", \"identifier\": \"ChEMBL\"}, \"source\": 17, \"target\": 0, \"key\": \"8fd11c2f8c166c71bab6455595ac549d\"}, {\"relation\": \"association\", \"evidence\": \"ChEMBL query\", \"citation\": {\"namespace\": \"pubmed\", \"identifier\": \"ChEMBL database\"}, \"source\": 124, \"target\": 2, \"key\": \"35091504069ca5f159a7d9707d3c0576\"}, {\"relation\": \"association\", \"evidence\": \"Targetted predictions\", \"citation\": {\"namespace\": \"pubmed\", \"identifier\": \"ChEMBL\"}, \"source\": 22, \"target\": 2, \"key\": \"7a0bf8098241d1d80df827260de12e9b\"}, {\"relation\": \"association\", \"evidence\": \"ChEMBL query\", \"citation\": {\"namespace\": \"pubmed\", \"identifier\": \"ChEMBL database\"}, \"source\": 64, \"target\": 2, \"key\": \"e3d26ba0f80125b73137554eb0526e69\"}, {\"relation\": \"association\", \"evidence\": \"DrugReactions\", \"citation\": {\"namespace\": \"pubmed\", \"identifier\": \"OpenTargets Platform\"}, \"source\": 148, \"target\": 2, \"key\": \"deb6ca567c031dd2c7d15c814dce22e6\"}, {\"relation\": \"association\", \"evidence\": \"Targetted predictions\", \"citation\": {\"namespace\": \"pubmed\", \"identifier\": \"ChEMBL\"}, \"source\": 25, \"target\": 2, \"key\": \"b13411ce2c2ec4aae3ca9321a64cac72\"}, {\"relation\": \"association\", \"evidence\": \"ChEMBL query\", \"citation\": {\"namespace\": \"pubmed\", \"identifier\": \"ChEMBL database\"}, \"source\": 95, \"target\": 2, \"key\": \"599a7fd2c7b82f129f3987cd489bc123\"}, {\"relation\": \"association\", \"evidence\": \"ChEMBL query\", \"citation\": {\"namespace\": \"pubmed\", \"identifier\": \"ChEMBL database\"}, \"source\": 113, \"target\": 2, \"key\": \"e7f73fbd981edf7c4a061e5ef48f8cc5\"}, {\"relation\": \"association\", \"evidence\": \"Targetted predictions\", \"citation\": {\"namespace\": \"pubmed\", \"identifier\": \"ChEMBL\"}, \"source\": 1, \"target\": 49, \"key\": \"1deb7dd9bc6b54c29b30ad5ded03d8d1\"}, {\"relation\": \"association\", \"evidence\": \"Targetted predictions\", \"citation\": {\"namespace\": \"pubmed\", \"identifier\": \"ChEMBL\"}, \"source\": 1, \"target\": 44, \"key\": \"dc83509d3596f86718f8b04dc113f04a\"}, {\"relation\": \"association\", \"evidence\": \"Targetted predictions\", \"citation\": {\"namespace\": \"pubmed\", \"identifier\": \"ChEMBL\"}, \"source\": 1, \"target\": 45, \"key\": \"ca777315b291946f98bfe8ebb6085319\"}, {\"relation\": \"association\", \"evidence\": \"Targetted predictions\", \"citation\": {\"namespace\": \"pubmed\", \"identifier\": \"ChEMBL\"}, \"source\": 1, \"target\": 21, \"key\": \"7a9adb3570bfa4d59791a77c9c5166cf\"}, {\"relation\": \"association\", \"evidence\": \"ChEMBL query\", \"citation\": {\"namespace\": \"pubmed\", \"identifier\": \"ChEMBL database\"}, \"source\": 1, \"target\": 4, \"key\": \"25278a5d2c043aae05d3bb3ffd1aa77e\"}, {\"relation\": \"association\", \"evidence\": \"ChEMBL query\", \"citation\": {\"namespace\": \"pubmed\", \"identifier\": \"ChEMBL database\"}, \"source\": 1, \"target\": 137, \"key\": \"91a68cdf677f7a2eba9a26861ee92ef5\"}, {\"relation\": \"association\", \"evidence\": \"ChEMBL query\", \"citation\": {\"namespace\": \"pubmed\", \"identifier\": \"ChEMBL database\"}, \"source\": 1, \"target\": 82, \"key\": \"175686f03a84fb381c16d6104bea5cc0\"}, {\"relation\": \"association\", \"evidence\": \"ChEMBL query\", \"citation\": {\"namespace\": \"pubmed\", \"identifier\": \"ChEMBL database\"}, \"source\": 1, \"target\": 105, \"key\": \"2327197711da7805b99cc57a6d87154f\"}, {\"relation\": \"association\", \"evidence\": \"ChEMBL query\", \"citation\": {\"namespace\": \"pubmed\", \"identifier\": \"ChEMBL database\"}, \"source\": 1, \"target\": 118, \"key\": \"5ca917f1981afa06b643bb84aa437c3d\"}, {\"relation\": \"association\", \"evidence\": \"ChEMBL query\", \"citation\": {\"namespace\": \"pubmed\", \"identifier\": \"ChEMBL database\"}, \"source\": 1, \"target\": 63, \"key\": \"8b79dfbed64575155eeeaef8c122e346\"}, {\"relation\": \"association\", \"evidence\": \"ChEMBL query\", \"citation\": {\"namespace\": \"pubmed\", \"identifier\": \"ChEMBL database\"}, \"source\": 1, \"target\": 120, \"key\": \"7f2beb41b2014540312c7d7cafa64a4a\"}, {\"relation\": \"association\", \"evidence\": \"ChEMBL query\", \"citation\": {\"namespace\": \"pubmed\", \"identifier\": \"ChEMBL database\"}, \"source\": 75, \"target\": 2, \"key\": \"b5f78a2284ea7020814d60f232a6c132\"}, {\"relation\": \"association\", \"evidence\": \"DrugReactions\", \"citation\": {\"namespace\": \"pubmed\", \"identifier\": \"OpenTargets Platform\"}, \"source\": 147, \"target\": 0, \"key\": \"14de9d527238cd52fa9716c25d95f6ad\"}, {\"relation\": \"association\", \"evidence\": \"ChEMBL query\", \"citation\": {\"namespace\": \"pubmed\", \"identifier\": \"ChEMBL database\"}, \"source\": 79, \"target\": 2, \"key\": \"0665f2dda5c7216c386fda79df63ecce\"}, {\"relation\": \"association\", \"evidence\": \"ChEMBL query\", \"citation\": {\"namespace\": \"pubmed\", \"identifier\": \"ChEMBL database\"}, \"source\": 122, \"target\": 2, \"key\": \"d6843b83bc2e554b50fb3d648f9f70af\"}, {\"relation\": \"association\", \"evidence\": \"DrugReactions\", \"citation\": {\"namespace\": \"pubmed\", \"identifier\": \"OpenTargets Platform\"}, \"source\": 169, \"target\": 0, \"key\": \"a0c99d9dbf8deeba62dbe485744ff78f\"}, {\"relation\": \"association\", \"evidence\": \"Targetted predictions\", \"citation\": {\"namespace\": \"pubmed\", \"identifier\": \"ChEMBL\"}, \"source\": 32, \"target\": 2, \"key\": \"e72075911c372bc52aea5133cb3861d4\"}, {\"relation\": \"association\", \"evidence\": \"Targetted predictions\", \"citation\": {\"namespace\": \"pubmed\", \"identifier\": \"ChEMBL\"}, \"source\": 38, \"target\": 2, \"key\": \"8c178d5e8d19b2f9d3ef12dec33a4daf\"}, {\"relation\": \"association\", \"evidence\": \"ChEMBL query\", \"citation\": {\"namespace\": \"pubmed\", \"identifier\": \"ChEMBL database\"}, \"source\": 88, \"target\": 2, \"key\": \"085e1364d1f177701fee33ce987f9d8e\"}, {\"relation\": \"association\", \"evidence\": \"Targetted predictions\", \"citation\": {\"namespace\": \"pubmed\", \"identifier\": \"ChEMBL\"}, \"source\": 48, \"target\": 2, \"key\": \"b4fb307b9fa30dc992770bc52663ed9c\"}, {\"relation\": \"association\", \"evidence\": \"DrugReactions\", \"citation\": {\"namespace\": \"pubmed\", \"identifier\": \"OpenTargets Platform\"}, \"source\": 159, \"target\": 0, \"key\": \"328efd0bd04f64434468fc02da89fbf6\"}, {\"relation\": \"association\", \"evidence\": \"ChEMBL query\", \"citation\": {\"namespace\": \"pubmed\", \"identifier\": \"ChEMBL database\"}, \"source\": 3, \"target\": 2, \"key\": \"93fda226c3cc45a10ae76173a896952f\"}, {\"relation\": \"association\", \"evidence\": \"ChEMBL query\", \"citation\": {\"namespace\": \"pubmed\", \"identifier\": \"ChEMBL database\"}, \"source\": 116, \"target\": 2, \"key\": \"bf2908b1009d3ce17c66e3589c8afcb7\"}, {\"relation\": \"association\", \"evidence\": \"ChEMBL query\", \"citation\": {\"namespace\": \"pubmed\", \"identifier\": \"ChEMBL database\"}, \"source\": 78, \"target\": 2, \"key\": \"4eadc82d0a43624157282e96e54c94fe\"}, {\"relation\": \"association\", \"evidence\": \"ChEMBL query\", \"citation\": {\"namespace\": \"pubmed\", \"identifier\": \"ChEMBL database\"}, \"source\": 115, \"target\": 2, \"key\": \"7407e0aa9339e6a0156fee22dce79720\"}, {\"relation\": \"association\", \"evidence\": \"ChEMBL query\", \"citation\": {\"namespace\": \"pubmed\", \"identifier\": \"ChEMBL database\"}, \"source\": 139, \"target\": 2, \"key\": \"13f69114b5aa2585835d76f15ebe7445\"}, {\"relation\": \"association\", \"evidence\": \"ChEMBL query\", \"citation\": {\"namespace\": \"pubmed\", \"identifier\": \"ChEMBL database\"}, \"source\": 126, \"target\": 2, \"key\": \"8e3f3fba439fa6379c598f1a74be2dfc\"}, {\"relation\": \"association\", \"evidence\": \"Targetted predictions\", \"citation\": {\"namespace\": \"pubmed\", \"identifier\": \"ChEMBL\"}, \"source\": 49, \"target\": 1, \"key\": \"6ba7cc282ef4b396dc81f58ee4fc60ab\"}, {\"relation\": \"association\", \"evidence\": \"Targetted predictions\", \"citation\": {\"namespace\": \"pubmed\", \"identifier\": \"ChEMBL\"}, \"source\": 49, \"target\": 0, \"key\": \"bd2f4fa480f5c9f5625d0d82b1884adf\"}, {\"relation\": \"association\", \"evidence\": \"Targetted predictions\", \"citation\": {\"namespace\": \"pubmed\", \"identifier\": \"ChEMBL\"}, \"source\": 11, \"target\": 2, \"key\": \"8895192e0e26d852d2893ae0c16ad58c\"}, {\"relation\": \"association\", \"evidence\": \"Targetted predictions\", \"citation\": {\"namespace\": \"pubmed\", \"identifier\": \"ChEMBL\"}, \"source\": 39, \"target\": 2, \"key\": \"e2bf13beaf9548b7d789c21a542e8a19\"}, {\"relation\": \"association\", \"evidence\": \"DrugReactions\", \"citation\": {\"namespace\": \"pubmed\", \"identifier\": \"OpenTargets Platform\"}, \"source\": 144, \"target\": 0, \"key\": \"e361deb51da2501a26729d1d6fe4c4f9\"}, {\"relation\": \"association\", \"evidence\": \"ChEMBL query\", \"citation\": {\"namespace\": \"pubmed\", \"identifier\": \"ChEMBL database\"}, \"source\": 143, \"target\": 2, \"key\": \"6ca08c60eaaf9017b6674ee9b99a32d2\"}, {\"relation\": \"association\", \"evidence\": \"Targetted predictions\", \"citation\": {\"namespace\": \"pubmed\", \"identifier\": \"ChEMBL\"}, \"source\": 10, \"target\": 2, \"key\": \"ab1e9f4712b9a5e9f962044e25375efe\"}, {\"relation\": \"association\", \"evidence\": \"ChEMBL query\", \"citation\": {\"namespace\": \"pubmed\", \"identifier\": \"ChEMBL database\"}, \"source\": 90, \"target\": 2, \"key\": \"5c01c42f7c6270171f12c8cb4ff77004\"}, {\"relation\": \"association\", \"evidence\": \"Targetted predictions\", \"citation\": {\"namespace\": \"pubmed\", \"identifier\": \"ChEMBL\"}, \"source\": 9, \"target\": 2, \"key\": \"4e022c1a08df26313792402151e46727\"}, {\"relation\": \"association\", \"evidence\": \"ChEMBL query\", \"citation\": {\"namespace\": \"pubmed\", \"identifier\": \"ChEMBL database\"}, \"source\": 127, \"target\": 2, \"key\": \"485d6e7b16ac2f785009b0177ba9198b\"}, {\"relation\": \"association\", \"evidence\": \"ChEMBL query\", \"citation\": {\"namespace\": \"pubmed\", \"identifier\": \"ChEMBL database\"}, \"source\": 133, \"target\": 2, \"key\": \"ca7673bfc1e61a374f3082897b17e374\"}, {\"relation\": \"association\", \"evidence\": \"ChEMBL query\", \"citation\": {\"namespace\": \"pubmed\", \"identifier\": \"ChEMBL database\"}, \"source\": 57, \"target\": 2, \"key\": \"1e63af860c7de9a6ab08f4f1a543203c\"}, {\"relation\": \"association\", \"evidence\": \"ChEMBL query\", \"citation\": {\"namespace\": \"pubmed\", \"identifier\": \"ChEMBL database\"}, \"source\": 109, \"target\": 2, \"key\": \"3259cf0693061f88200266622b2a2cff\"}, {\"relation\": \"association\", \"evidence\": \"ChEMBL query\", \"citation\": {\"namespace\": \"pubmed\", \"identifier\": \"ChEMBL database\"}, \"source\": 74, \"target\": 2, \"key\": \"bf3333846834ee30a86d4bb38bbf6db5\"}, {\"relation\": \"association\", \"evidence\": \"ChEMBL query\", \"citation\": {\"namespace\": \"pubmed\", \"identifier\": \"ChEMBL database\"}, \"source\": 138, \"target\": 2, \"key\": \"a2480dec740a44eb317b6c72ab76eee5\"}, {\"relation\": \"association\", \"evidence\": \"ChEMBL query\", \"citation\": {\"namespace\": \"pubmed\", \"identifier\": \"ChEMBL database\"}, \"source\": 112, \"target\": 2, \"key\": \"b5b046ecd05df16ecabd5d01e833e76a\"}, {\"relation\": \"association\", \"evidence\": \"DrugReactions\", \"citation\": {\"namespace\": \"pubmed\", \"identifier\": \"OpenTargets Platform\"}, \"source\": 155, \"target\": 2, \"key\": \"5938194aa6d523cbd51a66a05702a9cc\"}, {\"relation\": \"association\", \"evidence\": \"ChEMBL query\", \"citation\": {\"namespace\": \"pubmed\", \"identifier\": \"ChEMBL database\"}, \"source\": 100, \"target\": 2, \"key\": \"68530f3123b3fb10d8514bca6b5077c2\"}, {\"relation\": \"association\", \"evidence\": \"ChEMBL query\", \"citation\": {\"namespace\": \"pubmed\", \"identifier\": \"ChEMBL database\"}, \"source\": 114, \"target\": 2, \"key\": \"a74996584af92e410009a9306285341b\"}, {\"relation\": \"association\", \"evidence\": \"ChEMBL query\", \"citation\": {\"namespace\": \"pubmed\", \"identifier\": \"ChEMBL database\"}, \"source\": 136, \"target\": 2, \"key\": \"fc76dcd5d51d75e1a044a943b32087ba\"}, {\"relation\": \"association\", \"evidence\": \"Targetted predictions\", \"citation\": {\"namespace\": \"pubmed\", \"identifier\": \"ChEMBL\"}, \"source\": 33, \"target\": 2, \"key\": \"0dc391411008db3077ebb14840878071\"}, {\"relation\": \"association\", \"evidence\": \"ChEMBL query\", \"citation\": {\"namespace\": \"pubmed\", \"identifier\": \"ChEMBL database\"}, \"source\": 58, \"target\": 2, \"key\": \"3f9b2b85bbf8f2dfc7f166d6c172e887\"}, {\"relation\": \"association\", \"evidence\": \"Targetted predictions\", \"citation\": {\"namespace\": \"pubmed\", \"identifier\": \"ChEMBL\"}, \"source\": 26, \"target\": 0, \"key\": \"bd1c50847ff46672af074ce3f5d7192e\"}, {\"relation\": \"association\", \"evidence\": \"ChEMBL query\", \"citation\": {\"namespace\": \"pubmed\", \"identifier\": \"ChEMBL database\"}, \"source\": 61, \"target\": 2, \"key\": \"052a863b1b979c163372c2ebfca6c73e\"}, {\"relation\": \"association\", \"evidence\": \"Targetted predictions\", \"citation\": {\"namespace\": \"pubmed\", \"identifier\": \"ChEMBL\"}, \"source\": 40, \"target\": 2, \"key\": \"b65d2401d33e2197dac3fe71353ef039\"}, {\"relation\": \"association\", \"evidence\": \"ChEMBL query\", \"citation\": {\"namespace\": \"pubmed\", \"identifier\": \"ChEMBL database\"}, \"source\": 102, \"target\": 2, \"key\": \"10d8e76deaccf6db9269699fd485cba9\"}, {\"relation\": \"association\", \"evidence\": \"Targetted predictions\", \"citation\": {\"namespace\": \"pubmed\", \"identifier\": \"ChEMBL\"}, \"source\": 35, \"target\": 2, \"key\": \"bd4fa971c6bde35708672c4596311c90\"}, {\"relation\": \"association\", \"evidence\": \"Targetted predictions\", \"citation\": {\"namespace\": \"pubmed\", \"identifier\": \"ChEMBL\"}, \"source\": 6, \"target\": 2, \"key\": \"ae6cdf788cbf46becf8ea5dedac40621\"}, {\"relation\": \"association\", \"evidence\": \"ChEMBL query\", \"citation\": {\"namespace\": \"pubmed\", \"identifier\": \"ChEMBL database\"}, \"source\": 141, \"target\": 0, \"key\": \"0b4cd5e7fb91b2649a1afa1fdda1692a\"}, {\"relation\": \"association\", \"evidence\": \"Targetted predictions\", \"citation\": {\"namespace\": \"pubmed\", \"identifier\": \"ChEMBL\"}, \"source\": 42, \"target\": 2, \"key\": \"628ee7c440a53493cab83a18daf006d8\"}, {\"relation\": \"association\", \"evidence\": \"ChEMBL query\", \"citation\": {\"namespace\": \"pubmed\", \"identifier\": \"ChEMBL database\"}, \"source\": 92, \"target\": 2, \"key\": \"c3ab85d88025ac52f709aef5a2ceca6f\"}, {\"relation\": \"association\", \"evidence\": \"ChEMBL query\", \"citation\": {\"namespace\": \"pubmed\", \"identifier\": \"ChEMBL database\"}, \"source\": 130, \"target\": 2, \"key\": \"428e36356040b581af7c9c7acd90b22c\"}, {\"relation\": \"association\", \"evidence\": \"ChEMBL query\", \"citation\": {\"namespace\": \"pubmed\", \"identifier\": \"ChEMBL database\"}, \"source\": 68, \"target\": 2, \"key\": \"9e9635d7676be4d7b6e0e21bf5f62374\"}, {\"relation\": \"association\", \"evidence\": \"DrugReactions\", \"citation\": {\"namespace\": \"pubmed\", \"identifier\": \"OpenTargets Platform\"}, \"source\": 146, \"target\": 0, \"key\": \"79218aa1e1ee5f05d1c38e6851bb46b2\"}, {\"relation\": \"association\", \"evidence\": \"ChEMBL query\", \"citation\": {\"namespace\": \"pubmed\", \"identifier\": \"ChEMBL database\"}, \"source\": 5, \"target\": 0, \"key\": \"abf280da8b224ba3c203ba7731be0326\"}, {\"relation\": \"association\", \"evidence\": \"ChEMBL query\", \"citation\": {\"namespace\": \"pubmed\", \"identifier\": \"ChEMBL database\"}, \"source\": 96, \"target\": 2, \"key\": \"05369c6e9899e1ca1809f53873723a40\"}, {\"relation\": \"association\", \"evidence\": \"DrugReactions\", \"citation\": {\"namespace\": \"pubmed\", \"identifier\": \"OpenTargets Platform\"}, \"source\": 154, \"target\": 0, \"key\": \"5f4ec596b5cba3b93ee073c1d10006f2\"}, {\"relation\": \"association\", \"evidence\": \"Targetted predictions\", \"citation\": {\"namespace\": \"pubmed\", \"identifier\": \"ChEMBL\"}, \"source\": 12, \"target\": 2, \"key\": \"e44ee1e10ef145a44f5ddd0a7efbf15f\"}, {\"relation\": \"association\", \"evidence\": \"ChEMBL query\", \"citation\": {\"namespace\": \"pubmed\", \"identifier\": \"ChEMBL database\"}, \"source\": 76, \"target\": 2, \"key\": \"5c349838206519df1305974717e7266f\"}, {\"relation\": \"association\", \"evidence\": \"DrugReactions\", \"citation\": {\"namespace\": \"pubmed\", \"identifier\": \"OpenTargets Platform\"}, \"source\": 160, \"target\": 0, \"key\": \"4bb9848ae3d53713fab6eaf13f0f41f2\"}, {\"relation\": \"association\", \"evidence\": \"ChEMBL query\", \"citation\": {\"namespace\": \"pubmed\", \"identifier\": \"ChEMBL database\"}, \"source\": 140, \"target\": 2, \"key\": \"23564fa2e90810f1ae949dc7b18cc620\"}, {\"relation\": \"association\", \"evidence\": \"ChEMBL query\", \"citation\": {\"namespace\": \"pubmed\", \"identifier\": \"ChEMBL database\"}, \"source\": 101, \"target\": 2, \"key\": \"c0db881faeb66d99bc2299aef37c9621\"}, {\"relation\": \"association\", \"evidence\": \"DrugReactions\", \"citation\": {\"namespace\": \"pubmed\", \"identifier\": \"OpenTargets Platform\"}, \"source\": 162, \"target\": 0, \"key\": \"54903bff5497c34f5e9f12eed5d0a4e8\"}, {\"relation\": \"association\", \"evidence\": \"ChEMBL query\", \"citation\": {\"namespace\": \"pubmed\", \"identifier\": \"ChEMBL database\"}, \"source\": 99, \"target\": 2, \"key\": \"159111226ce5342514137ee6763bf3ca\"}, {\"relation\": \"association\", \"evidence\": \"Targetted predictions\", \"citation\": {\"namespace\": \"pubmed\", \"identifier\": \"ChEMBL\"}, \"source\": 45, \"target\": 1, \"key\": \"b2e7e12787f88ff8ebcd4eb9e123ee82\"}, {\"relation\": \"association\", \"evidence\": \"Targetted predictions\", \"citation\": {\"namespace\": \"pubmed\", \"identifier\": \"ChEMBL\"}, \"source\": 45, \"target\": 0, \"key\": \"83a9d6179119fc24e706e8a1d4ead33a\"}, {\"relation\": \"association\", \"evidence\": \"ChEMBL query\", \"citation\": {\"namespace\": \"pubmed\", \"identifier\": \"ChEMBL database\"}, \"source\": 129, \"target\": 2, \"key\": \"e2cbae0391f268d7cdbee6a0b971d6f1\"}, {\"relation\": \"association\", \"evidence\": \"ChEMBL query\", \"citation\": {\"namespace\": \"pubmed\", \"identifier\": \"ChEMBL database\"}, \"source\": 91, \"target\": 2, \"key\": \"895f99be6ada3b4e14f8fa7b8b2d0c41\"}, {\"relation\": \"association\", \"evidence\": \"Targetted predictions\", \"citation\": {\"namespace\": \"pubmed\", \"identifier\": \"ChEMBL\"}, \"source\": 15, \"target\": 2, \"key\": \"9074ee479d7fbb2a0335e002ce2013f7\"}, {\"relation\": \"association\", \"evidence\": \"ChEMBL query\", \"citation\": {\"namespace\": \"pubmed\", \"identifier\": \"ChEMBL database\"}, \"source\": 56, \"target\": 2, \"key\": \"4a2cd1a706feea441dfefbf47e446905\"}, {\"relation\": \"association\", \"evidence\": \"ChEMBL query\", \"citation\": {\"namespace\": \"pubmed\", \"identifier\": \"ChEMBL database\"}, \"source\": 4, \"target\": 1, \"key\": \"4e0611fc6808cb98390689b26d3360f8\"}, {\"relation\": \"association\", \"evidence\": \"Targetted predictions\", \"citation\": {\"namespace\": \"pubmed\", \"identifier\": \"ChEMBL\"}, \"source\": 34, \"target\": 2, \"key\": \"9a8e44182b5fef12e38f7cec1d6d76af\"}, {\"relation\": \"association\", \"evidence\": \"ChEMBL query\", \"citation\": {\"namespace\": \"pubmed\", \"identifier\": \"ChEMBL database\"}, \"source\": 104, \"target\": 2, \"key\": \"3ed24caf067c4bb47bd6dc018cef73c4\"}, {\"relation\": \"association\", \"evidence\": \"DrugReactions\", \"citation\": {\"namespace\": \"pubmed\", \"identifier\": \"OpenTargets Platform\"}, \"source\": 153, \"target\": 0, \"key\": \"f23f2eb534a97537ae635ae41e1568fd\"}, {\"relation\": \"association\", \"evidence\": \"ChEMBL query\", \"citation\": {\"namespace\": \"pubmed\", \"identifier\": \"ChEMBL database\"}, \"source\": 65, \"target\": 2, \"key\": \"bd25c160eab04b1a6420ef1b677f7bee\"}, {\"relation\": \"association\", \"evidence\": \"ChEMBL query\", \"citation\": {\"namespace\": \"pubmed\", \"identifier\": \"ChEMBL database\"}, \"source\": 67, \"target\": 2, \"key\": \"79c72e61cb7ec613076fce51b5792f14\"}, {\"relation\": \"association\", \"evidence\": \"DrugReactions\", \"citation\": {\"namespace\": \"pubmed\", \"identifier\": \"OpenTargets Platform\"}, \"source\": 170, \"target\": 2, \"key\": \"0d431e0458c96f4317ab1801a9c3553a\"}, {\"relation\": \"association\", \"evidence\": \"ChEMBL query\", \"citation\": {\"namespace\": \"pubmed\", \"identifier\": \"ChEMBL database\"}, \"source\": 94, \"target\": 2, \"key\": \"ceefa1fba6b9be6b5fd08858e1513512\"}, {\"relation\": \"association\", \"evidence\": \"ChEMBL query\", \"citation\": {\"namespace\": \"pubmed\", \"identifier\": \"ChEMBL database\"}, \"source\": 123, \"target\": 2, \"key\": \"460af071ffca48573f58b46a82dcf669\"}, {\"relation\": \"association\", \"evidence\": \"Targetted predictions\", \"citation\": {\"namespace\": \"pubmed\", \"identifier\": \"ChEMBL\"}, \"source\": 43, \"target\": 2, \"key\": \"e41b6c579e9ace543ec90e1562684ae5\"}, {\"relation\": \"association\", \"evidence\": \"Targetted predictions\", \"citation\": {\"namespace\": \"pubmed\", \"identifier\": \"ChEMBL\"}, \"source\": 37, \"target\": 2, \"key\": \"604efc33b97de5f00b4a6b1cc3553b55\"}, {\"relation\": \"association\", \"evidence\": \"ChEMBL query\", \"citation\": {\"namespace\": \"pubmed\", \"identifier\": \"ChEMBL database\"}, \"source\": 107, \"target\": 2, \"key\": \"a29b7efd1a105e14c9154a65366fbfa5\"}, {\"relation\": \"association\", \"evidence\": \"ChEMBL query\", \"citation\": {\"namespace\": \"pubmed\", \"identifier\": \"ChEMBL database\"}, \"source\": 106, \"target\": 2, \"key\": \"a240dba113af913f9e513e931cd0583d\"}, {\"relation\": \"association\", \"evidence\": \"ChEMBL query\", \"citation\": {\"namespace\": \"pubmed\", \"identifier\": \"ChEMBL database\"}, \"source\": 121, \"target\": 2, \"key\": \"e46d765a7d942260d77d55b5ef5a23eb\"}, {\"relation\": \"association\", \"evidence\": \"Targetted predictions\", \"citation\": {\"namespace\": \"pubmed\", \"identifier\": \"ChEMBL\"}, \"source\": 8, \"target\": 2, \"key\": \"9d8aa937693211c125dde2d5969818e4\"}, {\"relation\": \"association\", \"evidence\": \"Targetted predictions\", \"citation\": {\"namespace\": \"pubmed\", \"identifier\": \"ChEMBL\"}, \"source\": 27, \"target\": 0, \"key\": \"6cf8290e7a62378b26c7e983d36713ba\"}, {\"relation\": \"association\", \"evidence\": \"ChEMBL query\", \"citation\": {\"namespace\": \"pubmed\", \"identifier\": \"ChEMBL database\"}, \"source\": 81, \"target\": 0, \"key\": \"3984ebbec95866b07b88831eb111685d\"}, {\"relation\": \"association\", \"evidence\": \"ChEMBL query\", \"citation\": {\"namespace\": \"pubmed\", \"identifier\": \"ChEMBL database\"}, \"source\": 85, \"target\": 2, \"key\": \"a7d52f72025b3a7902119f4f60c8498d\"}, {\"relation\": \"association\", \"evidence\": \"DrugReactions\", \"citation\": {\"namespace\": \"pubmed\", \"identifier\": \"OpenTargets Platform\"}, \"source\": 150, \"target\": 0, \"key\": \"dfc3a8b8cf331c3a5701bb3686ac866a\"}, {\"relation\": \"association\", \"evidence\": \"ChEMBL query\", \"citation\": {\"namespace\": \"pubmed\", \"identifier\": \"ChEMBL database\"}, \"source\": 98, \"target\": 2, \"key\": \"c65cfa55d9a4e451d1c24725c516e5d4\"}, {\"relation\": \"association\", \"evidence\": \"ChEMBL query\", \"citation\": {\"namespace\": \"pubmed\", \"identifier\": \"ChEMBL database\"}, \"source\": 108, \"target\": 2, \"key\": \"bc30e6a905e8cd359dbc2ffbdeee82fd\"}, {\"relation\": \"association\", \"evidence\": \"Targetted predictions\", \"citation\": {\"namespace\": \"pubmed\", \"identifier\": \"ChEMBL\"}, \"source\": 19, \"target\": 2, \"key\": \"cf72b5a29f9c7e86455464b6d949fa1a\"}, {\"relation\": \"association\", \"evidence\": \"ChEMBL query\", \"citation\": {\"namespace\": \"pubmed\", \"identifier\": \"ChEMBL database\"}, \"source\": 128, \"target\": 2, \"key\": \"23c6cf65c1366ffbf212fa5c8382badf\"}, {\"relation\": \"association\", \"evidence\": \"ChEMBL query\", \"citation\": {\"namespace\": \"pubmed\", \"identifier\": \"ChEMBL database\"}, \"source\": 80, \"target\": 0, \"key\": \"40473f8bfadfc7a49ffd70407e790100\"}, {\"relation\": \"association\", \"evidence\": \"DrugReactions\", \"citation\": {\"namespace\": \"pubmed\", \"identifier\": \"OpenTargets Platform\"}, \"source\": 151, \"target\": 2, \"key\": \"f26e4758be62923d55b9925049c5403b\"}, {\"relation\": \"association\", \"evidence\": \"Targetted predictions\", \"citation\": {\"namespace\": \"pubmed\", \"identifier\": \"ChEMBL\"}, \"source\": 52, \"target\": 2, \"key\": \"cd14c7120159df9705d4caab4ef3c1e6\"}, {\"relation\": \"association\", \"evidence\": \"Targetted predictions\", \"citation\": {\"namespace\": \"pubmed\", \"identifier\": \"ChEMBL\"}, \"source\": 31, \"target\": 2, \"key\": \"bcd2f42ef730d5fd131aaa618bf7f8b3\"}, {\"relation\": \"association\", \"evidence\": \"ChEMBL query\", \"citation\": {\"namespace\": \"pubmed\", \"identifier\": \"ChEMBL database\"}, \"source\": 62, \"target\": 2, \"key\": \"abcb9eef83fa60230e7ed636f8dbb4c6\"}, {\"relation\": \"association\", \"evidence\": \"Targetted predictions\", \"citation\": {\"namespace\": \"pubmed\", \"identifier\": \"ChEMBL\"}, \"source\": 46, \"target\": 0, \"key\": \"6d1d93b9cbff08f25fc0b7867544dba2\"}, {\"relation\": \"association\", \"evidence\": \"ChEMBL query\", \"citation\": {\"namespace\": \"pubmed\", \"identifier\": \"ChEMBL database\"}, \"source\": 125, \"target\": 2, \"key\": \"c4715d9afd00f3a6fc264cc22411891e\"}, {\"relation\": \"association\", \"evidence\": \"DrugReactions\", \"citation\": {\"namespace\": \"pubmed\", \"identifier\": \"OpenTargets Platform\"}, \"source\": 157, \"target\": 2, \"key\": \"c09d2d2c1364e3ea4401a86d042ded22\"}, {\"relation\": \"association\", \"evidence\": \"Targetted predictions\", \"citation\": {\"namespace\": \"pubmed\", \"identifier\": \"ChEMBL\"}, \"source\": 51, \"target\": 0, \"key\": \"dc7204bd3c0a42bd9079f8166fcdda8a\"}, {\"relation\": \"association\", \"evidence\": \"ChEMBL query\", \"citation\": {\"namespace\": \"pubmed\", \"identifier\": \"ChEMBL database\"}, \"source\": 120, \"target\": 1, \"key\": \"108eba4d13d839e26476ba52d2535a96\"}, {\"relation\": \"association\", \"evidence\": \"ChEMBL query\", \"citation\": {\"namespace\": \"pubmed\", \"identifier\": \"ChEMBL database\"}, \"source\": 120, \"target\": 0, \"key\": \"5d611d5ec59540887c7472ac4267241a\"}, {\"relation\": \"association\", \"evidence\": \"Targetted predictions\", \"citation\": {\"namespace\": \"pubmed\", \"identifier\": \"ChEMBL\"}, \"source\": 20, \"target\": 2, \"key\": \"75de962addca0d26590031dc37768bfa\"}, {\"relation\": \"association\", \"evidence\": \"ChEMBL query\", \"citation\": {\"namespace\": \"pubmed\", \"identifier\": \"ChEMBL database\"}, \"source\": 118, \"target\": 1, \"key\": \"79f28599b8051b9359dc0a141b5b716e\"}, {\"relation\": \"association\", \"evidence\": \"ChEMBL query\", \"citation\": {\"namespace\": \"pubmed\", \"identifier\": \"ChEMBL database\"}, \"source\": 118, \"target\": 2, \"key\": \"4f3ab605ddf1abdb9cfed95d65bba86d\"}, {\"relation\": \"association\", \"evidence\": \"Targetted predictions\", \"citation\": {\"namespace\": \"pubmed\", \"identifier\": \"ChEMBL\"}, \"source\": 7, \"target\": 2, \"key\": \"771cda0554672d1c278dc746a1541189\"}, {\"relation\": \"association\", \"evidence\": \"DrugReactions\", \"citation\": {\"namespace\": \"pubmed\", \"identifier\": \"OpenTargets Platform\"}, \"source\": 152, \"target\": 2, \"key\": \"b1a71c7053b570ab0c80e6e922e78327\"}, {\"relation\": \"association\", \"evidence\": \"ChEMBL query\", \"citation\": {\"namespace\": \"pubmed\", \"identifier\": \"ChEMBL database\"}, \"source\": 82, \"target\": 1, \"key\": \"6fd3da12cc8f77d2e1208abd053501b0\"}, {\"relation\": \"association\", \"evidence\": \"ChEMBL query\", \"citation\": {\"namespace\": \"pubmed\", \"identifier\": \"ChEMBL database\"}, \"source\": 82, \"target\": 0, \"key\": \"c116ef508a1ff11da9428f9aedd83302\"}, {\"relation\": \"association\", \"evidence\": \"Targetted predictions\", \"citation\": {\"namespace\": \"pubmed\", \"identifier\": \"ChEMBL\"}, \"source\": 14, \"target\": 2, \"key\": \"bd331eb84bb868b99eb06ca2701c4d77\"}, {\"relation\": \"association\", \"evidence\": \"DrugReactions\", \"citation\": {\"namespace\": \"pubmed\", \"identifier\": \"OpenTargets Platform\"}, \"source\": 171, \"target\": 2, \"key\": \"043764f2a778135e09376c53e9ca7cbb\"}, {\"relation\": \"association\", \"evidence\": \"ChEMBL query\", \"citation\": {\"namespace\": \"pubmed\", \"identifier\": \"ChEMBL database\"}, \"source\": 77, \"target\": 2, \"key\": \"7dc5c04f74d2dd5aa7e3d59fd14310dc\"}, {\"relation\": \"association\", \"evidence\": \"ChEMBL query\", \"citation\": {\"namespace\": \"pubmed\", \"identifier\": \"ChEMBL database\"}, \"source\": 132, \"target\": 2, \"key\": \"73470e8defae1f879e8bc3d66196150a\"}, {\"relation\": \"association\", \"evidence\": \"Targetted predictions\", \"citation\": {\"namespace\": \"pubmed\", \"identifier\": \"ChEMBL\"}, \"source\": 24, \"target\": 2, \"key\": \"4cd927258fc3132098066e8e4d58cbc0\"}]}, \"#ubdtzosgjxeckvqp\", 1000, 650, {'Protein': '#1F77B4', 'Pathology': '#FF7F0E', 'BiologicalProcess': '#2CA02C', 'miRNA': '#D62728', 'Complex': '#98DF8A', 'Composite': '#9467BD', 'Reaction': '#000000', 'Gene': '#FFBB78', 'Abundance': '#AEC7E8', 'RNA': '#FF9896'});\n",
       "});"
      ],
      "text/plain": [
       "<IPython.core.display.Javascript object>"
      ]
     },
     "execution_count": 87,
     "metadata": {},
     "output_type": "execute_result"
    }
   ],
   "source": [
    "to_jupyter(query_graph)"
   ]
  },
  {
   "cell_type": "code",
   "execution_count": 169,
   "id": "956405e5",
   "metadata": {},
   "outputs": [],
   "source": [
    "import py2neo"
   ]
  },
  {
   "cell_type": "code",
   "execution_count": 171,
   "id": "748abd88",
   "metadata": {},
   "outputs": [
    {
     "data": {
      "application/vnd.jupyter.widget-view+json": {
       "model_id": "a9ae32eede2a4fd1b1ada70b85f1a3ae",
       "version_major": 2,
       "version_minor": 0
      },
      "text/plain": [
       "nodes:   0%|          | 0/3309 [00:00<?, ?it/s]"
      ]
     },
     "metadata": {},
     "output_type": "display_data"
    },
    {
     "data": {
      "application/vnd.jupyter.widget-view+json": {
       "model_id": "cb305c1857294899a16164171414604e",
       "version_major": 2,
       "version_minor": 0
      },
      "text/plain": [
       "edges:   0%|          | 0/10743 [00:00<?, ?it/s]"
      ]
     },
     "metadata": {},
     "output_type": "display_data"
    },
    {
     "name": "stderr",
     "output_type": "stream",
     "text": [
      "C:\\Users\\reagon.karki\\AppData\\Local\\Temp\\ipykernel_1564\\1597607442.py:73: DeprecationWarning: The transaction.commit() method is deprecated, use graph.commit(transaction) instead\n",
      "  tx.commit()\n"
     ]
    }
   ],
   "source": [
    "## to Neo4j\n",
    "# Exporting graph to Neo4J\n",
    "import py2neo\n",
    "node_map = {}\n",
    "\n",
    "# NEO4J_USER = 'yojana'\n",
    "# NEO4J_PASS = 'abc'\n",
    "\n",
    "#neo_connection = py2neo.Graph('bolt://localhost:7687', auth=('neo4j', 'itmp'),name='mpoxkg')\n",
    "neo_connection = py2neo.Graph('bolt://localhost:7687', auth=('tndkg', 'tnd'),name = 'tnd')\n",
    "neo_connection.delete_all()\n",
    "tx = neo_connection.begin()\n",
    "\n",
    "nodes = list(tnd)\n",
    "\n",
    "dbio = nx.get_node_attributes(tnd,'3Dbio')\n",
    "uprot = nx.get_node_attributes(tnd,'UniProt')\n",
    "chembl = nx.get_node_attributes(tnd,'ChEMBL')\n",
    "uprot_predicted = nx.get_node_attributes(tnd,'Type')\n",
    "\n",
    "for node in tqdm(nodes, desc=\"nodes\"):\n",
    "    attrs = {\"namespace\": node.namespace}\n",
    "\n",
    "    if node.name and node.identifier:\n",
    "        attrs[\"name\"] = node.name\n",
    "        attrs[\"identifier\"] = node.identifier\n",
    "    elif node.identifier and not node.name:\n",
    "        attrs[\"name\"] = node.identifier\n",
    "    elif node.name and not node.identifier:\n",
    "        attrs[\"name\"] = node.name\n",
    "    \n",
    "    if node in dbio:\n",
    "        attrs['3Dbio'] = dbio[node]\n",
    "        \n",
    "    if node in uprot:\n",
    "        attrs['UniProt'] = uprot[node]\n",
    "        \n",
    "    if node in chembl:\n",
    "        attrs['ChEMBL'] = chembl[node]\n",
    "        \n",
    "    if node in uprot_predicted:\n",
    "        attrs['Type'] = uprot_predicted[node]\n",
    "\n",
    "    node_map[node] = py2neo.Node(node.function, **attrs)\n",
    "\n",
    "    tx.create(node_map[node])\n",
    "\n",
    "edges = tnd.edges(keys=True, data=True)\n",
    "\n",
    "for u, v, key, node in tqdm(edges, desc=\"edges\"):\n",
    "    rel_type = node['relation']\n",
    "\n",
    "    d = node.copy()\n",
    "    del d['relation']\n",
    "\n",
    "    attrs = {}\n",
    "\n",
    "    annotations = d.pop('annotations', None)\n",
    "    if annotations:\n",
    "        for annotation, values in annotations.items():\n",
    "            attrs[annotation] = list(values)\n",
    "\n",
    "    citation = d.pop('citation', None)\n",
    "    if citation:\n",
    "        attrs['citation'] = citation.curie\n",
    "\n",
    "    if 'evidence' in d:\n",
    "        attrs['evidence'] = d['evidence']\n",
    "\n",
    "    rel = py2neo.Relationship(node_map[u], rel_type, node_map[v], key=key, **attrs)\n",
    "    tx.create(rel)\n",
    "    \n",
    "tx.commit()"
   ]
  },
  {
   "cell_type": "code",
   "execution_count": null,
   "id": "fb1c847a",
   "metadata": {},
   "outputs": [],
   "source": []
  }
 ],
 "metadata": {
  "kernelspec": {
   "display_name": "Python 3 (ipykernel)",
   "language": "python",
   "name": "python3"
  },
  "language_info": {
   "codemirror_mode": {
    "name": "ipython",
    "version": 3
   },
   "file_extension": ".py",
   "mimetype": "text/x-python",
   "name": "python",
   "nbconvert_exporter": "python",
   "pygments_lexer": "ipython3",
   "version": "3.10.4"
  }
 },
 "nbformat": 4,
 "nbformat_minor": 5
}
