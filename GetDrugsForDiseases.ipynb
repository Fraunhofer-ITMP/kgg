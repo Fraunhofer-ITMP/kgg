{
 "cells": [
  {
   "cell_type": "markdown",
   "id": "95894b68",
   "metadata": {},
   "source": [
    "# KG Generator Tool"
   ]
  },
  {
   "cell_type": "markdown",
   "id": "e6cd5418",
   "metadata": {},
   "source": [
    "## Let's get started by importing relevant libraries"
   ]
  },
  {
   "cell_type": "code",
   "execution_count": null,
   "id": "35a63bc0",
   "metadata": {},
   "outputs": [],
   "source": [
    "#pip install -r requirements.txt"
   ]
  },
  {
   "cell_type": "code",
   "execution_count": null,
   "id": "f676e6f3",
   "metadata": {},
   "outputs": [],
   "source": [
    "from PIL import Image\n",
    "\n",
    "img = \"https://github.com/Fraunhofer-ITMP/kgg/blob/main/data/KGG.png?raw=true\"\n",
    "image = Image.open(img)\n",
    "image.show()"
   ]
  },
  {
   "cell_type": "code",
   "execution_count": null,
   "id": "389fe603",
   "metadata": {},
   "outputs": [],
   "source": [
    "import PIL\n",
    "from PIL import Image\n",
    "import urllib"
   ]
  },
  {
   "cell_type": "code",
   "execution_count": null,
   "id": "240bd807",
   "metadata": {},
   "outputs": [],
   "source": [
    "def test():\n",
    "    img = \"https://github.com/Fraunhofer-ITMP/kgg/blob/main/data/KGG.png?raw=true\"\n",
    "    return(PIL.Image.open(urllib.request.urlopen(img)))"
   ]
  },
  {
   "cell_type": "code",
   "execution_count": null,
   "id": "fcc02c0e",
   "metadata": {},
   "outputs": [],
   "source": [
    "test"
   ]
  },
  {
   "cell_type": "code",
   "execution_count": null,
   "id": "6426e0b9",
   "metadata": {},
   "outputs": [],
   "source": [
    "#pip install pillow\n",
    "from PIL import Image"
   ]
  },
  {
   "cell_type": "code",
   "execution_count": 1,
   "id": "b41fb83b",
   "metadata": {},
   "outputs": [],
   "source": [
    "import requests\n",
    "import json\n",
    "import pandas as pd\n",
    "import matplotlib.pyplot as plt\n",
    "import os\n",
    "from tqdm.auto import tqdm\n",
    "\n",
    "import pybel\n",
    "from pybel.io.jupyter import to_jupyter\n",
    "from utils import *\n",
    "from kg_gen import *\n",
    "\n",
    "from IPython.display import Markdown, display"
   ]
  },
  {
   "cell_type": "markdown",
   "id": "7556a3fb",
   "metadata": {},
   "source": [
    "## Please execute following cells"
   ]
  },
  {
   "cell_type": "code",
   "execution_count": 5,
   "id": "2036d66a",
   "metadata": {
    "scrolled": false
   },
   "outputs": [
    {
     "data": {
      "image/png": "[encoded data removed]",
      "text/plain": [
       "<Figure size 432x288 with 1 Axes>"
      ]
     },
     "metadata": {
      "needs_background": "light"
     },
     "output_type": "display_data"
    },
    {
     "data": {
      "text/markdown": [
       "<span style='color:blue'>**Welcome to the KG Generator tool. In the following steps, we will need a couple of inputs from your side.**</span>"
      ],
      "text/plain": [
       "<IPython.core.display.Markdown object>"
      ]
     },
     "metadata": {},
     "output_type": "display_data"
    },
    {
     "name": "stdout",
     "output_type": "stream",
     "text": [
      "Please enter the disease you are interested in and we will try to find the best matches for you.\n",
      "\n",
      "Input: Dracunculiasis\n"
     ]
    },
    {
     "data": {
      "text/html": [
       "<table border=\"1\" class=\"dataframe\">\n",
       "  <thead>\n",
       "    <tr style=\"text-align: right;\">\n",
       "      <th>index</th>\n",
       "      <th>id</th>\n",
       "      <th>name</th>\n",
       "    </tr>\n",
       "  </thead>\n",
       "  <tbody>\n",
       "    <tr>\n",
       "      <td>0</td>\n",
       "      <td>EFO_0007241</td>\n",
       "      <td>dracunculiasis</td>\n",
       "    </tr>\n",
       "    <tr>\n",
       "      <td>1</td>\n",
       "      <td>MONDO_0016075</td>\n",
       "      <td>filariasis</td>\n",
       "    </tr>\n",
       "  </tbody>\n",
       "</table>"
      ],
      "text/plain": [
       "<IPython.core.display.HTML object>"
      ]
     },
     "metadata": {},
     "output_type": "display_data"
    },
    {
     "data": {
      "text/markdown": [
       "<span style='color:None'>**Here you go! Hopefully your disease of interest is in the list. If so, let's get started.**</span>"
      ],
      "text/plain": [
       "<IPython.core.display.Markdown object>"
      ]
     },
     "metadata": {},
     "output_type": "display_data"
    },
    {
     "name": "stdout",
     "output_type": "stream",
     "text": [
      "Please enter the index value of your disease of interest. Input: 0\n",
      "\n",
      "\n",
      "Please enter the clinical trial phase of chemicals which should be identified by the workflow. Use a number between 1 (early phase) and 4 (FDA approved). For example, if you use 3, the KG will fetch chemicals that are in phase 3. Also, remember that lower the input value, higher will be the number of identified chemicals and therefore the running time of workflow also increases.\n",
      "\n",
      "\n",
      "Your desired clinical trial phase: 1\n",
      "\n",
      "\n",
      "Please provide a name for you KG. Input: test\n",
      "\n",
      "\n",
      "We have identified 13 proteins (Swiss-Prot) associated with the disease. Following is a histogram that shows distribution of proteins based on scores provided by OpenTargets. The scores are influenced by various factors such as genetic associations, expression, mutations, known pathways, targeting drugs and so on.\n",
      "\n",
      "Displaying top 20 genes\n"
     ]
    },
    {
     "data": {
      "text/html": [
       "<table border=\"1\" class=\"dataframe\">\n",
       "  <thead>\n",
       "    <tr style=\"text-align: right;\">\n",
       "      <th>Protein</th>\n",
       "      <th>ENSG</th>\n",
       "      <th>UniProt</th>\n",
       "      <th>Source</th>\n",
       "      <th>Score</th>\n",
       "    </tr>\n",
       "  </thead>\n",
       "  <tbody>\n",
       "    <tr>\n",
       "      <td>MEFV</td>\n",
       "      <td>ENSG00000103313</td>\n",
       "      <td>O15553</td>\n",
       "      <td>uniprot_swissprot</td>\n",
       "      <td>0.039868</td>\n",
       "    </tr>\n",
       "    <tr>\n",
       "      <td>IL1RN</td>\n",
       "      <td>ENSG00000136689</td>\n",
       "      <td>P18510</td>\n",
       "      <td>uniprot_swissprot</td>\n",
       "      <td>0.035746</td>\n",
       "    </tr>\n",
       "    <tr>\n",
       "      <td>PLCG2</td>\n",
       "      <td>ENSG00000197943</td>\n",
       "      <td>P16885</td>\n",
       "      <td>uniprot_swissprot</td>\n",
       "      <td>0.034452</td>\n",
       "    </tr>\n",
       "    <tr>\n",
       "      <td>MMP3</td>\n",
       "      <td>ENSG00000149968</td>\n",
       "      <td>P08254</td>\n",
       "      <td>uniprot_swissprot</td>\n",
       "      <td>0.033173</td>\n",
       "    </tr>\n",
       "    <tr>\n",
       "      <td>MMP9</td>\n",
       "      <td>ENSG00000100985</td>\n",
       "      <td>P14780</td>\n",
       "      <td>uniprot_swissprot</td>\n",
       "      <td>0.032050</td>\n",
       "    </tr>\n",
       "    <tr>\n",
       "      <td>GSDMA</td>\n",
       "      <td>ENSG00000167914</td>\n",
       "      <td>Q96QA5</td>\n",
       "      <td>uniprot_swissprot</td>\n",
       "      <td>0.031902</td>\n",
       "    </tr>\n",
       "    <tr>\n",
       "      <td>TREX1</td>\n",
       "      <td>ENSG00000213689</td>\n",
       "      <td>Q9NSU2</td>\n",
       "      <td>uniprot_swissprot</td>\n",
       "      <td>0.031747</td>\n",
       "    </tr>\n",
       "    <tr>\n",
       "      <td>TNF</td>\n",
       "      <td>ENSG00000232810</td>\n",
       "      <td>P01375</td>\n",
       "      <td>uniprot_swissprot</td>\n",
       "      <td>0.031156</td>\n",
       "    </tr>\n",
       "    <tr>\n",
       "      <td>CHUK</td>\n",
       "      <td>ENSG00000213341</td>\n",
       "      <td>O15111</td>\n",
       "      <td>uniprot_swissprot</td>\n",
       "      <td>0.030416</td>\n",
       "    </tr>\n",
       "    <tr>\n",
       "      <td>IGHE</td>\n",
       "      <td>ENSG00000211891</td>\n",
       "      <td>P01854</td>\n",
       "      <td>uniprot_swissprot</td>\n",
       "      <td>0.004774</td>\n",
       "    </tr>\n",
       "    <tr>\n",
       "      <td>IFNG</td>\n",
       "      <td>ENSG00000111537</td>\n",
       "      <td>P01579</td>\n",
       "      <td>uniprot_swissprot</td>\n",
       "      <td>0.002217</td>\n",
       "    </tr>\n",
       "    <tr>\n",
       "      <td>CD40LG</td>\n",
       "      <td>ENSG00000102245</td>\n",
       "      <td>P29965</td>\n",
       "      <td>uniprot_swissprot</td>\n",
       "      <td>0.001478</td>\n",
       "    </tr>\n",
       "    <tr>\n",
       "      <td>CD79A</td>\n",
       "      <td>ENSG00000105369</td>\n",
       "      <td>P11912</td>\n",
       "      <td>uniprot_swissprot</td>\n",
       "      <td>0.001478</td>\n",
       "    </tr>\n",
       "  </tbody>\n",
       "</table>"
      ],
      "text/plain": [
       "<IPython.core.display.HTML object>"
      ]
     },
     "metadata": {},
     "output_type": "display_data"
    },
    {
     "data": {
      "image/png": "[encoded data removed]",
      "text/plain": [
       "<Figure size 432x288 with 1 Axes>"
      ]
     },
     "metadata": {
      "needs_background": "light"
     },
     "output_type": "display_data"
    },
    {
     "name": "stdout",
     "output_type": "stream",
     "text": [
      "\n",
      "\n",
      "We recommend taking a threshold above 0.3 to exclude loosely associated proteins. \n",
      "Please enter your desired threshold: 1\n",
      "\n",
      "\n",
      "Alright, we are good to go now. Your KG is now being generated! Sit back and relax!!\n",
      "\n",
      " Total no. of proteins:  0\n",
      "\n",
      " Empty DataFrame\n",
      "Columns: [Protein, ENSG, UniProt, Source, Score]\n",
      "Index: []\n"
     ]
    },
    {
     "ename": "KeyError",
     "evalue": "'phase'",
     "output_type": "error",
     "traceback": [
      "\u001b[1;31m---------------------------------------------------------------------------\u001b[0m",
      "\u001b[1;31mKeyError\u001b[0m                                  Traceback (most recent call last)",
      "File \u001b[1;32m~\\Anaconda3\\envs\\bycovid_new\\lib\\site-packages\\pandas\\core\\indexes\\base.py:3621\u001b[0m, in \u001b[0;36mIndex.get_loc\u001b[1;34m(self, key, method, tolerance)\u001b[0m\n\u001b[0;32m   3620\u001b[0m \u001b[38;5;28;01mtry\u001b[39;00m:\n\u001b[1;32m-> 3621\u001b[0m     \u001b[38;5;28;01mreturn\u001b[39;00m \u001b[38;5;28;43mself\u001b[39;49m\u001b[38;5;241;43m.\u001b[39;49m\u001b[43m_engine\u001b[49m\u001b[38;5;241;43m.\u001b[39;49m\u001b[43mget_loc\u001b[49m\u001b[43m(\u001b[49m\u001b[43mcasted_key\u001b[49m\u001b[43m)\u001b[49m\n\u001b[0;32m   3622\u001b[0m \u001b[38;5;28;01mexcept\u001b[39;00m \u001b[38;5;167;01mKeyError\u001b[39;00m \u001b[38;5;28;01mas\u001b[39;00m err:\n",
      "File \u001b[1;32m~\\Anaconda3\\envs\\bycovid_new\\lib\\site-packages\\pandas\\_libs\\index.pyx:136\u001b[0m, in \u001b[0;36mpandas._libs.index.IndexEngine.get_loc\u001b[1;34m()\u001b[0m\n",
      "File \u001b[1;32m~\\Anaconda3\\envs\\bycovid_new\\lib\\site-packages\\pandas\\_libs\\index.pyx:163\u001b[0m, in \u001b[0;36mpandas._libs.index.IndexEngine.get_loc\u001b[1;34m()\u001b[0m\n",
      "File \u001b[1;32mpandas\\_libs\\hashtable_class_helper.pxi:5198\u001b[0m, in \u001b[0;36mpandas._libs.hashtable.PyObjectHashTable.get_item\u001b[1;34m()\u001b[0m\n",
      "File \u001b[1;32mpandas\\_libs\\hashtable_class_helper.pxi:5206\u001b[0m, in \u001b[0;36mpandas._libs.hashtable.PyObjectHashTable.get_item\u001b[1;34m()\u001b[0m\n",
      "\u001b[1;31mKeyError\u001b[0m: 'phase'",
      "\nThe above exception was the direct cause of the following exception:\n",
      "\u001b[1;31mKeyError\u001b[0m                                  Traceback (most recent call last)",
      "Input \u001b[1;32mIn [5]\u001b[0m, in \u001b[0;36m<cell line: 1>\u001b[1;34m()\u001b[0m\n\u001b[1;32m----> 1\u001b[0m kg \u001b[38;5;241m=\u001b[39m \u001b[43mcreateKG\u001b[49m\u001b[43m(\u001b[49m\u001b[43m)\u001b[49m\n",
      "File \u001b[1;32m~\\Documents\\GitHub\\kgg\\kg_gen.py:515\u001b[0m, in \u001b[0;36mcreateKG\u001b[1;34m()\u001b[0m\n\u001b[0;32m    511\u001b[0m df_dis2prot \u001b[38;5;241m=\u001b[39m GetDiseaseAssociatedProteins(doid[\u001b[38;5;124m'\u001b[39m\u001b[38;5;124mid\u001b[39m\u001b[38;5;124m'\u001b[39m][efo_id])\n\u001b[0;32m    513\u001b[0m \u001b[38;5;66;03m#chembl_list = GetDiseaseAssociatedDrugs(efo_id,ct_phase)\u001b[39;00m\n\u001b[1;32m--> 515\u001b[0m chembl_list \u001b[38;5;241m=\u001b[39m \u001b[43mGetDiseaseAssociatedDrugs\u001b[49m\u001b[43m(\u001b[49m\u001b[43mdoid\u001b[49m\u001b[43m[\u001b[49m\u001b[38;5;124;43m'\u001b[39;49m\u001b[38;5;124;43mid\u001b[39;49m\u001b[38;5;124;43m'\u001b[39;49m\u001b[43m]\u001b[49m\u001b[43m[\u001b[49m\u001b[43mefo_id\u001b[49m\u001b[43m]\u001b[49m\u001b[43m,\u001b[49m\u001b[43mct_phase\u001b[49m\u001b[43m)\u001b[49m\n\u001b[0;32m    517\u001b[0m \u001b[38;5;28;01mreturn\u001b[39;00m (chembl_list)\n\u001b[0;32m    519\u001b[0m \u001b[38;5;66;03m#create empty KG\u001b[39;00m\n",
      "File \u001b[1;32m~\\Documents\\GitHub\\kgg\\kg_gen.py:312\u001b[0m, in \u001b[0;36mGetDiseaseAssociatedDrugs\u001b[1;34m(disease_id, CT_phase)\u001b[0m\n\u001b[0;32m    309\u001b[0m api_response \u001b[38;5;241m=\u001b[39m json\u001b[38;5;241m.\u001b[39mloads(r\u001b[38;5;241m.\u001b[39mtext)\n\u001b[0;32m    311\u001b[0m df \u001b[38;5;241m=\u001b[39m pd\u001b[38;5;241m.\u001b[39mDataFrame(api_response[\u001b[38;5;124m'\u001b[39m\u001b[38;5;124mdata\u001b[39m\u001b[38;5;124m'\u001b[39m][\u001b[38;5;124m'\u001b[39m\u001b[38;5;124mdisease\u001b[39m\u001b[38;5;124m'\u001b[39m][\u001b[38;5;124m'\u001b[39m\u001b[38;5;124mknownDrugs\u001b[39m\u001b[38;5;124m'\u001b[39m][\u001b[38;5;124m'\u001b[39m\u001b[38;5;124mrows\u001b[39m\u001b[38;5;124m'\u001b[39m])\n\u001b[1;32m--> 312\u001b[0m df \u001b[38;5;241m=\u001b[39m df\u001b[38;5;241m.\u001b[39mloc[\u001b[43mdf\u001b[49m\u001b[43m[\u001b[49m\u001b[38;5;124;43m'\u001b[39;49m\u001b[38;5;124;43mphase\u001b[39;49m\u001b[38;5;124;43m'\u001b[39;49m\u001b[43m]\u001b[49m \u001b[38;5;241m>\u001b[39m\u001b[38;5;241m=\u001b[39m \u001b[38;5;28mint\u001b[39m(CT_phase),:]\n\u001b[0;32m    314\u001b[0m \u001b[38;5;28;01mif\u001b[39;00m \u001b[38;5;129;01mnot\u001b[39;00m df\u001b[38;5;241m.\u001b[39mempty:\n\u001b[0;32m    315\u001b[0m     \u001b[38;5;28mprint\u001b[39m(\u001b[38;5;124m'\u001b[39m\u001b[38;5;124mYour dataframe is ready\u001b[39m\u001b[38;5;124m'\u001b[39m)\n",
      "File \u001b[1;32m~\\Anaconda3\\envs\\bycovid_new\\lib\\site-packages\\pandas\\core\\frame.py:3505\u001b[0m, in \u001b[0;36mDataFrame.__getitem__\u001b[1;34m(self, key)\u001b[0m\n\u001b[0;32m   3503\u001b[0m \u001b[38;5;28;01mif\u001b[39;00m \u001b[38;5;28mself\u001b[39m\u001b[38;5;241m.\u001b[39mcolumns\u001b[38;5;241m.\u001b[39mnlevels \u001b[38;5;241m>\u001b[39m \u001b[38;5;241m1\u001b[39m:\n\u001b[0;32m   3504\u001b[0m     \u001b[38;5;28;01mreturn\u001b[39;00m \u001b[38;5;28mself\u001b[39m\u001b[38;5;241m.\u001b[39m_getitem_multilevel(key)\n\u001b[1;32m-> 3505\u001b[0m indexer \u001b[38;5;241m=\u001b[39m \u001b[38;5;28;43mself\u001b[39;49m\u001b[38;5;241;43m.\u001b[39;49m\u001b[43mcolumns\u001b[49m\u001b[38;5;241;43m.\u001b[39;49m\u001b[43mget_loc\u001b[49m\u001b[43m(\u001b[49m\u001b[43mkey\u001b[49m\u001b[43m)\u001b[49m\n\u001b[0;32m   3506\u001b[0m \u001b[38;5;28;01mif\u001b[39;00m is_integer(indexer):\n\u001b[0;32m   3507\u001b[0m     indexer \u001b[38;5;241m=\u001b[39m [indexer]\n",
      "File \u001b[1;32m~\\Anaconda3\\envs\\bycovid_new\\lib\\site-packages\\pandas\\core\\indexes\\base.py:3623\u001b[0m, in \u001b[0;36mIndex.get_loc\u001b[1;34m(self, key, method, tolerance)\u001b[0m\n\u001b[0;32m   3621\u001b[0m     \u001b[38;5;28;01mreturn\u001b[39;00m \u001b[38;5;28mself\u001b[39m\u001b[38;5;241m.\u001b[39m_engine\u001b[38;5;241m.\u001b[39mget_loc(casted_key)\n\u001b[0;32m   3622\u001b[0m \u001b[38;5;28;01mexcept\u001b[39;00m \u001b[38;5;167;01mKeyError\u001b[39;00m \u001b[38;5;28;01mas\u001b[39;00m err:\n\u001b[1;32m-> 3623\u001b[0m     \u001b[38;5;28;01mraise\u001b[39;00m \u001b[38;5;167;01mKeyError\u001b[39;00m(key) \u001b[38;5;28;01mfrom\u001b[39;00m \u001b[38;5;21;01merr\u001b[39;00m\n\u001b[0;32m   3624\u001b[0m \u001b[38;5;28;01mexcept\u001b[39;00m \u001b[38;5;167;01mTypeError\u001b[39;00m:\n\u001b[0;32m   3625\u001b[0m     \u001b[38;5;66;03m# If we have a listlike key, _check_indexing_error will raise\u001b[39;00m\n\u001b[0;32m   3626\u001b[0m     \u001b[38;5;66;03m#  InvalidIndexError. Otherwise we fall through and re-raise\u001b[39;00m\n\u001b[0;32m   3627\u001b[0m     \u001b[38;5;66;03m#  the TypeError.\u001b[39;00m\n\u001b[0;32m   3628\u001b[0m     \u001b[38;5;28mself\u001b[39m\u001b[38;5;241m.\u001b[39m_check_indexing_error(key)\n",
      "\u001b[1;31mKeyError\u001b[0m: 'phase'"
     ]
    }
   ],
   "source": [
    "kg = createKG()"
   ]
  },
  {
   "cell_type": "code",
   "execution_count": 4,
   "id": "8bec316c",
   "metadata": {},
   "outputs": [
    {
     "data": {
      "text/html": [
       "<div>\n",
       "<style scoped>\n",
       "    .dataframe tbody tr th:only-of-type {\n",
       "        vertical-align: middle;\n",
       "    }\n",
       "\n",
       "    .dataframe tbody tr th {\n",
       "        vertical-align: top;\n",
       "    }\n",
       "\n",
       "    .dataframe thead th {\n",
       "        text-align: right;\n",
       "    }\n",
       "</style>\n",
       "<table border=\"1\" class=\"dataframe\">\n",
       "  <thead>\n",
       "    <tr style=\"text-align: right;\">\n",
       "      <th></th>\n",
       "      <th>approvedSymbol</th>\n",
       "      <th>approvedName</th>\n",
       "      <th>prefName</th>\n",
       "      <th>drugType</th>\n",
       "      <th>drugId</th>\n",
       "      <th>phase</th>\n",
       "      <th>ctIds</th>\n",
       "    </tr>\n",
       "  </thead>\n",
       "  <tbody>\n",
       "    <tr>\n",
       "      <th>0</th>\n",
       "      <td>HMGCR</td>\n",
       "      <td>3-hydroxy-3-methylglutaryl-CoA reductase</td>\n",
       "      <td>ATORVASTATIN CALCIUM</td>\n",
       "      <td>Small molecule</td>\n",
       "      <td>CHEMBL393220</td>\n",
       "      <td>2</td>\n",
       "      <td>[NCT04984616]</td>\n",
       "    </tr>\n",
       "    <tr>\n",
       "      <th>1</th>\n",
       "      <td>HMGCR</td>\n",
       "      <td>3-hydroxy-3-methylglutaryl-CoA reductase</td>\n",
       "      <td>ATORVASTATIN</td>\n",
       "      <td>Small molecule</td>\n",
       "      <td>CHEMBL1487</td>\n",
       "      <td>2</td>\n",
       "      <td>[NCT04984616]</td>\n",
       "    </tr>\n",
       "  </tbody>\n",
       "</table>\n",
       "</div>"
      ],
      "text/plain": [
       "  approvedSymbol                              approvedName  \\\n",
       "0          HMGCR  3-hydroxy-3-methylglutaryl-CoA reductase   \n",
       "1          HMGCR  3-hydroxy-3-methylglutaryl-CoA reductase   \n",
       "\n",
       "               prefName        drugType        drugId  phase          ctIds  \n",
       "0  ATORVASTATIN CALCIUM  Small molecule  CHEMBL393220      2  [NCT04984616]  \n",
       "1          ATORVASTATIN  Small molecule    CHEMBL1487      2  [NCT04984616]  "
      ]
     },
     "execution_count": 4,
     "metadata": {},
     "output_type": "execute_result"
    }
   ],
   "source": [
    "kg"
   ]
  },
  {
   "cell_type": "code",
   "execution_count": null,
   "id": "8b36d40f",
   "metadata": {
    "scrolled": false
   },
   "outputs": [],
   "source": [
    "kg.summarize"
   ]
  },
  {
   "cell_type": "code",
   "execution_count": null,
   "id": "eb82d4c6",
   "metadata": {},
   "outputs": [],
   "source": [
    "to_jupyter(kg)"
   ]
  },
  {
   "cell_type": "code",
   "execution_count": null,
   "id": "9cbd4014",
   "metadata": {},
   "outputs": [],
   "source": [
    "KG_namespace_plot(kg)"
   ]
  },
  {
   "cell_type": "code",
   "execution_count": null,
   "id": "2cd795ba",
   "metadata": {},
   "outputs": [],
   "source": [
    "#For this example we are going to use the python default http library\n",
    "import requests\n",
    "\n",
    "#Build a dict with the following format, change the value of the two keys your DisGeNET account credentials, if you don't have an account you can create one here https://www.disgenet.org/signup/ \n",
    "auth_params = {\"email\":\"change@this.email\",\"password\":\"changethis\"}\n",
    "\n",
    "api_host = \"https://www.disgenet.org/api\"\n",
    "\n",
    "api_key = None\n",
    "s = requests.Session()\n",
    "try:\n",
    "    r = s.post(api_host+'/auth/', data=auth_params)\n",
    "    if(r.status_code == 200):\n",
    "        #Lets store the api key in a new variable and use it again in new requests\n",
    "        json_response = r.json()\n",
    "        api_key = json_response.get(\"token\")\n",
    "        print(api_key + \"This is your user API key.\") #Comment this line if you don't want your API key to show up in the terminal\n",
    "    else:\n",
    "        print(r.status_code)\n",
    "        print(r.text)\n",
    "except requests.exceptions.RequestException as req_ex:\n",
    "    print(req_ex)\n",
    "    print(\"Something went wrong with the request.\")\n",
    "\n",
    "if api_key:\n",
    "    #Add the api key to the requests headers of the requests Session object in order to use the restricted endpoints.\n",
    "    s.headers.update({\"Authorization\": \"Bearer %s\" % api_key}) \n",
    "    #Lets get all the diseases associated to a gene eg. APP (EntrezID 351) and restricted by a source.\n",
    "    gda_response = s.get(api_host+'/gda/gene/351', params={'source':'UNIPROT'})\n",
    "    print(gda_response.json())\n",
    "\n",
    "if s:\n",
    "    s.close()"
   ]
  },
  {
   "cell_type": "code",
   "execution_count": null,
   "id": "35f02317",
   "metadata": {},
   "outputs": [],
   "source": [
    "#For this example we are going to use the python default http library\n",
    "import requests\n",
    "\n",
    "#Build a dict with the following format, change the value of the two keys your DisGeNET account credentials, if you don't have an account you can create one here https://www.disgenet.org/signup/ \n",
    "auth_params = {\"email\":\"reagonkarki@gmail.com\",\"password\":\"Bhunti.87\"}\n",
    "\n",
    "api_host = \"https://www.disgenet.org/api\"\n",
    "\n",
    "api_key = 'e25cb13382cb9b016247822c49f325f75991e607'\n",
    "s = requests.Session()\n",
    "try:\n",
    "    r = s.post(api_host+'/auth/', data=auth_params)\n",
    "    if(r.status_code == 200):\n",
    "        #Lets store the api key in a new variable and use it again in new requests\n",
    "        json_response = r.json()\n",
    "        api_key = json_response.get(\"token\")\n",
    "        print(api_key + \"This is your user API key.\") #Comment this line if you don't want your API key to show up in the terminal\n",
    "    else:\n",
    "        print(r.status_code)\n",
    "        print(r.text)\n",
    "except requests.exceptions.RequestException as req_ex:\n",
    "    print(req_ex)\n",
    "    print(\"Something went wrong with the request.\")\n",
    "\n",
    "if api_key:\n",
    "    #Add the api key to the requests headers of the requests Session object in order to use the restricted endpoints.\n",
    "    s.headers.update({\"Authorization\": \"Bearer %s\" % api_key}) \n",
    "    #Lets get all the diseases associated to a gene eg. APP (EntrezID 351) and restricted by a source.\n",
    "    \n",
    "    #https://www.disgenet.org/api/vda/disease/D000544\n",
    "        \n",
    "    gda_response = s.get(api_host+'/vda/disease/mondo/0004975?type=disease&format=json')\n",
    "    #gda_response = s.get(api_host+'/gda/gene/351', params={'source':'UNIPROT'})\n",
    "    print(gda_response.json())\n",
    "\n",
    "if s:\n",
    "    s.close()"
   ]
  },
  {
   "cell_type": "code",
   "execution_count": null,
   "id": "6fea651d",
   "metadata": {},
   "outputs": [],
   "source": [
    "def GetDiseaseSNPs(disease_id): \n",
    "    \n",
    "    import requests\n",
    "    \n",
    "    doid = disease_id.split(\"_\")\n",
    "    print(doid)\n",
    "    \n",
    "    #For this example we are going to use the python default http library\n",
    "    \n",
    "\n",
    "    #Build a dict with the following format, change the value of the two keys your DisGeNET account credentials, if you don't have an account you can create one here https://www.disgenet.org/signup/ \n",
    "    auth_params = {\"email\":\"reagonkarki@gmail.com\",\"password\":\"Bhunti.87\"}\n",
    "\n",
    "    api_host = \"https://www.disgenet.org/api\"\n",
    "\n",
    "    api_key = 'e25cb13382cb9b016247822c49f325f75991e607'\n",
    "    s = requests.Session()\n",
    "\n",
    "    if api_key:\n",
    "        #Add the api key to the requests headers of the requests Session object in order to use the restricted endpoints.\n",
    "        s.headers.update({\"Authorization\": \"Bearer %s\" % api_key}) \n",
    "        #Lets get all the diseases associated to a gene eg. APP (EntrezID 351) and restricted by a source.\n",
    "\n",
    "        #https://www.disgenet.org/api/vda/disease/D000544\n",
    "    \n",
    "        gda_response = s.get(api_host+'/vda/disease/'+str(doid[0]).lower()+ \"/\" +str(doid[1]) +'?format=json')\n",
    "        #gda_response = s.get(api_host+'/gda/gene/351', params={'source':'UNIPROT'})\n",
    "\n",
    "        \n",
    "        gda_response = gda_response.json()\n",
    "        gda_response = pd.DataFrame(gda_response)\n",
    "        return(gda_response)\n",
    "\n",
    "    if s:\n",
    "        s.close()"
   ]
  },
  {
   "cell_type": "code",
   "execution_count": null,
   "id": "cceea822",
   "metadata": {},
   "outputs": [],
   "source": [
    "test = GetDiseaseSNPs('MONDO_0004975')"
   ]
  },
  {
   "cell_type": "code",
   "execution_count": null,
   "id": "1349e11d",
   "metadata": {},
   "outputs": [],
   "source": [
    "test = GetDiseaseSNPs('EFO_0000765')"
   ]
  },
  {
   "cell_type": "code",
   "execution_count": null,
   "id": "1f89a594",
   "metadata": {},
   "outputs": [],
   "source": [
    "test"
   ]
  },
  {
   "cell_type": "code",
   "execution_count": null,
   "id": "7821e0f6",
   "metadata": {},
   "outputs": [],
   "source": [
    "x ='OR5V1;OR12D3'\n",
    "#x = 'OR5V1'\n",
    "x = x.split(';')\n",
    "len(x)"
   ]
  },
  {
   "cell_type": "code",
   "execution_count": null,
   "id": "5da2dcd0",
   "metadata": {},
   "outputs": [],
   "source": [
    "def snp2gene_rel(snp_df,graph): \n",
    "    \n",
    "    #convert col to datatype == str to remove rows that have 'None' in gene_symbol\n",
    "    snp_df[['gene_symbol']] =  snp_df[['gene_symbol']].astype(str)\n",
    "    snp_df = snp_df.loc[snp_df['gene_symbol'] != \"None\"]\n",
    "    snp_df = snp_df.reset_index(drop=True)\n",
    "    \n",
    "    print(len(snp_df))\n",
    "    \n",
    "    for i in tqdm(range(len(snp_df)),desc='adding SNPs'):\n",
    "        genes = snp_df['gene_symbol'][i].split(';')\n",
    "        \n",
    "        for j in range(len(genes)):\n",
    "        \n",
    "            graph.add_association(\n",
    "                Gene(namespace=\"dbSNP\",name=snp_df['variantid'][i]),\n",
    "                Protein(namespace = \"HGNC\", name = genes[j]),\n",
    "                citation = \"DisGeNet\",\n",
    "                evidence = \"SNPs for queried disease\"\n",
    "            )\n",
    "    \n",
    "    return(graph)"
   ]
  },
  {
   "cell_type": "code",
   "execution_count": null,
   "id": "de9a2b94",
   "metadata": {},
   "outputs": [],
   "source": [
    "from pybel.dsl import Gene\n",
    "kg = pybel.BELGraph(name='test', version=\"0.0.1\")"
   ]
  },
  {
   "cell_type": "code",
   "execution_count": null,
   "id": "c7c39dca",
   "metadata": {},
   "outputs": [],
   "source": [
    "kg = snp2gene_rel(test,kg)"
   ]
  },
  {
   "cell_type": "code",
   "execution_count": null,
   "id": "a0537bb2",
   "metadata": {},
   "outputs": [],
   "source": [
    "kg = dbSNP_annotation(kg)"
   ]
  },
  {
   "cell_type": "code",
   "execution_count": null,
   "id": "c8588df8",
   "metadata": {},
   "outputs": [],
   "source": [
    "kg.summarize"
   ]
  },
  {
   "cell_type": "code",
   "execution_count": null,
   "id": "cd618862",
   "metadata": {},
   "outputs": [],
   "source": [
    "to_jupyter(kg)"
   ]
  },
  {
   "cell_type": "code",
   "execution_count": null,
   "id": "b2c3580c",
   "metadata": {},
   "outputs": [],
   "source": [
    "#list entities of interest separated by a space\n",
    "entityList = 'rs763059810 rs2395029 rs2284178'.split(' ')\n",
    "\n",
    "#prtn_attr = nx.get_node_attributes(kg,'UniProt')\n",
    "chem_attr = nx.get_node_attributes(kg,'source')\n",
    "#bionote_attr = nx.get_node_attributes(mpox_graph,'3Dbio')\n",
    "\n",
    "for node in kg.nodes():\n",
    "    unique_node = []\n",
    "    \n",
    "    if node.name in entityList:\n",
    "        if node not in unique_node:\n",
    "            \n",
    "            unique_node.append(node)\n",
    "            print(node.name)\n",
    "       \n",
    "            if isinstance(node,pybel.dsl.Gene):\n",
    "                print(chem_attr[node])\n",
    "                \n",
    "#             if isinstance(node,pybel.dsl.Protein):\n",
    "#                 print(prtn_attr[node])\n",
    "                \n",
    "#             if isinstance(node,pybel.dsl.Protein):\n",
    "#                 print(bionote_attr[node])\n",
    "            "
   ]
  },
  {
   "cell_type": "code",
   "execution_count": null,
   "id": "53d023eb",
   "metadata": {},
   "outputs": [],
   "source": [
    "chem_attr"
   ]
  },
  {
   "cell_type": "code",
   "execution_count": null,
   "id": "18b556d5",
   "metadata": {},
   "outputs": [],
   "source": []
  }
 ],
 "metadata": {
  "kernelspec": {
   "display_name": "Python 3 (ipykernel)",
   "language": "python",
   "name": "python3"
  },
  "language_info": {
   "codemirror_mode": {
    "name": "ipython",
    "version": 3
   },
   "file_extension": ".py",
   "mimetype": "text/x-python",
   "name": "python",
   "nbconvert_exporter": "python",
   "pygments_lexer": "ipython3",
   "version": "3.10.4"
  }
 },
 "nbformat": 4,
 "nbformat_minor": 5
}
