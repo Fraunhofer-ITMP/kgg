{
 "cells": [
  {
   "cell_type": "markdown",
   "id": "95894b68",
   "metadata": {},
   "source": [
    "# KG Generator Tool"
   ]
  },
  {
   "cell_type": "markdown",
   "id": "e6cd5418",
   "metadata": {},
   "source": [
    "## Let's get started by importing relevant libraries"
   ]
  },
  {
   "cell_type": "code",
   "execution_count": null,
   "id": "35a63bc0",
   "metadata": {},
   "outputs": [],
   "source": [
    "#pip install -r requirements.txt"
   ]
  },
  {
   "cell_type": "code",
   "execution_count": null,
   "id": "e4ef321c",
   "metadata": {},
   "outputs": [],
   "source": [
    "#pip install streamlit-agraph"
   ]
  },
  {
   "cell_type": "code",
   "execution_count": 6,
   "id": "b41fb83b",
   "metadata": {},
   "outputs": [],
   "source": [
    "from utils import *\n",
    "#from kg_gen_4_onlyProts import *\n",
    "\n",
    "from kg_gen_4 import *\n",
    "\n",
    "#from IPython.display import Markdown, display"
   ]
  },
  {
   "cell_type": "markdown",
   "id": "7556a3fb",
   "metadata": {},
   "source": [
    "## Please execute following cells"
   ]
  },
  {
   "cell_type": "code",
   "execution_count": 5,
   "id": "65dd794b",
   "metadata": {
    "scrolled": false
   },
   "outputs": [
    {
     "data": {
      "image/png": "[encoded data removed]",
      "text/plain": [
       "<Figure size 300x300 with 1 Axes>"
      ]
     },
     "metadata": {},
     "output_type": "display_data"
    },
    {
     "data": {
      "text/markdown": [
       "<span style='color:blue'>**Welcome to the KG Generator tool. In the following steps, we will need some inputs from your side.**</span>"
      ],
      "text/plain": [
       "<IPython.core.display.Markdown object>"
      ]
     },
     "metadata": {},
     "output_type": "display_data"
    },
    {
     "name": "stdout",
     "output_type": "stream",
     "text": [
      "Please enter the disease you are interested in and we will try to find the best matches for you.\n",
      "\n",
      "Input: parkinson\n"
     ]
    },
    {
     "data": {
      "text/html": [
       "<table border=\"1\" class=\"dataframe\">\n",
       "  <thead>\n",
       "    <tr style=\"text-align: center;\">\n",
       "      <th>index</th>\n",
       "      <th>id</th>\n",
       "      <th>name</th>\n",
       "    </tr>\n",
       "  </thead>\n",
       "  <tbody>\n",
       "    <tr>\n",
       "      <td>0</td>\n",
       "      <td>MONDO_0021095</td>\n",
       "      <td>parkinsonian disorder</td>\n",
       "    </tr>\n",
       "    <tr>\n",
       "      <td>1</td>\n",
       "      <td>Orphanet_2828</td>\n",
       "      <td>Young adult-onset Parkinsonism</td>\n",
       "    </tr>\n",
       "    <tr>\n",
       "      <td>2</td>\n",
       "      <td>Orphanet_307052</td>\n",
       "      <td>Rare genetic parkinsonian disorder</td>\n",
       "    </tr>\n",
       "    <tr>\n",
       "      <td>3</td>\n",
       "      <td>MONDO_0005180</td>\n",
       "      <td>Parkinson disease</td>\n",
       "    </tr>\n",
       "    <tr>\n",
       "      <td>4</td>\n",
       "      <td>MONDO_0013060</td>\n",
       "      <td>autosomal recessive Parkinson disease 14</td>\n",
       "    </tr>\n",
       "    <tr>\n",
       "      <td>5</td>\n",
       "      <td>Orphanet_307055</td>\n",
       "      <td>Rare parkinsonian syndrome due to genetic neurodegenerative disease</td>\n",
       "    </tr>\n",
       "    <tr>\n",
       "      <td>6</td>\n",
       "      <td>MONDO_0008199</td>\n",
       "      <td>late-onset Parkinson disease</td>\n",
       "    </tr>\n",
       "    <tr>\n",
       "      <td>7</td>\n",
       "      <td>Orphanet_411602</td>\n",
       "      <td>Hereditary late-onset Parkinson disease</td>\n",
       "    </tr>\n",
       "    <tr>\n",
       "      <td>8</td>\n",
       "      <td>MONDO_0017279</td>\n",
       "      <td>young-onset Parkinson disease</td>\n",
       "    </tr>\n",
       "    <tr>\n",
       "      <td>9</td>\n",
       "      <td>EFO_1001175</td>\n",
       "      <td>secondary Parkinson disease</td>\n",
       "    </tr>\n",
       "    <tr>\n",
       "      <td>10</td>\n",
       "      <td>MONDO_0009830</td>\n",
       "      <td>parkinsonian-pyramidal syndrome</td>\n",
       "    </tr>\n",
       "    <tr>\n",
       "      <td>11</td>\n",
       "      <td>MONDO_0000828</td>\n",
       "      <td>juvenile-onset Parkinson disease</td>\n",
       "    </tr>\n",
       "    <tr>\n",
       "      <td>12</td>\n",
       "      <td>EFO_1001402</td>\n",
       "      <td>postencephalitic Parkinson disease</td>\n",
       "    </tr>\n",
       "    <tr>\n",
       "      <td>13</td>\n",
       "      <td>EFO_0022609</td>\n",
       "      <td>Parkinson disease, dominant</td>\n",
       "    </tr>\n",
       "    <tr>\n",
       "      <td>14</td>\n",
       "      <td>MONDO_0800369</td>\n",
       "      <td>parkinson disease 19B, early-onset</td>\n",
       "    </tr>\n",
       "    <tr>\n",
       "      <td>15</td>\n",
       "      <td>MONDO_0013150</td>\n",
       "      <td>parkinsonism-dystonia, infantile</td>\n",
       "    </tr>\n",
       "    <tr>\n",
       "      <td>16</td>\n",
       "      <td>MONDO_0010482</td>\n",
       "      <td>X-linked parkinsonism-spasticity syndrome</td>\n",
       "    </tr>\n",
       "    <tr>\n",
       "      <td>17</td>\n",
       "      <td>HP_0001300</td>\n",
       "      <td>Parkinsonism</td>\n",
       "    </tr>\n",
       "    <tr>\n",
       "      <td>18</td>\n",
       "      <td>MONDO_0010709</td>\n",
       "      <td>early-onset parkinsonism-intellectual disability syndrome</td>\n",
       "    </tr>\n",
       "    <tr>\n",
       "      <td>19</td>\n",
       "      <td>MONDO_0018321</td>\n",
       "      <td>atypical juvenile parkinsonism</td>\n",
       "    </tr>\n",
       "  </tbody>\n",
       "</table>"
      ],
      "text/plain": [
       "<IPython.core.display.HTML object>"
      ]
     },
     "metadata": {},
     "output_type": "display_data"
    },
    {
     "data": {
      "text/markdown": [
       "<span style='color:None'>**Here you go! Hopefully your disease of interest is in the list. If so, let's get started.**</span>"
      ],
      "text/plain": [
       "<IPython.core.display.Markdown object>"
      ]
     },
     "metadata": {},
     "output_type": "display_data"
    },
    {
     "name": "stdout",
     "output_type": "stream",
     "text": [
      "Please enter the index value of your disease of interest. Input: 3\n",
      "\n",
      "\n",
      "Please enter the clinical trial phase of chemicals which should be identified by the workflow. Use a number between 1 (early phase) and 4 (FDA approved). For example, if you use 3, the KG will fetch chemicals that are in phase 3. Also, remember that lower the input value, higher will be the number of identified chemicals and therefore the running time of workflow also increases.\n",
      "\n",
      "\n",
      "Your desired clinical trial phase: 1\n",
      "\n",
      "\n",
      "Please provide a name for you KG. Input: pd_dec24\n",
      "\n",
      "\n",
      "Now fetching real-time data from databases. Be patient!\n",
      "\n",
      "\n",
      "\u001b[K Fetching Disease-specific Drugs \n",
      "\u001b[K Fetching Disease-specific Proteins \n",
      "\u001b[K Fetching SNPs \n",
      "We have identified 4334 proteins (Swiss-Prot) associated with the disease. Please note that the proteins identified may not be unique if you combined two or more diseases. Following is a histogram that shows distribution of proteins based on scores provided by OpenTargets. The scores are influenced by various factors such as genetic associations, expression, mutations, known pathways, targeting drugs and so on.\n",
      "\n",
      "A total of 4326 unique proteins have been identified.\n",
      "\n",
      "\n",
      "Displaying top 20 genes\n"
     ]
    },
    {
     "data": {
      "text/html": [
       "<table border=\"1\" class=\"dataframe\">\n",
       "  <thead>\n",
       "    <tr style=\"text-align: center;\">\n",
       "      <th>Protein</th>\n",
       "      <th>ENSG</th>\n",
       "      <th>UniProt</th>\n",
       "      <th>Source</th>\n",
       "      <th>Score</th>\n",
       "      <th>disease_id</th>\n",
       "    </tr>\n",
       "  </thead>\n",
       "  <tbody>\n",
       "    <tr>\n",
       "      <td>LRRK2</td>\n",
       "      <td>ENSG00000188906</td>\n",
       "      <td>Q5S007</td>\n",
       "      <td>uniprot_swissprot</td>\n",
       "      <td>0.881</td>\n",
       "      <td>MONDO_0005180</td>\n",
       "    </tr>\n",
       "    <tr>\n",
       "      <td>PRKN</td>\n",
       "      <td>ENSG00000185345</td>\n",
       "      <td>O60260</td>\n",
       "      <td>uniprot_swissprot</td>\n",
       "      <td>0.858</td>\n",
       "      <td>MONDO_0005180</td>\n",
       "    </tr>\n",
       "    <tr>\n",
       "      <td>ATP13A2</td>\n",
       "      <td>ENSG00000159363</td>\n",
       "      <td>Q9NQ11</td>\n",
       "      <td>uniprot_swissprot</td>\n",
       "      <td>0.850</td>\n",
       "      <td>MONDO_0005180</td>\n",
       "    </tr>\n",
       "    <tr>\n",
       "      <td>PINK1</td>\n",
       "      <td>ENSG00000158828</td>\n",
       "      <td>Q9BXM7</td>\n",
       "      <td>uniprot_swissprot</td>\n",
       "      <td>0.847</td>\n",
       "      <td>MONDO_0005180</td>\n",
       "    </tr>\n",
       "    <tr>\n",
       "      <td>SNCA</td>\n",
       "      <td>ENSG00000145335</td>\n",
       "      <td>P37840</td>\n",
       "      <td>uniprot_swissprot</td>\n",
       "      <td>0.841</td>\n",
       "      <td>MONDO_0005180</td>\n",
       "    </tr>\n",
       "    <tr>\n",
       "      <td>PARK7</td>\n",
       "      <td>ENSG00000116288</td>\n",
       "      <td>Q99497</td>\n",
       "      <td>uniprot_swissprot</td>\n",
       "      <td>0.813</td>\n",
       "      <td>MONDO_0005180</td>\n",
       "    </tr>\n",
       "    <tr>\n",
       "      <td>DNAJC6</td>\n",
       "      <td>ENSG00000116675</td>\n",
       "      <td>O75061</td>\n",
       "      <td>uniprot_swissprot</td>\n",
       "      <td>0.801</td>\n",
       "      <td>MONDO_0005180</td>\n",
       "    </tr>\n",
       "    <tr>\n",
       "      <td>FBXO7</td>\n",
       "      <td>ENSG00000100225</td>\n",
       "      <td>Q9Y3I1</td>\n",
       "      <td>uniprot_swissprot</td>\n",
       "      <td>0.789</td>\n",
       "      <td>MONDO_0005180</td>\n",
       "    </tr>\n",
       "    <tr>\n",
       "      <td>PLA2G6</td>\n",
       "      <td>ENSG00000184381</td>\n",
       "      <td>O60733</td>\n",
       "      <td>uniprot_swissprot</td>\n",
       "      <td>0.772</td>\n",
       "      <td>MONDO_0005180</td>\n",
       "    </tr>\n",
       "    <tr>\n",
       "      <td>VPS35</td>\n",
       "      <td>ENSG00000069329</td>\n",
       "      <td>Q96QK1</td>\n",
       "      <td>uniprot_swissprot</td>\n",
       "      <td>0.759</td>\n",
       "      <td>MONDO_0005180</td>\n",
       "    </tr>\n",
       "    <tr>\n",
       "      <td>GBA1</td>\n",
       "      <td>ENSG00000177628</td>\n",
       "      <td>P04062</td>\n",
       "      <td>uniprot_swissprot</td>\n",
       "      <td>0.756</td>\n",
       "      <td>MONDO_0005180</td>\n",
       "    </tr>\n",
       "    <tr>\n",
       "      <td>GIGYF2</td>\n",
       "      <td>ENSG00000204120</td>\n",
       "      <td>Q6Y7W6</td>\n",
       "      <td>uniprot_swissprot</td>\n",
       "      <td>0.750</td>\n",
       "      <td>MONDO_0005180</td>\n",
       "    </tr>\n",
       "    <tr>\n",
       "      <td>VPS13C</td>\n",
       "      <td>ENSG00000129003</td>\n",
       "      <td>Q709C8</td>\n",
       "      <td>uniprot_swissprot</td>\n",
       "      <td>0.698</td>\n",
       "      <td>MONDO_0005180</td>\n",
       "    </tr>\n",
       "    <tr>\n",
       "      <td>GRIN1</td>\n",
       "      <td>ENSG00000176884</td>\n",
       "      <td>Q05586</td>\n",
       "      <td>uniprot_swissprot</td>\n",
       "      <td>0.694</td>\n",
       "      <td>MONDO_0005180</td>\n",
       "    </tr>\n",
       "    <tr>\n",
       "      <td>CHRM1</td>\n",
       "      <td>ENSG00000168539</td>\n",
       "      <td>P11229</td>\n",
       "      <td>uniprot_swissprot</td>\n",
       "      <td>0.666</td>\n",
       "      <td>MONDO_0005180</td>\n",
       "    </tr>\n",
       "    <tr>\n",
       "      <td>MAPT</td>\n",
       "      <td>ENSG00000186868</td>\n",
       "      <td>P10636</td>\n",
       "      <td>uniprot_swissprot</td>\n",
       "      <td>0.662</td>\n",
       "      <td>MONDO_0005180</td>\n",
       "    </tr>\n",
       "    <tr>\n",
       "      <td>PSAP</td>\n",
       "      <td>ENSG00000197746</td>\n",
       "      <td>P07602</td>\n",
       "      <td>uniprot_swissprot</td>\n",
       "      <td>0.639</td>\n",
       "      <td>MONDO_0005180</td>\n",
       "    </tr>\n",
       "    <tr>\n",
       "      <td>UCHL1</td>\n",
       "      <td>ENSG00000154277</td>\n",
       "      <td>P09936</td>\n",
       "      <td>uniprot_swissprot</td>\n",
       "      <td>0.639</td>\n",
       "      <td>MONDO_0005180</td>\n",
       "    </tr>\n",
       "    <tr>\n",
       "      <td>ADRA2B</td>\n",
       "      <td>ENSG00000274286</td>\n",
       "      <td>P18089</td>\n",
       "      <td>uniprot_swissprot</td>\n",
       "      <td>0.635</td>\n",
       "      <td>MONDO_0005180</td>\n",
       "    </tr>\n",
       "    <tr>\n",
       "      <td>DRD2</td>\n",
       "      <td>ENSG00000149295</td>\n",
       "      <td>P14416</td>\n",
       "      <td>uniprot_swissprot</td>\n",
       "      <td>0.631</td>\n",
       "      <td>MONDO_0005180</td>\n",
       "    </tr>\n",
       "  </tbody>\n",
       "</table>"
      ],
      "text/plain": [
       "<IPython.core.display.HTML object>"
      ]
     },
     "metadata": {},
     "output_type": "display_data"
    },
    {
     "data": {
      "image/png": "[encoded data removed]",
      "text/plain": [
       "<Figure size 640x480 with 1 Axes>"
      ]
     },
     "metadata": {},
     "output_type": "display_data"
    },
    {
     "name": "stdout",
     "output_type": "stream",
     "text": [
      "\n",
      "\n",
      "We recommend taking a threshold above 0.3 to exclude loosely associated proteins. \n",
      "Please enter your desired threshold: 0.0\n",
      "\n",
      "\n",
      "Alright, we are good to go now. Your KG is now being generated! Sit back and relax!!\n",
      "\n",
      " Total no. of proteins:  4334\n",
      "\n",
      "      Protein        ENSG       UniProt       Source        Score   disease_id  \n",
      "0       LRRK2  ENSG00000188906  Q5S007  uniprot_swissprot  0.881  MONDO_0005180\n",
      "1        PRKN  ENSG00000185345  O60260  uniprot_swissprot  0.858  MONDO_0005180\n",
      "2     ATP13A2  ENSG00000159363  Q9NQ11  uniprot_swissprot  0.850  MONDO_0005180\n",
      "3       PINK1  ENSG00000158828  Q9BXM7  uniprot_swissprot  0.847  MONDO_0005180\n",
      "4        SNCA  ENSG00000145335  P37840  uniprot_swissprot  0.841  MONDO_0005180\n",
      "...       ...              ...     ...                ...    ...            ...\n",
      "4329    KCNE4  ENSG00000152049  Q8WWG9  uniprot_swissprot  0.001  MONDO_0005180\n",
      "4330  ANKRD37  ENSG00000186352  Q7Z713  uniprot_swissprot  0.001  MONDO_0005180\n",
      "4331      TUB  ENSG00000166402  P50607  uniprot_swissprot  0.001  MONDO_0005180\n",
      "4332    ITFG1  ENSG00000129636  Q8TB96  uniprot_swissprot  0.001  MONDO_0005180\n",
      "4333   ATP5PD  ENSG00000167863  O75947  uniprot_swissprot  0.001  MONDO_0005180\n",
      "\n",
      "[4334 rows x 6 columns]\n"
     ]
    },
    {
     "data": {
      "application/vnd.jupyter.widget-view+json": {
       "model_id": "1089f1ed33464837960110a2f8e8c1d8",
       "version_major": 2,
       "version_minor": 0
      },
      "text/plain": [
       "Fetching Protein-related info:   0%|          | 0/4326 [00:00<?, ?it/s]"
      ]
     },
     "metadata": {},
     "output_type": "display_data"
    },
    {
     "name": "stdout",
     "output_type": "stream",
     "text": [
      "A total of 169 drugs have been identified. Now fetching relevant data\n"
     ]
    },
    {
     "data": {
      "application/vnd.jupyter.widget-view+json": {
       "model_id": "6d9d8e85d8b949c8bcdc3568457154a8",
       "version_major": 2,
       "version_minor": 0
      },
      "text/plain": [
       "Retrieving mechanisms from ChEMBL:   0%|          | 0/169 [00:00<?, ?it/s]"
      ]
     },
     "metadata": {},
     "output_type": "display_data"
    },
    {
     "data": {
      "application/vnd.jupyter.widget-view+json": {
       "model_id": "70f2eccdae0e49b4811a0fece40156a5",
       "version_major": 2,
       "version_minor": 0
      },
      "text/plain": [
       "Retrieving bioassays from ChEMBL:   0%|          | 0/169 [00:00<?, ?it/s]"
      ]
     },
     "metadata": {},
     "output_type": "display_data"
    },
    {
     "data": {
      "application/vnd.jupyter.widget-view+json": {
       "model_id": "18e08eded57a4e52914179c7724c6049",
       "version_major": 2,
       "version_minor": 0
      },
      "text/plain": [
       "Filtering UniProt proteins from ChEMBL:   0%|          | 0/204 [00:00<?, ?it/s]"
      ]
     },
     "metadata": {},
     "output_type": "display_data"
    },
    {
     "data": {
      "application/vnd.jupyter.widget-view+json": {
       "model_id": "02634b4edf864b79abfacd05907726dd",
       "version_major": 2,
       "version_minor": 0
      },
      "text/plain": [
       "Filtering human proteins from ChEMBL:   0%|          | 0/204 [00:00<?, ?it/s]"
      ]
     },
     "metadata": {},
     "output_type": "display_data"
    },
    {
     "data": {
      "application/vnd.jupyter.widget-view+json": {
       "model_id": "5d59e08d541448e38ea588f3b65adc97",
       "version_major": 2,
       "version_minor": 0
      },
      "text/plain": [
       "Populating ChEMBL data for human proteins:   0%|          | 0/204 [00:00<?, ?it/s]"
      ]
     },
     "metadata": {},
     "output_type": "display_data"
    },
    {
     "data": {
      "application/vnd.jupyter.widget-view+json": {
       "model_id": "c8e4f17434fc4be6865c5923140c0ecb",
       "version_major": 2,
       "version_minor": 0
      },
      "text/plain": [
       "Populating Chemical-MoA edges:   0%|          | 0/122 [00:00<?, ?it/s]"
      ]
     },
     "metadata": {},
     "output_type": "display_data"
    },
    {
     "data": {
      "application/vnd.jupyter.widget-view+json": {
       "model_id": "da0b140bc84d408688135d5820ee6dd6",
       "version_major": 2,
       "version_minor": 0
      },
      "text/plain": [
       "Adding bioassay edges to BEL:   0%|          | 0/79 [00:00<?, ?it/s]"
      ]
     },
     "metadata": {},
     "output_type": "display_data"
    },
    {
     "data": {
      "application/vnd.jupyter.widget-view+json": {
       "model_id": "05523e22d3d4487384f37d371b7a0f98",
       "version_major": 2,
       "version_minor": 0
      },
      "text/plain": [
       "Retrieving Adverse Effects for each drug:   0%|          | 0/169 [00:00<?, ?it/s]"
      ]
     },
     "metadata": {},
     "output_type": "display_data"
    },
    {
     "data": {
      "application/vnd.jupyter.widget-view+json": {
       "model_id": "60a6e4ec8d074a7bb3a4e6e5bf102fb8",
       "version_major": 2,
       "version_minor": 0
      },
      "text/plain": [
       "Populating Uniprot edges:   0%|          | 0/4326 [00:00<?, ?it/s]"
      ]
     },
     "metadata": {},
     "output_type": "display_data"
    },
    {
     "data": {
      "application/vnd.jupyter.widget-view+json": {
       "model_id": "86774346f321488380f351d4d557faab",
       "version_major": 2,
       "version_minor": 0
      },
      "text/plain": [
       "Filtering Proteins/Genes:   0%|          | 0/170210 [00:00<?, ?it/s]"
      ]
     },
     "metadata": {},
     "output_type": "display_data"
    },
    {
     "name": "stdout",
     "output_type": "stream",
     "text": [
      "A total of 772 SNPs have been identified from GWAS Central. Now adding relevant data\n",
      "\n",
      "\n"
     ]
    },
    {
     "data": {
      "application/vnd.jupyter.widget-view+json": {
       "model_id": "e86ea9d05228421e9fb43e88a9dd595f",
       "version_major": 2,
       "version_minor": 0
      },
      "text/plain": [
       "Adding disease associated SNPs:   0%|          | 0/772 [00:00<?, ?it/s]"
      ]
     },
     "metadata": {},
     "output_type": "display_data"
    },
    {
     "name": "stdout",
     "output_type": "stream",
     "text": [
      "Your KG is now generated! \n",
      "\n",
      "Now let's save all the files that were created in the process. \n",
      "\n",
      "Please enter the location (e.g. 'C:\\Users\\rkarki\\Documents\\kg\\' ) where KG files should be stored. A folder will be created automatically. \n",
      "\n",
      "Input: C:\\Users\\reagon.karki\\Documents\\GitHub\\kgg\\data\\kgs\\ndd\\\n"
     ]
    },
    {
     "data": {
      "image/png": "[encoded data removed]",
      "text/plain": [
       "<Figure size 640x480 with 1 Axes>"
      ]
     },
     "metadata": {},
     "output_type": "display_data"
    }
   ],
   "source": [
    "kg = createKG()"
   ]
  },
  {
   "cell_type": "code",
   "execution_count": null,
   "id": "5394892b",
   "metadata": {},
   "outputs": [],
   "source": []
  },
  {
   "cell_type": "code",
   "execution_count": null,
   "id": "28ecfdd8",
   "metadata": {},
   "outputs": [],
   "source": []
  },
  {
   "cell_type": "code",
   "execution_count": null,
   "id": "9ea443b2",
   "metadata": {},
   "outputs": [],
   "source": []
  },
  {
   "cell_type": "code",
   "execution_count": null,
   "id": "e3d48e87",
   "metadata": {},
   "outputs": [],
   "source": [
    "kg.summarize"
   ]
  },
  {
   "cell_type": "code",
   "execution_count": null,
   "id": "1b19c277",
   "metadata": {},
   "outputs": [],
   "source": [
    "#kg.to_csv('data/kgs/test/cvd.csv')"
   ]
  },
  {
   "cell_type": "code",
   "execution_count": null,
   "id": "eeb974ef",
   "metadata": {},
   "outputs": [],
   "source": [
    "infile = open('data/kgs/ndd/ndd_angela/ndd_angela.pkl','rb')\n",
    "kg = pickle.load(infile)\n",
    "infile.close()"
   ]
  },
  {
   "cell_type": "code",
   "execution_count": null,
   "id": "8b36d40f",
   "metadata": {
    "scrolled": false
   },
   "outputs": [],
   "source": [
    "aa = kg.summarize.namespaces()"
   ]
  },
  {
   "cell_type": "code",
   "execution_count": null,
   "id": "ca035dc7",
   "metadata": {},
   "outputs": [],
   "source": [
    "pd.DataFrame([kg.count.namespaces()])"
   ]
  },
  {
   "cell_type": "code",
   "execution_count": null,
   "id": "5e794148",
   "metadata": {},
   "outputs": [],
   "source": [
    "df = dict(kg.count.namespaces())"
   ]
  },
  {
   "cell_type": "code",
   "execution_count": null,
   "id": "d5011f16",
   "metadata": {},
   "outputs": [],
   "source": [
    "df = pd.DataFrame([df]).T"
   ]
  },
  {
   "cell_type": "code",
   "execution_count": null,
   "id": "9300b348",
   "metadata": {},
   "outputs": [],
   "source": [
    "df = df.reset_index()"
   ]
  },
  {
   "cell_type": "code",
   "execution_count": null,
   "id": "4da90a92",
   "metadata": {},
   "outputs": [],
   "source": [
    "df.columns = ['Namespace','Numbers']"
   ]
  },
  {
   "cell_type": "code",
   "execution_count": null,
   "id": "1017e73f",
   "metadata": {},
   "outputs": [],
   "source": [
    "df"
   ]
  },
  {
   "cell_type": "code",
   "execution_count": null,
   "id": "a7d893ee",
   "metadata": {},
   "outputs": [],
   "source": [
    "fig = px.bar(df,x='Namespace',y='Numbers',color='Namespace')\n",
    "fig.update_layout(title_text='KG namespaces in numbers', title_x=0.5)"
   ]
  },
  {
   "cell_type": "code",
   "execution_count": null,
   "id": "5034bc00",
   "metadata": {},
   "outputs": [],
   "source": [
    "pybel.struct.summary.get_top_hubs(kg) "
   ]
  },
  {
   "cell_type": "code",
   "execution_count": null,
   "id": "e63ea488",
   "metadata": {},
   "outputs": [],
   "source": [
    "kg.number_of_nodes()"
   ]
  },
  {
   "cell_type": "code",
   "execution_count": null,
   "id": "da482af0",
   "metadata": {},
   "outputs": [],
   "source": [
    "#to_jupyter(kg)"
   ]
  },
  {
   "cell_type": "code",
   "execution_count": null,
   "id": "d4c9d143",
   "metadata": {},
   "outputs": [],
   "source": []
  },
  {
   "cell_type": "code",
   "execution_count": null,
   "id": "8c26f96b",
   "metadata": {},
   "outputs": [],
   "source": []
  },
  {
   "cell_type": "code",
   "execution_count": null,
   "id": "89eb47f8",
   "metadata": {},
   "outputs": [],
   "source": []
  },
  {
   "cell_type": "code",
   "execution_count": null,
   "id": "e586a9fc",
   "metadata": {},
   "outputs": [],
   "source": []
  },
  {
   "cell_type": "code",
   "execution_count": null,
   "id": "82791e85",
   "metadata": {},
   "outputs": [],
   "source": [
    "#prtns = pd.read_csv('data/kgs/viral_diseases/covid_test_march25/diseaseAssociatedProteins.csv')\n",
    "df = pd.read_csv('data/kgs/viral_diseases/covid_test_march25/diseaseAssociatedDrugs.csv')\n",
    "prtn = list(df['approvedSymbol'][:5])\n",
    "chem = list(df['drugId'][:5])\n",
    "query = prtn + chem"
   ]
  },
  {
   "cell_type": "code",
   "execution_count": null,
   "id": "a645304e",
   "metadata": {},
   "outputs": [],
   "source": [
    "query"
   ]
  },
  {
   "cell_type": "code",
   "execution_count": null,
   "id": "37d464af",
   "metadata": {},
   "outputs": [],
   "source": [
    "query_graph = filter_graph(kg,query)"
   ]
  },
  {
   "cell_type": "code",
   "execution_count": null,
   "id": "13afe4ed",
   "metadata": {},
   "outputs": [],
   "source": [
    "to_jupyter(query_graph)"
   ]
  },
  {
   "cell_type": "code",
   "execution_count": null,
   "id": "721ad86e",
   "metadata": {},
   "outputs": [],
   "source": []
  },
  {
   "cell_type": "code",
   "execution_count": null,
   "id": "02e393d4",
   "metadata": {},
   "outputs": [],
   "source": []
  },
  {
   "cell_type": "code",
   "execution_count": null,
   "id": "f21d02d5",
   "metadata": {},
   "outputs": [],
   "source": []
  },
  {
   "cell_type": "code",
   "execution_count": null,
   "id": "2903826c",
   "metadata": {},
   "outputs": [],
   "source": []
  },
  {
   "cell_type": "code",
   "execution_count": null,
   "id": "f449a146",
   "metadata": {},
   "outputs": [],
   "source": []
  },
  {
   "cell_type": "code",
   "execution_count": null,
   "id": "27701773",
   "metadata": {},
   "outputs": [],
   "source": []
  },
  {
   "cell_type": "code",
   "execution_count": null,
   "id": "c95195de",
   "metadata": {},
   "outputs": [],
   "source": []
  },
  {
   "cell_type": "code",
   "execution_count": null,
   "id": "81ef85b7",
   "metadata": {},
   "outputs": [],
   "source": [
    "KG_namespace_plot(kg,'ad')"
   ]
  },
  {
   "cell_type": "code",
   "execution_count": null,
   "id": "f3a51158",
   "metadata": {},
   "outputs": [],
   "source": [
    "test = pd.read_csv('data/kgs/test/t2dm.csv')\n",
    "test.head(5)\n",
    "test = list(set(list(test['UniProt'])))\n",
    "len(test)"
   ]
  },
  {
   "cell_type": "code",
   "execution_count": null,
   "id": "f7b078b0",
   "metadata": {},
   "outputs": [],
   "source": [
    "def ExtractFromUniProt(uniprot_id) -> dict:\n",
    "    \"\"\"Uniprot parser to retrieve information about OMIM disease, reactome pathway, biological process,\n",
    "     and molecular functions.\n",
    "\n",
    "    :param uniprot_id:\n",
    "    :return:\n",
    "    \"\"\"\n",
    "    Uniprot_Dict = []\n",
    "\n",
    "    mapped_uprot = []\n",
    "\n",
    "    for id in tqdm(uniprot_id, desc='Fetching Protein-related info'):\n",
    "        \n",
    "        print(id)\n",
    "\n",
    "        # Retrieve data for id in text format if found in uniprot\n",
    "        ret_uprot = requests.get(\n",
    "            'https://www.uniprot.org/uniprot/' + id + '.txt'\n",
    "        ).text.split('\\n')\n",
    "        \n",
    "        #return(ret_uprot)\n",
    "\n",
    "        if ret_uprot == ['']:\n",
    "            continue\n",
    "\n",
    "        id_copy = id\n",
    "        mapped_uprot.append(id_copy)\n",
    "        i = 0\n",
    "        j = 0\n",
    "        k = 0\n",
    "        id = {}\n",
    "        id['Disease'] = {}\n",
    "        id['Reactome'] = {}\n",
    "        id['Function'] = {}\n",
    "        id['BioProcess'] = {}\n",
    "        id['Gene'] = {}\n",
    "\n",
    "        # parse each line looking for info about disease, pathway, funcn, bp and so on\n",
    "        for line in ret_uprot:\n",
    "            # parse lines with disease and extract disease names and omim ids\n",
    "            if '-!- DISEASE:' in line:\n",
    "                if ('[MIM:' in line):\n",
    "                    dis = line.split(':')\n",
    "                    id['Disease'].update({dis[1][1:-5]: dis[2][:-1]})\n",
    "\n",
    "            # extract reactome ids and names\n",
    "            if 'Reactome;' in line:\n",
    "                ract = line.split(';')\n",
    "                id['Reactome'].update({ract[2][1:-2]: ract[1][1:]})\n",
    "\n",
    "            # look for functions\n",
    "            if ' F:' in line:\n",
    "                if j < 5:\n",
    "                    fn = line.split(';')\n",
    "                    id['Function'].update({fn[2][3:]: fn[1][1:]})\n",
    "                    j += 1\n",
    "\n",
    "            # look for biological processes\n",
    "            if ' P:' in line and 'GO;' in line:\n",
    "                if i < 5:\n",
    "                    bp = line.split(';')\n",
    "                    # bp returns list with GO ids and names\n",
    "                    id['BioProcess'].update({bp[2][3:]: bp[1][1:]})\n",
    "                    i += 1\n",
    "\n",
    "            if 'GN   Name' in line:\n",
    "                if k == 0:\n",
    "                    gene = line.split('=')\n",
    "                    gene = gene[1].split(' ')\n",
    "                    if ';' in gene[0]:\n",
    "                        gene = gene[0].split(';')\n",
    "                        gene = {'Gene': gene[0]}\n",
    "                    else:\n",
    "                        gene = {'Gene': gene[0]}\n",
    "                    id.update(gene)\n",
    "                    k += 1\n",
    "\n",
    "        Uniprot_Dict.append(id)\n",
    "\n",
    "    Uniprot_Dict = dict(zip(mapped_uprot, Uniprot_Dict))\n",
    "\n",
    "    return Uniprot_Dict"
   ]
  },
  {
   "cell_type": "code",
   "execution_count": null,
   "id": "68bce560",
   "metadata": {},
   "outputs": [],
   "source": [
    "xx = ExtractFromUniProt(test[4790:4800])"
   ]
  },
  {
   "cell_type": "code",
   "execution_count": null,
   "id": "703cc6c0",
   "metadata": {},
   "outputs": [],
   "source": [
    "xx"
   ]
  },
  {
   "cell_type": "code",
   "execution_count": null,
   "id": "6c2cb501",
   "metadata": {},
   "outputs": [],
   "source": []
  },
  {
   "cell_type": "code",
   "execution_count": null,
   "id": "52ef209d",
   "metadata": {},
   "outputs": [],
   "source": []
  },
  {
   "cell_type": "code",
   "execution_count": null,
   "id": "7e25f815",
   "metadata": {},
   "outputs": [],
   "source": []
  },
  {
   "cell_type": "code",
   "execution_count": null,
   "id": "a0c8c008",
   "metadata": {},
   "outputs": [],
   "source": []
  },
  {
   "cell_type": "code",
   "execution_count": null,
   "id": "2651ef06",
   "metadata": {},
   "outputs": [],
   "source": []
  },
  {
   "cell_type": "markdown",
   "id": "8b7ff7e7",
   "metadata": {},
   "source": [
    "# Additional stuff"
   ]
  },
  {
   "cell_type": "code",
   "execution_count": null,
   "id": "04d8905e",
   "metadata": {},
   "outputs": [],
   "source": [
    "infile= open('data/kgs/ndd/ad/ad.pkl','rb')\n",
    "graph= pickle.load(infile)\n",
    "infile.close()"
   ]
  },
  {
   "cell_type": "code",
   "execution_count": null,
   "id": "e38ef4f0",
   "metadata": {},
   "outputs": [],
   "source": [
    "graph.summarize"
   ]
  },
  {
   "cell_type": "code",
   "execution_count": null,
   "id": "15f3a2ec",
   "metadata": {},
   "outputs": [],
   "source": [
    "prot = pd.read_csv('data/kgs/ndd/ad/diseaseAssociatedProteins.csv')\n",
    "prot = list(prot['Protein'])\n",
    "prot = prot[1:6]\n",
    "\n",
    "chem = pd.read_csv('data/kgs/ndd/ad/diseaseAssociatedDrugs.csv')\n",
    "chem = list(chem['drugId'])\n",
    "chem = chem[1:6]\n",
    "\n",
    "prot_chem = prot + chem"
   ]
  },
  {
   "cell_type": "code",
   "execution_count": null,
   "id": "3fd3155a",
   "metadata": {},
   "outputs": [],
   "source": [
    "prot_chem"
   ]
  },
  {
   "cell_type": "code",
   "execution_count": null,
   "id": "1ffa6482",
   "metadata": {},
   "outputs": [],
   "source": [
    "query_graph = filter_graph(graph,prot_chem)"
   ]
  },
  {
   "cell_type": "code",
   "execution_count": null,
   "id": "32c30f69",
   "metadata": {
    "scrolled": false
   },
   "outputs": [],
   "source": [
    "to_jupyter(query_graph)"
   ]
  },
  {
   "cell_type": "code",
   "execution_count": null,
   "id": "df642fa9",
   "metadata": {},
   "outputs": [],
   "source": [
    "prtn_attr = nx.get_node_attributes(graph,'UniProt')\n",
    "bionote_attr = nx.get_node_attributes(graph,'3Dbio')\n",
    "\n",
    "for node in graph.nodes():\n",
    "    unique_node = []\n",
    "    \n",
    "    if node.name in prot:\n",
    "        if node not in unique_node:\n",
    "            \n",
    "            unique_node.append(node)\n",
    "            print(node.name)\n",
    "       \n",
    "            if isinstance(node,pybel.dsl.Abundance):\n",
    "                print(chem_attr[node])\n",
    "                \n",
    "            if isinstance(node,pybel.dsl.Protein):\n",
    "                print(prtn_attr[node])\n",
    "                \n",
    "            if isinstance(node,pybel.dsl.Protein):\n",
    "                print(bionote_attr[node])"
   ]
  },
  {
   "cell_type": "code",
   "execution_count": null,
   "id": "117ac294",
   "metadata": {},
   "outputs": [],
   "source": [
    "17*40000000*20000000"
   ]
  },
  {
   "cell_type": "code",
   "execution_count": null,
   "id": "18245ceb",
   "metadata": {},
   "outputs": [],
   "source": [
    "13600000000000000/105004"
   ]
  },
  {
   "cell_type": "code",
   "execution_count": null,
   "id": "8cb0467e",
   "metadata": {},
   "outputs": [],
   "source": [
    "129518875471/20509"
   ]
  },
  {
   "cell_type": "code",
   "execution_count": null,
   "id": "16cc64af",
   "metadata": {},
   "outputs": [],
   "source": [
    "def GetDiseaseAssociatedDrugs(disease_id,CT_phase):\n",
    "\n",
    "    efo_id = disease_id\n",
    "    size = getDrugCount(efo_id)\n",
    "\n",
    "    query_string = \"\"\"\n",
    "        query associatedTargets($my_efo_id: String!, $my_size: Int){\n",
    "          disease(efoId: $my_efo_id){\n",
    "            id\n",
    "            name\n",
    "            knownDrugs(size:$my_size){\n",
    "                uniqueTargets\n",
    "                uniqueDrugs\n",
    "                count\n",
    "                rows{\n",
    "                    approvedSymbol\n",
    "                    approvedName\n",
    "                    prefName\n",
    "                    drugType\n",
    "                    drugId\n",
    "                    phase\n",
    "                    ctIds\n",
    "                }\n",
    "\n",
    "            }\n",
    "          }\n",
    "        }\n",
    "\n",
    "    \"\"\"\n",
    "\n",
    "    #replace $efo_id with value from efo_id\n",
    "    #query_string = query_string.replace(\"$efo_id\",f'\"{efo_id}\"')\n",
    "    #query_string = query_string.replace(\"$efo_id\",f'\"{efo_id}\"')\n",
    "\n",
    "    # Set variables object of arguments to be passed to endpoint\n",
    "    variables = {\"my_efo_id\": efo_id, \"my_size\": size}\n",
    "\n",
    "    # Set base URL of GraphQL API endpoint\n",
    "    base_url = \"https://api.platform.opentargets.org/api/v4/graphql\"\n",
    "\n",
    "    # Perform POST request and check status code of response\n",
    "    r = requests.post(base_url, json={\"query\": query_string, \"variables\": variables})\n",
    "    #r = requests.post(base_url, json={\"query\": query_string})\n",
    "    #print(r.status_code)\n",
    "\n",
    "    # Transform API response from JSON into Python dictionary and print in console\n",
    "    api_response = json.loads(r.text)\n",
    "    return(api_response)\n",
    "    \n",
    "    if api_response['data']['disease']['knownDrugs']['uniqueTargets'] == 0:\n",
    "        \n",
    "        print('No drugs found in clinical trials for ' + str(api_response['data']['disease']['name']))\n",
    "        \n",
    "    else:\n",
    "    \n",
    "        df = pd.DataFrame(api_response['data']['disease']['knownDrugs']['rows'])\n",
    "        df = df.loc[df['phase'] >= int(CT_phase),:]\n",
    "\n",
    "        if not df.empty:\n",
    "            df['id'] = efo_id\n",
    "            df['disease'] = api_response['data']['disease']['name']\n",
    "            #print('Your dataframe is ready')\n",
    "            return(df)\n",
    "    \n",
    "#     else:\n",
    "#         print('No drugs found in clinical trials')\n",
    "    "
   ]
  },
  {
   "cell_type": "code",
   "execution_count": null,
   "id": "3d983db4",
   "metadata": {},
   "outputs": [],
   "source": [
    "tt = GetDiseaseAssociatedDrugs('MONDO_0008903',1)"
   ]
  },
  {
   "cell_type": "code",
   "execution_count": null,
   "id": "29ae63e9",
   "metadata": {},
   "outputs": [],
   "source": [
    "tt"
   ]
  },
  {
   "cell_type": "code",
   "execution_count": null,
   "id": "853c2b4c",
   "metadata": {},
   "outputs": [],
   "source": [
    "def GetViralProteins(query_disease):\n",
    "    \n",
    "    # file downloaded from https://www.genome.jp/ftp/db/virushostdb Dated: 12/09/2023\n",
    "    virus = pd.read_csv('https://raw.githubusercontent.com/Fraunhofer-ITMP/kgg/main/data/virushostdb.csv')\n",
    "    \n",
    "    cols = ['virus tax id','virus name','DISEASE','host tax id']\n",
    "    virus = virus[cols]\n",
    "    \n",
    "    #print(virus)\n",
    "\n",
    "    #filter virus with host humans \n",
    "    virus = virus.loc[virus['host tax id'] == 9606.0,:]\n",
    "    virus = virus.reset_index(drop=True)\n",
    "    \n",
    "    #replace 9606.0 to 9606\n",
    "    virus[\"host tax id\"] = pd.to_numeric(virus[\"host tax id\"], downcast='integer')\n",
    "    \n",
    "    #get the initial keyword for disease search\n",
    "    #disease = GetQuery()\n",
    "    \n",
    "    #subset df with disease keyword\n",
    "    virus_subset_1 = virus[virus['DISEASE'].str.contains(query_disease,na=False,case=False)]\n",
    "    \n",
    "    if not virus_subset_1.empty:\n",
    "\n",
    "        #print(disease)\n",
    "        print('\\n')\n",
    "        print('The workflow has identified your query as a viral disease. Its proteins (SWISS-Prot) will be now represented in the KG.','\\n')\n",
    "\n",
    "        time.sleep(0.1)\n",
    "\n",
    "        virus_name = input('Do you want to look further for a specific virus? Please type its name or skip it by typing \\'no\\': ')\n",
    "\n",
    "        #subset df with virus name\n",
    "        if virus_name.lower() != 'no':\n",
    "\n",
    "            virus_subset_2 = virus[virus['virus name'].str.contains(virus_name,na=False,case=False)]\n",
    "            #print(virus_subset_2)\n",
    "            #break\n",
    "        else:\n",
    "            virus_subset_2 = pd.DataFrame()\n",
    "\n",
    "        #merge subsets of df_1 and df_2\n",
    "        virus_subset_merge = pd.concat([virus_subset_1,virus_subset_2])\n",
    "\n",
    "        virus_subset_merge = virus_subset_merge.drop_duplicates(keep='first')\n",
    "\n",
    "        virus_subset_merge = virus_subset_merge.reset_index(drop=True)\n",
    "\n",
    "        virus_subset_merge['index'] = virus_subset_merge.index\n",
    "\n",
    "        virus_subset_merge.style.hide(axis='index')  \n",
    "\n",
    "        virus_subset_merge = virus_subset_merge[['index','virus tax id','virus name','DISEASE','host tax id']]\n",
    "        display(HTML(virus_subset_merge.to_html(index=False)))\n",
    "        \n",
    "\n",
    "        time.sleep(0.1)\n",
    "        temp_id = input('Enter the index value(s). If multiple, use space, for example -> 0 1 3: ')\n",
    "\n",
    "        print('\\n')\n",
    "\n",
    "        temp_id = temp_id.split(' ')\n",
    "        temp_id = [int(x) for x in temp_id]\n",
    "        #print(virus_subset_merge.loc[0]['virus tax id'])\n",
    "\n",
    "        uprot_list = []\n",
    "\n",
    "        for item in temp_id:\n",
    "\n",
    "            tax_id = virus_subset_merge.loc[item]['virus tax id']\n",
    "            #print(tax_id)\n",
    "\n",
    "            #fetch tax id related proteins from Uniprot\n",
    "            #the link can be created from downloads option in uniprot\n",
    "            query_string = 'https://rest.uniprot.org/uniprotkb/stream?fields=accession%2Creviewed%2Cid%2Cgene_names%2Corganism_name%2Clength%2Cgene_primary%2Cprotein_name&format=tsv&query=%28%28taxonomy_id%3A'+str(tax_id)+'%29+AND+%28reviewed%3Atrue%29%29'\n",
    "\n",
    "            #query_string = 'https://rest.uniprot.org/uniprotkb/stream?fields=accession%2Creviewed%2Cid%2Cgene_names%2Corganism_name%2Clength%2Cgene_primary%2Cprotein_name&format=tsv&query=%28%28taxonomy_id%3A11676%29%29+AND+%28reviewed%3Atrue%29'\n",
    "\n",
    "            query_uniprot = requests.get(query_string)\n",
    "            query_uniprot = query_uniprot.text.split('\\n')\n",
    "\n",
    "            query_uniprot_df = pd.DataFrame([x.strip().split('\\t') for x in query_uniprot])\n",
    "            cols = query_uniprot_df.iloc[0]\n",
    "            #print(cols)\n",
    "            query_uniprot_df = query_uniprot_df[1:len(query_uniprot_df)-1]\n",
    "            query_uniprot_df.columns = cols\n",
    "            temp = list(query_uniprot_df['Entry'])\n",
    "            #print(len(temp))\n",
    "            uprot_list.append(temp)\n",
    "\n",
    "        uprot_list = [item for sublist in uprot_list for item in sublist]\n",
    "        \n",
    "        print('A total of',str(len(uprot_list)), 'viral proteins have been identified.','\\n')\n",
    "        \n",
    "        return(uprot_list)"
   ]
  },
  {
   "cell_type": "code",
   "execution_count": null,
   "id": "111e542e",
   "metadata": {},
   "outputs": [],
   "source": [
    "test = GetViralProteins('influenza')"
   ]
  },
  {
   "cell_type": "code",
   "execution_count": null,
   "id": "4af4d264",
   "metadata": {},
   "outputs": [],
   "source": [
    "def GetDiseaseSNPs(disease_id): \n",
    "    \n",
    "    import requests\n",
    "    \n",
    "    doid = disease_id.split(\"_\")\n",
    "    #print(doid)\n",
    "    \n",
    "    #For this example we are going to use the python default http library\n",
    "    \n",
    "\n",
    "    #Build a dict with the following format, change the value of the two keys your DisGeNET account credentials, if you don't have an account you can create one here https://www.disgenet.org/signup/ \n",
    "    auth_params = {\"email\":\"reagonkarki@gmail.com\",\"password\":\"Bhunti.87\"}\n",
    "\n",
    "    api_host = \"https://www.disgenet.org/api\"\n",
    "\n",
    "    api_key = 'e25cb13382cb9b016247822c49f325f75991e607'\n",
    "    s = requests.Session()\n",
    "\n",
    "    if api_key:\n",
    "        #Add the api key to the requests headers of the requests Session object in order to use the restricted endpoints.\n",
    "        s.headers.update({\"Authorization\": \"Bearer %s\" % api_key}) \n",
    "        #Lets get all the diseases associated to a gene eg. APP (EntrezID 351) and restricted by a source.\n",
    "\n",
    "        #https://www.disgenet.org/api/vda/disease/D000544\n",
    "    \n",
    "        gda_response = s.get(api_host+'/vda/disease/'+str(doid[0]).lower()+ \"/\" +str(doid[1]) +'?format=json')\n",
    "        #gda_response = s.get(api_host+'/gda/gene/351', params={'source':'UNIPROT'})\n",
    "\n",
    "        if gda_response:\n",
    "        \n",
    "            gda_response = gda_response.json()\n",
    "            gda_response = pd.DataFrame(gda_response)\n",
    "            gda_response['disease_id'] = disease_id\n",
    "            return(gda_response)\n",
    "\n",
    "    if s:\n",
    "        s.close()"
   ]
  },
  {
   "cell_type": "code",
   "execution_count": null,
   "id": "6006e37a",
   "metadata": {},
   "outputs": [],
   "source": [
    "xx = GetDiseaseSNPs('MONDO_0005148')"
   ]
  },
  {
   "cell_type": "code",
   "execution_count": null,
   "id": "0b781957",
   "metadata": {},
   "outputs": [],
   "source": [
    "https://www.disgenet.org/api/vda/disease/MONDO0005148/"
   ]
  },
  {
   "cell_type": "code",
   "execution_count": null,
   "id": "667d97ab",
   "metadata": {},
   "outputs": [],
   "source": [
    "x = list(range(1,10))"
   ]
  },
  {
   "cell_type": "code",
   "execution_count": null,
   "id": "338da8cc",
   "metadata": {},
   "outputs": [],
   "source": [
    "x"
   ]
  },
  {
   "cell_type": "code",
   "execution_count": null,
   "id": "c0d2bc85",
   "metadata": {},
   "outputs": [],
   "source": [
    "y = [3,5]"
   ]
  },
  {
   "cell_type": "code",
   "execution_count": null,
   "id": "e27819ca",
   "metadata": {},
   "outputs": [],
   "source": [
    "z = [i for i in x if i not in y]"
   ]
  },
  {
   "cell_type": "code",
   "execution_count": null,
   "id": "8afa7039",
   "metadata": {},
   "outputs": [],
   "source": [
    "y"
   ]
  },
  {
   "cell_type": "code",
   "execution_count": null,
   "id": "049fe1d4",
   "metadata": {},
   "outputs": [],
   "source": [
    "for item in y:\n",
    "    x.remove(item)"
   ]
  },
  {
   "cell_type": "code",
   "execution_count": null,
   "id": "66b87fbc",
   "metadata": {},
   "outputs": [],
   "source": [
    "x"
   ]
  },
  {
   "cell_type": "code",
   "execution_count": null,
   "id": "7372723d",
   "metadata": {},
   "outputs": [],
   "source": [
    "x.pop(1)"
   ]
  },
  {
   "cell_type": "code",
   "execution_count": null,
   "id": "6f87ab87",
   "metadata": {},
   "outputs": [],
   "source": [
    "x"
   ]
  },
  {
   "cell_type": "code",
   "execution_count": null,
   "id": "34c9384e",
   "metadata": {},
   "outputs": [],
   "source": [
    "data = pd.read_csv('https://gist.githubusercontent.com/ZeccaLehn/4e06d2575eb9589dbe8c365d61cb056c/raw/64f1660f38ef523b2a1a13be77b002b98665cdfe/mtcars.csv')"
   ]
  },
  {
   "cell_type": "code",
   "execution_count": null,
   "id": "40aa4d9c",
   "metadata": {},
   "outputs": [],
   "source": [
    "data"
   ]
  },
  {
   "cell_type": "code",
   "execution_count": null,
   "id": "6556bc06",
   "metadata": {},
   "outputs": [],
   "source": [
    "data.rename(columns={'Unnamed: 0':'brand'}, inplace=True)"
   ]
  },
  {
   "cell_type": "code",
   "execution_count": null,
   "id": "7c44b170",
   "metadata": {},
   "outputs": [],
   "source": [
    "fig, ax = plt.subplots()\n",
    "ax.hist(data['cyl'])\n",
    "ax.set_title('Distribution of proteins based on OpenTargets score')\n",
    "ax.set_xlabel('Score')\n",
    "ax.set_ylabel('No. of proteins')\n",
    "\n",
    "fig.tight_layout()\n",
    "plt.show()"
   ]
  },
  {
   "cell_type": "code",
   "execution_count": null,
   "id": "640e10bd",
   "metadata": {},
   "outputs": [],
   "source": [
    "x = max(data['mpg'])\n",
    "x"
   ]
  },
  {
   "cell_type": "code",
   "execution_count": null,
   "id": "227fa69c",
   "metadata": {},
   "outputs": [],
   "source": [
    "data = data.loc[data['mpg'] >= float(21.5),:]"
   ]
  },
  {
   "cell_type": "code",
   "execution_count": null,
   "id": "1c56d8d0",
   "metadata": {},
   "outputs": [],
   "source": [
    "data"
   ]
  },
  {
   "cell_type": "code",
   "execution_count": null,
   "id": "eb0ac08f",
   "metadata": {},
   "outputs": [],
   "source": [
    "# creating the bar plot\n",
    "fig = plt.figure(figsize = (10, 5))\n",
    "plt.bar(data['brand'], data['hp'], color ='blue', width = 0.2)"
   ]
  },
  {
   "cell_type": "code",
   "execution_count": null,
   "id": "6910ee6f",
   "metadata": {},
   "outputs": [],
   "source": [
    "def ExtractFromUniProt(uniprot_id) -> dict:\n",
    "    \"\"\"Uniprot parser to retrieve information about OMIM disease, reactome pathway, biological process,\n",
    "     and molecular functions.\n",
    "\n",
    "    :param uniprot_id:\n",
    "    :return:\n",
    "    \"\"\"\n",
    "    Uniprot_Dict = []\n",
    "\n",
    "    mapped_uprot = []\n",
    "\n",
    "    for id in tqdm(uniprot_id, desc='Fetching Protein-related info'):\n",
    "\n",
    "        # Retrieve data for id in text format if found in uniprot\n",
    "        ret_uprot = requests.get(\n",
    "            'https://www.uniprot.org/uniprot/' + id + '.txt'\n",
    "        ).text.split('\\n')\n",
    "        \n",
    "        #return(ret_uprot)\n",
    "\n",
    "        if ret_uprot == ['']:\n",
    "            continue\n",
    "\n",
    "        id_copy = id\n",
    "        mapped_uprot.append(id_copy)\n",
    "        \n",
    "        #counters for bf and bp\n",
    "        #i = 0\n",
    "        #j = 0\n",
    "        k = 0\n",
    "        id = {}\n",
    "        id['PDB'] = {}\n",
    "        id['Gene'] = {}\n",
    "        temp = []\n",
    "        #id['Reactome'] = {}\n",
    "\n",
    "\n",
    "        # parse each line looking for info about disease, pathway, funcn, bp and so on\n",
    "        for line in ret_uprot:\n",
    "            #temp = []\n",
    "            \n",
    "            \n",
    "        \n",
    "            if 'GN   Name' in line:\n",
    "                if k == 0:\n",
    "                    gene = line.split('=')\n",
    "                    gene = gene[1].split(' ')\n",
    "                    if ';' in gene[0]:\n",
    "                        gene = gene[0].split(';')\n",
    "                        gene = {'Gene': gene[0]}\n",
    "                    else:\n",
    "                        gene = {'Gene': gene[0]}\n",
    "                    id.update(gene)\n",
    "                    k += 1\n",
    "                    \n",
    "            if 'PDB;' in line:\n",
    "                \n",
    "                #print(line)\n",
    "                pdb = line.split(';')\n",
    "                #print(pdb)\n",
    "                pdb = pdb[1][1:]\n",
    "                #print(pdb)\n",
    "                temp.append(pdb)\n",
    "                #id['PDB'].update({pdb:pdb})\n",
    "        #print(temp)\n",
    "        id['PDB'] = temp\n",
    "               #print(id)\n",
    "                #return(pdb)\n",
    "                \n",
    "        #return(temp)\n",
    "\n",
    "#             if 'GN   Name' in line:\n",
    "#                 if k == 0:\n",
    "#                     gene = line.split('=')\n",
    "#                     gene = gene[1].split(' ')\n",
    "#                     if ';' in gene[0]:\n",
    "#                         gene = gene[0].split(';')\n",
    "#                         gene = {'Gene': gene[0]}\n",
    "#                     else:\n",
    "#                         gene = {'Gene': gene[0]}\n",
    "#                     id.update(gene)\n",
    "#                     k += 1\n",
    "\n",
    "\n",
    "            # extract reactome ids and names\n",
    "#             if 'Reactome;' in line:\n",
    "#                 ract = line.split(';')\n",
    "#                 id['Reactome'].update({ract[2][1:-2]: ract[1][1:]})\n",
    "\n",
    "\n",
    "        Uniprot_Dict.append(id)\n",
    "\n",
    "    Uniprot_Dict = dict(zip(mapped_uprot, Uniprot_Dict))\n",
    "\n",
    "    return Uniprot_Dict"
   ]
  },
  {
   "cell_type": "code",
   "execution_count": null,
   "id": "9b1262fa",
   "metadata": {},
   "outputs": [],
   "source": [
    "uprot = pd.read_csv('data/kgs/ndd/ndd_angela/diseaseAssociatedProteins.csv')"
   ]
  },
  {
   "cell_type": "code",
   "execution_count": null,
   "id": "4f5184b0",
   "metadata": {},
   "outputs": [],
   "source": [
    "uprot.head(5)"
   ]
  },
  {
   "cell_type": "code",
   "execution_count": null,
   "id": "64d6654c",
   "metadata": {},
   "outputs": [],
   "source": [
    "xx = ExtractFromUniProt(list(uprot['UniProt']))"
   ]
  },
  {
   "cell_type": "code",
   "execution_count": null,
   "id": "c00a95be",
   "metadata": {},
   "outputs": [],
   "source": [
    "xx"
   ]
  },
  {
   "cell_type": "code",
   "execution_count": null,
   "id": "f318e37c",
   "metadata": {},
   "outputs": [],
   "source": [
    "# filename = ('data/kgs/ndd/ndd_angela/pdb.pkl')\n",
    "# outfile = open(filename,'wb')\n",
    "# pickle.dump(xx,outfile)"
   ]
  },
  {
   "cell_type": "code",
   "execution_count": null,
   "id": "16ff1382",
   "metadata": {},
   "outputs": [],
   "source": [
    "infile = open('data/kgs/ndd/ndd_angela/pdb.pkl','rb')\n",
    "xx = pickle.load(infile)\n",
    "infile.close()"
   ]
  },
  {
   "cell_type": "code",
   "execution_count": null,
   "id": "ffd41753",
   "metadata": {},
   "outputs": [],
   "source": [
    "xx"
   ]
  },
  {
   "cell_type": "code",
   "execution_count": null,
   "id": "8e6c0628",
   "metadata": {},
   "outputs": [],
   "source": [
    "test = pd.DataFrame(xx)"
   ]
  },
  {
   "cell_type": "code",
   "execution_count": null,
   "id": "eb4e3070",
   "metadata": {},
   "outputs": [],
   "source": [
    "test"
   ]
  },
  {
   "cell_type": "code",
   "execution_count": null,
   "id": "cc914f48",
   "metadata": {},
   "outputs": [],
   "source": [
    "test.to_csv('data/kgs/ndd/ndd_angela/pdb_2176_prots.csv')"
   ]
  },
  {
   "cell_type": "code",
   "execution_count": null,
   "id": "545a3540",
   "metadata": {},
   "outputs": [],
   "source": [
    "test = pd.read_csv('data/kgs/ndd/ndd_angela/pdb_2176_prots.csv',header=None)"
   ]
  },
  {
   "cell_type": "code",
   "execution_count": null,
   "id": "31cabf78",
   "metadata": {},
   "outputs": [],
   "source": [
    "test"
   ]
  },
  {
   "cell_type": "code",
   "execution_count": null,
   "id": "37fd08f3",
   "metadata": {},
   "outputs": [],
   "source": [
    "test =test.transpose()"
   ]
  },
  {
   "cell_type": "code",
   "execution_count": null,
   "id": "217a81f3",
   "metadata": {},
   "outputs": [],
   "source": [
    "cols = ['UniProt','PDB_ids','Protein']"
   ]
  },
  {
   "cell_type": "code",
   "execution_count": null,
   "id": "4c0a281e",
   "metadata": {},
   "outputs": [],
   "source": [
    "test.columns=cols"
   ]
  },
  {
   "cell_type": "code",
   "execution_count": null,
   "id": "5732918c",
   "metadata": {},
   "outputs": [],
   "source": [
    "test.to_csv('data/kgs/ndd/ndd_angela/pdb_2176_prots.csv',index=False)"
   ]
  },
  {
   "cell_type": "code",
   "execution_count": null,
   "id": "85f13e48",
   "metadata": {},
   "outputs": [],
   "source": [
    "f = open(\"data/kgs/ndd/ndd_angela/P33897.txt\", \"r\")"
   ]
  },
  {
   "cell_type": "code",
   "execution_count": null,
   "id": "448548d7",
   "metadata": {},
   "outputs": [],
   "source": [
    "for line in f:\n",
    "    print(line)\n",
    "    "
   ]
  },
  {
   "cell_type": "code",
   "execution_count": null,
   "id": "a2ec0d0a",
   "metadata": {},
   "outputs": [],
   "source": [
    "f = open(\"data/kgs/ndd/ndd_angela/P33897.txt\", \"r\")\n",
    "for line in f:\n",
    "    print(line) \n",
    "    x = line\n",
    "    #break"
   ]
  },
  {
   "cell_type": "code",
   "execution_count": null,
   "id": "d37f618d",
   "metadata": {},
   "outputs": [],
   "source": [
    "x"
   ]
  },
  {
   "cell_type": "code",
   "execution_count": null,
   "id": "eb463636",
   "metadata": {},
   "outputs": [],
   "source": [
    "import animation\n",
    "import time\n",
    "\n",
    "@animation.simple_wait\n",
    "def long_running_function():\n",
    "    #... 5 seconds later ...\n",
    "    return"
   ]
  },
  {
   "cell_type": "code",
   "execution_count": null,
   "id": "37498ac2",
   "metadata": {},
   "outputs": [],
   "source": [
    "long_running_function()"
   ]
  },
  {
   "cell_type": "code",
   "execution_count": null,
   "id": "14e57c01",
   "metadata": {},
   "outputs": [],
   "source": [
    "import animation\n",
    "import time\n",
    "\n",
    "@animation.wait('bar')\n",
    "def long_running_function():\n",
    "    #... 5 seconds later ...\n",
    "    return\n",
    "long_running_function()\n",
    "\n",
    "@animation.wait('spinner')\n",
    "def long_running_function():\n",
    "    #... 5 seconds later ...\n",
    "    return"
   ]
  },
  {
   "cell_type": "code",
   "execution_count": null,
   "id": "30d47e42",
   "metadata": {},
   "outputs": [],
   "source": [
    "long_running_function()"
   ]
  },
  {
   "cell_type": "code",
   "execution_count": null,
   "id": "50dc3bd7",
   "metadata": {},
   "outputs": [],
   "source": [
    "#\n",
    "chembl2act = RetAct(['CHEMBL125','CHEMBL25'])"
   ]
  },
  {
   "cell_type": "code",
   "execution_count": null,
   "id": "26a7eaaa",
   "metadata": {},
   "outputs": [],
   "source": [
    "chembl2act"
   ]
  },
  {
   "cell_type": "code",
   "execution_count": null,
   "id": "034c40a0",
   "metadata": {},
   "outputs": [],
   "source": [
    "for chemical, chem_entries in tqdm(chembl2act.items()):\n",
    "    print(chemical)\n",
    "    print(chem_entries)\n",
    "    break"
   ]
  },
  {
   "cell_type": "code",
   "execution_count": null,
   "id": "0db81b69",
   "metadata": {},
   "outputs": [],
   "source": [
    "prtn_as_chembl = Ret_chembl_protein(chembl2act)\n",
    "prtn_as_chembl = set(prtn_as_chembl)\n",
    "prtn_as_chembl = list(prtn_as_chembl)\n",
    "chembl2uprot = chembl2uniprot(prtn_as_chembl)"
   ]
  },
  {
   "cell_type": "code",
   "execution_count": null,
   "id": "7285c6f5",
   "metadata": {},
   "outputs": [],
   "source": [
    "chembl2uprot"
   ]
  },
  {
   "cell_type": "code",
   "execution_count": null,
   "id": "93f8042c",
   "metadata": {},
   "outputs": [],
   "source": [
    "prtn_as_chembl"
   ]
  },
  {
   "cell_type": "code",
   "execution_count": null,
   "id": "6193883a",
   "metadata": {},
   "outputs": [],
   "source": [
    "for item in chembl2uprot:\n",
    "    print(chembl2uprot[item][-2])"
   ]
  },
  {
   "cell_type": "code",
   "execution_count": null,
   "id": "8584a3b9",
   "metadata": {},
   "outputs": [],
   "source": [
    "prot_list = ['Q6XQN6']"
   ]
  },
  {
   "cell_type": "code",
   "execution_count": null,
   "id": "b0ab4b0f",
   "metadata": {},
   "outputs": [],
   "source": [
    "kg = pybel.BELGraph(name='test', version=\"0.0.1\")"
   ]
  },
  {
   "cell_type": "code",
   "execution_count": null,
   "id": "47fd4477",
   "metadata": {},
   "outputs": [],
   "source": [
    "chembl2act = chembl2gene2path(chembl2uprot, chembl2act)"
   ]
  },
  {
   "cell_type": "code",
   "execution_count": null,
   "id": "ba62c363",
   "metadata": {},
   "outputs": [],
   "source": [
    "chembl2act"
   ]
  },
  {
   "cell_type": "code",
   "execution_count": null,
   "id": "84eab5c3",
   "metadata": {},
   "outputs": [],
   "source": [
    "def chem2act_rel(\n",
    "    named_ActList,\n",
    "    org,otp_prots,\n",
    "    graph: BELGraph\n",
    ") -> BELGraph:\n",
    "    \"\"\"Method to add bioassay edges to the KG.\n",
    "\n",
    "    :param named_ActList:\n",
    "    :param org:\n",
    "    :param graph:\n",
    "    :return:\n",
    "    \"\"\"\n",
    "    for chemical, chem_entries in tqdm(named_ActList.items(), desc='Adding bioassay edges to BEL'):\n",
    "        for chem_data in chem_entries:\n",
    "            if chem_data['target_chembl_id']:\n",
    "                if 'Protein' in chem_data and chem_data['Accession'] in otp_prots:\n",
    "                    graph.add_association(\n",
    "                        Abundance(namespace='ChEMBLAssay', name=chem_data['assay_chembl_id']),\n",
    "                        Protein(namespace=org, name=chem_data['Protein']),\n",
    "                        citation='ChEMBL database',\n",
    "                        evidence='ChEMBL query'\n",
    "                    )\n",
    "                # else:\n",
    "                    # graph.add_association(\n",
    "                        # Abundance(namespace='ChEMBLAssay', name=chem_data['assay_chembl_id']),\n",
    "                        # Protein(namespace=org, name=chem_data['target_chembl_id']),\n",
    "                        # citation='ChEMBL database',\n",
    "                        # evidence='ChEMBL query'\n",
    "                    # )\n",
    "\n",
    "            graph.add_association(\n",
    "                Abundance(namespace='ChEMBL', name=chemical),\n",
    "                Abundance(namespace='ChEMBLAssay', name=chem_data['assay_chembl_id']),\n",
    "                citation='ChEMBL database',\n",
    "                evidence='ChEMBL query',\n",
    "                annotation={\n",
    "                    'assayType': chem_data['assay_type'],\n",
    "                    'pChEMBL': chem_data['pchembl_value']\n",
    "                }\n",
    "            )\n",
    "\n",
    "    return graph"
   ]
  },
  {
   "cell_type": "code",
   "execution_count": null,
   "id": "352b2e9d",
   "metadata": {},
   "outputs": [],
   "source": [
    "kg = chem2act_rel(chembl2act,'HGNC',['Q6XQN6','P23219','dkslfdslkf'],kg)"
   ]
  },
  {
   "cell_type": "code",
   "execution_count": null,
   "id": "619280a8",
   "metadata": {},
   "outputs": [],
   "source": [
    "to_jupyter(kg)"
   ]
  },
  {
   "cell_type": "code",
   "execution_count": null,
   "id": "a5e76536",
   "metadata": {},
   "outputs": [],
   "source": [
    "def gene2path_rel(\n",
    "    named_chem2geneList,\n",
    "    org,otp_prots,\n",
    "    graph\n",
    ") -> BELGraph:\n",
    "    \"\"\"Method to add protein and reactome data to KG\n",
    "\n",
    "    :param named_chem2geneList:\n",
    "    :param org:\n",
    "    :param graph:\n",
    "    :return:\n",
    "    \"\"\"\n",
    "    for item in named_chem2geneList:\n",
    "        itemLen = len(named_chem2geneList[item]) - 1\n",
    "        for j in range(itemLen - 1):\n",
    "            \n",
    "            #checks if uprot id is in otp_proteins\n",
    "            if named_chem2geneList[item][itemLen - 1]['accession'] in otp_prots:\n",
    "            \n",
    "                graph.add_association(\n",
    "                    Protein(namespace=org, name=named_chem2geneList[item][itemLen]['component_synonym']),\n",
    "                    BiologicalProcess(namespace='Reactome', name=named_chem2geneList[item][j]['xref_name']),\n",
    "                    citation='ChEMBL database',\n",
    "                    evidence='ChEMBL query',\n",
    "                    annotation={\n",
    "                        'Reactome': 'https://reactome.org/content/detail/'+named_chem2geneList[item][j]['xref_id']\n",
    "                    }\n",
    "                )\n",
    "\n",
    "    return graph"
   ]
  },
  {
   "cell_type": "code",
   "execution_count": null,
   "id": "5b591530",
   "metadata": {},
   "outputs": [],
   "source": [
    "kg = gene2path_rel(chembl2uprot,'HGNC',['Q6XQN6'],kg)"
   ]
  },
  {
   "cell_type": "code",
   "execution_count": null,
   "id": "18c07785",
   "metadata": {},
   "outputs": [],
   "source": [
    "to_jupyter(kg)"
   ]
  },
  {
   "cell_type": "code",
   "execution_count": null,
   "id": "ce56fe9a",
   "metadata": {},
   "outputs": [],
   "source": [
    "named_chem2geneList = chembl2uprot\n",
    "named_chem2geneList"
   ]
  },
  {
   "cell_type": "code",
   "execution_count": null,
   "id": "2a2afd33",
   "metadata": {},
   "outputs": [],
   "source": []
  },
  {
   "cell_type": "code",
   "execution_count": null,
   "id": "057ac8c7",
   "metadata": {},
   "outputs": [],
   "source": [
    "for item in named_chem2geneList:\n",
    "    #print(named_chem2geneList[item])\n",
    "    for obj in named_chem2geneList[item]:\n",
    "        for k,v in obj.items():\n",
    "            print(k,v)"
   ]
  },
  {
   "cell_type": "code",
   "execution_count": null,
   "id": "c26aa694",
   "metadata": {},
   "outputs": [],
   "source": [
    "for k,v in named_chem2geneList.items():\n",
    "    #print(k,v)\n",
    "    for item in v:\n",
    "        #print(item.keys())\n",
    "        if 'accession' in item.keys():\n",
    "            print(item)"
   ]
  },
  {
   "cell_type": "code",
   "execution_count": null,
   "id": "aa5f9ccd",
   "metadata": {},
   "outputs": [],
   "source": [
    "named_chem2geneList"
   ]
  },
  {
   "cell_type": "code",
   "execution_count": null,
   "id": "0eed27b0",
   "metadata": {},
   "outputs": [],
   "source": [
    "for item in named_chem2geneList:\n",
    "    #print(item)\n",
    "    #print(named_chem2geneList[item])\n",
    "    itemLen = len(named_chem2geneList[item]) - 1\n",
    "    #print(itemLen)\n",
    "    for j in range(itemLen - 1):\n",
    "        #print(j)\n",
    "        #print(named_chem2geneList[item][itemLen]['component_synonym'])\n",
    "        if named_chem2geneList[item][itemLen - 1]['accession'] in otp_prots:\n",
    "\n",
    "    #         graph.add_association(\n",
    "    #             Protein(namespace=org, name=named_chem2geneList[item][itemLen]['component_synonym']),\n",
    "    #             BiologicalProcess(namespace='Reactome', name=named_chem2geneList[item][j]['xref_name']),\n",
    "    #             citation='ChEMBL database',\n",
    "    #             evidence='ChEMBL query',\n",
    "    #             annotation={\n",
    "    #                 'Reactome': 'https://reactome.org/content/detail/'+named_chem2geneList[item][j]['xref_id']\n",
    "    #             }\n",
    "    #         )"
   ]
  },
  {
   "cell_type": "code",
   "execution_count": null,
   "id": "620f0afe",
   "metadata": {},
   "outputs": [],
   "source": []
  }
 ],
 "metadata": {
  "kernelspec": {
   "display_name": "Python 3 (ipykernel)",
   "language": "python",
   "name": "python3"
  },
  "language_info": {
   "codemirror_mode": {
    "name": "ipython",
    "version": 3
   },
   "file_extension": ".py",
   "mimetype": "text/x-python",
   "name": "python",
   "nbconvert_exporter": "python",
   "pygments_lexer": "ipython3",
   "version": "3.9.18"
  }
 },
 "nbformat": 4,
 "nbformat_minor": 5
}
