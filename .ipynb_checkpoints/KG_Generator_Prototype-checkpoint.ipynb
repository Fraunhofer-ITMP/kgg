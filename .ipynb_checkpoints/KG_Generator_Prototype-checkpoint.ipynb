{
 "cells": [
  {
   "cell_type": "markdown",
   "id": "95894b68",
   "metadata": {},
   "source": [
    "# KG Generator Tool"
   ]
  },
  {
   "cell_type": "markdown",
   "id": "e6cd5418",
   "metadata": {},
   "source": [
    "## Let's get started by importing relevant libraries"
   ]
  },
  {
   "cell_type": "code",
   "execution_count": 1,
   "id": "b41fb83b",
   "metadata": {},
   "outputs": [],
   "source": [
    "import requests\n",
    "import json\n",
    "import pandas as pd\n",
    "import matplotlib.pyplot as plt\n",
    "import os\n",
    "from tqdm.auto import tqdm\n",
    "\n",
    "import pybel\n",
    "from pybel.io.jupyter import to_jupyter\n",
    "from utils import *\n",
    "from kg_gen_2 import *\n",
    "\n",
    "from IPython.display import Markdown, display"
   ]
  },
  {
   "cell_type": "markdown",
   "id": "7556a3fb",
   "metadata": {},
   "source": [
    "## Please execute following cells"
   ]
  },
  {
   "cell_type": "code",
   "execution_count": 4,
   "id": "2036d66a",
   "metadata": {
    "scrolled": false
   },
   "outputs": [
    {
     "data": {
      "image/png": "[encoded data removed]",
      "text/plain": [
       "<Figure size 432x288 with 1 Axes>"
      ]
     },
     "metadata": {
      "needs_background": "light"
     },
     "output_type": "display_data"
    },
    {
     "data": {
      "text/markdown": [
       "<span style='color:blue'>**Welcome to the KG Generator tool. In the following steps, we will need some inputs from your side.**</span>"
      ],
      "text/plain": [
       "<IPython.core.display.Markdown object>"
      ]
     },
     "metadata": {},
     "output_type": "display_data"
    },
    {
     "name": "stdout",
     "output_type": "stream",
     "text": [
      "Please enter the disease you are interested in and we will try to find the best matches for you.\n",
      "\n",
      "Input: influenza\n"
     ]
    },
    {
     "data": {
      "text/html": [
       "<table border=\"1\" class=\"dataframe\">\n",
       "  <thead>\n",
       "    <tr style=\"text-align: right;\">\n",
       "      <th>index</th>\n",
       "      <th>id</th>\n",
       "      <th>name</th>\n",
       "    </tr>\n",
       "  </thead>\n",
       "  <tbody>\n",
       "    <tr>\n",
       "      <td>0</td>\n",
       "      <td>EFO_0007328</td>\n",
       "      <td>influenza</td>\n",
       "    </tr>\n",
       "    <tr>\n",
       "      <td>1</td>\n",
       "      <td>EFO_0005226</td>\n",
       "      <td>swine influenza</td>\n",
       "    </tr>\n",
       "    <tr>\n",
       "      <td>2</td>\n",
       "      <td>EFO_1001488</td>\n",
       "      <td>influenza A (H1N1)</td>\n",
       "    </tr>\n",
       "    <tr>\n",
       "      <td>3</td>\n",
       "      <td>EFO_1000955</td>\n",
       "      <td>Haemophilus influenzae meningitis</td>\n",
       "    </tr>\n",
       "    <tr>\n",
       "      <td>4</td>\n",
       "      <td>EFO_0005222</td>\n",
       "      <td>avian influenza</td>\n",
       "    </tr>\n",
       "    <tr>\n",
       "      <td>5</td>\n",
       "      <td>MONDO_0033542</td>\n",
       "      <td>immunodeficiency 70</td>\n",
       "    </tr>\n",
       "    <tr>\n",
       "      <td>6</td>\n",
       "      <td>MONDO_0024352</td>\n",
       "      <td>viral respiratory tract infection</td>\n",
       "    </tr>\n",
       "    <tr>\n",
       "      <td>7</td>\n",
       "      <td>EFO_0007214</td>\n",
       "      <td>common cold</td>\n",
       "    </tr>\n",
       "    <tr>\n",
       "      <td>8</td>\n",
       "      <td>EFO_1001272</td>\n",
       "      <td>bacterial pneumonia</td>\n",
       "    </tr>\n",
       "    <tr>\n",
       "      <td>9</td>\n",
       "      <td>EFO_0007227</td>\n",
       "      <td>croup</td>\n",
       "    </tr>\n",
       "    <tr>\n",
       "      <td>10</td>\n",
       "      <td>EFO_0007495</td>\n",
       "      <td>St. Louis encephalitis</td>\n",
       "    </tr>\n",
       "    <tr>\n",
       "      <td>11</td>\n",
       "      <td>EFO_0002629</td>\n",
       "      <td>viral cardiomyopathy</td>\n",
       "    </tr>\n",
       "    <tr>\n",
       "      <td>12</td>\n",
       "      <td>EFO_0007184</td>\n",
       "      <td>bronchopneumonia</td>\n",
       "    </tr>\n",
       "    <tr>\n",
       "      <td>13</td>\n",
       "      <td>HP_0011705</td>\n",
       "      <td>First degree atrioventricular block</td>\n",
       "    </tr>\n",
       "    <tr>\n",
       "      <td>14</td>\n",
       "      <td>EFO_0010092</td>\n",
       "      <td>bitter alcoholic beverage consumption measurement</td>\n",
       "    </tr>\n",
       "    <tr>\n",
       "      <td>15</td>\n",
       "      <td>MONDO_0018039</td>\n",
       "      <td>selective IgM deficiency</td>\n",
       "    </tr>\n",
       "    <tr>\n",
       "      <td>16</td>\n",
       "      <td>EFO_0600088</td>\n",
       "      <td>lymphocyte:monocyte ratio</td>\n",
       "    </tr>\n",
       "    <tr>\n",
       "      <td>17</td>\n",
       "      <td>MONDO_0009933</td>\n",
       "      <td>congenital pulmonary lymphangiectasia</td>\n",
       "    </tr>\n",
       "    <tr>\n",
       "      <td>18</td>\n",
       "      <td>EFO_1001025</td>\n",
       "      <td>lymphangiectasis</td>\n",
       "    </tr>\n",
       "    <tr>\n",
       "      <td>19</td>\n",
       "      <td>Orphanet_247522</td>\n",
       "      <td>Primary ciliary dyskinesia - retinitis pigmentosa</td>\n",
       "    </tr>\n",
       "  </tbody>\n",
       "</table>"
      ],
      "text/plain": [
       "<IPython.core.display.HTML object>"
      ]
     },
     "metadata": {},
     "output_type": "display_data"
    },
    {
     "data": {
      "text/markdown": [
       "<span style='color:None'>**Here you go! Hopefully your disease of interest is in the list. If so, let's get started.**</span>"
      ],
      "text/plain": [
       "<IPython.core.display.Markdown object>"
      ]
     },
     "metadata": {},
     "output_type": "display_data"
    },
    {
     "name": "stdout",
     "output_type": "stream",
     "text": [
      "Please enter the index value of your disease of interest. Input: 0\n",
      "\n",
      "\n",
      "The workflow has identified your query as a viral disease. Its proteins (SWISS-Prot) will be now represented in the KG. \n",
      "\n",
      "Do you want to look further for a specific virus? Please type its name or skip it by typing 'no': no\n"
     ]
    },
    {
     "data": {
      "text/html": [
       "<table border=\"1\" class=\"dataframe\">\n",
       "  <thead>\n",
       "    <tr style=\"text-align: right;\">\n",
       "      <th>index</th>\n",
       "      <th>virus tax id</th>\n",
       "      <th>virus name</th>\n",
       "      <th>DISEASE</th>\n",
       "      <th>host tax id</th>\n",
       "    </tr>\n",
       "  </thead>\n",
       "  <tbody>\n",
       "    <tr>\n",
       "      <td>0</td>\n",
       "      <td>2560525</td>\n",
       "      <td>Human orthorubulavirus 2</td>\n",
       "      <td>Parainfluenza infection</td>\n",
       "      <td>9606</td>\n",
       "    </tr>\n",
       "    <tr>\n",
       "      <td>1</td>\n",
       "      <td>11224</td>\n",
       "      <td>Human parainfluenza virus 4a</td>\n",
       "      <td>Parainfluenza infection</td>\n",
       "      <td>9606</td>\n",
       "    </tr>\n",
       "    <tr>\n",
       "      <td>2</td>\n",
       "      <td>12730</td>\n",
       "      <td>Human respirovirus 1</td>\n",
       "      <td>Parainfluenza infection</td>\n",
       "      <td>9606</td>\n",
       "    </tr>\n",
       "    <tr>\n",
       "      <td>3</td>\n",
       "      <td>11216</td>\n",
       "      <td>Human respirovirus 3</td>\n",
       "      <td>Parainfluenza infection</td>\n",
       "      <td>9606</td>\n",
       "    </tr>\n",
       "    <tr>\n",
       "      <td>4</td>\n",
       "      <td>93838</td>\n",
       "      <td>Influenza A virus (A/goose/Guangdong/1/1996(H5N1))</td>\n",
       "      <td>Avian influenza; Bird flu; H5N1 flu</td>\n",
       "      <td>9606</td>\n",
       "    </tr>\n",
       "    <tr>\n",
       "      <td>5</td>\n",
       "      <td>130760</td>\n",
       "      <td>Influenza A virus (A/Hong Kong/1073/99(H9N2))</td>\n",
       "      <td>Influenza</td>\n",
       "      <td>9606</td>\n",
       "    </tr>\n",
       "    <tr>\n",
       "      <td>6</td>\n",
       "      <td>488241</td>\n",
       "      <td>Influenza A virus (A/Korea/426/1968(H2N2))</td>\n",
       "      <td>Influenza</td>\n",
       "      <td>9606</td>\n",
       "    </tr>\n",
       "    <tr>\n",
       "      <td>7</td>\n",
       "      <td>335341</td>\n",
       "      <td>Influenza A virus (A/New York/392/2004(H3N2))</td>\n",
       "      <td>Influenza</td>\n",
       "      <td>9606</td>\n",
       "    </tr>\n",
       "    <tr>\n",
       "      <td>8</td>\n",
       "      <td>211044</td>\n",
       "      <td>Influenza A virus (A/Puerto Rico/8/1934(H1N1))</td>\n",
       "      <td>Influenza</td>\n",
       "      <td>9606</td>\n",
       "    </tr>\n",
       "    <tr>\n",
       "      <td>9</td>\n",
       "      <td>1332244</td>\n",
       "      <td>Influenza A virus (A/Shanghai/02/2013(H7N9))</td>\n",
       "      <td>Avian influenza; Bird flu; H5N1 flu</td>\n",
       "      <td>9606</td>\n",
       "    </tr>\n",
       "    <tr>\n",
       "      <td>10</td>\n",
       "      <td>11553</td>\n",
       "      <td>Influenza C virus (C/Ann Arbor/1/50)</td>\n",
       "      <td>Influenza</td>\n",
       "      <td>9606</td>\n",
       "    </tr>\n",
       "  </tbody>\n",
       "</table>"
      ],
      "text/plain": [
       "<IPython.core.display.HTML object>"
      ]
     },
     "metadata": {},
     "output_type": "display_data"
    },
    {
     "name": "stdout",
     "output_type": "stream",
     "text": [
      "Enter the index value(s). If multiple, use space, for example -> 0 1 3: 5 6 7\n",
      "\n",
      "\n",
      "A total of 10 viral proteins have been identified. \n",
      "\n",
      "Please enter the clinical trial phase of chemicals which should be identified by the workflow. Use a number between 1 (early phase) and 4 (FDA approved). For example, if you use 3, the KG will fetch chemicals that are in phase 3. Also, remember that lower the input value, higher will be the number of identified chemicals and therefore the running time of workflow also increases.\n",
      "\n",
      "\n",
      "Your desired clinical trial phase: 4\n",
      "\n",
      "\n",
      "Please provide a name for you KG. Input: influenza\n",
      "\n",
      "\n",
      "We have identified 2218 proteins (Swiss-Prot) associated with the disease. Following is a histogram that shows distribution of proteins based on scores provided by OpenTargets. The scores are influenced by various factors such as genetic associations, expression, mutations, known pathways, targeting drugs and so on.\n",
      "\n",
      "Displaying top 20 genes\n"
     ]
    },
    {
     "data": {
      "text/html": [
       "<table border=\"1\" class=\"dataframe\">\n",
       "  <thead>\n",
       "    <tr style=\"text-align: right;\">\n",
       "      <th>Protein</th>\n",
       "      <th>ENSG</th>\n",
       "      <th>UniProt</th>\n",
       "      <th>Source</th>\n",
       "      <th>Score</th>\n",
       "    </tr>\n",
       "  </thead>\n",
       "  <tbody>\n",
       "    <tr>\n",
       "      <td>GRIN2C</td>\n",
       "      <td>ENSG00000161509</td>\n",
       "      <td>Q14957</td>\n",
       "      <td>uniprot_swissprot</td>\n",
       "      <td>0.602284</td>\n",
       "    </tr>\n",
       "    <tr>\n",
       "      <td>GRIN3B</td>\n",
       "      <td>ENSG00000116032</td>\n",
       "      <td>O60391</td>\n",
       "      <td>uniprot_swissprot</td>\n",
       "      <td>0.602284</td>\n",
       "    </tr>\n",
       "    <tr>\n",
       "      <td>GRIN2D</td>\n",
       "      <td>ENSG00000105464</td>\n",
       "      <td>O15399</td>\n",
       "      <td>uniprot_swissprot</td>\n",
       "      <td>0.602284</td>\n",
       "    </tr>\n",
       "    <tr>\n",
       "      <td>GRIN2A</td>\n",
       "      <td>ENSG00000183454</td>\n",
       "      <td>Q12879</td>\n",
       "      <td>uniprot_swissprot</td>\n",
       "      <td>0.602284</td>\n",
       "    </tr>\n",
       "    <tr>\n",
       "      <td>GRIN1</td>\n",
       "      <td>ENSG00000176884</td>\n",
       "      <td>Q05586</td>\n",
       "      <td>uniprot_swissprot</td>\n",
       "      <td>0.602284</td>\n",
       "    </tr>\n",
       "    <tr>\n",
       "      <td>GRIN2B</td>\n",
       "      <td>ENSG00000273079</td>\n",
       "      <td>Q13224</td>\n",
       "      <td>uniprot_swissprot</td>\n",
       "      <td>0.602284</td>\n",
       "    </tr>\n",
       "    <tr>\n",
       "      <td>GRIN3A</td>\n",
       "      <td>ENSG00000198785</td>\n",
       "      <td>Q8TCU5</td>\n",
       "      <td>uniprot_swissprot</td>\n",
       "      <td>0.602284</td>\n",
       "    </tr>\n",
       "    <tr>\n",
       "      <td>PTGS2</td>\n",
       "      <td>ENSG00000073756</td>\n",
       "      <td>P35354</td>\n",
       "      <td>uniprot_swissprot</td>\n",
       "      <td>0.575406</td>\n",
       "    </tr>\n",
       "    <tr>\n",
       "      <td>PTGS1</td>\n",
       "      <td>ENSG00000095303</td>\n",
       "      <td>P23219</td>\n",
       "      <td>uniprot_swissprot</td>\n",
       "      <td>0.567783</td>\n",
       "    </tr>\n",
       "    <tr>\n",
       "      <td>KPNA1</td>\n",
       "      <td>ENSG00000114030</td>\n",
       "      <td>P52294</td>\n",
       "      <td>uniprot_swissprot</td>\n",
       "      <td>0.551187</td>\n",
       "    </tr>\n",
       "    <tr>\n",
       "      <td>FAAH</td>\n",
       "      <td>ENSG00000117480</td>\n",
       "      <td>O00519</td>\n",
       "      <td>uniprot_swissprot</td>\n",
       "      <td>0.548662</td>\n",
       "    </tr>\n",
       "    <tr>\n",
       "      <td>TRPV1</td>\n",
       "      <td>ENSG00000196689</td>\n",
       "      <td>Q8NER1</td>\n",
       "      <td>uniprot_swissprot</td>\n",
       "      <td>0.548107</td>\n",
       "    </tr>\n",
       "    <tr>\n",
       "      <td>RANBP2</td>\n",
       "      <td>ENSG00000153201</td>\n",
       "      <td>P49792</td>\n",
       "      <td>uniprot_swissprot</td>\n",
       "      <td>0.543479</td>\n",
       "    </tr>\n",
       "    <tr>\n",
       "      <td>NUP214</td>\n",
       "      <td>ENSG00000126883</td>\n",
       "      <td>P35658</td>\n",
       "      <td>uniprot_swissprot</td>\n",
       "      <td>0.543323</td>\n",
       "    </tr>\n",
       "    <tr>\n",
       "      <td>NUP93</td>\n",
       "      <td>ENSG00000102900</td>\n",
       "      <td>Q8N1F7</td>\n",
       "      <td>uniprot_swissprot</td>\n",
       "      <td>0.543139</td>\n",
       "    </tr>\n",
       "    <tr>\n",
       "      <td>NUP58</td>\n",
       "      <td>ENSG00000139496</td>\n",
       "      <td>Q9BVL2</td>\n",
       "      <td>uniprot_swissprot</td>\n",
       "      <td>0.542769</td>\n",
       "    </tr>\n",
       "    <tr>\n",
       "      <td>NUP42</td>\n",
       "      <td>ENSG00000136243</td>\n",
       "      <td>O15504</td>\n",
       "      <td>uniprot_swissprot</td>\n",
       "      <td>0.541660</td>\n",
       "    </tr>\n",
       "    <tr>\n",
       "      <td>NUP98</td>\n",
       "      <td>ENSG00000110713</td>\n",
       "      <td>P52948</td>\n",
       "      <td>uniprot_swissprot</td>\n",
       "      <td>0.541568</td>\n",
       "    </tr>\n",
       "    <tr>\n",
       "      <td>NUP205</td>\n",
       "      <td>ENSG00000155561</td>\n",
       "      <td>Q92621</td>\n",
       "      <td>uniprot_swissprot</td>\n",
       "      <td>0.541476</td>\n",
       "    </tr>\n",
       "    <tr>\n",
       "      <td>NUP85</td>\n",
       "      <td>ENSG00000125450</td>\n",
       "      <td>Q9BW27</td>\n",
       "      <td>uniprot_swissprot</td>\n",
       "      <td>0.541291</td>\n",
       "    </tr>\n",
       "  </tbody>\n",
       "</table>"
      ],
      "text/plain": [
       "<IPython.core.display.HTML object>"
      ]
     },
     "metadata": {},
     "output_type": "display_data"
    },
    {
     "data": {
      "image/png": "[encoded data removed]",
      "text/plain": [
       "<Figure size 432x288 with 1 Axes>"
      ]
     },
     "metadata": {
      "needs_background": "light"
     },
     "output_type": "display_data"
    },
    {
     "name": "stdout",
     "output_type": "stream",
     "text": [
      "\n",
      "\n",
      "We recommend taking a threshold above 0.3 to exclude loosely associated proteins. \n",
      "Please enter your desired threshold: 0.6\n",
      "\n",
      "\n",
      "Alright, we are good to go now. Your KG is now being generated! Sit back and relax!!\n",
      "\n",
      " Total no. of proteins:  7\n",
      "\n",
      "   Protein             ENSG UniProt             Source     Score\n",
      "0  GRIN2C  ENSG00000161509  Q14957  uniprot_swissprot  0.602284\n",
      "1  GRIN3B  ENSG00000116032  O60391  uniprot_swissprot  0.602284\n",
      "2  GRIN2D  ENSG00000105464  O15399  uniprot_swissprot  0.602284\n",
      "3  GRIN2A  ENSG00000183454  Q12879  uniprot_swissprot  0.602284\n",
      "4   GRIN1  ENSG00000176884  Q05586  uniprot_swissprot  0.602284\n",
      "5  GRIN2B  ENSG00000273079  Q13224  uniprot_swissprot  0.602284\n",
      "6  GRIN3A  ENSG00000198785  Q8TCU5  uniprot_swissprot  0.602284\n"
     ]
    },
    {
     "data": {
      "application/vnd.jupyter.widget-view+json": {
       "model_id": "0505716b41d248e69ce46ce3a645aa47",
       "version_major": 2,
       "version_minor": 0
      },
      "text/plain": [
       "Fetching Protein-related info:   0%|          | 0/7 [00:00<?, ?it/s]"
      ]
     },
     "metadata": {},
     "output_type": "display_data"
    },
    {
     "data": {
      "application/vnd.jupyter.widget-view+json": {
       "model_id": "f42435cc20ff4500a051fde3cb812a69",
       "version_major": 2,
       "version_minor": 0
      },
      "text/plain": [
       "Fetching Protein-related info:   0%|          | 0/10 [00:00<?, ?it/s]"
      ]
     },
     "metadata": {},
     "output_type": "display_data"
    },
    {
     "name": "stdout",
     "output_type": "stream",
     "text": [
      "A total of 8 drugs have been identified. Now fetching relevant data\n"
     ]
    },
    {
     "data": {
      "application/vnd.jupyter.widget-view+json": {
       "model_id": "3d7d2e975644400ba3686817ed485983",
       "version_major": 2,
       "version_minor": 0
      },
      "text/plain": [
       "Retrieving mechanisms from ChEMBL:   0%|          | 0/8 [00:00<?, ?it/s]"
      ]
     },
     "metadata": {},
     "output_type": "display_data"
    },
    {
     "data": {
      "application/vnd.jupyter.widget-view+json": {
       "model_id": "b1ad614302924f06aa0ae9d3a00bc40c",
       "version_major": 2,
       "version_minor": 0
      },
      "text/plain": [
       "Retrieving bioassays from ChEMBL:   0%|          | 0/8 [00:00<?, ?it/s]"
      ]
     },
     "metadata": {},
     "output_type": "display_data"
    },
    {
     "data": {
      "application/vnd.jupyter.widget-view+json": {
       "model_id": "552cba49b1f34798b423543f8f50248b",
       "version_major": 2,
       "version_minor": 0
      },
      "text/plain": [
       "Filtering UniProt proteins from ChEMBL:   0%|          | 0/18 [00:00<?, ?it/s]"
      ]
     },
     "metadata": {},
     "output_type": "display_data"
    },
    {
     "data": {
      "application/vnd.jupyter.widget-view+json": {
       "model_id": "0aa43faf91174437a50c348d45221af3",
       "version_major": 2,
       "version_minor": 0
      },
      "text/plain": [
       "Filtering human proteins from ChEMBL:   0%|          | 0/18 [00:00<?, ?it/s]"
      ]
     },
     "metadata": {},
     "output_type": "display_data"
    },
    {
     "data": {
      "application/vnd.jupyter.widget-view+json": {
       "model_id": "550983db410e4199b6c0d465aa4d71fc",
       "version_major": 2,
       "version_minor": 0
      },
      "text/plain": [
       "Populating ChEMBL data for human proteins:   0%|          | 0/18 [00:00<?, ?it/s]"
      ]
     },
     "metadata": {},
     "output_type": "display_data"
    },
    {
     "data": {
      "application/vnd.jupyter.widget-view+json": {
       "model_id": "7a01a2bf335d4ccc940c76cac1485c99",
       "version_major": 2,
       "version_minor": 0
      },
      "text/plain": [
       "Populating Uniprot edges:   0%|          | 0/7 [00:00<?, ?it/s]"
      ]
     },
     "metadata": {},
     "output_type": "display_data"
    },
    {
     "data": {
      "application/vnd.jupyter.widget-view+json": {
       "model_id": "741f7e9c9e164ce0b12784ed83c87b43",
       "version_major": 2,
       "version_minor": 0
      },
      "text/plain": [
       "Populating Uniprot edges:   0%|          | 0/10 [00:00<?, ?it/s]"
      ]
     },
     "metadata": {},
     "output_type": "display_data"
    },
    {
     "data": {
      "application/vnd.jupyter.widget-view+json": {
       "model_id": "54f9e59be53d43939e6db5dac15e0030",
       "version_major": 2,
       "version_minor": 0
      },
      "text/plain": [
       "Populating Chemical-MoA edges:   0%|          | 0/5 [00:00<?, ?it/s]"
      ]
     },
     "metadata": {},
     "output_type": "display_data"
    },
    {
     "data": {
      "application/vnd.jupyter.widget-view+json": {
       "model_id": "df04689400124a348afc80d1a4182875",
       "version_major": 2,
       "version_minor": 0
      },
      "text/plain": [
       "Adding bioassay edges to BEL:   0%|          | 0/4 [00:00<?, ?it/s]"
      ]
     },
     "metadata": {},
     "output_type": "display_data"
    },
    {
     "data": {
      "application/vnd.jupyter.widget-view+json": {
       "model_id": "cc79401f7dad4c4dbf8a7a4d27baf09a",
       "version_major": 2,
       "version_minor": 0
      },
      "text/plain": [
       "Retrieving Adverse Effects for each drug:   0%|          | 0/8 [00:00<?, ?it/s]"
      ]
     },
     "metadata": {},
     "output_type": "display_data"
    },
    {
     "name": "stdout",
     "output_type": "stream",
     "text": [
      "Your KG is now generated! \n",
      "\n",
      "Now let's save all the files that were created in the process.\n",
      "Please enter the location (e.g. 'C:\\Users\\rkarki\\Documents\\kg\\' ) where KG files should be stored. A folder will be created automatically. \n",
      "\n",
      "Input: C:\\Users\\reagon.karki\\Documents\\GitHub\\kgg\\data\\\n"
     ]
    },
    {
     "ename": "NameError",
     "evalue": "name 'os' is not defined",
     "output_type": "error",
     "traceback": [
      "\u001b[1;31m---------------------------------------------------------------------------\u001b[0m",
      "\u001b[1;31mNameError\u001b[0m                                 Traceback (most recent call last)",
      "Input \u001b[1;32mIn [4]\u001b[0m, in \u001b[0;36m<cell line: 1>\u001b[1;34m()\u001b[0m\n\u001b[1;32m----> 1\u001b[0m kg \u001b[38;5;241m=\u001b[39m \u001b[43mcreateKG\u001b[49m\u001b[43m(\u001b[49m\u001b[43m)\u001b[49m\n",
      "File \u001b[1;32m~\\Documents\\GitHub\\kgg\\kg_gen_2.py:667\u001b[0m, in \u001b[0;36mcreateKG\u001b[1;34m()\u001b[0m\n\u001b[0;32m    664\u001b[0m path \u001b[38;5;241m=\u001b[39m \u001b[38;5;28minput\u001b[39m(\u001b[38;5;124m'\u001b[39m\u001b[38;5;124mInput: \u001b[39m\u001b[38;5;124m'\u001b[39m)\n\u001b[0;32m    666\u001b[0m path \u001b[38;5;241m=\u001b[39m path\u001b[38;5;241m+\u001b[39mkg_name\n\u001b[1;32m--> 667\u001b[0m \u001b[43mos\u001b[49m\u001b[38;5;241m.\u001b[39mmakedirs(path,exist_ok\u001b[38;5;241m=\u001b[39m\u001b[38;5;28;01mTrue\u001b[39;00m)\n\u001b[0;32m    669\u001b[0m os\u001b[38;5;241m.\u001b[39mchdir(path)\n\u001b[0;32m    671\u001b[0m df_dis2prot\u001b[38;5;241m.\u001b[39mto_csv(\u001b[38;5;124m'\u001b[39m\u001b[38;5;124mdiseaseAssociatedProteins.csv\u001b[39m\u001b[38;5;124m'\u001b[39m,sep\u001b[38;5;241m=\u001b[39m\u001b[38;5;124m'\u001b[39m\u001b[38;5;124m,\u001b[39m\u001b[38;5;124m'\u001b[39m)\n",
      "\u001b[1;31mNameError\u001b[0m: name 'os' is not defined"
     ]
    }
   ],
   "source": [
    "kg = createKG()"
   ]
  },
  {
   "cell_type": "code",
   "execution_count": null,
   "id": "8b36d40f",
   "metadata": {
    "scrolled": false
   },
   "outputs": [],
   "source": [
    "kg.summarize"
   ]
  },
  {
   "cell_type": "code",
   "execution_count": null,
   "id": "eb82d4c6",
   "metadata": {},
   "outputs": [],
   "source": [
    "to_jupyter(kg)"
   ]
  },
  {
   "cell_type": "code",
   "execution_count": null,
   "id": "9cbd4014",
   "metadata": {},
   "outputs": [],
   "source": [
    "KG_namespace_plot(kg)"
   ]
  },
  {
   "cell_type": "code",
   "execution_count": null,
   "id": "4f87b1df",
   "metadata": {},
   "outputs": [],
   "source": [
    "def GetQuery():\n",
    "    \n",
    "    query = input('Please enter the disease you are interested in and we will try to find the best matches for you.' +'\\n' + '\\n' + 'Input: ')\n",
    "    return(query)"
   ]
  },
  {
   "cell_type": "code",
   "execution_count": null,
   "id": "587b81e8",
   "metadata": {},
   "outputs": [],
   "source": [
    "import csv\n",
    "url = \"https://raw.githubusercontent.com/Fraunhofer-ITMP/kgg/main/data/virushostdb.csv?token=GHSAT0AAAAAACHFJS57BOOG3V3KQQPAKGHIZIEAIPA\"\n"
   ]
  },
  {
   "cell_type": "code",
   "execution_count": null,
   "id": "ddefdf42",
   "metadata": {},
   "outputs": [],
   "source": [
    "test = pd.read_csv(url)"
   ]
  },
  {
   "cell_type": "code",
   "execution_count": null,
   "id": "e45f8db2",
   "metadata": {},
   "outputs": [],
   "source": [
    "test"
   ]
  },
  {
   "cell_type": "code",
   "execution_count": null,
   "id": "a317b684",
   "metadata": {
    "scrolled": true
   },
   "outputs": [],
   "source": [
    "virus = pd.read_csv('https://raw.githubusercontent.com/Fraunhofer-ITMP/kgg/main/data/virushostdb.csv')\n",
    "\n",
    "cols = ['virus tax id','virus name','DISEASE','host tax id']\n",
    "virus = virus[cols]\n",
    "\n",
    "#print(virus)\n",
    "\n",
    "#filter virus with host humans \n",
    "virus = virus.loc[virus['host tax id'] == 9606.0,:]\n",
    "virus = virus.reset_index(drop=True)\n",
    "\n",
    "print(len(virus))\n",
    "\n",
    "#replace 9606.0 to 9606\n",
    "virus[\"host tax id\"] = pd.to_numeric(virus[\"host tax id\"], downcast='integer')\n",
    "\n",
    "#get the initial keyword for disease search\n",
    "disease = GetQuery()\n",
    "\n",
    "#subset df with disease keyword\n",
    "virus_subset_1 = virus[virus['DISEASE'].str.contains(disease,na=False,case=False)]\n",
    "\n",
    "#print(disease)\n",
    "\n",
    "virus_name = input('Enter the name of virus or skip it by typing \\'no\\': ')\n",
    "\n",
    "#subset df with virus name\n",
    "if virus_name.lower() != 'no':\n",
    "    \n",
    "    virus_subset_2 = virus[virus['virus name'].str.contains(virus_name,na=False,case=False)]\n",
    "    print(virus_subset_2)\n",
    "    \n",
    "else: \n",
    "    virus_subset_2 = pd.DataFrame()\n",
    "    #break\n",
    "\n",
    "#merge subsets of df_1 and df_2\n",
    "virus_subset_merge = pd.concat([virus_subset_1,virus_subset_2])\n",
    "\n",
    "virus_subset_merge = virus_subset_merge.drop_duplicates(keep='first')\n",
    "\n",
    "virus_subset_merge = virus_subset_merge.reset_index(drop=True)\n",
    "\n",
    "virus_subset_merge['index'] = virus_subset_merge.index\n",
    "\n",
    "virus_subset_merge.style.hide(axis='index')  \n",
    "\n",
    "virus_subset_merge = virus_subset_merge[['index','virus tax id','virus name','DISEASE','host tax id']]\n",
    "display(HTML(virus_subset_merge.to_html(index=False)))"
   ]
  },
  {
   "cell_type": "code",
   "execution_count": null,
   "id": "afd4bfec",
   "metadata": {},
   "outputs": [],
   "source": [
    "url = \"https://raw.githubusercontent.com/Fraunhofer-ITMP/kgg/main/data/virushostdb.csv?token=GHSAT0AAAAAACHFJS57BOOG3V3KQQPAKGHIZIEAIPA\"\n",
    "virus = pd.read_csv(url)"
   ]
  },
  {
   "cell_type": "code",
   "execution_count": null,
   "id": "e877c6db",
   "metadata": {},
   "outputs": [],
   "source": []
  },
  {
   "cell_type": "code",
   "execution_count": null,
   "id": "cc0f8c21",
   "metadata": {},
   "outputs": [],
   "source": [
    "virus_subset_1"
   ]
  },
  {
   "cell_type": "code",
   "execution_count": null,
   "id": "065d3cc4",
   "metadata": {},
   "outputs": [],
   "source": [
    "def GetViralProteins():\n",
    "    \n",
    "    # file downloaded from https://www.genome.jp/ftp/db/virushostdb Dated: 12/09/2023\n",
    "    virus = pd.read_csv('https://raw.githubusercontent.com/Fraunhofer-ITMP/kgg/main/data/virushostdb.csv')\n",
    "    \n",
    "    cols = ['virus tax id','virus name','DISEASE','host tax id']\n",
    "    virus = virus[cols]\n",
    "    \n",
    "    #print(virus)\n",
    "\n",
    "    #filter virus with host humans \n",
    "    virus = virus.loc[virus['host tax id'] == 9606.0,:]\n",
    "    virus = virus.reset_index(drop=True)\n",
    "    \n",
    "    #replace 9606.0 to 9606\n",
    "    virus[\"host tax id\"] = pd.to_numeric(virus[\"host tax id\"], downcast='integer')\n",
    "    \n",
    "    #get the initial keyword for disease search\n",
    "    disease = GetQuery()\n",
    "    \n",
    "    #subset df with disease keyword\n",
    "    virus_subset_1 = virus[virus['DISEASE'].str.contains(disease,na=False,case=False)]\n",
    "    \n",
    "    if not virus_subset_1.empty:\n",
    "        \n",
    "    \n",
    "        #print(disease)\n",
    "        print('\\n')\n",
    "        print('The workflow has identified your query as a viral disease. Its proteins (SWISS-Prot) will be now represented in the KG.','\\n')\n",
    "        virus_name = input('Do you want to look for a specific virus or simply skip it by typing \\'no\\': ')\n",
    "\n",
    "        #subset df with virus name\n",
    "        if virus_name.lower() != 'no':\n",
    "\n",
    "            virus_subset_2 = virus[virus['virus name'].str.contains(virus_name,na=False,case=False)]\n",
    "            #print(virus_subset_2)\n",
    "            #break\n",
    "        else:\n",
    "            virus_subset_2 = pd.DataFrame()\n",
    "\n",
    "        #merge subsets of df_1 and df_2\n",
    "        virus_subset_merge = pd.concat([virus_subset_1,virus_subset_2])\n",
    "\n",
    "        virus_subset_merge = virus_subset_merge.drop_duplicates(keep='first')\n",
    "\n",
    "        virus_subset_merge = virus_subset_merge.reset_index(drop=True)\n",
    "\n",
    "        virus_subset_merge['index'] = virus_subset_merge.index\n",
    "\n",
    "        virus_subset_merge.style.hide(axis='index')  \n",
    "\n",
    "        virus_subset_merge = virus_subset_merge[['index','virus tax id','virus name','DISEASE','host tax id']]\n",
    "        display(HTML(virus_subset_merge.to_html(index=False)))\n",
    "\n",
    "        temp_id = input('Enter the index value(s). If multiple, use space, for example -> 0 1 3: ')\n",
    "\n",
    "        temp_id = temp_id.split(' ')\n",
    "        temp_id = [int(x) for x in temp_id]\n",
    "        #print(virus_subset_merge.loc[0]['virus tax id'])\n",
    "\n",
    "        uprot_list = []\n",
    "\n",
    "        for item in temp_id:\n",
    "\n",
    "            tax_id = virus_subset_merge.loc[item]['virus tax id']\n",
    "            print(tax_id)\n",
    "\n",
    "            #fetch tax id related proteins from Uniprot\n",
    "            #the link can be created from downloads option in uniprot\n",
    "            query_string = 'https://rest.uniprot.org/uniprotkb/stream?fields=accession%2Creviewed%2Cid%2Cgene_names%2Corganism_name%2Clength%2Cgene_primary%2Cprotein_name&format=tsv&query=%28%28taxonomy_id%3A'+str(tax_id)+'%29+AND+%28reviewed%3Atrue%29%29'\n",
    "\n",
    "            #query_string = 'https://rest.uniprot.org/uniprotkb/stream?fields=accession%2Creviewed%2Cid%2Cgene_names%2Corganism_name%2Clength%2Cgene_primary%2Cprotein_name&format=tsv&query=%28%28taxonomy_id%3A11676%29%29+AND+%28reviewed%3Atrue%29'\n",
    "\n",
    "            query_uniprot = requests.get(query_string)\n",
    "            query_uniprot = query_uniprot.text.split('\\n')\n",
    "\n",
    "            query_uniprot_df = pd.DataFrame([x.strip().split('\\t') for x in query_uniprot])\n",
    "            cols = query_uniprot_df.iloc[0]\n",
    "            #print(cols)\n",
    "            query_uniprot_df = query_uniprot_df[1:len(query_uniprot_df)-1]\n",
    "            query_uniprot_df.columns = cols\n",
    "            temp = list(query_uniprot_df['Entry'])\n",
    "            #print(len(temp))\n",
    "            uprot_list.append(temp)\n",
    "\n",
    "        uprot_list = [item for sublist in uprot_list for item in sublist]\n",
    "        \n",
    "        print('A total of',str(len(uprot_list)), 'viral proteins have been identified.')\n",
    "        \n",
    "        return(uprot_list)\n",
    "    "
   ]
  },
  {
   "cell_type": "code",
   "execution_count": null,
   "id": "7e1c919d",
   "metadata": {
    "scrolled": false
   },
   "outputs": [],
   "source": [
    "test = GetViralProteins()"
   ]
  },
  {
   "cell_type": "code",
   "execution_count": null,
   "id": "c51ad7f2",
   "metadata": {},
   "outputs": [],
   "source": [
    "len(set(test))"
   ]
  },
  {
   "cell_type": "code",
   "execution_count": null,
   "id": "993b1f43",
   "metadata": {},
   "outputs": [],
   "source": [
    "test"
   ]
  },
  {
   "cell_type": "code",
   "execution_count": null,
   "id": "383919cb",
   "metadata": {},
   "outputs": [],
   "source": [
    "x = pd.concat([x,y])"
   ]
  },
  {
   "cell_type": "code",
   "execution_count": null,
   "id": "24838446",
   "metadata": {},
   "outputs": [],
   "source": [
    "x = x.drop_duplicates(keep='first')"
   ]
  },
  {
   "cell_type": "code",
   "execution_count": null,
   "id": "b2dfdc0d",
   "metadata": {},
   "outputs": [],
   "source": [
    "x"
   ]
  },
  {
   "cell_type": "code",
   "execution_count": null,
   "id": "83862bcf",
   "metadata": {},
   "outputs": [],
   "source": [
    "lines[2]"
   ]
  },
  {
   "cell_type": "code",
   "execution_count": null,
   "id": "0b0a3749",
   "metadata": {},
   "outputs": [],
   "source": [
    "virus = pd.read_csv('data/virushostdb.tsv',sep='\\t')"
   ]
  },
  {
   "cell_type": "code",
   "execution_count": null,
   "id": "45f4067a",
   "metadata": {},
   "outputs": [],
   "source": [
    "df = virus.loc[virus['host tax id'] == 9606.0,:]"
   ]
  },
  {
   "cell_type": "code",
   "execution_count": null,
   "id": "79745cec",
   "metadata": {
    "scrolled": true
   },
   "outputs": [],
   "source": [
    "#df.to_csv('data/virus_host.csv',sep=',')"
   ]
  },
  {
   "cell_type": "code",
   "execution_count": null,
   "id": "26fdd62c",
   "metadata": {},
   "outputs": [],
   "source": [
    "df = df.reset_index(drop=True)"
   ]
  },
  {
   "cell_type": "code",
   "execution_count": null,
   "id": "12a4ccb0",
   "metadata": {},
   "outputs": [],
   "source": [
    "df[\"host tax id\"] = pd.to_numeric(df[\"host tax id\"], downcast='integer')"
   ]
  },
  {
   "cell_type": "code",
   "execution_count": null,
   "id": "10dc9f18",
   "metadata": {
    "scrolled": true
   },
   "outputs": [],
   "source": [
    "df"
   ]
  },
  {
   "cell_type": "code",
   "execution_count": null,
   "id": "f5eb19e0",
   "metadata": {},
   "outputs": [],
   "source": [
    "x = df[df['DISEASE'].str.contains(\"zika\",na=False,case=False)]"
   ]
  },
  {
   "cell_type": "code",
   "execution_count": null,
   "id": "fd741b92",
   "metadata": {},
   "outputs": [],
   "source": [
    "y = df[df['virus name'].str.contains(\"zika\",na=False,case=False)]"
   ]
  },
  {
   "cell_type": "code",
   "execution_count": null,
   "id": "86decf20",
   "metadata": {},
   "outputs": [],
   "source": [
    "test = requests.get('https://rest.uniprot.org/uniprotkb/stream?fields=accession%2Creviewed%2Cid%2Cgene_names%2Corganism_name%2Cgene_primary%2Cprotein_name%2Clength&format=tsv&query=%28%28taxonomy_id:10244%29%29+AND+%28reviewed%3Atrue%29')"
   ]
  },
  {
   "cell_type": "code",
   "execution_count": null,
   "id": "7e97a615",
   "metadata": {},
   "outputs": [],
   "source": [
    "query_uniprot = requests.get('https://rest.uniprot.org/uniprotkb/stream?fields=accession%2Creviewed%2Cid%2Cgene_names%2Corganism_name%2Clength%2Cgene_primary%2Cprotein_name&format=tsv&query=%28%28taxonomy_id:10244%29+AND+%28reviewed%3Atrue%29%29')"
   ]
  },
  {
   "cell_type": "code",
   "execution_count": null,
   "id": "7ff0891f",
   "metadata": {},
   "outputs": [],
   "source": [
    "test = query_uniprot"
   ]
  },
  {
   "cell_type": "code",
   "execution_count": null,
   "id": "a1324202",
   "metadata": {},
   "outputs": [],
   "source": [
    "test = test.text.split('\\n')"
   ]
  },
  {
   "cell_type": "code",
   "execution_count": null,
   "id": "956190fe",
   "metadata": {},
   "outputs": [],
   "source": [
    "test"
   ]
  },
  {
   "cell_type": "code",
   "execution_count": null,
   "id": "af907f92",
   "metadata": {},
   "outputs": [],
   "source": [
    "df = pd.DataFrame([x.strip().split('\\t') for x in test])"
   ]
  },
  {
   "cell_type": "code",
   "execution_count": null,
   "id": "e71571b3",
   "metadata": {},
   "outputs": [],
   "source": [
    "cols = df.iloc[0]\n",
    "df = df[1:len(df)-1]\n",
    "df.columns = cols"
   ]
  },
  {
   "cell_type": "code",
   "execution_count": null,
   "id": "5b4e1c20",
   "metadata": {},
   "outputs": [],
   "source": [
    "df"
   ]
  },
  {
   "cell_type": "code",
   "execution_count": null,
   "id": "30678aa8",
   "metadata": {},
   "outputs": [],
   "source": [
    "list(df['Entry'])"
   ]
  },
  {
   "cell_type": "code",
   "execution_count": null,
   "id": "d4ead9af",
   "metadata": {},
   "outputs": [],
   "source": [
    "list(df['Gene Names (primary)'])"
   ]
  },
  {
   "cell_type": "code",
   "execution_count": null,
   "id": "b8de9a94",
   "metadata": {},
   "outputs": [],
   "source": [
    "def searchDisease(name): \n",
    "    \n",
    "    disease_name = str(name)\n",
    "\n",
    "    query_string = \"\"\"\n",
    "        query searchAnything ($disname:String!){\n",
    "          search(queryString:$disname,entityNames:\"disease\",page:{size:20,index:0}){\n",
    "            total\n",
    "            hits {\n",
    "              id\n",
    "              entity\n",
    "              name\n",
    "              description\n",
    "            }\n",
    "          }\n",
    "        }\n",
    "    \"\"\"\n",
    "\n",
    "    variables = {\"disname\": disease_name}\n",
    "\n",
    "    # Set base URL of GraphQL API endpoint\n",
    "    base_url = \"https://api.platform.opentargets.org/api/v4/graphql\"\n",
    "\n",
    "    # Perform POST request and check status code of response\n",
    "    r = requests.post(base_url, json={\"query\": query_string, \"variables\": variables})\n",
    "    #print(r.status_code)\n",
    "\n",
    "    # Transform API response from JSON into Python dictionary and print in console\n",
    "    api_response = json.loads(r.text)\n",
    "    #print(api_response)\n",
    "\n",
    "    df = pd.DataFrame(api_response['data']['search']['hits'])\n",
    "    \n",
    "    if not df.empty:\n",
    "        df = df.drop(columns=['entity', 'description'])\n",
    "        df['index'] = df.index\n",
    "        df.style.hide(axis='index')\n",
    "        df = df[['index','id','name']]\n",
    "        df.style.hide(axis='index')  \n",
    "        #print('\\n')\n",
    "        #print(df.head(20))\n",
    "        display(HTML(df.to_html(index=False)))\n",
    "        \n",
    "    # else:\n",
    "        # print('\\n')\n",
    "        # print('Ooops!! Did you have a typo in the name. Please try again!')\n",
    "        # Generate_KG()\n",
    "        \n",
    "    return(df)"
   ]
  },
  {
   "cell_type": "code",
   "execution_count": null,
   "id": "781f0090",
   "metadata": {},
   "outputs": [],
   "source": [
    "test = searchDisease('aids')"
   ]
  },
  {
   "cell_type": "code",
   "execution_count": null,
   "id": "b2e5c600",
   "metadata": {},
   "outputs": [],
   "source": [
    "def saveFiles(kgName):\n",
    "\n",
    "    print('Please enter the location (e.g. \\'C:\\\\Users\\\\rkarki\\\\Documents\\\\kg\\\\\\' ) where KG files should be stored. A folder will be created automatically.','\\n')\n",
    "    \n",
    "    path = input('Input: ')\n",
    "    \n",
    "    path = path+kgName\n",
    "    os.makedirs(path,exist_ok=True)\n",
    "    \n",
    "    "
   ]
  }
 ],
 "metadata": {
  "kernelspec": {
   "display_name": "Python 3 (ipykernel)",
   "language": "python",
   "name": "python3"
  },
  "language_info": {
   "codemirror_mode": {
    "name": "ipython",
    "version": 3
   },
   "file_extension": ".py",
   "mimetype": "text/x-python",
   "name": "python",
   "nbconvert_exporter": "python",
   "pygments_lexer": "ipython3",
   "version": "3.10.4"
  }
 },
 "nbformat": 4,
 "nbformat_minor": 5
}
