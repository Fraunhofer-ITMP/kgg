{
 "cells": [
  {
   "cell_type": "markdown",
   "id": "95894b68",
   "metadata": {},
   "source": [
    "# KG Generator Tool"
   ]
  },
  {
   "cell_type": "markdown",
   "id": "e6cd5418",
   "metadata": {},
   "source": [
    "## Let's get started by importing relevant libraries"
   ]
  },
  {
   "cell_type": "code",
   "execution_count": 2,
   "id": "35a63bc0",
   "metadata": {},
   "outputs": [
    {
     "name": "stdout",
     "output_type": "stream",
     "text": [
      "Requirement already satisfied: pybel in c:\\users\\reagon.karki\\anaconda3\\envs\\bycovid_new\\lib\\site-packages (from -r requirements.txt (line 1)) (0.15.5)\n",
      "Requirement already satisfied: pandas in c:\\users\\reagon.karki\\anaconda3\\envs\\bycovid_new\\lib\\site-packages (from -r requirements.txt (line 2)) (1.4.2)\n",
      "Requirement already satisfied: chembl_webresource_client in c:\\users\\reagon.karki\\anaconda3\\envs\\bycovid_new\\lib\\site-packages (from -r requirements.txt (line 3)) (0.10.8)\n",
      "Requirement already satisfied: openpyxl in c:\\users\\reagon.karki\\anaconda3\\envs\\bycovid_new\\lib\\site-packages (from -r requirements.txt (line 4)) (3.0.9)\n",
      "Requirement already satisfied: networkx in c:\\users\\reagon.karki\\anaconda3\\envs\\bycovid_new\\lib\\site-packages (from -r requirements.txt (line 5)) (2.8)\n",
      "Requirement already satisfied: seaborn in c:\\users\\reagon.karki\\anaconda3\\envs\\bycovid_new\\lib\\site-packages (from -r requirements.txt (line 6)) (0.11.2)\n",
      "Requirement already satisfied: pubchempy in c:\\users\\reagon.karki\\anaconda3\\envs\\bycovid_new\\lib\\site-packages (from -r requirements.txt (line 7)) (1.0.4)\n",
      "Requirement already satisfied: jupyter in c:\\users\\reagon.karki\\anaconda3\\envs\\bycovid_new\\lib\\site-packages (from -r requirements.txt (line 8)) (1.0.0)\n",
      "Requirement already satisfied: sqlalchemy in c:\\users\\reagon.karki\\anaconda3\\envs\\bycovid_new\\lib\\site-packages (from pybel->-r requirements.txt (line 1)) (1.4.36)\n",
      "Requirement already satisfied: pyparsing in c:\\users\\reagon.karki\\anaconda3\\envs\\bycovid_new\\lib\\site-packages (from pybel->-r requirements.txt (line 1)) (3.0.4)\n",
      "Requirement already satisfied: pystow>=0.1.2 in c:\\users\\reagon.karki\\anaconda3\\envs\\bycovid_new\\lib\\site-packages (from pybel->-r requirements.txt (line 1)) (0.4.3)\n",
      "Requirement already satisfied: click in c:\\users\\reagon.karki\\anaconda3\\envs\\bycovid_new\\lib\\site-packages (from pybel->-r requirements.txt (line 1)) (8.1.3)\n",
      "Requirement already satisfied: psycopg2-binary in c:\\users\\reagon.karki\\anaconda3\\envs\\bycovid_new\\lib\\site-packages (from pybel->-r requirements.txt (line 1)) (2.9.3)\n",
      "Requirement already satisfied: tabulate in c:\\users\\reagon.karki\\anaconda3\\envs\\bycovid_new\\lib\\site-packages (from pybel->-r requirements.txt (line 1)) (0.8.9)\n",
      "Requirement already satisfied: click-plugins in c:\\users\\reagon.karki\\anaconda3\\envs\\bycovid_new\\lib\\site-packages (from pybel->-r requirements.txt (line 1)) (1.1.1)\n",
      "Requirement already satisfied: requests-file in c:\\users\\reagon.karki\\anaconda3\\envs\\bycovid_new\\lib\\site-packages (from pybel->-r requirements.txt (line 1)) (1.5.1)\n",
      "Requirement already satisfied: jsonschema in c:\\users\\reagon.karki\\anaconda3\\envs\\bycovid_new\\lib\\site-packages (from pybel->-r requirements.txt (line 1)) (4.4.0)\n",
      "Requirement already satisfied: tqdm in c:\\users\\reagon.karki\\anaconda3\\envs\\bycovid_new\\lib\\site-packages (from pybel->-r requirements.txt (line 1)) (4.64.0)\n",
      "Requirement already satisfied: bel-resources>=0.0.3 in c:\\users\\reagon.karki\\anaconda3\\envs\\bycovid_new\\lib\\site-packages (from pybel->-r requirements.txt (line 1)) (0.0.3)\n",
      "Requirement already satisfied: humanize in c:\\users\\reagon.karki\\anaconda3\\envs\\bycovid_new\\lib\\site-packages (from pybel->-r requirements.txt (line 1)) (4.1.0)\n",
      "Requirement already satisfied: ratelimit in c:\\users\\reagon.karki\\anaconda3\\envs\\bycovid_new\\lib\\site-packages (from pybel->-r requirements.txt (line 1)) (2.2.1)\n",
      "Requirement already satisfied: requests in c:\\users\\reagon.karki\\anaconda3\\envs\\bycovid_new\\lib\\site-packages (from pybel->-r requirements.txt (line 1)) (2.27.1)\n",
      "Requirement already satisfied: more-itertools in c:\\users\\reagon.karki\\anaconda3\\envs\\bycovid_new\\lib\\site-packages (from pybel->-r requirements.txt (line 1)) (8.13.0)\n",
      "Requirement already satisfied: bioregistry in c:\\users\\reagon.karki\\anaconda3\\envs\\bycovid_new\\lib\\site-packages (from pybel->-r requirements.txt (line 1)) (0.4.119)\n",
      "Requirement already satisfied: pytz>=2020.1 in c:\\users\\reagon.karki\\anaconda3\\envs\\bycovid_new\\lib\\site-packages (from pandas->-r requirements.txt (line 2)) (2022.1)\n",
      "Requirement already satisfied: python-dateutil>=2.8.1 in c:\\users\\reagon.karki\\anaconda3\\envs\\bycovid_new\\lib\\site-packages (from pandas->-r requirements.txt (line 2)) (2.8.2)\n",
      "Requirement already satisfied: numpy>=1.21.0 in c:\\users\\reagon.karki\\anaconda3\\envs\\bycovid_new\\lib\\site-packages (from pandas->-r requirements.txt (line 2)) (1.22.3)\n",
      "Requirement already satisfied: requests-cache~=0.7.0 in c:\\users\\reagon.karki\\anaconda3\\envs\\bycovid_new\\lib\\site-packages (from chembl_webresource_client->-r requirements.txt (line 3)) (0.7.5)\n",
      "Requirement already satisfied: easydict in c:\\users\\reagon.karki\\anaconda3\\envs\\bycovid_new\\lib\\site-packages (from chembl_webresource_client->-r requirements.txt (line 3)) (1.9)\n",
      "Requirement already satisfied: urllib3 in c:\\users\\reagon.karki\\anaconda3\\envs\\bycovid_new\\lib\\site-packages (from chembl_webresource_client->-r requirements.txt (line 3)) (1.26.9)\n",
      "Requirement already satisfied: et-xmlfile in c:\\users\\reagon.karki\\anaconda3\\envs\\bycovid_new\\lib\\site-packages (from openpyxl->-r requirements.txt (line 4)) (1.1.0)\n",
      "Requirement already satisfied: matplotlib>=2.2 in c:\\users\\reagon.karki\\anaconda3\\envs\\bycovid_new\\lib\\site-packages (from seaborn->-r requirements.txt (line 6)) (3.5.2)\n",
      "Requirement already satisfied: scipy>=1.0 in c:\\users\\reagon.karki\\anaconda3\\envs\\bycovid_new\\lib\\site-packages (from seaborn->-r requirements.txt (line 6)) (1.8.1)\n",
      "Requirement already satisfied: jupyter-console in c:\\users\\reagon.karki\\anaconda3\\envs\\bycovid_new\\lib\\site-packages (from jupyter->-r requirements.txt (line 8)) (6.4.3)\n",
      "Requirement already satisfied: notebook in c:\\users\\reagon.karki\\anaconda3\\envs\\bycovid_new\\lib\\site-packages (from jupyter->-r requirements.txt (line 8)) (6.4.11)\n",
      "Requirement already satisfied: qtconsole in c:\\users\\reagon.karki\\anaconda3\\envs\\bycovid_new\\lib\\site-packages (from jupyter->-r requirements.txt (line 8)) (5.3.1)\n",
      "Requirement already satisfied: nbconvert in c:\\users\\reagon.karki\\anaconda3\\envs\\bycovid_new\\lib\\site-packages (from jupyter->-r requirements.txt (line 8)) (6.4.4)\n",
      "Requirement already satisfied: ipywidgets in c:\\users\\reagon.karki\\anaconda3\\envs\\bycovid_new\\lib\\site-packages (from jupyter->-r requirements.txt (line 8)) (7.6.5)\n",
      "Requirement already satisfied: ipykernel in c:\\users\\reagon.karki\\anaconda3\\envs\\bycovid_new\\lib\\site-packages (from jupyter->-r requirements.txt (line 8)) (6.9.1)\n",
      "Requirement already satisfied: multisplitby in c:\\users\\reagon.karki\\anaconda3\\envs\\bycovid_new\\lib\\site-packages (from bel-resources>=0.0.3->pybel->-r requirements.txt (line 1)) (0.0.1)\n",
      "Requirement already satisfied: fonttools>=4.22.0 in c:\\users\\reagon.karki\\anaconda3\\envs\\bycovid_new\\lib\\site-packages (from matplotlib>=2.2->seaborn->-r requirements.txt (line 6)) (4.33.3)\n",
      "Requirement already satisfied: kiwisolver>=1.0.1 in c:\\users\\reagon.karki\\anaconda3\\envs\\bycovid_new\\lib\\site-packages (from matplotlib>=2.2->seaborn->-r requirements.txt (line 6)) (1.4.2)\n",
      "Requirement already satisfied: pillow>=6.2.0 in c:\\users\\reagon.karki\\anaconda3\\envs\\bycovid_new\\lib\\site-packages (from matplotlib>=2.2->seaborn->-r requirements.txt (line 6)) (9.1.0)\n",
      "Requirement already satisfied: packaging>=20.0 in c:\\users\\reagon.karki\\anaconda3\\envs\\bycovid_new\\lib\\site-packages (from matplotlib>=2.2->seaborn->-r requirements.txt (line 6)) (21.3)\n",
      "Requirement already satisfied: cycler>=0.10 in c:\\users\\reagon.karki\\anaconda3\\envs\\bycovid_new\\lib\\site-packages (from matplotlib>=2.2->seaborn->-r requirements.txt (line 6)) (0.11.0)\n",
      "Requirement already satisfied: six>=1.5 in c:\\users\\reagon.karki\\anaconda3\\envs\\bycovid_new\\lib\\site-packages (from python-dateutil>=2.8.1->pandas->-r requirements.txt (line 2)) (1.16.0)\n",
      "Requirement already satisfied: certifi>=2017.4.17 in c:\\users\\reagon.karki\\anaconda3\\envs\\bycovid_new\\lib\\site-packages (from requests->pybel->-r requirements.txt (line 1)) (2022.6.15)\n",
      "Requirement already satisfied: idna<4,>=2.5 in c:\\users\\reagon.karki\\anaconda3\\envs\\bycovid_new\\lib\\site-packages (from requests->pybel->-r requirements.txt (line 1)) (3.3)\n",
      "Requirement already satisfied: charset-normalizer~=2.0.0 in c:\\users\\reagon.karki\\anaconda3\\envs\\bycovid_new\\lib\\site-packages (from requests->pybel->-r requirements.txt (line 1)) (2.0.12)\n",
      "Requirement already satisfied: url-normalize<2.0,>=1.4 in c:\\users\\reagon.karki\\anaconda3\\envs\\bycovid_new\\lib\\site-packages (from requests-cache~=0.7.0->chembl_webresource_client->-r requirements.txt (line 3)) (1.4.3)\n",
      "Requirement already satisfied: pyyaml>=5.4 in c:\\users\\reagon.karki\\anaconda3\\envs\\bycovid_new\\lib\\site-packages (from requests-cache~=0.7.0->chembl_webresource_client->-r requirements.txt (line 3)) (6.0)\n",
      "Requirement already satisfied: attrs<22.0,>=21.2 in c:\\users\\reagon.karki\\anaconda3\\envs\\bycovid_new\\lib\\site-packages (from requests-cache~=0.7.0->chembl_webresource_client->-r requirements.txt (line 3)) (21.4.0)\n",
      "Requirement already satisfied: itsdangerous>=2.0.1 in c:\\users\\reagon.karki\\anaconda3\\envs\\bycovid_new\\lib\\site-packages (from requests-cache~=0.7.0->chembl_webresource_client->-r requirements.txt (line 3)) (2.1.2)\n",
      "Requirement already satisfied: more-click in c:\\users\\reagon.karki\\anaconda3\\envs\\bycovid_new\\lib\\site-packages (from bioregistry->pybel->-r requirements.txt (line 1)) (0.1.1)\n",
      "Requirement already satisfied: pydantic in c:\\users\\reagon.karki\\anaconda3\\envs\\bycovid_new\\lib\\site-packages (from bioregistry->pybel->-r requirements.txt (line 1)) (1.9.0)\n",
      "Requirement already satisfied: colorama in c:\\users\\reagon.karki\\anaconda3\\envs\\bycovid_new\\lib\\site-packages (from click->pybel->-r requirements.txt (line 1)) (0.4.4)\n",
      "Requirement already satisfied: tornado<7.0,>=4.2 in c:\\users\\reagon.karki\\anaconda3\\envs\\bycovid_new\\lib\\site-packages (from ipykernel->jupyter->-r requirements.txt (line 8)) (6.1)\n",
      "Requirement already satisfied: debugpy<2.0,>=1.0.0 in c:\\users\\reagon.karki\\anaconda3\\envs\\bycovid_new\\lib\\site-packages (from ipykernel->jupyter->-r requirements.txt (line 8)) (1.5.1)\n",
      "Requirement already satisfied: traitlets<6.0,>=5.1.0 in c:\\users\\reagon.karki\\anaconda3\\envs\\bycovid_new\\lib\\site-packages (from ipykernel->jupyter->-r requirements.txt (line 8)) (5.1.1)\n",
      "Requirement already satisfied: matplotlib-inline<0.2.0,>=0.1.0 in c:\\users\\reagon.karki\\anaconda3\\envs\\bycovid_new\\lib\\site-packages (from ipykernel->jupyter->-r requirements.txt (line 8)) (0.1.2)\n",
      "Requirement already satisfied: jupyter-client<8.0 in c:\\users\\reagon.karki\\anaconda3\\envs\\bycovid_new\\lib\\site-packages (from ipykernel->jupyter->-r requirements.txt (line 8)) (7.2.2)\n",
      "Requirement already satisfied: ipython>=7.23.1 in c:\\users\\reagon.karki\\anaconda3\\envs\\bycovid_new\\lib\\site-packages (from ipykernel->jupyter->-r requirements.txt (line 8)) (8.3.0)\n",
      "Requirement already satisfied: nest-asyncio in c:\\users\\reagon.karki\\anaconda3\\envs\\bycovid_new\\lib\\site-packages (from ipykernel->jupyter->-r requirements.txt (line 8)) (1.5.5)\n",
      "Requirement already satisfied: backcall in c:\\users\\reagon.karki\\anaconda3\\envs\\bycovid_new\\lib\\site-packages (from ipython>=7.23.1->ipykernel->jupyter->-r requirements.txt (line 8)) (0.2.0)\n",
      "Requirement already satisfied: pickleshare in c:\\users\\reagon.karki\\anaconda3\\envs\\bycovid_new\\lib\\site-packages (from ipython>=7.23.1->ipykernel->jupyter->-r requirements.txt (line 8)) (0.7.5)\n",
      "Requirement already satisfied: stack-data in c:\\users\\reagon.karki\\anaconda3\\envs\\bycovid_new\\lib\\site-packages (from ipython>=7.23.1->ipykernel->jupyter->-r requirements.txt (line 8)) (0.2.0)\n",
      "Requirement already satisfied: decorator in c:\\users\\reagon.karki\\anaconda3\\envs\\bycovid_new\\lib\\site-packages (from ipython>=7.23.1->ipykernel->jupyter->-r requirements.txt (line 8)) (5.1.1)\n",
      "Requirement already satisfied: jedi>=0.16 in c:\\users\\reagon.karki\\anaconda3\\envs\\bycovid_new\\lib\\site-packages (from ipython>=7.23.1->ipykernel->jupyter->-r requirements.txt (line 8)) (0.18.1)\n",
      "Requirement already satisfied: prompt-toolkit!=3.0.0,!=3.0.1,<3.1.0,>=2.0.0 in c:\\users\\reagon.karki\\anaconda3\\envs\\bycovid_new\\lib\\site-packages (from ipython>=7.23.1->ipykernel->jupyter->-r requirements.txt (line 8)) (3.0.20)\n",
      "Requirement already satisfied: setuptools>=18.5 in c:\\users\\reagon.karki\\anaconda3\\envs\\bycovid_new\\lib\\site-packages (from ipython>=7.23.1->ipykernel->jupyter->-r requirements.txt (line 8)) (61.2.0)\n",
      "Requirement already satisfied: pygments>=2.4.0 in c:\\users\\reagon.karki\\anaconda3\\envs\\bycovid_new\\lib\\site-packages (from ipython>=7.23.1->ipykernel->jupyter->-r requirements.txt (line 8)) (2.11.2)\n",
      "Requirement already satisfied: parso<0.9.0,>=0.8.0 in c:\\users\\reagon.karki\\anaconda3\\envs\\bycovid_new\\lib\\site-packages (from jedi>=0.16->ipython>=7.23.1->ipykernel->jupyter->-r requirements.txt (line 8)) (0.8.3)\n",
      "Requirement already satisfied: entrypoints in c:\\users\\reagon.karki\\anaconda3\\envs\\bycovid_new\\lib\\site-packages (from jupyter-client<8.0->ipykernel->jupyter->-r requirements.txt (line 8)) (0.4)\n",
      "Requirement already satisfied: jupyter-core>=4.9.2 in c:\\users\\reagon.karki\\anaconda3\\envs\\bycovid_new\\lib\\site-packages (from jupyter-client<8.0->ipykernel->jupyter->-r requirements.txt (line 8)) (4.10.0)\n",
      "Requirement already satisfied: pyzmq>=22.3 in c:\\users\\reagon.karki\\anaconda3\\envs\\bycovid_new\\lib\\site-packages (from jupyter-client<8.0->ipykernel->jupyter->-r requirements.txt (line 8)) (22.3.0)\n",
      "Requirement already satisfied: pywin32>=1.0 in c:\\users\\reagon.karki\\anaconda3\\envs\\bycovid_new\\lib\\site-packages (from jupyter-core>=4.9.2->jupyter-client<8.0->ipykernel->jupyter->-r requirements.txt (line 8)) (302)\n",
      "Requirement already satisfied: wcwidth in c:\\users\\reagon.karki\\anaconda3\\envs\\bycovid_new\\lib\\site-packages (from prompt-toolkit!=3.0.0,!=3.0.1,<3.1.0,>=2.0.0->ipython>=7.23.1->ipykernel->jupyter->-r requirements.txt (line 8)) (0.2.5)\n",
      "Requirement already satisfied: jupyterlab-widgets>=1.0.0 in c:\\users\\reagon.karki\\anaconda3\\envs\\bycovid_new\\lib\\site-packages (from ipywidgets->jupyter->-r requirements.txt (line 8)) (1.0.0)\n",
      "Requirement already satisfied: ipython-genutils~=0.2.0 in c:\\users\\reagon.karki\\anaconda3\\envs\\bycovid_new\\lib\\site-packages (from ipywidgets->jupyter->-r requirements.txt (line 8)) (0.2.0)\n",
      "Requirement already satisfied: widgetsnbextension~=3.5.0 in c:\\users\\reagon.karki\\anaconda3\\envs\\bycovid_new\\lib\\site-packages (from ipywidgets->jupyter->-r requirements.txt (line 8)) (3.5.2)\n",
      "Requirement already satisfied: nbformat>=4.2.0 in c:\\users\\reagon.karki\\anaconda3\\envs\\bycovid_new\\lib\\site-packages (from ipywidgets->jupyter->-r requirements.txt (line 8)) (5.3.0)\n",
      "Requirement already satisfied: fastjsonschema in c:\\users\\reagon.karki\\anaconda3\\envs\\bycovid_new\\lib\\site-packages (from nbformat>=4.2.0->ipywidgets->jupyter->-r requirements.txt (line 8)) (2.15.1)\n",
      "Requirement already satisfied: pyrsistent!=0.17.0,!=0.17.1,!=0.17.2,>=0.14.0 in c:\\users\\reagon.karki\\anaconda3\\envs\\bycovid_new\\lib\\site-packages (from jsonschema->pybel->-r requirements.txt (line 1)) (0.18.0)\n",
      "Requirement already satisfied: Send2Trash>=1.8.0 in c:\\users\\reagon.karki\\anaconda3\\envs\\bycovid_new\\lib\\site-packages (from notebook->jupyter->-r requirements.txt (line 8)) (1.8.0)\n",
      "Requirement already satisfied: terminado>=0.8.3 in c:\\users\\reagon.karki\\anaconda3\\envs\\bycovid_new\\lib\\site-packages (from notebook->jupyter->-r requirements.txt (line 8)) (0.13.1)\n",
      "Requirement already satisfied: prometheus-client in c:\\users\\reagon.karki\\anaconda3\\envs\\bycovid_new\\lib\\site-packages (from notebook->jupyter->-r requirements.txt (line 8)) (0.13.1)\n",
      "Requirement already satisfied: argon2-cffi in c:\\users\\reagon.karki\\anaconda3\\envs\\bycovid_new\\lib\\site-packages (from notebook->jupyter->-r requirements.txt (line 8)) (21.3.0)\n",
      "Requirement already satisfied: jinja2 in c:\\users\\reagon.karki\\anaconda3\\envs\\bycovid_new\\lib\\site-packages (from notebook->jupyter->-r requirements.txt (line 8)) (3.0.3)\n",
      "Requirement already satisfied: defusedxml in c:\\users\\reagon.karki\\anaconda3\\envs\\bycovid_new\\lib\\site-packages (from nbconvert->jupyter->-r requirements.txt (line 8)) (0.7.1)\n",
      "Requirement already satisfied: pandocfilters>=1.4.1 in c:\\users\\reagon.karki\\anaconda3\\envs\\bycovid_new\\lib\\site-packages (from nbconvert->jupyter->-r requirements.txt (line 8)) (1.5.0)\n",
      "Requirement already satisfied: jupyterlab-pygments in c:\\users\\reagon.karki\\anaconda3\\envs\\bycovid_new\\lib\\site-packages (from nbconvert->jupyter->-r requirements.txt (line 8)) (0.1.2)\n",
      "Requirement already satisfied: testpath in c:\\users\\reagon.karki\\anaconda3\\envs\\bycovid_new\\lib\\site-packages (from nbconvert->jupyter->-r requirements.txt (line 8)) (0.5.0)\n",
      "Requirement already satisfied: beautifulsoup4 in c:\\users\\reagon.karki\\anaconda3\\envs\\bycovid_new\\lib\\site-packages (from nbconvert->jupyter->-r requirements.txt (line 8)) (4.11.1)\n",
      "Requirement already satisfied: nbclient<0.6.0,>=0.5.0 in c:\\users\\reagon.karki\\anaconda3\\envs\\bycovid_new\\lib\\site-packages (from nbconvert->jupyter->-r requirements.txt (line 8)) (0.5.13)\n",
      "Requirement already satisfied: bleach in c:\\users\\reagon.karki\\anaconda3\\envs\\bycovid_new\\lib\\site-packages (from nbconvert->jupyter->-r requirements.txt (line 8)) (4.1.0)\n",
      "Requirement already satisfied: mistune<2,>=0.8.1 in c:\\users\\reagon.karki\\anaconda3\\envs\\bycovid_new\\lib\\site-packages (from nbconvert->jupyter->-r requirements.txt (line 8)) (0.8.4)\n",
      "Requirement already satisfied: MarkupSafe>=2.0 in c:\\users\\reagon.karki\\anaconda3\\envs\\bycovid_new\\lib\\site-packages (from jinja2->notebook->jupyter->-r requirements.txt (line 8)) (2.0.1)\n",
      "Requirement already satisfied: pywinpty>=1.1.0 in c:\\users\\reagon.karki\\anaconda3\\envs\\bycovid_new\\lib\\site-packages (from terminado>=0.8.3->notebook->jupyter->-r requirements.txt (line 8)) (2.0.2)\n",
      "Requirement already satisfied: argon2-cffi-bindings in c:\\users\\reagon.karki\\anaconda3\\envs\\bycovid_new\\lib\\site-packages (from argon2-cffi->notebook->jupyter->-r requirements.txt (line 8)) (21.2.0)\n",
      "Requirement already satisfied: cffi>=1.0.1 in c:\\users\\reagon.karki\\anaconda3\\envs\\bycovid_new\\lib\\site-packages (from argon2-cffi-bindings->argon2-cffi->notebook->jupyter->-r requirements.txt (line 8)) (1.15.0)\n",
      "Requirement already satisfied: pycparser in c:\\users\\reagon.karki\\anaconda3\\envs\\bycovid_new\\lib\\site-packages (from cffi>=1.0.1->argon2-cffi-bindings->argon2-cffi->notebook->jupyter->-r requirements.txt (line 8)) (2.21)\n",
      "Requirement already satisfied: soupsieve>1.2 in c:\\users\\reagon.karki\\anaconda3\\envs\\bycovid_new\\lib\\site-packages (from beautifulsoup4->nbconvert->jupyter->-r requirements.txt (line 8)) (2.3.1)\n",
      "Requirement already satisfied: webencodings in c:\\users\\reagon.karki\\anaconda3\\envs\\bycovid_new\\lib\\site-packages (from bleach->nbconvert->jupyter->-r requirements.txt (line 8)) (0.5.1)\n",
      "Requirement already satisfied: typing-extensions>=3.7.4.3 in c:\\users\\reagon.karki\\anaconda3\\envs\\bycovid_new\\lib\\site-packages (from pydantic->bioregistry->pybel->-r requirements.txt (line 1)) (4.1.1)\n",
      "Requirement already satisfied: qtpy>=2.0.1 in c:\\users\\reagon.karki\\anaconda3\\envs\\bycovid_new\\lib\\site-packages (from qtconsole->jupyter->-r requirements.txt (line 8)) (2.0.1)\n",
      "Requirement already satisfied: greenlet!=0.4.17 in c:\\users\\reagon.karki\\anaconda3\\envs\\bycovid_new\\lib\\site-packages (from sqlalchemy->pybel->-r requirements.txt (line 1)) (1.1.2)\n",
      "Requirement already satisfied: pure-eval in c:\\users\\reagon.karki\\anaconda3\\envs\\bycovid_new\\lib\\site-packages (from stack-data->ipython>=7.23.1->ipykernel->jupyter->-r requirements.txt (line 8)) (0.2.2)\n",
      "Requirement already satisfied: asttokens in c:\\users\\reagon.karki\\anaconda3\\envs\\bycovid_new\\lib\\site-packages (from stack-data->ipython>=7.23.1->ipykernel->jupyter->-r requirements.txt (line 8)) (2.0.5)\n",
      "Requirement already satisfied: executing in c:\\users\\reagon.karki\\anaconda3\\envs\\bycovid_new\\lib\\site-packages (from stack-data->ipython>=7.23.1->ipykernel->jupyter->-r requirements.txt (line 8)) (0.8.3)\n",
      "Note: you may need to restart the kernel to use updated packages.\n"
     ]
    }
   ],
   "source": [
    "pip install -r requirements.txt"
   ]
  },
  {
   "cell_type": "code",
   "execution_count": null,
   "id": "b41fb83b",
   "metadata": {},
   "outputs": [],
   "source": [
    "import requests\n",
    "import json\n",
    "import pandas as pd\n",
    "import matplotlib.pyplot as plt\n",
    "import os\n",
    "from tqdm.auto import tqdm\n",
    "\n",
    "import pybel\n",
    "from pybel.io.jupyter import to_jupyter\n",
    "from utils import *\n",
    "from kg_gen_2 import *\n",
    "\n",
    "from IPython.display import Markdown, display"
   ]
  },
  {
   "cell_type": "markdown",
   "id": "7556a3fb",
   "metadata": {},
   "source": [
    "## Please execute following cells"
   ]
  },
  {
   "cell_type": "code",
   "execution_count": null,
   "id": "2036d66a",
   "metadata": {
    "scrolled": false
   },
   "outputs": [],
   "source": [
    "kg = createKG()"
   ]
  },
  {
   "cell_type": "code",
   "execution_count": null,
   "id": "8b36d40f",
   "metadata": {
    "scrolled": false
   },
   "outputs": [],
   "source": [
    "kg.summarize"
   ]
  },
  {
   "cell_type": "code",
   "execution_count": null,
   "id": "eb82d4c6",
   "metadata": {},
   "outputs": [],
   "source": [
    "to_jupyter(kg)"
   ]
  },
  {
   "cell_type": "code",
   "execution_count": null,
   "id": "9cbd4014",
   "metadata": {},
   "outputs": [],
   "source": [
    "KG_namespace_plot(kg)"
   ]
  }
 ],
 "metadata": {
  "kernelspec": {
   "display_name": "Python 3 (ipykernel)",
   "language": "python",
   "name": "python3"
  },
  "language_info": {
   "codemirror_mode": {
    "name": "ipython",
    "version": 3
   },
   "file_extension": ".py",
   "mimetype": "text/x-python",
   "name": "python",
   "nbconvert_exporter": "python",
   "pygments_lexer": "ipython3",
   "version": "3.10.4"
  }
 },
 "nbformat": 4,
 "nbformat_minor": 5
}
