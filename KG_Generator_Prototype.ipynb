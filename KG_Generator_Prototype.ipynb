{
 "cells": [
  {
   "cell_type": "markdown",
   "id": "95894b68",
   "metadata": {},
   "source": [
    "# KG Generator Tool"
   ]
  },
  {
   "cell_type": "markdown",
   "id": "e6cd5418",
   "metadata": {},
   "source": [
    "## Let's get started by importing relevant libraries"
   ]
  },
  {
   "cell_type": "code",
   "execution_count": 1,
   "id": "b41fb83b",
   "metadata": {},
   "outputs": [],
   "source": [
    "import requests\n",
    "import json\n",
    "import pandas as pd\n",
    "import matplotlib.pyplot as plt\n",
    "import os\n",
    "from tqdm.auto import tqdm\n",
    "\n",
    "import pybel\n",
    "from pybel.io.jupyter import to_jupyter\n",
    "from utils import *\n",
    "from kg_gen_2 import *\n",
    "\n",
    "from IPython.display import Markdown, display"
   ]
  },
  {
   "cell_type": "markdown",
   "id": "7556a3fb",
   "metadata": {},
   "source": [
    "## Please execute following cells"
   ]
  },
  {
   "cell_type": "code",
   "execution_count": 16,
   "id": "2036d66a",
   "metadata": {
    "scrolled": false
   },
   "outputs": [
    {
     "data": {
      "image/png": "[encoded data removed]",
      "text/plain": [
       "<Figure size 432x288 with 1 Axes>"
      ]
     },
     "metadata": {
      "needs_background": "light"
     },
     "output_type": "display_data"
    },
    {
     "data": {
      "text/markdown": [
       "<span style='color:blue'>**Welcome to the KG Generator tool. In the following steps, we will need some inputs from your side.**</span>"
      ],
      "text/plain": [
       "<IPython.core.display.Markdown object>"
      ]
     },
     "metadata": {},
     "output_type": "display_data"
    },
    {
     "name": "stdout",
     "output_type": "stream",
     "text": [
      "Please enter the disease you are interested in and we will try to find the best matches for you.\n",
      "\n",
      "Input: lung cancer\n"
     ]
    },
    {
     "data": {
      "text/html": [
       "<table border=\"1\" class=\"dataframe\">\n",
       "  <thead>\n",
       "    <tr style=\"text-align: right;\">\n",
       "      <th>index</th>\n",
       "      <th>id</th>\n",
       "      <th>name</th>\n",
       "    </tr>\n",
       "  </thead>\n",
       "  <tbody>\n",
       "    <tr>\n",
       "      <td>0</td>\n",
       "      <td>MONDO_0008903</td>\n",
       "      <td>lung cancer</td>\n",
       "    </tr>\n",
       "    <tr>\n",
       "      <td>1</td>\n",
       "      <td>EFO_0001071</td>\n",
       "      <td>lung carcinoma</td>\n",
       "    </tr>\n",
       "    <tr>\n",
       "      <td>2</td>\n",
       "      <td>EFO_0022194</td>\n",
       "      <td>EGFR-related lung cancer</td>\n",
       "    </tr>\n",
       "    <tr>\n",
       "      <td>3</td>\n",
       "      <td>EFO_0003060</td>\n",
       "      <td>non-small cell lung carcinoma</td>\n",
       "    </tr>\n",
       "    <tr>\n",
       "      <td>4</td>\n",
       "      <td>EFO_0000702</td>\n",
       "      <td>small cell lung carcinoma</td>\n",
       "    </tr>\n",
       "    <tr>\n",
       "      <td>5</td>\n",
       "      <td>EFO_0006953</td>\n",
       "      <td>family history of lung cancer</td>\n",
       "    </tr>\n",
       "    <tr>\n",
       "      <td>6</td>\n",
       "      <td>EFO_0004244</td>\n",
       "      <td>interstitial lung disease</td>\n",
       "    </tr>\n",
       "    <tr>\n",
       "      <td>7</td>\n",
       "      <td>EFO_0000708</td>\n",
       "      <td>squamous cell lung carcinoma</td>\n",
       "    </tr>\n",
       "    <tr>\n",
       "      <td>8</td>\n",
       "      <td>MONDO_0021117</td>\n",
       "      <td>lung neoplasm</td>\n",
       "    </tr>\n",
       "    <tr>\n",
       "      <td>9</td>\n",
       "      <td>EFO_0000571</td>\n",
       "      <td>lung adenocarcinoma</td>\n",
       "    </tr>\n",
       "    <tr>\n",
       "      <td>10</td>\n",
       "      <td>EFO_0003050</td>\n",
       "      <td>large cell lung carcinoma</td>\n",
       "    </tr>\n",
       "    <tr>\n",
       "      <td>11</td>\n",
       "      <td>MONDO_0056806</td>\n",
       "      <td>non-small cell squamous lung carcinoma</td>\n",
       "    </tr>\n",
       "    <tr>\n",
       "      <td>12</td>\n",
       "      <td>MONDO_0004586</td>\n",
       "      <td>rheumatoid lung disease</td>\n",
       "    </tr>\n",
       "    <tr>\n",
       "      <td>13</td>\n",
       "      <td>MONDO_0002732</td>\n",
       "      <td>lung benign neoplasm</td>\n",
       "    </tr>\n",
       "    <tr>\n",
       "      <td>14</td>\n",
       "      <td>EFO_0005288</td>\n",
       "      <td>non-small cell lung adenocarcinoma</td>\n",
       "    </tr>\n",
       "    <tr>\n",
       "      <td>15</td>\n",
       "      <td>EFO_0010585</td>\n",
       "      <td>cancer antigen 15.3 measurement</td>\n",
       "    </tr>\n",
       "    <tr>\n",
       "      <td>16</td>\n",
       "      <td>MONDO_0020644</td>\n",
       "      <td>lung non-Hodgkin lymphoma</td>\n",
       "    </tr>\n",
       "    <tr>\n",
       "      <td>17</td>\n",
       "      <td>MONDO_0003987</td>\n",
       "      <td>lung lymphoma</td>\n",
       "    </tr>\n",
       "    <tr>\n",
       "      <td>18</td>\n",
       "      <td>EFO_1000037</td>\n",
       "      <td>lung carcinoid tumor</td>\n",
       "    </tr>\n",
       "    <tr>\n",
       "      <td>19</td>\n",
       "      <td>EFO_1000336</td>\n",
       "      <td>Lung Sarcomatoid Carcinoma</td>\n",
       "    </tr>\n",
       "  </tbody>\n",
       "</table>"
      ],
      "text/plain": [
       "<IPython.core.display.HTML object>"
      ]
     },
     "metadata": {},
     "output_type": "display_data"
    },
    {
     "data": {
      "text/markdown": [
       "<span style='color:None'>**Here you go! Hopefully your disease of interest is in the list. If so, let's get started.**</span>"
      ],
      "text/plain": [
       "<IPython.core.display.Markdown object>"
      ]
     },
     "metadata": {},
     "output_type": "display_data"
    },
    {
     "name": "stdout",
     "output_type": "stream",
     "text": [
      "Please enter the index value of your disease of interest. Input: 0\n",
      "Please enter the clinical trial phase of chemicals which should be identified by the workflow. Use a number between 1 (early phase) and 4 (FDA approved). For example, if you use 3, the KG will fetch chemicals that are in phase 3. Also, remember that lower the input value, higher will be the number of identified chemicals and therefore the running time of workflow also increases.\n",
      "\n",
      "\n",
      "Your desired clinical trial phase: 4\n",
      "\n",
      "\n",
      "Please provide a name for you KG. Input: lung cancer\n",
      "\n",
      "\n",
      "We have identified 9770 proteins (Swiss-Prot) associated with the disease. Following is a histogram that shows distribution of proteins based on scores provided by OpenTargets. The scores are influenced by various factors such as genetic associations, expression, mutations, known pathways, targeting drugs and so on.\n",
      "\n",
      "Displaying top 20 genes\n"
     ]
    },
    {
     "data": {
      "text/html": [
       "<table border=\"1\" class=\"dataframe\">\n",
       "  <thead>\n",
       "    <tr style=\"text-align: right;\">\n",
       "      <th>Protein</th>\n",
       "      <th>ENSG</th>\n",
       "      <th>UniProt</th>\n",
       "      <th>Source</th>\n",
       "      <th>Score</th>\n",
       "    </tr>\n",
       "  </thead>\n",
       "  <tbody>\n",
       "    <tr>\n",
       "      <td>EGFR</td>\n",
       "      <td>ENSG00000146648</td>\n",
       "      <td>P00533</td>\n",
       "      <td>uniprot_swissprot</td>\n",
       "      <td>0.903833</td>\n",
       "    </tr>\n",
       "    <tr>\n",
       "      <td>KRAS</td>\n",
       "      <td>ENSG00000133703</td>\n",
       "      <td>P01116</td>\n",
       "      <td>uniprot_swissprot</td>\n",
       "      <td>0.838998</td>\n",
       "    </tr>\n",
       "    <tr>\n",
       "      <td>ERBB2</td>\n",
       "      <td>ENSG00000141736</td>\n",
       "      <td>P04626</td>\n",
       "      <td>uniprot_swissprot</td>\n",
       "      <td>0.836005</td>\n",
       "    </tr>\n",
       "    <tr>\n",
       "      <td>BRAF</td>\n",
       "      <td>ENSG00000157764</td>\n",
       "      <td>P15056</td>\n",
       "      <td>uniprot_swissprot</td>\n",
       "      <td>0.825572</td>\n",
       "    </tr>\n",
       "    <tr>\n",
       "      <td>ALK</td>\n",
       "      <td>ENSG00000171094</td>\n",
       "      <td>Q9UM73</td>\n",
       "      <td>uniprot_swissprot</td>\n",
       "      <td>0.825162</td>\n",
       "    </tr>\n",
       "    <tr>\n",
       "      <td>TP53</td>\n",
       "      <td>ENSG00000141510</td>\n",
       "      <td>P04637</td>\n",
       "      <td>uniprot_swissprot</td>\n",
       "      <td>0.822664</td>\n",
       "    </tr>\n",
       "    <tr>\n",
       "      <td>MET</td>\n",
       "      <td>ENSG00000105976</td>\n",
       "      <td>P08581</td>\n",
       "      <td>uniprot_swissprot</td>\n",
       "      <td>0.813641</td>\n",
       "    </tr>\n",
       "    <tr>\n",
       "      <td>ERBB4</td>\n",
       "      <td>ENSG00000178568</td>\n",
       "      <td>Q15303</td>\n",
       "      <td>uniprot_swissprot</td>\n",
       "      <td>0.802344</td>\n",
       "    </tr>\n",
       "    <tr>\n",
       "      <td>RB1</td>\n",
       "      <td>ENSG00000139687</td>\n",
       "      <td>P06400</td>\n",
       "      <td>uniprot_swissprot</td>\n",
       "      <td>0.793669</td>\n",
       "    </tr>\n",
       "    <tr>\n",
       "      <td>KDR</td>\n",
       "      <td>ENSG00000128052</td>\n",
       "      <td>P35968</td>\n",
       "      <td>uniprot_swissprot</td>\n",
       "      <td>0.786661</td>\n",
       "    </tr>\n",
       "    <tr>\n",
       "      <td>STK11</td>\n",
       "      <td>ENSG00000118046</td>\n",
       "      <td>Q15831</td>\n",
       "      <td>uniprot_swissprot</td>\n",
       "      <td>0.784861</td>\n",
       "    </tr>\n",
       "    <tr>\n",
       "      <td>PIK3CA</td>\n",
       "      <td>ENSG00000121879</td>\n",
       "      <td>P42336</td>\n",
       "      <td>uniprot_swissprot</td>\n",
       "      <td>0.783359</td>\n",
       "    </tr>\n",
       "    <tr>\n",
       "      <td>CDKN2A</td>\n",
       "      <td>ENSG00000147889</td>\n",
       "      <td>P42771</td>\n",
       "      <td>uniprot_swissprot</td>\n",
       "      <td>0.782582</td>\n",
       "    </tr>\n",
       "    <tr>\n",
       "      <td>CDKN2A</td>\n",
       "      <td>ENSG00000147889</td>\n",
       "      <td>Q8N726</td>\n",
       "      <td>uniprot_swissprot</td>\n",
       "      <td>0.782582</td>\n",
       "    </tr>\n",
       "    <tr>\n",
       "      <td>ROS1</td>\n",
       "      <td>ENSG00000047936</td>\n",
       "      <td>P08922</td>\n",
       "      <td>uniprot_swissprot</td>\n",
       "      <td>0.765513</td>\n",
       "    </tr>\n",
       "    <tr>\n",
       "      <td>RET</td>\n",
       "      <td>ENSG00000165731</td>\n",
       "      <td>P07949</td>\n",
       "      <td>uniprot_swissprot</td>\n",
       "      <td>0.758779</td>\n",
       "    </tr>\n",
       "    <tr>\n",
       "      <td>KMT2D</td>\n",
       "      <td>ENSG00000167548</td>\n",
       "      <td>O14686</td>\n",
       "      <td>uniprot_swissprot</td>\n",
       "      <td>0.754910</td>\n",
       "    </tr>\n",
       "    <tr>\n",
       "      <td>FLT4</td>\n",
       "      <td>ENSG00000037280</td>\n",
       "      <td>P35916</td>\n",
       "      <td>uniprot_swissprot</td>\n",
       "      <td>0.754351</td>\n",
       "    </tr>\n",
       "    <tr>\n",
       "      <td>DICER1</td>\n",
       "      <td>ENSG00000100697</td>\n",
       "      <td>Q9UPY3</td>\n",
       "      <td>uniprot_swissprot</td>\n",
       "      <td>0.753328</td>\n",
       "    </tr>\n",
       "    <tr>\n",
       "      <td>KEAP1</td>\n",
       "      <td>ENSG00000079999</td>\n",
       "      <td>Q14145</td>\n",
       "      <td>uniprot_swissprot</td>\n",
       "      <td>0.751583</td>\n",
       "    </tr>\n",
       "  </tbody>\n",
       "</table>"
      ],
      "text/plain": [
       "<IPython.core.display.HTML object>"
      ]
     },
     "metadata": {},
     "output_type": "display_data"
    },
    {
     "data": {
      "image/png": "[encoded data removed]",
      "text/plain": [
       "<Figure size 432x288 with 1 Axes>"
      ]
     },
     "metadata": {
      "needs_background": "light"
     },
     "output_type": "display_data"
    },
    {
     "name": "stdout",
     "output_type": "stream",
     "text": [
      "\n",
      "\n",
      "We recommend taking a threshold above 0.3 to exclude loosely associated proteins. \n",
      "Please enter your desired threshold: 0.6\n",
      "\n",
      "\n",
      "Alright, we are good to go now. Your KG is now being generated! Sit back and relax!!\n",
      "\n",
      " Total no. of proteins:  104\n",
      "\n",
      "     Protein             ENSG UniProt             Source     Score\n",
      "0      EGFR  ENSG00000146648  P00533  uniprot_swissprot  0.903833\n",
      "1      KRAS  ENSG00000133703  P01116  uniprot_swissprot  0.838998\n",
      "2     ERBB2  ENSG00000141736  P04626  uniprot_swissprot  0.836005\n",
      "3      BRAF  ENSG00000157764  P15056  uniprot_swissprot  0.825572\n",
      "4       ALK  ENSG00000171094  Q9UM73  uniprot_swissprot  0.825162\n",
      "..      ...              ...     ...                ...       ...\n",
      "99    STAT3  ENSG00000168610  P40763  uniprot_swissprot  0.602680\n",
      "100   VEGFA  ENSG00000112715  P15692  uniprot_swissprot  0.602224\n",
      "101   POLD2  ENSG00000106628  P49005  uniprot_swissprot  0.601388\n",
      "102   POLE3  ENSG00000148229  Q9NRF9  uniprot_swissprot  0.601296\n",
      "103   POLA1  ENSG00000101868  P09884  uniprot_swissprot  0.601111\n",
      "\n",
      "[104 rows x 5 columns]\n"
     ]
    },
    {
     "ename": "KeyError",
     "evalue": "'phase'",
     "output_type": "error",
     "traceback": [
      "\u001b[1;31m---------------------------------------------------------------------------\u001b[0m",
      "\u001b[1;31mKeyError\u001b[0m                                  Traceback (most recent call last)",
      "File \u001b[1;32m~\\Anaconda3\\envs\\bycovid_new\\lib\\site-packages\\pandas\\core\\indexes\\base.py:3621\u001b[0m, in \u001b[0;36mIndex.get_loc\u001b[1;34m(self, key, method, tolerance)\u001b[0m\n\u001b[0;32m   3620\u001b[0m \u001b[38;5;28;01mtry\u001b[39;00m:\n\u001b[1;32m-> 3621\u001b[0m     \u001b[38;5;28;01mreturn\u001b[39;00m \u001b[38;5;28;43mself\u001b[39;49m\u001b[38;5;241;43m.\u001b[39;49m\u001b[43m_engine\u001b[49m\u001b[38;5;241;43m.\u001b[39;49m\u001b[43mget_loc\u001b[49m\u001b[43m(\u001b[49m\u001b[43mcasted_key\u001b[49m\u001b[43m)\u001b[49m\n\u001b[0;32m   3622\u001b[0m \u001b[38;5;28;01mexcept\u001b[39;00m \u001b[38;5;167;01mKeyError\u001b[39;00m \u001b[38;5;28;01mas\u001b[39;00m err:\n",
      "File \u001b[1;32m~\\Anaconda3\\envs\\bycovid_new\\lib\\site-packages\\pandas\\_libs\\index.pyx:136\u001b[0m, in \u001b[0;36mpandas._libs.index.IndexEngine.get_loc\u001b[1;34m()\u001b[0m\n",
      "File \u001b[1;32m~\\Anaconda3\\envs\\bycovid_new\\lib\\site-packages\\pandas\\_libs\\index.pyx:163\u001b[0m, in \u001b[0;36mpandas._libs.index.IndexEngine.get_loc\u001b[1;34m()\u001b[0m\n",
      "File \u001b[1;32mpandas\\_libs\\hashtable_class_helper.pxi:5198\u001b[0m, in \u001b[0;36mpandas._libs.hashtable.PyObjectHashTable.get_item\u001b[1;34m()\u001b[0m\n",
      "File \u001b[1;32mpandas\\_libs\\hashtable_class_helper.pxi:5206\u001b[0m, in \u001b[0;36mpandas._libs.hashtable.PyObjectHashTable.get_item\u001b[1;34m()\u001b[0m\n",
      "\u001b[1;31mKeyError\u001b[0m: 'phase'",
      "\nThe above exception was the direct cause of the following exception:\n",
      "\u001b[1;31mKeyError\u001b[0m                                  Traceback (most recent call last)",
      "Input \u001b[1;32mIn [16]\u001b[0m, in \u001b[0;36m<cell line: 1>\u001b[1;34m()\u001b[0m\n\u001b[1;32m----> 1\u001b[0m kg \u001b[38;5;241m=\u001b[39m \u001b[43mcreateKG\u001b[49m\u001b[43m(\u001b[49m\u001b[43m)\u001b[49m\n",
      "File \u001b[1;32m~\\Documents\\GitHub\\kgg\\kg_gen_2.py:616\u001b[0m, in \u001b[0;36mcreateKG\u001b[1;34m()\u001b[0m\n\u001b[0;32m    612\u001b[0m df_dis2prot \u001b[38;5;241m=\u001b[39m GetDiseaseAssociatedProteins(doid[\u001b[38;5;124m'\u001b[39m\u001b[38;5;124mid\u001b[39m\u001b[38;5;124m'\u001b[39m][efo_id])\n\u001b[0;32m    614\u001b[0m \u001b[38;5;66;03m#chembl_list = GetDiseaseAssociatedDrugs(efo_id,ct_phase)\u001b[39;00m\n\u001b[1;32m--> 616\u001b[0m chembl_list \u001b[38;5;241m=\u001b[39m \u001b[43mGetDiseaseAssociatedDrugs\u001b[49m\u001b[43m(\u001b[49m\u001b[43mdoid\u001b[49m\u001b[43m[\u001b[49m\u001b[38;5;124;43m'\u001b[39;49m\u001b[38;5;124;43mid\u001b[39;49m\u001b[38;5;124;43m'\u001b[39;49m\u001b[43m]\u001b[49m\u001b[43m[\u001b[49m\u001b[43mefo_id\u001b[49m\u001b[43m]\u001b[49m\u001b[43m,\u001b[49m\u001b[43mct_phase\u001b[49m\u001b[43m)\u001b[49m\n\u001b[0;32m    618\u001b[0m \u001b[38;5;66;03m#create empty KG\u001b[39;00m\n\u001b[0;32m    619\u001b[0m kg \u001b[38;5;241m=\u001b[39m pybel\u001b[38;5;241m.\u001b[39mBELGraph(name\u001b[38;5;241m=\u001b[39mkg_name, version\u001b[38;5;241m=\u001b[39m\u001b[38;5;124m\"\u001b[39m\u001b[38;5;124m0.0.1\u001b[39m\u001b[38;5;124m\"\u001b[39m)\n",
      "File \u001b[1;32m~\\Documents\\GitHub\\kgg\\kg_gen_2.py:317\u001b[0m, in \u001b[0;36mGetDiseaseAssociatedDrugs\u001b[1;34m(disease_id, CT_phase)\u001b[0m\n\u001b[0;32m    314\u001b[0m api_response \u001b[38;5;241m=\u001b[39m json\u001b[38;5;241m.\u001b[39mloads(r\u001b[38;5;241m.\u001b[39mtext)\n\u001b[0;32m    316\u001b[0m df \u001b[38;5;241m=\u001b[39m pd\u001b[38;5;241m.\u001b[39mDataFrame(api_response[\u001b[38;5;124m'\u001b[39m\u001b[38;5;124mdata\u001b[39m\u001b[38;5;124m'\u001b[39m][\u001b[38;5;124m'\u001b[39m\u001b[38;5;124mdisease\u001b[39m\u001b[38;5;124m'\u001b[39m][\u001b[38;5;124m'\u001b[39m\u001b[38;5;124mknownDrugs\u001b[39m\u001b[38;5;124m'\u001b[39m][\u001b[38;5;124m'\u001b[39m\u001b[38;5;124mrows\u001b[39m\u001b[38;5;124m'\u001b[39m])\n\u001b[1;32m--> 317\u001b[0m df \u001b[38;5;241m=\u001b[39m df\u001b[38;5;241m.\u001b[39mloc[\u001b[43mdf\u001b[49m\u001b[43m[\u001b[49m\u001b[38;5;124;43m'\u001b[39;49m\u001b[38;5;124;43mphase\u001b[39;49m\u001b[38;5;124;43m'\u001b[39;49m\u001b[43m]\u001b[49m \u001b[38;5;241m==\u001b[39m \u001b[38;5;28mint\u001b[39m(CT_phase),:]\n\u001b[0;32m    318\u001b[0m chembl_list \u001b[38;5;241m=\u001b[39m \u001b[38;5;28mlist\u001b[39m(\u001b[38;5;28mset\u001b[39m(df[\u001b[38;5;124m'\u001b[39m\u001b[38;5;124mdrugId\u001b[39m\u001b[38;5;124m'\u001b[39m]))\n\u001b[0;32m    319\u001b[0m \u001b[38;5;28;01mreturn\u001b[39;00m(chembl_list)\n",
      "File \u001b[1;32m~\\Anaconda3\\envs\\bycovid_new\\lib\\site-packages\\pandas\\core\\frame.py:3505\u001b[0m, in \u001b[0;36mDataFrame.__getitem__\u001b[1;34m(self, key)\u001b[0m\n\u001b[0;32m   3503\u001b[0m \u001b[38;5;28;01mif\u001b[39;00m \u001b[38;5;28mself\u001b[39m\u001b[38;5;241m.\u001b[39mcolumns\u001b[38;5;241m.\u001b[39mnlevels \u001b[38;5;241m>\u001b[39m \u001b[38;5;241m1\u001b[39m:\n\u001b[0;32m   3504\u001b[0m     \u001b[38;5;28;01mreturn\u001b[39;00m \u001b[38;5;28mself\u001b[39m\u001b[38;5;241m.\u001b[39m_getitem_multilevel(key)\n\u001b[1;32m-> 3505\u001b[0m indexer \u001b[38;5;241m=\u001b[39m \u001b[38;5;28;43mself\u001b[39;49m\u001b[38;5;241;43m.\u001b[39;49m\u001b[43mcolumns\u001b[49m\u001b[38;5;241;43m.\u001b[39;49m\u001b[43mget_loc\u001b[49m\u001b[43m(\u001b[49m\u001b[43mkey\u001b[49m\u001b[43m)\u001b[49m\n\u001b[0;32m   3506\u001b[0m \u001b[38;5;28;01mif\u001b[39;00m is_integer(indexer):\n\u001b[0;32m   3507\u001b[0m     indexer \u001b[38;5;241m=\u001b[39m [indexer]\n",
      "File \u001b[1;32m~\\Anaconda3\\envs\\bycovid_new\\lib\\site-packages\\pandas\\core\\indexes\\base.py:3623\u001b[0m, in \u001b[0;36mIndex.get_loc\u001b[1;34m(self, key, method, tolerance)\u001b[0m\n\u001b[0;32m   3621\u001b[0m     \u001b[38;5;28;01mreturn\u001b[39;00m \u001b[38;5;28mself\u001b[39m\u001b[38;5;241m.\u001b[39m_engine\u001b[38;5;241m.\u001b[39mget_loc(casted_key)\n\u001b[0;32m   3622\u001b[0m \u001b[38;5;28;01mexcept\u001b[39;00m \u001b[38;5;167;01mKeyError\u001b[39;00m \u001b[38;5;28;01mas\u001b[39;00m err:\n\u001b[1;32m-> 3623\u001b[0m     \u001b[38;5;28;01mraise\u001b[39;00m \u001b[38;5;167;01mKeyError\u001b[39;00m(key) \u001b[38;5;28;01mfrom\u001b[39;00m \u001b[38;5;21;01merr\u001b[39;00m\n\u001b[0;32m   3624\u001b[0m \u001b[38;5;28;01mexcept\u001b[39;00m \u001b[38;5;167;01mTypeError\u001b[39;00m:\n\u001b[0;32m   3625\u001b[0m     \u001b[38;5;66;03m# If we have a listlike key, _check_indexing_error will raise\u001b[39;00m\n\u001b[0;32m   3626\u001b[0m     \u001b[38;5;66;03m#  InvalidIndexError. Otherwise we fall through and re-raise\u001b[39;00m\n\u001b[0;32m   3627\u001b[0m     \u001b[38;5;66;03m#  the TypeError.\u001b[39;00m\n\u001b[0;32m   3628\u001b[0m     \u001b[38;5;28mself\u001b[39m\u001b[38;5;241m.\u001b[39m_check_indexing_error(key)\n",
      "\u001b[1;31mKeyError\u001b[0m: 'phase'"
     ]
    }
   ],
   "source": [
    "kg = createKG()"
   ]
  },
  {
   "cell_type": "code",
   "execution_count": null,
   "id": "8b36d40f",
   "metadata": {
    "scrolled": false
   },
   "outputs": [],
   "source": [
    "kg.summarize"
   ]
  },
  {
   "cell_type": "code",
   "execution_count": null,
   "id": "eb82d4c6",
   "metadata": {},
   "outputs": [],
   "source": [
    "to_jupyter(kg)"
   ]
  },
  {
   "cell_type": "code",
   "execution_count": null,
   "id": "9cbd4014",
   "metadata": {},
   "outputs": [],
   "source": [
    "KG_namespace_plot(kg)"
   ]
  }
 ],
 "metadata": {
  "kernelspec": {
   "display_name": "Python 3 (ipykernel)",
   "language": "python",
   "name": "python3"
  },
  "language_info": {
   "codemirror_mode": {
    "name": "ipython",
    "version": 3
   },
   "file_extension": ".py",
   "mimetype": "text/x-python",
   "name": "python",
   "nbconvert_exporter": "python",
   "pygments_lexer": "ipython3",
   "version": "3.10.4"
  }
 },
 "nbformat": 4,
 "nbformat_minor": 5
}
