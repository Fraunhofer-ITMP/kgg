{
 "cells": [
  {
   "cell_type": "markdown",
   "id": "95894b68",
   "metadata": {},
   "source": [
    "# KG Generator Tool"
   ]
  },
  {
   "cell_type": "markdown",
   "id": "e6cd5418",
   "metadata": {},
   "source": [
    "## Let's get started by importing relevant libraries"
   ]
  },
  {
   "cell_type": "code",
   "execution_count": null,
   "id": "35a63bc0",
   "metadata": {},
   "outputs": [],
   "source": [
    "#pip install -r requirements.txt"
   ]
  },
  {
   "cell_type": "code",
   "execution_count": null,
   "id": "b41fb83b",
   "metadata": {},
   "outputs": [],
   "source": [
    "import requests\n",
    "import json\n",
    "import pandas as pd\n",
    "import matplotlib.pyplot as plt\n",
    "import os\n",
    "from tqdm.auto import tqdm\n",
    "\n",
    "import pybel\n",
    "from pybel.io.jupyter import to_jupyter\n",
    "from utils import *\n",
    "from kg_gen_2 import *\n",
    "\n",
    "from IPython.display import Markdown, display"
   ]
  },
  {
   "cell_type": "markdown",
   "id": "7556a3fb",
   "metadata": {},
   "source": [
    "## Please execute following cells"
   ]
  },
  {
   "cell_type": "code",
   "execution_count": null,
   "id": "2036d66a",
   "metadata": {
    "scrolled": false
   },
   "outputs": [],
   "source": [
    "kg = createKG()"
   ]
  },
  {
   "cell_type": "code",
   "execution_count": null,
   "id": "8b36d40f",
   "metadata": {
    "scrolled": false
   },
   "outputs": [],
   "source": [
    "kg.summarize"
   ]
  },
  {
   "cell_type": "code",
   "execution_count": null,
   "id": "eb82d4c6",
   "metadata": {},
   "outputs": [],
   "source": [
    "to_jupyter(kg)"
   ]
  },
  {
   "cell_type": "code",
   "execution_count": null,
   "id": "9cbd4014",
   "metadata": {},
   "outputs": [],
   "source": [
    "KG_namespace_plot(kg)"
   ]
  },
  {
   "cell_type": "code",
   "execution_count": null,
   "id": "60d62608",
   "metadata": {},
   "outputs": [],
   "source": []
  },
  {
   "cell_type": "code",
   "execution_count": null,
   "id": "2cd795ba",
   "metadata": {},
   "outputs": [],
   "source": [
    "#For this example we are going to use the python default http library\n",
    "import requests\n",
    "\n",
    "#Build a dict with the following format, change the value of the two keys your DisGeNET account credentials, if you don't have an account you can create one here https://www.disgenet.org/signup/ \n",
    "auth_params = {\"email\":\"change@this.email\",\"password\":\"changethis\"}\n",
    "\n",
    "api_host = \"https://www.disgenet.org/api\"\n",
    "\n",
    "api_key = None\n",
    "s = requests.Session()\n",
    "try:\n",
    "    r = s.post(api_host+'/auth/', data=auth_params)\n",
    "    if(r.status_code == 200):\n",
    "        #Lets store the api key in a new variable and use it again in new requests\n",
    "        json_response = r.json()\n",
    "        api_key = json_response.get(\"token\")\n",
    "        print(api_key + \"This is your user API key.\") #Comment this line if you don't want your API key to show up in the terminal\n",
    "    else:\n",
    "        print(r.status_code)\n",
    "        print(r.text)\n",
    "except requests.exceptions.RequestException as req_ex:\n",
    "    print(req_ex)\n",
    "    print(\"Something went wrong with the request.\")\n",
    "\n",
    "if api_key:\n",
    "    #Add the api key to the requests headers of the requests Session object in order to use the restricted endpoints.\n",
    "    s.headers.update({\"Authorization\": \"Bearer %s\" % api_key}) \n",
    "    #Lets get all the diseases associated to a gene eg. APP (EntrezID 351) and restricted by a source.\n",
    "    gda_response = s.get(api_host+'/gda/gene/351', params={'source':'UNIPROT'})\n",
    "    print(gda_response.json())\n",
    "\n",
    "if s:\n",
    "    s.close()"
   ]
  },
  {
   "cell_type": "code",
   "execution_count": null,
   "id": "35f02317",
   "metadata": {},
   "outputs": [],
   "source": [
    "#For this example we are going to use the python default http library\n",
    "import requests\n",
    "\n",
    "#Build a dict with the following format, change the value of the two keys your DisGeNET account credentials, if you don't have an account you can create one here https://www.disgenet.org/signup/ \n",
    "auth_params = {\"email\":\"reagonkarki@gmail.com\",\"password\":\"Bhunti.87\"}\n",
    "\n",
    "api_host = \"https://www.disgenet.org/api\"\n",
    "\n",
    "api_key = 'e25cb13382cb9b016247822c49f325f75991e607'\n",
    "s = requests.Session()\n",
    "try:\n",
    "    r = s.post(api_host+'/auth/', data=auth_params)\n",
    "    if(r.status_code == 200):\n",
    "        #Lets store the api key in a new variable and use it again in new requests\n",
    "        json_response = r.json()\n",
    "        api_key = json_response.get(\"token\")\n",
    "        print(api_key + \"This is your user API key.\") #Comment this line if you don't want your API key to show up in the terminal\n",
    "    else:\n",
    "        print(r.status_code)\n",
    "        print(r.text)\n",
    "except requests.exceptions.RequestException as req_ex:\n",
    "    print(req_ex)\n",
    "    print(\"Something went wrong with the request.\")\n",
    "\n",
    "if api_key:\n",
    "    #Add the api key to the requests headers of the requests Session object in order to use the restricted endpoints.\n",
    "    s.headers.update({\"Authorization\": \"Bearer %s\" % api_key}) \n",
    "    #Lets get all the diseases associated to a gene eg. APP (EntrezID 351) and restricted by a source.\n",
    "    \n",
    "    #https://www.disgenet.org/api/vda/disease/D000544\n",
    "        \n",
    "    gda_response = s.get(api_host+'/vda/disease/mondo/0004975?type=disease&format=json')\n",
    "    #gda_response = s.get(api_host+'/gda/gene/351', params={'source':'UNIPROT'})\n",
    "    print(gda_response.json())\n",
    "\n",
    "if s:\n",
    "    s.close()"
   ]
  },
  {
   "cell_type": "code",
   "execution_count": null,
   "id": "6fea651d",
   "metadata": {},
   "outputs": [],
   "source": [
    "def GetDiseaseSNPs(disease_id): \n",
    "    \n",
    "    import requests\n",
    "    \n",
    "    doid = disease_id.split(\"_\")\n",
    "    print(doid)\n",
    "    \n",
    "    #For this example we are going to use the python default http library\n",
    "    \n",
    "\n",
    "    #Build a dict with the following format, change the value of the two keys your DisGeNET account credentials, if you don't have an account you can create one here https://www.disgenet.org/signup/ \n",
    "    auth_params = {\"email\":\"reagonkarki@gmail.com\",\"password\":\"Bhunti.87\"}\n",
    "\n",
    "    api_host = \"https://www.disgenet.org/api\"\n",
    "\n",
    "    api_key = 'e25cb13382cb9b016247822c49f325f75991e607'\n",
    "    s = requests.Session()\n",
    "\n",
    "    if api_key:\n",
    "        #Add the api key to the requests headers of the requests Session object in order to use the restricted endpoints.\n",
    "        s.headers.update({\"Authorization\": \"Bearer %s\" % api_key}) \n",
    "        #Lets get all the diseases associated to a gene eg. APP (EntrezID 351) and restricted by a source.\n",
    "\n",
    "        #https://www.disgenet.org/api/vda/disease/D000544\n",
    "    \n",
    "        gda_response = s.get(api_host+'/vda/disease/'+str(doid[0]).lower()+ \"/\" +str(doid[1]) +'?format=json')\n",
    "        #gda_response = s.get(api_host+'/gda/gene/351', params={'source':'UNIPROT'})\n",
    "\n",
    "        \n",
    "        gda_response = gda_response.json()\n",
    "        gda_response = pd.DataFrame(gda_response)\n",
    "        return(gda_response)\n",
    "\n",
    "    if s:\n",
    "        s.close()"
   ]
  },
  {
   "cell_type": "code",
   "execution_count": null,
   "id": "cceea822",
   "metadata": {},
   "outputs": [],
   "source": [
    "test = GetDiseaseSNPs('MONDO_0004975')"
   ]
  },
  {
   "cell_type": "code",
   "execution_count": null,
   "id": "1349e11d",
   "metadata": {},
   "outputs": [],
   "source": [
    "test = GetDiseaseSNPs('EFO_0000765')"
   ]
  },
  {
   "cell_type": "code",
   "execution_count": null,
   "id": "1f89a594",
   "metadata": {},
   "outputs": [],
   "source": [
    "test"
   ]
  },
  {
   "cell_type": "code",
   "execution_count": null,
   "id": "7821e0f6",
   "metadata": {},
   "outputs": [],
   "source": [
    "x ='OR5V1;OR12D3'\n",
    "#x = 'OR5V1'\n",
    "x = x.split(';')\n",
    "len(x)"
   ]
  },
  {
   "cell_type": "code",
   "execution_count": null,
   "id": "5da2dcd0",
   "metadata": {},
   "outputs": [],
   "source": [
    "def snp2gene_rel(snp_df,graph): \n",
    "    \n",
    "    #convert col to datatype == str to remove rows that have 'None' in gene_symbol\n",
    "    snp_df[['gene_symbol']] =  snp_df[['gene_symbol']].astype(str)\n",
    "    snp_df = snp_df.loc[snp_df['gene_symbol'] != \"None\"]\n",
    "    snp_df = snp_df.reset_index(drop=True)\n",
    "    \n",
    "    print(len(snp_df))\n",
    "    \n",
    "    for i in tqdm(range(len(snp_df)),desc='adding SNPs'):\n",
    "        genes = snp_df['gene_symbol'][i].split(';')\n",
    "        \n",
    "        for j in range(len(genes)):\n",
    "        \n",
    "            graph.add_association(\n",
    "                Gene(namespace=\"dbSNP\",name=snp_df['variantid'][i]),\n",
    "                Protein(namespace = \"HGNC\", name = genes[j]),\n",
    "                citation = \"DisGeNet\",\n",
    "                evidence = \"SNPs for queried disease\"\n",
    "            )\n",
    "    \n",
    "    return(graph)"
   ]
  },
  {
   "cell_type": "code",
   "execution_count": null,
   "id": "de9a2b94",
   "metadata": {},
   "outputs": [],
   "source": [
    "from pybel.dsl import Gene\n",
    "kg = pybel.BELGraph(name='test', version=\"0.0.1\")"
   ]
  },
  {
   "cell_type": "code",
   "execution_count": null,
   "id": "c7c39dca",
   "metadata": {},
   "outputs": [],
   "source": [
    "kg = snp2gene_rel(test,kg)"
   ]
  },
  {
   "cell_type": "code",
   "execution_count": null,
   "id": "a0537bb2",
   "metadata": {},
   "outputs": [],
   "source": [
    "kg = dbSNP_annotation(kg)"
   ]
  },
  {
   "cell_type": "code",
   "execution_count": null,
   "id": "c8588df8",
   "metadata": {},
   "outputs": [],
   "source": [
    "kg.summarize"
   ]
  },
  {
   "cell_type": "code",
   "execution_count": null,
   "id": "cd618862",
   "metadata": {},
   "outputs": [],
   "source": [
    "to_jupyter(kg)"
   ]
  },
  {
   "cell_type": "code",
   "execution_count": null,
   "id": "b2c3580c",
   "metadata": {},
   "outputs": [],
   "source": [
    "#list entities of interest separated by a space\n",
    "entityList = 'rs763059810 rs2395029 rs2284178'.split(' ')\n",
    "\n",
    "#prtn_attr = nx.get_node_attributes(kg,'UniProt')\n",
    "chem_attr = nx.get_node_attributes(kg,'source')\n",
    "#bionote_attr = nx.get_node_attributes(mpox_graph,'3Dbio')\n",
    "\n",
    "for node in kg.nodes():\n",
    "    unique_node = []\n",
    "    \n",
    "    if node.name in entityList:\n",
    "        if node not in unique_node:\n",
    "            \n",
    "            unique_node.append(node)\n",
    "            print(node.name)\n",
    "       \n",
    "            if isinstance(node,pybel.dsl.Gene):\n",
    "                print(chem_attr[node])\n",
    "                \n",
    "#             if isinstance(node,pybel.dsl.Protein):\n",
    "#                 print(prtn_attr[node])\n",
    "                \n",
    "#             if isinstance(node,pybel.dsl.Protein):\n",
    "#                 print(bionote_attr[node])\n",
    "            "
   ]
  },
  {
   "cell_type": "code",
   "execution_count": null,
   "id": "53d023eb",
   "metadata": {},
   "outputs": [],
   "source": [
    "chem_attr"
   ]
  },
  {
   "cell_type": "code",
   "execution_count": null,
   "id": "18b556d5",
   "metadata": {},
   "outputs": [],
   "source": []
  }
 ],
 "metadata": {
  "kernelspec": {
   "display_name": "Python 3 (ipykernel)",
   "language": "python",
   "name": "python3"
  },
  "language_info": {
   "codemirror_mode": {
    "name": "ipython",
    "version": 3
   },
   "file_extension": ".py",
   "mimetype": "text/x-python",
   "name": "python",
   "nbconvert_exporter": "python",
   "pygments_lexer": "ipython3",
   "version": "3.10.4"
  }
 },
 "nbformat": 4,
 "nbformat_minor": 5
}
