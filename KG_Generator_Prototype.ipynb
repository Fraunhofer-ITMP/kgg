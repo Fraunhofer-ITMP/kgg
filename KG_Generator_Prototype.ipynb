{
 "cells": [
  {
   "cell_type": "markdown",
   "id": "95894b68",
   "metadata": {},
   "source": [
    "# KG Generator Tool"
   ]
  },
  {
   "cell_type": "markdown",
   "id": "e6cd5418",
   "metadata": {},
   "source": [
    "## Let's get started by importing relevant libraries"
   ]
  },
  {
   "cell_type": "code",
   "execution_count": null,
   "id": "35a63bc0",
   "metadata": {},
   "outputs": [],
   "source": [
    "#pip install -r requirements.txt"
   ]
  },
  {
   "cell_type": "code",
   "execution_count": 1,
   "id": "b41fb83b",
   "metadata": {},
   "outputs": [
    {
     "name": "stderr",
     "output_type": "stream",
     "text": [
      "C:\\Users\\reagon.karki\\Anaconda3\\envs\\bycovid_new\\lib\\site-packages\\pybel\\struct\\operations.py:8: TqdmExperimentalWarning: Using `tqdm.autonotebook.tqdm` in notebook mode. Use `tqdm.tqdm` instead to force console mode (e.g. in jupyter console)\n",
      "  from tqdm.autonotebook import tqdm\n"
     ]
    }
   ],
   "source": [
    "from utils import *\n",
    "#from kg_gen_4_onlyProts import *\n",
    "\n",
    "from kg_gen_3 import *\n",
    "\n",
    "from IPython.display import Markdown, display"
   ]
  },
  {
   "cell_type": "markdown",
   "id": "7556a3fb",
   "metadata": {},
   "source": [
    "## Please execute following cells"
   ]
  },
  {
   "cell_type": "code",
   "execution_count": 2,
   "id": "65dd794b",
   "metadata": {
    "scrolled": false
   },
   "outputs": [
    {
     "data": {
      "image/png": "[encoded data removed]",
      "text/plain": [
       "<Figure size 216x216 with 1 Axes>"
      ]
     },
     "metadata": {
      "needs_background": "light"
     },
     "output_type": "display_data"
    },
    {
     "data": {
      "text/markdown": [
       "<span style='color:blue'>**Welcome to the KG Generator tool. In the following steps, we will need some inputs from your side.**</span>"
      ],
      "text/plain": [
       "<IPython.core.display.Markdown object>"
      ]
     },
     "metadata": {},
     "output_type": "display_data"
    },
    {
     "name": "stdout",
     "output_type": "stream",
     "text": [
      "Please enter the disease you are interested in and we will try to find the best matches for you.\n",
      "\n",
      "Input: depression\n"
     ]
    },
    {
     "data": {
      "text/html": [
       "<table border=\"1\" class=\"dataframe\">\n",
       "  <thead>\n",
       "    <tr style=\"text-align: right;\">\n",
       "      <th>index</th>\n",
       "      <th>id</th>\n",
       "      <th>name</th>\n",
       "    </tr>\n",
       "  </thead>\n",
       "  <tbody>\n",
       "    <tr>\n",
       "      <td>0</td>\n",
       "      <td>EFO_0003761</td>\n",
       "      <td>unipolar depression</td>\n",
       "    </tr>\n",
       "    <tr>\n",
       "      <td>1</td>\n",
       "      <td>MONDO_0002050</td>\n",
       "      <td>depressive disorder</td>\n",
       "    </tr>\n",
       "    <tr>\n",
       "      <td>2</td>\n",
       "      <td>EFO_0007453</td>\n",
       "      <td>postpartum depression</td>\n",
       "    </tr>\n",
       "    <tr>\n",
       "      <td>3</td>\n",
       "      <td>EFO_0009854</td>\n",
       "      <td>treatment resistant depression</td>\n",
       "    </tr>\n",
       "    <tr>\n",
       "      <td>4</td>\n",
       "      <td>EFO_0009842</td>\n",
       "      <td>respiratory depression</td>\n",
       "    </tr>\n",
       "    <tr>\n",
       "      <td>5</td>\n",
       "      <td>MONDO_0004985</td>\n",
       "      <td>bipolar disorder</td>\n",
       "    </tr>\n",
       "    <tr>\n",
       "      <td>6</td>\n",
       "      <td>MONDO_0008201</td>\n",
       "      <td>Perry syndrome</td>\n",
       "    </tr>\n",
       "    <tr>\n",
       "      <td>7</td>\n",
       "      <td>EFO_1002014</td>\n",
       "      <td>melancholia</td>\n",
       "    </tr>\n",
       "    <tr>\n",
       "      <td>8</td>\n",
       "      <td>MONDO_0010026</td>\n",
       "      <td>SHORT syndrome</td>\n",
       "    </tr>\n",
       "    <tr>\n",
       "      <td>9</td>\n",
       "      <td>EFO_0004257</td>\n",
       "      <td>neurotic disorder</td>\n",
       "    </tr>\n",
       "    <tr>\n",
       "      <td>10</td>\n",
       "      <td>EFO_0007006</td>\n",
       "      <td>depressive symptom measurement</td>\n",
       "    </tr>\n",
       "    <tr>\n",
       "      <td>11</td>\n",
       "      <td>HP_0009722</td>\n",
       "      <td>Dental enamel pits</td>\n",
       "    </tr>\n",
       "    <tr>\n",
       "      <td>12</td>\n",
       "      <td>EFO_0007704</td>\n",
       "      <td>depressive episode measurement</td>\n",
       "    </tr>\n",
       "    <tr>\n",
       "      <td>13</td>\n",
       "      <td>EFO_0005411</td>\n",
       "      <td>schizoaffective disorder</td>\n",
       "    </tr>\n",
       "    <tr>\n",
       "      <td>14</td>\n",
       "      <td>EFO_0005800</td>\n",
       "      <td>substance withdrawal syndrome</td>\n",
       "    </tr>\n",
       "    <tr>\n",
       "      <td>15</td>\n",
       "      <td>HP_0000490</td>\n",
       "      <td>Deeply set eye</td>\n",
       "    </tr>\n",
       "    <tr>\n",
       "      <td>16</td>\n",
       "      <td>HP_0001075</td>\n",
       "      <td>Atrophic scars</td>\n",
       "    </tr>\n",
       "    <tr>\n",
       "      <td>17</td>\n",
       "      <td>EFO_0008623</td>\n",
       "      <td>dysthymic disorder</td>\n",
       "    </tr>\n",
       "    <tr>\n",
       "      <td>18</td>\n",
       "      <td>MONDO_0014024</td>\n",
       "      <td>hereditary spastic paraplegia 43</td>\n",
       "    </tr>\n",
       "    <tr>\n",
       "      <td>19</td>\n",
       "      <td>MONDO_0004169</td>\n",
       "      <td>premenstrual tension</td>\n",
       "    </tr>\n",
       "  </tbody>\n",
       "</table>"
      ],
      "text/plain": [
       "<IPython.core.display.HTML object>"
      ]
     },
     "metadata": {},
     "output_type": "display_data"
    },
    {
     "data": {
      "text/markdown": [
       "<span style='color:None'>**Here you go! Hopefully your disease of interest is in the list. If so, let's get started.**</span>"
      ],
      "text/plain": [
       "<IPython.core.display.Markdown object>"
      ]
     },
     "metadata": {},
     "output_type": "display_data"
    },
    {
     "name": "stdout",
     "output_type": "stream",
     "text": [
      "Please enter the index value of your disease of interest. Input: 0\n",
      "\n",
      "\n",
      "Please enter the clinical trial phase of chemicals which should be identified by the workflow. Use a number between 1 (early phase) and 4 (FDA approved). For example, if you use 3, the KG will fetch chemicals that are in phase 3. Also, remember that lower the input value, higher will be the number of identified chemicals and therefore the running time of workflow also increases.\n",
      "\n",
      "\n",
      "Your desired clinical trial phase: 1\n",
      "\n",
      "\n",
      "Please provide a name for you KG. Input: depression_dec7\n",
      "\n",
      "\n",
      "We have identified 2074 proteins (Swiss-Prot) associated with the disease. Please note that the proteins identified may not be unique if you combined two or more diseases. Following is a histogram that shows distribution of proteins based on scores provided by OpenTargets. The scores are influenced by various factors such as genetic associations, expression, mutations, known pathways, targeting drugs and so on.\n",
      "\n",
      "A total of 2069 unique proteins have been identified.\n",
      "\n",
      "\n",
      "Displaying top 20 genes\n"
     ]
    },
    {
     "data": {
      "text/html": [
       "<table border=\"1\" class=\"dataframe\">\n",
       "  <thead>\n",
       "    <tr style=\"text-align: right;\">\n",
       "      <th>Protein</th>\n",
       "      <th>ENSG</th>\n",
       "      <th>UniProt</th>\n",
       "      <th>Source</th>\n",
       "      <th>Score</th>\n",
       "      <th>disease_id</th>\n",
       "    </tr>\n",
       "  </thead>\n",
       "  <tbody>\n",
       "    <tr>\n",
       "      <td>DRD2</td>\n",
       "      <td>ENSG00000149295</td>\n",
       "      <td>P14416</td>\n",
       "      <td>uniprot_swissprot</td>\n",
       "      <td>0.710311</td>\n",
       "      <td>EFO_0003761</td>\n",
       "    </tr>\n",
       "    <tr>\n",
       "      <td>GRIN2A</td>\n",
       "      <td>ENSG00000183454</td>\n",
       "      <td>Q12879</td>\n",
       "      <td>uniprot_swissprot</td>\n",
       "      <td>0.653392</td>\n",
       "      <td>EFO_0003761</td>\n",
       "    </tr>\n",
       "    <tr>\n",
       "      <td>SLC6A4</td>\n",
       "      <td>ENSG00000108576</td>\n",
       "      <td>P31645</td>\n",
       "      <td>uniprot_swissprot</td>\n",
       "      <td>0.631193</td>\n",
       "      <td>EFO_0003761</td>\n",
       "    </tr>\n",
       "    <tr>\n",
       "      <td>SLC6A3</td>\n",
       "      <td>ENSG00000142319</td>\n",
       "      <td>Q01959</td>\n",
       "      <td>uniprot_swissprot</td>\n",
       "      <td>0.617103</td>\n",
       "      <td>EFO_0003761</td>\n",
       "    </tr>\n",
       "    <tr>\n",
       "      <td>SLC6A2</td>\n",
       "      <td>ENSG00000103546</td>\n",
       "      <td>P23975</td>\n",
       "      <td>uniprot_swissprot</td>\n",
       "      <td>0.614781</td>\n",
       "      <td>EFO_0003761</td>\n",
       "    </tr>\n",
       "    <tr>\n",
       "      <td>HTR2A</td>\n",
       "      <td>ENSG00000102468</td>\n",
       "      <td>P28223</td>\n",
       "      <td>uniprot_swissprot</td>\n",
       "      <td>0.613892</td>\n",
       "      <td>EFO_0003761</td>\n",
       "    </tr>\n",
       "    <tr>\n",
       "      <td>GABRA1</td>\n",
       "      <td>ENSG00000022355</td>\n",
       "      <td>P14867</td>\n",
       "      <td>uniprot_swissprot</td>\n",
       "      <td>0.609749</td>\n",
       "      <td>EFO_0003761</td>\n",
       "    </tr>\n",
       "    <tr>\n",
       "      <td>HTR2C</td>\n",
       "      <td>ENSG00000147246</td>\n",
       "      <td>P28335</td>\n",
       "      <td>uniprot_swissprot</td>\n",
       "      <td>0.608697</td>\n",
       "      <td>EFO_0003761</td>\n",
       "    </tr>\n",
       "    <tr>\n",
       "      <td>GABRG3</td>\n",
       "      <td>ENSG00000182256</td>\n",
       "      <td>Q99928</td>\n",
       "      <td>uniprot_swissprot</td>\n",
       "      <td>0.608363</td>\n",
       "      <td>EFO_0003761</td>\n",
       "    </tr>\n",
       "    <tr>\n",
       "      <td>GABRA2</td>\n",
       "      <td>ENSG00000151834</td>\n",
       "      <td>P47869</td>\n",
       "      <td>uniprot_swissprot</td>\n",
       "      <td>0.608178</td>\n",
       "      <td>EFO_0003761</td>\n",
       "    </tr>\n",
       "    <tr>\n",
       "      <td>GABRA5</td>\n",
       "      <td>ENSG00000186297</td>\n",
       "      <td>P31644</td>\n",
       "      <td>uniprot_swissprot</td>\n",
       "      <td>0.606515</td>\n",
       "      <td>EFO_0003761</td>\n",
       "    </tr>\n",
       "    <tr>\n",
       "      <td>ADRA2A</td>\n",
       "      <td>ENSG00000150594</td>\n",
       "      <td>P08913</td>\n",
       "      <td>uniprot_swissprot</td>\n",
       "      <td>0.606146</td>\n",
       "      <td>EFO_0003761</td>\n",
       "    </tr>\n",
       "    <tr>\n",
       "      <td>GABRA3</td>\n",
       "      <td>ENSG00000011677</td>\n",
       "      <td>P34903</td>\n",
       "      <td>uniprot_swissprot</td>\n",
       "      <td>0.605591</td>\n",
       "      <td>EFO_0003761</td>\n",
       "    </tr>\n",
       "    <tr>\n",
       "      <td>GABRG2</td>\n",
       "      <td>ENSG00000113327</td>\n",
       "      <td>P18507</td>\n",
       "      <td>uniprot_swissprot</td>\n",
       "      <td>0.605037</td>\n",
       "      <td>EFO_0003761</td>\n",
       "    </tr>\n",
       "    <tr>\n",
       "      <td>HTR1A</td>\n",
       "      <td>ENSG00000178394</td>\n",
       "      <td>P08908</td>\n",
       "      <td>uniprot_swissprot</td>\n",
       "      <td>0.604962</td>\n",
       "      <td>EFO_0003761</td>\n",
       "    </tr>\n",
       "    <tr>\n",
       "      <td>GABRG1</td>\n",
       "      <td>ENSG00000163285</td>\n",
       "      <td>Q8N1C3</td>\n",
       "      <td>uniprot_swissprot</td>\n",
       "      <td>0.604667</td>\n",
       "      <td>EFO_0003761</td>\n",
       "    </tr>\n",
       "    <tr>\n",
       "      <td>ADRA2C</td>\n",
       "      <td>ENSG00000184160</td>\n",
       "      <td>P18825</td>\n",
       "      <td>uniprot_swissprot</td>\n",
       "      <td>0.604586</td>\n",
       "      <td>EFO_0003761</td>\n",
       "    </tr>\n",
       "    <tr>\n",
       "      <td>ADRA2B</td>\n",
       "      <td>ENSG00000274286</td>\n",
       "      <td>P18089</td>\n",
       "      <td>uniprot_swissprot</td>\n",
       "      <td>0.603662</td>\n",
       "      <td>EFO_0003761</td>\n",
       "    </tr>\n",
       "    <tr>\n",
       "      <td>GRIN2B</td>\n",
       "      <td>ENSG00000273079</td>\n",
       "      <td>Q13224</td>\n",
       "      <td>uniprot_swissprot</td>\n",
       "      <td>0.598315</td>\n",
       "      <td>EFO_0003761</td>\n",
       "    </tr>\n",
       "    <tr>\n",
       "      <td>SCN1A</td>\n",
       "      <td>ENSG00000144285</td>\n",
       "      <td>P35498</td>\n",
       "      <td>uniprot_swissprot</td>\n",
       "      <td>0.598179</td>\n",
       "      <td>EFO_0003761</td>\n",
       "    </tr>\n",
       "  </tbody>\n",
       "</table>"
      ],
      "text/plain": [
       "<IPython.core.display.HTML object>"
      ]
     },
     "metadata": {},
     "output_type": "display_data"
    },
    {
     "data": {
      "image/png": "[encoded data removed]",
      "text/plain": [
       "<Figure size 432x288 with 1 Axes>"
      ]
     },
     "metadata": {
      "needs_background": "light"
     },
     "output_type": "display_data"
    },
    {
     "name": "stdout",
     "output_type": "stream",
     "text": [
      "\n",
      "\n",
      "We recommend taking a threshold above 0.3 to exclude loosely associated proteins. \n",
      "Please enter your desired threshold: 0.0\n",
      "\n",
      "\n",
      "Alright, we are good to go now. Your KG is now being generated! Sit back and relax!!\n",
      "\n",
      " Total no. of proteins:  2074\n",
      "\n",
      "      Protein             ENSG UniProt             Source     Score  \\\n",
      "0       DRD2  ENSG00000149295  P14416  uniprot_swissprot  0.710311   \n",
      "1     GRIN2A  ENSG00000183454  Q12879  uniprot_swissprot  0.653392   \n",
      "2     SLC6A4  ENSG00000108576  P31645  uniprot_swissprot  0.631193   \n",
      "3     SLC6A3  ENSG00000142319  Q01959  uniprot_swissprot  0.617103   \n",
      "4     SLC6A2  ENSG00000103546  P23975  uniprot_swissprot  0.614781   \n",
      "...      ...              ...     ...                ...       ...   \n",
      "2069   ALDOC  ENSG00000109107  P09972  uniprot_swissprot  0.001478   \n",
      "2070    WFS1  ENSG00000109501  O76024  uniprot_swissprot  0.001478   \n",
      "2071  LRATD1  ENSG00000162981  Q96KN4  uniprot_swissprot  0.001478   \n",
      "2072  NAP1L4  ENSG00000205531  Q99733  uniprot_swissprot  0.001478   \n",
      "2073    FGF1  ENSG00000113578  P05230  uniprot_swissprot  0.001478   \n",
      "\n",
      "       disease_id  \n",
      "0     EFO_0003761  \n",
      "1     EFO_0003761  \n",
      "2     EFO_0003761  \n",
      "3     EFO_0003761  \n",
      "4     EFO_0003761  \n",
      "...           ...  \n",
      "2069  EFO_0003761  \n",
      "2070  EFO_0003761  \n",
      "2071  EFO_0003761  \n",
      "2072  EFO_0003761  \n",
      "2073  EFO_0003761  \n",
      "\n",
      "[2074 rows x 6 columns]\n"
     ]
    },
    {
     "data": {
      "application/vnd.jupyter.widget-view+json": {
       "model_id": "a065cbc7bc864b6d9529668f6a683dcd",
       "version_major": 2,
       "version_minor": 0
      },
      "text/plain": [
       "Fetching Protein-related info:   0%|          | 0/2069 [00:00<?, ?it/s]"
      ]
     },
     "metadata": {},
     "output_type": "display_data"
    },
    {
     "name": "stdout",
     "output_type": "stream",
     "text": [
      "A total of 109 drugs have been identified. Now fetching relevant data\n"
     ]
    },
    {
     "data": {
      "application/vnd.jupyter.widget-view+json": {
       "model_id": "8858741cde5849f68ca4be7c466ebd79",
       "version_major": 2,
       "version_minor": 0
      },
      "text/plain": [
       "Retrieving mechanisms from ChEMBL:   0%|          | 0/109 [00:00<?, ?it/s]"
      ]
     },
     "metadata": {},
     "output_type": "display_data"
    },
    {
     "data": {
      "application/vnd.jupyter.widget-view+json": {
       "model_id": "4ff1e35b9d8447ffa1564df28e4fe774",
       "version_major": 2,
       "version_minor": 0
      },
      "text/plain": [
       "Retrieving bioassays from ChEMBL:   0%|          | 0/109 [00:00<?, ?it/s]"
      ]
     },
     "metadata": {},
     "output_type": "display_data"
    },
    {
     "data": {
      "application/vnd.jupyter.widget-view+json": {
       "model_id": "f2c05fba44af463ebf085237e5974bc9",
       "version_major": 2,
       "version_minor": 0
      },
      "text/plain": [
       "Filtering UniProt proteins from ChEMBL:   0%|          | 0/106 [00:00<?, ?it/s]"
      ]
     },
     "metadata": {},
     "output_type": "display_data"
    },
    {
     "data": {
      "application/vnd.jupyter.widget-view+json": {
       "model_id": "5a9827d0a4bb47249109c9be0c3cfd7e",
       "version_major": 2,
       "version_minor": 0
      },
      "text/plain": [
       "Filtering human proteins from ChEMBL:   0%|          | 0/106 [00:00<?, ?it/s]"
      ]
     },
     "metadata": {},
     "output_type": "display_data"
    },
    {
     "data": {
      "application/vnd.jupyter.widget-view+json": {
       "model_id": "07f832aed53342bf8cd2bda56a555b9c",
       "version_major": 2,
       "version_minor": 0
      },
      "text/plain": [
       "Populating ChEMBL data for human proteins:   0%|          | 0/106 [00:00<?, ?it/s]"
      ]
     },
     "metadata": {},
     "output_type": "display_data"
    },
    {
     "data": {
      "application/vnd.jupyter.widget-view+json": {
       "model_id": "50b2b1345816451fb863f03cfe9c3e15",
       "version_major": 2,
       "version_minor": 0
      },
      "text/plain": [
       "Populating Uniprot edges:   0%|          | 0/2069 [00:00<?, ?it/s]"
      ]
     },
     "metadata": {},
     "output_type": "display_data"
    },
    {
     "data": {
      "application/vnd.jupyter.widget-view+json": {
       "model_id": "e1fb89c7d6284df6bb4bb30343872266",
       "version_major": 2,
       "version_minor": 0
      },
      "text/plain": [
       "Populating Chemical-MoA edges:   0%|          | 0/71 [00:00<?, ?it/s]"
      ]
     },
     "metadata": {},
     "output_type": "display_data"
    },
    {
     "data": {
      "application/vnd.jupyter.widget-view+json": {
       "model_id": "b52fb8d978094c8eb14e1200fee85ad1",
       "version_major": 2,
       "version_minor": 0
      },
      "text/plain": [
       "Adding bioassay edges to BEL:   0%|          | 0/60 [00:00<?, ?it/s]"
      ]
     },
     "metadata": {},
     "output_type": "display_data"
    },
    {
     "data": {
      "application/vnd.jupyter.widget-view+json": {
       "model_id": "6169e842cd3e409989980b7264e6523a",
       "version_major": 2,
       "version_minor": 0
      },
      "text/plain": [
       "Retrieving Adverse Effects for each drug:   0%|          | 0/109 [00:00<?, ?it/s]"
      ]
     },
     "metadata": {},
     "output_type": "display_data"
    },
    {
     "name": "stdout",
     "output_type": "stream",
     "text": [
      "A total of 1735 SNPs have been identified from DisGeNET. Now adding relevant data\n",
      "\n",
      "\n"
     ]
    },
    {
     "data": {
      "application/vnd.jupyter.widget-view+json": {
       "model_id": "3b1444088f1c4df39a644e4fc0a87a02",
       "version_major": 2,
       "version_minor": 0
      },
      "text/plain": [
       "Adding disease associated SNPs:   0%|          | 0/1352 [00:00<?, ?it/s]"
      ]
     },
     "metadata": {},
     "output_type": "display_data"
    },
    {
     "name": "stdout",
     "output_type": "stream",
     "text": [
      "Your KG is now generated! \n",
      "\n",
      "Now let's save all the files that were created in the process. \n",
      "\n",
      "Please enter the location (e.g. 'C:\\Users\\rkarki\\Documents\\kg\\' ) where KG files should be stored. A folder will be created automatically. \n",
      "\n",
      "Input: C:\\Users\\reagon.karki\\Documents\\GitHub\\kgg\\data\\kgs\\ndd\\\n"
     ]
    },
    {
     "data": {
      "image/png": "[encoded data removed]",
      "text/plain": [
       "<Figure size 432x288 with 1 Axes>"
      ]
     },
     "metadata": {
      "needs_background": "light"
     },
     "output_type": "display_data"
    }
   ],
   "source": [
    "kg = createKG()"
   ]
  },
  {
   "cell_type": "code",
   "execution_count": null,
   "id": "1b19c277",
   "metadata": {},
   "outputs": [],
   "source": [
    "#kg.to_csv('data/kgs/test/cvd.csv')"
   ]
  },
  {
   "cell_type": "code",
   "execution_count": 3,
   "id": "8b36d40f",
   "metadata": {
    "scrolled": false
   },
   "outputs": [
    {
     "data": {
      "text/html": [
       "            <h2>Metadata</h2>\n",
       "            <table>\n",
       "<tbody>\n",
       "<tr><td>Name   </td><td>depression_dec7</td></tr>\n",
       "<tr><td>Version</td><td>0.0.1          </td></tr>\n",
       "</tbody>\n",
       "</table>\n",
       "            <h2>Statistics</h2>\n",
       "            <table>\n",
       "<tbody>\n",
       "<tr><td>Nodes          </td><td style=\"text-align: right;\">15047       </td></tr>\n",
       "<tr><td>Namespaces     </td><td style=\"text-align: right;\">    9       </td></tr>\n",
       "<tr><td>Edges          </td><td style=\"text-align: right;\">89531       </td></tr>\n",
       "<tr><td>Annotations    </td><td style=\"text-align: right;\">    0       </td></tr>\n",
       "<tr><td>Citations      </td><td style=\"text-align: right;\">    4       </td></tr>\n",
       "<tr><td>Authors        </td><td style=\"text-align: right;\">    0       </td></tr>\n",
       "<tr><td>Components     </td><td style=\"text-align: right;\">  273       </td></tr>\n",
       "<tr><td>Warnings       </td><td style=\"text-align: right;\">    0       </td></tr>\n",
       "<tr><td>Network Density</td><td style=\"text-align: right;\">    0.000395</td></tr>\n",
       "</tbody>\n",
       "</table>\n",
       "            <h2>Nodes</h2>\n",
       "            <table>\n",
       "<thead>\n",
       "<tr><th>Type             </th><th style=\"text-align: right;\">  Count</th><th>Example                                         </th></tr>\n",
       "</thead>\n",
       "<tbody>\n",
       "<tr><td>BiologicalProcess</td><td style=\"text-align: right;\">   9060</td><td>bp(GOBP:&quot;calcium import into the mitochondrion&quot;)</td></tr>\n",
       "<tr><td>Protein          </td><td style=\"text-align: right;\">   2429</td><td>p(HGNC:DAZAP2)                                  </td></tr>\n",
       "<tr><td>Pathology        </td><td style=\"text-align: right;\">   1425</td><td>path(SideEffect:delusion)                       </td></tr>\n",
       "<tr><td>Gene             </td><td style=\"text-align: right;\">   1136</td><td>g(dbSNP:rs2075650)                              </td></tr>\n",
       "<tr><td>Abundance        </td><td style=\"text-align: right;\">    997</td><td>a(ChEMBLAssay:CHEMBL616366)                     </td></tr>\n",
       "</tbody>\n",
       "</table>\n",
       "            <h2>Namespaces</h2>\n",
       "            <table>\n",
       "<thead>\n",
       "<tr><th>Prefix     </th><th>Name                            </th><th style=\"text-align: right;\">  Count</th><th>Example                                                            </th></tr>\n",
       "</thead>\n",
       "<tbody>\n",
       "<tr><td>GOBP       </td><td>Gene Ontology                   </td><td style=\"text-align: right;\">   6875</td><td>bp(GOBP:&quot;positive regulation of inflammatory response to wounding&quot;)</td></tr>\n",
       "<tr><td>HGNC       </td><td>HUGO Gene Nomenclature Committee</td><td style=\"text-align: right;\">   2429</td><td>p(HGNC:INSL5)                                                      </td></tr>\n",
       "<tr><td>GOMF       </td><td>Gene Ontology                   </td><td style=\"text-align: right;\">   1962</td><td>bp(GOMF:&quot;dihydropyrimidine dehydrogenase (NADP+) activity&quot;)        </td></tr>\n",
       "<tr><td>SideEffect </td><td>                                </td><td style=\"text-align: right;\">   1425</td><td>path(SideEffect:&quot;caesarean section&quot;)                               </td></tr>\n",
       "<tr><td>dbSNP      </td><td>NCBI dbSNP                      </td><td style=\"text-align: right;\">   1136</td><td>g(dbSNP:rs1011633)                                                 </td></tr>\n",
       "<tr><td>ChEMBLAssay</td><td>                                </td><td style=\"text-align: right;\">    889</td><td>a(ChEMBLAssay:CHEMBL751261)                                        </td></tr>\n",
       "<tr><td>Reactome   </td><td>Reactome                        </td><td style=\"text-align: right;\">    179</td><td>bp(Reactome:&quot;Cargo recognition for clathrin-mediated endocytosis.&quot;)</td></tr>\n",
       "<tr><td>ChEMBL     </td><td>ChEMBL                          </td><td style=\"text-align: right;\">    108</td><td>a(ChEMBL:CHEMBL1201735)                                            </td></tr>\n",
       "<tr><td>MOA        </td><td>                                </td><td style=\"text-align: right;\">     44</td><td>bp(MOA:&quot;Cyclooxygenase-2 inhibitor&quot;)                               </td></tr>\n",
       "</tbody>\n",
       "</table>\n",
       "            <h2>Edges</h2>\n",
       "            <table>\n",
       "<thead>\n",
       "<tr><th>Edge Type                              </th><th style=\"text-align: right;\">  Count</th><th>Example                                                                                   </th></tr>\n",
       "</thead>\n",
       "<tbody>\n",
       "<tr><td>Protein association BiologicalProcess  </td><td style=\"text-align: right;\">  36907</td><td>p(HGNC:CX3CR1) association bp(GOBP:&quot;negative regulation of interleukin-1 beta production&quot;)</td></tr>\n",
       "<tr><td>Pathology association Abundance        </td><td style=\"text-align: right;\">   4305</td><td>path(SideEffect:&quot;pulmonary valve stenosis&quot;) association a(ChEMBL:CHEMBL1708)              </td></tr>\n",
       "<tr><td>Protein association Gene               </td><td style=\"text-align: right;\">   1395</td><td>p(HGNC:BDNF) association g(dbSNP:rs1048220)                                               </td></tr>\n",
       "<tr><td>Protein association Abundance          </td><td style=\"text-align: right;\">    890</td><td>p(HGNC:AR) association a(ChEMBLAssay:CHEMBL647748)                                        </td></tr>\n",
       "<tr><td>BiologicalProcess association Abundance</td><td style=\"text-align: right;\">    112</td><td>bp(MOA:&quot;Beta-2 adrenergic receptor partial agonist&quot;) association a(ChEMBL:CHEMBL500)      </td></tr>\n",
       "<tr><td>Abundance decreases Protein            </td><td style=\"text-align: right;\">     87</td><td>a(ChEMBL:CHEMBL1921847) decreases p(HGNC:OPRK1)                                           </td></tr>\n",
       "<tr><td>Abundance increases Protein            </td><td style=\"text-align: right;\">     24</td><td>a(ChEMBL:CHEMBL1162) increases p(HGNC:PGR)                                                </td></tr>\n",
       "</tbody>\n",
       "</table>\n"
      ],
      "text/plain": [
       "<pybel.struct.graph.SummarizeDispatch at 0x1e0d6c4d6c0>"
      ]
     },
     "execution_count": 3,
     "metadata": {},
     "output_type": "execute_result"
    }
   ],
   "source": [
    "kg.summarize"
   ]
  },
  {
   "cell_type": "code",
   "execution_count": null,
   "id": "eb82d4c6",
   "metadata": {},
   "outputs": [],
   "source": [
    "to_jupyter(kg)"
   ]
  },
  {
   "cell_type": "code",
   "execution_count": null,
   "id": "9cbd4014",
   "metadata": {},
   "outputs": [],
   "source": [
    "KG_namespace_plot(kg)"
   ]
  },
  {
   "cell_type": "code",
   "execution_count": null,
   "id": "82791e85",
   "metadata": {},
   "outputs": [],
   "source": []
  },
  {
   "cell_type": "code",
   "execution_count": null,
   "id": "f3a51158",
   "metadata": {},
   "outputs": [],
   "source": [
    "test = pd.read_csv('data/kgs/test/t2dm.csv')\n",
    "test.head(5)\n",
    "test = list(set(list(test['UniProt'])))\n",
    "len(test)"
   ]
  },
  {
   "cell_type": "code",
   "execution_count": null,
   "id": "f7b078b0",
   "metadata": {},
   "outputs": [],
   "source": [
    "def ExtractFromUniProt(uniprot_id) -> dict:\n",
    "    \"\"\"Uniprot parser to retrieve information about OMIM disease, reactome pathway, biological process,\n",
    "     and molecular functions.\n",
    "\n",
    "    :param uniprot_id:\n",
    "    :return:\n",
    "    \"\"\"\n",
    "    Uniprot_Dict = []\n",
    "\n",
    "    mapped_uprot = []\n",
    "\n",
    "    for id in tqdm(uniprot_id, desc='Fetching Protein-related info'):\n",
    "        \n",
    "        print(id)\n",
    "\n",
    "        # Retrieve data for id in text format if found in uniprot\n",
    "        ret_uprot = requests.get(\n",
    "            'https://www.uniprot.org/uniprot/' + id + '.txt'\n",
    "        ).text.split('\\n')\n",
    "        \n",
    "        #return(ret_uprot)\n",
    "\n",
    "        if ret_uprot == ['']:\n",
    "            continue\n",
    "\n",
    "        id_copy = id\n",
    "        mapped_uprot.append(id_copy)\n",
    "        i = 0\n",
    "        j = 0\n",
    "        k = 0\n",
    "        id = {}\n",
    "        id['Disease'] = {}\n",
    "        id['Reactome'] = {}\n",
    "        id['Function'] = {}\n",
    "        id['BioProcess'] = {}\n",
    "        id['Gene'] = {}\n",
    "\n",
    "        # parse each line looking for info about disease, pathway, funcn, bp and so on\n",
    "        for line in ret_uprot:\n",
    "            # parse lines with disease and extract disease names and omim ids\n",
    "            if '-!- DISEASE:' in line:\n",
    "                if ('[MIM:' in line):\n",
    "                    dis = line.split(':')\n",
    "                    id['Disease'].update({dis[1][1:-5]: dis[2][:-1]})\n",
    "\n",
    "            # extract reactome ids and names\n",
    "            if 'Reactome;' in line:\n",
    "                ract = line.split(';')\n",
    "                id['Reactome'].update({ract[2][1:-2]: ract[1][1:]})\n",
    "\n",
    "            # look for functions\n",
    "            if ' F:' in line:\n",
    "                if j < 5:\n",
    "                    fn = line.split(';')\n",
    "                    id['Function'].update({fn[2][3:]: fn[1][1:]})\n",
    "                    j += 1\n",
    "\n",
    "            # look for biological processes\n",
    "            if ' P:' in line and 'GO;' in line:\n",
    "                if i < 5:\n",
    "                    bp = line.split(';')\n",
    "                    # bp returns list with GO ids and names\n",
    "                    id['BioProcess'].update({bp[2][3:]: bp[1][1:]})\n",
    "                    i += 1\n",
    "\n",
    "            if 'GN   Name' in line:\n",
    "                if k == 0:\n",
    "                    gene = line.split('=')\n",
    "                    gene = gene[1].split(' ')\n",
    "                    if ';' in gene[0]:\n",
    "                        gene = gene[0].split(';')\n",
    "                        gene = {'Gene': gene[0]}\n",
    "                    else:\n",
    "                        gene = {'Gene': gene[0]}\n",
    "                    id.update(gene)\n",
    "                    k += 1\n",
    "\n",
    "        Uniprot_Dict.append(id)\n",
    "\n",
    "    Uniprot_Dict = dict(zip(mapped_uprot, Uniprot_Dict))\n",
    "\n",
    "    return Uniprot_Dict"
   ]
  },
  {
   "cell_type": "code",
   "execution_count": null,
   "id": "68bce560",
   "metadata": {},
   "outputs": [],
   "source": [
    "xx = ExtractFromUniProt(test[4790:4800])"
   ]
  },
  {
   "cell_type": "code",
   "execution_count": null,
   "id": "703cc6c0",
   "metadata": {},
   "outputs": [],
   "source": [
    "xx"
   ]
  },
  {
   "cell_type": "code",
   "execution_count": null,
   "id": "6c2cb501",
   "metadata": {},
   "outputs": [],
   "source": []
  },
  {
   "cell_type": "code",
   "execution_count": null,
   "id": "52ef209d",
   "metadata": {},
   "outputs": [],
   "source": []
  },
  {
   "cell_type": "code",
   "execution_count": null,
   "id": "7e25f815",
   "metadata": {},
   "outputs": [],
   "source": []
  },
  {
   "cell_type": "code",
   "execution_count": null,
   "id": "a0c8c008",
   "metadata": {},
   "outputs": [],
   "source": []
  },
  {
   "cell_type": "code",
   "execution_count": null,
   "id": "2651ef06",
   "metadata": {},
   "outputs": [],
   "source": []
  },
  {
   "cell_type": "markdown",
   "id": "8b7ff7e7",
   "metadata": {},
   "source": [
    "# Additional stuff"
   ]
  },
  {
   "cell_type": "code",
   "execution_count": null,
   "id": "04d8905e",
   "metadata": {},
   "outputs": [],
   "source": [
    "infile= open('data/kgs/ndd/ad/ad.pkl','rb')\n",
    "graph= pickle.load(infile)\n",
    "infile.close()"
   ]
  },
  {
   "cell_type": "code",
   "execution_count": null,
   "id": "e38ef4f0",
   "metadata": {},
   "outputs": [],
   "source": [
    "graph.summarize"
   ]
  },
  {
   "cell_type": "code",
   "execution_count": null,
   "id": "15f3a2ec",
   "metadata": {},
   "outputs": [],
   "source": [
    "prot = pd.read_csv('data/kgs/ndd/ad/diseaseAssociatedProteins.csv')\n",
    "prot = list(prot['Protein'])\n",
    "prot = prot[1:6]\n",
    "\n",
    "chem = pd.read_csv('data/kgs/ndd/ad/diseaseAssociatedDrugs.csv')\n",
    "chem = list(chem['drugId'])\n",
    "chem = chem[1:6]\n",
    "\n",
    "prot_chem = prot + chem"
   ]
  },
  {
   "cell_type": "code",
   "execution_count": null,
   "id": "3fd3155a",
   "metadata": {},
   "outputs": [],
   "source": [
    "prot_chem"
   ]
  },
  {
   "cell_type": "code",
   "execution_count": null,
   "id": "1ffa6482",
   "metadata": {},
   "outputs": [],
   "source": [
    "query_graph = filter_graph(graph,prot_chem)"
   ]
  },
  {
   "cell_type": "code",
   "execution_count": null,
   "id": "32c30f69",
   "metadata": {
    "scrolled": false
   },
   "outputs": [],
   "source": [
    "to_jupyter(query_graph)"
   ]
  },
  {
   "cell_type": "code",
   "execution_count": null,
   "id": "df642fa9",
   "metadata": {},
   "outputs": [],
   "source": [
    "prtn_attr = nx.get_node_attributes(graph,'UniProt')\n",
    "bionote_attr = nx.get_node_attributes(graph,'3Dbio')\n",
    "\n",
    "for node in graph.nodes():\n",
    "    unique_node = []\n",
    "    \n",
    "    if node.name in prot:\n",
    "        if node not in unique_node:\n",
    "            \n",
    "            unique_node.append(node)\n",
    "            print(node.name)\n",
    "       \n",
    "            if isinstance(node,pybel.dsl.Abundance):\n",
    "                print(chem_attr[node])\n",
    "                \n",
    "            if isinstance(node,pybel.dsl.Protein):\n",
    "                print(prtn_attr[node])\n",
    "                \n",
    "            if isinstance(node,pybel.dsl.Protein):\n",
    "                print(bionote_attr[node])"
   ]
  },
  {
   "cell_type": "code",
   "execution_count": null,
   "id": "117ac294",
   "metadata": {},
   "outputs": [],
   "source": [
    "17*40000000*20000000"
   ]
  },
  {
   "cell_type": "code",
   "execution_count": null,
   "id": "18245ceb",
   "metadata": {},
   "outputs": [],
   "source": [
    "13600000000000000/105004"
   ]
  },
  {
   "cell_type": "code",
   "execution_count": null,
   "id": "8cb0467e",
   "metadata": {},
   "outputs": [],
   "source": [
    "129518875471/20509"
   ]
  },
  {
   "cell_type": "code",
   "execution_count": null,
   "id": "16cc64af",
   "metadata": {},
   "outputs": [],
   "source": [
    "def GetDiseaseAssociatedDrugs(disease_id,CT_phase):\n",
    "\n",
    "    efo_id = disease_id\n",
    "    size = getDrugCount(efo_id)\n",
    "\n",
    "    query_string = \"\"\"\n",
    "        query associatedTargets($my_efo_id: String!, $my_size: Int){\n",
    "          disease(efoId: $my_efo_id){\n",
    "            id\n",
    "            name\n",
    "            knownDrugs(size:$my_size){\n",
    "                uniqueTargets\n",
    "                uniqueDrugs\n",
    "                count\n",
    "                rows{\n",
    "                    approvedSymbol\n",
    "                    approvedName\n",
    "                    prefName\n",
    "                    drugType\n",
    "                    drugId\n",
    "                    phase\n",
    "                    ctIds\n",
    "                }\n",
    "\n",
    "            }\n",
    "          }\n",
    "        }\n",
    "\n",
    "    \"\"\"\n",
    "\n",
    "    #replace $efo_id with value from efo_id\n",
    "    #query_string = query_string.replace(\"$efo_id\",f'\"{efo_id}\"')\n",
    "    #query_string = query_string.replace(\"$efo_id\",f'\"{efo_id}\"')\n",
    "\n",
    "    # Set variables object of arguments to be passed to endpoint\n",
    "    variables = {\"my_efo_id\": efo_id, \"my_size\": size}\n",
    "\n",
    "    # Set base URL of GraphQL API endpoint\n",
    "    base_url = \"https://api.platform.opentargets.org/api/v4/graphql\"\n",
    "\n",
    "    # Perform POST request and check status code of response\n",
    "    r = requests.post(base_url, json={\"query\": query_string, \"variables\": variables})\n",
    "    #r = requests.post(base_url, json={\"query\": query_string})\n",
    "    #print(r.status_code)\n",
    "\n",
    "    # Transform API response from JSON into Python dictionary and print in console\n",
    "    api_response = json.loads(r.text)\n",
    "    return(api_response)\n",
    "    \n",
    "    if api_response['data']['disease']['knownDrugs']['uniqueTargets'] == 0:\n",
    "        \n",
    "        print('No drugs found in clinical trials for ' + str(api_response['data']['disease']['name']))\n",
    "        \n",
    "    else:\n",
    "    \n",
    "        df = pd.DataFrame(api_response['data']['disease']['knownDrugs']['rows'])\n",
    "        df = df.loc[df['phase'] >= int(CT_phase),:]\n",
    "\n",
    "        if not df.empty:\n",
    "            df['id'] = efo_id\n",
    "            df['disease'] = api_response['data']['disease']['name']\n",
    "            #print('Your dataframe is ready')\n",
    "            return(df)\n",
    "    \n",
    "#     else:\n",
    "#         print('No drugs found in clinical trials')\n",
    "    "
   ]
  },
  {
   "cell_type": "code",
   "execution_count": null,
   "id": "3d983db4",
   "metadata": {},
   "outputs": [],
   "source": [
    "tt = GetDiseaseAssociatedDrugs('MONDO_0008903',1)"
   ]
  },
  {
   "cell_type": "code",
   "execution_count": null,
   "id": "29ae63e9",
   "metadata": {},
   "outputs": [],
   "source": [
    "tt"
   ]
  },
  {
   "cell_type": "code",
   "execution_count": null,
   "id": "853c2b4c",
   "metadata": {},
   "outputs": [],
   "source": []
  }
 ],
 "metadata": {
  "kernelspec": {
   "display_name": "Python 3 (ipykernel)",
   "language": "python",
   "name": "python3"
  },
  "language_info": {
   "codemirror_mode": {
    "name": "ipython",
    "version": 3
   },
   "file_extension": ".py",
   "mimetype": "text/x-python",
   "name": "python",
   "nbconvert_exporter": "python",
   "pygments_lexer": "ipython3",
   "version": "3.10.4"
  }
 },
 "nbformat": 4,
 "nbformat_minor": 5
}
