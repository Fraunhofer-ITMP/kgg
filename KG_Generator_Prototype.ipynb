{
 "cells": [
  {
   "cell_type": "markdown",
   "id": "95894b68",
   "metadata": {},
   "source": [
    "# KG Generator Tool"
   ]
  },
  {
   "cell_type": "markdown",
   "id": "e6cd5418",
   "metadata": {},
   "source": [
    "## Let's get started by importing relevant libraries"
   ]
  },
  {
   "cell_type": "code",
   "execution_count": 1,
   "id": "b41fb83b",
   "metadata": {},
   "outputs": [],
   "source": [
    "import requests\n",
    "import json\n",
    "import pandas as pd\n",
    "import matplotlib.pyplot as plt\n",
    "import os\n",
    "from tqdm.auto import tqdm\n",
    "\n",
    "import pybel\n",
    "from pybel.io.jupyter import to_jupyter\n",
    "from utils import *\n",
    "from kg_gen_2 import *\n",
    "\n",
    "from IPython.display import Markdown, display"
   ]
  },
  {
   "cell_type": "markdown",
   "id": "7556a3fb",
   "metadata": {},
   "source": [
    "## Please execute following cells"
   ]
  },
  {
   "cell_type": "code",
   "execution_count": 18,
   "id": "2036d66a",
   "metadata": {
    "scrolled": false
   },
   "outputs": [
    {
     "data": {
      "image/png": "[encoded data removed]",
      "text/plain": [
       "<Figure size 432x288 with 1 Axes>"
      ]
     },
     "metadata": {
      "needs_background": "light"
     },
     "output_type": "display_data"
    },
    {
     "data": {
      "text/markdown": [
       "<span style='color:blue'>**Welcome to the KG Generator tool. In the following steps, we will need some inputs from your side.**</span>"
      ],
      "text/plain": [
       "<IPython.core.display.Markdown object>"
      ]
     },
     "metadata": {},
     "output_type": "display_data"
    },
    {
     "name": "stdout",
     "output_type": "stream",
     "text": [
      "Please enter the disease you are interested in and we will try to find the best matches for you.\n",
      "\n",
      "Input: covid\n"
     ]
    },
    {
     "data": {
      "text/html": [
       "<table border=\"1\" class=\"dataframe\">\n",
       "  <thead>\n",
       "    <tr style=\"text-align: right;\">\n",
       "      <th>index</th>\n",
       "      <th>id</th>\n",
       "      <th>name</th>\n",
       "    </tr>\n",
       "  </thead>\n",
       "  <tbody>\n",
       "    <tr>\n",
       "      <td>0</td>\n",
       "      <td>EFO_0600019</td>\n",
       "      <td>COVID-19 symptoms measurement</td>\n",
       "    </tr>\n",
       "    <tr>\n",
       "      <td>1</td>\n",
       "      <td>EFO_0600020</td>\n",
       "      <td>time to remission of COVID-19 symptoms</td>\n",
       "    </tr>\n",
       "    <tr>\n",
       "      <td>2</td>\n",
       "      <td>MONDO_0100096</td>\n",
       "      <td>COVID-19</td>\n",
       "    </tr>\n",
       "    <tr>\n",
       "      <td>3</td>\n",
       "      <td>MONDO_0026767</td>\n",
       "      <td>immunodeficiency 74, COVID-19-related, X-linked</td>\n",
       "    </tr>\n",
       "    <tr>\n",
       "      <td>4</td>\n",
       "      <td>MONDO_0020753</td>\n",
       "      <td>Orthocoronavirinae infectious disease</td>\n",
       "    </tr>\n",
       "    <tr>\n",
       "      <td>5</td>\n",
       "      <td>EFO_0803362</td>\n",
       "      <td>response to COVID-19 vaccine</td>\n",
       "    </tr>\n",
       "  </tbody>\n",
       "</table>"
      ],
      "text/plain": [
       "<IPython.core.display.HTML object>"
      ]
     },
     "metadata": {},
     "output_type": "display_data"
    },
    {
     "data": {
      "text/markdown": [
       "<span style='color:None'>**Here you go! Hopefully your disease of interest is in the list. If so, let's get started.**</span>"
      ],
      "text/plain": [
       "<IPython.core.display.Markdown object>"
      ]
     },
     "metadata": {},
     "output_type": "display_data"
    },
    {
     "name": "stdout",
     "output_type": "stream",
     "text": [
      "Please enter the index value of your disease of interest. Input: 2\n",
      "\n",
      "\n",
      "The workflow has identified your query as a viral disease. Its proteins (SWISS-Prot) will be now represented in the KG. \n",
      "\n",
      "Do you want to look further for a specific virus? Please type its name or skip it by typing 'no': no\n"
     ]
    },
    {
     "data": {
      "text/html": [
       "<table border=\"1\" class=\"dataframe\">\n",
       "  <thead>\n",
       "    <tr style=\"text-align: right;\">\n",
       "      <th>index</th>\n",
       "      <th>virus tax id</th>\n",
       "      <th>virus name</th>\n",
       "      <th>DISEASE</th>\n",
       "      <th>host tax id</th>\n",
       "    </tr>\n",
       "  </thead>\n",
       "  <tbody>\n",
       "    <tr>\n",
       "      <td>0</td>\n",
       "      <td>2697049</td>\n",
       "      <td>Severe acute respiratory syndrome coronavirus 2</td>\n",
       "      <td>COVID-19; Coronavirus disease 2019</td>\n",
       "      <td>9606</td>\n",
       "    </tr>\n",
       "  </tbody>\n",
       "</table>"
      ],
      "text/plain": [
       "<IPython.core.display.HTML object>"
      ]
     },
     "metadata": {},
     "output_type": "display_data"
    },
    {
     "name": "stdout",
     "output_type": "stream",
     "text": [
      "Enter the index value(s). If multiple, use space, for example -> 0 1 3: 0\n",
      "\n",
      "\n",
      "A total of 17 viral proteins have been identified. \n",
      "\n",
      "Please enter the clinical trial phase of chemicals which should be identified by the workflow. Use a number between 1 (early phase) and 4 (FDA approved). For example, if you use 3, the KG will fetch chemicals that are in phase 3. Also, remember that lower the input value, higher will be the number of identified chemicals and therefore the running time of workflow also increases.\n",
      "\n",
      "\n",
      "Your desired clinical trial phase: 4\n",
      "\n",
      "\n",
      "Please provide a name for you KG. Input: covid19\n",
      "\n",
      "\n",
      "We have identified 4643 proteins (Swiss-Prot) associated with the disease. Following is a histogram that shows distribution of proteins based on scores provided by OpenTargets. The scores are influenced by various factors such as genetic associations, expression, mutations, known pathways, targeting drugs and so on.\n",
      "\n",
      "Displaying top 20 genes\n"
     ]
    },
    {
     "data": {
      "text/html": [
       "<table border=\"1\" class=\"dataframe\">\n",
       "  <thead>\n",
       "    <tr style=\"text-align: right;\">\n",
       "      <th>Protein</th>\n",
       "      <th>ENSG</th>\n",
       "      <th>UniProt</th>\n",
       "      <th>Source</th>\n",
       "      <th>Score</th>\n",
       "    </tr>\n",
       "  </thead>\n",
       "  <tbody>\n",
       "    <tr>\n",
       "      <td>IFNAR2</td>\n",
       "      <td>ENSG00000159110</td>\n",
       "      <td>P48551</td>\n",
       "      <td>uniprot_swissprot</td>\n",
       "      <td>0.656034</td>\n",
       "    </tr>\n",
       "    <tr>\n",
       "      <td>TLR7</td>\n",
       "      <td>ENSG00000196664</td>\n",
       "      <td>Q9NYK1</td>\n",
       "      <td>uniprot_swissprot</td>\n",
       "      <td>0.625128</td>\n",
       "    </tr>\n",
       "    <tr>\n",
       "      <td>TLR9</td>\n",
       "      <td>ENSG00000239732</td>\n",
       "      <td>Q9NR96</td>\n",
       "      <td>uniprot_swissprot</td>\n",
       "      <td>0.621328</td>\n",
       "    </tr>\n",
       "    <tr>\n",
       "      <td>NR3C1</td>\n",
       "      <td>ENSG00000113580</td>\n",
       "      <td>P04150</td>\n",
       "      <td>uniprot_swissprot</td>\n",
       "      <td>0.609308</td>\n",
       "    </tr>\n",
       "    <tr>\n",
       "      <td>VDR</td>\n",
       "      <td>ENSG00000111424</td>\n",
       "      <td>P11473</td>\n",
       "      <td>uniprot_swissprot</td>\n",
       "      <td>0.600940</td>\n",
       "    </tr>\n",
       "    <tr>\n",
       "      <td>ACE2</td>\n",
       "      <td>ENSG00000130234</td>\n",
       "      <td>Q9BYF1</td>\n",
       "      <td>uniprot_swissprot</td>\n",
       "      <td>0.599074</td>\n",
       "    </tr>\n",
       "    <tr>\n",
       "      <td>MMP1</td>\n",
       "      <td>ENSG00000196611</td>\n",
       "      <td>P03956</td>\n",
       "      <td>uniprot_swissprot</td>\n",
       "      <td>0.597601</td>\n",
       "    </tr>\n",
       "    <tr>\n",
       "      <td>SERPINC1</td>\n",
       "      <td>ENSG00000117601</td>\n",
       "      <td>P01008</td>\n",
       "      <td>uniprot_swissprot</td>\n",
       "      <td>0.591873</td>\n",
       "    </tr>\n",
       "    <tr>\n",
       "      <td>CYP3A4</td>\n",
       "      <td>ENSG00000160868</td>\n",
       "      <td>P08684</td>\n",
       "      <td>uniprot_swissprot</td>\n",
       "      <td>0.588281</td>\n",
       "    </tr>\n",
       "    <tr>\n",
       "      <td>CYP3A5</td>\n",
       "      <td>ENSG00000106258</td>\n",
       "      <td>P20815</td>\n",
       "      <td>uniprot_swissprot</td>\n",
       "      <td>0.585229</td>\n",
       "    </tr>\n",
       "    <tr>\n",
       "      <td>MMP7</td>\n",
       "      <td>ENSG00000137673</td>\n",
       "      <td>P09237</td>\n",
       "      <td>uniprot_swissprot</td>\n",
       "      <td>0.585117</td>\n",
       "    </tr>\n",
       "    <tr>\n",
       "      <td>MMP8</td>\n",
       "      <td>ENSG00000118113</td>\n",
       "      <td>P22894</td>\n",
       "      <td>uniprot_swissprot</td>\n",
       "      <td>0.584530</td>\n",
       "    </tr>\n",
       "    <tr>\n",
       "      <td>CYP3A7</td>\n",
       "      <td>ENSG00000160870</td>\n",
       "      <td>P24462</td>\n",
       "      <td>uniprot_swissprot</td>\n",
       "      <td>0.584305</td>\n",
       "    </tr>\n",
       "    <tr>\n",
       "      <td>CYP3A43</td>\n",
       "      <td>ENSG00000021461</td>\n",
       "      <td>Q9HB55</td>\n",
       "      <td>uniprot_swissprot</td>\n",
       "      <td>0.584305</td>\n",
       "    </tr>\n",
       "    <tr>\n",
       "      <td>F10</td>\n",
       "      <td>ENSG00000126218</td>\n",
       "      <td>P00742</td>\n",
       "      <td>uniprot_swissprot</td>\n",
       "      <td>0.581895</td>\n",
       "    </tr>\n",
       "    <tr>\n",
       "      <td>MMP13</td>\n",
       "      <td>ENSG00000137745</td>\n",
       "      <td>P45452</td>\n",
       "      <td>uniprot_swissprot</td>\n",
       "      <td>0.574831</td>\n",
       "    </tr>\n",
       "    <tr>\n",
       "      <td>IL6R</td>\n",
       "      <td>ENSG00000160712</td>\n",
       "      <td>P08887</td>\n",
       "      <td>uniprot_swissprot</td>\n",
       "      <td>0.567576</td>\n",
       "    </tr>\n",
       "    <tr>\n",
       "      <td>IFNAR1</td>\n",
       "      <td>ENSG00000142166</td>\n",
       "      <td>P17181</td>\n",
       "      <td>uniprot_swissprot</td>\n",
       "      <td>0.564292</td>\n",
       "    </tr>\n",
       "    <tr>\n",
       "      <td>SDC1</td>\n",
       "      <td>ENSG00000115884</td>\n",
       "      <td>P18827</td>\n",
       "      <td>uniprot_swissprot</td>\n",
       "      <td>0.554984</td>\n",
       "    </tr>\n",
       "    <tr>\n",
       "      <td>AGTR1</td>\n",
       "      <td>ENSG00000144891</td>\n",
       "      <td>P30556</td>\n",
       "      <td>uniprot_swissprot</td>\n",
       "      <td>0.548807</td>\n",
       "    </tr>\n",
       "  </tbody>\n",
       "</table>"
      ],
      "text/plain": [
       "<IPython.core.display.HTML object>"
      ]
     },
     "metadata": {},
     "output_type": "display_data"
    },
    {
     "data": {
      "image/png": "[encoded data removed]",
      "text/plain": [
       "<Figure size 432x288 with 1 Axes>"
      ]
     },
     "metadata": {
      "needs_background": "light"
     },
     "output_type": "display_data"
    },
    {
     "name": "stdout",
     "output_type": "stream",
     "text": [
      "\n",
      "\n",
      "We recommend taking a threshold above 0.3 to exclude loosely associated proteins. \n",
      "Please enter your desired threshold: 0.5\n",
      "\n",
      "\n",
      "Alright, we are good to go now. Your KG is now being generated! Sit back and relax!!\n",
      "\n",
      " Total no. of proteins:  66\n",
      "\n",
      "      Protein             ENSG UniProt             Source     Score\n",
      "0     IFNAR2  ENSG00000159110  P48551  uniprot_swissprot  0.656034\n",
      "1       TLR7  ENSG00000196664  Q9NYK1  uniprot_swissprot  0.625128\n",
      "2       TLR9  ENSG00000239732  Q9NR96  uniprot_swissprot  0.621328\n",
      "3      NR3C1  ENSG00000113580  P04150  uniprot_swissprot  0.609308\n",
      "4        VDR  ENSG00000111424  P11473  uniprot_swissprot  0.600940\n",
      "..       ...              ...     ...                ...       ...\n",
      "61    GABRB1  ENSG00000163288  P18505  uniprot_swissprot  0.517237\n",
      "62    GABRA4  ENSG00000109158  P48169  uniprot_swissprot  0.517237\n",
      "63    SLC6A4  ENSG00000108576  P31645  uniprot_swissprot  0.515571\n",
      "64  MAP1LC3B  ENSG00000140941  Q9GZQ8  uniprot_swissprot  0.514437\n",
      "65      TBK1  ENSG00000183735  Q9UHD2  uniprot_swissprot  0.509530\n",
      "\n",
      "[66 rows x 5 columns]\n"
     ]
    },
    {
     "data": {
      "application/vnd.jupyter.widget-view+json": {
       "model_id": "aabcd3472a0d42c3937ac01048e86b40",
       "version_major": 2,
       "version_minor": 0
      },
      "text/plain": [
       "Fetching Protein-related info:   0%|          | 0/66 [00:00<?, ?it/s]"
      ]
     },
     "metadata": {},
     "output_type": "display_data"
    },
    {
     "data": {
      "application/vnd.jupyter.widget-view+json": {
       "model_id": "d82bcb23d4a5458caaffa36226e0b39c",
       "version_major": 2,
       "version_minor": 0
      },
      "text/plain": [
       "Fetching Protein-related info:   0%|          | 0/17 [00:00<?, ?it/s]"
      ]
     },
     "metadata": {},
     "output_type": "display_data"
    },
    {
     "name": "stdout",
     "output_type": "stream",
     "text": [
      "A total of 45 drugs have been identified. Now fetching relevant data\n"
     ]
    },
    {
     "data": {
      "application/vnd.jupyter.widget-view+json": {
       "model_id": "2024b7790cdc40ebbf56dfd6258c99e7",
       "version_major": 2,
       "version_minor": 0
      },
      "text/plain": [
       "Retrieving mechanisms from ChEMBL:   0%|          | 0/45 [00:00<?, ?it/s]"
      ]
     },
     "metadata": {},
     "output_type": "display_data"
    },
    {
     "data": {
      "application/vnd.jupyter.widget-view+json": {
       "model_id": "11c422f4229c4f06aed3324d5cf720be",
       "version_major": 2,
       "version_minor": 0
      },
      "text/plain": [
       "Retrieving bioassays from ChEMBL:   0%|          | 0/45 [00:00<?, ?it/s]"
      ]
     },
     "metadata": {},
     "output_type": "display_data"
    },
    {
     "data": {
      "application/vnd.jupyter.widget-view+json": {
       "model_id": "0d19105c5974443a9f6bed3a0bbb2465",
       "version_major": 2,
       "version_minor": 0
      },
      "text/plain": [
       "Filtering UniProt proteins from ChEMBL:   0%|          | 0/84 [00:00<?, ?it/s]"
      ]
     },
     "metadata": {},
     "output_type": "display_data"
    },
    {
     "data": {
      "application/vnd.jupyter.widget-view+json": {
       "model_id": "4c568ea75eb047e5af08e4458f3f652c",
       "version_major": 2,
       "version_minor": 0
      },
      "text/plain": [
       "Filtering human proteins from ChEMBL:   0%|          | 0/83 [00:00<?, ?it/s]"
      ]
     },
     "metadata": {},
     "output_type": "display_data"
    },
    {
     "data": {
      "application/vnd.jupyter.widget-view+json": {
       "model_id": "e94eda2bf18d45908c620f7503ea52a4",
       "version_major": 2,
       "version_minor": 0
      },
      "text/plain": [
       "Populating ChEMBL data for human proteins:   0%|          | 0/83 [00:00<?, ?it/s]"
      ]
     },
     "metadata": {},
     "output_type": "display_data"
    },
    {
     "data": {
      "application/vnd.jupyter.widget-view+json": {
       "model_id": "b7905f0a1ca74a9e9ee5b189dd58c6c1",
       "version_major": 2,
       "version_minor": 0
      },
      "text/plain": [
       "Populating Uniprot edges:   0%|          | 0/66 [00:00<?, ?it/s]"
      ]
     },
     "metadata": {},
     "output_type": "display_data"
    },
    {
     "data": {
      "application/vnd.jupyter.widget-view+json": {
       "model_id": "3bd8491559d941beaca8805b6ceb83d1",
       "version_major": 2,
       "version_minor": 0
      },
      "text/plain": [
       "Populating Uniprot edges:   0%|          | 0/17 [00:00<?, ?it/s]"
      ]
     },
     "metadata": {},
     "output_type": "display_data"
    },
    {
     "data": {
      "application/vnd.jupyter.widget-view+json": {
       "model_id": "b0da3c6507a9434f9f619061c0cfe047",
       "version_major": 2,
       "version_minor": 0
      },
      "text/plain": [
       "Populating Chemical-MoA edges:   0%|          | 0/37 [00:00<?, ?it/s]"
      ]
     },
     "metadata": {},
     "output_type": "display_data"
    },
    {
     "data": {
      "application/vnd.jupyter.widget-view+json": {
       "model_id": "dd5f216e5c4845e1af3bac11bf5d0a5a",
       "version_major": 2,
       "version_minor": 0
      },
      "text/plain": [
       "Adding bioassay edges to BEL:   0%|          | 0/22 [00:00<?, ?it/s]"
      ]
     },
     "metadata": {},
     "output_type": "display_data"
    },
    {
     "data": {
      "application/vnd.jupyter.widget-view+json": {
       "model_id": "dac5183b92514930b3c5e61ff91cb068",
       "version_major": 2,
       "version_minor": 0
      },
      "text/plain": [
       "Retrieving Adverse Effects for each drug:   0%|          | 0/45 [00:00<?, ?it/s]"
      ]
     },
     "metadata": {},
     "output_type": "display_data"
    },
    {
     "name": "stdout",
     "output_type": "stream",
     "text": [
      "Your KG is now generated! \n",
      "\n",
      "Now let's save all the files that were created in the process. \n",
      "\n",
      "Please enter the location (e.g. 'C:\\Users\\rkarki\\Documents\\kg\\' ) where KG files should be stored. A folder will be created automatically. \n",
      "\n",
      "Input: C:\\Users\\reagon.karki\\Documents\\GitHub\\kgg\\data\\kgs\\viral diseases\\\n"
     ]
    },
    {
     "data": {
      "image/png": "[encoded data removed]",
      "text/plain": [
       "<Figure size 432x288 with 1 Axes>"
      ]
     },
     "metadata": {
      "needs_background": "light"
     },
     "output_type": "display_data"
    }
   ],
   "source": [
    "kg = createKG()"
   ]
  },
  {
   "cell_type": "code",
   "execution_count": null,
   "id": "8b36d40f",
   "metadata": {
    "scrolled": false
   },
   "outputs": [],
   "source": [
    "kg.summarize"
   ]
  },
  {
   "cell_type": "code",
   "execution_count": null,
   "id": "eb82d4c6",
   "metadata": {},
   "outputs": [],
   "source": [
    "to_jupyter(kg)"
   ]
  },
  {
   "cell_type": "code",
   "execution_count": null,
   "id": "9cbd4014",
   "metadata": {},
   "outputs": [],
   "source": [
    "KG_namespace_plot(kg)"
   ]
  }
 ],
 "metadata": {
  "kernelspec": {
   "display_name": "Python 3 (ipykernel)",
   "language": "python",
   "name": "python3"
  },
  "language_info": {
   "codemirror_mode": {
    "name": "ipython",
    "version": 3
   },
   "file_extension": ".py",
   "mimetype": "text/x-python",
   "name": "python",
   "nbconvert_exporter": "python",
   "pygments_lexer": "ipython3",
   "version": "3.10.4"
  }
 },
 "nbformat": 4,
 "nbformat_minor": 5
}
